{
 "cells": [
  {
   "cell_type": "code",
   "execution_count": 1,
   "metadata": {},
   "outputs": [],
   "source": [
    "import random\n",
    "\n",
    "import torch\n",
    "from torch import ge, le\n",
    "from torch.nn import MSELoss\n",
    "from torch.optim import Adam\n",
    "from torch.utils.tensorboard import SummaryWriter\n",
    "\n",
    "from congrads.checkpoints import CheckpointManager\n",
    "from congrads.constraints import Constraint, ScalarConstraint, SumConstraint\n",
    "from congrads.core import CongradsCore\n",
    "from congrads.datasets import FamilyIncome\n",
    "from congrads.descriptor import Descriptor\n",
    "from congrads.metrics import MetricManager\n",
    "from congrads.networks import MLPNetwork\n",
    "from congrads.transformations import DenormalizeMinMax\n",
    "from congrads.utils import (\n",
    "    CSVLogger,\n",
    "    preprocess_FamilyIncome,\n",
    "    split_data_loaders,\n",
    ")"
   ]
  },
  {
   "cell_type": "code",
   "execution_count": null,
   "metadata": {},
   "outputs": [],
   "source": [
    "# Set seed for reproducibility\n",
    "random.seed(42)\n",
    "seeds = []\n",
    "for i in range(3):\n",
    "    seeds.append(random.randint(10, 10**6))\n",
    "torch.manual_seed(seeds[0])\n",
    "torch.cuda.manual_seed(seeds[1])\n",
    "torch.cuda.manual_seed_all(seeds[2])"
   ]
  },
  {
   "cell_type": "code",
   "execution_count": 3,
   "metadata": {},
   "outputs": [],
   "source": [
    "# CUDA for PyTorch\n",
    "use_cuda = torch.cuda.is_available()\n",
    "device = torch.device(\"cuda:0\" if use_cuda else \"cpu\")\n",
    "torch.backends.cudnn.benchmark = True"
   ]
  },
  {
   "cell_type": "code",
   "execution_count": null,
   "metadata": {},
   "outputs": [],
   "source": [
    "# Load and preprocess data\n",
    "data = FamilyIncome(\"./datasets\", preprocess_FamilyIncome, download=True)\n",
    "loaders = split_data_loaders(\n",
    "    data,\n",
    "    loader_args={\n",
    "        \"batch_size\": 100,\n",
    "        \"shuffle\": True,\n",
    "        \"num_workers\": 6,\n",
    "        \"prefetch_factor\": 2,\n",
    "    },\n",
    "    valid_loader_args={\"shuffle\": False},\n",
    "    test_loader_args={\"shuffle\": False},\n",
    ")"
   ]
  },
  {
   "cell_type": "code",
   "execution_count": 5,
   "metadata": {},
   "outputs": [],
   "source": [
    "# Instantiate network and push to correct device\n",
    "network = MLPNetwork(\n",
    "    n_inputs=24, n_outputs=8, n_hidden_layers=6, hidden_dim=80\n",
    ")\n",
    "network = network.to(device)"
   ]
  },
  {
   "cell_type": "code",
   "execution_count": 6,
   "metadata": {},
   "outputs": [],
   "source": [
    "# Instantiate loss and optimizer\n",
    "criterion = MSELoss()\n",
    "optimizer = Adam(network.parameters(), lr=0.0001)"
   ]
  },
  {
   "cell_type": "code",
   "execution_count": 7,
   "metadata": {},
   "outputs": [],
   "source": [
    "# Descriptor setup\n",
    "descriptor = Descriptor()\n",
    "descriptor.add(\"input\", 0, \"Total Household Income\", constant=True)\n",
    "descriptor.add(\"output\", 0, \"Total Food Expenditure\")\n",
    "descriptor.add(\"output\", 1, \"Bread and Cereals Expenditure\")\n",
    "descriptor.add(\"output\", 2, \"Meat Expenditure\")\n",
    "descriptor.add(\"output\", 3, \"Vegetables Expenditure\")\n",
    "descriptor.add(\"output\", 4, \"Housing and water Expenditure\")\n",
    "descriptor.add(\"output\", 5, \"Medical Care Expenditure\")\n",
    "descriptor.add(\"output\", 6, \"Communication Expenditure\")\n",
    "descriptor.add(\"output\", 7, \"Education Expenditure\")"
   ]
  },
  {
   "cell_type": "code",
   "execution_count": 8,
   "metadata": {},
   "outputs": [],
   "source": [
    "# Constraints definition\n",
    "Constraint.descriptor = descriptor\n",
    "Constraint.device = device\n",
    "constraints = [\n",
    "    ScalarConstraint(\n",
    "        \"Total Food Expenditure\",\n",
    "        ge,\n",
    "        0,\n",
    "    ),\n",
    "    ScalarConstraint(\"Total Food Expenditure\", le, 1),\n",
    "    ScalarConstraint(\"Bread and Cereals Expenditure\", ge, 0),\n",
    "    ScalarConstraint(\"Bread and Cereals Expenditure\", le, 1),\n",
    "    ScalarConstraint(\"Meat Expenditure\", ge, 0),\n",
    "    ScalarConstraint(\"Meat Expenditure\", le, 1),\n",
    "    ScalarConstraint(\"Vegetables Expenditure\", ge, 0),\n",
    "    ScalarConstraint(\"Vegetables Expenditure\", le, 1),\n",
    "    ScalarConstraint(\"Housing and water Expenditure\", ge, 0),\n",
    "    ScalarConstraint(\"Housing and water Expenditure\", le, 1),\n",
    "    ScalarConstraint(\"Medical Care Expenditure\", ge, 0),\n",
    "    ScalarConstraint(\"Medical Care Expenditure\", le, 1),\n",
    "    ScalarConstraint(\"Communication Expenditure\", ge, 0),\n",
    "    ScalarConstraint(\"Communication Expenditure\", le, 1),\n",
    "    ScalarConstraint(\"Education Expenditure\", ge, 0),\n",
    "    ScalarConstraint(\"Education Expenditure\", le, 1),\n",
    "    SumConstraint(\n",
    "        [\n",
    "            DenormalizeMinMax(\n",
    "                \"Total Food Expenditure\", min=3704, max=791848\n",
    "            ),\n",
    "        ],\n",
    "        ge,\n",
    "        [\n",
    "            DenormalizeMinMax(\n",
    "                \"Bread and Cereals Expenditure\", min=0, max=437467\n",
    "            ),\n",
    "            DenormalizeMinMax(\"Meat Expenditure\", min=0, max=140992),\n",
    "            DenormalizeMinMax(\"Vegetables Expenditure\", min=0, max=74800),\n",
    "        ],\n",
    "    ),\n",
    "    SumConstraint(\n",
    "        [\n",
    "            DenormalizeMinMax(\n",
    "                \"Total Household Income\", min=11285, max=11815988\n",
    "            ),\n",
    "        ],\n",
    "        ge,\n",
    "        [\n",
    "            DenormalizeMinMax(\n",
    "                \"Total Food Expenditure\", min=3704, max=791848\n",
    "            ),\n",
    "            DenormalizeMinMax(\n",
    "                \"Housing and water Expenditure\", min=1950, max=2188560\n",
    "            ),\n",
    "            DenormalizeMinMax(\n",
    "                \"Medical Care Expenditure\", min=0, max=1049275\n",
    "            ),\n",
    "            DenormalizeMinMax(\n",
    "                \"Communication Expenditure\", min=0, max=149940\n",
    "            ),\n",
    "            DenormalizeMinMax(\"Education Expenditure\", min=0, max=731000),\n",
    "        ],\n",
    "    ),\n",
    "]"
   ]
  },
  {
   "cell_type": "code",
   "execution_count": 9,
   "metadata": {},
   "outputs": [],
   "source": [
    "# Initialize metric manager\n",
    "metric_manager = MetricManager()"
   ]
  },
  {
   "cell_type": "code",
   "execution_count": 10,
   "metadata": {},
   "outputs": [],
   "source": [
    "# Instantiate core\n",
    "core = CongradsCore(\n",
    "    descriptor,\n",
    "    constraints,\n",
    "    loaders,\n",
    "    network,\n",
    "    criterion,\n",
    "    optimizer,\n",
    "    metric_manager,\n",
    "    device,\n",
    ")"
   ]
  },
  {
   "cell_type": "code",
   "execution_count": 11,
   "metadata": {},
   "outputs": [],
   "source": [
    "# Set up metric logging\n",
    "csv_logger = CSVLogger(\"logs/BiasCorrection.csv\")\n",
    "\n",
    "def on_epoch_end(epoch: int):\n",
    "    # Log metric values to TensorBoard and CSV file\n",
    "    for name, value in metric_manager.aggregate(\"during_training\").items():\n",
    "        csv_logger.add_value(name, value.item(), epoch)\n",
    "\n",
    "    # Write changes to disk\n",
    "    csv_logger.save()\n",
    "\n",
    "    # Reset metric manager\n",
    "    metric_manager.reset(\"during_training\")\n",
    "\n",
    "def on_train_end(epoch: int):\n",
    "    # Log metric values to TensorBoard and CSV file\n",
    "    for name, value in metric_manager.aggregate(\"after_training\").items():\n",
    "        csv_logger.add_value(name, value.item(), epoch)\n",
    "\n",
    "    # Write changes to disk\n",
    "    csv_logger.save()\n",
    "\n",
    "    # Reset metric manager\n",
    "    metric_manager.reset(\"after_training\")"
   ]
  },
  {
   "cell_type": "code",
   "execution_count": null,
   "metadata": {},
   "outputs": [],
   "source": [
    "# Start training\n",
    "core.fit(\n",
    "    start_epoch=0,\n",
    "    max_epochs=50,\n",
    "    on_epoch_end=on_epoch_end,\n",
    "    on_train_end=on_train_end,\n",
    ")"
   ]
  }
 ],
 "metadata": {
  "kernelspec": {
   "display_name": "Python 3",
   "language": "python",
   "name": "python3"
  },
  "language_info": {
   "codemirror_mode": {
    "name": "ipython",
    "version": 3
   },
   "file_extension": ".py",
   "mimetype": "text/x-python",
   "name": "python",
   "nbconvert_exporter": "python",
   "pygments_lexer": "ipython3",
   "version": "3.11.10"
  }
 },
 "nbformat": 4,
 "nbformat_minor": 2
}
