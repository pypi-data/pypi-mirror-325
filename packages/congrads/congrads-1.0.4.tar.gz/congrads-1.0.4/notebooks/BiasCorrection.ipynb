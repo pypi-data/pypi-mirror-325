{
 "cells": [
  {
   "cell_type": "code",
   "execution_count": 1,
   "metadata": {},
   "outputs": [],
   "source": [
    "import random\n",
    "\n",
    "import torch\n",
    "from torch import ge, gt, le\n",
    "from torch.nn import MSELoss\n",
    "from torch.optim import Adam\n",
    "from torch.utils.tensorboard import SummaryWriter\n",
    "\n",
    "from congrads.checkpoints import CheckpointManager\n",
    "from congrads.constraints import BinaryConstraint, Constraint, ScalarConstraint\n",
    "from congrads.core import CongradsCore\n",
    "from congrads.datasets import BiasCorrection\n",
    "from congrads.descriptor import Descriptor\n",
    "from congrads.metrics import MetricManager\n",
    "from congrads.networks import MLPNetwork\n",
    "from congrads.utils import (\n",
    "    CSVLogger,\n",
    "    preprocess_BiasCorrection,\n",
    "    split_data_loaders,\n",
    ")"
   ]
  },
  {
   "cell_type": "code",
   "execution_count": null,
   "metadata": {},
   "outputs": [],
   "source": [
    "# Set seed for reproducibility\n",
    "random.seed(42)\n",
    "seeds = []\n",
    "for i in range(3):\n",
    "    seeds.append(random.randint(10, 10**6))\n",
    "torch.manual_seed(seeds[0])\n",
    "torch.cuda.manual_seed(seeds[1])\n",
    "torch.cuda.manual_seed_all(seeds[2])"
   ]
  },
  {
   "cell_type": "code",
   "execution_count": 3,
   "metadata": {},
   "outputs": [],
   "source": [
    "# CUDA for PyTorch\n",
    "use_cuda = torch.cuda.is_available()\n",
    "device = torch.device(\"cuda:0\" if use_cuda else \"cpu\")\n",
    "torch.backends.cudnn.benchmark = True"
   ]
  },
  {
   "cell_type": "code",
   "execution_count": null,
   "metadata": {},
   "outputs": [],
   "source": [
    "# Load and preprocess data\n",
    "data = BiasCorrection(\n",
    "    \"./datasets\", preprocess_BiasCorrection, download=True\n",
    ")\n",
    "loaders = split_data_loaders(\n",
    "    data,\n",
    "    loader_args={\n",
    "        \"batch_size\": 100,\n",
    "        \"shuffle\": True,\n",
    "        \"num_workers\": 6,\n",
    "        \"prefetch_factor\": 2,\n",
    "    },\n",
    "    valid_loader_args={\"shuffle\": False},\n",
    "    test_loader_args={\"shuffle\": False},\n",
    ")"
   ]
  },
  {
   "cell_type": "code",
   "execution_count": 5,
   "metadata": {},
   "outputs": [],
   "source": [
    "# Instantiate network and push to correct device\n",
    "network = MLPNetwork(25, 2, n_hidden_layers=3, hidden_dim=35)\n",
    "network = network.to(device)"
   ]
  },
  {
   "cell_type": "code",
   "execution_count": 6,
   "metadata": {},
   "outputs": [],
   "source": [
    "# Instantiate loss and optimizer\n",
    "criterion = MSELoss()\n",
    "optimizer = Adam(network.parameters(), lr=0.001)"
   ]
  },
  {
   "cell_type": "code",
   "execution_count": 7,
   "metadata": {},
   "outputs": [],
   "source": [
    "# Descriptor setup\n",
    "descriptor = Descriptor()\n",
    "descriptor.add(\"output\", 0, \"Tmax\")\n",
    "descriptor.add(\"output\", 1, \"Tmin\")"
   ]
  },
  {
   "cell_type": "code",
   "execution_count": 8,
   "metadata": {},
   "outputs": [],
   "source": [
    "# Constraints definition\n",
    "Constraint.descriptor = descriptor\n",
    "Constraint.device = device\n",
    "constraints = [\n",
    "    ScalarConstraint(\"Tmin\", ge, 0),\n",
    "    ScalarConstraint(\"Tmin\", le, 1),\n",
    "    ScalarConstraint(\"Tmax\", ge, 0),\n",
    "    ScalarConstraint(\"Tmax\", le, 1),\n",
    "    BinaryConstraint(\"Tmax\", gt, \"Tmin\"),\n",
    "]"
   ]
  },
  {
   "cell_type": "code",
   "execution_count": 9,
   "metadata": {},
   "outputs": [],
   "source": [
    "# Initialize metric manager\n",
    "metric_manager = MetricManager()"
   ]
  },
  {
   "cell_type": "code",
   "execution_count": 10,
   "metadata": {},
   "outputs": [],
   "source": [
    "# Instantiate core\n",
    "core = CongradsCore(\n",
    "    descriptor,\n",
    "    constraints,\n",
    "    loaders,\n",
    "    network,\n",
    "    criterion,\n",
    "    optimizer,\n",
    "    metric_manager,\n",
    "    device,\n",
    ")"
   ]
  },
  {
   "cell_type": "code",
   "execution_count": 11,
   "metadata": {},
   "outputs": [],
   "source": [
    "# Set up metric logging\n",
    "csv_logger = CSVLogger(\"logs/BiasCorrection.csv\")\n",
    "\n",
    "def on_epoch_end(epoch: int):\n",
    "    # Log metric values to TensorBoard and CSV file\n",
    "    for name, value in metric_manager.aggregate(\"during_training\").items():\n",
    "        csv_logger.add_value(name, value.item(), epoch)\n",
    "\n",
    "    # Write changes to disk\n",
    "    csv_logger.save()\n",
    "\n",
    "    # Reset metric manager\n",
    "    metric_manager.reset(\"during_training\")\n",
    "\n",
    "def on_train_end(epoch: int):\n",
    "    # Log metric values to TensorBoard and CSV file\n",
    "    for name, value in metric_manager.aggregate(\"after_training\").items():\n",
    "        csv_logger.add_value(name, value.item(), epoch)\n",
    "\n",
    "    # Write changes to disk\n",
    "    csv_logger.save()\n",
    "\n",
    "    # Reset metric manager\n",
    "    metric_manager.reset(\"after_training\")"
   ]
  },
  {
   "cell_type": "code",
   "execution_count": null,
   "metadata": {},
   "outputs": [],
   "source": [
    "# Start training\n",
    "core.fit(\n",
    "    start_epoch=0,\n",
    "    max_epochs=5,\n",
    "    on_epoch_end=on_epoch_end,\n",
    "    on_train_end=on_train_end,\n",
    ")"
   ]
  }
 ],
 "metadata": {
  "kernelspec": {
   "display_name": "Python 3",
   "language": "python",
   "name": "python3"
  },
  "language_info": {
   "codemirror_mode": {
    "name": "ipython",
    "version": 3
   },
   "file_extension": ".py",
   "mimetype": "text/x-python",
   "name": "python",
   "nbconvert_exporter": "python",
   "pygments_lexer": "ipython3",
   "version": "3.11.10"
  }
 },
 "nbformat": 4,
 "nbformat_minor": 2
}
