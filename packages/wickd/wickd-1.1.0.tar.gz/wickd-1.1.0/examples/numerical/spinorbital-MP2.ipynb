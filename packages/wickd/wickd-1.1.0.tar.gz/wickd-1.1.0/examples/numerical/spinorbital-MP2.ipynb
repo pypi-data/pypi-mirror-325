{
  "cells": [
    {
      "cell_type": "markdown",
      "id": "81579bfa",
      "metadata": {},
      "source": [
        "# MP2 theory for a closed-shell reference\n",
        "\n",
        "In this notebook we will use wickd to generate equations for the MP2 method using an orbital-invariant formalism"
      ]
    },
    {
      "cell_type": "code",
      "execution_count": 1,
      "id": "23b10ee4",
      "metadata": {},
      "outputs": [],
      "source": [
        "import time\n",
        "import wickd as w\n",
        "import numpy as np\n",
        "from examples_helpers import *"
      ]
    },
    {
      "cell_type": "markdown",
      "id": "5a2a1c3c",
      "metadata": {},
      "source": [
        "## Read calculation information (integrals, number of orbitals)\n",
        "\n",
        "We start by reading information about the reference state, integrals, and denominators from the file `sr-h6-sto-3g.npy`. The variable `H` is a dictionary that holds the blocks of the Hamiltonian **normal-ordered** with respect to the Hartree–Fock determinant. `invD` similarly is a dictionary that stores the denominators $(\\epsilon_i + \\epsilon_j + \\ldots - \\epsilon_a - \\epsilon_b - \\ldots)^{-1}$."
      ]
    },
    {
      "cell_type": "code",
      "execution_count": 2,
      "id": "e00b1627",
      "metadata": {},
      "outputs": [],
      "source": [
        "molecule = \"sr-h6-sto-3g\"\n",
        "\n",
        "with open(f\"{molecule}.npy\", \"rb\") as f:\n",
        "    Eref = np.load(f)\n",
        "    nocc, nvir = np.load(f)\n",
        "    H = np.load(f, allow_pickle=True).item()\n",
        "\n",
        "invD = compute_inverse_denominators(H, nocc, nvir, 2)"
      ]
    },
    {
      "cell_type": "code",
      "execution_count": 3,
      "id": "83ee41fd",
      "metadata": {},
      "outputs": [],
      "source": [
        "import wickd as w\n",
        "\n",
        "w.reset_space()\n",
        "w.add_space(\"o\", \"fermion\", \"occupied\", [\"i\", \"j\", \"k\", \"l\", \"m\", \"n\"])\n",
        "w.add_space(\"v\", \"fermion\", \"unoccupied\", [\"a\", \"b\", \"c\", \"d\", \"e\", \"f\"])"
      ]
    },
    {
      "cell_type": "markdown",
      "id": "b0800fef",
      "metadata": {},
      "source": [
        "Here we define the operator and derive the residual equations"
      ]
    },
    {
      "cell_type": "code",
      "execution_count": 4,
      "id": "c423a60a",
      "metadata": {},
      "outputs": [
        {
          "name": "stdout",
          "output_type": "stream",
          "text": [
            "Defined the function:\n",
            "\n",
            "def evaluate_residual(F0,T2,V):\n",
            "    # contributions to the residual\n",
            "    Roovv = np.zeros((nocc,nocc,nvir,nvir))\n",
            "    Roovv += 0.500000000 * np.einsum(\"ik,jkab->ijab\",F0[\"oo\"],T2[\"oovv\"],optimize=\"optimal\")\n",
            "    Roovv += -0.500000000 * np.einsum(\"ca,ijbc->ijab\",F0[\"vv\"],T2[\"oovv\"],optimize=\"optimal\")\n",
            "    Roovv += 0.250000000 * np.einsum(\"ijab->ijab\",V[\"oovv\"],optimize=\"optimal\")\n",
            "    return Roovv\n",
            "\n"
          ]
        }
      ],
      "source": [
        "T2op = w.op(\"T2\", [\"v+ v+ o o\"])\n",
        "F0op = w.op(\"F0\", [\"o+ o\", \"v+ v\"])\n",
        "F1op = w.op(\"F1\", [\"o+ v\", \"v+ o\"])\n",
        "V1op = w.utils.gen_op(\"V\", 2, \"ov\", \"ov\")\n",
        "\n",
        "wt = w.WickTheorem()\n",
        "\n",
        "expr = wt.contract(w.commutator(F0op, T2op), 0, 4)\n",
        "expr += wt.contract(V1op, 0, 4)\n",
        "\n",
        "mbeq = expr.to_manybody_equation(\"R\")\n",
        "\n",
        "# code generation\n",
        "code = [\n",
        "    \"def evaluate_residual(F0,T2,V):\",\n",
        "    \"    # contributions to the residual\",\n",
        "    \"    Roovv = np.zeros((nocc,nocc,nvir,nvir))\",\n",
        "]\n",
        "for eq in mbeq[\"oo|vv\"]:\n",
        "    contraction = eq.compile(\"einsum\")\n",
        "    code.append(f\"    {contraction}\")\n",
        "code.append(f\"    return Roovv\")\n",
        "\n",
        "funct = \"\\n\".join(code)\n",
        "\n",
        "print(f\"Defined the function:\\n\\n{funct}\\n\")\n",
        "exec(funct)"
      ]
    },
    {
      "cell_type": "code",
      "execution_count": 6,
      "id": "9bc86ae2",
      "metadata": {},
      "outputs": [],
      "source": [
        "def antisymmetrize_residual(Roovv):\n",
        "    # antisymmetrize the residual\n",
        "    Roovv_anti = np.zeros((nocc, nocc, nvir, nvir))\n",
        "    Roovv_anti += np.einsum(\"ijab->ijab\", Roovv)\n",
        "    Roovv_anti -= np.einsum(\"ijab->jiab\", Roovv)\n",
        "    Roovv_anti -= np.einsum(\"ijab->ijba\", Roovv)\n",
        "    Roovv_anti += np.einsum(\"ijab->jiba\", Roovv)\n",
        "    return Roovv_anti\n",
        "\n",
        "\n",
        "def update_amplitudes_mp2(T2, R, invD):\n",
        "    T2[\"oovv\"] += np.einsum(\"ijab,ijab->ijab\", R, invD[\"oovv\"])\n",
        "\n",
        "\n",
        "def compute_energy(T2, V):\n",
        "    energy = 0.25 * np.einsum(\"ijab,ijab->\", V[\"oovv\"], T2[\"oovv\"])\n",
        "    return energy"
      ]
    },
    {
      "cell_type": "code",
      "execution_count": 7,
      "id": "b1183237",
      "metadata": {},
      "outputs": [
        {
          "name": "stdout",
          "output_type": "stream",
          "text": [
            "-----------------------------------------------------------\n",
            "Iter.     Energy [Eh]    Corr. energy [Eh]       |R|       \n",
            "-----------------------------------------------------------\n",
            "  0    -3.177666602972    -0.066236921094    7.023516e-01\n",
            "  1    -3.177666602971    -0.066236921093    2.950658e-10\n",
            "-----------------------------------------------------------\n",
            "MP2 corr. energy: -0.066236921093 Eh\n",
            "MP2 corr. energy: -0.066236921189 Eh\n",
            "Err corr. energy: +0.000000000096 Eh\n"
          ]
        }
      ],
      "source": [
        "Emp2 = -0.06623692118909  # reference value from psi4\n",
        "\n",
        "T2 = {}\n",
        "T2[\"oovv\"] = np.zeros((nocc, nocc, nvir, nvir))\n",
        "\n",
        "F0 = {\"oo\": H[\"oo\"], \"vv\": H[\"vv\"]}\n",
        "\n",
        "header = \"Iter.     Energy [Eh]    Corr. energy [Eh]       |R|       \"\n",
        "print(\"-\" * len(header))\n",
        "print(header)\n",
        "print(\"-\" * len(header))\n",
        "\n",
        "start = time.perf_counter()\n",
        "\n",
        "maxiter = 10\n",
        "for i in range(maxiter):\n",
        "    Roovv = evaluate_residual(F0, T2, H)\n",
        "    Roovv = antisymmetrize_residual(Roovv)\n",
        "    update_amplitudes_mp2(T2, Roovv, invD)\n",
        "    Emp2_wickd = compute_energy(T2, H)\n",
        "    Etot_w = Eref + Emp2_wickd\n",
        "\n",
        "    # check for convergence\n",
        "    norm_R = np.linalg.norm(Roovv)\n",
        "    print(f\"{i:3d}    {Etot_w:+.12f}    {Emp2_wickd:+.12f}    {norm_R:e}\")\n",
        "    if norm_R < 1.0e-9:\n",
        "        break\n",
        "\n",
        "end = time.perf_counter()\n",
        "t = end - start\n",
        "\n",
        "print(\"-\" * len(header))\n",
        "\n",
        "print(f\"MP2 corr. energy: {Emp2_wickd:+.12f} Eh\")\n",
        "print(f\"MP2 corr. energy: {Emp2:+.12f} Eh (psi4)\")\n",
        "print(f\"Err corr. energy: {Emp2_wickd - Emp2:+.12f} Eh\")\n",
        "\n",
        "assert np.isclose(Emp2_wickd, Emp2)"
      ]
    }
  ],
  "metadata": {
    "kernelspec": {
      "display_name": "Python 3 (ipykernel)",
      "language": "python",
      "name": "python3"
    },
    "language_info": {
      "codemirror_mode": {
        "name": "ipython",
        "version": 3
      },
      "file_extension": ".py",
      "mimetype": "text/x-python",
      "name": "python",
      "nbconvert_exporter": "python",
      "pygments_lexer": "ipython3",
      "version": "3.9.12"
    }
  },
  "nbformat": 4,
  "nbformat_minor": 5
}
