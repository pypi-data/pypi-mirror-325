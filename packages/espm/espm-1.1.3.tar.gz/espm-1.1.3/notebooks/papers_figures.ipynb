{
 "cells": [
  {
   "cell_type": "code",
   "execution_count": null,
   "metadata": {},
   "outputs": [],
   "source": [
    "from espm.weights import generate_weights as gw\n",
    "from espm.models import generate_EDXS_phases as edx\n",
    "from espm.datasets import base as gen\n",
    "from espm.conf import DATASETS_PATH\n",
    "from espm.estimators.smooth_nmf import SmoothNMF\n",
    "from espm.measures import find_min_config\n",
    "from sklearn.decomposition import NMF\n",
    "import matplotlib.pyplot as plt\n",
    "import numpy as np\n",
    "import hyperspy.api as hs\n",
    "from mpl_toolkits.axes_grid1.anchored_artists import AnchoredSizeBar\n",
    "from espm.utils import rescaled_DH"
   ]
  },
  {
   "attachments": {},
   "cell_type": "markdown",
   "metadata": {},
   "source": [
    "# Generate the distribution of phases\n",
    "\n",
    "The generated phases are two spherical particles embedded in a matrix material. The seed was chosen so that both particles are fully inside the field of view and there is some small overlap between the particles."
   ]
  },
  {
   "cell_type": "code",
   "execution_count": 2,
   "metadata": {},
   "outputs": [],
   "source": [
    "spheres = gw.generate_weights(\"sphere\", [128,128],3,6549, radius =25.0)"
   ]
  },
  {
   "attachments": {},
   "cell_type": "markdown",
   "metadata": {},
   "source": [
    "## Plot the distribution of the phases"
   ]
  },
  {
   "cell_type": "code",
   "execution_count": null,
   "metadata": {},
   "outputs": [],
   "source": [
    "fig, ax = plt.subplots(1,3,figsize=(15,5))\n",
    "cax = fig.add_axes([0.15, 0.1, 0.2, 0.03])\n",
    "for i,weight in enumerate(spheres.T):\n",
    "    im = ax[i].imshow(weight[:,:], cmap = 'hot', vmin = 0.0, vmax = 1.0)\n",
    "    ax[i].set_title(\"Map of phase {}\".format(i+1))\n",
    "    ax[i].tick_params(axis='both', which='both', bottom=False, top=False, labelbottom=False, right=False, left=False, labelleft=False)\n",
    "fig.colorbar(im, cax=cax, orientation='horizontal')"
   ]
  },
  {
   "attachments": {},
   "cell_type": "markdown",
   "metadata": {},
   "source": [
    "# Generate the spectra of the phases\n",
    "\n",
    "The matrix corresponds to a pseudo-bridgmanite while the two other phases correspond to pseudo-Ca-perovsite and pseudo-ferropericlase."
   ]
  },
  {
   "cell_type": "code",
   "execution_count": 4,
   "metadata": {},
   "outputs": [],
   "source": [
    "elts_dicts = [\n",
    "    {\n",
    "        \"Mg\" : 0.245, \"Fe\" : 0.035, \"Ca\" : 0.031, \"Si\" : 0.219, \"Al\" : 0.024, \"O\" : 0.436, \"Cu\" : 0.05, \"Hf\" : 0.01\n",
    "    },\n",
    "    {\n",
    "        \"Mg\" : 0.522, \"Fe\" : 0.104, \"O\" : 0.374, \"Cu\" : 0.05\n",
    "    },\n",
    "    {\n",
    "        \"Mg\" : 0.020, \"Fe\" : 0.018, \"Ca\" : 0.188, \"Si\" : 0.173, \"Al\" : 0.010, \"O\" : 0.572, \"Ti\" : 0.004, \"Cu\" : 0.05, \"Sm\" : 0.007, \"Lu\" : 0.006, \"Nd\" : 0.006 \n",
    "    }]\n",
    "\n",
    "brstlg_pars = [\n",
    "    {\"b0\" : 0.0003458, \"b1\" : 0.0006268},\n",
    "    {\"b0\" : 0.0001629, \"b1\" : 0.0009812},\n",
    "    {\"b0\" : 0.0007853, \"b1\" : 0.0003658}\n",
    "]\n",
    "\n",
    "model_params = {\n",
    "        \"e_offset\" : 0.3,\n",
    "        \"e_size\" : 1980,\n",
    "        \"e_scale\" : 0.01,\n",
    "        \"width_slope\" : 0.01,\n",
    "        \"width_intercept\" : 0.065,\n",
    "        \"db_name\" : \"200keV_xrays.json\",\n",
    "        \"E0\" : 200,\n",
    "        \"params_dict\" : {\n",
    "            \"Abs\" : {\n",
    "                \"thickness\" : 100.0e-7,\n",
    "                \"toa\" : 35,\n",
    "                \"density\" : 4.5,\n",
    "                \"atomic_fraction\" : False\n",
    "            },\n",
    "            \"Det\" : \"SDD_efficiency.txt\"\n",
    "        }\n",
    "    }\n",
    "\n",
    "phases = edx.generate_modular_phases (elts_dicts = elts_dicts, brstlg_pars = brstlg_pars, scales = [1,1,1], model_params = model_params, seed = 0)"
   ]
  },
  {
   "attachments": {},
   "cell_type": "markdown",
   "metadata": {},
   "source": [
    "## Plot the spectra of the phases"
   ]
  },
  {
   "cell_type": "code",
   "execution_count": null,
   "metadata": {},
   "outputs": [],
   "source": [
    "x = np.linspace(model_params[\"e_offset\"], model_params[\"e_offset\"] + model_params[\"e_size\"]*model_params[\"e_scale\"], model_params[\"e_size\"])\n",
    "fig, ax = plt.subplots(1,3,figsize=(15,5))\n",
    "for i in range(3):  \n",
    "    ax[i].plot(x,phases[i],'k')\n",
    "    ax[i].set_title(\"Phase {}\".format(i+1))\n",
    "    ax[i].set_ylabel(\"Intensity (a.u.)\")\n",
    "    ax[i].set_xlim([0,10])\n",
    "    ax[i].set_xlabel(\"Energy (keV)\")"
   ]
  },
  {
   "attachments": {},
   "cell_type": "markdown",
   "metadata": {},
   "source": [
    "# Generate the data\n",
    "\n",
    "The datacubes are generated as tensorial product of the phases by the maps.\n",
    "\n",
    "## Generate the low noise data\n",
    "\n",
    "A N = 293 is chosen to create a dataset with a strong signal to noise ratio. N = 293 means that in average (modulated by the densities, see misc_params) the number of counts per spectrum in the datacube is 293."
   ]
  },
  {
   "cell_type": "code",
   "execution_count": null,
   "metadata": {},
   "outputs": [],
   "source": [
    "misc_params = {\n",
    "    \"data_folder\" : \"spheres_paper_N293\",\n",
    "    \"shape_2d\" : (128,128),\n",
    "    \"N\" : 293,\n",
    "    \"densities\" : [1.0,0.8,1.2],\n",
    "    \"model\" : \"EDXS\",\n",
    "    \"seed\" : 42\n",
    "}\n",
    "    \n",
    "gen.generate_dataset(phases, spheres, model_params, misc_params, sample_number=5, base_seed = 42,\n",
    "                      elements = [\"O\",\"Ca\",\"Si\",\"Fe\",\"Mg\",\"Al\",\"Cu\",\"Hf\",\"Ti\",\"Sm\",\"Lu\",\"Nd\"])"
   ]
  },
  {
   "attachments": {},
   "cell_type": "markdown",
   "metadata": {},
   "source": [
    "## Generate the high noise data\n",
    "\n",
    "Here N = 18."
   ]
  },
  {
   "cell_type": "code",
   "execution_count": null,
   "metadata": {},
   "outputs": [],
   "source": [
    "misc_params = {\n",
    "    \"data_folder\" : \"spheres_paper_N18\",\n",
    "    \"shape_2d\" : (128,128),\n",
    "    \"N\" : 18,\n",
    "    \"densities\" : [1.0,0.8,1.2],\n",
    "    \"model\" : \"EDXS\",\n",
    "    \"seed\" : 42\n",
    "}\n",
    "    \n",
    "gen.generate_dataset(phases, spheres, model_params, misc_params, sample_number=5, base_seed = 42,\n",
    "                      elements = [\"O\",\"Ca\",\"Si\",\"Fe\",\"Mg\",\"Al\",\"Cu\",\"Hf\",\"Ti\",\"Sm\",\"Lu\",\"Nd\"])"
   ]
  },
  {
   "attachments": {},
   "cell_type": "markdown",
   "metadata": {},
   "source": [
    "# Analysis of the synthetic datacubes\n",
    "\n",
    "## Analysis of the low noise data\n",
    "\n",
    "### Load the generated data\n",
    "We immediately copy the data so that we can perform the decomposition twice. Once with the espm implementation of NMF and once with the scikit-learn implementation of NMF. We make two copies of espm_EDS objects because the decomposition method of hyperspy overwrites the analysed spectrum image. "
   ]
  },
  {
   "cell_type": "code",
   "execution_count": 2,
   "metadata": {},
   "outputs": [],
   "source": [
    "espm_decomp_spim = hs.load(str(DATASETS_PATH) + \"/spheres_paper_N293/sample_0.hspy\")\n",
    "espm_decomp_spim.change_dtype(\"float64\")\n",
    "\n",
    "scikit_decomp_spim = espm_decomp_spim.deepcopy()"
   ]
  },
  {
   "attachments": {},
   "cell_type": "markdown",
   "metadata": {},
   "source": [
    "### Generate the G matrix\n",
    "\n",
    "The ```build_G``` function instensiate the G attribute. This attribute contains the G matrix used to perform the physics-based decomposition."
   ]
  },
  {
   "cell_type": "code",
   "execution_count": 9,
   "metadata": {},
   "outputs": [],
   "source": [
    "espm_decomp_spim.build_G()"
   ]
  },
  {
   "attachments": {},
   "cell_type": "markdown",
   "metadata": {},
   "source": [
    "### Create the estimators objects to run the algorithms\n",
    "\n",
    "#### espm implementation\n",
    "\n",
    "Using the ```SmoothNMF``` object you can input all the parameters to perform your decomposition with the same framework as the scikit-learn one. For an explanation about the parameters see the documentation."
   ]
  },
  {
   "cell_type": "code",
   "execution_count": 10,
   "metadata": {},
   "outputs": [],
   "source": [
    "espm_nmf = SmoothNMF(n_components=3,\n",
    "                    G = espm_decomp_spim.model,\n",
    "                    max_iter=100000,\n",
    "                    simplex_W = True,\n",
    "                    tol=1e-8,\n",
    "                    init = 'nndsvdar',\n",
    "                    random_state = 42,\n",
    "                    mu = 0.004,\n",
    "                    epsilon_reg = 0.01,\n",
    "                    lambda_L = 1.0,\n",
    "                    shape_2d = (128,128),\n",
    "                    normalize = True,\n",
    "                    hspy_comp = True)"
   ]
  },
  {
   "attachments": {},
   "cell_type": "markdown",
   "metadata": {},
   "source": [
    "Running the espm decomposition. /!\\ This will take a while. /!\\"
   ]
  },
  {
   "cell_type": "code",
   "execution_count": null,
   "metadata": {},
   "outputs": [],
   "source": [
    "espm_decomp_spim.decomposition(algorithm = espm_nmf)"
   ]
  },
  {
   "attachments": {},
   "cell_type": "markdown",
   "metadata": {},
   "source": [
    "### scikit-learn implementation"
   ]
  },
  {
   "cell_type": "code",
   "execution_count": 12,
   "metadata": {},
   "outputs": [],
   "source": [
    "sk_nmf = NMF(n_components=3,\n",
    "             init='nndsvdar',\n",
    "             max_iter=10000,\n",
    "             tol=1e-8,\n",
    "             random_state = 42,\n",
    "             beta_loss='kullback-leibler',\n",
    "             solver='mu')"
   ]
  },
  {
   "attachments": {},
   "cell_type": "markdown",
   "metadata": {},
   "source": [
    "Running the scikit-learn decomposition. /!\\ This will take a while. /!\\"
   ]
  },
  {
   "cell_type": "code",
   "execution_count": null,
   "metadata": {},
   "outputs": [],
   "source": [
    "scikit_decomp_spim.decomposition(algorithm = sk_nmf)"
   ]
  },
  {
   "attachments": {},
   "cell_type": "markdown",
   "metadata": {},
   "source": [
    "### Getting the results of the decompositions\n",
    "\n",
    "We store the output of the decompositions as well as the ground truth into series of maps and spectra. We then find which map (or spectrum) correspond to which ground ground truth using `find_min_config`."
   ]
  },
  {
   "cell_type": "code",
   "execution_count": 14,
   "metadata": {},
   "outputs": [],
   "source": [
    "espm_decomp_maps = espm_decomp_spim.get_decomposition_loadings().data.reshape((3,128*128))\n",
    "espm_decomp_spectra = espm_decomp_spim.get_decomposition_factors().data\n",
    "\n",
    "sk_decomp_maps = scikit_decomp_spim.get_decomposition_loadings().data.reshape((3,128*128))\n",
    "sk_decomp_spectra = scikit_decomp_spim.get_decomposition_factors().data\n",
    "\n",
    "true_maps = espm_decomp_spim.maps\n",
    "true_spectra = espm_decomp_spim.phases.T\n",
    "\n",
    "espm_config = find_min_config(true_maps, true_spectra, espm_decomp_maps, espm_decomp_spectra)[2]\n",
    "sk_config = find_min_config(true_maps, true_spectra, sk_decomp_maps, sk_decomp_spectra)[2]\n",
    "\n",
    "espm_decomp_spectra, espm_decomp_maps = rescaled_DH(espm_decomp_spectra.T, espm_decomp_maps)\n",
    "sk_decomp_spectra, sk_decomp_maps = rescaled_DH(sk_decomp_spectra.T, sk_decomp_maps)\n",
    "\n",
    "espm_decomp_spectra = espm_decomp_spectra.T\n",
    "sk_decomp_spectra = sk_decomp_spectra.T"
   ]
  },
  {
   "attachments": {},
   "cell_type": "markdown",
   "metadata": {},
   "source": [
    "### Plotting the results"
   ]
  },
  {
   "cell_type": "code",
   "execution_count": null,
   "metadata": {},
   "outputs": [],
   "source": [
    "fig, axs = plt.subplots(3,4,figsize=(15,9), width_ratios=[1,1,1,3])\n",
    "cax = fig.add_axes([0.23, 0.08, 0.2, 0.01])\n",
    "for i in range(3) :  \n",
    "        im = axs[i,0].imshow(true_maps[i].reshape((128,128)),cmap='hot', vmin = 0, vmax = 1, aspect = 'auto')\n",
    "        axs[i,0].tick_params(axis='both', which='both', bottom=False, top=False, labelbottom=False, right=False, left=False, labelleft=False)\n",
    "        axs[i,1].tick_params(axis='both', which='both', bottom=False, top=False, labelbottom=False, right=False, left=False, labelleft=False)\n",
    "        axs[i,2].tick_params(axis='both', which='both', bottom=False, top=False, labelbottom=False, right=False, left=False, labelleft=False)\n",
    "        axs[0,0].set_title(\"Ground truth\")\n",
    "        axs[i,0].set_ylabel(\"Phase {}\".format(i+1))\n",
    "        axs[i,2].imshow(espm_decomp_maps[espm_config[i]].reshape((128,128)),cmap='hot',vmin = 0, vmax = 1.0, aspect = 'auto')\n",
    "        axs[0,1].set_title(\"Scikit decomposition\")\n",
    "        axs[i,1].imshow(sk_decomp_maps[sk_config[i]].reshape((128,128)),cmap='hot',vmin = 0, vmax = 1.0, aspect = 'auto')\n",
    "        axs[0,2].set_title(\"espm decomposition\")\n",
    "        axs[i,3].plot(x,true_spectra[i] + 10,'k', label = 'Ground truth')\n",
    "        axs[i,3].plot(x,sk_decomp_spectra[sk_config[i]] + 10,'r--', label = 'Scikit decomposition')\n",
    "        axs[i,3].plot(x,true_spectra[i],'k')\n",
    "        axs[i,3].plot(x,espm_decomp_spectra[espm_config[i]],'b--', label = 'espm decomposition')\n",
    "        axs[i,3].set_xlim([0,10])\n",
    "        axs[i,3].tick_params(axis = 'y', which = 'both', left = False, labelleft = False)\n",
    "        axs[i,3].set_ylabel(\"Intensity (a.u.)\")\n",
    "        axs[0,3].legend()\n",
    "        axs[2,3].set_xlabel(\"Energy (keV)\")\n",
    "fig.colorbar(im, cax=cax, orientation='horizontal')"
   ]
  },
  {
   "attachments": {},
   "cell_type": "markdown",
   "metadata": {},
   "source": [
    "## Analysis of the high noise data\n",
    "\n",
    "In this part we follow the same steps but with adapted decomposition parameters. With that high level of noise, the results of the decompositions obviously worsen but they show that the physics modelling helps the analysis.\n",
    "\n",
    "Note that depending on the initial random state, the results vary a lot.\n",
    "\n",
    "### Load the generated data"
   ]
  },
  {
   "cell_type": "code",
   "execution_count": 11,
   "metadata": {},
   "outputs": [],
   "source": [
    "espm_decomp_spim_hn = hs.load(str(DATASETS_PATH) + \"/spheres_paper_N18/sample_0.hspy\")\n",
    "espm_decomp_spim_hn.change_dtype(\"float64\")\n",
    "\n",
    "scikit_decomp_spim_hn = espm_decomp_spim_hn.deepcopy()"
   ]
  },
  {
   "attachments": {},
   "cell_type": "markdown",
   "metadata": {},
   "source": [
    "### Generate the G matrix"
   ]
  },
  {
   "cell_type": "code",
   "execution_count": 12,
   "metadata": {},
   "outputs": [],
   "source": [
    "espm_decomp_spim_hn.build_G()"
   ]
  },
  {
   "attachments": {},
   "cell_type": "markdown",
   "metadata": {},
   "source": [
    "### Create the estimators objects to run the algorithms\n",
    "\n",
    "#### espm implementation"
   ]
  },
  {
   "cell_type": "code",
   "execution_count": 13,
   "metadata": {},
   "outputs": [],
   "source": [
    "espm_nmf_hn = SmoothNMF(n_components=3,\n",
    "                    G = espm_decomp_spim_hn.model,\n",
    "                    max_iter=10000,\n",
    "                    tol=1e-8,\n",
    "                    init = 'random',\n",
    "                    random_state = 294,\n",
    "                    mu = 0.000,\n",
    "                    epsilon_reg = 1.0,\n",
    "                    lambda_L = 0.0,\n",
    "                    normalize = True,\n",
    "                    simplex_W= False,\n",
    "                    hspy_comp = True)"
   ]
  },
  {
   "attachments": {},
   "cell_type": "markdown",
   "metadata": {},
   "source": [
    "Running the espm decomposition. /!\\ This will take a while. /!\\"
   ]
  },
  {
   "cell_type": "code",
   "execution_count": null,
   "metadata": {},
   "outputs": [],
   "source": [
    "espm_decomp_spim_hn.decomposition(algorithm = espm_nmf_hn)"
   ]
  },
  {
   "attachments": {},
   "cell_type": "markdown",
   "metadata": {},
   "source": [
    "### scikit-learn implementation"
   ]
  },
  {
   "cell_type": "code",
   "execution_count": 15,
   "metadata": {},
   "outputs": [],
   "source": [
    "sk_nmf_hn = NMF(n_components=3,\n",
    "                init='random',\n",
    "                max_iter=10000,tol=1e-8,\n",
    "                random_state = 294,\n",
    "                beta_loss='kullback-leibler',\n",
    "                solver='mu')"
   ]
  },
  {
   "attachments": {},
   "cell_type": "markdown",
   "metadata": {},
   "source": [
    "Running the scikit-learn decomposition. /!\\ This will take a while. /!\\"
   ]
  },
  {
   "cell_type": "code",
   "execution_count": null,
   "metadata": {},
   "outputs": [],
   "source": [
    "scikit_decomp_spim_hn.decomposition(algorithm = sk_nmf_hn)"
   ]
  },
  {
   "attachments": {},
   "cell_type": "markdown",
   "metadata": {},
   "source": [
    "### Getting the results of the decompositions"
   ]
  },
  {
   "cell_type": "code",
   "execution_count": null,
   "metadata": {},
   "outputs": [],
   "source": [
    "espm_decomp_maps_hn = espm_decomp_spim_hn.get_decomposition_loadings().data.reshape((3,128*128))\n",
    "espm_decomp_spectra_hn = espm_decomp_spim_hn.get_decomposition_factors().data\n",
    "\n",
    "sk_decomp_maps_hn = scikit_decomp_spim_hn.get_decomposition_loadings().data.reshape((3,128*128))\n",
    "sk_decomp_spectra_hn = scikit_decomp_spim_hn.get_decomposition_factors().data\n",
    "\n",
    "true_maps_hn = espm_decomp_spim_hn.maps\n",
    "true_spectra_hn = espm_decomp_spim_hn.phases.T\n",
    "\n",
    "espm_config_hn = find_min_config(true_maps_hn, true_spectra_hn, espm_decomp_maps_hn, espm_decomp_spectra_hn, angles = False)[2]\n",
    "sk_config_hn = find_min_config(true_maps_hn, true_spectra_hn, sk_decomp_maps_hn, sk_decomp_spectra_hn, angles = False)[2]\n",
    "\n",
    "espm_decomp_spectra_hn, espm_decomp_maps_hn = rescaled_DH(espm_decomp_spectra_hn.T, espm_decomp_maps_hn)\n",
    "sk_decomp_spectra_hn, sk_decomp_maps_hn = rescaled_DH(sk_decomp_spectra_hn.T, sk_decomp_maps_hn)\n",
    "\n",
    "espm_decomp_spectra_hn = espm_decomp_spectra_hn.T\n",
    "sk_decomp_spectra_hn = sk_decomp_spectra_hn.T"
   ]
  },
  {
   "attachments": {},
   "cell_type": "markdown",
   "metadata": {},
   "source": [
    "### Plotting the results"
   ]
  },
  {
   "cell_type": "code",
   "execution_count": null,
   "metadata": {},
   "outputs": [],
   "source": [
    "fig, axs = plt.subplots(3,4,figsize=(15,9), width_ratios=[1,1,1,3])\n",
    "cax = fig.add_axes([0.23, 0.08, 0.2, 0.01])\n",
    "for i in range(3) :  \n",
    "        im = axs[i,0].imshow(true_maps_hn[i].reshape((128,128)),cmap='hot',vmin = 0, vmax = 1.0, aspect = 'auto')\n",
    "        axs[i,0].tick_params(axis='both', which='both', bottom=False, top=False, labelbottom=False, right=False, left=False, labelleft=False)\n",
    "        axs[i,1].tick_params(axis='both', which='both', bottom=False, top=False, labelbottom=False, right=False, left=False, labelleft=False)\n",
    "        axs[i,2].tick_params(axis='both', which='both', bottom=False, top=False, labelbottom=False, right=False, left=False, labelleft=False)\n",
    "        axs[0,0].set_title(\"Ground truth\")\n",
    "        axs[i,0].set_ylabel(\"Phase {}\".format(i+1))\n",
    "        axs[i,2].imshow(espm_decomp_maps_hn[espm_config_hn[i]].reshape((128,128)),cmap='hot',vmin = 0, vmax = 1.0, aspect = 'auto')\n",
    "        axs[0,1].set_title(\"Scikit decomposition\")\n",
    "        axs[i,1].imshow(sk_decomp_maps_hn[sk_config_hn[i]].reshape((128,128)),cmap='hot',vmin = 0, vmax = 1.0, aspect = 'auto')\n",
    "        axs[0,2].set_title(\"espm decomposition\")\n",
    "        axs[i,3].plot(x,true_spectra_hn[i] + 2,'k', label = 'Ground truth')\n",
    "        axs[i,3].plot(x,sk_decomp_spectra_hn[sk_config_hn[i]] + 2,'r--', label = 'Scikit decomposition')\n",
    "        axs[i,3].plot(x,true_spectra_hn[i],'k')\n",
    "        axs[i,3].plot(x,espm_decomp_spectra_hn[espm_config_hn[i]],'b--', label = 'espm decomposition')\n",
    "        axs[i,3].set_xlim([0,10])\n",
    "        axs[i,3].tick_params(axis = 'y', which = 'both', left = False, labelleft = False)\n",
    "        axs[i,3].set_ylabel(\"Intensity (a.u.)\")\n",
    "        axs[0,3].legend()\n",
    "        axs[2,3].set_xlabel(\"Energy (keV)\")\n",
    "fig.colorbar(im, cax=cax, orientation='horizontal')"
   ]
  },
  {
   "cell_type": "markdown",
   "metadata": {},
   "source": [
    "# Analysis of the experimental datacubes\n",
    "\n",
    "## Aim of the study\n",
    "\n",
    "In this part of the notebook we will perform a similar analysis as in the paper of D. Rossouw et al. (see below) but using the espm package instead.\n",
    "\n",
    "In the work of D. Rossouw et al., they synthesized core-shell nanoparticles with a core of FePt alloy and a shell of Fe3O4. They also synthesized bare cores of their FePt alloy. Both samples were observed in the STEM, resulting in two STEM-EDX spectrum images. Since, in a typical nanoparticle, the shell is all around the core the EDXS signals are mixed between the core and the shell. In their paper, they successfully used ICA to disentangle the contributions from the core and from the shell. They used the bare cores to check the quality of their analysis. \n",
    "\n",
    "The work of D. Roussouw et al. can be cited as follow\n",
    "\n",
    "```\n",
    "@article{rossouw2015multicomponent,\n",
    "  title={Multicomponent signal unmixing from nanoheterostructures: overcoming the traditional challenges of nanoscale X-ray analysis via machine learning},\n",
    "  author={Rossouw, David and Burdet, Pierre and de la Peña, Francisco and Ducati, Caterina and Knappett, Benjamin R and Wheatley, Andrew EH and Midgley, Paul A},\n",
    "  journal={Nano letters},\n",
    "  volume={15},\n",
    "  number={4},\n",
    "  pages={2716--2720},\n",
    "  year={2015},\n",
    "  publisher={ACS Publications}\n",
    "}\n",
    "```\n",
    "\n",
    "## Our method\n",
    "\n",
    "- We will first estimate the composition of the bare cores using our NMF method and that we retrieve a composition close to the nominal one.\n",
    "\n",
    "- We will then try our NMF implementation on the core shells without prior knowledge and show that the NMF decomposition is not adapted to this problem.\n",
    "\n",
    "- Finally we will show that using prior knowledge (gathered from the bare cores) we obtain a correct decomposition of the core shell dataset."
   ]
  },
  {
   "cell_type": "markdown",
   "metadata": {},
   "source": [
    "## Downloading the data\n",
    "\n",
    "It should be done only once."
   ]
  },
  {
   "cell_type": "code",
   "execution_count": 18,
   "metadata": {},
   "outputs": [],
   "source": [
    "#Download the data (1MB)\n",
    "from urllib.request import urlretrieve, urlopen\n",
    "from zipfile import ZipFile\n",
    "files = urlretrieve(\"https://www.dropbox.com/s/ecdlgwxjq04m5mx/HyperSpy_demos_EDS_TEM_files.zip?raw=1\", \"./HyperSpy_demos_EDX_TEM_files.zip\")\n",
    "with ZipFile(\"HyperSpy_demos_EDX_TEM_files.zip\") as z:\n",
    "    z.extractall()"
   ]
  },
  {
   "cell_type": "markdown",
   "metadata": {},
   "source": [
    "## Loading the data \n",
    "\n",
    "Three signals are created for this notebook : \n",
    "- `bare_core` from the bare cores dataset\n",
    "- `core_shell_i` from the core shell dataset for the initial NMF decomposition\n",
    "- `core_shell_f` from the core_shell dataset for the NMF decomposition with prior knowledge \n",
    "\n",
    "For all the dataset, the relevant metadata and data types are set before the analysis by NMF.\n",
    "\n",
    "Note that we add all elements, even Cu, present in the spectrum images for a better fit."
   ]
  },
  {
   "cell_type": "code",
   "execution_count": null,
   "metadata": {},
   "outputs": [],
   "source": [
    "# Loading\n",
    "core_shell_i = hs.load('core_shell.hdf5', reader  = 'hspy')\n",
    "core_shell_f = hs.load('core_shell.hdf5', reader  = 'hspy')\n",
    "bare_core = hs.load('bare_core.hdf5', reader  = 'hspy')\n",
    "\n",
    "# Setting signal type and dtype\n",
    "core_shell_i.set_signal_type('EDS_espm')\n",
    "core_shell_f.set_signal_type('EDS_espm')\n",
    "bare_core.set_signal_type('EDS_espm')\n",
    "\n",
    "core_shell_i.change_dtype('float')\n",
    "core_shell_f.change_dtype('float')\n",
    "bare_core.change_dtype('float')\n",
    "\n",
    "# Setting the metadata\n",
    "core_shell_i.metadata.Acquisition_instrument.TEM.Stage.tilt_beta = 0.0\n",
    "core_shell_i.set_analysis_parameters(\n",
    "    thickness=2e-05,\n",
    "    density=5.2,\n",
    "    detector_type='SDD_efficiency.txt',\n",
    "    width_slope=0.01,\n",
    "    width_intercept=0.065,\n",
    "    xray_db='200keV_xrays.json'\n",
    "    )\n",
    "core_shell_i.set_elements(elements = ['Fe', 'Pt', 'O', 'Si', 'C'])\n",
    "\n",
    "\n",
    "core_shell_f.metadata.Acquisition_instrument.TEM.Stage.tilt_beta = 0.0\n",
    "core_shell_f.set_analysis_parameters(\n",
    "    thickness=0.3e-05,\n",
    "    density=5.2,\n",
    "    detector_type='SDD_efficiency.txt',\n",
    "    width_slope=0.01,\n",
    "    width_intercept=0.065,\n",
    "    xray_db='200keV_xrays.json'\n",
    "    )\n",
    "core_shell_f.set_elements(elements = ['Fe', 'Pt', 'O', 'Si', 'C'])\n",
    "\n",
    "\n",
    "bare_core.metadata.Acquisition_instrument.TEM.Stage.tilt_beta = 0.0\n",
    "bare_core.set_analysis_parameters(\n",
    "    thickness=0.3e-05,\n",
    "    density=5.2,\n",
    "    detector_type='SDD_efficiency.txt',\n",
    "    width_slope=0.01,\n",
    "    width_intercept=0.065,\n",
    "    xray_db='200keV_xrays.json'\n",
    "    )\n",
    "bare_core.set_elements(elements = ['Fe', 'Pt', 'O', 'Si', 'C'])\n"
   ]
  },
  {
   "cell_type": "markdown",
   "metadata": {},
   "source": [
    "## Bare cores analysis\n",
    "\n",
    "In this part we build G from the metadata. Set the parameters for the algorithm. Then we run the algorithm and plot its results.\n",
    "\n",
    "### Building G\n",
    "\n",
    "Note that we split the Cu in two parts. The absorption of Cu is very hard to take into account properly and thus the K and L lines are decoupled to obtain a better fit. "
   ]
  },
  {
   "cell_type": "code",
   "execution_count": 31,
   "metadata": {},
   "outputs": [],
   "source": [
    "bare_core.build_G('bremsstrahlung', elements_dict = {'Fe' : 4.0, 'Pt' : 4.0})"
   ]
  },
  {
   "cell_type": "markdown",
   "metadata": {},
   "source": [
    "### Setting the parameters of the algorithm\n",
    "\n",
    "There is only two components, the cores and the membrane on which they are observed"
   ]
  },
  {
   "cell_type": "code",
   "execution_count": 32,
   "metadata": {},
   "outputs": [],
   "source": [
    "bare_core_est = SmoothNMF(n_components=2,\n",
    "                    G = bare_core.model,\n",
    "                    hspy_comp = True)"
   ]
  },
  {
   "cell_type": "markdown",
   "metadata": {},
   "source": [
    "### Running the algorithm for the bare cores"
   ]
  },
  {
   "cell_type": "code",
   "execution_count": null,
   "metadata": {},
   "outputs": [],
   "source": [
    "bare_core.decomposition(algorithm = bare_core_est)"
   ]
  },
  {
   "cell_type": "markdown",
   "metadata": {},
   "source": [
    "## Getting the results\n",
    "\n",
    "### Plot the results"
   ]
  },
  {
   "cell_type": "code",
   "execution_count": null,
   "metadata": {},
   "outputs": [],
   "source": [
    "bare_core_maps = bare_core.get_decomposition_loadings()\n",
    "bare_core_spectra = bare_core.get_decomposition_factors()\n",
    "\n",
    "# energy scale\n",
    "x = np.linspace(\n",
    "    bare_core.axes_manager.signal_axes[0].offset,\n",
    "    bare_core.axes_manager.signal_axes[0].offset + bare_core.axes_manager.signal_axes[0].scale * bare_core.axes_manager.signal_axes[0].size,\n",
    "    bare_core.axes_manager.signal_axes[0].size\n",
    ")\n",
    "\n",
    "\n",
    "fig, axs = plt.subplots(2,2,figsize=(15,9), width_ratios=[1,3])\n",
    "cax = fig.add_axes([0.13, 0.08, 0.17, 0.01])\n",
    "for i in range(2) :  \n",
    "        im = axs[i,0].imshow(bare_core_maps.data[i],cmap='hot',vmin = 0, aspect = 'auto')\n",
    "        axs[i,1].plot(x, bare_core_spectra.data[i])\n",
    "        axs[i,0].tick_params(axis='both', which='both', bottom=False, top=False, labelbottom=False, right=False, left=False, labelleft=False)\n",
    "        axs[i,1].set_xlim([0,14])\n",
    "        axs[i,1].tick_params(axis = 'y', which = 'both', left = False, labelleft = False)\n",
    "        axs[i,1].set_ylabel(\"Intensity (a.u.)\")\n",
    "        axs[1,1].set_xlabel(\"Energy (keV)\")\n",
    "\n",
    "scalebar = AnchoredSizeBar(axs[1,0].transData,\n",
    "                           20, '{} {}'.format(20*bare_core.axes_manager[0].scale, bare_core.axes_manager[0].units),\n",
    "                           'lower left', \n",
    "                           pad=0.1,\n",
    "                           color='white',\n",
    "                           frameon=False,\n",
    "                           size_vertical=1)\n",
    "\n",
    "axs[1,0].add_artist(scalebar)\n",
    "\n",
    "fig.colorbar(im, cax=cax, orientation='horizontal')"
   ]
  },
  {
   "cell_type": "markdown",
   "metadata": {},
   "source": [
    "### Quantification of the bare cores\n",
    "\n",
    "#### Full quantification\n",
    "\n",
    "There are two phases, one corresponds to the membrane (almost no iron and platinum) and the other to the bare cores.\n",
    "\n",
    "The '29_lo' and '29_hi' correspond to Cu L and K lines that are learned separetely. "
   ]
  },
  {
   "cell_type": "code",
   "execution_count": null,
   "metadata": {},
   "outputs": [],
   "source": [
    "bare_core.print_concentration_report()"
   ]
  },
  {
   "cell_type": "markdown",
   "metadata": {},
   "source": [
    "#### Fe/Pt ratio\n",
    "\n",
    "We can check here that the quantification find a Fe/Pt ratio for the cores that is close to the nominal one. In the following we will consider that the cores have this composition : Fe 0.14 Pt 0.86"
   ]
  },
  {
   "cell_type": "code",
   "execution_count": null,
   "metadata": {},
   "outputs": [],
   "source": [
    "bare_core.print_concentration_report(selected_elts = ['Fe', 'Pt'])"
   ]
  },
  {
   "cell_type": "markdown",
   "metadata": {},
   "source": [
    "### Checking the quality of the modelling\n",
    "\n",
    "This plot is to check the quality of the EDS model by comparing the result of the decomposition with the experimental data."
   ]
  },
  {
   "cell_type": "code",
   "execution_count": null,
   "metadata": {},
   "outputs": [],
   "source": [
    "bare_core_exp = bare_core.mean()\n",
    "bare_core_model = ((bare_core_spectra.data.T)@bare_core_maps.data.reshape((2,84*84))).mean(axis = 1)\n",
    "\n",
    "\n",
    "fig, axs = plt.subplots(1,2, figsize = (15,6))\n",
    "axs[0].plot(x, bare_core_exp,'.', label = \"Experimental\")\n",
    "axs[0].plot(x, bare_core_model, label = \"Model\")\n",
    "axs[0].set_xlabel(\"Energy (keV)\")\n",
    "axs[0].set_ylabel(\"Counts\")\n",
    "axs[0].legend()\n",
    "axs[0].set_xlim(0,14.0)\n",
    "axs[1].plot(x,bare_core_exp,'.')\n",
    "axs[1].plot(x,bare_core_model)\n",
    "axs[1].set_xlabel(\"Energy (keV)\")\n",
    "axs[1].set_ylabel(\"Counts\")\n",
    "axs[1].set_ylim(0,1.5)\n",
    "axs[1].set_xlim(0,14.0)\n"
   ]
  },
  {
   "cell_type": "markdown",
   "metadata": {},
   "source": [
    "## First core shell analysis\n",
    "\n",
    "In this part we build G from the metadata. Set the parameters for the algorithm. Then we run the algorithm and plot its results.\n",
    "\n",
    "### Building G\n",
    "\n",
    "Note that we split the Cu in two parts. The absorption of Cu is very hard to take into account properly and thus the K and L lines are decoupled to obtain a better fit. "
   ]
  },
  {
   "cell_type": "code",
   "execution_count": 39,
   "metadata": {},
   "outputs": [],
   "source": [
    "core_shell_i.build_G('bremsstrahlung', elements_dict= {'Fe' : 4.0, 'Pt' : 4.0})"
   ]
  },
  {
   "cell_type": "markdown",
   "metadata": {},
   "source": [
    "### Setting the parameters of the algorithm\n",
    "\n",
    "There are three components, the cores, the shells and the membrane on which they are observed."
   ]
  },
  {
   "cell_type": "code",
   "execution_count": 40,
   "metadata": {},
   "outputs": [],
   "source": [
    "cs_i_est = SmoothNMF(n_components=3, simplex_W = True,\n",
    "                    G = core_shell_i.model,\n",
    "                    hspy_comp = True)"
   ]
  },
  {
   "cell_type": "markdown",
   "metadata": {},
   "source": [
    "### Running the algorithm without prior knowledge"
   ]
  },
  {
   "cell_type": "code",
   "execution_count": null,
   "metadata": {},
   "outputs": [],
   "source": [
    "core_shell_i.decomposition(algorithm = cs_i_est)"
   ]
  },
  {
   "cell_type": "markdown",
   "metadata": {},
   "source": [
    "## Getting the results\n",
    "\n",
    "### Plot the results"
   ]
  },
  {
   "cell_type": "code",
   "execution_count": null,
   "metadata": {},
   "outputs": [],
   "source": [
    "cs_i_maps = core_shell_i.get_decomposition_loadings()\n",
    "cs_i_spectra = core_shell_i.get_decomposition_factors()\n",
    "\n",
    "# energy scale\n",
    "x = np.linspace(\n",
    "    core_shell_i.axes_manager.signal_axes[0].offset,\n",
    "    core_shell_i.axes_manager.signal_axes[0].offset + core_shell_i.axes_manager.signal_axes[0].scale * core_shell_i.axes_manager.signal_axes[0].size,\n",
    "    core_shell_i.axes_manager.signal_axes[0].size\n",
    ")\n",
    "\n",
    "\n",
    "fig, axs = plt.subplots(3,2,figsize=(15,9), width_ratios=[1,3])\n",
    "cax = fig.add_axes([0.13, 0.08, 0.17, 0.01])\n",
    "for i in range(3) :  \n",
    "        im = axs[i,0].imshow(cs_i_maps.data[i],cmap='hot',vmin = 0, aspect = 'auto')\n",
    "        axs[i,1].plot(x, cs_i_spectra.data[i])\n",
    "        axs[i,0].tick_params(axis='both', which='both', bottom=False, top=False, labelbottom=False, right=False, left=False, labelleft=False)\n",
    "        axs[i,1].set_xlim([0,14])\n",
    "        axs[i,1].tick_params(axis = 'y', which = 'both', left = False, labelleft = False)\n",
    "        axs[i,1].set_ylabel(\"Intensity (a.u.)\")\n",
    "        axs[1,1].set_xlabel(\"Energy (keV)\")\n",
    "\n",
    "scalebar = AnchoredSizeBar(axs[1,0].transData,\n",
    "                           20, '{} {}'.format(20*core_shell_i.axes_manager[0].scale, core_shell_i.axes_manager[0].units),\n",
    "                           'lower right', \n",
    "                           pad=0.1,\n",
    "                           color='white',\n",
    "                           frameon=False,\n",
    "                           size_vertical=1)\n",
    "\n",
    "axs[2,0].add_artist(scalebar)\n",
    "\n",
    "fig.colorbar(im, cax=cax, orientation='horizontal')\n",
    "core_shell_i.print_concentration_report(selected_elts=['Fe', 'Pt'])"
   ]
  },
  {
   "cell_type": "markdown",
   "metadata": {},
   "source": [
    "### Short interpretation\n",
    "\n",
    "We can see that the Fe-K peak (6.4 keV) is non-existent in two phases such that the cores are not separated from the shells. \n",
    "\n",
    "- There is one component for both the core and the shell.\n",
    "\n",
    "- The other components correspond to the membrane on which the nanoparticles lie. \n",
    "\n",
    "Without prior knowledge, NMF fails to perform a correct decomposition.\n",
    "\n",
    "## Second core shell analysis\n",
    "\n",
    "In this part we build G from the metadata and set constraints on the possible values of W. Set the parameters for the algorithm. Then we run the algorithm and plot its results.\n",
    "\n",
    "### Building G and setting fixed W\n",
    "\n",
    "Note that we split the Cu in two parts. The absorption of Cu is very hard to take into account properly and thus the K and L lines are decoupled to obtain a better fit. \n",
    "\n",
    "We also initialise G such that it contains a column with a fixed ratio between different elements. In our case there will be a column with : \n",
    "Fe 0.14 Pt 0.86 .\n",
    "\n",
    "We build a W matrix input so that there is only one phase containing the Fe0.14Pt0.86 stoichiometry, the Pt is set to 0 in the three phases so that all the Pt is fitted by the phase containing the Fe0.14Pt0.86 stoichiometry."
   ]
  },
  {
   "cell_type": "code",
   "execution_count": null,
   "metadata": {},
   "outputs": [],
   "source": [
    "core_shell_f.build_G('bremsstrahlung', elements_dict= {'Fe' : 4.0, 'Pt' : 4.0})\n",
    "\n",
    "fW = core_shell_f.set_fixed_W(\n",
    "    {'background' : {'Pt' : 0.0, 'Fe' : 0.0},\n",
    "    'core' : {'Pt' : 0.84, 'Fe' : 0.16, 'Si' : 0.0, 'C' : 0.0, 'O' : 0.0},\n",
    "    'shell' : {   'Pt' : 0.0, 'Si' : 0.0, 'C' : 0.0}})"
   ]
  },
  {
   "cell_type": "markdown",
   "metadata": {},
   "source": [
    "### Setting the parameters of the algorithm\n",
    "\n",
    "There are three components, the cores, the shells and the membrane on which they are observed. The prior knowledge is included in the computation."
   ]
  },
  {
   "cell_type": "code",
   "execution_count": null,
   "metadata": {},
   "outputs": [],
   "source": [
    "cs_f_est = SmoothNMF(n_components=3,\n",
    "                    G = core_shell_f.model,\n",
    "                    fixed_W = fW,\n",
    "                    simplex_W= True,\n",
    "                    hspy_comp = True)"
   ]
  },
  {
   "cell_type": "markdown",
   "metadata": {},
   "source": [
    "### Running the algorithm with prior knowledge"
   ]
  },
  {
   "cell_type": "code",
   "execution_count": null,
   "metadata": {},
   "outputs": [],
   "source": [
    "core_shell_f.decomposition(algorithm = cs_f_est)"
   ]
  },
  {
   "cell_type": "code",
   "execution_count": null,
   "metadata": {},
   "outputs": [],
   "source": [
    "core_shell_f.print_concentration_report()"
   ]
  },
  {
   "cell_type": "markdown",
   "metadata": {},
   "source": [
    "## Getting the results\n",
    "\n",
    "### Plot the results"
   ]
  },
  {
   "cell_type": "code",
   "execution_count": null,
   "metadata": {},
   "outputs": [],
   "source": [
    "cs_f_maps = core_shell_f.get_decomposition_loadings()\n",
    "cs_f_spectra = core_shell_f.get_decomposition_factors()\n",
    "\n",
    "# energy scale\n",
    "x = np.linspace(\n",
    "    core_shell_f.axes_manager.signal_axes[0].offset,\n",
    "    core_shell_f.axes_manager.signal_axes[0].offset + core_shell_f.axes_manager.signal_axes[0].scale * core_shell_f.axes_manager.signal_axes[0].size,\n",
    "    core_shell_f.axes_manager.signal_axes[0].size\n",
    ")\n",
    "\n",
    "\n",
    "fig, axs = plt.subplots(3,2,figsize=(15,9), width_ratios=[1,3])\n",
    "cax = fig.add_axes([0.13, 0.08, 0.17, 0.01])\n",
    "for i in range(3) :  \n",
    "        im = axs[i,0].imshow(cs_f_maps.data[i],cmap='hot',vmin = 0, aspect = 'auto')\n",
    "        axs[i,1].plot(x, cs_f_spectra.data[i])\n",
    "        axs[i,0].tick_params(axis='both', which='both', bottom=False, top=False, labelbottom=False, right=False, left=False, labelleft=False)\n",
    "        axs[i,1].set_xlim([0,14])\n",
    "        axs[i,1].tick_params(axis = 'y', which = 'both', left = False, labelleft = False)\n",
    "        axs[i,1].set_ylabel(\"Intensity (a.u.)\")\n",
    "        axs[1,1].set_xlabel(\"Energy (keV)\")\n",
    "\n",
    "scalebar = AnchoredSizeBar(axs[2,0].transData,\n",
    "                           20, '{} {}'.format(20*core_shell_f.axes_manager[0].scale, core_shell_f.axes_manager[0].units),\n",
    "                           'lower right', \n",
    "                           pad=0.1,\n",
    "                           color='white',\n",
    "                           frameon=False,\n",
    "                           size_vertical=1)\n",
    "\n",
    "axs[1,0].add_artist(scalebar)\n",
    "\n",
    "fig.colorbar(im, cax=cax, orientation='horizontal')"
   ]
  },
  {
   "cell_type": "markdown",
   "metadata": {},
   "source": [
    "### Shell quantification"
   ]
  },
  {
   "cell_type": "code",
   "execution_count": null,
   "metadata": {},
   "outputs": [],
   "source": [
    "core_shell_f.print_concentration_report(selected_elts = ['Fe','O'])"
   ]
  },
  {
   "cell_type": "markdown",
   "metadata": {},
   "source": [
    "### Short interpretation\n",
    "\n",
    "The three phases we found closely match with the results of D. Rossouw et al. \n",
    "\n",
    "The quantification of the Fe/O ratio of the shell is close to the expected ratio of 3/4 of the Fe3O4 phase (Fe 0.43 O 0.57).\n",
    "\n",
    "### Checking the quality of the modelling"
   ]
  },
  {
   "cell_type": "code",
   "execution_count": null,
   "metadata": {},
   "outputs": [],
   "source": [
    "core_shell_exp = core_shell_f.mean()\n",
    "core_shell_model = ((cs_f_spectra.data.T)@cs_f_maps.data.reshape((3,64*64))).mean(axis = 1)\n",
    "\n",
    "\n",
    "fig, axs = plt.subplots(1,2, figsize = (15,6))\n",
    "axs[0].plot(x, core_shell_exp,'.', label = \"Experimental\")\n",
    "axs[0].plot(x, core_shell_model, label = \"Model\")\n",
    "axs[0].set_xlabel(\"Energy (keV)\")\n",
    "axs[0].set_ylabel(\"Counts\")\n",
    "axs[0].legend()\n",
    "axs[0].set_xlim(0,14.0)\n",
    "axs[1].plot(x,core_shell_exp,'.')\n",
    "axs[1].plot(x,core_shell_model)\n",
    "axs[1].set_xlabel(\"Energy (keV)\")\n",
    "axs[1].set_ylabel(\"Counts\")\n",
    "axs[1].set_ylim(0,3)\n",
    "axs[1].set_xlim(0,14.0)\n"
   ]
  },
  {
   "cell_type": "code",
   "execution_count": null,
   "metadata": {},
   "outputs": [],
   "source": []
  }
 ],
 "metadata": {
  "kernelspec": {
   "display_name": "espm_test",
   "language": "python",
   "name": "python3"
  },
  "language_info": {
   "codemirror_mode": {
    "name": "ipython",
    "version": 3
   },
   "file_extension": ".py",
   "mimetype": "text/x-python",
   "name": "python",
   "nbconvert_exporter": "python",
   "pygments_lexer": "ipython3",
   "version": "3.11.11"
  }
 },
 "nbformat": 4,
 "nbformat_minor": 2
}
