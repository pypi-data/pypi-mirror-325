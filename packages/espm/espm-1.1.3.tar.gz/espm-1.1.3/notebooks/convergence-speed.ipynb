{
 "cells": [
  {
   "cell_type": "code",
   "execution_count": null,
   "metadata": {},
   "outputs": [],
   "source": [
    "%load_ext autoreload\n",
    "%autoreload 2\n",
    "%matplotlib inline"
   ]
  },
  {
   "cell_type": "code",
   "execution_count": null,
   "metadata": {},
   "outputs": [],
   "source": [
    "import numpy as np\n",
    "import matplotlib.pyplot as plt\n",
    "\n"
   ]
  },
  {
   "cell_type": "code",
   "execution_count": null,
   "metadata": {},
   "outputs": [],
   "source": [
    "naming_hash = {}\n",
    "naming_hash[\"log_surrogate - no linesearch\"] = \"MU update\\nno linesearch\"\n",
    "naming_hash[\"log_surrogate -  linesearch\"] = \"MU update\\nlinesearch\"\n",
    "naming_hash[\"l2_surrogate - no linesearch\"] = \"Quadratic update\\nno linesearch\"\n",
    "naming_hash[\"l2_surrogate -  linesearch\"] = \"Quadratic update\\nlinesearch\"\n",
    "naming_hash[\"bmd - no linesearch\"] = \"Block Mirror Descent\\nno linesearch\"\n",
    "naming_hash[\"bmd -  linesearch\"] = \"Block Mirror Descent\\nlinesearch\"\n",
    "naming_hash[\"projected_gradient - no linesearch\"] = \"Projected gradient\\nno linesearch\"\n",
    "naming_hash[\"projected_gradient -  linesearch\"] = \"Projected gradient\\nlinesearch\"\n",
    "\n",
    "# Define colors for each method\n",
    "colors = {}\n",
    "colors[\"log_surrogate - no linesearch\"] = \"blue\"\n",
    "colors[\"log_surrogate -  linesearch\"] = \"darkblue\"\n",
    "colors[\"l2_surrogate - no linesearch\"] = \"lightgreen\"\n",
    "colors[\"l2_surrogate -  linesearch\"] = \"darkgreen\"\n",
    "colors[\"bmd - no linesearch\"] = \"red\"\n",
    "colors[\"bmd -  linesearch\"] = \"pink\"\n",
    "colors[\"projected_gradient - no linesearch\"] = \"orange\"\n",
    "colors[\"projected_gradient -  linesearch\"] = \"violet\""
   ]
  },
  {
   "attachments": {},
   "cell_type": "markdown",
   "metadata": {},
   "source": [
    "## Paper plots"
   ]
  },
  {
   "cell_type": "code",
   "execution_count": null,
   "metadata": {},
   "outputs": [],
   "source": [
    "from pathlib import Path\n",
    "pathfig = Path('./figures/')\n",
    "pathfig.mkdir(exist_ok=True)"
   ]
  },
  {
   "cell_type": "code",
   "execution_count": null,
   "metadata": {},
   "outputs": [],
   "source": [
    "force_simplex = True\n",
    "for laplacian in [False, True]:\n",
    "    for noise in [False, True]:\n",
    "        # load data \n",
    "        filename = f\"losses_{laplacian}_{noise}_{force_simplex}.npz\"\n",
    "        data = np.load(filename, allow_pickle=True)\n",
    "        losses = data[\"losses\"]\n",
    "        l_infty = data[\"l_infty\"]\n",
    "        params = data[\"params\"]\n",
    "        captions = [naming_hash[d] for d in data[\"captions\"]]\n",
    "        cs = [colors[d] for d in data[\"captions\"]]\n",
    "        true_D = data[\"true_D\"]\n",
    "        true_H = data[\"true_H\"]\n",
    "        X = data[\"X\"]\n",
    "        Xdot = data[\"Xdot\"]\n",
    "        W = data[\"W\"]\n",
    "        H = data[\"H\"]\n",
    "        gammas = data[\"gammas\"]\n",
    "        shape_2d = params[0][0][\"shape_2d\"]\n",
    "        k = H.shape[0]\n",
    "        times = data[\"times\"]\n",
    "        print(len(losses))\n",
    "        losses = np.mean(losses-l_infty.reshape(-1, 1, 1), axis=0)\n",
    "\n",
    "\n",
    "        plt.figure(figsize=[8, 4])\n",
    "        for loss, caption, color in zip(losses, captions, cs):\n",
    "            iterations = np.arange(len(loss))+1\n",
    "            if len(iterations)>10:\n",
    "                plt.plot(iterations, loss, \".-\", color=color,  label=caption)\n",
    "        max_y = np.max(losses)\n",
    "        min_y = np.min(losses)\n",
    "        plt.ylim([min_y, max_y])\n",
    "        plt.xlim([1, losses.shape[1]])\n",
    "        plt.yscale(\"log\")\n",
    "        plt.xscale(\"log\")\n",
    "        plt.xlabel(\"Iterations\")\n",
    "        plt.legend(loc=\"lower left\")\n",
    "\n",
    "        fig = plt.gcf()\n",
    "        filename = f\"convergence_{'' if laplacian else 'no_'}laplacian_{'' if noise else 'no_'}noise.pdf\"\n",
    "        fig.savefig(pathfig / Path(filename), bbox_inches='tight')"
   ]
  },
  {
   "cell_type": "code",
   "execution_count": null,
   "metadata": {},
   "outputs": [],
   "source": [
    "def upper_lower_error(x):\n",
    "    m = np.mean(x, axis=0, keepdims=True)\n",
    "    xc = x - m\n",
    "    upper = []\n",
    "    n_up = []\n",
    "    lower = []\n",
    "    n_low = []\n",
    "    for i in range(xc.shape[1]):\n",
    "        n_up.append(np.sum(xc[:,i]>=0))\n",
    "        upper.append(np.sum((xc[:,i][xc[:,i]>=0])**2))\n",
    "        n_low.append(np.sum(xc[:,i]<0))\n",
    "        lower.append(np.sum((xc[:,i][xc[:,i]<0])**2))\n",
    "    return np.sqrt(np.array(lower)), np.sqrt(np.array(upper))\n",
    "    # return np.sqrt(np.array(lower))/np.sqrt(n_low), np.sqrt(np.array(upper))/np.sqrt(n_up)\n"
   ]
  },
  {
   "cell_type": "code",
   "execution_count": null,
   "metadata": {},
   "outputs": [],
   "source": [
    "for l in [25, 100, 500, 1000]:\n",
    "    shift = 0\n",
    "    plt.figure(figsize=[6, 3])\n",
    "    for laplacian in [True, False]:\n",
    "        for noise in [False, True]:\n",
    "            filename = f\"losses_{laplacian}_{noise}_{force_simplex}_{l}.npz\"\n",
    "            data = np.load(filename, allow_pickle=True)\n",
    "            captions = [naming_hash[d] for d in data[\"captions\"]]\n",
    "\n",
    "            times = data[\"times\"]\n",
    "            times = np.mean(times, axis=0)\n",
    "            # times_std = np.std(times, axis=0) / np.sqrt(times.shape[0])\n",
    "            lower_error, upper_error = upper_lower_error(data[\"times\"])\n",
    "            asymmetric_error = np.array(list(zip(lower_error, upper_error))).T\n",
    "            X_axis = np.arange(len(captions))\n",
    "            # plt.boxplot(data[\"times\"],positions=X_axis-0.3+shift, widths=0.2);\n",
    "            plt.bar(X_axis - 0.3 + shift, times, 0.2, yerr=asymmetric_error, ecolor='black', capsize=3, label = f\"{'Smooth' if laplacian else 'random'} nois{'y' if noise else 'less'} data\")\n",
    "            # plt.bar(X_axis - 0.3 + shift, times, 0.2, ecolor='black', capsize=3, label = f\"{'Smooth' if laplacian else 'random'} nois{'y' if noise else 'less'} data\")\n",
    "            shift += 0.2\n",
    "\n",
    "    plt.xticks(X_axis, captions)\n",
    "    plt.xticks(rotation=45, ha=\"right\")\n",
    "    plt.xlabel(\"Algorithm\")\n",
    "    plt.ylabel(\"Seconds\")\n",
    "    plt.title(\"n = \"+str(int(l)))\n",
    "    plt.legend()\n",
    "\n",
    "    fig = plt.gcf()\n",
    "    filename = f\"speed_comparison_{l}.pdf\"\n",
    "    fig.savefig(pathfig / Path(filename), bbox_inches='tight')"
   ]
  },
  {
   "cell_type": "code",
   "execution_count": null,
   "metadata": {},
   "outputs": [],
   "source": [
    "filename = f\"losses_{False}_{False}_{True}_100.npz\"\n",
    "data = np.load(filename, allow_pickle=True)\n",
    "captions = [naming_hash[d] for d in data[\"captions\"]]\n",
    "\n",
    "times = data[\"times\"]\n",
    "\n",
    "plt.plot(times)\n",
    "plt.legend(captions)"
   ]
  },
  {
   "cell_type": "markdown",
   "metadata": {},
   "source": [
    "### Individual experiment"
   ]
  },
  {
   "cell_type": "code",
   "execution_count": null,
   "metadata": {},
   "outputs": [],
   "source": [
    "laplacian = False\n",
    "noise = True\n",
    "simplex_H = True\n",
    "\n"
   ]
  },
  {
   "cell_type": "code",
   "execution_count": null,
   "metadata": {},
   "outputs": [],
   "source": [
    "from convergence import run_experiment_set\n",
    "seed = 50\n",
    "max_iter = 1000\n",
    "losses, final_losses, Ws, Hs, params, captions, gammas, l_infty, W, H, true_D, true_H, X, Xdot, times = run_experiment_set(laplacian, noise, simplex_H, seed=seed, max_iter=max_iter)\n",
    "losses = np.array(losses) - l_infty.reshape(-1, 1)\n",
    "shape_2d = params[0][0][\"shape_2d\"]\n",
    "k = H.shape[0]\n"
   ]
  },
  {
   "cell_type": "code",
   "execution_count": null,
   "metadata": {},
   "outputs": [],
   "source": [
    "for time, caption in zip(times, captions):\n",
    "    print(f\"Algorithm: {naming_hash[caption]} took {time} seconds.\")"
   ]
  },
  {
   "cell_type": "code",
   "execution_count": null,
   "metadata": {},
   "outputs": [],
   "source": [
    "plt.figure(figsize=[10, 6])\n",
    "# plt.figure(figsize=[15, 10])\n",
    "\n",
    "for loss, caption in zip(losses, captions):\n",
    "    iterations = np.arange(len(loss))+1\n",
    "    if len(iterations)>10:\n",
    "        plt.plot(iterations, loss, \".-\", label=caption)\n",
    "max_y = np.max(losses)\n",
    "min_y = np.min(losses)\n",
    "plt.ylim([min_y, max_y])\n",
    "plt.xlim([1, losses.shape[1]])\n",
    "plt.yscale(\"log\")\n",
    "plt.xscale(\"log\")\n",
    "plt.xlabel(\"Iterations\")\n",
    "plt.legend()"
   ]
  },
  {
   "cell_type": "code",
   "execution_count": null,
   "metadata": {},
   "outputs": [],
   "source": [
    "# for gamma, caption in zip(gammas, captions):\n",
    "#     iterations = np.arange(len(gamma))+1\n",
    "\n",
    "#     plt.plot(iterations, gamma, \".\", label=caption)\n",
    "# plt.yscale(\"log\")\n",
    "# plt.legend()\n"
   ]
  },
  {
   "cell_type": "code",
   "execution_count": null,
   "metadata": {},
   "outputs": [],
   "source": [
    "Hmat = H.reshape(k, shape_2d[0], shape_2d[1])\n",
    "Hmat_true = true_H.reshape(k, shape_2d[0], shape_2d[1])\n",
    "scale = 4\n",
    "cmap = plt.cm.viridis\n",
    "plt.figure(figsize=(scale*k,2*scale))\n",
    "for i in range(k):\n",
    "    plt.subplot(2,k,i+1)\n",
    "    plt.imshow(Hmat[i], cmap=cmap, vmin=0, vmax=1)\n",
    "    plt.title(f\"Estimated H {i}\")\n",
    "    plt.axis('off')\n",
    "    plt.colorbar()\n",
    "    plt.subplot(2,k,i+1+k)\n",
    "    plt.imshow(Hmat_true[i], cmap=cmap, vmin=0, vmax=1)\n",
    "    plt.title(f\"True H {i}\")\n",
    "    plt.axis('off')\n",
    "    plt.colorbar()\n",
    "\n",
    "plt.tight_layout()\n"
   ]
  },
  {
   "cell_type": "code",
   "execution_count": null,
   "metadata": {},
   "outputs": [],
   "source": [
    "plt.plot(true_D)"
   ]
  },
  {
   "cell_type": "code",
   "execution_count": null,
   "metadata": {},
   "outputs": [],
   "source": []
  }
 ],
 "metadata": {
  "kernelspec": {
   "display_name": "espm",
   "language": "python",
   "name": "python3"
  },
  "language_info": {
   "codemirror_mode": {
    "name": "ipython",
    "version": 3
   },
   "file_extension": ".py",
   "mimetype": "text/x-python",
   "name": "python",
   "nbconvert_exporter": "python",
   "pygments_lexer": "ipython3",
   "version": "3.12.2"
  },
  "vscode": {
   "interpreter": {
    "hash": "a7ceffc662db6c9d514927743d8d35570797b920e33613212d4f424c0416cf91"
   }
  }
 },
 "nbformat": 4,
 "nbformat_minor": 4
}
