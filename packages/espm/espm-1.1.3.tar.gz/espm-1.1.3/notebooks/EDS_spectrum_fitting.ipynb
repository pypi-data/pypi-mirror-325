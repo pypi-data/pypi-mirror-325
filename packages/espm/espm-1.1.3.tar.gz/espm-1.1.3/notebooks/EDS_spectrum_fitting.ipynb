{
 "cells": [
  {
   "cell_type": "code",
   "execution_count": 1,
   "metadata": {},
   "outputs": [
    {
     "name": "stdout",
     "output_type": "stream",
     "text": [
      "\u001b[33;20mWARNING | Hyperspy | Numba is not installed, falling back to non-accelerated implementation. (hyperspy.decorators:256)\u001b[0m\n",
      "\u001b[33;20mWARNING | Hyperspy | Numba is not installed, falling back to non-accelerated implementation. (hyperspy.decorators:256)\u001b[0m\n",
      "\u001b[33;20mWARNING | Hyperspy | Numba is not installed, falling back to non-accelerated implementation. (hyperspy.decorators:256)\u001b[0m\n",
      "\u001b[33;20mWARNING | Hyperspy | Numba is not installed, falling back to non-accelerated implementation. (hyperspy.decorators:256)\u001b[0m\n",
      "\u001b[33;20mWARNING | Hyperspy | Numba is not installed, falling back to non-accelerated implementation. (hyperspy.decorators:256)\u001b[0m\n",
      "\u001b[33;20mWARNING | Hyperspy | Numba is not installed, falling back to non-accelerated implementation. (hyperspy.decorators:256)\u001b[0m\n",
      "\u001b[33;20mWARNING | Hyperspy | Numba is not installed, falling back to non-accelerated implementation. (hyperspy.decorators:256)\u001b[0m\n",
      "\u001b[33;20mWARNING | Hyperspy | Numba is not installed, falling back to non-accelerated implementation. (hyperspy.decorators:256)\u001b[0m\n",
      "\u001b[33;20mWARNING | Hyperspy | Numba is not installed, falling back to non-accelerated implementation. (hyperspy.decorators:256)\u001b[0m\n",
      "\u001b[33;20mWARNING | Hyperspy | Numba is not installed, falling back to non-accelerated implementation. (hyperspy.decorators:256)\u001b[0m\n"
     ]
    }
   ],
   "source": [
    "%matplotlib qt\n",
    "import hyperspy.api as hs\n",
    "from espm.estimators import SmoothNMF\n",
    "import numpy as np\n",
    "\n",
    "def expand_spectrum(spectrum) : \n",
    "    r\"\"\"\n",
    "    Expand the navigation dimension of a spectrum to enable hyperspy decomposition.\n",
    "    \"\"\"\n",
    "    a = np.tile(spectrum.data, (2, 1))\n",
    "    temp_spectrum = hs.signals.Signal1D(a)\n",
    "    temp_spectrum.set_signal_type('EDS_espm')\n",
    "    d = spectrum.metadata.as_dictionary()\n",
    "    temp_spectrum.metadata.add_dictionary(d)\n",
    "    temp_spectrum.axes_manager.signal_axes[0].update_from(spectrum.axes_manager.signal_axes[0], [\"name\", \"units\", \"scale\", \"offset\"])\n",
    "    temp_spectrum.model_ = spectrum.model\n",
    "    return temp_spectrum\n",
    "    "
   ]
  },
  {
   "cell_type": "markdown",
   "metadata": {},
   "source": [
    "# I. Loading the data\n",
    "\n",
    "### Notes\n",
    "\n",
    "- Depending on the origin of the data you may want to modify this notebook : \n",
    "    - For example if the data were acquired using Velox, when using `hs.load()`, the returned object is probably a list. Print that list and select the EDS data.\n",
    "- If you have 3D data (e.g. a spectrum image), you can still use this notebook. Do either of the following\n",
    "    - Sum over all the pixels of the dataset using `spectrum = spim.sum()` where spim is your 3D dataset\n",
    "    - Pick an area of the spectrum image and perform the analysis over the picked area. (see the last part of this notebook)"
   ]
  },
  {
   "cell_type": "code",
   "execution_count": 2,
   "metadata": {},
   "outputs": [],
   "source": [
    "# We crop the signal dimension since our model can't deal with energy scales containing 0eV.\n",
    "spectrum = hs.load().isig[0.1 : 20.0].sum()\n",
    "# The data are changed from ints to floats. The algorithm can only work with floats.\n",
    "spectrum.change_dtype('float64')\n",
    "# To apply the methods of this package we change to object to the package type\n",
    "spectrum.set_signal_type('EDS_espm')"
   ]
  },
  {
   "cell_type": "markdown",
   "metadata": {},
   "source": [
    "# II. Setting metadata\n",
    "\n",
    "It is very important to correctly fill the metadata. They are required for the model to work. Depending on your acquisition software, some fields are already filled, check the metadata first before completing what's missing. \n",
    "\n",
    "## Check your current metadata"
   ]
  },
  {
   "cell_type": "code",
   "execution_count": 3,
   "metadata": {},
   "outputs": [
    {
     "data": {
      "text/html": [
       "<ul style=\"margin: 0px; list-style-position: outside;\">\n",
       "                    <details open>\n",
       "                    <summary style=\"display: list-item;\">\n",
       "                    <li style=\"display: inline;\">\n",
       "                    Acquisition_instrument\n",
       "                    </li></summary>\n",
       "                    <ul style=\"margin: 0px; list-style-position: outside;\">\n",
       "                    <details closed>\n",
       "                    <summary style=\"display: list-item;\">\n",
       "                    <li style=\"display: inline;\">\n",
       "                    TEM\n",
       "                    </li></summary>\n",
       "                    <ul style=\"margin: 0px; list-style-position: outside;\">\n",
       "                    <details closed>\n",
       "                    <summary style=\"display: list-item;\">\n",
       "                    <li style=\"display: inline;\">\n",
       "                    Detector\n",
       "                    </li></summary>\n",
       "                    <ul style=\"margin: 0px; list-style-position: outside;\">\n",
       "                    <details closed>\n",
       "                    <summary style=\"display: list-item;\">\n",
       "                    <li style=\"display: inline;\">\n",
       "                    EDS\n",
       "                    </li></summary>\n",
       "                    \n",
       "    <ul style=\"margin: 0px; list-style-position: outside;\">\n",
       "    <li style='margin-left:1em; padding-left: 0.5em'>azimuth_angle = np.float64(0.0)</li></ul>\n",
       "    \n",
       "    <ul style=\"margin: 0px; list-style-position: outside;\">\n",
       "    <li style='margin-left:1em; padding-left: 0.5em'>elevation_angle = np.float64(35.0)</li></ul>\n",
       "    \n",
       "    <ul style=\"margin: 0px; list-style-position: outside;\">\n",
       "    <li style='margin-left:1em; padding-left: 0.5em'>energy_resolution_MnKa = np.float64(130.0)</li></ul>\n",
       "    \n",
       "    <ul style=\"margin: 0px; list-style-position: outside;\">\n",
       "    <li style='margin-left:1em; padding-left: 0.5em'>number_of_frames = np.int64(250)</li></ul>\n",
       "    \n",
       "    <ul style=\"margin: 0px; list-style-position: outside;\">\n",
       "    <li style='margin-left:1em; padding-left: 0.5em'>type = SDD_efficiency.txt</li></ul>\n",
       "    \n",
       "    <ul style=\"margin: 0px; list-style-position: outside;\">\n",
       "    <li style='margin-left:1em; padding-left: 0.5em'>width_intercept = 0.065</li></ul>\n",
       "    \n",
       "    <ul style=\"margin: 0px; list-style-position: outside;\">\n",
       "    <li style='margin-left:1em; padding-left: 0.5em'>width_slope = 0.01</li></ul>\n",
       "    </details></ul></details></ul><ul style=\"margin: 0px; list-style-position: outside;\">\n",
       "                    <details closed>\n",
       "                    <summary style=\"display: list-item;\">\n",
       "                    <li style=\"display: inline;\">\n",
       "                    Stage\n",
       "                    </li></summary>\n",
       "                    \n",
       "    <ul style=\"margin: 0px; list-style-position: outside;\">\n",
       "    <li style='margin-left:1em; padding-left: 0.5em'>tilt_alpha = np.float64(0.284)</li></ul>\n",
       "    \n",
       "    <ul style=\"margin: 0px; list-style-position: outside;\">\n",
       "    <li style='margin-left:1em; padding-left: 0.5em'>tilt_beta = np.float64(-0.44)</li></ul>\n",
       "    \n",
       "    <ul style=\"margin: 0px; list-style-position: outside;\">\n",
       "    <li style='margin-left:1em; padding-left: 0.5em'>x = np.float64(-0.000134)</li></ul>\n",
       "    \n",
       "    <ul style=\"margin: 0px; list-style-position: outside;\">\n",
       "    <li style='margin-left:1em; padding-left: 0.5em'>y = np.float64(1e-05)</li></ul>\n",
       "    \n",
       "    <ul style=\"margin: 0px; list-style-position: outside;\">\n",
       "    <li style='margin-left:1em; padding-left: 0.5em'>z = np.float64(-0.000163)</li></ul>\n",
       "    </details></ul>\n",
       "    <ul style=\"margin: 0px; list-style-position: outside;\">\n",
       "    <li style='margin-left:1em; padding-left: 0.5em'>beam_energy = np.float64(200.0)</li></ul>\n",
       "    \n",
       "    <ul style=\"margin: 0px; list-style-position: outside;\">\n",
       "    <li style='margin-left:1em; padding-left: 0.5em'>camera_length = np.float64(115.9)</li></ul>\n",
       "    \n",
       "    <ul style=\"margin: 0px; list-style-position: outside;\">\n",
       "    <li style='margin-left:1em; padding-left: 0.5em'>magnification = np.float64(7200000.0)</li></ul>\n",
       "    \n",
       "    <ul style=\"margin: 0px; list-style-position: outside;\">\n",
       "    <li style='margin-left:1em; padding-left: 0.5em'>microscope = Titan</li></ul>\n",
       "    </details></ul></details></ul><ul style=\"margin: 0px; list-style-position: outside;\">\n",
       "                    <details open>\n",
       "                    <summary style=\"display: list-item;\">\n",
       "                    <li style=\"display: inline;\">\n",
       "                    General\n",
       "                    </li></summary>\n",
       "                    <ul style=\"margin: 0px; list-style-position: outside;\">\n",
       "                    <details closed>\n",
       "                    <summary style=\"display: list-item;\">\n",
       "                    <li style=\"display: inline;\">\n",
       "                    FileIO\n",
       "                    </li></summary>\n",
       "                    <ul style=\"margin: 0px; list-style-position: outside;\">\n",
       "                    <details closed>\n",
       "                    <summary style=\"display: list-item;\">\n",
       "                    <li style=\"display: inline;\">\n",
       "                    0\n",
       "                    </li></summary>\n",
       "                    \n",
       "    <ul style=\"margin: 0px; list-style-position: outside;\">\n",
       "    <li style='margin-left:1em; padding-left: 0.5em'>hyperspy_version = 2.1.1</li></ul>\n",
       "    \n",
       "    <ul style=\"margin: 0px; list-style-position: outside;\">\n",
       "    <li style='margin-left:1em; padding-left: 0.5em'>io_plugin = rsciio.emd</li></ul>\n",
       "    \n",
       "    <ul style=\"margin: 0px; list-style-position: outside;\">\n",
       "    <li style='margin-left:1em; padding-left: 0.5em'>operation = load</li></ul>\n",
       "    \n",
       "    <ul style=\"margin: 0px; list-style-position: outside;\">\n",
       "    <li style='margin-left:1em; padding-left: 0.5em'>timestamp = 2024-11-18T16:38:16.357404+01:00</li></ul>\n",
       "    </details></ul><ul style=\"margin: 0px; list-style-position: outside;\">\n",
       "                    <details closed>\n",
       "                    <summary style=\"display: list-item;\">\n",
       "                    <li style=\"display: inline;\">\n",
       "                    1\n",
       "                    </li></summary>\n",
       "                    \n",
       "    <ul style=\"margin: 0px; list-style-position: outside;\">\n",
       "    <li style='margin-left:1em; padding-left: 0.5em'>hyperspy_version = 2.1.1</li></ul>\n",
       "    \n",
       "    <ul style=\"margin: 0px; list-style-position: outside;\">\n",
       "    <li style='margin-left:1em; padding-left: 0.5em'>io_plugin = rsciio.hspy</li></ul>\n",
       "    \n",
       "    <ul style=\"margin: 0px; list-style-position: outside;\">\n",
       "    <li style='margin-left:1em; padding-left: 0.5em'>operation = save</li></ul>\n",
       "    \n",
       "    <ul style=\"margin: 0px; list-style-position: outside;\">\n",
       "    <li style='margin-left:1em; padding-left: 0.5em'>timestamp = 2024-11-19T14:23:59.740064+01:00</li></ul>\n",
       "    </details></ul><ul style=\"margin: 0px; list-style-position: outside;\">\n",
       "                    <details closed>\n",
       "                    <summary style=\"display: list-item;\">\n",
       "                    <li style=\"display: inline;\">\n",
       "                    2\n",
       "                    </li></summary>\n",
       "                    \n",
       "    <ul style=\"margin: 0px; list-style-position: outside;\">\n",
       "    <li style='margin-left:1em; padding-left: 0.5em'>hyperspy_version = 2.2.0</li></ul>\n",
       "    \n",
       "    <ul style=\"margin: 0px; list-style-position: outside;\">\n",
       "    <li style='margin-left:1em; padding-left: 0.5em'>io_plugin = rsciio.hspy</li></ul>\n",
       "    \n",
       "    <ul style=\"margin: 0px; list-style-position: outside;\">\n",
       "    <li style='margin-left:1em; padding-left: 0.5em'>operation = load</li></ul>\n",
       "    \n",
       "    <ul style=\"margin: 0px; list-style-position: outside;\">\n",
       "    <li style='margin-left:1em; padding-left: 0.5em'>timestamp = 2025-02-06T12:16:37.918220+01:00</li></ul>\n",
       "    </details></ul></details></ul>\n",
       "    <ul style=\"margin: 0px; list-style-position: outside;\">\n",
       "    <li style='margin-left:1em; padding-left: 0.5em'>date = 2024-10-11</li></ul>\n",
       "    \n",
       "    <ul style=\"margin: 0px; list-style-position: outside;\">\n",
       "    <li style='margin-left:1em; padding-left: 0.5em'>original_filename = DSO.emd</li></ul>\n",
       "    \n",
       "    <ul style=\"margin: 0px; list-style-position: outside;\">\n",
       "    <li style='margin-left:1em; padding-left: 0.5em'>time = 11:00:13</li></ul>\n",
       "    \n",
       "    <ul style=\"margin: 0px; list-style-position: outside;\">\n",
       "    <li style='margin-left:1em; padding-left: 0.5em'>time_zone = CET</li></ul>\n",
       "    \n",
       "    <ul style=\"margin: 0px; list-style-position: outside;\">\n",
       "    <li style='margin-left:1em; padding-left: 0.5em'>title = EDS</li></ul>\n",
       "    </details></ul><ul style=\"margin: 0px; list-style-position: outside;\">\n",
       "                    <details open>\n",
       "                    <summary style=\"display: list-item;\">\n",
       "                    <li style=\"display: inline;\">\n",
       "                    Sample\n",
       "                    </li></summary>\n",
       "                    \n",
       "    <ul style=\"margin: 0px; list-style-position: outside;\">\n",
       "    <li style='margin-left:1em; padding-left: 0.5em'>elements = ['O', 'Cu', 'Sc', 'Dy']</li></ul>\n",
       "    </details></ul><ul style=\"margin: 0px; list-style-position: outside;\">\n",
       "                    <details open>\n",
       "                    <summary style=\"display: list-item;\">\n",
       "                    <li style=\"display: inline;\">\n",
       "                    Signal\n",
       "                    </li></summary>\n",
       "                    \n",
       "    <ul style=\"margin: 0px; list-style-position: outside;\">\n",
       "    <li style='margin-left:1em; padding-left: 0.5em'>signal_type = EDS_espm</li></ul>\n",
       "    </details></ul>\n",
       "    <ul style=\"margin: 0px; list-style-position: outside;\">\n",
       "    <li style='margin-left:1em; padding-left: 0.5em'>xray_db = 200keV_xrays.json</li></ul>\n",
       "    "
      ],
      "text/plain": [
       "├── Acquisition_instrument\n",
       "│   └── TEM\n",
       "│       ├── Detector\n",
       "│       │   └── EDS\n",
       "│       │       ├── azimuth_angle = np.float64(0.0)\n",
       "│       │       ├── elevation_angle = np.float64(35.0)\n",
       "│       │       ├── energy_resolution_MnKa = np.float64(130.0)\n",
       "│       │       ├── number_of_frames = np.int64(250)\n",
       "│       │       ├── type = SDD_efficiency.txt\n",
       "│       │       ├── width_intercept = 0.065\n",
       "│       │       └── width_slope = 0.01\n",
       "│       ├── Stage\n",
       "│       │   ├── tilt_alpha = np.float64(0.284)\n",
       "│       │   ├── tilt_beta = np.float64(-0.44)\n",
       "│       │   ├── x = np.float64(-0.000134)\n",
       "│       │   ├── y = np.float64(1e-05)\n",
       "│       │   └── z = np.float64(-0.000163)\n",
       "│       ├── beam_energy = np.float64(200.0)\n",
       "│       ├── camera_length = np.float64(115.9)\n",
       "│       ├── magnification = np.float64(7200000.0)\n",
       "│       └── microscope = Titan\n",
       "├── General\n",
       "│   ├── FileIO\n",
       "│   │   ├── 0\n",
       "│   │   │   ├── hyperspy_version = 2.1.1\n",
       "│   │   │   ├── io_plugin = rsciio.emd\n",
       "│   │   │   ├── operation = load\n",
       "│   │   │   └── timestamp = 2024-11-18T16:38:16.357404+01:00\n",
       "│   │   ├── 1\n",
       "│   │   │   ├── hyperspy_version = 2.1.1\n",
       "│   │   │   ├── io_plugin = rsciio.hspy\n",
       "│   │   │   ├── operation = save\n",
       "│   │   │   └── timestamp = 2024-11-19T14:23:59.740064+01:00\n",
       "│   │   └── 2\n",
       "│   │       ├── hyperspy_version = 2.2.0\n",
       "│   │       ├── io_plugin = rsciio.hspy\n",
       "│   │       ├── operation = load\n",
       "│   │       └── timestamp = 2025-02-06T12:16:37.918220+01:00\n",
       "│   ├── date = 2024-10-11\n",
       "│   ├── original_filename = DSO.emd\n",
       "│   ├── time = 11:00:13\n",
       "│   ├── time_zone = CET\n",
       "│   └── title = EDS\n",
       "├── Sample\n",
       "│   └── elements = ['O', 'Cu', 'Sc', 'Dy']\n",
       "├── Signal\n",
       "│   └── signal_type = EDS_espm\n",
       "└── xray_db = 200keV_xrays.json"
      ]
     },
     "execution_count": 3,
     "metadata": {},
     "output_type": "execute_result"
    }
   ],
   "source": [
    "spectrum.metadata"
   ]
  },
  {
   "cell_type": "markdown",
   "metadata": {},
   "source": [
    "## Required metadata\n",
    "\n",
    "### exspy metadata\n",
    "\n",
    "Check exspy for more documentation on these functions"
   ]
  },
  {
   "cell_type": "code",
   "execution_count": 4,
   "metadata": {},
   "outputs": [],
   "source": [
    "spectrum.set_microscope_parameters(elevation_angle=35.0,\n",
    "                                   azimuth_angle= 0.0,\n",
    "                                   tilt_stage= 0.0,\n",
    "                                   beam_energy = 200,\n",
    "                                   )\n",
    "spectrum.metadata.Acquisition_instrument.TEM.Stage.tilt_beta = 0.0\n",
    "spectrum.set_elements([ 'O', 'Sc', 'Dy'])\n"
   ]
  },
  {
   "cell_type": "markdown",
   "metadata": {},
   "source": [
    "### espm metadata\n",
    "\n",
    "- thickness : size of the sample along the beam direction in cm.\n",
    "- density : density of the sample in g.cm^-3\n",
    "- xray_db : X-ray cross-section database. Currently 3 energies are available : 100keV, 200keV and 300keV. Please reach for the devs or use emtables to generate different databases.\n",
    "- width slope & width intercept : \n",
    "    - The energy width of caracteristic X-rays vary with energy. Typically the reference is the width of the Mn-Ka line. In espm (for now), the change in width is modeled using a straight line (slope + intercept). If necessary, you can get your own values by measuring the width of a bunch of caracteristic X-ray peaks.\n",
    "- detector_type : It can be either a text file that contains energy vs detection efficiency from your constructor. There is one such curve available for espm : 'SDD_efficiency.txt'. Or you can build your own simplified detector model using espm. Please, contact the devs for help on that."
   ]
  },
  {
   "cell_type": "code",
   "execution_count": 5,
   "metadata": {},
   "outputs": [],
   "source": [
    "spectrum.set_analysis_parameters(thickness= 1e-5,\n",
    "                                 density = 3.5,\n",
    "                                 xray_db = '200keV_xrays.json',\n",
    "                                 width_slope = 0.01,\n",
    "                                 width_intercept = 0.065,\n",
    "                                 detector_type = 'SDD_efficiency.txt'\n",
    "                                 )"
   ]
  },
  {
   "cell_type": "markdown",
   "metadata": {},
   "source": [
    "# Calibrate the spectrum\n",
    "\n",
    "If necessary you can adjust the energy scale of your dataset. Two windows will pop : one with the x-ray lines labels and the other one on which you can select a range for calibration.\n",
    "\n",
    "Please check exspy for additional documentation."
   ]
  },
  {
   "cell_type": "code",
   "execution_count": 6,
   "metadata": {},
   "outputs": [
    {
     "name": "stderr",
     "output_type": "stream",
     "text": [
      "findfont: Font family ['STIXGeneral'] not found. Falling back to DejaVu Sans.\n",
      "findfont: Font family ['STIXGeneral'] not found. Falling back to DejaVu Sans.\n",
      "findfont: Font family ['STIXGeneral'] not found. Falling back to DejaVu Sans.\n",
      "findfont: Font family ['STIXGeneral'] not found. Falling back to DejaVu Sans.\n",
      "findfont: Font family ['STIXNonUnicode'] not found. Falling back to DejaVu Sans.\n",
      "findfont: Font family ['STIXNonUnicode'] not found. Falling back to DejaVu Sans.\n",
      "findfont: Font family ['STIXNonUnicode'] not found. Falling back to DejaVu Sans.\n",
      "findfont: Font family ['STIXSizeOneSym'] not found. Falling back to DejaVu Sans.\n",
      "findfont: Font family ['STIXSizeTwoSym'] not found. Falling back to DejaVu Sans.\n",
      "findfont: Font family ['STIXSizeThreeSym'] not found. Falling back to DejaVu Sans.\n",
      "findfont: Font family ['STIXSizeFourSym'] not found. Falling back to DejaVu Sans.\n",
      "findfont: Font family ['STIXSizeFiveSym'] not found. Falling back to DejaVu Sans.\n",
      "findfont: Font family ['cmsy10'] not found. Falling back to DejaVu Sans.\n",
      "findfont: Font family ['cmr10'] not found. Falling back to DejaVu Sans.\n",
      "findfont: Font family ['cmtt10'] not found. Falling back to DejaVu Sans.\n",
      "findfont: Font family ['cmmi10'] not found. Falling back to DejaVu Sans.\n",
      "findfont: Font family ['cmb10'] not found. Falling back to DejaVu Sans.\n",
      "findfont: Font family ['cmss10'] not found. Falling back to DejaVu Sans.\n",
      "findfont: Font family ['cmex10'] not found. Falling back to DejaVu Sans.\n",
      "C:\\Users\\adteurtrie\\AppData\\Local\\anaconda3\\envs\\espmtest3\\Lib\\site-packages\\jupyter_client\\session.py:721: UserWarning: Message serialization failed with:\n",
      "Out of range float values are not JSON compliant\n",
      "Supporting this message is deprecated in jupyter-client 7, please make sure your message is JSON-compliant\n",
      "  content = self.pack(content)\n"
     ]
    },
    {
     "data": {
      "application/vnd.jupyter.widget-view+json": {
       "model_id": "987c4840dcc247d9a228b7157dd681ec",
       "version_major": 2,
       "version_minor": 0
      },
      "text/plain": [
       "VBox(children=(HBox(children=(FloatText(value=0.0, description='New left'), Label(value='keV', layout=Layout(w…"
      ]
     },
     "metadata": {},
     "output_type": "display_data"
    }
   ],
   "source": [
    "spectrum.plot(True)\n",
    "spectrum.calibrate()"
   ]
  },
  {
   "cell_type": "markdown",
   "metadata": {},
   "source": [
    "# Select background windows\n",
    "\n",
    "A plot of the spectrum will pop with several ROIs. You can click and drag the ROIs to select the range over which the bremsstrahlung will be calculated. Once you're done selecting the energy ranges, you can click on \"Apply\". You should see the bremsstrahlung model appear.\n",
    "\n",
    "Later ou you input directly the energy ranges to skip the selection gui."
   ]
  },
  {
   "cell_type": "code",
   "execution_count": 10,
   "metadata": {},
   "outputs": [
    {
     "data": {
      "application/vnd.jupyter.widget-view+json": {
       "model_id": "f0968031a28a493b88f025ed1db3f534",
       "version_major": 2,
       "version_minor": 0
      },
      "text/plain": [
       "VBox(children=(HBox(children=(FloatText(value=nan, disabled=True), Label(value='keV'), Label(value='-'), Float…"
      ]
     },
     "metadata": {},
     "output_type": "display_data"
    },
    {
     "data": {
      "application/vnd.jupyter.widget-view+json": {
       "model_id": "a0d61745499a41d7a10004a135a0dab2",
       "version_major": 2,
       "version_minor": 0
      },
      "text/plain": [
       "VBox(children=(HBox(children=(FloatText(value=nan, disabled=True), Label(value='keV'), Label(value='-'), Float…"
      ]
     },
     "metadata": {},
     "output_type": "display_data"
    },
    {
     "data": {
      "application/vnd.jupyter.widget-view+json": {
       "model_id": "cdf0f78bbf0d49bdae71fe4bafd185f4",
       "version_major": 2,
       "version_minor": 0
      },
      "text/plain": [
       "VBox(children=(HBox(children=(FloatText(value=nan, disabled=True), Label(value='keV'), Label(value='-'), Float…"
      ]
     },
     "metadata": {},
     "output_type": "display_data"
    },
    {
     "data": {
      "application/vnd.jupyter.widget-view+json": {
       "model_id": "ae724c4f114a4ca789652d329300a07a",
       "version_major": 2,
       "version_minor": 0
      },
      "text/plain": [
       "VBox(children=(HBox(children=(FloatText(value=nan, disabled=True), Label(value='keV'), Label(value='-'), Float…"
      ]
     },
     "metadata": {},
     "output_type": "display_data"
    },
    {
     "data": {
      "application/vnd.jupyter.widget-view+json": {
       "model_id": "a95076ebb40f446eb1d2a0466bdfd871",
       "version_major": 2,
       "version_minor": 0
      },
      "text/plain": [
       "VBox(children=(HBox(children=(FloatText(value=nan, disabled=True), Label(value='keV'), Label(value='-'), Float…"
      ]
     },
     "metadata": {},
     "output_type": "display_data"
    }
   ],
   "source": [
    "spectrum.select_background_windows(num_windows=5)"
   ]
  },
  {
   "cell_type": "markdown",
   "metadata": {},
   "source": [
    "# Build the EDXS model\n",
    "\n",
    "The `build_G` function has two important keyword argument : \n",
    "\n",
    "### elements_dict\n",
    "\n",
    "The `elements_dict` input is structured as  : {element : cutoff}, e.g. `{Cu  : 3.0}`. It means that the fitting of lines of an element below the cutoff energy will be separated from the lines above the cutoff.\n",
    "The \"elements_dict\" can be useful in three ways : \n",
    "- Since Cu characteristic X-rays are often artefacts originating from the sample support, their absorption coefficient is very different from the studied sample. Thus separating K from L lines of Cu results in a better fit.\n",
    "- For some elements like the transition metals, the absorption coefficient may depend massively on the material composition and/or structure. The low energy lines, that are more sensitive to absorption effects may thus also be hard to fit and separating them will probably improve the fit. \n",
    "- For heavy elements, the cross-section of M or above lines may be wrong. Separating them from the rest will probably improve the fit.\n",
    "\n",
    "### ignored_elements\n",
    "\n",
    "The `ignored_elements` input is a list of elements. For all the elements of the list, each caracteristic X-ray emission line is independant from the others. Ignored elements are not considered in the quantification. The default value of `ignored_elements` is `['Cu']`. Usually copper X-ray counts are artefacts from the grid holding the sample which means that the absorption is often vastly different for Cu than the rest of elements."
   ]
  },
  {
   "cell_type": "code",
   "execution_count": 5,
   "metadata": {},
   "outputs": [],
   "source": [
    "spectrum.build_G(ignored_elements = ['Cu'],elements_dict={ 'Dy' : 3.0})"
   ]
  },
  {
   "cell_type": "markdown",
   "metadata": {},
   "source": [
    "# Initialise the NMF estimator\n",
    "\n",
    "The nmf algorithm below takes a few key arguments :\n",
    "- n_components : it has to be 1 when analysing a spectrum\n",
    "- max_iter : max number of iterations\n",
    "- tol : convergence criterion, the decomposition stops when it is reached\n",
    "- G : EDXS model used to compute NMF\n",
    "- hspy_comp : compatibility with hyperspy, it has to be True when using hyperspy objects."
   ]
  },
  {
   "cell_type": "code",
   "execution_count": 6,
   "metadata": {},
   "outputs": [],
   "source": [
    "tspectrum = expand_spectrum(spectrum)\n",
    "nmf = SmoothNMF(n_components=1, max_iter=1000, tol=1e-6, G = tspectrum.model, hspy_comp = True)"
   ]
  },
  {
   "cell_type": "markdown",
   "metadata": {},
   "source": [
    "# Run the decomposition"
   ]
  },
  {
   "cell_type": "code",
   "execution_count": null,
   "metadata": {},
   "outputs": [],
   "source": [
    "tspectrum.decomposition(algorithm=nmf)"
   ]
  },
  {
   "cell_type": "markdown",
   "metadata": {},
   "source": [
    "## Quantification\n",
    "\n",
    "The `selected_elts` input is the list of elements you want to restrain the quantification to. For example, if you have a sample with Si, Fe, Co and Mn but you are interested in the Fe/Co ratio you can use : `selected_elts = ['Fe', 'Co']`. "
   ]
  },
  {
   "cell_type": "code",
   "execution_count": null,
   "metadata": {},
   "outputs": [],
   "source": [
    "tspectrum.print_concentration_report(selected_elts=['Sc', 'Dy'])"
   ]
  },
  {
   "cell_type": "markdown",
   "metadata": {},
   "source": [
    "## Visualise the results\n",
    "\n",
    "This function can only be used after a decomposition with only one component on a single spectrum. The `elements` keyword argument can be used to display the part of the model corresponding to each element in the list."
   ]
  },
  {
   "cell_type": "code",
   "execution_count": null,
   "metadata": {},
   "outputs": [],
   "source": [
    "tspectrum.plot_1D_results(elements=['O', 'Sc', 'Dy'])"
   ]
  },
  {
   "cell_type": "markdown",
   "metadata": {},
   "source": [
    "# Optional cells\n",
    "## A. Estimate the mass-thickness\n",
    "\n",
    "This feature is experimental. Its aim is to determine automatically the mass-thickness of the studied sample based on the beam current, etc ...\n",
    "\n",
    "### Optional metadata\n",
    "\n",
    "These fields are required to try the fit with the mass-thickness as an adjustable variable.\n",
    "\n",
    "- geom_eff : geometric efficiency of the detector in sr (i.e. solid angle covered by the detector.). "
   ]
  },
  {
   "cell_type": "code",
   "execution_count": null,
   "metadata": {},
   "outputs": [],
   "source": [
    "spectrum.set_analysis_parameters(geom_eff=1.0)\n",
    "\n",
    "spectrum.set_microscope_parameters(real_time=10.0,\n",
    "                                   beam_current = 1)\n",
    "\n",
    "spectrum.estimate_mass_thickness(ignored_elements = ['Cu'],elements_dict={ 'Dy' : 3.0}, tol = 1e-10)"
   ]
  },
  {
   "cell_type": "markdown",
   "metadata": {},
   "source": [
    "## B. Select a ROI of spectrum image\n",
    "\n",
    "Execute these cells before the first cells if you prefer to select an area of a spectrum image.\n",
    "\n",
    "### With spectrum-image only\n",
    "\n",
    "3 windows will pop : \n",
    "- A pseudo image which correspond to the sum of channels of spectra. A green rectangle is drawn on it and can be interactively \n",
    "- A spectrum of a single pixel (that windows can be ignored)\n",
    "- A spectrum that corresponds to the sum over the pixels selected by the green area."
   ]
  },
  {
   "cell_type": "code",
   "execution_count": null,
   "metadata": {},
   "outputs": [],
   "source": [
    "spim = hs.load()\n",
    "spim.plot(True)\n",
    "roi = hs.roi.RectangularROI()\n",
    "selected = roi.interactive(spim)\n",
    "mean_spectrum = hs.interactive(selected.mean)\n",
    "mean_spectrum.plot(True)"
   ]
  },
  {
   "cell_type": "code",
   "execution_count": 14,
   "metadata": {},
   "outputs": [],
   "source": [
    "spectrum = mean_spectrum.deepcopy()\n",
    "spectrum.change_dtype('float64')\n",
    "spectrum.set_signal_type('EDS_espm')"
   ]
  },
  {
   "cell_type": "markdown",
   "metadata": {},
   "source": [
    "### With both HAADF and spectrum-image"
   ]
  },
  {
   "cell_type": "code",
   "execution_count": null,
   "metadata": {},
   "outputs": [],
   "source": [
    "spim = hs.load()\n",
    "haadf = hs.load()\n",
    "haadf.plot()\n",
    "spim.plot(True)\n",
    "roi = hs.roi.RectangularROI()\n",
    "selected = roi.interactive(spim)\n",
    "roi.interactive(haadf)\n",
    "mean_spectrum = hs.interactive(selected.mean)\n",
    "mean_spectrum.plot(True)"
   ]
  }
 ],
 "metadata": {
  "kernelspec": {
   "display_name": "Python 3 (ipykernel)",
   "language": "python",
   "name": "python3"
  },
  "language_info": {
   "codemirror_mode": {
    "name": "ipython",
    "version": 3
   },
   "file_extension": ".py",
   "mimetype": "text/x-python",
   "name": "python",
   "nbconvert_exporter": "python",
   "pygments_lexer": "ipython3",
   "version": "3.11.11"
  }
 },
 "nbformat": 4,
 "nbformat_minor": 4
}
