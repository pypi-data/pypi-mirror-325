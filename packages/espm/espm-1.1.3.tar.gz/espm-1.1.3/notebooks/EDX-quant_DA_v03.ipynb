{
 "cells": [
  {
   "cell_type": "markdown",
   "id": "1e3bdac9-3a86-4bd7-9a23-306a9f635925",
   "metadata": {},
   "source": [
    "### Import packages that we need"
   ]
  },
  {
   "cell_type": "code",
   "execution_count": 1,
   "id": "03851325-da29-4cfb-a99b-0bb82b850794",
   "metadata": {},
   "outputs": [],
   "source": [
    "import hyperspy.api as hs"
   ]
  },
  {
   "cell_type": "code",
   "execution_count": 2,
   "id": "06c4525d-4cc7-4097-8601-cca0a372aef3",
   "metadata": {},
   "outputs": [],
   "source": [
    "import exspy"
   ]
  },
  {
   "cell_type": "code",
   "execution_count": 3,
   "id": "9e4d1d95-297c-479f-98b5-4f0d964cea45",
   "metadata": {},
   "outputs": [],
   "source": [
    "import matplotlib.pyplot as plt\n",
    "%matplotlib qt\n",
    "import numpy as np\n",
    "import IPython.utils.io"
   ]
  },
  {
   "cell_type": "code",
   "execution_count": 4,
   "id": "00c62de1-b34d-441e-ae01-2be0212d972b",
   "metadata": {},
   "outputs": [],
   "source": [
    "import espm"
   ]
  },
  {
   "cell_type": "code",
   "execution_count": 5,
   "id": "0046e7a6-cd03-4921-b910-4cc65c4fe601",
   "metadata": {},
   "outputs": [],
   "source": [
    "import json"
   ]
  },
  {
   "cell_type": "code",
   "execution_count": 6,
   "id": "55616bb3-69b7-42c5-b8c1-678319c12542",
   "metadata": {},
   "outputs": [],
   "source": [
    "from espm.conf import NUMBER_PERIODIC_TABLE"
   ]
  },
  {
   "cell_type": "markdown",
   "id": "0cb305df-1cd0-448a-8d41-30582a04a7cf",
   "metadata": {},
   "source": [
    "### Define useful functions"
   ]
  },
  {
   "cell_type": "code",
   "execution_count": 7,
   "id": "f5d3510d-2a54-4923-9e72-c22e1a0dad0c",
   "metadata": {},
   "outputs": [],
   "source": [
    "def symbol_list () : \n",
    "    symbol_list = []\n",
    "    with open(NUMBER_PERIODIC_TABLE,\"r\") as f : \n",
    "            NPT = json.load(f)[\"table\"]\n",
    "    for num in NPT.keys() : \n",
    "        symbol_list.append(NPT[num][\"symbol\"])\n",
    "    return symbol_list"
   ]
  },
  {
   "cell_type": "code",
   "execution_count": 8,
   "id": "ae48257f-7e61-47f2-bda7-ab4af4407d84",
   "metadata": {},
   "outputs": [],
   "source": [
    "def num_to_symbol(num):\n",
    "    r\"\"\"\n",
    "    Converts number to atomic symbol.\n",
    "\n",
    "    Parameters\n",
    "    ----------\n",
    "    num : str\n",
    "        Number to be converted to atomic symbol. E. g. \"1\" return \"H\"\n",
    "    \n",
    "    Returns\n",
    "    -------\n",
    "    element : str\n",
    "        Corresponding atomic symbol.\n",
    "    \"\"\"\n",
    "    d = {str(i+1):el for i,el in enumerate(symbol_list())} \n",
    "    try:\n",
    "        return d[num.split(\"_\")[0]]+\"_\"+num.split(\"_\")[1]\n",
    "    except:\n",
    "        try:\n",
    "            return d[num]\n",
    "        except:\n",
    "            return num"
   ]
  },
  {
   "cell_type": "code",
   "execution_count": 35,
   "id": "4b21cce9",
   "metadata": {},
   "outputs": [
    {
     "data": {
      "text/plain": [
       "1.0"
      ]
     },
     "execution_count": 35,
     "metadata": {},
     "output_type": "execute_result"
    }
   ],
   "source": [
    "a = np.array([[1.]])\n",
    "a.shape\n",
    "a.sum()"
   ]
  },
  {
   "cell_type": "code",
   "execution_count": 9,
   "id": "2c389a0f-94fb-4d27-b9d3-9d39308cf7fb",
   "metadata": {},
   "outputs": [],
   "source": [
    "def get_full_el_list(dataset):\n",
    "    els = dataset.metadata.EDS_model.elements.copy()\n",
    "    els_names = [num_to_symbol(el) for el in els]\n",
    "    return els_names"
   ]
  },
  {
   "cell_type": "code",
   "execution_count": 10,
   "id": "4ba26fa7-6e71-4349-9055-ba2265f8ef72",
   "metadata": {},
   "outputs": [],
   "source": [
    "def plot_data_model_ROI(dataset):\n",
    "    r\"\"\"\n",
    "    Plots ESPM EDXS model fit results on the experimental data, summed over the chosen region of interest.\n",
    "\n",
    "    Parameters\n",
    "    ----------\n",
    "    None : \n",
    "        The data are taken from a previous decomposition.\n",
    "        \n",
    "    Returns\n",
    "    -------\n",
    "    None\n",
    "    \"\"\"\n",
    "        \n",
    "    W = dataset.learning_results.decomposition_algorithm.W_\n",
    "    G = dataset.learning_results.decomposition_algorithm.G_\n",
    "    H = dataset.learning_results.decomposition_algorithm.H_\n",
    "\n",
    "    WH = np.matmul(W, H)\n",
    "\n",
    "    contributions = [hs.signals.Signal1D((G[:, [i]] @ (WH)[[i], :]).T.reshape(dataset.data.shape)) for i in range(G.shape[1])]\n",
    "    contributions.append(hs.signals.Signal1D((np.matmul(G, WH)).T.reshape(dataset.data.shape)))\n",
    "\n",
    "    titles = get_full_el_list(dataset) + [\"Background 1\", \"Background 2\", \"Full Model\"]\n",
    "    for i, c in enumerate(contributions):\n",
    "        for a, b in zip(c.axes_manager._axes, dataset.axes_manager._axes):\n",
    "            a.update_from(b)\n",
    "        c.metadata.General.title = titles[i]\n",
    "\n",
    "    fig, ax = plt.subplots()\n",
    "    dataset.plot()\n",
    "\n",
    "    roi = hs.roi.RectangularROI(left = 0, top = 0, right = dataset.axes_manager[1].size, bottom = dataset.axes_manager[0].size)\n",
    "        \n",
    "    imr = roi.interactive(dataset, color = 'green').sum(axis = 0).sum(axis = 0)\n",
    "    contributions_roi = [roi.interactive(g, None).sum(axis = 0).sum(axis = 0) for g in contributions]\n",
    "\n",
    "    spectra = [imr] + contributions_roi\n",
    "    lines = []\n",
    "        \n",
    "    line, = ax.plot(imr.data, label = imr.metadata.General.title, linestyle = \"-\")\n",
    "    lines.append(line)\n",
    "        \n",
    "    for spectrum in contributions_roi:\n",
    "        line, = ax.plot(spectrum.data, label = spectrum.metadata.General.title, linestyle = \"--\")\n",
    "        lines.append(line)\n",
    "        \n",
    "    ax.legend()\n",
    "\n",
    "    def update_plot(*args, **kwargs):\n",
    "        imr = roi.interactive(dataset, color = 'green').sum(axis = 0).sum(axis = 0)\n",
    "        contributions_roi = [roi.interactive(g, None).sum(axis = 0).sum(axis = 0) for g in contributions]\n",
    "\n",
    "        all_data = [imr] + contributions_roi\n",
    "        for line, new_data in zip(lines, all_data):\n",
    "            line.set_ydata(new_data.data)\n",
    "\n",
    "        ax.relim()\n",
    "        ax.autoscale_view()\n",
    "        fig.canvas.draw_idle()\n",
    "\n",
    "    roi.events.changed.connect(update_plot)\n",
    "    update_plot()\n",
    "    plt.show()\n",
    "\n",
    "    return"
   ]
  },
  {
   "cell_type": "markdown",
   "id": "ce2263f4-98fa-4e2b-8ef6-ef7edf5f4b1e",
   "metadata": {},
   "source": [
    "#### Load data from Velox"
   ]
  },
  {
   "cell_type": "code",
   "execution_count": 11,
   "id": "d1b6220c-cff4-4166-a7f1-1ce8c6f8f602",
   "metadata": {},
   "outputs": [],
   "source": [
    "# Choose file\n",
    "input_filename = 'spectrum_2.hspy'"
   ]
  },
  {
   "cell_type": "code",
   "execution_count": 12,
   "id": "c63a9c61-7451-4060-b502-f0228013df94",
   "metadata": {},
   "outputs": [],
   "source": [
    "# Load Velox dataset with separate detector quadrant spectrum images \n",
    "spectrum_2 = hs.load(input_filename)"
   ]
  },
  {
   "cell_type": "markdown",
   "id": "59b43c50-5cdf-4144-b4ef-83260209fbd2",
   "metadata": {},
   "source": [
    "#### Look at axes_manager of haadf and spim, correct any differences"
   ]
  },
  {
   "cell_type": "markdown",
   "id": "c07f800e-1f66-4423-bc73-1cd57397d60b",
   "metadata": {},
   "source": [
    "### Set up to quantify spectrum using espm"
   ]
  },
  {
   "cell_type": "code",
   "execution_count": 13,
   "id": "1d907ac0-3c7f-4865-b426-6517b8f99703",
   "metadata": {},
   "outputs": [],
   "source": [
    "spectrum_2.change_dtype(\"float32\")"
   ]
  },
  {
   "cell_type": "code",
   "execution_count": 14,
   "id": "cb5c219b-f1c8-4bad-a41c-0284a790f919",
   "metadata": {},
   "outputs": [
    {
     "name": "stderr",
     "output_type": "stream",
     "text": [
      "c:\\Users\\adteurtrie\\AppData\\Local\\anaconda3\\envs\\espm\\Lib\\site-packages\\exspy\\misc\\material.py:29: VisibleDeprecationWarning: This module is deprecated, use `exspy.material` instead. It will be removed in exspy 1.0.\n",
      "  warnings.warn(\n",
      "c:\\Users\\adteurtrie\\AppData\\Local\\anaconda3\\envs\\espm\\Lib\\site-packages\\exspy\\misc\\eds\\utils.py:15: VisibleDeprecationWarning: This module is deprecated, use `exspy.utils.eds` instead. It will be removed in exspy 1.0.\n",
      "  warnings.warn(\n"
     ]
    }
   ],
   "source": [
    "spectrum_2.set_signal_type(\"EDSespm\")"
   ]
  },
  {
   "cell_type": "code",
   "execution_count": 15,
   "id": "c34e9f34-6cbd-4c96-89de-17a74a320292",
   "metadata": {},
   "outputs": [
    {
     "name": "stdout",
     "output_type": "stream",
     "text": [
      "Warning! Optional argument: ['width_slope'] specified by user but not used\n",
      "Warning! Optional argument: ['width_intercept'] specified by user but not used\n",
      "Warning! Optional argument: ['take_off_angle'] specified by user but not used\n",
      "Warning! Optional argument: ['EDS']['width_slope'] specified by user but not used\n",
      "Warning! Optional argument: ['EDS']['width_intercept'] specified by user but not used\n",
      "Warning! Optional argument: ['EDS']['take_off_angle'] specified by user but not used\n",
      "Warning! Optional argument: ['Detector']['EDS']['width_slope'] specified by user but not used\n",
      "Warning! Optional argument: ['Detector']['EDS']['width_intercept'] specified by user but not used\n",
      "Warning! Optional argument: ['Detector']['EDS']['take_off_angle'] specified by user but not used\n"
     ]
    }
   ],
   "source": [
    "# Set analysis parameters for spectrum_2, including element list, detector type and X-ray database\n",
    "spectrum_2.set_analysis_parameters(beam_energy=200,elements = ['C','O', 'Sc', 'Cu', 'Dy'],\n",
    "                                  detector_type='SDD_efficiency.txt',\n",
    "                                   thickness = 2e-5,\n",
    "                                   elevation_angle=18.0,\n",
    "                                   azimuth_angle=45.0,\n",
    "                                   density = 6.9,\n",
    "                                   tilt_stage=0.0,\n",
    "                                  xray_db='200keV_xrays.json')"
   ]
  },
  {
   "cell_type": "code",
   "execution_count": 16,
   "id": "dccffe81-6f89-4b4b-8ab8-3cfd6fcaaef8",
   "metadata": {},
   "outputs": [],
   "source": [
    "from exspy._misc.eds.utils import get_xray_lines_near_energy"
   ]
  },
  {
   "cell_type": "code",
   "execution_count": null,
   "id": "5899b233-91a0-42dc-b602-69edf2b1a3c2",
   "metadata": {},
   "outputs": [],
   "source": []
  },
  {
   "cell_type": "code",
   "execution_count": 17,
   "id": "2e98a321-e884-4157-b6bf-93689405f033",
   "metadata": {
    "scrolled": true
   },
   "outputs": [],
   "source": [
    "spectrum_2.metadata.Sample.density = 6.9\n",
    "# spectrum_2.metadata.Sample.thickness = 5.9e-5"
   ]
  },
  {
   "cell_type": "code",
   "execution_count": 18,
   "id": "5077aaa0-7374-4019-a64f-f205aa2ead91",
   "metadata": {},
   "outputs": [],
   "source": [
    "spectrum_2.metadata.Acquisition_instrument.TEM.Detector.EDS.take_off_angle = 7"
   ]
  },
  {
   "cell_type": "code",
   "execution_count": 19,
   "id": "29dbcfa1-274c-4411-8fa8-38311b6d11e0",
   "metadata": {},
   "outputs": [
    {
     "data": {
      "text/html": [
       "<ul style=\"margin: 0px; list-style-position: outside;\">\n",
       "                    <details open>\n",
       "                    <summary style=\"display: list-item;\">\n",
       "                    <li style=\"display: inline;\">\n",
       "                    Acquisition_instrument\n",
       "                    </li></summary>\n",
       "                    <ul style=\"margin: 0px; list-style-position: outside;\">\n",
       "                    <details closed>\n",
       "                    <summary style=\"display: list-item;\">\n",
       "                    <li style=\"display: inline;\">\n",
       "                    TEM\n",
       "                    </li></summary>\n",
       "                    <ul style=\"margin: 0px; list-style-position: outside;\">\n",
       "                    <details closed>\n",
       "                    <summary style=\"display: list-item;\">\n",
       "                    <li style=\"display: inline;\">\n",
       "                    Detector\n",
       "                    </li></summary>\n",
       "                    <ul style=\"margin: 0px; list-style-position: outside;\">\n",
       "                    <details closed>\n",
       "                    <summary style=\"display: list-item;\">\n",
       "                    <li style=\"display: inline;\">\n",
       "                    EDS\n",
       "                    </li></summary>\n",
       "                    \n",
       "    <ul style=\"margin: 0px; list-style-position: outside;\">\n",
       "    <li style='margin-left:1em; padding-left: 0.5em'>azimuth_angle = 45.0</li></ul>\n",
       "    \n",
       "    <ul style=\"margin: 0px; list-style-position: outside;\">\n",
       "    <li style='margin-left:1em; padding-left: 0.5em'>elevation_angle = 18.0</li></ul>\n",
       "    \n",
       "    <ul style=\"margin: 0px; list-style-position: outside;\">\n",
       "    <li style='margin-left:1em; padding-left: 0.5em'>energy_resolution_MnKa = 130.0</li></ul>\n",
       "    \n",
       "    <ul style=\"margin: 0px; list-style-position: outside;\">\n",
       "    <li style='margin-left:1em; padding-left: 0.5em'>number_of_frames = 250</li></ul>\n",
       "    \n",
       "    <ul style=\"margin: 0px; list-style-position: outside;\">\n",
       "    <li style='margin-left:1em; padding-left: 0.5em'>take_off_angle = 7</li></ul>\n",
       "    \n",
       "    <ul style=\"margin: 0px; list-style-position: outside;\">\n",
       "    <li style='margin-left:1em; padding-left: 0.5em'>type = SDD_efficiency.txt</li></ul>\n",
       "    \n",
       "    <ul style=\"margin: 0px; list-style-position: outside;\">\n",
       "    <li style='margin-left:1em; padding-left: 0.5em'>width_intercept = 0.065</li></ul>\n",
       "    \n",
       "    <ul style=\"margin: 0px; list-style-position: outside;\">\n",
       "    <li style='margin-left:1em; padding-left: 0.5em'>width_slope = 0.01</li></ul>\n",
       "    </details></ul></details></ul><ul style=\"margin: 0px; list-style-position: outside;\">\n",
       "                    <details closed>\n",
       "                    <summary style=\"display: list-item;\">\n",
       "                    <li style=\"display: inline;\">\n",
       "                    Stage\n",
       "                    </li></summary>\n",
       "                    \n",
       "    <ul style=\"margin: 0px; list-style-position: outside;\">\n",
       "    <li style='margin-left:1em; padding-left: 0.5em'>tilt_alpha = 0.0</li></ul>\n",
       "    \n",
       "    <ul style=\"margin: 0px; list-style-position: outside;\">\n",
       "    <li style='margin-left:1em; padding-left: 0.5em'>tilt_beta = -0.44</li></ul>\n",
       "    \n",
       "    <ul style=\"margin: 0px; list-style-position: outside;\">\n",
       "    <li style='margin-left:1em; padding-left: 0.5em'>x = -0.000134</li></ul>\n",
       "    \n",
       "    <ul style=\"margin: 0px; list-style-position: outside;\">\n",
       "    <li style='margin-left:1em; padding-left: 0.5em'>y = 1e-05</li></ul>\n",
       "    \n",
       "    <ul style=\"margin: 0px; list-style-position: outside;\">\n",
       "    <li style='margin-left:1em; padding-left: 0.5em'>z = -0.000163</li></ul>\n",
       "    </details></ul>\n",
       "    <ul style=\"margin: 0px; list-style-position: outside;\">\n",
       "    <li style='margin-left:1em; padding-left: 0.5em'>beam_energy = 200</li></ul>\n",
       "    \n",
       "    <ul style=\"margin: 0px; list-style-position: outside;\">\n",
       "    <li style='margin-left:1em; padding-left: 0.5em'>camera_length = 115.9</li></ul>\n",
       "    \n",
       "    <ul style=\"margin: 0px; list-style-position: outside;\">\n",
       "    <li style='margin-left:1em; padding-left: 0.5em'>magnification = 7200000.0</li></ul>\n",
       "    \n",
       "    <ul style=\"margin: 0px; list-style-position: outside;\">\n",
       "    <li style='margin-left:1em; padding-left: 0.5em'>microscope = Titan</li></ul>\n",
       "    </details></ul></details></ul><ul style=\"margin: 0px; list-style-position: outside;\">\n",
       "                    <details open>\n",
       "                    <summary style=\"display: list-item;\">\n",
       "                    <li style=\"display: inline;\">\n",
       "                    General\n",
       "                    </li></summary>\n",
       "                    <ul style=\"margin: 0px; list-style-position: outside;\">\n",
       "                    <details closed>\n",
       "                    <summary style=\"display: list-item;\">\n",
       "                    <li style=\"display: inline;\">\n",
       "                    FileIO\n",
       "                    </li></summary>\n",
       "                    <ul style=\"margin: 0px; list-style-position: outside;\">\n",
       "                    <details closed>\n",
       "                    <summary style=\"display: list-item;\">\n",
       "                    <li style=\"display: inline;\">\n",
       "                    0\n",
       "                    </li></summary>\n",
       "                    \n",
       "    <ul style=\"margin: 0px; list-style-position: outside;\">\n",
       "    <li style='margin-left:1em; padding-left: 0.5em'>hyperspy_version = 2.1.1</li></ul>\n",
       "    \n",
       "    <ul style=\"margin: 0px; list-style-position: outside;\">\n",
       "    <li style='margin-left:1em; padding-left: 0.5em'>io_plugin = rsciio.emd</li></ul>\n",
       "    \n",
       "    <ul style=\"margin: 0px; list-style-position: outside;\">\n",
       "    <li style='margin-left:1em; padding-left: 0.5em'>operation = load</li></ul>\n",
       "    \n",
       "    <ul style=\"margin: 0px; list-style-position: outside;\">\n",
       "    <li style='margin-left:1em; padding-left: 0.5em'>timestamp = 2024-11-18T16:38:16.357404+01:00</li></ul>\n",
       "    </details></ul><ul style=\"margin: 0px; list-style-position: outside;\">\n",
       "                    <details closed>\n",
       "                    <summary style=\"display: list-item;\">\n",
       "                    <li style=\"display: inline;\">\n",
       "                    1\n",
       "                    </li></summary>\n",
       "                    \n",
       "    <ul style=\"margin: 0px; list-style-position: outside;\">\n",
       "    <li style='margin-left:1em; padding-left: 0.5em'>hyperspy_version = 2.1.1</li></ul>\n",
       "    \n",
       "    <ul style=\"margin: 0px; list-style-position: outside;\">\n",
       "    <li style='margin-left:1em; padding-left: 0.5em'>io_plugin = rsciio.hspy</li></ul>\n",
       "    \n",
       "    <ul style=\"margin: 0px; list-style-position: outside;\">\n",
       "    <li style='margin-left:1em; padding-left: 0.5em'>operation = save</li></ul>\n",
       "    \n",
       "    <ul style=\"margin: 0px; list-style-position: outside;\">\n",
       "    <li style='margin-left:1em; padding-left: 0.5em'>timestamp = 2024-11-19T14:23:59.740064+01:00</li></ul>\n",
       "    </details></ul><ul style=\"margin: 0px; list-style-position: outside;\">\n",
       "                    <details closed>\n",
       "                    <summary style=\"display: list-item;\">\n",
       "                    <li style=\"display: inline;\">\n",
       "                    2\n",
       "                    </li></summary>\n",
       "                    \n",
       "    <ul style=\"margin: 0px; list-style-position: outside;\">\n",
       "    <li style='margin-left:1em; padding-left: 0.5em'>hyperspy_version = 2.2.0</li></ul>\n",
       "    \n",
       "    <ul style=\"margin: 0px; list-style-position: outside;\">\n",
       "    <li style='margin-left:1em; padding-left: 0.5em'>io_plugin = rsciio.hspy</li></ul>\n",
       "    \n",
       "    <ul style=\"margin: 0px; list-style-position: outside;\">\n",
       "    <li style='margin-left:1em; padding-left: 0.5em'>operation = load</li></ul>\n",
       "    \n",
       "    <ul style=\"margin: 0px; list-style-position: outside;\">\n",
       "    <li style='margin-left:1em; padding-left: 0.5em'>timestamp = 2024-12-06T16:15:50.073937+01:00</li></ul>\n",
       "    </details></ul></details></ul>\n",
       "    <ul style=\"margin: 0px; list-style-position: outside;\">\n",
       "    <li style='margin-left:1em; padding-left: 0.5em'>date = 2024-10-11</li></ul>\n",
       "    \n",
       "    <ul style=\"margin: 0px; list-style-position: outside;\">\n",
       "    <li style='margin-left:1em; padding-left: 0.5em'>original_filename = DSO.emd</li></ul>\n",
       "    \n",
       "    <ul style=\"margin: 0px; list-style-position: outside;\">\n",
       "    <li style='margin-left:1em; padding-left: 0.5em'>time = 11:00:13</li></ul>\n",
       "    \n",
       "    <ul style=\"margin: 0px; list-style-position: outside;\">\n",
       "    <li style='margin-left:1em; padding-left: 0.5em'>time_zone = CET</li></ul>\n",
       "    \n",
       "    <ul style=\"margin: 0px; list-style-position: outside;\">\n",
       "    <li style='margin-left:1em; padding-left: 0.5em'>title = EDS</li></ul>\n",
       "    </details></ul><ul style=\"margin: 0px; list-style-position: outside;\">\n",
       "                    <details open>\n",
       "                    <summary style=\"display: list-item;\">\n",
       "                    <li style=\"display: inline;\">\n",
       "                    Sample\n",
       "                    </li></summary>\n",
       "                    \n",
       "    <ul style=\"margin: 0px; list-style-position: outside;\">\n",
       "    <li style='margin-left:1em; padding-left: 0.5em'>density = 6.9</li></ul>\n",
       "    \n",
       "    <ul style=\"margin: 0px; list-style-position: outside;\">\n",
       "    <li style='margin-left:1em; padding-left: 0.5em'>elements = ['C', 'O', 'Sc', 'Cu', 'Dy']</li></ul>\n",
       "    \n",
       "    <ul style=\"margin: 0px; list-style-position: outside;\">\n",
       "    <li style='margin-left:1em; padding-left: 0.5em'>thickness = 2e-05</li></ul>\n",
       "    </details></ul><ul style=\"margin: 0px; list-style-position: outside;\">\n",
       "                    <details open>\n",
       "                    <summary style=\"display: list-item;\">\n",
       "                    <li style=\"display: inline;\">\n",
       "                    Signal\n",
       "                    </li></summary>\n",
       "                    \n",
       "    <ul style=\"margin: 0px; list-style-position: outside;\">\n",
       "    <li style='margin-left:1em; padding-left: 0.5em'>signal_type = EDSespm</li></ul>\n",
       "    </details></ul>\n",
       "    <ul style=\"margin: 0px; list-style-position: outside;\">\n",
       "    <li style='margin-left:1em; padding-left: 0.5em'>xray_db = 200keV_xrays.json</li></ul>\n",
       "    "
      ],
      "text/plain": [
       "├── Acquisition_instrument\n",
       "│   └── TEM\n",
       "│       ├── Detector\n",
       "│       │   └── EDS\n",
       "│       │       ├── azimuth_angle = 45.0\n",
       "│       │       ├── elevation_angle = 18.0\n",
       "│       │       ├── energy_resolution_MnKa = 130.0\n",
       "│       │       ├── number_of_frames = 250\n",
       "│       │       ├── take_off_angle = 7\n",
       "│       │       ├── type = SDD_efficiency.txt\n",
       "│       │       ├── width_intercept = 0.065\n",
       "│       │       └── width_slope = 0.01\n",
       "│       ├── Stage\n",
       "│       │   ├── tilt_alpha = 0.0\n",
       "│       │   ├── tilt_beta = -0.44\n",
       "│       │   ├── x = -0.000134\n",
       "│       │   ├── y = 1e-05\n",
       "│       │   └── z = -0.000163\n",
       "│       ├── beam_energy = 200\n",
       "│       ├── camera_length = 115.9\n",
       "│       ├── magnification = 7200000.0\n",
       "│       └── microscope = Titan\n",
       "├── General\n",
       "│   ├── FileIO\n",
       "│   │   ├── 0\n",
       "│   │   │   ├── hyperspy_version = 2.1.1\n",
       "│   │   │   ├── io_plugin = rsciio.emd\n",
       "│   │   │   ├── operation = load\n",
       "│   │   │   └── timestamp = 2024-11-18T16:38:16.357404+01:00\n",
       "│   │   ├── 1\n",
       "│   │   │   ├── hyperspy_version = 2.1.1\n",
       "│   │   │   ├── io_plugin = rsciio.hspy\n",
       "│   │   │   ├── operation = save\n",
       "│   │   │   └── timestamp = 2024-11-19T14:23:59.740064+01:00\n",
       "│   │   └── 2\n",
       "│   │       ├── hyperspy_version = 2.2.0\n",
       "│   │       ├── io_plugin = rsciio.hspy\n",
       "│   │       ├── operation = load\n",
       "│   │       └── timestamp = 2024-12-06T16:15:50.073937+01:00\n",
       "│   ├── date = 2024-10-11\n",
       "│   ├── original_filename = DSO.emd\n",
       "│   ├── time = 11:00:13\n",
       "│   ├── time_zone = CET\n",
       "│   └── title = EDS\n",
       "├── Sample\n",
       "│   ├── density = 6.9\n",
       "│   ├── elements = ['C', 'O', 'Sc', 'Cu', 'Dy']\n",
       "│   └── thickness = 2e-05\n",
       "├── Signal\n",
       "│   └── signal_type = EDSespm\n",
       "└── xray_db = 200keV_xrays.json"
      ]
     },
     "execution_count": 19,
     "metadata": {},
     "output_type": "execute_result"
    }
   ],
   "source": [
    "spectrum_2.metadata"
   ]
  },
  {
   "cell_type": "code",
   "execution_count": 20,
   "id": "37f94f0e",
   "metadata": {},
   "outputs": [],
   "source": [
    "elements_dict = {'Cu' : 3.0}"
   ]
  },
  {
   "cell_type": "code",
   "execution_count": 21,
   "id": "6a95406e-83bc-49de-9082-f2a8f66b7217",
   "metadata": {},
   "outputs": [],
   "source": [
    "# Build the G  matrix that is needed for espm decomposition\n",
    "spectrum_2.build_G()"
   ]
  },
  {
   "cell_type": "code",
   "execution_count": 22,
   "id": "a3e51fbd",
   "metadata": {},
   "outputs": [],
   "source": [
    "fw = spectrum_2.set_fixed_W({'p' : {'O' : 0.6}})"
   ]
  },
  {
   "cell_type": "code",
   "execution_count": 22,
   "id": "7028d9b0-83b5-4167-bb2f-f129d723d3d9",
   "metadata": {},
   "outputs": [
    {
     "name": "stdout",
     "output_type": "stream",
     "text": [
      "It 10 / 5000: loss 1.317077e+02,  158.736 it/s\n",
      "It 20 / 5000: loss 1.312959e+02,  163.942 it/s\n",
      "It 30 / 5000: loss 1.312238e+02,  193.554 it/s\n",
      "It 40 / 5000: loss 1.311705e+02,  220.996 it/s\n",
      "It 50 / 5000: loss 1.311132e+02,  248.731 it/s\n",
      "It 60 / 5000: loss 1.310490e+02,  270.224 it/s\n",
      "It 70 / 5000: loss 1.309766e+02,  281.853 it/s\n",
      "It 80 / 5000: loss 1.308941e+02,  294.815 it/s\n",
      "It 90 / 5000: loss 1.307993e+02,  305.752 it/s\n",
      "It 100 / 5000: loss 1.306895e+02,  311.179 it/s\n",
      "It 110 / 5000: loss 1.305608e+02,  321.301 it/s\n",
      "It 120 / 5000: loss 1.304079e+02,  331.167 it/s\n",
      "It 130 / 5000: loss 1.302236e+02,  337.330 it/s\n",
      "It 140 / 5000: loss 1.299972e+02,  345.354 it/s\n",
      "It 150 / 5000: loss 1.297132e+02,  351.804 it/s\n",
      "It 160 / 5000: loss 1.293474e+02,  354.471 it/s\n",
      "It 170 / 5000: loss 1.288602e+02,  360.648 it/s\n",
      "It 180 / 5000: loss 1.281836e+02,  366.318 it/s\n",
      "It 190 / 5000: loss 1.271908e+02,  367.951 it/s\n",
      "It 200 / 5000: loss 1.256221e+02,  372.874 it/s\n",
      "It 210 / 5000: loss 1.228819e+02,  377.444 it/s\n",
      "It 220 / 5000: loss 1.174310e+02,  379.043 it/s\n",
      "It 230 / 5000: loss 1.054653e+02,  382.437 it/s\n",
      "It 240 / 5000: loss 8.685047e+01,  386.143 it/s\n",
      "It 250 / 5000: loss 6.319282e+01,  386.732 it/s\n",
      "It 260 / 5000: loss 5.261058e+01,  390.131 it/s\n",
      "It 270 / 5000: loss 1.777210e+01,  394.481 it/s\n",
      "It 280 / 5000: loss 1.478860e+01,  395.232 it/s\n",
      "It 290 / 5000: loss 1.472514e+01,  391.659 it/s\n",
      "exits because of relative change < tol: 7.713267157834278e-07\n",
      "Stopped after 292 iterations in 0.0 minutes and 1.0 seconds.\n",
      "Decomposition info:\n",
      "  normalize_poissonian_noise=False\n",
      "  algorithm=SmoothNMF(dicotomy_tol=1e-12)\n",
      "  output_dimension=None\n",
      "  centre=None\n",
      "scikit-learn estimator:\n",
      "SmoothNMF(dicotomy_tol=1e-12)\n"
     ]
    }
   ],
   "source": [
    "# Run espm in such a way as to quantify spectrum_2 as a single phase\n",
    "from espm.estimators import SmoothNMF\n",
    "#est = espm.estimators.SmoothNMF(n_components = 1, tol = 1e-6, max_iter = 500, G = spectrum_2.model, hspy_comp = True)\n",
    "est = espm.estimators.SmoothNMF(n_components = 1, tol = 1e-6, max_iter = 5000, G = spectrum_2.model, hspy_comp = True,simplex_W=True, dicotomy_tol=1e-12)\n",
    "spectrum_2.decomposition(algorithm = est)"
   ]
  },
  {
   "cell_type": "code",
   "execution_count": 25,
   "id": "ad6b2233-19b1-484a-aff1-ef2ebcb446be",
   "metadata": {},
   "outputs": [
    {
     "name": "stdout",
     "output_type": "stream",
     "text": [
      "+----------+-----------+------------+\n",
      "| Elements | p0 (at.%) | p0 std (%) |\n",
      "+----------+-----------+------------+\n",
      "| O        |    57.527 |      0.313 |\n",
      "| Sc       |    18.948 |      0.211 |\n",
      "| Dy       |    23.525 |      0.142 |\n",
      "+----------+-----------+------------+\n",
      "\n",
      "Disclaimer : The presented errors correspond to the statistical error on the fitted intensity of the peaks.\n",
      "In other words it corresponds to the precision of the measurment.\n",
      "The accuracy of the measurment strongly depends on other factors such as absorption, cross-sections, etc...\n",
      "Please consider these parameters when interpreting the results.\n"
     ]
    }
   ],
   "source": [
    "# From quant, calculate atomic percentages of elements of interest\n",
    "spectrum_2.print_concentration_report(selected_elts = ['Sc', 'O', 'Dy'])"
   ]
  },
  {
   "cell_type": "code",
   "execution_count": 20,
   "id": "427bd8dc-38b3-47d9-be1c-c3bcb9252d9f",
   "metadata": {},
   "outputs": [],
   "source": [
    "# Look at quality of fit of spectral model to original spectrum\n",
    "plot_data_model_ROI(spectrum_2)"
   ]
  },
  {
   "cell_type": "code",
   "execution_count": 24,
   "id": "59011dde-df4c-48dc-9675-88601ff15022",
   "metadata": {},
   "outputs": [
    {
     "data": {
      "text/plain": [
       "0.9999977142936107"
      ]
     },
     "execution_count": 24,
     "metadata": {},
     "output_type": "execute_result"
    }
   ],
   "source": [
    "est.W_[:-2,:].sum()"
   ]
  },
  {
   "cell_type": "code",
   "execution_count": 57,
   "id": "a07ff045-f21c-412a-b454-84919e880da8",
   "metadata": {},
   "outputs": [
    {
     "data": {
      "text/plain": [
       "['Mg_Kb',\n",
       " 'Ge_Lb3',\n",
       " 'Br_Ll',\n",
       " 'Sm_Mg',\n",
       " 'Dy_Ma',\n",
       " 'Nd_M2N4',\n",
       " 'As_Lb1',\n",
       " 'As_La',\n",
       " 'Hf_Mz',\n",
       " 'Dy_Mb',\n",
       " 'Ta_Mz',\n",
       " 'Tb_Mb',\n",
       " 'Br_Ln',\n",
       " 'Mg_Ka',\n",
       " 'Eu_Mg',\n",
       " 'Ho_Ma',\n",
       " 'Pm_M2N4',\n",
       " 'Se_Ln',\n",
       " 'Pm_Mg',\n",
       " 'Tb_Ma',\n",
       " 'Lu_Mz',\n",
       " 'Pr_M2N4',\n",
       " 'Se_La',\n",
       " 'Ge_Lb1',\n",
       " 'W_Mz',\n",
       " 'As_Lb3',\n",
       " 'Kr_Ll',\n",
       " 'Ho_Mb',\n",
       " 'Gd_Mb',\n",
       " 'Se_Ll']"
      ]
     },
     "execution_count": 57,
     "metadata": {},
     "output_type": "execute_result"
    }
   ],
   "source": [
    "get_xray_lines_near_energy(1.3)"
   ]
  },
  {
   "cell_type": "markdown",
   "id": "dd77e2b0-5ab7-49d0-8da4-ba46e5928b46",
   "metadata": {},
   "source": [
    "#### Tailor quant by splitting lines"
   ]
  },
  {
   "cell_type": "code",
   "execution_count": 61,
   "id": "fd75fe76-48a0-4ba3-b779-066e41ff80c8",
   "metadata": {},
   "outputs": [
    {
     "name": "stdout",
     "output_type": "stream",
     "text": [
      "Input elements\n",
      "[6, 8, 21, 29, 66]\n",
      "Valid elements\n",
      "[6, 8, 21, 29, 66]\n",
      "[2.90280224e-22]\n",
      "6\n",
      "[4.88615587e-22]\n",
      "8\n",
      "[8.26024096e-22]\n",
      "21\n",
      "[1.44764156e-21]\n",
      "29\n",
      "[8.1000302e-22]\n",
      "66\n"
     ]
    }
   ],
   "source": [
    "# Split selected X-ray lines at chosen X-ray energy\n",
    "#spectrum_2.build_G(elements_dict = {'21' : 3.0, '29' : 3.0, '66' : 3.0})\n",
    "spectrum_2.build_G()"
   ]
  },
  {
   "cell_type": "code",
   "execution_count": 62,
   "id": "c3d070fa-5bdb-479a-a076-9fb886dd5d84",
   "metadata": {},
   "outputs": [
    {
     "data": {
      "text/plain": [
       "array([[-1. ],\n",
       "       [ 0.6],\n",
       "       [-1. ],\n",
       "       [-1. ],\n",
       "       [-1. ],\n",
       "       [-1. ],\n",
       "       [-1. ]])"
      ]
     },
     "execution_count": 62,
     "metadata": {},
     "output_type": "execute_result"
    }
   ],
   "source": [
    "spectrum_2.set_fixed_W(phases_dict = {'p0' : {'O' : 0.6}})"
   ]
  },
  {
   "cell_type": "code",
   "execution_count": 63,
   "id": "45fa323c-ef96-4cdb-b75e-8a8c4103cdfe",
   "metadata": {},
   "outputs": [],
   "source": [
    "myW = spectrum_2.set_fixed_W(phases_dict = {'p0' : {'O' : 0.6}})"
   ]
  },
  {
   "cell_type": "code",
   "execution_count": 64,
   "id": "6f04637b-cf00-4a28-b97b-5740540033f9",
   "metadata": {},
   "outputs": [
    {
     "name": "stdout",
     "output_type": "stream",
     "text": [
      "It 10 / 500: loss 1.236745e+02,  527.931 it/s\n",
      "It 20 / 500: loss 1.164764e+02,  489.920 it/s\n",
      "It 30 / 500: loss 9.708410e+01,  544.771 it/s\n",
      "It 40 / 500: loss 3.302253e+01,  540.526 it/s\n",
      "It 50 / 500: loss 2.271369e+01,  570.723 it/s\n",
      "It 60 / 500: loss 1.274082e+01,  593.700 it/s\n",
      "It 70 / 500: loss 1.242968e+01,  595.937 it/s\n",
      "It 80 / 500: loss 1.240101e+01,  616.855 it/s\n",
      "It 90 / 500: loss 1.239491e+01,  631.211 it/s\n",
      "exits because of relative change < tol: 9.95173723465243e-07\n",
      "Stopped after 93 iterations in 0.0 minutes and 0.0 seconds.\n",
      "Decomposition info:\n",
      "  normalize_poissonian_noise=False\n",
      "  algorithm=SmoothNMF()\n",
      "  output_dimension=None\n",
      "  centre=None\n",
      "scikit-learn estimator:\n",
      "SmoothNMF()\n"
     ]
    }
   ],
   "source": [
    "# Re-run quant with split lines\n",
    "#est = espm.estimators.SmoothNMF(n_components = 1, tol = 1e-6, max_iter = 500, G = spectrum_2.model, hspy_comp = True)\n",
    "est = espm.estimators.SmoothNMF(n_components = 1, tol = 1e-6, max_iter = 500, G = spectrum_2.model, hspy_comp = True,\n",
    "                                fixed_W = myW, simplex_W=True)\n",
    "spectrum_2.decomposition(algorithm = est)"
   ]
  },
  {
   "cell_type": "code",
   "execution_count": 45,
   "id": "0680230b-0c66-4524-9ab1-d6ec479f64ec",
   "metadata": {},
   "outputs": [],
   "source": [
    "# Look at quality of fit of spectral model to original spectrum\n",
    "plot_data_model_ROI(spectrum_2)"
   ]
  },
  {
   "cell_type": "code",
   "execution_count": 65,
   "id": "7e63ac9f-66b2-4da1-a308-ffce9c2c0ddf",
   "metadata": {
    "scrolled": true
   },
   "outputs": [
    {
     "name": "stdout",
     "output_type": "stream",
     "text": [
      "+----------+-----------+-------------+\n",
      "| Elements | p0 (at.%) |  p0 std (%) |\n",
      "+----------+-----------+-------------+\n",
      "| C        |     0.000 | 2760610.477 |\n",
      "| O        |    48.274 |       0.270 |\n",
      "| Sc       |    22.511 |       0.215 |\n",
      "| Cu       |     5.687 |       0.320 |\n",
      "| Dy       |    23.528 |       0.144 |\n",
      "+----------+-----------+-------------+\n",
      "\n",
      "Disclaimer : The presented errors correspond to the statistical error on the fitted intensity of the peaks.\n",
      "In other words it corresponds to the precision of the measurment.\n",
      "The accuracy of the measurment strongly depends on other factors such as absorption, cross-sections, etc...\n",
      "Please consider these parameters when interpreting the results.\n"
     ]
    }
   ],
   "source": [
    "# From quant, calculate atomic percentages of elements of interest\n",
    "spectrum_2.print_concentration_report(selected_elts = ['C', 'O', 'Sc', 'Cu', 'Dy'])"
   ]
  },
  {
   "cell_type": "code",
   "execution_count": 66,
   "id": "c6e7fc3c-2e7e-4c49-a0c7-a8d5a238dde5",
   "metadata": {},
   "outputs": [
    {
     "data": {
      "text/plain": [
       "array([[1.00000000e-14],\n",
       "       [6.00000000e-01],\n",
       "       [2.79788516e-01],\n",
       "       [7.06840596e-02],\n",
       "       [2.92427771e-01],\n",
       "       [4.76089807e-02],\n",
       "       [6.78683348e-02]])"
      ]
     },
     "execution_count": 66,
     "metadata": {},
     "output_type": "execute_result"
    }
   ],
   "source": [
    "est.W_"
   ]
  },
  {
   "cell_type": "markdown",
   "id": "645db00e-aefd-4d3e-8b88-92b7930f4963",
   "metadata": {},
   "source": [
    "#### Tailor quant by refining spectrum calibration"
   ]
  },
  {
   "cell_type": "code",
   "execution_count": 150,
   "id": "0b44a800-c3ae-4c54-b2a4-47bc0d5a5e70",
   "metadata": {},
   "outputs": [
    {
     "name": "stderr",
     "output_type": "stream",
     "text": [
      "C:\\Users\\LSME\\.conda\\envs\\espm_112\\Lib\\site-packages\\jupyter_client\\session.py:721: UserWarning: Message serialization failed with:\n",
      "Out of range float values are not JSON compliant: nan\n",
      "Supporting this message is deprecated in jupyter-client 7, please make sure your message is JSON-compliant\n",
      "  content = self.pack(content)\n"
     ]
    },
    {
     "data": {
      "application/vnd.jupyter.widget-view+json": {
       "model_id": "",
       "version_major": 2,
       "version_minor": 0
      },
      "text/plain": [
       "VBox(children=(HBox(children=(FloatText(value=0.0, description='New left'), Label(value='keV', layout=Layout(w…"
      ]
     },
     "metadata": {},
     "output_type": "display_data"
    }
   ],
   "source": [
    "# Find X-ray table, for instance C/Users/LSME/.conda/envs/espm_112/Lib/site-packages/espm/tables\n",
    "# Open up chosen X-ray table using e.g. a text editor\n",
    "# Use calibrate function to calibrate off chosen peaks\n",
    "# Might need to plot spectrum before this function runs\n",
    "# spectrum_2.plot()\n",
    "spectrum_2.calibrate()"
   ]
  },
  {
   "cell_type": "code",
   "execution_count": 151,
   "id": "5767299e-df34-4ab4-ad75-ec9340197ce6",
   "metadata": {},
   "outputs": [
    {
     "data": {
      "text/html": [
       "<style>\n",
       "table, th, td {\n",
       "\tborder: 1px solid black;\n",
       "\tborder-collapse: collapse;\n",
       "}\n",
       "th, td {\n",
       "\tpadding: 5px;\n",
       "}\n",
       "</style>\n",
       "<p><b>< Axes manager, axes: (2, 2|2048) ></b></p>\n",
       "<table style='width:100%'>\n",
       "\n",
       "<tr> \n",
       "<th>Navigation axis name</th> \n",
       "<th>size</th> \n",
       "<th>index</th> \n",
       "<th>offset</th> \n",
       "<th>scale</th> \n",
       "<th>units</th> </tr>\n",
       "<tr> \n",
       "<td>x</td> \n",
       "<td>2</td> \n",
       "<td>0</td> \n",
       "<td>0.0</td> \n",
       "<td>0.011020250601305244</td> \n",
       "<td>nm</td> </tr>\n",
       "<tr> \n",
       "<td>y</td> \n",
       "<td>2</td> \n",
       "<td>0</td> \n",
       "<td>0.0</td> \n",
       "<td>0.011020250601305244</td> \n",
       "<td>nm</td> </tr></table>\n",
       "<table style='width:100%'>\n",
       "\n",
       "<tr> \n",
       "<th>Signal axis name</th> \n",
       "<th>size</th> \n",
       "<th></th> \n",
       "<th>offset</th> \n",
       "<th>scale</th> \n",
       "<th>units</th> </tr>\n",
       "<tr> \n",
       "<td>X-ray energy</td> \n",
       "<td>2048</td> \n",
       "<td></td> \n",
       "<td>0.19488341708542717</td> \n",
       "<td>0.005000251256281407</td> \n",
       "<td>keV</td> </tr></table>\n"
      ],
      "text/plain": [
       "<Axes manager, axes: (2, 2|2048)>\n",
       "            Name |   size |  index |  offset |   scale |  units \n",
       "================ | ====== | ====== | ======= | ======= | ====== \n",
       "               x |      2 |      0 |       0 |   0.011 |     nm \n",
       "               y |      2 |      0 |       0 |   0.011 |     nm \n",
       "---------------- | ------ | ------ | ------- | ------- | ------ \n",
       "    X-ray energy |   2048 |      0 |    0.19 |   0.005 |    keV "
      ]
     },
     "execution_count": 151,
     "metadata": {},
     "output_type": "execute_result"
    }
   ],
   "source": [
    "spectrum_2.axes_manager"
   ]
  },
  {
   "cell_type": "code",
   "execution_count": null,
   "id": "032e3628-b192-4388-8c85-a57d16a1e79c",
   "metadata": {},
   "outputs": [],
   "source": []
  },
  {
   "cell_type": "markdown",
   "id": "1c9b98da-2503-441b-9542-bfec52e62689",
   "metadata": {},
   "source": [
    "#### Try tailoring the slope and intercept for peak widths"
   ]
  },
  {
   "cell_type": "code",
   "execution_count": 145,
   "id": "a8a7da9d-f162-4d2c-a7fb-d2bbcaa96b37",
   "metadata": {},
   "outputs": [],
   "source": [
    "# start from CH values of slope 0.0117 and intercept 0.065\n",
    "# closest have so far is slope 0.015 and intercept 0.05\n",
    "spectrum_2.set_analysis_parameters(beam_energy=200,elements = ['C','O', 'Sc', 'Cu', 'Dy'],\n",
    "                                  detector_type='SDD_efficiency.txt',\n",
    "                                  xray_db='200keV_xrays.json',\n",
    "                                   width_slope = 0.015,\n",
    "                                  width_intercept = 0.05)"
   ]
  },
  {
   "cell_type": "markdown",
   "id": "fcb348e5-7914-45fa-906f-8fb9c52c9080",
   "metadata": {},
   "source": [
    "#### Try creating tailored X-ray table"
   ]
  },
  {
   "cell_type": "code",
   "execution_count": 170,
   "id": "517b75bc-9f7b-40b1-9891-4a7dc9171150",
   "metadata": {},
   "outputs": [],
   "source": [
    "# Define customised table\n",
    "# Modify Sc peak positions by adding 0.005 keV to major K lines\n",
    "spectrum_2.set_analysis_parameters(beam_energy=200,elements = ['C','O', 'Sc', 'Cu', 'Dy'],\n",
    "                                  detector_type='SDD_efficiency.txt',\n",
    "                                  xray_db='200keV_xrays_REoxides.json',\n",
    "                                   width_slope = 0.015,\n",
    "                                  width_intercept = 0.05)"
   ]
  },
  {
   "cell_type": "markdown",
   "id": "d156ac05-ed6b-40ab-9bc3-b961351e17d2",
   "metadata": {
    "jp-MarkdownHeadingCollapsed": true
   },
   "source": [
    "#### Add in prior knowledge of sample density and thickness"
   ]
  },
  {
   "cell_type": "code",
   "execution_count": 164,
   "id": "70f09d08-e119-488f-9d42-63d223959996",
   "metadata": {},
   "outputs": [],
   "source": [
    "# from EELS estimated t = 65 nm = 65e-7 cm\n",
    "# from database density = 6.9 g cm-3\n",
    "spectrum_2.set_analysis_parameters(beam_energy=200,elements = ['C','O', 'Sc', 'Cu', 'Dy'],\n",
    "                                  detector_type='SDD_efficiency.txt',\n",
    "                                   thickness = 65e-7,\n",
    "                                   density = 6.9,\n",
    "                                  xray_db='200keV_xrays_REoxides.json',\n",
    "                                   width_slope = 0.015,\n",
    "                                  width_intercept = 0.05)"
   ]
  },
  {
   "cell_type": "code",
   "execution_count": null,
   "id": "270a9f6e-cdfd-4c35-9cd6-6f7c06929939",
   "metadata": {},
   "outputs": [],
   "source": []
  },
  {
   "cell_type": "code",
   "execution_count": null,
   "id": "8e829596-4aea-41b2-9c4b-c1e0efceee03",
   "metadata": {},
   "outputs": [],
   "source": []
  },
  {
   "cell_type": "markdown",
   "id": "805768df-1af9-4876-8b6e-6ebb85014dca",
   "metadata": {},
   "source": [
    "#### Command for closing all plot windows"
   ]
  },
  {
   "cell_type": "code",
   "execution_count": 31,
   "id": "144d0fdf-8ea2-4ba8-bb9e-f1f293698943",
   "metadata": {},
   "outputs": [],
   "source": [
    "plt.close(\"all\")"
   ]
  },
  {
   "cell_type": "code",
   "execution_count": null,
   "id": "6b5225c5-4fe9-445d-80ec-1a5fc94ee0de",
   "metadata": {},
   "outputs": [],
   "source": []
  },
  {
   "cell_type": "markdown",
   "id": "34944021-0e70-4df1-810c-a94b9df6bc52",
   "metadata": {},
   "source": [
    "#### Doing some testing"
   ]
  },
  {
   "cell_type": "code",
   "execution_count": null,
   "id": "a7f30eef-fff7-4bae-9891-94a1ec215fcb",
   "metadata": {},
   "outputs": [],
   "source": []
  }
 ],
 "metadata": {
  "kernelspec": {
   "display_name": "espm",
   "language": "python",
   "name": "python3"
  },
  "language_info": {
   "codemirror_mode": {
    "name": "ipython",
    "version": 3
   },
   "file_extension": ".py",
   "mimetype": "text/x-python",
   "name": "python",
   "nbconvert_exporter": "python",
   "pygments_lexer": "ipython3",
   "version": "3.11.10"
  }
 },
 "nbformat": 4,
 "nbformat_minor": 5
}
