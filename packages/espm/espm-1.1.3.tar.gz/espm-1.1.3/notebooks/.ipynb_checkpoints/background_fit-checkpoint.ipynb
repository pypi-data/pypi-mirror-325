{
 "cells": [
  {
   "cell_type": "code",
   "execution_count": 1,
   "metadata": {},
   "outputs": [
    {
     "name": "stdout",
     "output_type": "stream",
     "text": [
      "\u001b[33;20mWARNING | Hyperspy | Numba is not installed, falling back to non-accelerated implementation. (hyperspy.decorators:256)\u001b[0m\n",
      "\u001b[33;20mWARNING | Hyperspy | Numba is not installed, falling back to non-accelerated implementation. (hyperspy.decorators:256)\u001b[0m\n",
      "\u001b[33;20mWARNING | Hyperspy | Numba is not installed, falling back to non-accelerated implementation. (hyperspy.decorators:256)\u001b[0m\n",
      "\u001b[33;20mWARNING | Hyperspy | Numba is not installed, falling back to non-accelerated implementation. (hyperspy.decorators:256)\u001b[0m\n",
      "\u001b[33;20mWARNING | Hyperspy | Numba is not installed, falling back to non-accelerated implementation. (hyperspy.decorators:256)\u001b[0m\n",
      "\u001b[33;20mWARNING | Hyperspy | Numba is not installed, falling back to non-accelerated implementation. (hyperspy.decorators:256)\u001b[0m\n",
      "\u001b[33;20mWARNING | Hyperspy | Numba is not installed, falling back to non-accelerated implementation. (hyperspy.decorators:256)\u001b[0m\n",
      "\u001b[33;20mWARNING | Hyperspy | Numba is not installed, falling back to non-accelerated implementation. (hyperspy.decorators:256)\u001b[0m\n",
      "\u001b[33;20mWARNING | Hyperspy | Numba is not installed, falling back to non-accelerated implementation. (hyperspy.decorators:256)\u001b[0m\n",
      "\u001b[33;20mWARNING | Hyperspy | Numba is not installed, falling back to non-accelerated implementation. (hyperspy.decorators:256)\u001b[0m\n"
     ]
    },
    {
     "name": "stderr",
     "output_type": "stream",
     "text": [
      "C:\\Users\\adteurtrie\\AppData\\Local\\anaconda3\\envs\\espm\\Lib\\site-packages\\exspy\\misc\\material.py:29: VisibleDeprecationWarning: This module is deprecated, use `exspy.material` instead. It will be removed in exspy 1.0.\n",
      "  warnings.warn(\n"
     ]
    }
   ],
   "source": [
    "# %matplotlib inline\n",
    "%matplotlib qt\n",
    "import hyperspy.api as hs\n",
    "import numpy as np\n",
    "import lmfit as lm\n",
    "import matplotlib.pyplot as plt\n",
    "import espm.spectrum_fitting as sf\n",
    "from pathlib import Path\n",
    "from espm.estimators import SmoothNMF"
   ]
  },
  {
   "attachments": {},
   "cell_type": "markdown",
   "metadata": {},
   "source": [
    "# Guide to this notebook\n",
    "\n",
    "Every time the symbol ⚠️ appears, a user input is required in the cell below.\n",
    "\n",
    "If a cell made a few windows pop up, please kill the windows once you're done. Otherwise every new plot will be displayed in top of the other (which may slow your computer down). \n",
    "\n",
    "Overview of the different steps :\n",
    "- I. Load the data either a spectrum (go to step III.) or a spectrum image\n",
    "- II. Select an area of interest in your spectrum image.\n",
    "- III. Creates an energy scale (x) from your data for the fitting procedure.\n",
    "- IV. Selects the regions of the spectrum were there are no peaks for background fitting.\n",
    "- V. Creates the required objects (partial x and y) for the background fitting procedure.\n",
    "- VI. Fitting the background. If this is not satisfactory go back to IV."
   ]
  },
  {
   "attachments": {},
   "cell_type": "markdown",
   "metadata": {},
   "source": [
    "## I. Load spectrum & energy scale\n",
    "\n",
    "This cell will start a gui, that will let you select the dataset you want to analyse. In this notebook, only single spectra are treated, the data are thus automatically summed and cropped.\n",
    "\n",
    "⚠️"
   ]
  },
  {
   "cell_type": "code",
   "execution_count": 5,
   "metadata": {},
   "outputs": [],
   "source": [
    "spectrum = hs.load('spectrum_2.hspy').mean()\n",
    "\n",
    "spectrum.set_signal_type('EDS_espm')\n",
    "\n",
    "offset = spectrum.axes_manager[0].offset\n",
    "scale = spectrum.axes_manager[0].scale\n",
    "size = spectrum.axes_manager[0].size\n",
    "\n",
    "x = np.linspace(offset,size*scale+offset,num = size)"
   ]
  },
  {
   "cell_type": "markdown",
   "metadata": {},
   "source": [
    "## Setting the relevant metadata\n",
    "\n",
    "This cell is important later during the fitting of the characteristic peaks. Check the documentation at : https://espm.readthedocs.io/en/latest/ for details about thos parameters\n",
    "\n",
    "⚠️"
   ]
  },
  {
   "cell_type": "code",
   "execution_count": null,
   "metadata": {},
   "outputs": [],
   "source": [
    "spectrum.add_analysis_parameters(beam_energy = 200,\n",
    "                                 azimuth_angle = 45.0,\n",
    "                                 elevation_angle = 18.0,\n",
    "                                 tilt_stage = 0.0,\n",
    "                                 elements = ['Dy', 'Sc', 'O', 'C', 'Cu'],\n",
    "                                 thickness = 200e-7,\n",
    "                                 density = 6.9,\n",
    "                                 detector_type = \"SDD_efficiency.txt\",\n",
    "                                 width_slope = 0.01,\n",
    "                                 width_intercept = 0.065,\n",
    "                                 xray_db = \"200keV_xrays.json\")"
   ]
  },
  {
   "attachments": {},
   "cell_type": "markdown",
   "metadata": {},
   "source": [
    "# II. Select areas for bckgd fitting\n",
    "\n",
    "⚠️ Input in the ``span_number`` the number of selection areas you wish to use. Once you execute the cell, a window will pop with a few green areas and a red spectrum. The green areas correspond to the regions were the background will be fitted. You can, drag, enlarge and reduce these green areas.\n",
    "\n",
    "Note : Click on one of the green area before the click and drag operation so that only one of the area is selected and so avoid to drag them all together."
   ]
  },
  {
   "cell_type": "code",
   "execution_count": null,
   "metadata": {},
   "outputs": [],
   "source": [
    "span_number = 4\n",
    "\n",
    "def selection_areas(number,spectrum,scale) :\n",
    "    spectrum.plot()\n",
    "    size = spectrum.axes_manager[0].size //(2*number)\n",
    "    roi_list = []\n",
    "    for i in range(number) :\n",
    "        roi_list.append(hs.roi.SpanROI(offset+ size*scale + 2*i*size*scale, 2*size*scale + offset+ 2*i*size*scale))\n",
    "        roi_list[-1].interactive(spectrum)\n",
    "    return roi_list\n",
    "\n",
    "spans = selection_areas(span_number,spectrum,scale)"
   ]
  },
  {
   "attachments": {},
   "cell_type": "markdown",
   "metadata": {},
   "source": [
    "Once you are satisfied with the selected areas, save their positions using the cell below"
   ]
  },
  {
   "cell_type": "code",
   "execution_count": null,
   "metadata": {},
   "outputs": [],
   "source": [
    "list_energies = [[roi.left,roi.right] for roi in spans]"
   ]
  },
  {
   "attachments": {},
   "cell_type": "markdown",
   "metadata": {},
   "source": [
    "# III. Fitting the continuum\n",
    "\n",
    "⚠️ Input the sample parameters below and execute the cell to fit"
   ]
  },
  {
   "cell_type": "code",
   "execution_count": null,
   "metadata": {},
   "outputs": [],
   "source": [
    "thickness = 2e-5\n",
    "density = 3.5\n",
    "take_off_angle = 35\n",
    "elements_dict = {\"Fe\" : 0.0194, \"C\" : 0.8904, \"Pt\" : 0.0051, 'O' : 0.03797, 'Si' : 0.00850 , \"Cu\" : 0.03846}\n",
    "detector = \"SDD_efficiency.txt\"\n",
    "\n",
    "#################################################################################################\n",
    "# For a custom detector, uncomment below and replace \"SDD_efficiency.txt\" with the dictionnary. #\n",
    "#################################################################################################\n",
    "\n",
    "# {\"detection\" : {\n",
    "#     \"thickness\" : 450e-4,\n",
    "#     \"elements_dict\" : {\n",
    "#         \"Si\" : 1.0\n",
    "#     }\n",
    "# },\"layer\" : {\n",
    "#     \"thickness\" : 10e-7,\n",
    "#     \"elements_dict\" : {\n",
    "#         \"Si\" : 0.33,\n",
    "#         \"O\" : 0.66,\n",
    "#         \"Al\" : 1.0\n",
    "#     }\n",
    "# }}\n",
    "\n",
    "part_x, part_y, sum_boola = sf.make_partial_xy(list_energies,spectrum,x)\n",
    "\n",
    "example = {\n",
    "    \"E0\" : 200,\n",
    "    \"b0\" : 1.0,\n",
    "    \"b1\" : 1.0,\n",
    "    \"params_dict\" : {\n",
    "    \"Det\" : detector,\n",
    "    'Abs' : {\n",
    "        \"thickness\" : thickness,\n",
    "        \"toa\" : take_off_angle,\n",
    "        \"density\" : density}\n",
    "    },\n",
    "    \"elements_dict\" : elements_dict\n",
    "}\n",
    "\n",
    "pars = sf.ndict_to_params(example)\n",
    "\n",
    "#################################################################################################\n",
    "# You can uncomment the lines below if you want to add constraints to the absorption parameters #\n",
    "#################################################################################################\n",
    "\n",
    "pars[\"params_dict__Abs__thickness\"].vary = False\n",
    "# pars[\"params_dict__Abs__thickness\"].max = 5000e-7\n",
    "# pars[\"params_dict__Det__layer__thickness\"].vary = False\n",
    "pars[\"params_dict__Abs__toa\"].vary = False\n",
    "pars[\"params_dict__Abs__density\"].vary = False\n",
    "pars[\"E0\"].vary = False\n",
    "# pars[\"b0\"].min = 0.0\n",
    "\n",
    "out = lm.minimize(sf.residual, pars, args=(part_x,), kws={'data': part_y})\n",
    "print(lm.fit_report(out))"
   ]
  },
  {
   "attachments": {},
   "cell_type": "markdown",
   "metadata": {},
   "source": [
    "### Plotting the results\n",
    "\n",
    "The red curves corresponds to the background model, the black one to the data, and the grey area correspond to the selected green areas"
   ]
  },
  {
   "cell_type": "code",
   "execution_count": null,
   "metadata": {},
   "outputs": [],
   "source": [
    "y = spectrum.data\n",
    "bkgd = sf.residual(out.params,x)\n",
    "plt.plot(x,y,\"ko-\",markersize=1.5,label=\"exp\",markevery=10)\n",
    "plt.fill_between(x,0,y,where=sum_boola,label=\"fit windows\",color=\"0.8\")\n",
    "plt.xlabel(\"Energy (keV)\",fontsize=22)\n",
    "plt.xticks(fontsize=20)\n",
    "# plt.ylim(0,1)\n",
    "plt.yticks(fontsize=20)\n",
    "plt.ylabel(\"Intensity\",fontsize=22)\n",
    "plt.plot(x,bkgd,\"r-\",linewidth=1,label=\"fit\")\n",
    "plt.legend(fontsize=22)"
   ]
  },
  {
   "attachments": {},
   "cell_type": "markdown",
   "metadata": {},
   "source": [
    "# VI. Quantify the chemical concentrations\n",
    "\n",
    "## Fitting parameters setup\n",
    "\n",
    "First remove the fitted background from the complete spectrum and remove the negative values."
   ]
  },
  {
   "cell_type": "code",
   "execution_count": null,
   "metadata": {},
   "outputs": [],
   "source": [
    "spectrum.data = (spectrum.data - bkgd).clip(min = 0.0)"
   ]
  },
  {
   "cell_type": "markdown",
   "metadata": {},
   "source": [
    "In this cell we build the characteristic X-ray model to quantify the spectrum.\n",
    "\n",
    "Using the `elements_dict` keyword argument you can decouple characteristic X-ray lines of single elements to get a better fit. It can be necessary when the absorption is incorrectly calculated or when the cross-sections are not well calculated (e.g. for heavy elements).\n",
    "\n",
    "The `elements_dict` argument is a dictionary with `{ 'atomic number of the chosen element (int) : energy cutoff (float), .... }`, this way, the intensity of the lines above and below the cutoff are decoupled.\n",
    "\n",
    "⚠️"
   ]
  },
  {
   "cell_type": "code",
   "execution_count": null,
   "metadata": {},
   "outputs": [],
   "source": [
    "spectrum.build_G(problem_type='no_brstlg',elements_dict={}, elements_dict = {'26' : 3.0})"
   ]
  },
  {
   "cell_type": "markdown",
   "metadata": {},
   "source": [
    "In this cell we set up the parameters of the fitting algorithm.\n",
    "\n",
    "For most fitting, you don't need to change those parameters."
   ]
  },
  {
   "cell_type": "code",
   "execution_count": null,
   "metadata": {},
   "outputs": [],
   "source": [
    "est = SmoothNMF(G=spectrum.model,n_components= 1,max_iter=2000,tol = 1e-8,hspy_comp = False)"
   ]
  },
  {
   "cell_type": "markdown",
   "metadata": {},
   "source": [
    "## Fitting the spectrum"
   ]
  },
  {
   "cell_type": "code",
   "execution_count": null,
   "metadata": {},
   "outputs": [],
   "source": [
    "est.fit_transform(X = spectrum.data[:,np.newaxis] ,H=np.array([1.0])[:,np.newaxis])"
   ]
  },
  {
   "cell_type": "markdown",
   "metadata": {},
   "source": [
    "## Printing the concentrations\n",
    "\n",
    "- In relative atomic concentrations\n",
    "\n",
    "- Only printing selected elements. For example Cu is almost always present but not relevant to the quantification. It can be nice to remove it by selecting only the relevant elements using the `selected_elts` keyword argument."
   ]
  },
  {
   "cell_type": "code",
   "execution_count": null,
   "metadata": {},
   "outputs": [],
   "source": [
    "spectrum.print_concentration_report(W_input = est.W_, fit_error = True, selected_elts=['Sr', 'Ti','Sm', 'Ca', 'Si'])"
   ]
  },
  {
   "attachments": {},
   "cell_type": "markdown",
   "metadata": {},
   "source": [
    "# IX. Plot the results\n",
    "\n",
    "⚠️ The popping window will display the bkgd substracted experimental spectrum, the fitted characteristic Xrays model in black and red. Every element composing the model will be displayed with an offset : ``components_offset``. You can change its value below. \n",
    "\n",
    "If you want to display the names of the lines of an element that was used for quantification execute the next cells below before kill the window."
   ]
  },
  {
   "cell_type": "code",
   "execution_count": null,
   "metadata": {},
   "outputs": [],
   "source": [
    "components_offset = -0.1"
   ]
  },
  {
   "cell_type": "code",
   "execution_count": null,
   "metadata": {},
   "outputs": [],
   "source": [
    "linestyles = [\":\",\"--\",\"-.\"]\n",
    "\n",
    "plt.plot(x,spectrum.data,\"ko-\",label=\"exp\",markevery = 10)\n",
    "plt.plot(x,spectrum.G@est.W_@est.H_,\"r\",linewidth = 3,label=\"theo\")\n",
    "plt.xticks(fontsize = 16)\n",
    "plt.yticks(fontsize = 16)\n",
    "plt.xlabel(\"energy (keV)\",fontsize = 18)\n",
    "plt.ylabel(\"Intensity\", fontsize = 18)\n",
    "\n",
    "for i in range(spectrum.G.shape[1]) :\n",
    "    ls_string = linestyles[i%len(linestyles)] + \"C{}\".format(i%9)\n",
    "    plt.plot(x,spectrum.G[:,i]*est.W_[i]+components_offset,ls_string,label=str(spectrum.metadata.EDS_model.elements[i]),linewidth=3)\n",
    "\n",
    "\n",
    "plt.legend(fontsize=18)\n",
    "plt.tight_layout()"
   ]
  }
 ],
 "metadata": {
  "kernelspec": {
   "display_name": "Python 3 (ipykernel)",
   "language": "python",
   "name": "python3"
  },
  "language_info": {
   "codemirror_mode": {
    "name": "ipython",
    "version": 3
   },
   "file_extension": ".py",
   "mimetype": "text/x-python",
   "name": "python",
   "nbconvert_exporter": "python",
   "pygments_lexer": "ipython3",
   "version": "3.11.10"
  },
  "vscode": {
   "interpreter": {
    "hash": "8d2c37261bd18724b44288178b5d93ac658e7a29aba4ea6c1b1b0710c1696ef2"
   }
  }
 },
 "nbformat": 4,
 "nbformat_minor": 4
}
