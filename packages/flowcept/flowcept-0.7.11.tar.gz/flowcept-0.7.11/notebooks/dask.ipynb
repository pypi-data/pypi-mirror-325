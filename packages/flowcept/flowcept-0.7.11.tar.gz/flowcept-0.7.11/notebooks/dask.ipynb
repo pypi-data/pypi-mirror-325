{
 "cells": [
  {
   "cell_type": "code",
   "execution_count": null,
   "id": "fd6a2f8e-311c-4678-8ed4-85d02c3c9b5b",
   "metadata": {
    "tags": []
   },
   "outputs": [],
   "source": [
    "# ! pip install flowcept[dask]"
   ]
  },
  {
   "cell_type": "code",
   "execution_count": null,
   "id": "e7f738dd-4e78-4707-a0b4-b7ddc729a635",
   "metadata": {
    "tags": []
   },
   "outputs": [],
   "source": [
    "! python reset_dask_nb_exec_counts.py   \n",
    "! rm -f output.log\n",
    "# This notebook is causing a silly bug after starting dask cluster. \n",
    "# This command just resets the nb's execution counts to fix it. \n",
    "# Just save the notebook (cmd+s) after you run dask cluster setup."
   ]
  },
  {
   "cell_type": "code",
   "execution_count": null,
   "id": "0d399983-63f2-4f0d-acdc-6e3ff4abbb4d",
   "metadata": {
    "tags": []
   },
   "outputs": [],
   "source": [
    "# Sleeps are used because these notebooks are being tested automatically as part of the CI/CD. \n",
    "# In a normal user interaction, these sleeps would not be necessary.\n",
    "from time import sleep"
   ]
  },
  {
   "cell_type": "code",
   "execution_count": null,
   "id": "50721f98-6f40-4bd9-83f1-56e83e75aa8b",
   "metadata": {
    "tags": []
   },
   "outputs": [],
   "source": [
    "def dummy_func1(x, workflow_id=None):\n",
    "    return x * 2\n",
    "\n",
    "\n",
    "def dummy_func2(y, workflow_id=None):\n",
    "    return y + y\n",
    "\n",
    "\n",
    "def calculate_batch_and_epochs(z, w, workflow_id=None):\n",
    "    return {\n",
    "        \"batch_size\": int(z + w + 16),\n",
    "        \"epochs\": max(int(z/w)+1, 2)\n",
    "    }"
   ]
  },
  {
   "cell_type": "markdown",
   "id": "4ad48344-2f8a-439f-8b39-a6f2e1191398",
   "metadata": {
    "tags": []
   },
   "source": [
    "### Set the env var pointing to the conf file where the ports, hostnames, and other conf variables are read from.\n",
    "\n",
    "There is an exemplary conf file available in the `resources` directory in FlowCept repository. You can use it as is if running this Notebook on your local laptop."
   ]
  },
  {
   "cell_type": "code",
   "execution_count": null,
   "id": "47a4cf2c-4b5c-4fe5-9973-cda2734b0623",
   "metadata": {
    "tags": []
   },
   "outputs": [],
   "source": [
    "def setup_local_dask_cluster():\n",
    "    from dask.distributed import Client, LocalCluster\n",
    "    from flowcept import (\n",
    "        FlowceptDaskSchedulerAdapter,\n",
    "        FlowceptDaskWorkerAdapter,\n",
    "    )\n",
    "    cluster = LocalCluster(n_workers=2)\n",
    "    scheduler = cluster.scheduler\n",
    "    client = Client(scheduler.address)\n",
    "\n",
    "    # Instantiate and Register Scheduler and Worker Adapters    \n",
    "    client.register_plugin(FlowceptDaskSchedulerAdapter())\n",
    "    client.register_plugin(FlowceptDaskWorkerAdapter())\n",
    "    \n",
    "    return client"
   ]
  },
  {
   "cell_type": "markdown",
   "id": "6c8b6db8-4d7f-4f2c-97d5-5cb13b5f5f8e",
   "metadata": {},
   "source": [
    "## Start Flowcept's Consumer"
   ]
  },
  {
   "cell_type": "code",
   "execution_count": null,
   "id": "b1e311c3-ca2a-4cf5-9a38-6742c91a0035",
   "metadata": {
    "tags": []
   },
   "outputs": [],
   "source": [
    "from flowcept import Flowcept\n",
    "flowcept = Flowcept('dask')"
   ]
  },
  {
   "cell_type": "code",
   "execution_count": null,
   "id": "fe609b49-28cf-4f2c-9027-ee7bc51fb86a",
   "metadata": {
    "tags": []
   },
   "outputs": [],
   "source": [
    "flowcept.start()"
   ]
  },
  {
   "cell_type": "markdown",
   "id": "bed4103f-372d-4fce-8609-ac1eeed04c9b",
   "metadata": {
    "tags": []
   },
   "source": [
    "## Start Local Dask Cluster"
   ]
  },
  {
   "cell_type": "code",
   "execution_count": null,
   "id": "702f3c58-2a52-4763-87d9-fd7062192e48",
   "metadata": {
    "tags": []
   },
   "outputs": [],
   "source": [
    "dask_client = setup_local_dask_cluster()\n",
    "dask_client"
   ]
  },
  {
   "cell_type": "markdown",
   "id": "04c2bde5-87fc-4a52-a407-63a9f0dadf62",
   "metadata": {
    "tags": []
   },
   "source": [
    "## Client.Submit-based Workflow"
   ]
  },
  {
   "cell_type": "code",
   "execution_count": null,
   "id": "e843f2c8-4566-46f2-95de-34d17bd4c061",
   "metadata": {
    "tags": []
   },
   "outputs": [],
   "source": [
    "import numpy as np\n",
    "from uuid import uuid4\n",
    "i1 = np.random.random()\n",
    "i1 = np.random.random()\n",
    "wf_id = f\"wf_{uuid4()}\"\n",
    "print(f\"Workflow_Id={wf_id}\")\n",
    "o1 = dask_client.submit(dummy_func1, i1, workflow_id=wf_id)\n",
    "o2 = dask_client.submit(dummy_func2, o1, workflow_id=wf_id)\n",
    "o3 = dask_client.submit(calculate_batch_and_epochs, o1, o2, workflow_id=wf_id)\n",
    "print(f\"Task3_id={o3.key}\")\n",
    "print(f\"Result={o3.result()}\")"
   ]
  },
  {
   "cell_type": "code",
   "execution_count": null,
   "id": "84307c0a-6ef5-428d-bf01-fd921e148c86",
   "metadata": {
    "tags": []
   },
   "outputs": [],
   "source": [
    "from dask.distributed import Client\n",
    "client = Client()\n",
    "def incr(n):\n",
    "    return n+1\n",
    "futures = client.map(incr, range(1000))\n",
    "results = client.gather(futures)"
   ]
  },
  {
   "cell_type": "code",
   "execution_count": null,
   "id": "e211229d-ac01-48c6-81f1-efba8e72d58c",
   "metadata": {
    "tags": []
   },
   "outputs": [],
   "source": [
    "sleep(10)"
   ]
  },
  {
   "cell_type": "markdown",
   "id": "0dab1514-1b81-4717-90b2-7e7016957512",
   "metadata": {
    "tags": []
   },
   "source": [
    "## Start Flowcept Query API"
   ]
  },
  {
   "cell_type": "code",
   "execution_count": null,
   "id": "34fbe181-c55d-4ac4-84bf-0684fb3f54ca",
   "metadata": {
    "tags": []
   },
   "outputs": [],
   "source": [
    "from flowcept import TaskQueryAPI\n",
    "query_api = TaskQueryAPI()"
   ]
  },
  {
   "cell_type": "code",
   "execution_count": null,
   "id": "72a80432-f4fd-459e-a3f2-900beeea434d",
   "metadata": {
    "tags": []
   },
   "outputs": [],
   "source": [
    "sleep(5)"
   ]
  },
  {
   "cell_type": "markdown",
   "id": "a0addcbe-d388-41fd-9ac7-9abe646bda6f",
   "metadata": {},
   "source": [
    "## Query the database"
   ]
  },
  {
   "cell_type": "code",
   "execution_count": null,
   "id": "82d8a1cc-86c8-48a6-b91e-d822c0417c1b",
   "metadata": {
    "tags": []
   },
   "outputs": [],
   "source": [
    "_filter = {\"workflow_id\": wf_id}\n",
    "tasks = query_api.query(_filter)\n",
    "tasks"
   ]
  },
  {
   "cell_type": "code",
   "execution_count": null,
   "id": "2a1afa5d-3934-4188-8a35-4d221bd58550",
   "metadata": {
    "tags": []
   },
   "outputs": [],
   "source": [
    "dask_client.shutdown()"
   ]
  },
  {
   "cell_type": "code",
   "execution_count": null,
   "id": "f0a5d746-1157-4591-af37-76360e7a7b1c",
   "metadata": {
    "tags": []
   },
   "outputs": [],
   "source": [
    "sleep(3)"
   ]
  },
  {
   "cell_type": "markdown",
   "id": "9d5797ed-cbb7-4c97-938a-2e55aff94cc7",
   "metadata": {
    "tags": []
   },
   "source": [
    "## Stop consumer"
   ]
  },
  {
   "cell_type": "code",
   "execution_count": null,
   "id": "45291c13-4fcf-47b4-9b9f-de0050b1b076",
   "metadata": {
    "tags": []
   },
   "outputs": [],
   "source": [
    "flowcept.stop()"
   ]
  },
  {
   "cell_type": "code",
   "execution_count": null,
   "id": "7a3d4d67-315a-46dd-a41e-b15174dc9784",
   "metadata": {
    "tags": []
   },
   "outputs": [],
   "source": [
    "# The exception that are thrown during execution here are caused within Dask's Nannies after a client.shutdown(). This only happens when Dask cluster is shut down. It will happen even if consumer.stop() is not used."
   ]
  },
  {
   "cell_type": "code",
   "execution_count": null,
   "id": "fb51cbaf-2127-4fe3-8fb6-e1be9d009f7e",
   "metadata": {
    "tags": []
   },
   "outputs": [],
   "source": [
    "exit()"
   ]
  },
  {
   "cell_type": "code",
   "execution_count": null,
   "id": "948980c5-974c-475d-813e-a31d96b7984c",
   "metadata": {},
   "outputs": [],
   "source": []
  }
 ],
 "metadata": {
  "kernelspec": {
   "display_name": "Python 3 (ipykernel)",
   "language": "python",
   "name": "python3"
  },
  "language_info": {
   "codemirror_mode": {
    "name": "ipython",
    "version": 3
   },
   "file_extension": ".py",
   "mimetype": "text/x-python",
   "name": "python",
   "nbconvert_exporter": "python",
   "pygments_lexer": "ipython3",
   "version": "3.10.15"
  }
 },
 "nbformat": 4,
 "nbformat_minor": 5
}
