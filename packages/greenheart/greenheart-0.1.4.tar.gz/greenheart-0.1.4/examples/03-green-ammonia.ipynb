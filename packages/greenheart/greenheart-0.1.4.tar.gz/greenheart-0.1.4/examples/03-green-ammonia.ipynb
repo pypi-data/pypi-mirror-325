{
  "cells": [
    {
      "cell_type": "markdown",
      "metadata": {},
      "source": [
        "# Hybrid Plant with Wind, Solar, Battery, Hydrogen and Ammonia Example\n",
        "---\n",
        "In this example we will simulate a hybrid plant using the GreenHEART software. This software allows for the co-design and simulation of an integrated renewable energy and ammonia production plant. \n",
        "\n",
        "This simulation starts with renewable energy generation using wind and solar PV technologies, which then can be stored in a battery or directly supplied to a PEM electrolyzer for hydrogen production. The produced hydrogen is then used as a feedstock in the ammonia model."
      ]
    },
    {
      "cell_type": "markdown",
      "metadata": {},
      "source": [
        "### Import Required Modules\n",
        "---\n",
        "Begin by importing the necessary modules for the GreenHEART simulation."
      ]
    },
    {
      "cell_type": "code",
      "execution_count": 2,
      "metadata": {},
      "outputs": [],
      "source": [
        "from greenheart.simulation.greenheart_simulation import GreenHeartSimulationConfig\n",
        "from greenheart.tools.optimization.gc_run_greenheart import run_greenheart"
      ]
    },
    {
      "cell_type": "markdown",
      "metadata": {},
      "source": [
        "### Load Simulation Input Files\n",
        "---\n",
        "Input files are in a YAML file format. Four YAML files are required for land-based analysis:\n",
        "1. HOPP Configuration YAML\n",
        "2. GreenHEART Configuration YAML\n",
        "3. Wind Turbine Configuration YAML\n",
        "4. FLORIS Configuration YAML"
      ]
    },
    {
      "cell_type": "markdown",
      "metadata": {},
      "source": [
        "#### HOPP YAML Overview\n",
        "\n",
        "The HOPP YAML file includes information required for simulating the renewable energy generation at the plant. Such as:\n",
        "\n",
        "- **Analysis Location**: Specifies latitude, longitude, site boundaries, and resource files.\n",
        "- **Generation Technologies**: Encompasses details on wind, solar PV, and battery storage systems.\n",
        "- **General Generation Configuration Options**: Encompasses simulation options, battery dispatch strategies, and cost information."
      ]
    },
    {
      "cell_type": "code",
      "execution_count": 3,
      "metadata": {},
      "outputs": [],
      "source": [
        "filename_hopp_config = \"./inputs/plant/hopp_config.yaml\""
      ]
    },
    {
      "cell_type": "markdown",
      "metadata": {},
      "source": [
        "#### GreenHEART YAML Overview\n",
        "\n",
        "The GreenHEART YAML file includes information required for simulating the renewable energy generation through the end product production (hydrogen, steel, ammonia). Such as:\n",
        "\n",
        "- **Plant Design Scenarios**: Specifies location and connection of individual components of plant.\n",
        "- **Financial Parameters**: General financial parameters needed for calculating the levelized cost of product and other financial metrics.\n",
        "- **Hydrogen Equipment Information**: Including electrolyzer specifications, compressor, pipeline, and H<sub>2</sub> storage information.\n",
        "- **Policy Options**: Describes options to include [IRA](https://www.whitehouse.gov/wp-content/uploads/2022/12/Inflation-Reduction-Act-Guidebook.pdf) tax incentives policy in GreenHEART simulation."
      ]
    },
    {
      "cell_type": "code",
      "execution_count": 4,
      "metadata": {},
      "outputs": [],
      "source": [
        "filename_greenheart_config = \"./inputs/plant/greenheart_config_onshore-ammonia.yaml\""
      ]
    },
    {
      "cell_type": "markdown",
      "metadata": {},
      "source": [
        "#### Wind Turbine and FLORIS YAML Overview\n",
        "\n",
        "The GreenHEART simulation runs a steady-state wake modeling tool ([FLORIS](https://www.nrel.gov/wind/floris.html)) to assess the wind farm's energy production. For accurate modeling within FLORIS, two configuration YAML files are required:\n",
        "\n",
        "- The **Wind Turbine YAML** file includes the description of the turbine including turbine rating rotor diameter, hub hight, and the power curve.\n",
        "- The **FLORIS YAML** file includes atmospheric conditions and wake models used in simulation."
      ]
    },
    {
      "cell_type": "code",
      "execution_count": 5,
      "metadata": {},
      "outputs": [],
      "source": [
        "turbine_model = \"lbw_6MW\"\n",
        "filename_turbine_config = \"./inputs/turbines/\" + turbine_model + \".yaml\"\n",
        "filename_floris_config = \"./inputs/floris/floris_input_\" + turbine_model + \".yaml\""
      ]
    },
    {
      "cell_type": "markdown",
      "metadata": {},
      "source": [
        "### Create Full Configuration to Run GreenHEART Simulation\n",
        "---\n",
        "The class `GreenHeartSimulationConfig` reads in all the required YAML files described above, allows user to set additional settings while running the GreenHEART simulation, these include:\n",
        "- **verbose**: If set to `True` additional information about the simulation will be printed as it runs.\n",
        "- **show_plots**: If set to `True` the plots will pop up during the simulation.\n",
        "- **save_plots**: If set to `True` the plots will be saved in the .output/figures folder.\n",
        "- **use_profast**: [ProFAST](https://github.com/NREL/ProFAST) is a financial analysis software that provides a quick and convenient in-depth financial analysis for production systems and services based on Generally Accepted Accounting Principles (GAAP) methodology.\n",
        "- **incentive_options**: Can select IRA incentives options which are located in the `GreenHEART YAML`.\n",
        "- **plant_design_scenario**: Can select the plant design scenario from options which are located in the `GreenHEART YAML`.\n",
        "- **output_level**: Determines what information is returned from the simulation.\n",
        "- **post_processing**: If set to `True` the post_process_simulation() function in [utilities.py](https://github.com/NREL/GreenHEART/blob/main/greenheart/tools/eco/utilities.py) will be run. This function performs multiple post-processes dependent on the other arguments specified for the `GreenHeartSimulationConfig` class listed above and configuration set in the required YAML files.\n",
        "    - If **verbose** is set to `True` additional information about the simulation will be printed.\n",
        "    - If **show_plots** or **save_plots** are `True` additional plots of the plant will be shown or saved to ./output/figures folder.\n",
        "    - If the `lca_config`:`run_lca` flag in the `GreenHEART YAML` is set to `True` Life Cycle Assessment (LCA) analysis will be run with the calculate_lca() function in [utilities.py](https://github.com/NREL/GreenHEART/blob/main/greenheart/tools/eco/utilities.py) and the data will be saved to .output/data/lca folder."
      ]
    },
    {
      "cell_type": "code",
      "execution_count": null,
      "metadata": {},
      "outputs": [],
      "source": [
        "config = GreenHeartSimulationConfig(\n",
        "    filename_hopp_config,\n",
        "    filename_greenheart_config,\n",
        "    filename_turbine_config,\n",
        "    filename_floris_config,\n",
        "    verbose=True,\n",
        "    show_plots=False,\n",
        "    save_plots=False,\n",
        "    use_profast=True,\n",
        "    post_processing=True,\n",
        "    incentive_option=1,\n",
        "    plant_design_scenario=9,\n",
        "    output_level=7,\n",
        ")"
      ]
    },
    {
      "cell_type": "markdown",
      "metadata": {},
      "source": [
        "### Run the GreenHEART Simulation\n",
        "---\n",
        "The simulation runs a techno-economic analysis of a given plant configuration. Data and figures are output to a seperate folder."
      ]
    },
    {
      "cell_type": "code",
      "execution_count": null,
      "metadata": {},
      "outputs": [],
      "source": [
        "# Suppress showing plots in output below if show_plots == False\n",
        "if not config.show_plots:\n",
        "    %matplotlib agg\n",
        "\n",
        "# for analysis\n",
        "prob, config = run_greenheart(config, run_only=True)\n",
        "\n",
        "# for optimization\n",
        "# prob, config = run_greenheart(config, run_only=False)"
      ]
    },
    {
      "cell_type": "markdown",
      "metadata": {},
      "source": [
        "### Key Output Values"
      ]
    },
    {
      "cell_type": "code",
      "execution_count": null,
      "metadata": {},
      "outputs": [],
      "source": [
        "lcoe = prob.get_val(\"lcoe\", units=\"USD/(MW*h)\")\n",
        "lcoh = prob.get_val(\"lcoh\", units=\"USD/kg\")\n",
        "lcoa = prob.get_val(\"lcoa\", units=\"USD/kg\")\n",
        "\n",
        "print(\"LCOE: \", lcoe, \"[$/MWh]\")\n",
        "print(\"LCOH: \", lcoh, \"[$/kg]\")\n",
        "print(\"LCOA: \", lcoa, \"[$/kg]\")"
      ]
    }
  ],
  "metadata": {
    "kernelspec": {
      "display_name": "greenheart_lca_pr",
      "language": "python",
      "name": "python3"
    },
    "language_info": {
      "codemirror_mode": {
        "name": "ipython",
        "version": 3
      },
      "file_extension": ".py",
      "mimetype": "text/x-python",
      "name": "python",
      "nbconvert_exporter": "python",
      "pygments_lexer": "ipython3",
      "version": "3.11.10"
    }
  },
  "nbformat": 4,
  "nbformat_minor": 2
}
