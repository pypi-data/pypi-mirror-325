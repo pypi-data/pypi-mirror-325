{
  "cells": [
    {
      "cell_type": "markdown",
      "metadata": {},
      "source": [
        "# Hybrid Plant with Wind, Solar, Battery, Hydrogen Example\n",
        "\n",
        "In this example we will simulate a hybrid plant using the GreenHEART software. This software allows for the co-design and simulation of an integrated renewable energy and hydrogen production plant. \n",
        "\n",
        "This simulation starts with renewable energy generation using wind and solar PV technologies, which then can be stored in a battery or directly supplied to a PEM electrolyzer for hydrogen production. "
      ]
    },
    {
      "cell_type": "markdown",
      "metadata": {},
      "source": [
        "### Import Required Modules\n",
        "\n",
        "Begin by importing the necessary modules for the GreenHEART simulation."
      ]
    },
    {
      "cell_type": "code",
      "execution_count": 3,
      "metadata": {},
      "outputs": [
        {
          "name": "stdout",
          "output_type": "stream",
          "text": [
            "logging to stdout\n"
          ]
        }
      ],
      "source": [
        "from greenheart.simulation.greenheart_simulation import GreenHeartSimulationConfig\n",
        "from greenheart.tools.optimization.gc_run_greenheart import run_greenheart"
      ]
    },
    {
      "cell_type": "markdown",
      "metadata": {},
      "source": [
        "### Load Simulation Input Files\n",
        "\n",
        "Input files are in a YAML file format. Four YAML files are required for land-based analysis:\n",
        "1. HOPP Configuration YAML\n",
        "2. GreenHEART Configuration YAML\n",
        "3. Wind Turbine Configuration YAML\n",
        "4. FLORIS Configuration YAML"
      ]
    },
    {
      "cell_type": "markdown",
      "metadata": {},
      "source": [
        "#### HOPP YAML Overview\n",
        "\n",
        "The HOPP YAML file includes information required for simulating the renewable energy generation at the plant. Such as:\n",
        "\n",
        "- **Analysis Location**: Specifies latitude, longitude, site boundaries, and resource files.\n",
        "- **Generation Technologies**: Encompasses details on wind, solar PV, and battery storage systems.\n",
        "- **General Generation Configuration Options**: Encompasses simulation options, battery dispatch strategies, and cost information."
      ]
    },
    {
      "cell_type": "code",
      "execution_count": 4,
      "metadata": {},
      "outputs": [],
      "source": [
        "filename_hopp_config = \"../../examples/inputs/plant/hopp_config.yaml\""
      ]
    },
    {
      "cell_type": "markdown",
      "metadata": {},
      "source": [
        "#### GreenHEART YAML Overview\n",
        "\n",
        "The GreenHEART YAML file includes information required for simulating the renewable energy generation through the end product production (hydrogen, steel, ammonia). Such as:\n",
        "\n",
        "- **Plant Design Scenarios**: Specifies location and connection of individual components of plant.\n",
        "- **Financial Parameters**: General financial parameters needed for calculating the levelized cost of product and other financial metrics.\n",
        "- **Hydrogen Equipment Information**: Including electrolyzer specifications, compressor, pipeline, and H<sub>2</sub> storage information.\n",
        "- **Policy Options**: Describes options to include [IRA](https://www.whitehouse.gov/wp-content/uploads/2022/12/Inflation-Reduction-Act-Guidebook.pdf) tax incentives policy in GreenHEART simulation."
      ]
    },
    {
      "cell_type": "code",
      "execution_count": 5,
      "metadata": {},
      "outputs": [],
      "source": [
        "filename_greenheart_config = \"../../examples/inputs/plant/greenheart_config_onshore-hydrogen.yaml\""
      ]
    },
    {
      "cell_type": "markdown",
      "metadata": {},
      "source": [
        "#### Wind Turbine and FLORIS YAML Overview\n",
        "\n",
        "The GreenHEART simulation runs a steady-state wake modeling tool ([FLORIS](https://www.nrel.gov/wind/floris.html)) to assess the wind farm's energy production. For accurate modeling within FLORIS, two configuration YAML files are required:\n",
        "\n",
        "- The **Wind Turbine YAML** file includes the description of the turbine including turbine rating rotor diameter, hub hight, and the power curve.\n",
        "- The **FLORIS YAML** file includes atmospheric conditions and wake models used in simulation."
      ]
    },
    {
      "cell_type": "code",
      "execution_count": 6,
      "metadata": {},
      "outputs": [],
      "source": [
        "turbine_model = \"lbw_6MW\"\n",
        "filename_turbine_config = \"../../examples/inputs/turbines/\" + turbine_model + \".yaml\"\n",
        "filename_floris_config = \"../../examples/inputs/floris/floris_input_\" + turbine_model + \".yaml\""
      ]
    },
    {
      "cell_type": "markdown",
      "metadata": {},
      "source": [
        "### Create Full Configuration to Run GreenHEART Simulation\n",
        "\n",
        "The class `GreenHeartSimulationConfig` reads in all the required YAML files described above, allows user to set additional settings while running the GreenHEART simulation, these include:\n",
        "- **verbose**: If set to `True` additional information about the simulation will be printed as it runs.\n",
        "- **show_plots**: If set to `True` the plots will pop up during the simulation.\n",
        "- **save_plots**: If set to `True` the plots will be saved in the .output/figures folder.\n",
        "- **use_profast**: [ProFAST](https://github.com/NREL/ProFAST) is a financial analysis software that provides a quick and convenient in-depth financial analysis for production systems and services based on Generally Accepted Accounting Principles (GAAP) methodology.\n",
        "- **incentive_options**: Can select IRA incentives options which are located in the `GreenHEART YAML`.\n",
        "- **plant_design_scenario**: Can select the plant design scenario from options which are located in the `GreenHEART YAML`.\n",
        "- **output_level**: Determines what information is returned from the simulation.\n",
        "- **post_processing**: If set to `True` the post_process_simulation() function in [utilities.py](https://github.com/NREL/GreenHEART/blob/main/greenheart/tools/eco/utilities.py) will be run. This function performs multiple post-processes dependent on the other arguments specified for the `GreenHeartSimulationConfig` class listed above and configuration set in the required YAML files.\n",
        "    - If **verbose** is set to `True` additional information about the simulation will be printed.\n",
        "    - If **show_plots** or **save_plots** are `True` additional plots of the plant will be shown or saved to ./output/figures folder.\n",
        "    - If the `lca_config`:`run_lca` flag in the `GreenHEART YAML` is set to `True` Life Cycle Assessment (LCA) analysis will be run with the calculate_lca() function in [utilities.py](https://github.com/NREL/GreenHEART/blob/main/greenheart/tools/eco/utilities.py) and the data will be saved to .output/data/lca folder."
      ]
    },
    {
      "cell_type": "code",
      "execution_count": 7,
      "metadata": {},
      "outputs": [
        {
          "name": "stdout",
          "output_type": "stream",
          "text": [
            "\n",
            "Turbine configuration:\n",
            "turbine_type :  lbw_6MW\n",
            "turbine_rating :  6.0\n",
            "hub_height :  115.0\n",
            "rotor_diameter :  196.0\n",
            "TSR :  9.0\n",
            "operation_model :  cosine-loss\n",
            "power_thrust_table :  {'ref_air_density': 1.225, 'ref_tilt': 6.0, 'cosine_loss_exponent_yaw': 1.88, 'cosine_loss_exponent_tilt': 1.88, 'wind_speed': [0.0, 0.5, 1.0, 1.5, 2.0, 2.5, 3.0, 3.5, 4.0, 4.5, 5.0, 5.5, 6.0, 6.5, 7.0, 7.5, 8.0, 8.5, 9.0, 9.5, 10.0, 10.5, 11.0, 11.5, 12.0, 12.5, 13.0, 13.5, 14.0, 14.5, 15.0, 15.5, 16.0, 16.5, 17.0, 17.5, 18.0, 18.5, 19.0, 19.5, 20.0, 20.5, 21.0, 21.5, 22.0, 22.5, 23.0, 23.5, 24.0, 24.5, 25.0, 25.5, 50.0], 'power': [0.0, 0.0, 0.0, 0.0, 0.0, 0.0, 96.24651230523119, 259.8655834676017, 466.7955856533571, 719.4426800803637, 1020.2130323647901, 1383.5436169472148, 1804.622107344728, 2297.8854847039333, 2868.1460733155195, 3491.3422371404968, 4143.412363766887, 4766.60853153047, 5283.933537682093, 5644.857957214306, 5866.224936675051, 6000.970054119055, 6015.407027531671, 6015.407039825664, 6015.407045771687, 6015.407046797342, 6015.407030784196, 6015.4070299294835, 6015.407031726689, 6015.40703252596, 6015.407050262391, 6015.4070090467885, 6015.407054050846, 6015.406990635828, 6015.407017459927, 6015.40700637177, 6015.407073713843, 6015.407017596219, 6015.407023687774, 6015.406980032777, 6015.407089532948, 6015.4070933745315, 6015.407114130176, 6015.4070674790655, 6015.407052128898, 2887.395408450592, 2887.395433080161, 2887.395444013546, 2887.3953462044515, 2887.3953052175407, 2887.3953593623974, 0.0, 0.0], 'thrust_coefficient': [0.0, 0.0, 0.0, 0.0, 0.0, 0.0, 0.2701938462552998, 0.49876088677031816, 0.6410583756749411, 0.7304171026328261, 0.7820140738475616, 0.8219695127339289, 0.8352112145765765, 0.8400940247937402, 0.8379537129170351, 0.8101778683666324, 0.7672683998396476, 0.7083562153936742, 0.6350905785639259, 0.5551074611981718, 0.4788235519553873, 0.41244475217617255, 0.35190962095427364, 0.3029658154904963, 0.2632886841215642, 0.23060389109382756, 0.20333704601408872, 0.18035220902161636, 0.16080492837083768, 0.14405295244038488, 0.12959884155843146, 0.11705148949914825, 0.10609947180098464, 0.09649207076054334, 0.08802550386379156, 0.080532705961645, 0.07387566569120284, 0.0679395700022922, 0.0626283035300828, 0.05786092523660555, 0.05356890955590444, 0.04969394382759819, 0.04618618064324506, 0.04300281785004922, 0.040106954468623494, 0.017894348350362906, 0.016747646863604262, 0.015697057336370227, 0.014732694286609812, 0.013845872021549986, 0.013028935873409437, 0.0, 0.0]}\n",
            "Total hybrid plant rating calculated: 1396.0 MW\n"
          ]
        }
      ],
      "source": [
        "config = GreenHeartSimulationConfig(\n",
        "    filename_hopp_config,\n",
        "    filename_greenheart_config,\n",
        "    filename_turbine_config,\n",
        "    filename_floris_config,\n",
        "    verbose=True,\n",
        "    show_plots=False,\n",
        "    save_plots=False,\n",
        "    use_profast=True,\n",
        "    post_processing=False,\n",
        "    incentive_option=1,\n",
        "    plant_design_scenario=9,\n",
        "    output_level=7,\n",
        ")"
      ]
    },
    {
      "cell_type": "markdown",
      "metadata": {},
      "source": [
        "### Run the GreenHEART Simulation\n",
        "\n",
        "The simulation runs a techno-economic analysis of a given plant configuration. Data and figures are output to a separate folder."
      ]
    },
    {
      "cell_type": "code",
      "execution_count": 8,
      "metadata": {},
      "outputs": [
        {
          "name": "stdout",
          "output_type": "stream",
          "text": [
            "INFO:greenheart:Started\n"
          ]
        },
        {
          "name": "stderr",
          "output_type": "stream",
          "text": [
            "c:\\Users\\jjasa\\AppData\\Local\\anaconda3\\Lib\\site-packages\\openmdao\\core\\driver.py:769: OpenMDAOWarning:Driver: No matches for pattern '*_df' in recording_options['excludes'].\n",
            "HybridSim   : INFO     SolarResource: c:\\Users\\jjasa\\Documents\\git\\GreenHEART\\docs\\examples\\..\\..\\examples\\inputs\\plant\\..\\weather\\solar\\47.5233_-92.5366_psmv3_60_2013.csv\n",
            "HybridSim   : INFO     Set up SiteInfo with wind resource files: c:\\Users\\jjasa\\Documents\\git\\GreenHEART\\docs\\examples\\..\\..\\examples\\inputs\\plant\\..\\weather\\wind\\47.5233_-92.5366_windtoolkit_2013_60min_100m_120m.srw\n",
            "HybridSim   : INFO     Set up SiteInfo with solar resource files: c:\\Users\\jjasa\\Documents\\git\\GreenHEART\\docs\\examples\\..\\..\\examples\\inputs\\plant\\..\\weather\\solar\\47.5233_-92.5366_psmv3_60_2013.csv\n",
            "HybridSim   : INFO     SolarResource: c:\\Users\\jjasa\\Documents\\git\\GreenHEART\\docs\\examples\\..\\..\\examples\\inputs\\plant\\..\\weather\\solar\\47.5233_-92.5366_psmv3_60_2013.csv\n",
            "HybridSim   : INFO     Set up SiteInfo with wind resource files: c:\\Users\\jjasa\\Documents\\git\\GreenHEART\\docs\\examples\\..\\..\\examples\\inputs\\plant\\..\\weather\\wind\\47.5233_-92.5366_windtoolkit_2013_60min_100m_120m.srw\n",
            "HybridSim   : INFO     Set up SiteInfo with solar resource files: c:\\Users\\jjasa\\Documents\\git\\GreenHEART\\docs\\examples\\..\\..\\examples\\inputs\\plant\\..\\weather\\solar\\47.5233_-92.5366_psmv3_60_2013.csv\n",
            "HybridSim   : INFO     Created HybridSystem.pv with system size 100000 mW\n"
          ]
        },
        {
          "name": "stdout",
          "output_type": "stream",
          "text": [
            "FLORIS is the system model...\n"
          ]
        },
        {
          "name": "stderr",
          "output_type": "stream",
          "text": [
            "HybridSim   : INFO     Wind Layout set with 216 turbines for 1296000.0 kw system capacity\n",
            "HybridSim   : INFO     Created HybridSystem.wind with system size WindConfig(num_turbines=216, turbine_rating_kw=6000.0, rotor_diameter=None, layout_params=None, hub_height=None, layout_mode='grid', model_name='floris', model_input_file=None, rating_range_kw=(1000, 3000), floris_config={'name': 'Gauss', 'description': 'Onshore wind 6MW Bespoke Turbine reference design', 'floris_version': 'v4.0.0', 'logging': {'console': {'enable': False, 'level': 'WARNING'}, 'file': {'enable': False, 'level': 'WARNING'}}, 'solver': {'type': 'turbine_grid', 'turbine_grid_points': 1}, 'flow_field': {'air_density': 1.225, 'reference_wind_height': -1, 'wind_directions': [270.0], 'wind_shear': 0.33, 'wind_speeds': [8.0], 'wind_veer': 0.0, 'turbulence_intensities': [0.06]}, 'wake': {'model_strings': {'combination_model': 'sosfs', 'deflection_model': 'gauss', 'turbulence_model': 'crespo_hernandez', 'velocity_model': 'gauss'}, 'enable_secondary_steering': False, 'enable_yaw_added_recovery': False, 'enable_transverse_velocities': False, 'wake_deflection_parameters': {'gauss': {'ad': 0.0, 'alpha': 0.58, 'bd': 0.0, 'beta': 0.077, 'dm': 1.0, 'ka': 0.38, 'kb': 0.004}, 'jimenez': {'ad': 0.0, 'bd': 0.0, 'kd': 0.05}}, 'wake_velocity_parameters': {'cc': {'a_s': 0.179367259, 'b_s': 0.0118889215, 'c_s1': 0.0563691592, 'c_s2': 0.13290157, 'a_f': 3.11, 'b_f': -0.68, 'c_f': 2.41, 'alpha_mod': 1.0}, 'gauss': {'alpha': 0.58, 'beta': 0.077, 'ka': 0.38, 'kb': 0.004}, 'jensen': {'we': 0.05}}, 'wake_turbulence_parameters': {'crespo_hernandez': {'initial': 0.1, 'constant': 0.5, 'ai': 0.8, 'downstream': -0.32}}, 'enable_active_wake_mixing': False}, 'farm': {'turbine_type': [{'turbine_type': 'lbw_6MW', 'hub_height': 115.0, 'rotor_diameter': 196.0, 'TSR': 9.0, 'operation_model': 'cosine-loss', 'power_thrust_table': {'ref_air_density': 1.225, 'ref_tilt': 6.0, 'cosine_loss_exponent_yaw': 1.88, 'cosine_loss_exponent_tilt': 1.88, 'wind_speed': [0.0, 0.5, 1.0, 1.5, 2.0, 2.5, 3.0, 3.5, 4.0, 4.5, 5.0, 5.5, 6.0, 6.5, 7.0, 7.5, 8.0, 8.5, 9.0, 9.5, 10.0, 10.5, 11.0, 11.5, 12.0, 12.5, 13.0, 13.5, 14.0, 14.5, 15.0, 15.5, 16.0, 16.5, 17.0, 17.5, 18.0, 18.5, 19.0, 19.5, 20.0, 20.5, 21.0, 21.5, 22.0, 22.5, 23.0, 23.5, 24.0, 24.5, 25.0, 25.5, 50.0], 'power': [0.0, 0.0, 0.0, 0.0, 0.0, 0.0, 96.24651230523119, 259.8655834676017, 466.7955856533571, 719.4426800803637, 1020.2130323647901, 1383.5436169472148, 1804.622107344728, 2297.8854847039333, 2868.1460733155195, 3491.3422371404968, 4143.412363766887, 4766.60853153047, 5283.933537682093, 5644.857957214306, 5866.224936675051, 6000.970054119055, 6015.407027531671, 6015.407039825664, 6015.407045771687, 6015.407046797342, 6015.407030784196, 6015.4070299294835, 6015.407031726689, 6015.40703252596, 6015.407050262391, 6015.4070090467885, 6015.407054050846, 6015.406990635828, 6015.407017459927, 6015.40700637177, 6015.407073713843, 6015.407017596219, 6015.407023687774, 6015.406980032777, 6015.407089532948, 6015.4070933745315, 6015.407114130176, 6015.4070674790655, 6015.407052128898, 2887.395408450592, 2887.395433080161, 2887.395444013546, 2887.3953462044515, 2887.3953052175407, 2887.3953593623974, 0.0, 0.0], 'thrust_coefficient': [0.0, 0.0, 0.0, 0.0, 0.0, 0.0, 0.2701938462552998, 0.49876088677031816, 0.6410583756749411, 0.7304171026328261, 0.7820140738475616, 0.8219695127339289, 0.8352112145765765, 0.8400940247937402, 0.8379537129170351, 0.8101778683666324, 0.7672683998396476, 0.7083562153936742, 0.6350905785639259, 0.5551074611981718, 0.4788235519553873, 0.41244475217617255, 0.35190962095427364, 0.3029658154904963, 0.2632886841215642, 0.23060389109382756, 0.20333704601408872, 0.18035220902161636, 0.16080492837083768, 0.14405295244038488, 0.12959884155843146, 0.11705148949914825, 0.10609947180098464, 0.09649207076054334, 0.08802550386379156, 0.080532705961645, 0.07387566569120284, 0.0679395700022922, 0.0626283035300828, 0.05786092523660555, 0.05356890955590444, 0.04969394382759819, 0.04618618064324506, 0.04300281785004922, 0.040106954468623494, 0.017894348350362906, 0.016747646863604262, 0.015697057336370227, 0.014732694286609812, 0.013845872021549986, 0.013028935873409437, 0.0, 0.0]}}], 'layout_x': [335.7287525098109, 1315.7287525098109, 2295.728752509811, 3275.728752509811, 4255.728752509811, 5235.728752509811, 6215.728752509811, 7195.728752509811, 8175.728752509811, 9155.72875250981, 10135.72875250981, 11115.728752509807, 12095.728752509815, 13075.72875250981, 14055.728752509807, 15035.72875250981, 16015.72875250981, 16995.72875250981, 17975.72875250981, 18955.72875250981, 19935.72875250981, 335.7287525098109, 1315.7287525098109, 2295.728752509811, 3275.728752509811, 4255.728752509811, 5235.728752509811, 6215.728752509811, 7195.728752509811, 8175.728752509811, 9155.72875250981, 10135.72875250981, 11115.728752509807, 12095.728752509815, 13075.72875250981, 14055.728752509807, 15035.72875250981, 16015.72875250981, 16995.72875250981, 17975.72875250981, 18955.72875250981, 19935.72875250981, 335.7287525098109, 1315.7287525098109, 2295.728752509811, 3275.728752509811, 4255.728752509811, 5235.728752509811, 6215.728752509811, 7195.728752509811, 8175.728752509811, 9155.72875250981, 10135.72875250981, 11115.728752509807, 12095.728752509815, 13075.72875250981, 14055.728752509807, 15035.72875250981, 16015.72875250981, 16995.72875250981, 17975.72875250981, 18955.72875250981, 19935.72875250981, 335.7287525098109, 1315.7287525098109, 2295.728752509811, 3275.728752509811, 4255.728752509811, 5235.728752509811, 6215.728752509811, 7195.728752509811, 8175.728752509811, 9155.72875250981, 10135.72875250981, 11115.728752509807, 12095.728752509815, 13075.72875250981, 14055.728752509807, 15035.72875250981, 16015.72875250981, 16995.72875250981, 17975.72875250981, 18955.72875250981, 19935.72875250981, 335.7287525098109, 1315.7287525098109, 2295.728752509811, 3275.728752509811, 4255.728752509811, 5235.728752509811, 6215.728752509811, 7195.728752509811, 8175.728752509811, 9155.72875250981, 10135.72875250981, 11115.728752509807, 12095.728752509815, 13075.72875250981, 14055.728752509807, 15035.72875250981, 16015.72875250981, 16995.72875250981, 17975.72875250981, 18955.72875250981, 19935.72875250981, 335.7287525098109, 1315.7287525098109, 2295.728752509811, 3275.728752509811, 4255.728752509811, 5235.728752509811, 6215.728752509811, 7195.728752509811, 8175.728752509811, 9155.72875250981, 10135.72875250981, 11115.728752509807, 12095.728752509815, 13075.72875250981, 14055.728752509807, 15035.72875250981, 16015.72875250981, 16995.72875250981, 17975.72875250981, 18955.72875250981, 19935.72875250981, 335.7287525098109, 1315.7287525098109, 2295.728752509811, 3275.728752509811, 4255.728752509811, 5235.728752509811, 6215.728752509811, 7195.728752509811, 8175.728752509811, 9155.72875250981, 10135.72875250981, 11115.728752509807, 12095.728752509815, 13075.72875250981, 14055.728752509807, 15035.72875250981, 16015.72875250981, 16995.72875250981, 17975.72875250981, 18955.72875250981, 19935.72875250981, 335.7287525098109, 1315.7287525098109, 2295.728752509811, 3275.728752509811, 4255.728752509811, 5235.728752509811, 6215.728752509811, 7195.728752509811, 8175.728752509811, 9155.72875250981, 10135.72875250981, 11115.728752509807, 12095.728752509815, 13075.72875250981, 14055.728752509807, 15035.72875250981, 16015.72875250981, 16995.72875250981, 17975.72875250981, 18955.72875250981, 19935.72875250981, 335.7287525098109, 1315.7287525098109, 2295.728752509811, 3275.728752509811, 4255.728752509811, 5235.728752509811, 6215.728752509811, 7195.728752509811, 8175.728752509811, 9155.72875250981, 10135.72875250981, 11115.728752509807, 12095.728752509815, 13075.72875250981, 14055.728752509807, 15035.72875250981, 16015.72875250981, 16995.72875250981, 17975.72875250981, 18955.72875250981, 19935.72875250981, 335.7287525098109, 1315.7287525098109, 2295.728752509811, 3275.728752509811, 4255.728752509811, 5235.728752509811, 6215.728752509811, 7195.728752509811, 8175.728752509811, 9155.72875250981, 10135.72875250981, 11115.728752509807, 12095.728752509815, 13075.72875250981, 14055.728752509807, 15035.72875250981, 16015.72875250981, 16995.72875250981, 17975.72875250981, 18955.72875250981, 19935.72875250981, 335.7287525098109, 1315.7287525098109, 2295.728752509811, 3275.728752509811, 4255.728752509811, 5235.728752509811], 'layout_y': [200.00000000000364, 200.00000000000364, 200.00000000000364, 200.00000000000364, 200.00000000000364, 200.00000000000364, 200.00000000000364, 200.00000000000364, 200.00000000000364, 200.00000000000364, 200.00000000000364, 200.00000000000364, 200.00000000000364, 200.00000000000364, 200.00000000000364, 200.00000000000364, 200.00000000000364, 200.00000000000364, 200.00000000000364, 200.00000000000364, 200.00000000000364, 1180.0000000000036, 1180.0000000000036, 1180.0000000000036, 1180.0000000000036, 1180.0000000000036, 1180.0000000000036, 1180.0000000000036, 1180.0000000000036, 1180.0000000000036, 1180.0000000000036, 1180.0000000000036, 1180.0000000000036, 1180.0000000000036, 1180.0000000000036, 1180.0000000000036, 1180.0000000000036, 1180.0000000000036, 1180.0000000000036, 1180.0000000000036, 1180.0000000000036, 1180.0000000000036, 2160.0000000000036, 2160.0000000000036, 2160.0000000000036, 2160.0000000000036, 2160.0000000000036, 2160.0000000000036, 2160.0000000000036, 2160.0000000000036, 2160.0000000000036, 2160.0000000000036, 2160.0000000000036, 2160.0000000000036, 2160.0000000000036, 2160.0000000000036, 2160.0000000000036, 2160.0000000000036, 2160.0000000000036, 2160.0000000000036, 2160.0000000000036, 2160.0000000000036, 2160.0000000000036, 3140.0000000000036, 3140.0000000000036, 3140.0000000000036, 3140.0000000000036, 3140.0000000000036, 3140.0000000000036, 3140.0000000000036, 3140.0000000000036, 3140.0000000000036, 3140.0000000000036, 3140.0000000000036, 3140.0000000000036, 3140.0000000000036, 3140.0000000000036, 3140.0000000000036, 3140.0000000000036, 3140.0000000000036, 3140.0000000000036, 3140.0000000000036, 3140.0000000000036, 3140.0000000000036, 4120.000000000004, 4120.000000000004, 4120.000000000004, 4120.000000000004, 4120.000000000004, 4120.000000000004, 4120.000000000004, 4120.000000000004, 4120.000000000004, 4120.000000000004, 4120.000000000004, 4120.000000000004, 4120.000000000004, 4120.000000000004, 4120.000000000004, 4120.000000000004, 4120.000000000004, 4120.000000000004, 4120.000000000004, 4120.000000000004, 4120.000000000004, 5100.000000000004, 5100.000000000004, 5100.000000000004, 5100.000000000004, 5100.000000000004, 5100.000000000004, 5100.000000000004, 5100.000000000004, 5100.000000000004, 5100.000000000004, 5100.000000000004, 5100.000000000004, 5100.000000000004, 5100.000000000004, 5100.000000000004, 5100.000000000004, 5100.000000000004, 5100.000000000004, 5100.000000000004, 5100.000000000004, 5100.000000000004, 6080.000000000004, 6080.000000000004, 6080.000000000004, 6080.000000000004, 6080.000000000004, 6080.000000000004, 6080.000000000004, 6080.000000000004, 6080.000000000004, 6080.000000000004, 6080.000000000004, 6080.000000000004, 6080.000000000004, 6080.000000000004, 6080.000000000004, 6080.000000000004, 6080.000000000004, 6080.000000000004, 6080.000000000004, 6080.000000000004, 6080.000000000004, 7060.000000000004, 7060.000000000004, 7060.000000000004, 7060.000000000004, 7060.000000000004, 7060.000000000004, 7060.000000000004, 7060.000000000004, 7060.000000000004, 7060.000000000004, 7060.000000000004, 7060.000000000004, 7060.000000000004, 7060.000000000004, 7060.000000000004, 7060.000000000004, 7060.000000000004, 7060.000000000004, 7060.000000000004, 7060.000000000004, 7060.000000000004, 8040.000000000004, 8040.000000000004, 8040.000000000004, 8040.000000000004, 8040.000000000004, 8040.000000000004, 8040.000000000004, 8040.000000000004, 8040.000000000004, 8040.000000000004, 8040.000000000004, 8040.000000000004, 8040.000000000004, 8040.000000000004, 8040.000000000004, 8040.000000000004, 8040.000000000004, 8040.000000000004, 8040.000000000004, 8040.000000000004, 8040.000000000004, 9020.000000000004, 9020.000000000004, 9020.000000000004, 9020.000000000004, 9020.000000000004, 9020.000000000004, 9020.000000000004, 9020.000000000004, 9020.000000000004, 9020.000000000004, 9020.000000000004, 9020.000000000004, 9020.000000000004, 9020.000000000004, 9020.000000000004, 9020.000000000004, 9020.000000000004, 9020.000000000004, 9020.000000000004, 9020.000000000004, 9020.000000000004, 10000.000000000004, 10000.000000000004, 10000.000000000004, 10000.000000000004, 10000.000000000004, 10000.000000000004]}}, operational_losses=12.83, timestep=[0, 8760], fin_model={'battery_system': {'batt_replacement_schedule_percent': [0], 'batt_bank_replacement': [0], 'batt_replacement_option': 0, 'batt_computed_bank_capacity': 0, 'batt_meter_position': 0}, 'system_costs': {'om_fixed': [1], 'om_production': [2], 'om_capacity': [25.8], 'om_batt_fixed_cost': 42.888, 'om_batt_variable_cost': [0], 'om_batt_capacity_cost': 0, 'om_batt_replacement_cost': 0, 'om_replacement_cost_escal': 0}, 'revenue': {'ppa_price_input': [0.01], 'ppa_escalation': 1}, 'system_use_lifetime_output': 0, 'financial_parameters': {'inflation_rate': 2.5, 'real_discount_rate': 6.98, 'federal_tax_rate': 21.0, 'state_tax_rate': 4.74, 'property_tax_rate': 1.0, 'insurance_rate': 0.5, 'debt_percent': 68.5, 'term_int_rate': 4.6, 'months_working_reserve': 1, 'analysis_start_year': 2025, 'installation_months': 36, 'sales_tax_rate_state': 0.0, 'admin_expense_percent_of_sales': 1.0, 'capital_gains_tax_rate': 15.0, 'debt_type': 'Revolving debt', 'depreciation_method': 'MACRS', 'depreciation_period': 5}, 'cp_capacity_credit_percent': [0], 'degradation': [0]}, name='WindPlant') mW\n",
            "HybridSim   : INFO     Battery chemistry set to LFPGraphite\n",
            "HybridSim   : INFO     Initialized battery with parameters and state {'Controls': {'control_mode': 0.0, 'dt_hr': 1.0, 'input_current': 0.0}, 'ParamsCell': {'C_rate': 1.0, 'Qexp': 0.04, 'Qfull': 2.25, 'Qnom': 2.0, 'Vcut': 2.706, 'Vexp': 4.05, 'Vfull': 4.1, 'Vnom': 3.4, 'Vnom_default': 3.6, 'calendar_a': 0.0033143, 'calendar_b': -3191.0, 'calendar_c': 389.7, 'calendar_choice': 1.0, 'calendar_q0': 0.999, 'chem': 1.0, 'cycling_matrix': ((100.0, 0.0, 100.0), (100.0, 128.0, 98.7906648), (100.0, 202.0, 97.9632249), (100.0, 277.0, 97.3903819), (100.0, 371.0, 96.6265912), (100.0, 523.0, 95.9264498), (100.0, 666.0, 95.2263083), (100.0, 1012.0, 93.9533239), (100.0, 1354.0, 92.9349364), (100.0, 1733.0, 91.9483734), (100.0, 2052.0, 91.0572843), (100.0, 2384.0, 90.2298444), (100.0, 2744.0, 89.3705799), (100.0, 3103.0, 88.54314), (100.0, 3465.0, 87.7157001), (100.0, 3830.0, 86.9200849), (100.0, 4188.0, 86.1881188), (100.0, 4560.0, 85.2970297), (100.0, 5000.0, 84.4377652), (100.0, 5374.0, 83.7376238), (100.0, 5757.0, 82.9738331), (100.0, 6132.0, 82.3055163), (100.0, 6527.0, 81.4780764), (100.0, 6926.0, 80.7461103), (100.0, 7300.0, 79.9823197), (100.0, 7701.0, 79.218529), (100.0, 8111.0, 78.6138614), (100.0, 8495.0, 77.6591231), (100.0, 8778.0, 77.3408769), (100.0, 9192.0, 76.4497878), (100.0, 9987.0, 74.8903819), (100.0, 10829.0, 73.4264498), (100.0, 11474.0, 72.1534653), (100.0, 12162.0, 70.9123055), (100.0, 12921.0, 69.5756719), (80.0, 0.0, 100.0), (80.0, 161.0, 98.4087694), (80.0, 301.0, 97.135785), (80.0, 448.0, 96.0219236), (80.0, 645.0, 95.0671853), (80.0, 831.0, 94.3033946), (80.0, 1276.0, 92.6803395), (80.0, 1696.0, 91.5664781), (80.0, 2191.0, 90.4844413), (80.0, 2596.0, 89.6570014), (80.0, 3023.0, 89.0205092), (80.0, 3466.0, 88.3521924), (80.0, 3912.0, 87.7157001), (80.0, 4375.0, 87.0473833), (80.0, 4828.0, 86.3472419), (80.0, 5292.0, 85.7425743), (80.0, 5759.0, 85.0424328), (80.0, 6297.0, 84.3422914), (80.0, 7242.0, 83.1011315), (80.0, 7724.0, 82.4328147), (80.0, 8196.0, 81.8281471), (80.0, 8678.0, 81.0643564), (80.0, 9186.0, 80.4915134), (80.0, 9690.0, 79.950495), (80.0, 10169.0, 79.3140028), (80.0, 10623.0, 78.8048091), (80.0, 11000.0, 78.2637907), (80.0, 11534.0, 77.6272984), (80.0, 12479.0, 76.6725601), (80.0, 13496.0, 75.5905233), (80.0, 14299.0, 74.7949081), (80.0, 15119.0, 73.903819), (80.0, 16019.0, 72.8854314), (40.0, 0.0, 100.0), (40.0, 489.0, 95.7355021), (40.0, 948.0, 92.6803395), (40.0, 1323.0, 89.8161245), (40.0, 1733.0, 87.7793494), (40.0, 2690.0, 83.7694484), (40.0, 3623.0, 82.3055163), (40.0, 4676.0, 82.1145686), (40.0, 5591.0, 82.1145686), (40.0, 6507.0, 82.1782178), (40.0, 7506.0, 81.9236209), (40.0, 8468.0, 81.6053748), (40.0, 9438.0, 82.7510608), (40.0, 10407.0, 81.7963225), (40.0, 11358.0, 81.1598303), (40.0, 12345.0, 80.4915134), (40.0, 13463.0, 80.4915134), (40.0, 14484.0, 80.0777935), (40.0, 15468.0, 79.7595474), (40.0, 16470.0, 79.4094767), (40.0, 17477.0, 78.9321075), (40.0, 18475.0, 78.6138614), (40.0, 19492.0, 78.1364922), (40.0, 20530.0, 77.8182461), (40.0, 21542.0, 77.4363508), (40.0, 22456.0, 77.1181047), (40.0, 23209.0, 77.2454031), (40.0, 24274.0, 76.7362093), (40.0, 26229.0, 75.9724187), (40.0, 28263.0, 75.2404526), (40.0, 29842.0, 74.7630835), (40.0, 31478.0, 74.2538897), (40.0, 33293.0, 73.8719943), (20.0, 0.0, 100.0), (20.0, 322.0, 97.8359264), (20.0, 744.0, 96.562942), (20.0, 1030.0, 94.9717115), (20.0, 1861.0, 91.3437058), (20.0, 2726.0, 87.8429986), (20.0, 2726.0, 87.8429986), (20.0, 3518.0, 84.7878359), (20.0, 5462.0, 79.2503536), (20.0, 7476.0, 76.927157), (20.0, 9813.0, 77.0862801), (20.0, 11702.0, 77.2772277), (20.0, 13699.0, 77.9137199), (20.0, 15707.0, 78.6775106), (20.0, 17758.0, 79.0594059), (20.0, 19770.0, 79.4413013), (20.0, 21691.0, 79.5049505), (20.0, 23725.0, 79.5685997), (20.0, 25701.0, 79.5685997), (20.0, 27985.0, 79.9823197), (20.0, 30010.0, 79.8231966), (20.0, 31981.0, 79.6958982), (20.0, 33984.0, 79.5367751), (20.0, 35993.0, 79.2503536), (20.0, 37950.0, 79.0594059), (20.0, 40000.0, 78.8048091), (20.0, 42027.0, 78.5502122), (20.0, 44002.0, 78.2956153), (20.0, 45809.0, 78.0410184), (20.0, 47324.0, 78.4547383), (20.0, 49421.0, 77.9773692), (20.0, 53266.0, 77.2772277), (20.0, 57263.0, 76.6089109), (20.0, 60363.0, 76.2906648), (20.0, 63598.0, 75.8132956), (20.0, 67147.0, 75.6859972), (10.0, 0.0, 100.0), (10.0, 827.0, 98.281471), (10.0, 1341.0, 97.0084866), (10.0, 2050.0, 95.6718529), (10.0, 3697.0, 92.4257426), (10.0, 5352.0, 89.3387553), (10.0, 6801.0, 86.7609618), (10.0, 10801.0, 81.8281471), (10.0, 14594.0, 79.1867044), (10.0, 19282.0, 78.2637907), (10.0, 22891.0, 78.2956153), (10.0, 26837.0, 78.7411598), (10.0, 30819.0, 79.1867044), (10.0, 34952.0, 79.5685997), (10.0, 38953.0, 79.8868458), (10.0, 42829.0, 80.0141443), (10.0, 46812.0, 80.1414427), (10.0, 50791.0, 80.2050919), (10.0, 55205.0, 80.8415842), (10.0, 59150.0, 80.8415842), (10.0, 63094.0, 80.9052334), (10.0, 67040.0, 80.7779349), (10.0, 71103.0, 80.7142857), (10.0, 74943.0, 80.6824611), (10.0, 78957.0, 80.523338), (10.0, 82865.0, 80.3960396), (10.0, 86722.0, 80.2687412), (10.0, 90414.0, 80.1732673), (10.0, 93306.0, 80.523338), (10.0, 97274.0, 80.2687412), (10.0, 104629.0, 79.5685997), (10.0, 112503.0, 78.9957567), (10.0, 118575.0, 78.6138614), (10.0, 124792.0, 78.2319661), (10.0, 131609.0, 78.1683168)), 'initial_SOC': 90.0, 'life_model': 0.0, 'maximum_SOC': 100.0, 'minimum_SOC': 20.0, 'resistance': 0.001, 'voltage_choice': 0.0}, 'ParamsPack': {'Cp': 900.0, 'T_room_init': 20.0, 'cap_vs_temp': ((-20.0, 72.33333333), (-10.0, 81.8), (0.0, 88.8), (10.0, 93.0), (23.0, 96.66666667), (45.0, 101.0), (60.0, 101.0)), 'h': 20.0, 'mass': 1522270.0, 'nominal_energy': 100000.0, 'nominal_voltage': 500.0, 'surface_area': 7500.0}, 'StatePack': {}, 'StateCell': {}}\n",
            "HybridSim   : INFO     Created HybridSystem.battery with system capacity 100.0 MWh and rating of 100.0 MW\n",
            "HybridSim   : INFO     PVPlant simulation executed with AEP 160336236.38669494\n"
          ]
        },
        {
          "name": "stdout",
          "output_type": "stream",
          "text": [
            "Simulating wind farm output in FLORIS...\n"
          ]
        },
        {
          "name": "stderr",
          "output_type": "stream",
          "text": [
            "HybridSim   : INFO     WindPlant simulation executed with AEP 3919162140.8383026\n",
            "HybridSim   : INFO     Simulating system with dispatch optimization...\n",
            "HybridSim   : INFO     \t 0 % complete\n",
            "HybridSim   : INFO     \t 20 % complete\n",
            "HybridSim   : INFO     \t 40 % complete\n",
            "HybridSim   : INFO     \t 60 % complete\n",
            "HybridSim   : INFO     \t 80 % complete\n",
            "HybridSim   : INFO     Percent of time firm power requirement is met: 11.87\n",
            "HybridSim   : INFO     Percent total firm power requirement is satisfied: 40.13\n",
            "HybridSim   : INFO     Grid simulation executed with AEP 4079482417.8073983\n",
            "HybridSim   : INFO     Hybrid Peformance Simulation Complete. AEPs are {\"pv\": 160336236.38669494, \"wind\": 3919162140.8383026, \"battery\": -15959.417939834013, \"hybrid\": 4079482417.8070574}.\n",
            "HybridSim   : INFO     PVPlant set total_installed_cost to $None\n",
            "HybridSim   : INFO     WindPlant set total_installed_cost to $None\n",
            "HybridSim   : INFO     Battery set total_installed_cost to $None\n",
            "HybridSim   : INFO     Grid set total_installed_cost to $1559108000.0\n",
            "HybridSim   : INFO     HybridSystem set hybrid total installed cost to to 1559108000.0\n",
            "HybridSim   : INFO     battery simulation executed\n",
            "HybridSim   : INFO     Hybrid Financials Complete. NPVs are {\"pv\": -122159520.7775361, \"wind\": -1882265455.0820527, \"battery\": -48220732.23112726, \"hybrid\": -2052646216.2233415}.\n"
          ]
        },
        {
          "name": "stdout",
          "output_type": "stream",
          "text": [
            "\n",
            "HOPP Results\n",
            "Hybrid Annual Energy: {\"pv\": 160336236.38669494, \"wind\": 3919162140.8383026, \"battery\": -15959.417939834013, \"hybrid\": 4079482417.8070574}\n",
            "Capacity factors: {\"pv\": 23.79419033135884, \"wind\": 34.52106006573002, \"battery\": 0, \"hybrid\": 31.61701702068134}\n",
            "Real LCOE from HOPP: {\"pv\": 6.240306471360993, \"wind\": 3.977516819993022, \"battery\": 168.95901467973678, \"hybrid\": 4.16211725313441}\n",
            "Took 0.033 sec to run the create clusters\n",
            "Took 0.034 sec to run even_split_power function\n",
            "Took 0.774 sec to run the RUN function\n",
            "\n",
            "Electrolyzer Physics:\n",
            "H2 Produced Annually (tonnes):  72541.60740834803\n",
            "Max H2 hourly (tonnes):  21.22811614778247\n",
            "Max H2 daily (tonnes):  502.0266989768361\n",
            "Energy to electrolyzer (kWh):  4079369842.1256514\n",
            "Energy per kg (kWh/kg):  53.27811059287587\n",
            "Max hourly based on est kg/kWh (kg):  22154.633010695805\n",
            "Max daily rough est (tonnes):  510.8243500913148\n",
            "Electrolyzer Life Average Capacity Factor:  0.3898475027787793\n",
            "\n",
            "Hydrogen Cost Results:\n",
            "Electrolyzer Total CAPEX $/kW:  1159.097536119984\n",
            "Electrolyzer O&M $/kW:  28.384469868872497\n",
            "Electrolyzer O&M $/kg:  0.45389103197764263\n",
            "\n",
            "\n",
            "Desal Results\n",
            "Average feed_water_flowrat_m3perhr   0.0\n",
            "Average desal_capex_usd   0.0\n",
            "Average desal_opex_usd_per_year   0.0\n",
            "Average power_for_desal_kw   0.0\n",
            "Average fresh_water_capacity_m3_per_hour   0.0\n",
            "Average equipment_mass_kg   0.0\n",
            "Average equipment_footprint_m2   0.0\n",
            "\n",
            "\n",
            "\n",
            "Compressor Results:\n",
            "Total H2 Flowrate (kg/hr):  0.0\n",
            "Compressor_power (kW):  0.0\n",
            "Compressor capex [USD]:  0.0\n",
            "Compressor opex [USD/yr]:  0.0\n",
            "\n",
            "H2 Storage Results:\n",
            "H2 storage capex: $198,237,433\n",
            "H2 storage annual opex: $6,565,099/yr\n",
            "H2 storage capacity (tonnes):  4633.68834736815\n",
            "H2 storage cost $/kg of H2:  42.78177948561336\n",
            "\n",
            "Energy/Power Results:\n",
            "Supply (MWh):  4079482417.807059\n",
            "Desal (kW):  0\n",
            "Transport compressor (kW):  0.0\n",
            "Storage compression, refrigeration, etc (kW):  0.0\n",
            "\n",
            "Platform Results\n",
            "topmass_kg 0.00\n",
            "toparea_m2 0.00\n",
            "platform_mass_tonnes 0.00\n",
            "capex 0.00\n",
            "opex 0.00\n",
            "\n",
            "CAPEX Breakdown\n",
            "wind 1423.01  M\n",
            "wave 0.00  M\n",
            "solar 99.10  M\n",
            "battery 37.00  M\n",
            "platform 0.00  M\n",
            "electrical_export_system 0.00  M\n",
            "desal 0.00  M\n",
            "electrolyzer 1344.55  M\n",
            "h2_pipe_array 0.00  M\n",
            "h2_transport_compressor 0.00  M\n",
            "h2_transport_pipeline 0.00  M\n",
            "h2_storage 208.27  M\n",
            "\n",
            "Total system CAPEX:  $3.11  B\n",
            "\n",
            "Annual OPEX Breakdown\n",
            "wind_and_electrical 41.28  M\n",
            "platform 0.00  M\n",
            "wave 0.00  M\n",
            "solar 2.04  M\n",
            "battery 0.92  M\n",
            "desal 0.00  M\n",
            "electrolyzer 32.93  M\n",
            "h2_pipe_array 0.00  M\n",
            "h2_transport_compressor 0.00  M\n",
            "h2_transport_pipeline 0.00  M\n",
            "h2_storage 6.90  M\n",
            "\n",
            "Total Annual OPEX:  $84.06  M\n",
            "{'wind_and_electrical': 41275125.281676605, 'platform': 0.0, 'wave': 0.0, 'solar': 2040673.47277339, 'battery': 924969.0811641203, 'desal': 0.0, 'electrolyzer': 32925985.047892097, 'h2_pipe_array': 0.0, 'h2_transport_compressor': 0.0, 'h2_transport_pipeline': 0.0, 'h2_storage': 6897457.604005165}\n",
            "hybrid plant capacity factor:  0.31129300797614484\n",
            "\n",
            "ProFAST LCOE:  33.95 $/MWh\n",
            "\n",
            "LCOH grid only: 5.66 $/kg\n",
            "ProFAST grid only NPV: -0.00\n",
            "ProFAST grid only IRR: 0.09480\n",
            "ProFAST grid only LCO: 5.66 $/kg\n",
            "ProFAST grid only Profit Index: 0.92\n",
            "ProFAST grid only payback period: 7\n",
            "\n",
            "ProFAST LCOH: 4.58 $/kg\n",
            "ProFAST NPV: 0.00\n",
            "ProFAST IRR: 0.09480\n",
            "ProFAST LCO: 4.58 $/kg\n",
            "ProFAST Profit Index: 2.32\n",
            "ProFAST payback period: 10\n",
            "Investor NPV:  1299.26 M USD\n",
            "Investor MIRR:  0.08702 \n",
            "Investor ROI:  0.71569 \n"
          ]
        }
      ],
      "source": [
        "# Suppress showing plots in output below if show_plots == False\n",
        "if not config.show_plots:\n",
        "    %matplotlib agg\n",
        "\n",
        "# for analysis\n",
        "prob, config = run_greenheart(config, run_only=True)\n",
        "\n",
        "# for optimization\n",
        "# prob, config = run_greenheart(config, run_only=False)"
      ]
    },
    {
      "cell_type": "markdown",
      "metadata": {},
      "source": [
        "### Key Output Values"
      ]
    },
    {
      "cell_type": "code",
      "execution_count": 9,
      "metadata": {},
      "outputs": [
        {
          "name": "stdout",
          "output_type": "stream",
          "text": [
            "LCOE:  [33.95001319] [$/MWh]\n",
            "LCOH:  [4.5816231] [$/kg]\n"
          ]
        }
      ],
      "source": [
        "lcoe = prob.get_val(\"lcoe\", units=\"USD/(MW*h)\")\n",
        "lcoh = prob.get_val(\"lcoh\", units=\"USD/kg\")\n",
        "\n",
        "print(\"LCOE: \", lcoe, \"[$/MWh]\")\n",
        "print(\"LCOH: \", lcoh, \"[$/kg]\")"
      ]
    }
  ],
  "metadata": {
    "kernelspec": {
      "display_name": "base",
      "language": "python",
      "name": "python3"
    },
    "language_info": {
      "codemirror_mode": {
        "name": "ipython",
        "version": 3
      },
      "file_extension": ".py",
      "mimetype": "text/x-python",
      "name": "python",
      "nbconvert_exporter": "python",
      "pygments_lexer": "ipython3",
      "version": "3.11.7"
    }
  },
  "nbformat": 4,
  "nbformat_minor": 2
}
