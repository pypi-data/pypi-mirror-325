{
 "cells": [
  {
   "cell_type": "code",
   "execution_count": 1,
   "metadata": {},
   "outputs": [],
   "source": [
    "from helix.core import app\n",
    "from helix.functions.embedding import get_protein_embeddings\n",
    "\n",
    "\n",
    "with app.run():\n",
    "    sequences = [\n",
    "        \"MALLWMRLLPLLALLALWGPD\",\n",
    "        \"MKTVRQERLKSIVRILERSKEPVSGAQ\"\n",
    "    ]\n",
    "    result = get_protein_embeddings.remote(\n",
    "        sequences,\n",
    "        model_name=\"facebook/esm2_t33_650M_UR50D\",\n",
    "        embedding_strategy=\"cls\"\n",
    "    )"
   ]
  },
  {
   "cell_type": "code",
   "execution_count": 2,
   "metadata": {},
   "outputs": [
    {
     "data": {
      "text/plain": [
       "{'embeddings': [array([ 0.03724326,  0.00153686,  0.06897847, ..., -0.2459203 ,\n",
       "          0.16454701, -0.06982078], shape=(1280,), dtype=float32),\n",
       "  array([ 0.05373499, -0.03523831,  0.04507213, ..., -0.21497187,\n",
       "          0.11686119, -0.07290152], shape=(1280,), dtype=float32)],\n",
       " 'model_name': 'facebook/esm2_t33_650M_UR50D',\n",
       " 'embedding_strategy': 'cls'}"
      ]
     },
     "execution_count": 2,
     "metadata": {},
     "output_type": "execute_result"
    }
   ],
   "source": [
    "result"
   ]
  },
  {
   "cell_type": "code",
   "execution_count": null,
   "metadata": {},
   "outputs": [],
   "source": []
  }
 ],
 "metadata": {
  "kernelspec": {
   "display_name": "helixbio",
   "language": "python",
   "name": "python3"
  },
  "language_info": {
   "codemirror_mode": {
    "name": "ipython",
    "version": 3
   },
   "file_extension": ".py",
   "mimetype": "text/x-python",
   "name": "python",
   "nbconvert_exporter": "python",
   "pygments_lexer": "ipython3",
   "version": "3.13.1"
  }
 },
 "nbformat": 4,
 "nbformat_minor": 2
}
