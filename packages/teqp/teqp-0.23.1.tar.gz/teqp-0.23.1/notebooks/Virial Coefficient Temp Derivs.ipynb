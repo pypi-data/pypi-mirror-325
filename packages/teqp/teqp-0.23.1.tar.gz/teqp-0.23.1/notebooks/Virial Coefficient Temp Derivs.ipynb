{
 "cells": [
  {
   "cell_type": "markdown",
   "metadata": {},
   "source": [
    "# Virial coefficient derivatives"
   ]
  },
  {
   "cell_type": "code",
   "execution_count": 1,
   "metadata": {},
   "outputs": [],
   "source": [
    "import teqp\n",
    "import numpy as np"
   ]
  },
  {
   "cell_type": "code",
   "execution_count": 2,
   "metadata": {},
   "outputs": [],
   "source": [
    "names = ['Argon']\n",
    "model = teqp.build_multifluid_model(names, teqp.get_datapath())\n",
    "z = np.array([1.0])"
   ]
  },
  {
   "cell_type": "code",
   "execution_count": 3,
   "metadata": {},
   "outputs": [
    {
     "name": "stdout",
     "output_type": "stream",
     "text": [
      "-0.00018915135846140756 -1.0873853389106427e-09 0.0001591643632478896 1.4397529306635457\n",
      "-0.00018915135846142212 -1.087345291835605e-09 0.0001591643632483507\n"
     ]
    }
   ],
   "source": [
    "T = 98.15\n",
    "B = model.get_dmBnvirdTm(2, 0, T, z)\n",
    "C = model.get_dmBnvirdTm(3, 0, T, z)\n",
    "TdBdT = model.get_dmBnvirdTm(2, 1, T, z)*T\n",
    "T2d2BdT2 = model.get_dmBnvirdTm(2, 2, T, z)*T**2\n",
    "neff = -3*(B+TdBdT)/(2*TdBdT+T2d2BdT2)\n",
    "neff\n",
    "print(B, C, B+TdBdT, neff)\n",
    "\n",
    "import CoolProp.CoolProp as CP\n",
    "AS = CP.AbstractState('HEOS','Argon')\n",
    "AS.update(CP.DmolarT_INPUTS, 1e-14, T)\n",
    "print(AS.Bvirial(), AS.Cvirial(), AS.Bvirial() + T*AS.keyed_output(CP.idBvirial_dT))"
   ]
  }
 ],
 "metadata": {
  "kernelspec": {
   "display_name": "Python 3",
   "language": "python",
   "name": "python3"
  },
  "language_info": {
   "codemirror_mode": {
    "name": "ipython",
    "version": 3
   },
   "file_extension": ".py",
   "mimetype": "text/x-python",
   "name": "python",
   "nbconvert_exporter": "python",
   "pygments_lexer": "ipython3",
   "version": "3.8.5"
  }
 },
 "nbformat": 4,
 "nbformat_minor": 4
}
