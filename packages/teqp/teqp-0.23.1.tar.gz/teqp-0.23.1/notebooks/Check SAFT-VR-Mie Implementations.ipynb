{
 "cells": [
  {
   "cell_type": "markdown",
   "id": "be9022a9",
   "metadata": {},
   "source": [
    "# Check SAFT-VR-Mie Implementations\n",
    "\n",
    "In particular, check that outputs match calculated values with the SAFT-VR-Mie implementation in Clapeyron.jl"
   ]
  },
  {
   "cell_type": "code",
   "execution_count": 1,
   "id": "4555e71d",
   "metadata": {},
   "outputs": [
    {
     "data": {
      "text/plain": [
       "SingleParam{Float64}(\"m\") with 1 component:\n",
       " \"Propane\" => 1.6845"
      ]
     },
     "metadata": {},
     "output_type": "display_data"
    },
    {
     "data": {
      "text/plain": [
       "1×1 PairParam{Float64}([\"Propane\"]) with values:\n",
       " 3.9056e-10"
      ]
     },
     "metadata": {},
     "output_type": "display_data"
    },
    {
     "data": {
      "text/plain": [
       "1×1 PairParam{Float64}([\"Propane\"]) with values:\n",
       " 239.89"
      ]
     },
     "metadata": {},
     "output_type": "display_data"
    },
    {
     "data": {
      "text/plain": [
       "1×1 PairParam{Float64}([\"Propane\"]) with values:\n",
       " 13.006"
      ]
     },
     "metadata": {},
     "output_type": "display_data"
    },
    {
     "data": {
      "text/plain": [
       "1×1 PairParam{Float64}([\"Propane\"]) with values:\n",
       " 6.0"
      ]
     },
     "metadata": {},
     "output_type": "display_data"
    },
    {
     "data": {
      "text/plain": [
       "8.31446261815324"
      ]
     },
     "metadata": {},
     "output_type": "display_data"
    },
    {
     "data": {
      "text/plain": [
       "7000.0"
      ]
     },
     "execution_count": 1,
     "metadata": {},
     "output_type": "execute_result"
    }
   ],
   "source": [
    "using Clapeyron\n",
    "model = SAFTVRMie([\"Propane\"])\n",
    "display(model.params.segment)\n",
    "display(model.params.sigma)\n",
    "display(model.params.epsilon)\n",
    "display(model.params.lambda_r)\n",
    "display(model.params.lambda_a)\n",
    "display(Clapeyron.R̄)\n",
    "# display(Clapeyron.Cλ(model, 0, 0, 0, 12, 6))\n",
    "T = 400.0\n",
    "rhomolar = 7000.0"
   ]
  },
  {
   "cell_type": "code",
   "execution_count": 2,
   "id": "26264de1",
   "metadata": {},
   "outputs": [
    {
     "name": "stderr",
     "output_type": "stream",
     "text": [
      "\u001b[32m\u001b[1m    Building\u001b[22m\u001b[39m Conda ─→ `~/.julia/scratchspaces/44cfe95a-1eb2-52ea-b672-e2afdf69b78f/6e47d11ea2776bc5627421d59cdcc1296c058071/build.log`\n",
      "\u001b[32m\u001b[1m    Building\u001b[22m\u001b[39m PyCall → `~/.julia/scratchspaces/44cfe95a-1eb2-52ea-b672-e2afdf69b78f/53b8b07b721b77144a0fbbbc2675222ebf40a02d/build.log`\n"
     ]
    }
   ],
   "source": [
    "# This is an optional setup cell for PyCall\n",
    "# import Pkg; Pkg.add(\"PyCall\")\n",
    "using PyCall\n",
    "ENV[\"PYTHON\"] = ENV[\"CONDA_PREFIX\"] * \"/\" * \"/bin/python\"\n",
    "import Pkg; Pkg.build(\"PyCall\")"
   ]
  },
  {
   "cell_type": "code",
   "execution_count": 3,
   "id": "30d224c6",
   "metadata": {},
   "outputs": [
    {
     "data": {
      "text/plain": [
       "\"0.15.0dev\""
      ]
     },
     "metadata": {},
     "output_type": "display_data"
    },
    {
     "name": "stdout",
     "output_type": "stream",
     "text": [
      "[2.002][3.6184][208.11]"
     ]
    },
    {
     "data": {
      "text/plain": [
       "(9.187913506618721e6, -1.0291558679657231, 1.435330456977336)"
      ]
     },
     "execution_count": 3,
     "metadata": {},
     "output_type": "execute_result"
    }
   ],
   "source": [
    "teqp = pyimport(\"teqp\")\n",
    "np = pyimport(\"numpy\")\n",
    "display(teqp.__version__)\n",
    "j = Dict(\"kind\" => \"PCSAFT\", \"model\" => Dict(\"names\" => [\"Propane\"]))\n",
    "model = teqp.make_model(j)\n",
    "print( model.get_m(), model.get_sigma_Angstrom(), model.get_epsilon_over_k_K())\n",
    "z = np.array([1.0])\n",
    "Ar01 = model.get_Ar01(T, rhomolar, z)\n",
    "R = 8.31446261815324\n",
    "rhomolar*R*T*(1+Ar01), model.get_Ar00(T, rhomolar, z), model.get_splus(T, rhomolar*z)"
   ]
  },
  {
   "cell_type": "code",
   "execution_count": 4,
   "id": "913ce8ff",
   "metadata": {},
   "outputs": [
    {
     "data": {
      "text/plain": [
       "(375.99449561839737, 4980.1962651166905)"
      ]
     },
     "metadata": {},
     "output_type": "display_data"
    },
    {
     "data": {
      "text/plain": [
       "Dict{Any, Any} with 13 entries:\n",
       "  \"alphar_mono\"  => -0.882328\n",
       "  \"xs\"           => [1.0]\n",
       "  \"a3kB3\"        => -3.64976e5\n",
       "  \"mbar\"         => 1.6845\n",
       "  \"zeta_x\"       => 0.198169\n",
       "  \"dmat\"         => [3.76333;;]\n",
       "  \"a2kB2\"        => -8329.57\n",
       "  \"alphar_chain\" => -0.111363\n",
       "  \"zeta_x_bar\"   => 0.221504\n",
       "  \"rhoN\"         => 4.2155e27\n",
       "  \"zeta\"         => [0.00371808, 0.0139924, 0.0526579, 0.198169]\n",
       "  \"a1kB\"         => -606.278\n",
       "  \"rhos\"         => 0.00710101"
      ]
     },
     "metadata": {},
     "output_type": "display_data"
    },
    {
     "data": {
      "text/plain": [
       "(9.004986612957103e6, -0.9936903139741133, 1.4864584681864197)"
      ]
     },
     "execution_count": 4,
     "metadata": {},
     "output_type": "execute_result"
    }
   ],
   "source": [
    "j = Dict(\"kind\" => \"SAFT-VR-Mie\", \"model\" => Dict(\"names\" => [\"Propane\"]))\n",
    "model = teqp.make_model(j)\n",
    "display()\n",
    "# print( model.get_m(), model.get_sigma_m(), model.get_epsilon_over_k_K())\n",
    "z = np.array([1.0])\n",
    "Ar01 = model.get_Ar01(T, rhomolar, z)\n",
    "R = 8.31446261815324\n",
    "display(model.solve_pure_critical(300, 1000))\n",
    "\n",
    "display(model.get_core_calcs(T, rhomolar, z))\n",
    "rhomolar*R*T*(1+Ar01), model.get_Ar00(T, rhomolar, z), model.get_splus(T, rhomolar*z)"
   ]
  },
  {
   "cell_type": "code",
   "execution_count": 5,
   "id": "6af7d7b8",
   "metadata": {},
   "outputs": [
    {
     "name": "stdout",
     "output_type": "stream",
     "text": [
      "\u001b[32m\u001b[1mStatus\u001b[22m\u001b[39m `~/.julia/environments/v1.8/Project.toml`\n",
      " \u001b[90m [7c7805af] \u001b[39mClapeyron v0.3.11 `https://github.com/ypaul21/Clapeyron.jl#master#master`\n"
     ]
    },
    {
     "data": {
      "text/plain": [
       "(375.9942376772184, 4.759562486477156e6, 0.00020079526183553885)"
      ]
     },
     "metadata": {},
     "output_type": "display_data"
    },
    {
     "data": {
      "text/plain": [
       "Dict{String, Any} with 5 entries:\n",
       "  \"zeta_x\"       => 0.19817\n",
       "  \"a_hs\"         => 1.76817\n",
       "  \"alphar_mono\"  => -0.882324\n",
       "  \"alphar_chain\" => -0.111364\n",
       "  \"zeta\"         => (3.71808e27, 1.39924e18, 5.2658e8, 0.19817)"
      ]
     },
     "metadata": {},
     "output_type": "display_data"
    },
    {
     "data": {
      "text/plain": [
       "1.4864815367800055"
      ]
     },
     "metadata": {},
     "output_type": "display_data"
    },
    {
     "data": {
      "text/plain": [
       "-0.00018865097238816497"
      ]
     },
     "metadata": {},
     "output_type": "display_data"
    },
    {
     "data": {
      "text/plain": [
       "1-element Vector{Float64}:\n",
       " 3.7633348428615264e-10"
      ]
     },
     "metadata": {},
     "output_type": "display_data"
    }
   ],
   "source": [
    "import Pkg; Pkg.status(\"Clapeyron\")\n",
    "model = SAFTVRMie([\"Propane\"])\n",
    "display(Clapeyron.crit_pure(model))\n",
    "_d,_ρ_S,ζi,_ζ_X,_ζst,σ3x,m̄ = Clapeyron.data(model, 1/rhomolar, T, [1.0])\n",
    "display(Dict(\"a_hs\"=> Clapeyron.a_hs(model, 1/rhomolar, T, [1.0]),\n",
    "\"alphar_mono\" => Clapeyron.a_mono(model, 1/rhomolar, T, [1.0]),\n",
    "\"alphar_chain\" => Clapeyron.a_chain(model, 1/rhomolar, T, [1.0]),\n",
    "\"zeta\" => ζi,\n",
    "\"zeta_x\" => _ζ_X))\n",
    "display(-Clapeyron.VT_entropy_res(model, 1/rhomolar, T, [1.0])/8.31446261815324)\n",
    "B2_ = Clapeyron.second_virial_coefficient(model, T)\n",
    "display(B2_)\n",
    "display(_d)"
   ]
  },
  {
   "cell_type": "code",
   "execution_count": 6,
   "id": "8314b98a",
   "metadata": {},
   "outputs": [
    {
     "data": {
      "text/plain": [
       "1.5106425117743096"
      ]
     },
     "execution_count": 6,
     "metadata": {},
     "output_type": "execute_result"
    }
   ],
   "source": [
    "CP = pyimport(\"CoolProp.CoolProp\")\n",
    "-CP.PropsSI(\"Smolar_residual\",\"T\",T,\"Dmolar\",rhomolar,\"Propane\")/8.31446"
   ]
  },
  {
   "cell_type": "code",
   "execution_count": 7,
   "id": "4b5f14be",
   "metadata": {},
   "outputs": [
    {
     "data": {
      "text/plain": [
       "\"T d(teqp) d(Clapeyron) err%(teqp) err%(Clapeyron)\""
      ]
     },
     "metadata": {},
     "output_type": "display_data"
    },
    {
     "data": {
      "text/plain": [
       "\"50 3.8773986983350106 3.877398699548621 4.473277304128942e-9% 2.682634114847815e-8%\""
      ]
     },
     "metadata": {},
     "output_type": "display_data"
    },
    {
     "data": {
      "text/plain": [
       "\"60 3.872493920627443 3.8724939216594922 1.520885639649805e-8% 1.1441891878405386e-8%\""
      ]
     },
     "metadata": {},
     "output_type": "display_data"
    },
    {
     "data": {
      "text/plain": [
       "\"70 3.867773310082607 3.8677733106918986 1.0726630694790629e-8% 5.026401517227441e-9%\""
      ]
     },
     "metadata": {},
     "output_type": "display_data"
    },
    {
     "data": {
      "text/plain": [
       "\"80 3.8632197900666356 3.863219789785552 9.557665769932555e-9% 2.2817747691306067e-9%\""
      ]
     },
     "metadata": {},
     "output_type": "display_data"
    },
    {
     "data": {
      "text/plain": [
       "\"90 3.858818883423109 3.8588188820819997 3.582989460682029e-8% 1.0754952484148816e-9%\""
      ]
     },
     "metadata": {},
     "output_type": "display_data"
    },
    {
     "data": {
      "text/plain": [
       "\"100 3.854558166725572 3.854558164584667 5.6091198352703486e-8% 5.490496945981249e-10%\""
      ]
     },
     "metadata": {},
     "output_type": "display_data"
    },
    {
     "data": {
      "text/plain": [
       "\"120 3.8464155659243477 3.8464155641344253 4.714497681135299e-8% 6.101563698734935e-10%\""
      ]
     },
     "metadata": {},
     "output_type": "display_data"
    },
    {
     "data": {
      "text/plain": [
       "\"140 3.83872065473881 3.8387206562189085 3.4736691301162637e-8% 3.820388450037626e-9%\""
      ]
     },
     "metadata": {},
     "output_type": "display_data"
    },
    {
     "data": {
      "text/plain": [
       "\"160 3.8314173416133475 3.8314173482830327 1.541227145906987e-7% 1.995608123195325e-8%\""
      ]
     },
     "metadata": {},
     "output_type": "display_data"
    },
    {
     "data": {
      "text/plain": [
       "\"180 3.8244604687642463 3.824460481616122 2.597356330014122e-7% 7.630851506235103e-8%\""
      ]
     },
     "metadata": {},
     "output_type": "display_data"
    },
    {
     "data": {
      "text/plain": [
       "\"195 3.819447629350859 3.819447647808685 3.034510087651654e-7% 1.798080351278486e-7%\""
      ]
     },
     "metadata": {},
     "output_type": "display_data"
    },
    {
     "data": {
      "text/plain": [
       "\"200 3.8178129829251253 3.817813003635656 3.087095246101512e-7% 2.3376154345555733e-7%\""
      ]
     },
     "metadata": {},
     "output_type": "display_data"
    },
    {
     "data": {
      "text/plain": [
       "\"205 3.8161957196838547 3.8161957429464017 3.0884388380059136e-7% 3.007303739366307e-7%\""
      ]
     },
     "metadata": {},
     "output_type": "display_data"
    },
    {
     "data": {
      "text/plain": [
       "\"250 3.802356712761156 3.8023567913645717 6.784840467233266e-8% 1.9993804611928567e-6%\""
      ]
     },
     "metadata": {},
     "output_type": "display_data"
    },
    {
     "data": {
      "text/plain": [
       "\"300 3.7882841252854327 3.78828446130943 5.881369613547349e-7% 9.458221383873422e-6%\""
      ]
     },
     "metadata": {},
     "output_type": "display_data"
    },
    {
     "data": {
      "text/plain": [
       "\"350 3.775338264304985 3.7753393906649517 1.313268715996685e-6% 3.114794584480052e-5%\""
      ]
     },
     "metadata": {},
     "output_type": "display_data"
    },
    {
     "data": {
      "text/plain": [
       "\"400 3.763331873791214 3.7633348428615263 1.7713257749463196e-6% 8.06660516161628e-5%\""
      ]
     },
     "metadata": {},
     "output_type": "display_data"
    },
    {
     "data": {
      "text/plain": [
       "\"500 3.7416028666920376 3.741615572137494 1.2117619574425476e-6% 0.00034078402719739387%\""
      ]
     },
     "metadata": {},
     "output_type": "display_data"
    },
    {
     "data": {
      "text/plain": [
       "\"600 3.722291690061605 3.722328134527149 1.2587890174664551e-6% 0.000977827970416456%\""
      ]
     },
     "metadata": {},
     "output_type": "display_data"
    },
    {
     "data": {
      "text/plain": [
       "\"700 3.7048733818556094 3.704955349639191 4.741390557949643e-6% 0.00220768994640963%\""
      ]
     },
     "metadata": {},
     "output_type": "display_data"
    },
    {
     "data": {
      "text/plain": [
       "\"800 3.6889837810844472 3.689140662858416 8.164394871279512e-6% 0.004244545035958502%\""
      ]
     },
     "metadata": {},
     "output_type": "display_data"
    },
    {
     "data": {
      "text/plain": [
       "\"900 3.674358463250937 3.6746264209653416 1.0686250140334863e-5% 0.007281952409110559%\""
      ]
     },
     "metadata": {},
     "output_type": "display_data"
    },
    {
     "data": {
      "text/plain": [
       "\"1000 3.66079856795589 3.6612193864309384 1.179074557988713e-5% 0.01148347231298974%\""
      ]
     },
     "metadata": {},
     "output_type": "display_data"
    }
   ],
   "source": [
    "modelClap = SAFTVRMie([\"Propane\"])\n",
    "j = Dict(\"kind\" => \"SAFT-VR-Mie\", \"model\" => Dict(\"names\" => [\"Propane\"]))\n",
    "modelteqp = teqp.make_model(j)\n",
    "quad = pyimport(\"scipy.integrate\")\n",
    "\n",
    "epskB = modelteqp.get_epsilon_over_k_K()[1] # [K]\n",
    "sigma_m = modelteqp.get_sigma_m()[1] # [m]\n",
    "lambda_r = modelteqp.get_lambda_r()[1]\n",
    "lambda_a = modelteqp.get_lambda_a()[1]\n",
    "C = lambda_r/(lambda_r-lambda_a)*(lambda_r/lambda_a)^(lambda_a/(lambda_r-lambda_a))\n",
    "\n",
    "display(\"T d(teqp) d(Clapeyron) err%(teqp) err%(Clapeyron)\")\n",
    "for T in [50, 60, 70, 80, 90, 100, 120, 140, 160, 180, 195, 200, 205, 250, 300, 350, 400, 500, 600, 700, 800, 900, 1000]\n",
    "    _d,_ρ_S,ζi,_ζ_X,_ζst,σ3x,m̄ = Clapeyron.data(modelClap, 1/rhomolar, T, [1.0])\n",
    "    dClap = _d[:][1]*1e10\n",
    "    dteqp = modelteqp.get_core_calcs(T, rhomolar, z)[\"dmat\"][:][1]\n",
    "    \n",
    "    # The classical method based on adaptive quadrature\n",
    "    function integrand(r_m)\n",
    "        u = C*epskB*((sigma_m/r_m)^(lambda_r) - (sigma_m/r_m)^(lambda_a))\n",
    "        return 1-exp(-u/T)\n",
    "    end\n",
    "    d_exact = quad.quad(integrand, 0, sigma_m, epsrel=1e-16, epsabs=1e-16)[1]*1e10\n",
    "\n",
    "    ddiffteqp = abs(dteqp/d_exact-1.0)*100\n",
    "    ddiffClap = abs(dClap/d_exact-1.0)*100\n",
    "    \n",
    "    display(\"$T $dteqp $dClap $(ddiffteqp)% $(ddiffClap)%\")\n",
    "end"
   ]
  }
 ],
 "metadata": {
  "kernelspec": {
   "display_name": "Julia 1.8.3",
   "language": "julia",
   "name": "julia-1.8"
  },
  "language_info": {
   "file_extension": ".jl",
   "mimetype": "application/julia",
   "name": "julia",
   "version": "1.8.3"
  }
 },
 "nbformat": 4,
 "nbformat_minor": 5
}
