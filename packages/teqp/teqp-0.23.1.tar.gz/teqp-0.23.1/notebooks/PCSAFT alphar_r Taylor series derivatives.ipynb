{
 "cells": [
  {
   "cell_type": "code",
   "execution_count": 1,
   "id": "1673ec88",
   "metadata": {},
   "outputs": [
    {
     "data": {
      "text/latex": [
       "$\\displaystyle \\zeta_{3} + \\frac{3 \\zeta_{1} \\zeta_{2}}{\\zeta_{0}}$"
      ],
      "text/plain": [
       "zeta_3 + 3*zeta_1*zeta_2/zeta_0"
      ]
     },
     "metadata": {},
     "output_type": "display_data"
    },
    {
     "name": "stdout",
     "output_type": "stream",
     "text": [
      "zeta_3 + 3*zeta_1*zeta_2/zeta_0\n"
     ]
    },
    {
     "data": {
      "text/latex": [
       "$\\displaystyle \\frac{\\zeta_{0} \\zeta_{3}^{2} + 6 \\zeta_{1} \\zeta_{2} \\zeta_{3} + 3 \\zeta_{2}^{3}}{2 \\zeta_{0}}$"
      ],
      "text/plain": [
       "(zeta_0*zeta_3**2 + 6*zeta_1*zeta_2*zeta_3 + 3*zeta_2**3)/(2*zeta_0)"
      ]
     },
     "metadata": {},
     "output_type": "display_data"
    },
    {
     "name": "stdout",
     "output_type": "stream",
     "text": [
      "(1.0/2.0)*(zeta_0*pow(zeta_3, 2) + 6*zeta_1*zeta_2*zeta_3 + 3*pow(zeta_2, 3))/zeta_0\n"
     ]
    },
    {
     "data": {
      "text/latex": [
       "$\\displaystyle \\frac{\\zeta_{3} \\left(\\zeta_{0} \\zeta_{3}^{2} + 9 \\zeta_{1} \\zeta_{2} \\zeta_{3} + 8 \\zeta_{2}^{3}\\right)}{3 \\zeta_{0}}$"
      ],
      "text/plain": [
       "zeta_3*(zeta_0*zeta_3**2 + 9*zeta_1*zeta_2*zeta_3 + 8*zeta_2**3)/(3*zeta_0)"
      ]
     },
     "metadata": {},
     "output_type": "display_data"
    },
    {
     "name": "stdout",
     "output_type": "stream",
     "text": [
      "(1.0/3.0)*zeta_3*(zeta_0*pow(zeta_3, 2) + 9*zeta_1*zeta_2*zeta_3 + 8*pow(zeta_2, 3))/zeta_0\n"
     ]
    },
    {
     "data": {
      "text/latex": [
       "$\\displaystyle \\frac{\\zeta_{3}^{2} \\left(\\zeta_{0} \\zeta_{3}^{2} + 12 \\zeta_{1} \\zeta_{2} \\zeta_{3} + 15 \\zeta_{2}^{3}\\right)}{4 \\zeta_{0}}$"
      ],
      "text/plain": [
       "zeta_3**2*(zeta_0*zeta_3**2 + 12*zeta_1*zeta_2*zeta_3 + 15*zeta_2**3)/(4*zeta_0)"
      ]
     },
     "metadata": {},
     "output_type": "display_data"
    },
    {
     "name": "stdout",
     "output_type": "stream",
     "text": [
      "(1.0/4.0)*pow(zeta_3, 2)*(zeta_0*pow(zeta_3, 2) + 12*zeta_1*zeta_2*zeta_3 + 15*pow(zeta_2, 3))/zeta_0\n"
     ]
    },
    {
     "data": {
      "text/latex": [
       "$\\displaystyle \\frac{\\zeta_{3}^{3} \\left(\\zeta_{0} \\zeta_{3}^{2} + 15 \\zeta_{1} \\zeta_{2} \\zeta_{3} + 24 \\zeta_{2}^{3}\\right)}{5 \\zeta_{0}}$"
      ],
      "text/plain": [
       "zeta_3**3*(zeta_0*zeta_3**2 + 15*zeta_1*zeta_2*zeta_3 + 24*zeta_2**3)/(5*zeta_0)"
      ]
     },
     "metadata": {},
     "output_type": "display_data"
    },
    {
     "name": "stdout",
     "output_type": "stream",
     "text": [
      "(1.0/5.0)*pow(zeta_3, 3)*(zeta_0*pow(zeta_3, 2) + 15*zeta_1*zeta_2*zeta_3 + 24*pow(zeta_2, 3))/zeta_0\n"
     ]
    }
   ],
   "source": [
    "from sympy import * \n",
    "zeta_0, zeta_1, zeta_2, zeta_3, rho = symbols('zeta_0, zeta_1, zeta_2, zeta_3, rho')\n",
    "D_0, D_1, D_2, D_3 = symbols('D_0, D_1, D_2, D_3')\n",
    "POW2 = lambda x: x**2\n",
    "POW3 = lambda x: x**3\n",
    "alpha = 1/zeta_0*(3*zeta_1*zeta_2/(1-zeta_3) + zeta_2**3/(zeta_3*POW2(1-zeta_3)) + (POW3(zeta_2)/POW2(zeta_3)-zeta_0)*log(1-zeta_3))\n",
    "alpha = alpha.subs(zeta_0, rho*D_0).subs(zeta_1, rho*D_1).subs(zeta_2, rho*D_2).subs(zeta_3, rho*D_3)\n",
    "for Nderiv in [1, 2, 3, 4, 5]:\n",
    "    value = simplify((simplify(diff(alpha, rho, Nderiv)).subs(rho,0)*rho**Nderiv/factorial(Nderiv)).subs(D_0, zeta_0/rho).subs(D_1, zeta_1/rho).subs(D_2, zeta_2/rho).subs(D_3, zeta_3/rho))\n",
    "    display(value)\n",
    "    print(ccode(value))"
   ]
  },
  {
   "cell_type": "code",
   "execution_count": null,
   "id": "27446eff",
   "metadata": {},
   "outputs": [],
   "source": []
  }
 ],
 "metadata": {
  "kernelspec": {
   "display_name": "Python 3 (ipykernel)",
   "language": "python",
   "name": "python3"
  },
  "language_info": {
   "codemirror_mode": {
    "name": "ipython",
    "version": 3
   },
   "file_extension": ".py",
   "mimetype": "text/x-python",
   "name": "python",
   "nbconvert_exporter": "python",
   "pygments_lexer": "ipython3",
   "version": "3.10.6"
  }
 },
 "nbformat": 4,
 "nbformat_minor": 5
}
