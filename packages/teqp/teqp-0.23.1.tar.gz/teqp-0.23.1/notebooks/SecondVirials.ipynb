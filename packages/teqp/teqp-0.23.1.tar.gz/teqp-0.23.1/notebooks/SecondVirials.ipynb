{
 "cells": [
  {
   "cell_type": "markdown",
   "metadata": {},
   "source": [
    "# Second virial coefficients for water-based mixtures\n",
    "\n",
    "No departure term..."
   ]
  },
  {
   "cell_type": "code",
   "execution_count": null,
   "metadata": {},
   "outputs": [],
   "source": [
    "from ipywidgets import interact, interactive, fixed, interact_manual\n",
    "import ipywidgets as widgets\n",
    "%matplotlib inline\n",
    "import timeit\n",
    "import pandas\n",
    "import matplotlib.pyplot as plt, numpy as np\n",
    "import matplotlib as mpl\n",
    "mpl.rcParams['figure.dpi']= 100\n",
    "import teqp"
   ]
  },
  {
   "cell_type": "code",
   "execution_count": null,
   "metadata": {},
   "outputs": [],
   "source": [
    "names = ['Water','Methane']\n",
    "model = teqp.build_multifluid_model(names, teqp.get_datapath())\n",
    "        \n",
    "def get_mutant(params):\n",
    "    \"\"\" Build a teqp-based mutant from the model parameters \"\"\"\n",
    "    if 'type' not in params:\n",
    "        raise KeyError('type must be provided')\n",
    "\n",
    "    if params['type'] == 'invariant':\n",
    "        s = {\n",
    "            \"0\":{\n",
    "                \"1\": {\n",
    "                    \"BIP\":{\n",
    "                        \"lambdaT\": params['lambdaT'],\n",
    "                        \"phiT\": params['phiT'],\n",
    "                        \"lambdaV\": params['lambdaV'],\n",
    "                        \"phiV\": params['phiV'],\n",
    "                        \"Fij\": 0.0\n",
    "                    },\n",
    "                    \"departure\":{\n",
    "                        \"type\" : \"Exponential\", \"n\" : [], \"t\" : [], \"d\" : [], \"l\" : []\n",
    "                    }\n",
    "                }\n",
    "            }\n",
    "        }\n",
    "        return teqp.build_multifluid_mutant_invariant(model, s)\n",
    "    elif params['type'] == 'GERG':\n",
    "        s = {\n",
    "            \"0\":{\n",
    "                \"1\": {\n",
    "                    \"BIP\":{\n",
    "                        \"betaT\": params['betaT'],\n",
    "                        \"gammaT\": params['gammaT'],\n",
    "                        \"betaV\": params['betaV'],\n",
    "                        \"gammaV\": params['gammaV'],\n",
    "                        \"Fij\": 0.0\n",
    "                    },\n",
    "                    \"departure\":{\n",
    "                        \"type\" : \"Exponential\", \"n\" : [], \"t\" : [], \"d\" : [], \"l\" : []\n",
    "                    }\n",
    "                }\n",
    "            }\n",
    "        }\n",
    "        return teqp.build_multifluid_mutant(model, s)\n",
    "    else:\n",
    "        raise KeyError(\"Bad type for get_mutant\")\n",
    "\n",
    "mutant = get_mutant({'betaT':1.0,'betaV':1.0,'gammaV':1.0,'gammaT':1.2,\"type\":'GERG'})\n",
    "z = np.array([0.3, 0.7])\n",
    "mutant.get_B12vir(300, z)"
   ]
  }
 ],
 "metadata": {
  "kernelspec": {
   "display_name": "Python 3 (ipykernel)",
   "language": "python",
   "name": "python3"
  },
  "language_info": {
   "codemirror_mode": {
    "name": "ipython",
    "version": 3
   },
   "file_extension": ".py",
   "mimetype": "text/x-python",
   "name": "python",
   "nbconvert_exporter": "python",
   "pygments_lexer": "ipython3",
   "version": "3.10.6"
  }
 },
 "nbformat": 4,
 "nbformat_minor": 4
}
