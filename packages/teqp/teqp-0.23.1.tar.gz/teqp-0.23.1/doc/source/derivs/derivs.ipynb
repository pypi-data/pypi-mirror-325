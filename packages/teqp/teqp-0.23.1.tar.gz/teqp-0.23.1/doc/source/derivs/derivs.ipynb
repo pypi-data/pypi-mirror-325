{
 "cells": [
  {
   "cell_type": "markdown",
   "id": "1afc4517",
   "metadata": {},
   "source": [
    "# Thermodynamic Derivatives\n",
    "\n",
    "## Helmholtz energy derivatives\n",
    "Thermodynamic derivatives are at the very heart of teqp.  All models are defined in the form $\\alpha^r(T, \\rho, z)$, where $\\rho$ is the molar density, and z are mole fractions.  There are exceptions for models for which the independent variables are in simulation units (Lennard-Jones and its ilk).\n",
    "\n",
    "Thereofore, to obtain the residual pressure, it is obtained as a derivative:\n",
    "\n",
    "$$ p^r = \\rho R T \\left( \\rho \\left(\\frac{\\partial \\alpha^r}{\\partial \\rho}\\right)_{T}\\right)$$\n",
    "\n",
    "and other residual thermodynamic properties are defined likewise.\n",
    "\n",
    "We can define the concise derivative\n",
    "\n",
    "$$ \\Lambda^r_{xy} = (1/T)^x(\\rho)^y\\left(\\frac{\\partial^{x+y}(\\alpha^r)}{\\partial (1/T)^x\\partial \\rho^y}\\right)$$\n",
    "\n",
    "so we can re-write the derivative above as \n",
    "\n",
    "$$ p^r = \\rho R T \\Lambda^r_{01}$$\n",
    "\n",
    "Similar definitions apply for all the other thermodynamic properties, with the tot superscript indicating it is the sum of the residual and ideal-gas (not included in teqp) contributions:\n",
    "\n",
    "$$\n",
    "\\frac{p}{\\rho R T}  = 1 + \\Lambda^r_{01}\n",
    "$$\n",
    "Internal energy ($u= a+Ts$):\n",
    "$$\n",
    "\t\\frac{u}{RT} = \\Lambda^{\\rm tot}_{10}\n",
    "$$\n",
    "Enthalpy ($h= u+p/\\rho$):\n",
    "$$\n",
    "\\frac{h}{RT} = 1+\\Lambda^r_{01} + \\Lambda^{\\rm tot}_{10}\n",
    "$$\n",
    "Entropy ($s\\equiv -(\\partial a/\\partial T)_v$):\n",
    "$$\n",
    "\\frac{s}{R} = \\Lambda^{\\rm tot}_{10}-\\Lambda^{\\rm tot}_{00}\n",
    "$$\n",
    "Gibbs energy ($g= h-Ts$):\n",
    "$$\n",
    "\t\\frac{g}{RT} = 1+\\Lambda^r_{01}+\\Lambda^{\\rm tot}_{00}\n",
    "$$\n",
    "Derivatives of pressure:\n",
    "$$\n",
    "\t\\left(\\frac{\\partial p}{\\partial \\rho}\\right)_{T} = RT\\left(1+2\\Lambda^r_{01}+\\Lambda^r_{02}\\right)\n",
    "$$\n",
    "$$\n",
    "\t\\left(\\frac{\\partial p}{\\partial T}\\right)_{\\rho} = R\\rho\\left(1+\\Lambda^r_{01}-\\Lambda^r_{11}\\right)\n",
    "$$\n",
    "Isochoric specific heat ($c_v\\equiv (\\partial u/\\partial T)_v$):\n",
    "$$\n",
    "\\frac{c_v}{R} = -\\Lambda^{\\rm tot}_{20}\n",
    "$$\n",
    "Isobaric specific heat ($c_p\\equiv (\\partial h/\\partial T)_p$; see Eq. 3.56 from Span for the derivation):\n",
    "$$\n",
    "\\frac{c_p}{R} = -\\Lambda^{\\rm tot}_{20}+\\frac{(1+\\Lambda^r_{01}-\\Lambda^r_{11})^2}{1+2\\Lambda^r_{01}+\\Lambda^r_{02}}\n",
    "$$"
   ]
  },
  {
   "cell_type": "raw",
   "id": "4e621170",
   "metadata": {
    "raw_mimetype": "text/restructuredtext"
   },
   "source": [
    "In teqp, these derivatives are obtained from methods like \n",
    "\n",
    "* :py:meth:`~teqp.teqp.AbstractModel.get_Arxy`\n",
    "* :py:meth:`~teqp.teqp.AbstractModel.get_Ar06n`"
   ]
  },
  {
   "cell_type": "markdown",
   "id": "7622b9b7",
   "metadata": {
    "raw_mimetype": "text/restructuredtext"
   },
   "source": [
    "where the ``A`` in this context indicates the variable $\\Lambda$ above. This naming is perhaps not ideal, since $A$ is sometimes the total Helmholtz energy, but it was a close visual mnemonic to the character $\\Lambda$."
   ]
  },
  {
   "cell_type": "code",
   "execution_count": null,
   "id": "2ced52fd",
   "metadata": {
    "execution": {
     "iopub.execute_input": "2022-07-06T18:39:50.124207Z",
     "iopub.status.busy": "2022-07-06T18:39:50.124207Z",
     "iopub.status.idle": "2022-07-06T18:39:50.261696Z",
     "shell.execute_reply": "2022-07-06T18:39:50.261181Z"
    }
   },
   "outputs": [],
   "source": [
    "import teqp\n",
    "teqp.__version__"
   ]
  },
  {
   "cell_type": "code",
   "execution_count": null,
   "id": "ca35cc29",
   "metadata": {
    "execution": {
     "iopub.execute_input": "2022-07-06T18:39:50.124207Z",
     "iopub.status.busy": "2022-07-06T18:39:50.124207Z",
     "iopub.status.idle": "2022-07-06T18:39:50.261696Z",
     "shell.execute_reply": "2022-07-06T18:39:50.261181Z"
    }
   },
   "outputs": [],
   "source": [
    "import numpy as np"
   ]
  },
  {
   "cell_type": "code",
   "execution_count": null,
   "id": "8d254c40",
   "metadata": {
    "execution": {
     "iopub.execute_input": "2022-07-06T18:39:50.264736Z",
     "iopub.status.busy": "2022-07-06T18:39:50.264736Z",
     "iopub.status.idle": "2022-07-06T18:39:50.277541Z",
     "shell.execute_reply": "2022-07-06T18:39:50.276780Z"
    }
   },
   "outputs": [],
   "source": [
    "Tc_K = [300]\n",
    "pc_Pa = [4e6]\n",
    "acentric = [0.01]\n",
    "model = teqp.canonical_PR(Tc_K, pc_Pa, acentric)"
   ]
  },
  {
   "cell_type": "code",
   "execution_count": null,
   "id": "49ee3453",
   "metadata": {
    "execution": {
     "iopub.execute_input": "2022-07-06T18:39:50.280537Z",
     "iopub.status.busy": "2022-07-06T18:39:50.280537Z",
     "iopub.status.idle": "2022-07-06T18:39:50.292555Z",
     "shell.execute_reply": "2022-07-06T18:39:50.292555Z"
    }
   },
   "outputs": [],
   "source": [
    "z = np.array([1.0])\n",
    "model.get_Ar01(300,300,z)"
   ]
  },
  {
   "cell_type": "markdown",
   "id": "498a2350",
   "metadata": {},
   "source": [
    "And there are additional methods to obtain all the derivatives up to a given order:\n"
   ]
  },
  {
   "cell_type": "code",
   "execution_count": null,
   "id": "3ae755e1",
   "metadata": {},
   "outputs": [],
   "source": [
    "model.get_Ar06n(300,300,z) # derivatives 00, 01, 02, ... 06"
   ]
  },
  {
   "cell_type": "markdown",
   "id": "cd644a3e",
   "metadata": {},
   "source": [
    "But more derivatives are slower than fewer:"
   ]
  },
  {
   "cell_type": "code",
   "execution_count": null,
   "id": "4e0609ae",
   "metadata": {},
   "outputs": [],
   "source": [
    "%timeit model.get_Ar01(300,300,z)\n",
    "%timeit model.get_Ar04n(300,300,z)"
   ]
  },
  {
   "cell_type": "markdown",
   "id": "d05e9070",
   "metadata": {},
   "source": [
    "Note: calling overhead is usually on the order of 1 microsecond"
   ]
  },
  {
   "cell_type": "markdown",
   "id": "502e9830",
   "metadata": {},
   "source": [
    "## Virial coefficients\n",
    "\n",
    "Virial coefficients represent the thermodynamics of the interaction of two-, three-, ... bodies interacting with each other.  They can be obtained rigorously if the potential energy surface of interaction is fully known.  In general, such a surface can only be constructed for small rigid molecules.  Many simple thermodynamic models do a poor job of predicting the thermodynamics captured by the virial coefficients.  \n",
    "\n",
    "The i-th virial coefficient is defined by \n",
    "$$\n",
    "\tB_i = \\frac{(\\alpha^r)^{(i-1)}}{(i-2)!}\n",
    "$$\n",
    "with the concise derivative term\n",
    "$$\n",
    "\t(\\alpha^r)^{(i)} = \\lim_{\\rho \\to 0} \\left(\\frac{\\partial^{i}\\alpha^r}{\\partial \\rho^{i}}\\right)_{T,\\vec{x}}\n",
    "$$\n",
    "\n",
    "teqp supports the virial coefficient directly, there is the ``get_B2vir`` method for the second virial coefficient:"
   ]
  },
  {
   "cell_type": "code",
   "execution_count": null,
   "id": "720e120c",
   "metadata": {},
   "outputs": [],
   "source": [
    "model.get_B2vir(300, z)"
   ]
  },
  {
   "cell_type": "markdown",
   "id": "2fba4369",
   "metadata": {},
   "source": [
    "And the ``get_Bnvir`` method that allows for the calculation of higher virial coefficients:"
   ]
  },
  {
   "cell_type": "code",
   "execution_count": null,
   "id": "92d01992",
   "metadata": {},
   "outputs": [],
   "source": [
    "model.get_Bnvir(7, 300, z)"
   ]
  },
  {
   "cell_type": "markdown",
   "id": "d50998b1",
   "metadata": {},
   "source": [
    "The ``get_Bnvir`` method was implemented because when doing automatic differentiation, all the intermediate derivatives are also retained.\n",
    "\n",
    "There is also a method to calculate temperature derivatives of a given virial coefficient"
   ]
  },
  {
   "cell_type": "code",
   "execution_count": null,
   "id": "fa4ff386",
   "metadata": {},
   "outputs": [],
   "source": [
    "model.get_dmBnvirdTm(2, 3, 300, z) # third temperature derivative of the second virial coefficient"
   ]
  },
  {
   "cell_type": "markdown",
   "id": "c9a9823b",
   "metadata": {},
   "source": [
    "## Isochoric Thermodynamics Derivatives\n",
    "\n",
    "In the isochoric thermodynamics formalism, the EOS is expressed in the Helmholtz energy  density $\\Psi$ as a function of temperature and molar densities $\\vec\\rho$. This formalism is handy because it allows for a concise mathematical structure, well suited to implementation in teqp. For instance the pressure is obtained from (see https://doi.org/10.1002/aic.16074):\n",
    "$$\n",
    "p=-\\Psi + \\sum_{i=1}^N\\rho_i\\mu_i\n",
    "$$\n",
    "with the chemical potential $\\mu_i$ obtained from\n",
    "$$\n",
    "\\mu_i = \\left(\\frac{\\partial \\Psi}{\\partial \\rho_i}\\right)_{T,\\rho_{j\\neq i}}\n",
    "$$\n",
    "The molar densities $\\rho_i$ are related to the total density and the mole fractions:\n",
    "$$\n",
    "\\rho_i = x_i\\rho\n",
    "$$\n",
    "\n",
    "In teqp, the isochoric derivative functions like ``get_fugacity_coefficients``, ``get_partial_molar_volumes`` take as arguments the temperature ``T`` and the vector of molar concentrations ``rhovec``=$\\vec\\rho$, which are obtained by multiplying the mole fractions by the total density.\n",
    "\n",
    "Example:"
   ]
  },
  {
   "cell_type": "code",
   "execution_count": null,
   "id": "d56640d3",
   "metadata": {},
   "outputs": [],
   "source": [
    "model = teqp.build_multifluid_model([\"CO2\",\"Argon\"], teqp.get_datapath())\n",
    "T, rhovec = 300, np.array([0.3,0.4])*300 # K, mol/m^3\n",
    "display(model.get_fugacity_coefficients(T, rhovec))\n",
    "display(model.get_partial_molar_volumes(T, rhovec))"
   ]
  }
 ],
 "metadata": {
  "celltoolbar": "Raw Cell Format",
  "kernelspec": {
   "display_name": "Python 3 (ipykernel)",
   "language": "python",
   "name": "python3"
  },
  "language_info": {
   "codemirror_mode": {
    "name": "ipython",
    "version": 3
   },
   "file_extension": ".py",
   "mimetype": "text/x-python",
   "name": "python",
   "nbconvert_exporter": "python",
   "pygments_lexer": "ipython3",
   "version": "3.10.6"
  }
 },
 "nbformat": 4,
 "nbformat_minor": 5
}
