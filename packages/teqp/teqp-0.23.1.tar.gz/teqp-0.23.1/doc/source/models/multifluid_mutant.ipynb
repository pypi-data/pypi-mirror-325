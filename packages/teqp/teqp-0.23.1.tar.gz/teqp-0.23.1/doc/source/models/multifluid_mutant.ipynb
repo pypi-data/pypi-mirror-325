{
 "cells": [
  {
   "cell_type": "markdown",
   "id": "d4e67406",
   "metadata": {},
   "source": [
    "# Multfluid mutant\n",
    "\n",
    "These adapted multifluid models are used for fitting departure functions. The pure fluids remain fixed while you can adjust the mixture model, both the interaction parameters as well as the departure function terms"
   ]
  },
  {
   "cell_type": "code",
   "execution_count": null,
   "id": "3579cfa2",
   "metadata": {},
   "outputs": [],
   "source": [
    "import teqp, numpy as np\n",
    "teqp.__version__"
   ]
  },
  {
   "cell_type": "code",
   "execution_count": null,
   "id": "ee024418",
   "metadata": {},
   "outputs": [],
   "source": [
    "basemodel = teqp.build_multifluid_model(['Nitrogen','Ethane'], teqp.get_datapath())\n",
    "s = {\n",
    "    \"0\": {\n",
    "        \"1\": {\n",
    "            \"BIP\": {\n",
    "                \"betaT\": 1.1,\n",
    "                \"gammaT\": 0.9,\n",
    "                \"betaV\": 1.05,\n",
    "                \"gammaV\": 1.3,\n",
    "                \"Fij\": 1.0\n",
    "            },\n",
    "            \"departure\":{\n",
    "                \"type\": \"none\"\n",
    "            }\n",
    "        }\n",
    "    }\n",
    "}\n",
    "mutant = teqp.build_multifluid_mutant(basemodel, s)"
   ]
  },
  {
   "cell_type": "code",
   "execution_count": null,
   "id": "1eeef8db",
   "metadata": {},
   "outputs": [],
   "source": [
    "%timeit teqp.build_multifluid_mutant(basemodel, s)"
   ]
  },
  {
   "cell_type": "code",
   "execution_count": null,
   "id": "53af2daf",
   "metadata": {},
   "outputs": [],
   "source": [
    "mutant.get_Ar01(300, 3.0, np.array([0.5, 0.5]))"
   ]
  }
 ],
 "metadata": {
  "kernelspec": {
   "display_name": "Python 3 (ipykernel)",
   "language": "python",
   "name": "python3"
  },
  "language_info": {
   "codemirror_mode": {
    "name": "ipython",
    "version": 3
   },
   "file_extension": ".py",
   "mimetype": "text/x-python",
   "name": "python",
   "nbconvert_exporter": "python",
   "pygments_lexer": "ipython3",
   "version": "3.10.6"
  }
 },
 "nbformat": 4,
 "nbformat_minor": 5
}
