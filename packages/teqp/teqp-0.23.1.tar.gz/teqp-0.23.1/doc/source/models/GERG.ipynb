{
 "cells": [
  {
   "cell_type": "markdown",
   "id": "a6e6ebc7",
   "metadata": {},
   "source": [
    "# GERG \n",
    "\n",
    "In the GERG-2004 and GERG-2008 models, the pure fluids are modeled with high-accuracy multiparameter EOS. The model is covered exhaustively in the GERG-2004 monograph: https://www.gerg.eu/wp-content/uploads/2019/10/TM15.pdf  and in the GERG-2008 paper: https://doi.org/10.1021/je300655b\n",
    "\n",
    "The following components are supported (case-sensitive) in GERG-2004:\n",
    "\n",
    "* methane\n",
    "* nitrogen\n",
    "* carbondioxide\n",
    "* ethane\n",
    "* propane\n",
    "* n-butane\n",
    "* isobutane\n",
    "* n-pentane\n",
    "* isopentane\n",
    "* n-hexane\n",
    "* n-heptane\n",
    "* n-octane\n",
    "* hydrogen\n",
    "* oxygen\n",
    "* carbonmonoxide\n",
    "* water\n",
    "* helium\n",
    "* argon\n",
    "\n",
    "and GERG-2008 adds the components:\n",
    "\n",
    "* hydrogensulfide\n",
    "* n-nonane\n",
    "* n-decane\n",
    "\n",
    "(as well as modifying the pure component EOS for carbon monoxide and isopentane). \n",
    "\n",
    "The interaction parameters and departure functions are not editable (by design) and the EOS parameters are hard-coded. No ancillary equations are available along with the GERG-2004 model, but you can use the on-the-fly ancillary generator of teqp.\n",
    "\n",
    "The residual portions of these models were added in version 0.18.0, and it is planned to add the ideal-gas portions as well at a later date. The residual portion is enough for many applications like phase equilibria and critical locus tracing.\n",
    "\n",
    "The kind is 'GERG2004resid' for the GERG-2004 residual model and 'GERG2008resid' for the GERG-2008 residual model"
   ]
  },
  {
   "cell_type": "code",
   "execution_count": null,
   "id": "0789f562",
   "metadata": {},
   "outputs": [],
   "source": [
    "import teqp\n",
    "import numpy as np\n",
    "import pandas\n",
    "import matplotlib.pyplot as plt\n",
    "\n",
    "teqp.__version__"
   ]
  },
  {
   "cell_type": "code",
   "execution_count": null,
   "id": "dcaa96c9",
   "metadata": {},
   "outputs": [],
   "source": [
    "model = teqp.make_model({'kind':\"GERG2004resid\", 'model':{\"names\": ['methane','ethane']}})"
   ]
  },
  {
   "cell_type": "code",
   "execution_count": null,
   "id": "90cd0540",
   "metadata": {
    "tags": [
     "raises-exception"
    ]
   },
   "outputs": [],
   "source": [
    "# Note that names are case-sensitive; this doesn't work\n",
    "model = teqp.make_model({'kind':\"GERG2004resid\", 'model':{\"names\": ['MeThAnE','ethane']}})"
   ]
  },
  {
   "cell_type": "code",
   "execution_count": null,
   "id": "c99900a9",
   "metadata": {},
   "outputs": [],
   "source": [
    "# Here we trace the critical locus for methane+ethane\n",
    "rhovec0 = np.array([0.0, 0.0])\n",
    "ifluid = 0\n",
    "T0 = model.get_Tcvec()[0]\n",
    "rhovec0[ifluid] = 1/model.get_vcvec()[0]\n",
    "trace = model.trace_critical_arclength_binary(T0=T0, rhovec0=rhovec0)\n",
    "df = pandas.DataFrame(trace)\n",
    "plt.plot(df['T / K'], df['p / Pa'])\n",
    "plt.gca().set(xlabel='$T$ / K', ylabel='$p$ / Pa');"
   ]
  },
  {
   "cell_type": "code",
   "execution_count": null,
   "id": "78b8faf7",
   "metadata": {},
   "outputs": [],
   "source": [
    "model = teqp.make_model({'kind':\"GERG2004resid\", 'model':{\"names\": ['methane']}})"
   ]
  },
  {
   "cell_type": "code",
   "execution_count": null,
   "id": "c8c11235",
   "metadata": {},
   "outputs": [],
   "source": [
    "# Build an on-the-fly ancillary equation \n",
    "# (not as accurate as the specialized ones, but works acceptably in many cases)\n",
    "anc = teqp.build_ancillaries(model, Tc=model.get_Tcvec()[0], rhoc = 1/model.get_vcvec()[0], Tmin=60)\n",
    "\n",
    "# And then use the dynamic ancillary to calculate VLE at 100 K\n",
    "T = 100 # K\n",
    "rhoL, rhoV = model.pure_VLE_T(T, anc.rhoL(T), anc.rhoV(T), 10)\n",
    "rhoL, rhoV, 'mol/m^3 for liquid and vapor'"
   ]
  }
 ],
 "metadata": {
  "kernelspec": {
   "display_name": "Python 3 (ipykernel)",
   "language": "python",
   "name": "python3"
  },
  "language_info": {
   "codemirror_mode": {
    "name": "ipython",
    "version": 3
   },
   "file_extension": ".py",
   "mimetype": "text/x-python",
   "name": "python",
   "nbconvert_exporter": "python",
   "pygments_lexer": "ipython3",
   "version": "3.10.6"
  }
 },
 "nbformat": 4,
 "nbformat_minor": 5
}
