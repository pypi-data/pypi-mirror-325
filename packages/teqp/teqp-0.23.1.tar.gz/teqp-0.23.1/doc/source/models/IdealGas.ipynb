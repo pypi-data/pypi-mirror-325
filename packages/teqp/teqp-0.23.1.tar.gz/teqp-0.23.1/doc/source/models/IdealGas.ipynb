{
 "cells": [
  {
   "cell_type": "markdown",
   "id": "171c3d0c",
   "metadata": {},
   "source": [
    "# Ideal-gas Models\n",
    "\n",
    "The collection of ideal-gas contributions are described below. They are summed to yield the ideal-gas contribution from \n",
    "\n",
    "$$\n",
    "\\alpha^{\\rm ig} =\\sum_i x_i\\left( \\alpha^{\\rm ig}_i(T,\\rho) + \\ln(x_i) \\right)\n",
    "$$\n",
    "Null mole fractions $x_i=0$ do not contribute to the summation because \n",
    "$$\n",
    "\\lim_{x_i \\to 0} x_i\\ln(x_i)= 0\n",
    "$$\n",
    "\n",
    "### IdealHelmholtzConstant\n",
    "\n",
    "JSON arguments: ``\"a\"``\n",
    "\n",
    "$$\n",
    "\\alpha^{\\rm ig}= a \n",
    "$$\n",
    "\n",
    "### IdealHelmholtzLogT\n",
    "\n",
    "JSON arguments: ``\"a\"``\n",
    "\n",
    "$$ \\alpha^{\\rm ig}= a\\ln(T) $$\n",
    "\n",
    "which should be compared with the original form in GERG (and REFPROP and CoolProp)\n",
    "\n",
    "$$ \\alpha^{\\rm ig}= a^*\\ln(\\tau) $$\n",
    "\n",
    "with $\\tau=T_r/T$. \n",
    "\n",
    "### IdealHelmholtzLead\n",
    "\n",
    "JSON arguments: ``\"a_1\"``, ``\"a_2\"``\n",
    "\n",
    "$$\n",
    "\\alpha^{\\rm ig}= \\ln(\\rho) + a_1 + a_2/T \n",
    "$$\n",
    "\n",
    "which should be compared with the original form in GERG (and REFPROP and CoolProp)\n",
    "\n",
    "$$ \\alpha^{\\rm ig}= \\ln(\\delta) + a_1^* + a_2^*\\tau $$\n",
    "\n",
    "Note that $a_1$ contains an additive factor of $-\\ln(\\rho_r)$ and $a_2$ contains a multiplicative factor of $T_r$\n",
    "relative to the former because $\\delta=\\rho/\\rho_r$ and $\\tau=T_r/T$.\n",
    "\n",
    "### IdealHelmholtzPowerT\n",
    "\n",
    "JSON arguments: ``\"n\"``, ``\"t\"``\n",
    "\n",
    "$$ \\alpha^{\\rm ig}= \\sum_k n_kT^{t_k} $$\n",
    "\n",
    "### IdealHelmholtzPlanckEinstein\n",
    "\n",
    "JSON arguments: ``\"n\"``, ``\"theta\"``\n",
    "\n",
    "$$ \\alpha^{\\rm ig}= \\sum_k n_k\\ln(1-\\exp(-\\theta_k/T)) $$\n",
    "\n",
    "### IdealHelmholtzPlanckEinsteinGeneralized\n",
    "\n",
    "JSON arguments: ``\"n\"``, ``\"c\"``, ``\"d\"``, ``\"theta\"``\n",
    "\n",
    "$$ \\alpha^{\\rm ig}= \\sum_k n_k\\ln(c_k+d_k\\exp(\\theta_k/T)) $$\n",
    "\n",
    "### IdealHelmholtzGERG2004Cosh\n",
    "\n",
    "JSON arguments: ``\"n\"``, ``\"theta\"``\n",
    "\n",
    "$$ \\alpha^{\\rm ig}= \\sum_k n_k \\ln(|\\cosh(\\theta_k/T)|) $$\n",
    "\n",
    "See Table 7.6 in GERG-2004 monograph\n",
    "\n",
    "### IdealHelmholtzGERG2004Sinh\n",
    "\n",
    "JSON arguments: ``\"n\"``, ``\"theta\"``\n",
    "\n",
    "$$ \\alpha^{\\rm ig}= \\sum_k n_k \\ln(|\\sinh(\\theta_k/T)|) $$\n",
    "\n",
    "### IdealHelmholtzCp0Constant\n",
    "\n",
    "JSON arguments: ``\"c\"``, ``\"T_0\"``\n",
    "\n",
    "$$ \\alpha^{\\rm ig}= c\\left( \\frac{T-T_0}{T}-\\ln\\left(\\frac{T}{T_0}\\right)\\right) $$\n",
    "     \n",
    "from a term that is like\n",
    "    \n",
    "$$ \\frac{c_{p0}}{R}= c $$\n",
    "\n",
    "### IdealHelmholtzCp0PowerT\n",
    "\n",
    "JSON arguments: ``\"c\"``, ``\"t\"``, ``\"T_0\"``\n",
    "\n",
    "$$ \\alpha^{\\rm ig}= c\\left[T^{t}\\left(\\frac{1}{t+1}-\\frac{1}{t}\\right)-\\frac{T_0^{t+1}}{T(t+1)}+\\frac{T_0^t}{t}\\right] $$\n",
    "     \n",
    "from a term that is like\n",
    "\n",
    "$$ \\frac{c_{p0}}{R}= cT^t, t \\neq 0 $$"
   ]
  },
  {
   "cell_type": "raw",
   "id": "86ec0f42",
   "metadata": {
    "raw_mimetype": "text/restructuredtext"
   },
   "source": [
    "The C++ classes implementing these functions are at:\n",
    "\n",
    "* :teqp:`IdealHelmholtzConstant`\n",
    "* :teqp:`IdealHelmholtzLogT`\n",
    "* :teqp:`IdealHelmholtzLead`\n",
    "* :teqp:`IdealHelmholtzPowerT`\n",
    "* :teqp:`IdealHelmholtzPlanckEinstein`\n",
    "* :teqp:`IdealHelmholtzPlanckEinsteinGeneralized`\n",
    "* :teqp:`IdealHelmholtzGERG2004Cosh`\n",
    "* :teqp:`IdealHelmholtzGERG2004Sinh`\n",
    "* :teqp:`IdealHelmholtzCp0Constant`\n",
    "* :teqp:`IdealHelmholtzCp0PowerT`"
   ]
  },
  {
   "cell_type": "markdown",
   "id": "f3cbc5ea",
   "metadata": {
    "raw_mimetype": "text/restructuredtext"
   },
   "source": [
    "## Conversion"
   ]
  },
  {
   "cell_type": "raw",
   "id": "31625a73",
   "metadata": {
    "raw_mimetype": "text/restructuredtext"
   },
   "source": [
    "Conversion of terms from CoolProp format to teqp format is carried out in the function :teqp:`CoolProp2teqp_alphaig_term_reformatter`.  "
   ]
  },
  {
   "cell_type": "markdown",
   "id": "eabada29",
   "metadata": {
    "raw_mimetype": "text/restructuredtext"
   },
   "source": [
    "For instance the leading term in CoolProp goes like:\n",
    "\n",
    "$$ \\alpha = \\ln(\\delta) + a_1^* + a_2^*\\tau $$\n",
    "\n",
    "with the * indicating the CoolProp formulation. The term reads like \n",
    "\n",
    "$$ \\alpha = \\ln(\\rho) + a_1 + a_2/T $$\n",
    "\n",
    "in teqp. Refactoring the CoolProp term reads\n",
    "\n",
    "$$ \\alpha = \\ln(\\rho) - \\ln(\\rho_r) + a_1^* + a_2^*\\left(\\frac{T_r}{T}\\right) $$ so that $a_1 = a_1^*-\\ln(\\rho_r)$ and $a_2=a_2^*T_r$\n",
    "\n",
    "In some cases reconstitutions of terms are required, as the supported terms in the libraries are somewhat different. The term used in CoolProp to do the offsets to enthalpy and entropy is of the form \n",
    "$$\n",
    "\\alpha = a_1^* + a_2^*\\tau = a_1^* + a_2^*\\left(\\frac{T_r}{T}\\right)\n",
    "$$\n",
    "so that term can be rewritten as an ``IdealHelmholtzPowerT`` with coefficients of $a_1^*$ and $a_2^*T_r$ and exponents of 0 and -1.\n",
    "\n",
    "Most of the remaining terms can be converted in a straightforward fashion, except for some of GERG formulations that are a bit trickier. Mostly, the only conversion required is to multiply or divide by reducing temperatures so that all arguments are in terms of temperature as independent variable.\n",
    "\n",
    "The mathematics describing how to do the conversion from a term in $c_p^0/R$ follows:\n",
    "\n",
    "$$\\alpha_0 =\\frac{a_0}{RT}= -1+\\ln\\frac{\\rho T}{\\rho_0T_0}+\\frac{h_0^0}{RT}-\\frac{s_0^0}{R}+\\frac{1}{RT}\\int_{T_0}^T c_p^0(T)dT-\\frac{1}{R}\\int_{T_0}^T \\frac{c_p^0(T)}{T}dT$$\n",
    "\n",
    "$$\\alpha_0 =\\frac{a_0}{RT}= \\ln(\\rho) + \\ln(T)-\\ln(\\rho_0T_0)-1+\\frac{h_0^0}{RT}-\\frac{s_0^0}{R}+\\frac{1}{RT}\\int_{T_0}^T c_p^0(T)dT-\\frac{1}{R}\\int_{T_0}^T \\frac{c_p^0(T)}{T}dT$$\n",
    "\n",
    "You can set the values of $h_0^0$ and $h_0^0$ to any value, including zero. So if you are converting a term from $c_p^0/R$, then you could do\n",
    "\n",
    "$$\\alpha_0 =\\frac{a_0}{RT}= \\ln(\\rho) + \\ln(T)-\\ln(\\rho_0T_0)-1+\\frac{1}{RT}\\int_{T_0}^T c_p^0(T)dT-\\frac{1}{R}\\int_{T_0}^T \\frac{c_p^0(T)}{T}dT$$"
   ]
  },
  {
   "cell_type": "code",
   "execution_count": null,
   "id": "65569f64",
   "metadata": {
    "execution": {
     "iopub.execute_input": "2024-03-13T21:50:15.105464Z",
     "iopub.status.busy": "2024-03-13T21:50:15.105077Z",
     "iopub.status.idle": "2024-03-13T21:50:15.184335Z",
     "shell.execute_reply": "2024-03-13T21:50:15.184043Z"
    }
   },
   "outputs": [],
   "source": [
    "import teqp, os, numpy as np, json\n",
    "display(teqp.__version__)"
   ]
  },
  {
   "cell_type": "code",
   "execution_count": null,
   "id": "3c4fb9fc",
   "metadata": {
    "execution": {
     "iopub.execute_input": "2024-03-13T21:50:15.185934Z",
     "iopub.status.busy": "2024-03-13T21:50:15.185810Z",
     "iopub.status.idle": "2024-03-13T21:50:15.188886Z",
     "shell.execute_reply": "2024-03-13T21:50:15.188610Z"
    }
   },
   "outputs": [],
   "source": [
    "path = teqp.get_datapath()+'/dev/fluids/n-Propane.json'\n",
    "assert(os.path.exists(path))\n",
    "jig = teqp.convert_CoolProp_idealgas(path, 0)\n",
    "print('As in the fluid file (matches Lemmon JPCRD 2009 exactly)::::')\n",
    "print(json.dumps(json.load(open(path))['EOS'][0]['alpha0'],indent=1))\n",
    "print('\\n\\nAnd after conversion::::')\n",
    "print(json.dumps(jig,indent=1))"
   ]
  },
  {
   "cell_type": "markdown",
   "id": "32e3803d",
   "metadata": {},
   "source": [
    "Note that the two leading terms of Lemmon generates three terms in teqp because the forms of the terms are slightly different"
   ]
  },
  {
   "cell_type": "code",
   "execution_count": null,
   "id": "ac7bec1b-40f9-47c6-8ec0-0085681867a7",
   "metadata": {
    "execution": {
     "iopub.execute_input": "2024-03-13T21:50:15.190333Z",
     "iopub.status.busy": "2024-03-13T21:50:15.190245Z",
     "iopub.status.idle": "2024-03-13T21:50:15.192612Z",
     "shell.execute_reply": "2024-03-13T21:50:15.192332Z"
    }
   },
   "outputs": [],
   "source": [
    "# As an worked example, the conversions can be carried out like so, with the values from Lemmon given name of b instead of a\n",
    "b_1 = -4.970583\n",
    "b_2 = 4.29352\n",
    "Tr = 369.89 # K\n",
    "rhor = 5000 # mol/m^3\n",
    "print('a_1:', b_1-np.log(rhor))\n",
    "print('a_2:', b_2*Tr)\n",
    "# The 3*ln(tau) term turns into 3*ln(Tr) - 3*ln(T)\n",
    "print(np.log(Tr)*3)\n",
    "# and the theta values are obtained\n",
    "t = np.array([1.062478, 3.344237, 5.363757, 11.762957])\n",
    "print((t*Tr).tolist())"
   ]
  },
  {
   "cell_type": "code",
   "execution_count": null,
   "id": "3b8c17de",
   "metadata": {
    "execution": {
     "iopub.execute_input": "2024-03-13T21:50:15.194007Z",
     "iopub.status.busy": "2024-03-13T21:50:15.193923Z",
     "iopub.status.idle": "2024-03-13T21:50:15.196873Z",
     "shell.execute_reply": "2024-03-13T21:50:15.196619Z"
    }
   },
   "outputs": [],
   "source": [
    "aig = teqp.IdealHelmholtz([jig])\n",
    "-aig.get_Ar20(300, 3, np.array([1.0]))"
   ]
  }
 ],
 "metadata": {
  "celltoolbar": "Raw Cell Format",
  "kernelspec": {
   "display_name": "Python 3 (ipykernel)",
   "language": "python",
   "name": "python3"
  },
  "language_info": {
   "codemirror_mode": {
    "name": "ipython",
    "version": 3
   },
   "file_extension": ".py",
   "mimetype": "text/x-python",
   "name": "python",
   "nbconvert_exporter": "python",
   "pygments_lexer": "ipython3",
   "version": "3.10.6"
  }
 },
 "nbformat": 4,
 "nbformat_minor": 5
}
