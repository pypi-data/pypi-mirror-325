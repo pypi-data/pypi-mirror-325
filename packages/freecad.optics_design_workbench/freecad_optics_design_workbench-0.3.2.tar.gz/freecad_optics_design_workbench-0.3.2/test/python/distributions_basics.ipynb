{
 "cells": [
  {
   "cell_type": "code",
   "execution_count": 1,
   "metadata": {},
   "outputs": [],
   "source": [
    "from matplotlib.pyplot import *\n",
    "from numpy import *\n",
    "import numpy.random as npr\n",
    "rcParams['text.usetex'] = True"
   ]
  },
  {
   "cell_type": "code",
   "execution_count": 2,
   "metadata": {},
   "outputs": [
    {
     "name": "stdout",
     "output_type": "stream",
     "text": [
      "[freecad.optics_design_workbench] python package path /usr/lib/python3.13/site-packages exists on filesystem but not in sys.path, appending to sys.path...\n",
      "[freecad.optics_design_workbench] python package path /usr/lib/python3.12/site-packages exists on filesystem but not in sys.path, appending to sys.path...\n",
      "[freecad.optics_design_workbench] python package path /usr/lib/python3.11/site-packages exists on filesystem but not in sys.path, appending to sys.path...\n"
     ]
    }
   ],
   "source": [
    "from optics_design_workbench import distributions\n",
    "from optics_design_workbench.distributions import *"
   ]
  },
  {
   "cell_type": "code",
   "execution_count": 3,
   "metadata": {},
   "outputs": [],
   "source": [
    "gen = distributions.VectorRandomVariable(\n",
    "          probabilityDensity='exp(-(theta/(sigma*(1+0.0000000000000000001*phi**2)))**2)',\n",
    "          variableDomains=dict(theta=(0, pi), phi=(0, 2*pi)),\n",
    "          variableOrder=['theta', 'phi'],)"
   ]
  },
  {
   "cell_type": "code",
   "execution_count": 4,
   "metadata": {},
   "outputs": [
    {
     "name": "stderr",
     "output_type": "stream",
     "text": [
      "numerical evaluation of probability density expression exp(-100.0*theta**2/(1.0e-19*phi**2 + 1)**2) had jumps larger than 5.0%\n",
      "/home/bredol/Projects/strahlemann/freecad/optics_design_workbench/io.py:195: UserWarning: numerical evaluation of probability density expression exp(-100.0*theta**2/(1.0e-19*phi**2 + 1)**2) had jumps larger than 5.0%\n",
      "  warnings.warn(msg)\n",
      "numerical evaluation of probability density expression exp(-100.0*theta**2/(1.0e-19*phi**2 + 1)**2) had jumps larger than 5.0%\n"
     ]
    },
    {
     "name": "stdout",
     "output_type": "stream",
     "text": [
      "[Optics Design 10:18:43.222666] failed to detect Qt version, used module \"PySide6\"\n",
      "[Optics Design 10:18:43.225768] WARNING: numerical evaluation of probability density expression exp(-100.0*theta**2/(1.0e-19*phi**2 + 1)**2) had jumps larger than 5.0%\n",
      "[Optics Design 10:18:43.231332] WARNING: numerical evaluation of probability density expression exp(-100.0*theta**2/(1.0e-19*phi**2 + 1)**2) had jumps larger than 5.0%\n"
     ]
    }
   ],
   "source": [
    "gen.compile(sigma=.1, disableAnalytical=True)"
   ]
  },
  {
   "cell_type": "code",
   "execution_count": 5,
   "metadata": {},
   "outputs": [
    {
     "data": {
      "text/latex": [
       "$\\displaystyle e^{- \\frac{100.0 \\theta^{2}}{\\left(1.0 \\cdot 10^{-19} \\phi^{2} + 1\\right)^{2}}}$"
      ],
      "text/plain": [
       "exp(-100.0*theta**2/(1.0e-19*phi**2 + 1)**2)"
      ]
     },
     "execution_count": 5,
     "metadata": {},
     "output_type": "execute_result"
    }
   ],
   "source": [
    "gen._probabilityDensityExpr"
   ]
  },
  {
   "cell_type": "code",
   "execution_count": 6,
   "metadata": {},
   "outputs": [
    {
     "name": "stdout",
     "output_type": "stream",
     "text": [
      "probability density expression:  exp(-100.0*theta**2/(1.0e-19*phi**2 + 1)**2)  variables:  [theta, phi]\n",
      "[[<function VectorRandomVariable._generateNumericScalarLambda.<locals>.interpolateResult at 0x74cc17a39580>], [<function VectorRandomVariable._generateNumericScalarLambda.<locals>.interpolateResult at 0x74cc17a3ae80>]]\n",
      "variable \"theta\" conditional probability density: \n",
      "  conditional prop. dens.:  n.a.\n",
      "  integrated prop. dens.:  n.a.\n",
      "  inverted integral solution:  n.a.\n",
      "variable \"phi\"  probability density: \n",
      "  conditional prop. dens.:  n.a.\n",
      "  integrated prop. dens.:  n.a.\n",
      "  inverted integral solution:  n.a.\n"
     ]
    }
   ],
   "source": [
    "gen.showExpressions()"
   ]
  },
  {
   "cell_type": "code",
   "execution_count": 7,
   "metadata": {},
   "outputs": [
    {
     "data": {
      "text/plain": [
       "[theta, phi]"
      ]
     },
     "execution_count": 7,
     "metadata": {},
     "output_type": "execute_result"
    }
   ],
   "source": [
    "gen._variables"
   ]
  },
  {
   "cell_type": "code",
   "execution_count": 8,
   "metadata": {},
   "outputs": [
    {
     "data": {
      "text/plain": [
       "'numeric'"
      ]
     },
     "execution_count": 8,
     "metadata": {},
     "output_type": "execute_result"
    }
   ],
   "source": [
    "gen.mode()"
   ]
  },
  {
   "cell_type": "code",
   "execution_count": 9,
   "metadata": {},
   "outputs": [],
   "source": [
    "assert gen.mode() == 'numeric'"
   ]
  },
  {
   "cell_type": "code",
   "execution_count": 10,
   "metadata": {},
   "outputs": [
    {
     "data": {
      "text/plain": [
       "[theta, phi]"
      ]
     },
     "execution_count": 10,
     "metadata": {},
     "output_type": "execute_result"
    }
   ],
   "source": [
    "gen._variables"
   ]
  },
  {
   "cell_type": "code",
   "execution_count": 11,
   "metadata": {},
   "outputs": [],
   "source": [
    "theta, phi = gen.draw(N=1e5)"
   ]
  },
  {
   "cell_type": "code",
   "execution_count": 12,
   "metadata": {},
   "outputs": [],
   "source": [
    "assert len(theta) == int(1e5)"
   ]
  },
  {
   "cell_type": "markdown",
   "metadata": {},
   "source": [
    "# Test random sample generators for given distribution functions"
   ]
  },
  {
   "cell_type": "markdown",
   "metadata": {},
   "source": [
    "### test standard gaussian"
   ]
  },
  {
   "cell_type": "code",
   "execution_count": 13,
   "metadata": {},
   "outputs": [],
   "source": [
    "v = distributions.VectorRandomVariable(\n",
    "          probabilityDensity='exp(-(theta/sigma)**2)',\n",
    "          variableDomains=dict(theta=(0, inf), phi=(0, 2*pi)))"
   ]
  },
  {
   "cell_type": "code",
   "execution_count": 14,
   "metadata": {},
   "outputs": [],
   "source": [
    "v.compile(sigma=.1)"
   ]
  },
  {
   "cell_type": "code",
   "execution_count": 15,
   "metadata": {},
   "outputs": [
    {
     "name": "stdout",
     "output_type": "stream",
     "text": [
      "probability density expression:  exp(-100.0*theta**2)  variables:  [theta, phi]\n",
      "[[<function _lambdifygenerated at 0x74cc16c57ce0>], [<function _lambdifygenerated at 0x74cc168527a0>]]\n",
      "variable \"theta\" conditional probability density: \n",
      "  conditional prop. dens.:  20.0*exp(-100.0*theta**2)/sqrt(pi)\n",
      "  integrated prop. dens.:  1.0*erf(10.0*x)\n",
      "  inverted integral solution:  0.1*erfinv(y)\n",
      "variable \"phi\"  probability density: \n",
      "  conditional prop. dens.:  0.159154943091895\n",
      "  integrated prop. dens.:  0.159154943091895*x\n",
      "  inverted integral solution:  6.2831853071796*y\n"
     ]
    }
   ],
   "source": [
    "v.showExpressions()"
   ]
  },
  {
   "cell_type": "code",
   "execution_count": 16,
   "metadata": {},
   "outputs": [
    {
     "data": {
      "text/plain": [
       "'analytic'"
      ]
     },
     "execution_count": 16,
     "metadata": {},
     "output_type": "execute_result"
    }
   ],
   "source": [
    "v.mode()"
   ]
  },
  {
   "cell_type": "code",
   "execution_count": 17,
   "metadata": {},
   "outputs": [
    {
     "name": "stdout",
     "output_type": "stream",
     "text": [
      "CPU times: user 185 μs, sys: 6 μs, total: 191 μs\n",
      "Wall time: 194 μs\n"
     ]
    },
    {
     "data": {
      "text/plain": [
       "{'theta': np.float64(0.0496773706098698), 'phi': np.float64(4.303617257944446)}"
      ]
     },
     "execution_count": 17,
     "metadata": {},
     "output_type": "execute_result"
    }
   ],
   "source": [
    "%%time\n",
    "# draw one true random sample\n",
    "v.draw()"
   ]
  },
  {
   "cell_type": "code",
   "execution_count": 18,
   "metadata": {},
   "outputs": [
    {
     "name": "stdout",
     "output_type": "stream",
     "text": [
      "CPU times: user 300 μs, sys: 9 μs, total: 309 μs\n",
      "Wall time: 305 μs\n"
     ]
    },
    {
     "data": {
      "text/plain": [
       "{'theta': array([0.08052078, 0.04286856, 0.02370293, 0.11448094, 0.05702939,\n",
       "        0.00607436, 0.12544243, 0.08402928, 0.04721204, 0.01057006]),\n",
       " 'phi': array([3.14607313, 2.96708486, 5.10361974, 2.7703914 , 2.13084561,\n",
       "        4.86491262, 0.4964843 , 4.88993285, 0.59560978, 3.56652796])}"
      ]
     },
     "execution_count": 18,
     "metadata": {},
     "output_type": "execute_result"
    }
   ],
   "source": [
    "%%time\n",
    "# draw true random samples\n",
    "v.draw(N=10)"
   ]
  },
  {
   "cell_type": "code",
   "execution_count": 19,
   "metadata": {},
   "outputs": [
    {
     "name": "stdout",
     "output_type": "stream",
     "text": [
      "CPU times: user 251 μs, sys: 8 μs, total: 259 μs\n",
      "Wall time: 245 μs\n"
     ]
    }
   ],
   "source": [
    "%%time\n",
    "# draw true random samples\n",
    "thetas, phis = v.draw(N=500)"
   ]
  },
  {
   "cell_type": "markdown",
   "metadata": {},
   "source": [
    "### test top hat"
   ]
  },
  {
   "cell_type": "code",
   "execution_count": 20,
   "metadata": {},
   "outputs": [],
   "source": [
    "gen = distributions.VectorRandomVariable(\n",
    "          probabilityDensity='1',\n",
    "          numericalResolutions=dict(theta=100, phi=10),\n",
    "          variableDomains=dict(theta=(0, 0.1), phi=(0, 2*pi)))"
   ]
  },
  {
   "cell_type": "code",
   "execution_count": 21,
   "metadata": {},
   "outputs": [
    {
     "name": "stdout",
     "output_type": "stream",
     "text": [
      "probability density expression:  1  variables:  [theta, phi]\n",
      "[[<function _lambdifygenerated at 0x74cc168ae980>], [<function _lambdifygenerated at 0x74cc16957920>]]\n",
      "variable \"theta\" conditional probability density: \n",
      "  conditional prop. dens.:  10.0000000000000\n",
      "  integrated prop. dens.:  10.0*x\n",
      "  inverted integral solution:  0.1*y\n",
      "variable \"phi\"  probability density: \n",
      "  conditional prop. dens.:  0.159154943091895\n",
      "  integrated prop. dens.:  0.159154943091895*x\n",
      "  inverted integral solution:  6.2831853071796*y\n"
     ]
    }
   ],
   "source": [
    "gen.compile()\n",
    "gen.showExpressions()"
   ]
  },
  {
   "cell_type": "code",
   "execution_count": 22,
   "metadata": {},
   "outputs": [
    {
     "data": {
      "text/plain": [
       "{'theta': np.float64(0.0093993644712279),\n",
       " 'phi': np.float64(3.5256327472175393)}"
      ]
     },
     "execution_count": 22,
     "metadata": {},
     "output_type": "execute_result"
    }
   ],
   "source": [
    "gen.draw()"
   ]
  },
  {
   "cell_type": "markdown",
   "metadata": {},
   "source": [
    "### test negative probability density"
   ]
  },
  {
   "cell_type": "code",
   "execution_count": 23,
   "metadata": {},
   "outputs": [],
   "source": [
    "gen = distributions.VectorRandomVariable(\n",
    "          probabilityDensity='cos(phi)',\n",
    "          variableDomains=dict(theta=(0, pi), phi=(0, 2*pi)))"
   ]
  },
  {
   "cell_type": "code",
   "execution_count": 24,
   "metadata": {},
   "outputs": [
    {
     "name": "stderr",
     "output_type": "stream",
     "text": [
      "not sure whether expression for probability density \"cos(phi)\" always yields positive values; negative probabilities will lead to undefined behavior\n"
     ]
    },
    {
     "name": "stdout",
     "output_type": "stream",
     "text": [
      "[Optics Design 10:18:44.294232] WARNING: not sure whether expression for probability density \"cos(phi)\" always yields positive values; negative probabilities will lead to undefined behavior\n"
     ]
    },
    {
     "name": "stderr",
     "output_type": "stream",
     "text": [
      "/home/bredol/Projects/strahlemann/freecad/optics_design_workbench/io.py:195: UserWarning: not sure whether expression for probability density \"cos(phi)\" always yields positive values; negative probabilities will lead to undefined behavior\n",
      "  warnings.warn(msg)\n",
      "not sure whether expression for probability density \"cos(phi)\" always yields positive values; negative probabilities will lead to undefined behavior\n"
     ]
    },
    {
     "name": "stdout",
     "output_type": "stream",
     "text": [
      "[Optics Design 10:18:44.353954] WARNING: not sure whether expression for probability density \"cos(phi)\" always yields positive values; negative probabilities will lead to undefined behavior\n"
     ]
    }
   ],
   "source": [
    "gen.compile()"
   ]
  },
  {
   "cell_type": "code",
   "execution_count": 25,
   "metadata": {},
   "outputs": [
    {
     "name": "stdout",
     "output_type": "stream",
     "text": [
      "probability density expression:  cos(phi)  variables:  [phi, theta]\n",
      "[[<function _lambdifygenerated at 0x74cc16852520>, <function _lambdifygenerated at 0x74cc16c9d940>], [<function _lambdifygenerated at 0x74cc168cd6c0>]]\n",
      "variable \"phi\" conditional probability density: \n",
      "  conditional prop. dens.:  -4.08280983829884e+15*cos(phi)\n",
      "  integrated prop. dens.:  -4.08280983829884e+15*sin(x)\n",
      "  inverted integral solutions: \n",
      "     asin(2.44929359829471e-16*y) + 3.14159265358979\n",
      "     -asin(2.44929359829471e-16*y)\n",
      "variable \"theta\"  probability density: \n",
      "  conditional prop. dens.:  0.318309886183791\n",
      "  integrated prop. dens.:  0.318309886183791*x\n",
      "  inverted integral solution:  3.14159265358979*y\n"
     ]
    }
   ],
   "source": [
    "gen.showExpressions()"
   ]
  },
  {
   "cell_type": "code",
   "execution_count": 26,
   "metadata": {},
   "outputs": [
    {
     "data": {
      "text/plain": [
       "{'phi': np.float64(3.14159265358979), 'theta': np.float64(2.5347522555304742)}"
      ]
     },
     "execution_count": 26,
     "metadata": {},
     "output_type": "execute_result"
    }
   ],
   "source": [
    "gen.draw()"
   ]
  },
  {
   "cell_type": "markdown",
   "metadata": {},
   "source": [
    "### test offset cosine"
   ]
  },
  {
   "cell_type": "code",
   "execution_count": 27,
   "metadata": {},
   "outputs": [],
   "source": [
    "x = distributions.ScalarRandomVariable('cos(x)+2', (0,pi))"
   ]
  },
  {
   "cell_type": "code",
   "execution_count": 28,
   "metadata": {},
   "outputs": [],
   "source": [
    "x.compile()"
   ]
  },
  {
   "cell_type": "code",
   "execution_count": 29,
   "metadata": {},
   "outputs": [
    {
     "data": {
      "text/plain": [
       "'numeric'"
      ]
     },
     "execution_count": 29,
     "metadata": {},
     "output_type": "execute_result"
    }
   ],
   "source": [
    "x.mode()"
   ]
  },
  {
   "cell_type": "code",
   "execution_count": 30,
   "metadata": {},
   "outputs": [
    {
     "name": "stdout",
     "output_type": "stream",
     "text": [
      "probability density expression:  cos(x) + 2  variables:  [x]\n",
      "[[<function VectorRandomVariable._generateNumericScalarLambda.<locals>.interpolateResult at 0x74cc168cda80>]]\n",
      "variable \"x\"  probability density: \n",
      "  conditional prop. dens.:  n.a.\n",
      "  integrated prop. dens.:  n.a.\n",
      "  inverted integral solution:  n.a.\n"
     ]
    }
   ],
   "source": [
    "x.showExpressions()"
   ]
  },
  {
   "cell_type": "code",
   "execution_count": 31,
   "metadata": {},
   "outputs": [
    {
     "data": {
      "text/plain": [
       "array([1.57465918, 2.70373145, 1.72354038, 0.44713936, 0.79937262,\n",
       "       2.68569576, 1.58855038, 0.88427817, 0.96344123, 0.28052042,\n",
       "       0.44260528, 0.36291514, 1.71048085, 0.03462519, 1.10586069])"
      ]
     },
     "execution_count": 31,
     "metadata": {},
     "output_type": "execute_result"
    }
   ],
   "source": [
    "x.draw(N=15)"
   ]
  },
  {
   "cell_type": "markdown",
   "metadata": {},
   "source": [
    "### test elliptical gaussian"
   ]
  },
  {
   "cell_type": "code",
   "execution_count": 32,
   "metadata": {},
   "outputs": [],
   "source": [
    "gen = distributions.VectorRandomVariable(\n",
    "          probabilityDensity='exp(-(theta/(sigma*(1+0.5*cos(phi + pi/3))))**2)',\n",
    "          variableOrder=['theta', 'phi'],\n",
    "          variableDomains=dict(theta=(0, pi), phi=(0, 2*pi)))"
   ]
  },
  {
   "cell_type": "code",
   "execution_count": 33,
   "metadata": {},
   "outputs": [
    {
     "name": "stderr",
     "output_type": "stream",
     "text": [
      "not sure whether expression for probability density \"exp(-theta**2/(0.5*cos(phi + pi/3) + 1)**2)\" always yields positive values; negative probabilities will lead to undefined behavior\n"
     ]
    },
    {
     "name": "stdout",
     "output_type": "stream",
     "text": [
      "[Optics Design 10:18:44.795260] WARNING: not sure whether expression for probability density \"exp(-theta**2/(0.5*cos(phi + pi/3) + 1)**2)\" always yields positive values; negative probabilities will lead to undefined behavior\n"
     ]
    },
    {
     "name": "stderr",
     "output_type": "stream",
     "text": [
      "/home/bredol/Projects/strahlemann/freecad/optics_design_workbench/io.py:195: UserWarning: not sure whether expression for probability density \"exp(-theta**2/(0.5*cos(phi + pi/3) + 1)**2)\" always yields positive values; negative probabilities will lead to undefined behavior\n",
      "  warnings.warn(msg)\n",
      "not sure whether expression for probability density \"exp(-theta**2/(0.5*cos(phi + pi/3) + 1)**2)\" always yields positive values; negative probabilities will lead to undefined behavior\n"
     ]
    },
    {
     "name": "stdout",
     "output_type": "stream",
     "text": [
      "[Optics Design 10:18:46.696707] WARNING: not sure whether expression for probability density \"exp(-theta**2/(0.5*cos(phi + pi/3) + 1)**2)\" always yields positive values; negative probabilities will lead to undefined behavior\n"
     ]
    },
    {
     "name": "stderr",
     "output_type": "stream",
     "text": [
      "numerical evaluation of probability density expression exp(-theta**2/(0.5*cos(phi + pi/3) + 1)**2) had jumps larger than 5.0%\n",
      "/home/bredol/Projects/strahlemann/freecad/optics_design_workbench/io.py:195: UserWarning: numerical evaluation of probability density expression exp(-theta**2/(0.5*cos(phi + pi/3) + 1)**2) had jumps larger than 5.0%\n",
      "  warnings.warn(msg)\n",
      "numerical evaluation of probability density expression exp(-theta**2/(0.5*cos(phi + pi/3) + 1)**2) had jumps larger than 5.0%\n"
     ]
    },
    {
     "name": "stdout",
     "output_type": "stream",
     "text": [
      "[Optics Design 10:18:47.698393] WARNING: numerical evaluation of probability density expression exp(-theta**2/(0.5*cos(phi + pi/3) + 1)**2) had jumps larger than 5.0%\n",
      "[Optics Design 10:18:47.700522] WARNING: numerical evaluation of probability density expression exp(-theta**2/(0.5*cos(phi + pi/3) + 1)**2) had jumps larger than 5.0%\n"
     ]
    }
   ],
   "source": [
    "gen.compile(sigma=1)"
   ]
  },
  {
   "cell_type": "code",
   "execution_count": 34,
   "metadata": {},
   "outputs": [],
   "source": [
    "assert gen.mode() == 'numeric'"
   ]
  },
  {
   "cell_type": "code",
   "execution_count": 35,
   "metadata": {},
   "outputs": [],
   "source": [
    "assert shape(gen.draw(N=15)) == (2,15)"
   ]
  }
 ],
 "metadata": {
  "kernelspec": {
   "display_name": "Python 3 (ipykernel)",
   "language": "python",
   "name": "python3"
  },
  "language_info": {
   "codemirror_mode": {
    "name": "ipython",
    "version": 3
   },
   "file_extension": ".py",
   "mimetype": "text/x-python",
   "name": "python",
   "nbconvert_exporter": "python",
   "pygments_lexer": "ipython3",
   "version": "3.13.1"
  }
 },
 "nbformat": 4,
 "nbformat_minor": 2
}
