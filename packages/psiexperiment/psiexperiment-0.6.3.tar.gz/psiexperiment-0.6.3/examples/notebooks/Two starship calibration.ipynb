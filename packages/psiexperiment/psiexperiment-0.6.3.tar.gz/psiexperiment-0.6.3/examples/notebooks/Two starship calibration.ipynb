{
 "cells": [
  {
   "cell_type": "code",
   "execution_count": null,
   "metadata": {},
   "outputs": [],
   "source": [
    "%matplotlib inline\n",
    "import numpy as np\n",
    "import pandas as pd\n",
    "import pylab as pl\n",
    "\n",
    "from psi.controller.calibration.api import load_calibration\n",
    "from psi.controller.calibration import chirp, tone\n",
    "from psi.core.enaml.api import load_manifest_from_file\n",
    "\n",
    "frequencies = [250, 500, 1000, 2000, 4000, 8000, 16000, 32000]\n",
    "\n",
    "io_file = 'c:/psi-dev/io/pika_two_starship.enaml'\n",
    "cal_file = 'c:/psi-dev/io/pika_two_starship/default.json'\n",
    "\n",
    "io_manifest = load_manifest_from_file(io_file, 'IOManifest')\n",
    "io = io_manifest()\n",
    "st1 = io.find('NI_starship_1')\n",
    "st2 = io.find('NI_starship_2')\n",
    "\n",
    "channels = st1.get_channels(active=False) + st2.get_channels(active=False)\n",
    "load_calibration(cal_file, channels)"
   ]
  },
  {
   "cell_type": "code",
   "execution_count": null,
   "metadata": {},
   "outputs": [],
   "source": [
    "for channel in channels:\n",
    "    print(channel.name)"
   ]
  },
  {
   "cell_type": "code",
   "execution_count": null,
   "metadata": {},
   "outputs": [],
   "source": [
    "tc1 = tone.tone_calibration(\n",
    "    st1,\n",
    "    frequencies,\n",
    "    ao_channel_name='speaker_1_1',\n",
    "    ai_channel_names=['microphone_1'],\n",
    "    gain=-30\n",
    ")['microphone_1']\n",
    "\n",
    "tc2 = tone.tone_calibration(\n",
    "    st2,\n",
    "    frequencies,\n",
    "    ao_channel_name='speaker_2_1',\n",
    "    ai_channel_names=['microphone_2'],\n",
    "    gain=-30\n",
    ")['microphone_2']"
   ]
  },
  {
   "cell_type": "code",
   "execution_count": null,
   "metadata": {},
   "outputs": [],
   "source": [
    "cc1 = chirp.chirp_calibration(\n",
    "    engine=st1,\n",
    "    ao_channel_name='speaker_1_1',\n",
    "    ai_channel_names=['microphone_1'],\n",
    "    gain=-30,\n",
    "    repetitions=8,\n",
    ")['microphone_1']\n",
    "\n",
    "cc2 = chirp.chirp_calibration(\n",
    "    engine=st2,\n",
    "    ao_channel_name='speaker_2_1',\n",
    "    ai_channel_names=['microphone_2'],\n",
    "    gain=-30,\n",
    "    repetitions=8,\n",
    ")['microphone_2']"
   ]
  },
  {
   "cell_type": "code",
   "execution_count": null,
   "metadata": {},
   "outputs": [],
   "source": [
    "for f in frequencies:\n",
    "    t = tc1.get_spl(f, 1)\n",
    "    c = cc1.get_spl(f, 1)\n",
    "    print(f'Tone: {t:0.2f}\\tChirp: {c:0.2f}')"
   ]
  },
  {
   "cell_type": "code",
   "execution_count": null,
   "metadata": {},
   "outputs": [],
   "source": [
    "for f in frequencies:\n",
    "    t = tc2.get_spl(f, 1)\n",
    "    c = cc2.get_spl(f, 1)\n",
    "    print(f'Tone: {t:0.2f}\\tChirp: {c:0.2f}')"
   ]
  },
  {
   "cell_type": "code",
   "execution_count": null,
   "metadata": {},
   "outputs": [],
   "source": []
  }
 ],
 "metadata": {
  "kernelspec": {
   "display_name": "Python 3",
   "language": "python",
   "name": "python3"
  },
  "language_info": {
   "codemirror_mode": {
    "name": "ipython",
    "version": 3
   },
   "file_extension": ".py",
   "mimetype": "text/x-python",
   "name": "python",
   "nbconvert_exporter": "python",
   "pygments_lexer": "ipython3",
   "version": "3.7.3"
  }
 },
 "nbformat": 4,
 "nbformat_minor": 4
}
