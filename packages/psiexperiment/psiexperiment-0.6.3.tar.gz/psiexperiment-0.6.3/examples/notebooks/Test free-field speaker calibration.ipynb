{
 "cells": [
  {
   "cell_type": "code",
   "execution_count": null,
   "metadata": {},
   "outputs": [],
   "source": [
    "import numpy as np\n",
    "\n",
    "from psi.controller import util\n",
    "from psi.controller.calibration.util import load_calibration, psd, psd_df, db, dbtopa\n"
   ]
  },
  {
   "cell_type": "code",
   "execution_count": 1,
   "metadata": {},
   "outputs": [
    {
     "name": "stderr",
     "output_type": "stream",
     "text": [
      "C:\\Users\\lbhb\\miniconda3\\envs\\psi1\\lib\\site-packages\\atom\\scalars.py:228: FutureWarning: Unicode is deprecated and will be removed in atom 0.6.0, use Str instead.\n",
      "  warnings.warn(FutureWarning(msg))\n"
     ]
    }
   ],
   "source": [
    "%matplotlib inline\n",
    "import pylab as plt\n",
    "\n",
    "from psi import application as app\n",
    "from psi.controller.calibration import tone\n",
    "from psi.controller.calibration.api import FlatCalibration, PointCalibration\n",
    "from psi.controller.calibration.util import load_calibration, psd, psd_df, db, dbi, dbtopa\n",
    "from psi.core.enaml.api import load_manifest_from_file\n",
    "\n",
    "frequencies = [1420, 2840, 11360]\n",
    "\n",
    "engine_name = 'NI'\n",
    "mic_channel_name = 'microphone'\n",
    "speaker_channel_name = 'speaker'\n",
    "\n",
    "io_file = app.get_default_io()\n",
    "cal_file = app.get_default_calibration(io_file)"
   ]
  },
  {
   "cell_type": "code",
   "execution_count": 2,
   "metadata": {},
   "outputs": [],
   "source": [
    "io_manifest = load_manifest_from_file(io_file, 'IOManifest')\n",
    "io = io_manifest()\n",
    "audio_engine = io.find(engine_name)\n",
    "channels = audio_engine.get_channels(active=False)\n",
    "load_calibration(cal_file, channels)"
   ]
  },
  {
   "cell_type": "code",
   "execution_count": 3,
   "metadata": {},
   "outputs": [
    {
     "name": "stdout",
     "output_type": "stream",
     "text": [
      "[-19.66017394 -30.36617903 -23.90782839]\n"
     ]
    }
   ],
   "source": [
    "mic_channel = audio_engine.get_channel(mic_channel_name)\n",
    "speaker_channel = audio_engine.get_channel(speaker_channel_name)\n",
    "#print(mic_channel.gain)\n",
    "#print(dbi(mic_channel.calibration.sensitivity))\n",
    "\n",
    "expected_gains = speaker_channel.calibration.get_gain(frequencies, 80)\n",
    "print(expected_gains)"
   ]
  },
  {
   "cell_type": "code",
   "execution_count": 4,
   "metadata": {},
   "outputs": [],
   "source": [
    "fixed_gain_result = tone.tone_sens(\n",
    "    frequencies=frequencies,\n",
    "    engine=audio_engine,\n",
    "    ao_channel_name=speaker_channel_name,\n",
    "    ai_channel_names=[mic_channel_name],\n",
    "    gains=-30,\n",
    "    debug=True,\n",
    "    duration=0.1,\n",
    "    iti=0,\n",
    "    trim=0.01,\n",
    "    repetitions=2,\n",
    ")"
   ]
  },
  {
   "cell_type": "code",
   "execution_count": 7,
   "metadata": {},
   "outputs": [
    {
     "data": {
      "text/plain": [
       "frequency\n",
       "1420.0     80.169004\n",
       "2840.0     84.842469\n",
       "11360.0    76.120763\n",
       "Name: spl, dtype: float64"
      ]
     },
     "execution_count": 7,
     "metadata": {},
     "output_type": "execute_result"
    }
   ],
   "source": [
    "fixed_gain_result.loc[mic_channel_name]['spl']"
   ]
  },
  {
   "cell_type": "code",
   "execution_count": 8,
   "metadata": {},
   "outputs": [],
   "source": [
    "tone_sens = fixed_gain_result.loc[mic_channel_name, 'sens']\n",
    "calibration = PointCalibration(tone_sens.index, tone_sens.values)\n",
    "gains = calibration.get_gain(frequencies, 80)"
   ]
  },
  {
   "cell_type": "code",
   "execution_count": 9,
   "metadata": {},
   "outputs": [
    {
     "data": {
      "text/plain": [
       "channel_name  frequency\n",
       "microphone    1420.0       79.998424\n",
       "              2840.0       80.017106\n",
       "              11360.0      79.996841\n",
       "Name: spl, dtype: float64"
      ]
     },
     "execution_count": 9,
     "metadata": {},
     "output_type": "execute_result"
    }
   ],
   "source": [
    "variable_gain_result = tone.tone_spl(\n",
    "    frequencies=frequencies,\n",
    "    engine=audio_engine,\n",
    "    ao_channel_name=speaker_channel_name,\n",
    "    ai_channel_names=[mic_channel_name],\n",
    "    gains=gains,\n",
    "    debug=True,\n",
    "    duration=0.1,\n",
    "    iti=0,\n",
    "    trim=0.01,\n",
    "    repetitions=2,\n",
    ")\n",
    "\n",
    "variable_gain_result['spl']"
   ]
  },
  {
   "cell_type": "code",
   "execution_count": 4,
   "metadata": {},
   "outputs": [],
   "source": [
    "from psiaudio.stim import BandlimitedNoiseFactory"
   ]
  },
  {
   "cell_type": "code",
   "execution_count": 5,
   "metadata": {},
   "outputs": [],
   "source": [
    "fs = 100000\n",
    "noise_factory = BandlimitedNoiseFactory(\n",
    "    fs=fs,\n",
    "    seed=1,\n",
    "    level=60,\n",
    "    fl=100,\n",
    "    fh=20000,\n",
    "    filter_rolloff=3,\n",
    "    passband_attenuation=0.1,\n",
    "    stopband_attenuation=90,\n",
    "    equalize=True,\n",
    "    calibration=speaker_channel.calibration\n",
    ")\n",
    "waveform_eq = noise_factory.next(fs*10)\n",
    "\n",
    "noise_factory = BandlimitedNoiseFactory(\n",
    "    fs=fs,\n",
    "    seed=1,\n",
    "    level=60,\n",
    "    fl=100,\n",
    "    fh=20000,\n",
    "    filter_rolloff=3,\n",
    "    passband_attenuation=0.1,\n",
    "    stopband_attenuation=90,\n",
    "    equalize=False,\n",
    "    calibration=speaker_channel.calibration\n",
    ")\n",
    "waveform_uneq = noise_factory.next(fs*10)"
   ]
  },
  {
   "cell_type": "code",
   "execution_count": 6,
   "metadata": {},
   "outputs": [
    {
     "data": {
      "text/plain": [
       "[<matplotlib.lines.Line2D at 0x222be60c3c8>]"
      ]
     },
     "execution_count": 6,
     "metadata": {},
     "output_type": "execute_result"
    },
    {
     "data": {
      "image/png": "[encoded data removed]",
      "text/plain": [
       "<Figure size 432x288 with 1 Axes>"
      ]
     },
     "metadata": {
      "needs_background": "light"
     },
     "output_type": "display_data"
    }
   ],
   "source": [
    "psd = psd_df(waveform_eq, fs)\n",
    "plt.loglog(psd)\n",
    "psd = psd_df(waveform_uneq, fs)\n",
    "plt.loglog(psd)"
   ]
  },
  {
   "cell_type": "code",
   "execution_count": 73,
   "metadata": {},
   "outputs": [],
   "source": [
    "from psi.controller import util\n",
    "import importlib\n",
    "importlib.reload(util)\n",
    "\n",
    "result_silence = util.acquire(audio_engine, silence, speaker_channel_name, [mic_channel_name])\n",
    "result_uneq = util.acquire(audio_engine, waveform_uneq, speaker_channel_name, [mic_channel_name])\n",
    "result_eq = util.acquire(audio_engine, waveform_eq, speaker_channel_name, [mic_channel_name])"
   ]
  },
  {
   "cell_type": "code",
   "execution_count": 74,
   "metadata": {},
   "outputs": [],
   "source": [
    "psd = psd_df(result_uneq[mic_channel_name][0], fs)\n",
    "spl_uneq = mic_channel.calibration.get_spl(psd.columns, psd).mean(axis=0)\n",
    "\n",
    "psd = psd_df(result_eq[mic_channel_name][0], fs)\n",
    "spl_eq = mic_channel.calibration.get_spl(psd.columns, psd).mean(axis=0)\n",
    "\n",
    "psd = psd_df(result_silence[mic_channel_name][0], fs)\n",
    "spl_silence = mic_channel.calibration.get_spl(psd.columns, psd).mean(axis=0)"
   ]
  },
  {
   "cell_type": "code",
   "execution_count": 75,
   "metadata": {},
   "outputs": [
    {
     "data": {
      "text/plain": [
       "(50.0, 50000.0, 0.0, 64.63509876656553)"
      ]
     },
     "execution_count": 75,
     "metadata": {},
     "output_type": "execute_result"
    },
    {
     "data": {
      "image/png": "[encoded data removed]",
      "text/plain": [
       "<Figure size 432x288 with 1 Axes>"
      ]
     },
     "metadata": {
      "needs_background": "light"
     },
     "output_type": "display_data"
    }
   ],
   "source": [
    "plt.semilogx(spl_uneq)\n",
    "plt.axis(ymin=0, xmin=50, xmax=50000)\n",
    "plt.semilogx(spl_eq)\n",
    "plt.axis(ymin=0, xmin=50, xmax=50000)\n",
    "plt.semilogx(spl_silence)\n",
    "plt.axis(ymin=0, xmin=50, xmax=50000)"
   ]
  },
  {
   "cell_type": "code",
   "execution_count": 46,
   "metadata": {},
   "outputs": [],
   "source": [
    "import numpy as np\n",
    "from functools import partial\n",
    "from psi.controller.api import ExtractEpochs, FIFOSignalQueue\n",
    "\n",
    "epoch_input = ExtractEpochs(epoch_size=10)\n",
    "epoch_input.add_callback(partial(accumulate, data))\n",
    "\n",
    "queue = FIFOSignalQueue(fs=fs)\n",
    "#queue.append(waveform_uneq, 1, 0)\n",
    "silence = np.zeros_like(waveform_uneq)\n",
    "queue.append(silence, 1, 0)\n",
    "queue.connect(epoch_input.added_queue.append)\n",
    "\n",
    "def accumulate(epochs, epoch):\n",
    "    print('Capturing %d epochs', len(epoch))\n",
    "    epochs.extend(epoch)\n",
    "\n",
    "epochs = []\n",
    "samples = []\n",
    "\n",
    "speaker_channel.add_queued_epoch_output(queue, auto_decrement=True)\n",
    "mic_channel.sync_start(speaker_channel)\n",
    "mic_channel.add_input(epoch_input)\n",
    "mic_channel.add_callback(samples.append)\n",
    "\n",
    "audio_engine.configure()\n",
    "audio_engine.start()\n",
    "\n",
    "time.sleep(10)\n",
    "    \n",
    "audio_engine.stop()"
   ]
  },
  {
   "cell_type": "code",
   "execution_count": 47,
   "metadata": {},
   "outputs": [],
   "source": [
    "mic_waveform = np.concatenate(samples)\n",
    "mic_psd = psd_df(mic_waveform, fs)\n",
    "mic_spl = mic_channel.calibration.get_spl(mic_psd.index, mic_psd.values)"
   ]
  },
  {
   "cell_type": "code",
   "execution_count": 48,
   "metadata": {},
   "outputs": [
    {
     "data": {
      "text/plain": [
       "(50.0, 50000.0, -20.0, 61.8438492286955)"
      ]
     },
     "execution_count": 48,
     "metadata": {},
     "output_type": "execute_result"
    },
    {
     "data": {
      "image/png": "[encoded data removed]",
      "text/plain": [
       "<Figure size 432x288 with 1 Axes>"
      ]
     },
     "metadata": {
      "needs_background": "light"
     },
     "output_type": "display_data"
    }
   ],
   "source": [
    "plt.semilogx(mic_psd.index, mic_spl)\n",
    "plt.axis(xmin=50, xmax=50000, ymin=-20)"
   ]
  },
  {
   "cell_type": "code",
   "execution_count": 18,
   "metadata": {},
   "outputs": [],
   "source": [
    "import time\n",
    "while not epoch_input.complete:\n",
    "    print('sleep')\n",
    "    time.sleep(1)\n",
    "audio_engine.stop()\n",
    "    print(len(samples))\n",
    "    "
   ]
  },
  {
   "cell_type": "code",
   "execution_count": 23,
   "metadata": {},
   "outputs": [
    {
     "ename": "IndexError",
     "evalue": "list index out of range",
     "output_type": "error",
     "traceback": [
      "\u001b[1;31m---------------------------------------------------------------------------\u001b[0m",
      "\u001b[1;31mIndexError\u001b[0m                                Traceback (most recent call last)",
      "\u001b[1;32m<ipython-input-23-2864a2da53d1>\u001b[0m in \u001b[0;36m<module>\u001b[1;34m\u001b[0m\n\u001b[1;32m----> 1\u001b[1;33m \u001b[0msamples\u001b[0m\u001b[1;33m[\u001b[0m\u001b[1;36m0\u001b[0m\u001b[1;33m]\u001b[0m\u001b[1;33m\u001b[0m\u001b[1;33m\u001b[0m\u001b[0m\n\u001b[0m",
      "\u001b[1;31mIndexError\u001b[0m: list index out of range"
     ]
    }
   ],
   "source": [
    "samples[0]"
   ]
  },
  {
   "cell_type": "code",
   "execution_count": 11,
   "metadata": {},
   "outputs": [
    {
     "data": {
      "text/plain": [
       "[]"
      ]
     },
     "execution_count": 11,
     "metadata": {},
     "output_type": "execute_result"
    }
   ],
   "source": [
    "data"
   ]
  },
  {
   "cell_type": "code",
   "execution_count": null,
   "metadata": {},
   "outputs": [],
   "source": []
  }
 ],
 "metadata": {
  "kernelspec": {
   "display_name": "psi1",
   "language": "python",
   "name": "psi1"
  },
  "language_info": {
   "codemirror_mode": {
    "name": "ipython",
    "version": 3
   },
   "file_extension": ".py",
   "mimetype": "text/x-python",
   "name": "python",
   "nbconvert_exporter": "python",
   "pygments_lexer": "ipython3",
   "version": "3.7.9"
  }
 },
 "nbformat": 4,
 "nbformat_minor": 4
}
