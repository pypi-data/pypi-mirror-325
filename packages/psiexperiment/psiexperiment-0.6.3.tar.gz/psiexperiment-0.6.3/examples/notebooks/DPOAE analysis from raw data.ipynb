{
 "cells": [
  {
   "cell_type": "code",
   "execution_count": null,
   "metadata": {},
   "outputs": [],
   "source": [
    "%matplotlib inline\n",
    "\n",
    "import numpy as np\n",
    "import pylab as pl\n",
    "\n",
    "from psi.data.io import Recording\n",
    "#recording = Recording('c:/test/20190311-145440cal/')\n",
    "recording = Recording('c:/psi/data/20190311-1553 TEST TEST right  abr/')"
   ]
  },
  {
   "cell_type": "code",
   "execution_count": null,
   "metadata": {},
   "outputs": [],
   "source": [
    "y = recording.eeg[:100000]\n",
    "t = np.arange(len(y)) / recording.eeg.fs\n",
    "pl.figure()\n",
    "pl.plot(t, y)\n",
    "\n",
    "o = recording.erp_metadata.iloc[0].t0\n",
    "d = recording.erp_metadata.iloc[0].duration\n",
    "\n",
    "lb = int(round(recording.eeg.fs * o))\n",
    "ub = lb + int(round(recording.eeg.fs * d))\n",
    "print(lb, ub)\n",
    "pl.figure()\n",
    "pl.plot(t[lb:ub], y[lb:ub])"
   ]
  },
  {
   "cell_type": "code",
   "execution_count": null,
   "metadata": {},
   "outputs": [],
   "source": [
    "epochs = recording.epoch[:]\n",
    "pl.plot(epochs[:10000])\n",
    "#recording.epoch_metadata\n",
    "recording.epoch_metadata.iloc[0].t0\n"
   ]
  },
  {
   "cell_type": "code",
   "execution_count": null,
   "metadata": {},
   "outputs": [],
   "source": [
    "o = recording.epoch_metadata.iloc[0].t0\n",
    "s = recording.epoch_metadata.iloc[0].duration\n",
    "print(o, s)\n",
    "lb = int(round((o-0.1) * recording.epoch.fs))\n",
    "ub = lb + int(round(s * recording.epoch.fs))\n",
    "pl.plot(recording.epoch[lb:ub])"
   ]
  },
  {
   "cell_type": "code",
   "execution_count": null,
   "metadata": {},
   "outputs": [],
   "source": [
    "from atom.api import *"
   ]
  },
  {
   "cell_type": "code",
   "execution_count": null,
   "metadata": {},
   "outputs": [],
   "source": [
    "attrs = {\n",
    "    'foo': Float(),\n",
    "    'bar': Int(),\n",
    "}\n",
    "c = type('ContextContainer', (Atom,), attrs)\n",
    "c(foo=4, bar=5.1)"
   ]
  },
  {
   "cell_type": "code",
   "execution_count": null,
   "metadata": {},
   "outputs": [],
   "source": [
    "t0 = recording.event_log.query('event == \"dpoae_start\"').iloc[-2]['timestamp']\n",
    "\n",
    "discard = 5e-3 * 2\n",
    "window = 100e-3\n",
    "f2_frequency = 8000.0\n",
    "f1_frequency = f2_frequency / 1.2\n",
    "dpoae = 2*f1_frequency - f2_frequency\n",
    "print(f1_frequency, f2_frequency, dpoae)\n",
    "\n",
    "segments = recording.microphone.get_segments([t0], discard, 4*8*50e-3).values\n",
    "samples = round(50e-3 * recording.microphone.fs)\n",
    "segments = segments.reshape((-1, samples))"
   ]
  },
  {
   "cell_type": "code",
   "execution_count": null,
   "metadata": {},
   "outputs": [],
   "source": [
    "pl.plot(segments[0, :100])\n",
    "pl.plot(segments[1, :100])"
   ]
  },
  {
   "cell_type": "code",
   "execution_count": null,
   "metadata": {},
   "outputs": [],
   "source": [
    "from psi.controller.calibration import util\n"
   ]
  },
  {
   "cell_type": "code",
   "execution_count": null,
   "metadata": {},
   "outputs": [],
   "source": [
    "util.db(util.tone_power_conv(segments, recording.microphone.fs, dpoae, 'hann')).mean()"
   ]
  },
  {
   "cell_type": "code",
   "execution_count": null,
   "metadata": {},
   "outputs": [],
   "source": [
    "util.db(util.tone_power_conv(segments, recording.microphone.fs, f2_frequency, 'hann')).mean()"
   ]
  },
  {
   "cell_type": "code",
   "execution_count": null,
   "metadata": {},
   "outputs": [],
   "source": [
    "util.db(util.tone_power_conv(segments, recording.microphone.fs, f1_frequency, 'hann')).mean()"
   ]
  },
  {
   "cell_type": "code",
   "execution_count": null,
   "metadata": {},
   "outputs": [],
   "source": []
  }
 ],
 "metadata": {
  "kernelspec": {
   "display_name": "Python 3",
   "language": "python",
   "name": "python3"
  },
  "language_info": {
   "codemirror_mode": {
    "name": "ipython",
    "version": 3
   },
   "file_extension": ".py",
   "mimetype": "text/x-python",
   "name": "python",
   "nbconvert_exporter": "python",
   "pygments_lexer": "ipython3",
   "version": "3.6.2"
  }
 },
 "nbformat": 4,
 "nbformat_minor": 2
}
