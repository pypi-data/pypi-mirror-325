{
 "cells": [
  {
   "cell_type": "code",
   "execution_count": null,
   "id": "2e356560-a7fa-44fd-bc9f-08becb1209c6",
   "metadata": {},
   "outputs": [],
   "source": [
    "import pandas as pd\n",
    "import numpy as np\n",
    "import matplotlib.pyplot as plt\n",
    "from scipy import stats"
   ]
  },
  {
   "cell_type": "code",
   "execution_count": null,
   "id": "a6db50e0-3436-418d-99eb-e0e1ee7b6485",
   "metadata": {},
   "outputs": [],
   "source": [
    "def show_curve(x, y, F, critical, title):\n",
    "        plt.figure(figsize = (10, 8)) #adjust if you need to\n",
    "        plt.plot(x, y, color = 'blue', label = 'F Distribution')\n",
    "        plt.axvline(x = F, color = 'green', linestyle = '--', label = 'F Statistic')\n",
    "        plt.fill_between(x, y, color = 'red', where = (x > critical), alpha = 0.5, label = 'Critical Region')\n",
    "        plt.xlabel('F Score')\n",
    "        plt.ylabel('Probability Density')\n",
    "        plt.title(title)\n",
    "        plt.legend()\n",
    "        plt.show()\n",
    "def Two_Way_ANOVA(groups, row_groups, col_groups, alpha):\n",
    "    cell_mean = [np.mean(group) for group in groups]\n",
    "    col_mean = [np.mean(col) for col in col_groups]\n",
    "    row_mean = [np.mean(row) for row in row_groups]\n",
    "    grand_mean = np.mean(cell_mean)\n",
    "    \n",
    "    k = len(groups)\n",
    "    N = sum([len(group) for group in groups])\n",
    "    c = len(col_groups)\n",
    "    r = len(row_groups)\n",
    "    SSB = sum( len(group) * (cell_mean[i] - grand_mean)**2 \\\n",
    "                for i, group in enumerate(groups) )\n",
    "    SSW = sum( (x - cell_mean[i])**2 \\\n",
    "                for i, group in enumerate(groups) for x in group )\n",
    "    SSC = sum( len(col) * (col_mean[i] - grand_mean)**2 \\\n",
    "                for i, col in enumerate(col_groups) )\n",
    "    SSR = sum( len(row) * (row_mean[i] - grand_mean)**2 \\\n",
    "                for i, row in enumerate(row_groups) )\n",
    "    SSI = SSB - (SSC + SSR)\n",
    "    dfb = k - 1\n",
    "    dfc = c - 1\n",
    "    dfr = r - 1\n",
    "    dfi = dfc*dfr\n",
    "    dfw = N - c*r\n",
    "    MSC = SSC/dfc\n",
    "    MSR = SSR/dfr\n",
    "    MSI = SSI/dfi\n",
    "    MSW = SSW/dfw\n",
    "\n",
    "    F_col = MSC/MSW\n",
    "    F_row = MSR/MSW\n",
    "    F_intr = MSI/MSW \n",
    "    critical_col = stats.f.ppf(1-alpha, dfc, dfw)\n",
    "    critical_row = stats.f.ppf(1-alpha, dfr, dfw)\n",
    "    critical_intr = stats.f.ppf(1-alpha, dfi, dfw)\n",
    "\n",
    "    print(\"Critical Vaue =\", critical_col, \"\\tF Column =\", F_col)\n",
    "    print(\"Critical Vaue =\", critical_row, \"\\tF Row =\", F_row)\n",
    "    print(\"Critical Vaue =\", critical_intr, \"\\tF Interaction =\", F_intr)\n",
    "    if F_col > critical_col or F_row > critical_row | F_intr > critical_intr: \n",
    "        print(\"Reject Null Hypothesis\")\n",
    "    else:\n",
    "        print(\"Accept Null Hypothesis\")\n",
    "\n",
    "    x = np.linspace(0, 6, 1000)\n",
    "    y_col = stats.f.pdf(x, dfc, dfw)\n",
    "    y_row = stats.f.pdf(x, dfr, dfw)\n",
    "    y_intr = stats.f.pdf(x, dfi, dfw)\n",
    "    show_curve(x, y_col, F_col, critical_col, \"F Column\")\n",
    "    show_curve(x, y_row, F_row, critical_row, \"F Row\")\n",
    "    show_curve(x, y_intr, F_intr, critical_intr, \"F Interaction\")"
   ]
  },
  {
   "cell_type": "code",
   "execution_count": null,
   "id": "a8d52120-5d61-4f59-9781-f368ee14f6b8",
   "metadata": {},
   "outputs": [],
   "source": [
    "df = pd.read_csv('reaction_time.csv')\n",
    "df"
   ]
  },
  {
   "cell_type": "code",
   "execution_count": null,
   "id": "e3b28a0b-45eb-4178-9201-358c6897fc04",
   "metadata": {},
   "outputs": [],
   "source": [
    "df1 = df[df['Degree of Danger'] == 'Dangerous']\n",
    "df2 = df[df['Degree of Danger'] == 'Nondangerous']\n",
    "\n",
    "groups = [df1['Zero'], df1['Two'], df1['Four'], df2['Zero'], df2['Two'], df2['Four']]\n",
    "row_groups = []\n",
    "for _, cell in df.groupby(['Degree of Danger']):\n",
    "    row_groups.append([*cell['Zero'].values , *cell['Two'].values, *cell['Four'].values])\n",
    "col_groups = [df['Zero'], df['Two'], df['Four']]\n",
    "alpha = 0.05\n",
    "Two_Way_ANOVA(groups,row_groups, col_groups, alpha)"
   ]
  }
 ],
 "metadata": {
  "kernelspec": {
   "display_name": "Python 3 (ipykernel)",
   "language": "python",
   "name": "python3"
  },
  "language_info": {
   "codemirror_mode": {
    "name": "ipython",
    "version": 3
   },
   "file_extension": ".py",
   "mimetype": "text/x-python",
   "name": "python",
   "nbconvert_exporter": "python",
   "pygments_lexer": "ipython3",
   "version": "3.12.4"
  }
 },
 "nbformat": 4,
 "nbformat_minor": 5
}
