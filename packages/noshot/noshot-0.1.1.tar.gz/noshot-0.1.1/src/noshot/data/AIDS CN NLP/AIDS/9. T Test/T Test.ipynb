{
 "cells": [
  {
   "cell_type": "code",
   "execution_count": null,
   "metadata": {},
   "outputs": [],
   "source": [
    "import numpy as np\n",
    "import pandas as pd\n",
    "#import scipy.stats as stats #comment if deprecated\n",
    "from scipy import stats #use this way\n",
    "import matplotlib.pyplot as plt"
   ]
  },
  {
   "cell_type": "code",
   "execution_count": null,
   "metadata": {},
   "outputs": [],
   "source": [
    "def random_sampling(population, sample_size, replace = False):\n",
    "    random_sample = np.random.choice(population, size = sample_size, replace = replace)\n",
    "    return list(random_sample)"
   ]
  },
  {
   "cell_type": "code",
   "execution_count": null,
   "metadata": {},
   "outputs": [],
   "source": [
    "def show_curve(t, critical):\n",
    "    x = np.linspace(-4, 4, 1000)  # Range for t-distribution\n",
    "    y = stats.t.pdf(x, df=len(sample) - 1)  # PDF of t-distribution\n",
    "     \n",
    "    plt.figure(figsize=(10, 6))\n",
    "    plt.plot(x, y, label='t-distribution', color='blue')\n",
    "\n",
    "    if tail == 1: # Left-tailed\n",
    "        plt.fill_between(x, y, where=(x < critical), color='red', alpha=0.5, label='Critical Region')\n",
    "    elif tail == 2: # Two-tailed\n",
    "        critical_left = stats.t.ppf(alpha / 2, df=len(sample) - 1)\n",
    "        critical_right = stats.t.ppf(1 - alpha / 2, df=len(sample) - 1)\n",
    "        plt.fill_between(x, y, where=(x < critical_left), color='red', alpha=0.5, label='Critical Region (Left)')\n",
    "        plt.fill_between(x, y, where=(x > critical_right), color='red', alpha=0.5, label='Critical Region (Right)')\n",
    "    else: # Right-tailed\n",
    "        plt.fill_between(x, y, where=(x > critical), color='red', alpha=0.5, label='Critical Region')\n",
    "    \n",
    "    plt.axvline(t, color='orange', linestyle='--', label='T-Statistic') # T Statistic\n",
    "    plt.title('T-Test: Critical Region and T-Statistic')\n",
    "    plt.xlabel('T Value')\n",
    "    plt.ylabel('Probability Density')\n",
    "    plt.legend()\n",
    "    plt.grid()\n",
    "    plt.show()"
   ]
  },
  {
   "cell_type": "code",
   "execution_count": null,
   "metadata": {},
   "outputs": [],
   "source": [
    "def t_test(sample, population_mean, alpha, tail):\n",
    "    sample_mean = np.mean(sample)\n",
    "    sample_std = np.std(sample, ddof=1)\n",
    "    n = len(sample)\n",
    "    t = (sample_mean - population_mean) / (sample_std / np.sqrt(n))\n",
    "    dof = n - 1\n",
    "    \n",
    "    if tail == 1: # Left-tailed\n",
    "        critical = stats.t.ppf(alpha, dof)\n",
    "    elif tail == 2: # Two-tailed\n",
    "        critical = stats.t.ppf(1 - alpha/2, dof)\n",
    "    else: # Right-tailed\n",
    "        critical = stats.t.ppf(1 - alpha, dof)\n",
    "    show_curve(t, critical)\n",
    "    print(f\"T-Statistic: {t:.4f}, Sample Mean: {sample_mean:.4f}\")\n",
    "    print(f\"Critical Value: {critical:.4f}\")\n",
    "    if tail == 1 and t < critical:\n",
    "        print(f\"{t:.4f} < {critical:.4f} Reject the null hypothesis (left-tailed).\")\n",
    "    elif tail == 2 and (t < -critical or t > critical):\n",
    "        expr = (f\"{t:.4f} < {-critical:.4f}\") if t < -critical else (f\"{t:.4f} > {critical:.4f}\")\n",
    "        print(f\"{expr} Reject the null hypothesis (two-tailed).\")\n",
    "    elif tail == 3 and t > critical:\n",
    "        print(f\"{t:.4f} > {critical:.4f} Reject the null hypothesis (right-tailed).\")\n",
    "    else:\n",
    "        print(f\"Fail to reject the null hypothesis.\")"
   ]
  },
  {
   "cell_type": "code",
   "execution_count": null,
   "metadata": {},
   "outputs": [],
   "source": [
    "def EDA(df, column, eda_type):\n",
    "    if eda_type == 1:\n",
    "        df[column] = pd.to_numeric(df[column], errors='coerce')\n",
    "        #converting to float\n",
    "        df[column] = df[column].astype(float) # specify int if need integer values\n",
    "        print(\"No of Nulls:\",df[column].isnull().sum())\n",
    "        #filling null values with mean imputation can also use .median() for median imputation etc\n",
    "        df[column] = df[column].fillna(df[column].mean())\n",
    "        return df[column].to_list()\n",
    "    elif eda_type == 2:\n",
    "        df[column] = df[column].dropna()\n",
    "        return df[column].to_list()"
   ]
  },
  {
   "cell_type": "code",
   "execution_count": null,
   "metadata": {},
   "outputs": [],
   "source": [
    "file_path = \"height_weight_bmi.csv\"\n",
    "column = \"Standing Height (cm)\"\n",
    "N = 1000\n",
    "df = pd.read_csv(file_path) #dataset\n",
    "df = pd.DataFrame(df).iloc[:N] #1000 records are fetched not all\n",
    "\n",
    "#if 1 for mean imputation(do this if column contains invalid values(strings)\n",
    "#if 2 drops null values(do this if column is numeric)\n",
    "population = EDA(df, column, eda_type = 1) #height column\n",
    "population_mean = np.mean(population)\n",
    "population_mean = 170\n",
    "sample_size = 10\n",
    "sample = random_sampling(population, sample_size)\n",
    "alpha = 0.05\n",
    "tail = 2 # Change to 1 for left-tailed, 2 for two-tailed, 3 for right-tailed\n",
    "t_test(sample, population_mean, alpha, tail)"
   ]
  }
 ],
 "metadata": {
  "kernelspec": {
   "display_name": "Python 3 (ipykernel)",
   "language": "python",
   "name": "python3"
  },
  "language_info": {
   "codemirror_mode": {
    "name": "ipython",
    "version": 3
   },
   "file_extension": ".py",
   "mimetype": "text/x-python",
   "name": "python",
   "nbconvert_exporter": "python",
   "pygments_lexer": "ipython3",
   "version": "3.12.4"
  }
 },
 "nbformat": 4,
 "nbformat_minor": 4
}
