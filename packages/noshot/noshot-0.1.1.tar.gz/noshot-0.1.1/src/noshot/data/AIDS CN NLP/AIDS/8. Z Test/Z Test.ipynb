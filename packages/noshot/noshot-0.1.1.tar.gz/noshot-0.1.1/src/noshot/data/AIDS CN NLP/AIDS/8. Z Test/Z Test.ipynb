{
 "cells": [
  {
   "cell_type": "code",
   "execution_count": null,
   "id": "1bbf7bd8-6056-4f51-b71c-39fbf310341b",
   "metadata": {},
   "outputs": [],
   "source": [
    "import numpy as np\n",
    "import pandas as pd\n",
    "from scipy import stats\n",
    "import matplotlib.pyplot as plt\n",
    "import random"
   ]
  },
  {
   "cell_type": "code",
   "execution_count": null,
   "id": "7712ac10-2d2a-4f12-b4c3-913994e18d12",
   "metadata": {},
   "outputs": [],
   "source": [
    "def show_curve(z, critical):\n",
    "    x = np.linspace(-4, 4, 1000)\n",
    "    y = stats.norm.pdf(x)  \n",
    "    \n",
    "    plt.figure(figsize=(10, 6))\n",
    "    plt.plot(x, y, label='Z-distribution', color='blue')\n",
    "    \n",
    "    if tail == 1: # Left-tailed\n",
    "        plt.fill_between(x, y, where=(x < critical), color='red', alpha=0.5, label='Critical Region')\n",
    "    elif tail == 2: # Two-tailed\n",
    "        critical_left = stats.norm.ppf(alpha / 2)\n",
    "        critical_right = stats.norm.ppf(1 - alpha / 2)\n",
    "        plt.fill_between(x, y, where=(x < critical_left), color='red', alpha=0.5, label='Critical Region (Left)')\n",
    "        plt.fill_between(x, y, where=(x > critical_right), color='red', alpha=0.5, label='Critical Region (Right)')\n",
    "    else: # Right-tailed\n",
    "        plt.fill_between(x, y, where=(x > critical), color='red', alpha=0.5, label='Critical Region')\n",
    "\n",
    "    plt.axvline(z, color='orange', linestyle='--', label='Z-Statistic') # Z-Statistic\n",
    "    \n",
    "    plt.title('Z-Test: Critical Region and Z-Statistic')\n",
    "    plt.xlabel('Z Value')\n",
    "    plt.ylabel('Probability Density')\n",
    "    plt.legend()\n",
    "    plt.grid()\n",
    "    plt.show()"
   ]
  },
  {
   "cell_type": "code",
   "execution_count": null,
   "id": "433f6712-ee36-482c-a764-63cabd639f3c",
   "metadata": {},
   "outputs": [],
   "source": [
    "def z_test(sample, population_mean, alpha, tail):\n",
    "    sample_mean = np.mean(sample)\n",
    "    sample_std = np.std(sample, ddof=1)\n",
    "    n = len(sample)\n",
    "    # Calculate Z-statistic\n",
    "    z = (sample_mean - population_mean) / (sample_std / np.sqrt(n))\n",
    "    if tail == 1: # Left-tailed\n",
    "        critical = stats.norm.ppf(alpha)\n",
    "    elif tail == 2: # Two-tailed\n",
    "        critical = stats.norm.ppf(1 - alpha / 2)\n",
    "    else: # Right-tailed\n",
    "        critical = stats.norm.ppf(1 - alpha)\n",
    "    show_curve(z, critical)\n",
    "    print(f\"Z-Statistic: {z:.4f}, Sample Mean: {sample_mean:.4f}\")\n",
    "    print(f\"Critical Value: {critical:.4f}\")\n",
    "    if tail == 1 and z < critical:\n",
    "        print(f\"{z:.4f} < {critical:.4f} Reject the null hypothesis (left-tailed).\")\n",
    "    elif tail == 2 and (z < -critical or z > critical):\n",
    "        expr = (f\"{z:.4f} < {-critical:.4f}\") if z < -critical else (f\"{z:.4f} > {critical:.4f}\")\n",
    "        print(f\"{expr} Reject the null hypothesis (two-tailed).\")\n",
    "    elif tail == 3 and z > critical:\n",
    "        print(f\"{z:.4f} > {critical:.4f} Reject the null hypothesis (right-tailed).\")\n",
    "    else:\n",
    "        print(f\"Fail to reject the null hypothesis.\")"
   ]
  },
  {
   "cell_type": "code",
   "execution_count": null,
   "id": "481d9092-56b5-4a93-848f-f1c9aee09b25",
   "metadata": {},
   "outputs": [],
   "source": [
    "def EDA(df, column, eda_type):\n",
    "    if eda_type == 1:\n",
    "        df[column] = pd.to_numeric(df[column], errors='coerce')\n",
    "        #converting to float\n",
    "        df[column] = df[column].astype(float) # specify int if need integer values\n",
    "        print(\"No of Nulls:\",df[column].isnull().sum())\n",
    "        #filling null values with mean imputation can also use .median() for median imputation etc\n",
    "        df[column] = df[column].fillna(df[column].mean())\n",
    "        return df[column].to_list()\n",
    "    elif eda_type == 2:\n",
    "        df[column] = df[column].dropna()\n",
    "        return df[column].to_list()"
   ]
  },
  {
   "cell_type": "code",
   "execution_count": null,
   "id": "7d455105-5f98-4c8a-80e2-bce7e1acc516",
   "metadata": {},
   "outputs": [],
   "source": [
    "file_path = \"height_weight_bmi.csv\"\n",
    "column = \"Standing Height (cm)\"\n",
    "N = 1000\n",
    "df = pd.read_csv(file_path) #dataset\n",
    "df = pd.DataFrame(df).iloc[:N] #1000 records are fetched not all\n",
    "\n",
    "#if 1 for mean imputation(do this if column contains invalid values(strings)\n",
    "#if 2 drops null values(do this if column is numeric)\n",
    "population = EDA(df, column, eda_type = 1) #height column\n",
    "population_mean = np.mean(population)\n",
    "sample_size = 10\n",
    "sample = random.choices(population, k = sample_size)#random sampling\n",
    "alpha = 0.05\n",
    "tail = 2 # Change to 1 for left-tailed, 2 for two-tailed, 3 for right-tailed\n",
    "z_test(sample, population_mean, alpha, tail)"
   ]
  }
 ],
 "metadata": {
  "kernelspec": {
   "display_name": "Python 3 (ipykernel)",
   "language": "python",
   "name": "python3"
  },
  "language_info": {
   "codemirror_mode": {
    "name": "ipython",
    "version": 3
   },
   "file_extension": ".py",
   "mimetype": "text/x-python",
   "name": "python",
   "nbconvert_exporter": "python",
   "pygments_lexer": "ipython3",
   "version": "3.12.4"
  }
 },
 "nbformat": 4,
 "nbformat_minor": 5
}
