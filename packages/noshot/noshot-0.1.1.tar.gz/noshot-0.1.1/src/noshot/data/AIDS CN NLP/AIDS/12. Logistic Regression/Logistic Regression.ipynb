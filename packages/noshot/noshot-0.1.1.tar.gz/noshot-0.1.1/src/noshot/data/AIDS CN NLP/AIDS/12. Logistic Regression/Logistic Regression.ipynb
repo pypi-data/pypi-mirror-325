{
 "cells": [
  {
   "cell_type": "code",
   "execution_count": null,
   "id": "48961c1d-3e9b-430d-b529-956467a3194c",
   "metadata": {},
   "outputs": [],
   "source": [
    "import pandas as pd\n",
    "data = pd.read_csv(\"hours_scores_records.csv\")\n",
    "print(data.shape)\n",
    "data.head()"
   ]
  },
  {
   "cell_type": "code",
   "execution_count": null,
   "id": "f3117a88-f1f0-45b6-8890-0893d84264a5",
   "metadata": {},
   "outputs": [],
   "source": [
    "mean_hours = data['Hours'].mean()\n",
    "print(\"Hours Mean:\", mean_hours)\n",
    "mean_scores = data['Scores'].mean()\n",
    "print(\"Scores Mean:\", mean_scores)"
   ]
  },
  {
   "cell_type": "code",
   "execution_count": null,
   "id": "3e023a56-1fbc-4a7d-9565-49efb6a66074",
   "metadata": {},
   "outputs": [],
   "source": [
    "data['Hours - Mean_Hours'] = round(data['Hours'] - mean_hours, 3)\n",
    "mean1 = data['Hours - Mean_Hours'].mean()\n",
    "mean1"
   ]
  },
  {
   "cell_type": "code",
   "execution_count": null,
   "id": "f4574bdb-b5e4-4541-978c-ceea8d30f453",
   "metadata": {},
   "outputs": [],
   "source": [
    "data['Scores - Mean_Scores'] = round(data['Scores'] - mean_scores, 3)\n",
    "mean2 = data['Scores - Mean_Scores'].mean()\n",
    "mean2"
   ]
  },
  {
   "cell_type": "code",
   "execution_count": null,
   "id": "da2a298f-e92b-4161-8c5d-c38accb83eda",
   "metadata": {},
   "outputs": [],
   "source": [
    "data['product'] = data['Hours - Mean_Hours']*data['Scores - Mean_Scores']\n",
    "mean3 = data['product'].mean()\n",
    "mean3"
   ]
  },
  {
   "cell_type": "code",
   "execution_count": null,
   "id": "e322b3a6-89ea-4cce-bce4-45f53fefa439",
   "metadata": {},
   "outputs": [],
   "source": [
    "data['mean_x_squared'] = data['Scores - Mean_Scores']**2\n",
    "data['mean_x2_squared'] = data['Hours - Mean_Hours']**2"
   ]
  },
  {
   "cell_type": "code",
   "execution_count": null,
   "id": "86d7a11a-7c35-4c8e-881d-37861322cafe",
   "metadata": {},
   "outputs": [],
   "source": [
    "mean_x2 = data['mean_x2_squared'].mean()\n",
    "mean_x2"
   ]
  },
  {
   "cell_type": "code",
   "execution_count": null,
   "id": "107dba29-8e26-4b9d-8ec7-179999a025a1",
   "metadata": {},
   "outputs": [],
   "source": [
    "slope = mean3/mean_x2\n",
    "slope"
   ]
  },
  {
   "cell_type": "code",
   "execution_count": null,
   "id": "77514aa2-58be-4c7d-aebc-2cfd1f9e2474",
   "metadata": {},
   "outputs": [],
   "source": [
    "c = mean2 - (slope*mean1)\n",
    "c"
   ]
  },
  {
   "cell_type": "code",
   "execution_count": null,
   "id": "f991039c-5805-430d-952e-9012b8f4c783",
   "metadata": {},
   "outputs": [],
   "source": [
    "import numpy as np\n",
    "z = (slope*(data['Hours'].astype(float))) + c\n",
    "data[\"y\"] = 1/(1+np.exp(-z))\n",
    "data.to_csv('score_updated.csv', index = False)\n",
    "data.head()"
   ]
  }
 ],
 "metadata": {
  "kernelspec": {
   "display_name": "Python 3 (ipykernel)",
   "language": "python",
   "name": "python3"
  },
  "language_info": {
   "codemirror_mode": {
    "name": "ipython",
    "version": 3
   },
   "file_extension": ".py",
   "mimetype": "text/x-python",
   "name": "python",
   "nbconvert_exporter": "python",
   "pygments_lexer": "ipython3",
   "version": "3.12.4"
  }
 },
 "nbformat": 4,
 "nbformat_minor": 5
}
