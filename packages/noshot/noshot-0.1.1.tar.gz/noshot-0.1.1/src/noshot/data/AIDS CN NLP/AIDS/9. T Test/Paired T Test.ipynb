{
 "cells": [
  {
   "cell_type": "code",
   "execution_count": null,
   "id": "8a8db17b-16e7-4292-b9ed-39f9930825ef",
   "metadata": {},
   "outputs": [],
   "source": [
    "import pandas as pd\n",
    "from scipy import stats\n",
    "import matplotlib.pyplot as plt\n",
    "import numpy as np\n",
    "import random"
   ]
  },
  {
   "cell_type": "code",
   "execution_count": null,
   "id": "0389bdbe-ceb5-43e4-8df4-e6a30b5c9027",
   "metadata": {},
   "outputs": [],
   "source": [
    "def paired_t_test(sample1, sample2, tail, alpha):\n",
    "    n = len(sample1) #both sample are of same size\n",
    "    d = [x - y for x, y in zip(sample1, sample2)]\n",
    "    d_mean = np.mean(d)\n",
    "    d_std = np.std(d, ddof = 1)\n",
    "    t = d_mean/(d_std/n**0.5)\n",
    "    df = n - 1\n",
    "\n",
    "    area = alpha/2 if tail == 'two' else alpha\n",
    "    critical = abs(stats.t.ppf(area, df))\n",
    "    \n",
    "    print(\"Critical Value =\",critical)\n",
    "    print(\"T Statistic =\",t)\n",
    "    if abs(t) > abs(critical):\n",
    "        print(\"Reject Null Hypothesis\")\n",
    "    else:\n",
    "        print(\"Accept Null Hypothesis\")\n",
    "\n",
    "    x = np.linspace(-4, 4, 1000)\n",
    "    y = stats.t.pdf(x, df)\n",
    "\n",
    "    plt.figure(figsize = (10, 6))\n",
    "    plt.plot(x, y, color = 'blue', label = 'T Distribution Curve')\n",
    "    plt.axvline(t, color = 'green', linestyle = '--', label = 'T Statistic')\n",
    "    \n",
    "    if tail == 'left':where = x < -critical\n",
    "    elif tail == 'right':where = x > critical\n",
    "    else:where = abs(x) > critical\n",
    "        \n",
    "    plt.fill_between(x, y, where = where, color = 'red', alpha = 0.5, label = 'Critical Region')\n",
    "    plt.xlabel('T Score')\n",
    "    plt.ylabel('Probability Distribution')\n",
    "    plt.title('Paired T Test')\n",
    "    plt.legend()\n",
    "    plt.show()"
   ]
  },
  {
   "cell_type": "markdown",
   "id": "b9318bf2-baea-41f9-befd-90ddf46069b4",
   "metadata": {},
   "source": [
    "<b>An IQ test was conducted on to 5 persons, before and after they are trained.\n",
    "Test whether there is any change in IQ after the training</b>"
   ]
  },
  {
   "cell_type": "code",
   "execution_count": null,
   "id": "f1cea9f6-c6de-4e9d-88cc-bacfac503675",
   "metadata": {},
   "outputs": [],
   "source": [
    "df = pd.read_csv('iq_test.csv')\n",
    "df.head()"
   ]
  },
  {
   "cell_type": "code",
   "execution_count": null,
   "id": "70b3a407-3a77-47ed-ad73-d30843f3f431",
   "metadata": {},
   "outputs": [],
   "source": [
    "before = df['IQ Before'].to_list()\n",
    "after = df['IQ After'].to_list()\n",
    "alpha = 0.05\n",
    "paired_t_test(before, after, 'left', alpha)\n",
    "paired_t_test(before, after, 'two', alpha)\n",
    "paired_t_test(before, after, 'right', alpha)"
   ]
  }
 ],
 "metadata": {
  "kernelspec": {
   "display_name": "Python 3 (ipykernel)",
   "language": "python",
   "name": "python3"
  },
  "language_info": {
   "codemirror_mode": {
    "name": "ipython",
    "version": 3
   },
   "file_extension": ".py",
   "mimetype": "text/x-python",
   "name": "python",
   "nbconvert_exporter": "python",
   "pygments_lexer": "ipython3",
   "version": "3.12.4"
  }
 },
 "nbformat": 4,
 "nbformat_minor": 5
}
