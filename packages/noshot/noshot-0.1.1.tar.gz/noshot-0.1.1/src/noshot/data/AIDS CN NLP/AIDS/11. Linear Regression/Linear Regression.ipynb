{
 "cells": [
  {
   "cell_type": "code",
   "execution_count": null,
   "id": "318b8eae-4e2f-48a6-aa70-270176eee584",
   "metadata": {},
   "outputs": [],
   "source": [
    "import numpy as np"
   ]
  },
  {
   "cell_type": "code",
   "execution_count": null,
   "id": "b93ed99b-696f-452b-9eda-123eedbc57d2",
   "metadata": {},
   "outputs": [],
   "source": [
    "x = [1, 2, 3, 4, 5]\n",
    "y = [2, 4, 5, 4, 5]\n",
    "mean_x = np.mean(x)\n",
    "mean_y = np.mean(y)\n",
    "print(x)\n",
    "print(y)"
   ]
  },
  {
   "cell_type": "code",
   "execution_count": null,
   "id": "c4b85b82-9962-4204-a134-1293c8b8ce64",
   "metadata": {},
   "outputs": [],
   "source": [
    "SS_x = [(x1 - mean_x)**2 for x1 in x]\n",
    "SS_y = [(y1 - mean_y)**2 for y1 in y]\n",
    "SS_x, SS_y"
   ]
  },
  {
   "cell_type": "code",
   "execution_count": null,
   "id": "381241c0-715d-4197-b449-5ed3598cbe8d",
   "metadata": {},
   "outputs": [],
   "source": [
    "product = [(x1 - mean_x)*(y1 - mean_y) for x1, y1 in zip(x, y)]\n",
    "print(product)"
   ]
  },
  {
   "cell_type": "code",
   "execution_count": null,
   "id": "68cdd29b-8e27-49db-8096-1296e3662efd",
   "metadata": {},
   "outputs": [],
   "source": [
    "b1 = sum(product)/sum(SS_x)\n",
    "b0 = mean_y - (b1*mean_x)\n",
    "def lnr_reg(x):\n",
    "    return b1*x + b0 #y = mx + c\n",
    "print(f\"B0: {b0} and B1: {b1}\")"
   ]
  },
  {
   "cell_type": "code",
   "execution_count": null,
   "id": "4cf0b80c-94c3-492d-b1bc-80ac6cb8d728",
   "metadata": {},
   "outputs": [],
   "source": [
    "y_cap = [(b0 + b1*x1) for x1 in x]#y = mx + c (m->b1, c->b0)\n",
    "print(y_cap)"
   ]
  },
  {
   "cell_type": "code",
   "execution_count": null,
   "id": "fbbeca29-6041-43b5-933c-8c921149eca4",
   "metadata": {},
   "outputs": [],
   "source": [
    "num = sum([(y1 - y2)**2 for y1, y2 in zip(y_cap, y)])\n",
    "num"
   ]
  },
  {
   "cell_type": "code",
   "execution_count": null,
   "id": "5206d776-9c8b-4b81-aa67-734e760a4ded",
   "metadata": {},
   "outputs": [],
   "source": [
    "SE = (num/(len(x) - 2))**0.5\n",
    "SE"
   ]
  },
  {
   "cell_type": "code",
   "execution_count": null,
   "id": "db1fd839-e12a-407a-9cd3-5deb707e7f1e",
   "metadata": {},
   "outputs": [],
   "source": [
    "if SE < 1:\n",
    "    print(\"Standard Error =\", SE, \"So Accept The Model\")\n",
    "else:\n",
    "    print(\"Standard Error =\", SE, \"So Reject The Model\")"
   ]
  },
  {
   "cell_type": "code",
   "execution_count": null,
   "id": "d0d21e07-e52f-4144-b3f9-4dfec2978caf",
   "metadata": {},
   "outputs": [],
   "source": [
    "#Finding y value for new value of x\n",
    "x_val = 6\n",
    "print(\"For x =\",x_val)\n",
    "print(f\"Linear Regression Equation: y = {b1:.2f}x + {b0:.2f}\")\n",
    "y_val = lnr_reg(x_val)\n",
    "print(\"y =\",y_val)"
   ]
  }
 ],
 "metadata": {
  "kernelspec": {
   "display_name": "Python 3 (ipykernel)",
   "language": "python",
   "name": "python3"
  },
  "language_info": {
   "codemirror_mode": {
    "name": "ipython",
    "version": 3
   },
   "file_extension": ".py",
   "mimetype": "text/x-python",
   "name": "python",
   "nbconvert_exporter": "python",
   "pygments_lexer": "ipython3",
   "version": "3.12.4"
  }
 },
 "nbformat": 4,
 "nbformat_minor": 5
}
