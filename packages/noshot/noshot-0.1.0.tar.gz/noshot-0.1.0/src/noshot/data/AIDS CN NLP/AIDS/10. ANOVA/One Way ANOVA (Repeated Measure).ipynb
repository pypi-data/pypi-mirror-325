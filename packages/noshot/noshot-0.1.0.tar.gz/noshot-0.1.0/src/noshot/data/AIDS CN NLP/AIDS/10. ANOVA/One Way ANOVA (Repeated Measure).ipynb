{
 "cells": [
  {
   "cell_type": "code",
   "execution_count": null,
   "id": "0c5491e5-16d7-48af-9c5c-4656cc870c22",
   "metadata": {},
   "outputs": [],
   "source": [
    "import pandas as pd\n",
    "import numpy as np\n",
    "import matplotlib.pyplot as plt\n",
    "import numpy as np\n",
    "from scipy import stats"
   ]
  },
  {
   "cell_type": "markdown",
   "id": "240a2de4-c0b4-4edc-a26c-c1eb5b688af3",
   "metadata": {},
   "source": [
    "<b>Does sleep deprivation cause us to be either more or less aggressie? To test\n",
    "    this assumption, a psychologist randomly assigns volunteer subjects to sleep-deprivation\n",
    "    periods of either 0, 24, or 48 hours (independent variable). Subsequently, subjects are tested\n",
    "    for agressive behaviour. Aggressioin scores (dependent variable) indicate the total number of \n",
    "    different agressive behaviour.\n",
    "</b>"
   ]
  },
  {
   "cell_type": "code",
   "execution_count": null,
   "id": "68731695-7b9e-4b8a-a7f1-5ccee8454842",
   "metadata": {},
   "outputs": [],
   "source": [
    "def ANOVA_REP(groups, alpha):\n",
    "    group_mean = [np.mean(group) for group in groups]\n",
    "    subject_mean = [np.mean(subject) for subject in zip(*groups)]\n",
    "    grand_mean = np.mean(group_mean)\n",
    "    k = len(groups)\n",
    "    N = sum([len(group) for group in groups])\n",
    "    SSB = sum( len(group) * (group_mean[i] - grand_mean)**2 \\\n",
    "                for i, group in enumerate(groups) )\n",
    "    SSW = sum( (x - group_mean[i])**2 \\\n",
    "                for i, group in enumerate(groups) for x in group )\n",
    "    SSS = sum( k * (subject_mean[i] - grand_mean)**2 \\\n",
    "                for i, group in enumerate(groups) )\n",
    "    SSE = SSW - SSS\n",
    "    dfb = k - 1\n",
    "    dfw = N - k\n",
    "    dfs = len(groups[0]) - 1\n",
    "    dfe = dfw - dfs\n",
    "    MSB = SSB/dfb\n",
    "    MSE = SSE/dfe\n",
    "    F = MSB/MSE\n",
    "    critical = stats.f.ppf(1-alpha, dfb, dfe)\n",
    "\n",
    "    print(\"Critical Value =\", critical)\n",
    "    print(\"F Statistic =\", F)\n",
    "    if F > critical: \n",
    "        print(\"Reject Null Hypothesis\")\n",
    "    else:\n",
    "        print(\"Accept Null Hypothesis\")\n",
    "\n",
    "    x = np.linspace(0, 50, 1000) #adjust as required\n",
    "    y = stats.f.pdf(x, dfb, dfe)\n",
    "    plt.figure(figsize = (10, 8)) #adjust if you need to\n",
    "    plt.plot(x, y, color = 'blue', label = 'F Distribution')\n",
    "    plt.axvline(x = F, color = 'green', linestyle = '--', label = 'F Statistic')\n",
    "    plt.fill_between(x, y, color = 'red', where = (x > critical), alpha = 0.5, label = 'Critical Region')\n",
    "\n",
    "    plt.xlabel('F Score')\n",
    "    plt.ylabel('Probability Density')\n",
    "    plt.title('One Way ANOVA (Repeated Measure) Test')\n",
    "    plt.legend()\n",
    "    plt.show()"
   ]
  },
  {
   "cell_type": "code",
   "execution_count": null,
   "id": "57dcb781-e81a-4f37-a900-6a8389480ddd",
   "metadata": {},
   "outputs": [],
   "source": [
    "df = pd.read_csv('sleep_deprivation.csv')\n",
    "df"
   ]
  },
  {
   "cell_type": "code",
   "execution_count": null,
   "id": "874682bf-61dc-460a-92e1-ef075a410398",
   "metadata": {},
   "outputs": [],
   "source": [
    "groups = [df['Zero'], df['Twenty_Four'], df['Forty_Eight']]\n",
    "groups = [list(x) for x in groups]\n",
    "alpha = 0.05\n",
    "ANOVA_REP(groups, alpha)"
   ]
  }
 ],
 "metadata": {
  "kernelspec": {
   "display_name": "Python 3 (ipykernel)",
   "language": "python",
   "name": "python3"
  },
  "language_info": {
   "codemirror_mode": {
    "name": "ipython",
    "version": 3
   },
   "file_extension": ".py",
   "mimetype": "text/x-python",
   "name": "python",
   "nbconvert_exporter": "python",
   "pygments_lexer": "ipython3",
   "version": "3.12.4"
  }
 },
 "nbformat": 4,
 "nbformat_minor": 5
}
