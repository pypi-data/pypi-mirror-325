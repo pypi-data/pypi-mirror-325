{
 "cells": [
  {
   "cell_type": "code",
   "execution_count": null,
   "id": "69fb26c3-ddd3-4f19-af31-e71b71c6dba1",
   "metadata": {},
   "outputs": [],
   "source": [
    "import matplotlib.pyplot as plt\n",
    "from sklearn.linear_model import LinearRegression\n",
    "import pandas as pd\n",
    "import numpy as np\n",
    "import seaborn as sns\n",
    "\n",
    "df = pd.read_csv('3_Linear.csv')\n",
    "print(df.shape)\n",
    "df.head()"
   ]
  },
  {
   "cell_type": "code",
   "execution_count": null,
   "id": "b414018b-1bb9-49f6-86bd-3f1865ff0943",
   "metadata": {},
   "outputs": [],
   "source": [
    "df.info()"
   ]
  },
  {
   "cell_type": "code",
   "execution_count": null,
   "id": "c969f072-ab85-471f-a15c-6575b336951a",
   "metadata": {},
   "outputs": [],
   "source": [
    "sns.pairplot(df, y_vars = ['PRICE'])"
   ]
  },
  {
   "cell_type": "code",
   "execution_count": null,
   "id": "22e5738a-f319-428a-94d5-224c8f87e493",
   "metadata": {},
   "outputs": [],
   "source": [
    "#df = df[df['PRICE'] <= df['PRICE'].quantile(0.9)]\n",
    "x = df['PROPERTYSQFT'].to_list()\n",
    "x = np.reshape(x, newshape = (-1,1))\n",
    "y = df['PRICE'].to_list()\n",
    "plt.scatter(x, y)"
   ]
  },
  {
   "cell_type": "code",
   "execution_count": null,
   "id": "7c0812fa-ecbf-466d-8d4b-cb3f0aeb8d69",
   "metadata": {},
   "outputs": [],
   "source": [
    "model = LinearRegression()\n",
    "model.fit(x, y)\n",
    "print(f\"Equation: y = {model.coef_}X + {model.intercept_}\")\n",
    "print(\"Precision =\",model.score(x,y))"
   ]
  },
  {
   "cell_type": "code",
   "execution_count": null,
   "id": "b06c5ce2-b4c5-4cb6-bd84-9d798d321ca2",
   "metadata": {},
   "outputs": [],
   "source": [
    "x_new = [[2000]]\n",
    "y_pred = model.predict(x_new)\n",
    "print(x_new, y_pred)"
   ]
  },
  {
   "cell_type": "code",
   "execution_count": null,
   "id": "8bf92c6c-9fa5-45f4-914b-63a66fef4319",
   "metadata": {},
   "outputs": [],
   "source": [
    "plt.scatter(x,y, marker = '.')\n",
    "plt.plot(x, model.predict(x), color = 'green')"
   ]
  }
 ],
 "metadata": {
  "kernelspec": {
   "display_name": "Python 3 (ipykernel)",
   "language": "python",
   "name": "python3"
  },
  "language_info": {
   "codemirror_mode": {
    "name": "ipython",
    "version": 3
   },
   "file_extension": ".py",
   "mimetype": "text/x-python",
   "name": "python",
   "nbconvert_exporter": "python",
   "pygments_lexer": "ipython3",
   "version": "3.12.4"
  }
 },
 "nbformat": 4,
 "nbformat_minor": 5
}
