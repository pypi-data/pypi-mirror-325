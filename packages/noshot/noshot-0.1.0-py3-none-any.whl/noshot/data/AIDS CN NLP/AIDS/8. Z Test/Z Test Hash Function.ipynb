{
 "cells": [
  {
   "cell_type": "code",
   "execution_count": null,
   "id": "f43264da-0303-4aef-9da7-de21df5c5c0a",
   "metadata": {},
   "outputs": [],
   "source": [
    "import pandas as pd\n",
    "import random\n",
    "from scipy import stats\n",
    "df = pd.read_csv('height_weight_bmi.csv')\n",
    "print(df.shape)\n",
    "df.head()"
   ]
  },
  {
   "cell_type": "code",
   "execution_count": null,
   "id": "c3bd6e36-e4a0-4aa3-981a-bc7b1762c980",
   "metadata": {},
   "outputs": [],
   "source": [
    "population = df['Standing Height (cm)'].to_list()\n",
    "population_mean = sum(population)/len(population)\n",
    "population[:10]"
   ]
  },
  {
   "cell_type": "code",
   "execution_count": null,
   "id": "5c7225f9-2f97-4745-92e9-7e9e258f521c",
   "metadata": {},
   "outputs": [],
   "source": [
    "hashed = []\n",
    "for x in population:\n",
    "    h = int(((x%3) + (x%5)*4)%len(population))\n",
    "    hashed.append(h)\n",
    "hashed[:10]"
   ]
  },
  {
   "cell_type": "code",
   "execution_count": null,
   "id": "2e06c8e2-f1c9-48b6-9cdc-aa25c1a03b9d",
   "metadata": {},
   "outputs": [],
   "source": [
    "sample_size = 10\n",
    "sample = [population[i] for i in random.choices(hashed, k = sample_size)]\n",
    "sample"
   ]
  },
  {
   "cell_type": "code",
   "execution_count": null,
   "id": "453e2b4e-dc20-4dc4-bd0b-244e1fa3c3bc",
   "metadata": {},
   "outputs": [],
   "source": [
    "sample_mean = sum(sample)/sample_size\n",
    "print(\"Population Mean:\",population_mean)\n",
    "print(\"Sample Mean:\",sample_mean)"
   ]
  },
  {
   "cell_type": "code",
   "execution_count": null,
   "id": "b38f69db-87ed-4849-abec-889da7de8a3b",
   "metadata": {},
   "outputs": [],
   "source": [
    "std = (sum([(x-sample_mean)**2 for x in sample])/(sample_size - 1))**0.5\n",
    "std"
   ]
  },
  {
   "cell_type": "code",
   "execution_count": null,
   "id": "70aa8b35-bdf1-44c0-9178-d8b663fd0d78",
   "metadata": {},
   "outputs": [],
   "source": [
    "t = (sample_mean - population_mean)/(std/(sample_size**0.5))\n",
    "print(\"T Statistic:\",t)"
   ]
  },
  {
   "cell_type": "code",
   "execution_count": null,
   "id": "fc8896a4-1a79-4f01-9f7b-3bbc85a4ecfb",
   "metadata": {},
   "outputs": [],
   "source": [
    "tail = 1 #1 left tail, 2 two tail, 3 right tail\n",
    "alpha = 0.2\n",
    "area = alpha/2 if tail == 2 else alpha\n",
    "critical = abs(stats.t.ppf(area, dof))\n",
    "print(\"Critical Value:\",critical)"
   ]
  },
  {
   "cell_type": "code",
   "execution_count": null,
   "id": "361b3b98-bce9-439e-bf06-9747f464c08a",
   "metadata": {},
   "outputs": [],
   "source": [
    "print(\"Z Statistic:\",t)\n",
    "print(\"Absolute |Critical Value|:\",critical)\n",
    "if abs(z) > critical:\n",
    "    print(\"Reject the null hypothesis.\")\n",
    "else:\n",
    "    print(\"Fail to reject the null hypothesis.\")"
   ]
  }
 ],
 "metadata": {
  "kernelspec": {
   "display_name": "Python 3 (ipykernel)",
   "language": "python",
   "name": "python3"
  },
  "language_info": {
   "codemirror_mode": {
    "name": "ipython",
    "version": 3
   },
   "file_extension": ".py",
   "mimetype": "text/x-python",
   "name": "python",
   "nbconvert_exporter": "python",
   "pygments_lexer": "ipython3",
   "version": "3.12.4"
  }
 },
 "nbformat": 4,
 "nbformat_minor": 5
}
