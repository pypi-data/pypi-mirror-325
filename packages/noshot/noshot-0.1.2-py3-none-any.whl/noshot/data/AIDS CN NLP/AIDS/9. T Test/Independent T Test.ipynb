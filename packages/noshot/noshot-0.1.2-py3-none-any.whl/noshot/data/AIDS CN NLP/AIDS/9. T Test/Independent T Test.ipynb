{
 "cells": [
  {
   "cell_type": "code",
   "execution_count": null,
   "id": "7d7be3e1-571a-4420-a6ed-eb3f7d4f4fdd",
   "metadata": {},
   "outputs": [],
   "source": [
    "import pandas as pd\n",
    "from scipy import stats\n",
    "import matplotlib.pyplot as plt\n",
    "import numpy as np\n",
    "import random"
   ]
  },
  {
   "cell_type": "code",
   "execution_count": null,
   "id": "c5ebd994-6c57-4c89-850d-2b01d539eb8d",
   "metadata": {},
   "outputs": [],
   "source": [
    "def independent_t_test(sample1, sample2, tail, alpha):\n",
    "    n1, mean1, std1 = len(sample1), np.mean(sample1), np.std(sample1, ddof = 1)\n",
    "    n2, mean2, std2 = len(sample2), np.mean(sample2), np.std(sample2, ddof = 1)\n",
    "    t = (mean1 - mean2)/np.sqrt(std1**2/n1 + std2**2/n2)\n",
    "    df = n1 + n2 - 2\n",
    "    area = alpha/2 if tail == 'two' else alpha\n",
    "    critical = abs(stats.t.ppf(area, df))\n",
    "    \n",
    "    print(\"Critical Value =\",critical)\n",
    "    print(\"T Statistic =\",t)\n",
    "    if abs(t) > abs(critical):\n",
    "        print(\"Reject Null Hypothesis\")\n",
    "    else:\n",
    "        print(\"Accept Null Hypothesis\")\n",
    "\n",
    "    x = np.linspace(-4, 4, 1000)\n",
    "    y = stats.t.pdf(x, df)\n",
    "\n",
    "    plt.figure(figsize = (10, 6))\n",
    "    plt.plot(x, y, color = 'blue', label = 'T Distribution Curve')\n",
    "    plt.axvline(t, color = 'green', linestyle = '--', label = 'T Statistic')\n",
    "    \n",
    "    if tail == 'left':where = x < -critical\n",
    "    elif tail == 'right':where = x > critical\n",
    "    else:where = abs(x) > critical\n",
    "        \n",
    "    plt.fill_between(x, y, where = where, color = 'red', alpha = 0.5, label = 'Critical Region')\n",
    "    plt.xlabel('T Score')\n",
    "    plt.ylabel('Probability Distribution')\n",
    "    plt.title('Independent Two Sample T Test')\n",
    "    plt.legend()\n",
    "    plt.show()"
   ]
  },
  {
   "cell_type": "markdown",
   "id": "b64e772b-efa8-41fb-8ae8-03cf793f386c",
   "metadata": {},
   "source": [
    "<b> Implement Random Sampling, Demonstrate T-test. Is there a significant difference in cholesterol levels between patients with heart disease and those without? (Significance value = 0.01) </b>"
   ]
  },
  {
   "cell_type": "code",
   "execution_count": null,
   "id": "7cb9fea6-1d9e-4570-85fd-f2b816902538",
   "metadata": {},
   "outputs": [],
   "source": [
    "df = pd.read_csv('1_heart.csv')\n",
    "print(df.shape)\n",
    "df.head()"
   ]
  },
  {
   "cell_type": "code",
   "execution_count": null,
   "id": "da89454d-37a5-4bf4-b25b-c34b35805251",
   "metadata": {},
   "outputs": [],
   "source": [
    "data = df[['chol', 'target']]\n",
    "with_heart_disease = data[data['target'] == 1]['chol'].to_list()\n",
    "without_heart_disease = data[data['target'] == 0]['chol'].to_list()\n",
    "\n",
    "sample1 = random.choices(with_heart_disease, k = 20)\n",
    "sample2 = random.choices(without_heart_disease, k = 20)\n",
    "alpha = 0.01\n",
    "independent_t_test(sample1, sample2, 'left', alpha)\n",
    "independent_t_test(sample1, sample2, 'two', alpha)\n",
    "independent_t_test(sample1, sample2, 'right', alpha)"
   ]
  }
 ],
 "metadata": {
  "kernelspec": {
   "display_name": "Python 3 (ipykernel)",
   "language": "python",
   "name": "python3"
  },
  "language_info": {
   "codemirror_mode": {
    "name": "ipython",
    "version": 3
   },
   "file_extension": ".py",
   "mimetype": "text/x-python",
   "name": "python",
   "nbconvert_exporter": "python",
   "pygments_lexer": "ipython3",
   "version": "3.12.4"
  }
 },
 "nbformat": 4,
 "nbformat_minor": 5
}
