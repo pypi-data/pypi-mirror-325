{
 "cells": [
  {
   "cell_type": "code",
   "execution_count": null,
   "id": "202c2b89-4640-4c92-9b71-468bb5344c52",
   "metadata": {},
   "outputs": [],
   "source": [
    "from sklearn.linear_model import LogisticRegression\n",
    "from sklearn import preprocessing\n",
    "import matplotlib.pyplot as plt\n",
    "import seaborn as sns\n",
    "import numpy as np"
   ]
  },
  {
   "cell_type": "code",
   "execution_count": null,
   "id": "89500d07-8550-44f8-b65f-250d75f4484a",
   "metadata": {},
   "outputs": [],
   "source": [
    "import pandas as pd\n",
    "data = pd.read_csv('default.csv')\n",
    "data = data.dropna()\n",
    "data.head()"
   ]
  },
  {
   "cell_type": "code",
   "execution_count": null,
   "id": "b686cff0-e3bc-4de3-9ea5-1ca38aef2568",
   "metadata": {},
   "outputs": [],
   "source": [
    "X = data['balance']\n",
    "Y = data['student']\n",
    "data.head()"
   ]
  },
  {
   "cell_type": "code",
   "execution_count": null,
   "id": "0432a397-bda3-4d60-98ae-8d727d3e0c4e",
   "metadata": {},
   "outputs": [],
   "source": [
    "catColumns = data.select_dtypes(['object']).columns\n",
    "le = preprocessing.LabelEncoder()\n",
    "\n",
    "for col in catColumns:\n",
    "    n = len(data[col].unique())\n",
    "    if (n > 2):\n",
    "       X = pd.get_dummies(data[col])\n",
    "       X = X.drop(X.columns[0], axis=1)\n",
    "       data[X.columns] = X\n",
    "       data.drop(col, axis=1, inplace=True)  # drop the original categorical variable (optional)\n",
    "    else:\n",
    "       le.fit(data[col])\n",
    "       data[col] = le.transform(data[col])"
   ]
  },
  {
   "cell_type": "code",
   "execution_count": null,
   "id": "1f17750f-229a-4d20-857b-2350a2937d94",
   "metadata": {
    "scrolled": true
   },
   "outputs": [],
   "source": [
    "model = LogisticRegression()\n",
    "model.fit(np.reshape(X, newshape = (-1,1)), Y)\n",
    "print(\"Coefficent =\",model.coef_)\n",
    "print(\"Constant(c) =\",model.intercept_)"
   ]
  },
  {
   "cell_type": "code",
   "execution_count": null,
   "id": "5e46fa9a-bed2-480f-b5b0-9ecfedcb6f0c",
   "metadata": {},
   "outputs": [],
   "source": [
    "x_new = [[10000]]\n",
    "y_pred = model.predict(x_new)\n",
    "print(\"Balance:\",x_new[0])\n",
    "Class = {1:'Yes', 0 : 'No'}\n",
    "print(\"Is He Student?:\", Class[y_pred[0]])"
   ]
  },
  {
   "cell_type": "code",
   "execution_count": null,
   "id": "d155d2d7-a269-4766-ade2-e3fa74c33c95",
   "metadata": {},
   "outputs": [],
   "source": [
    "sns.regplot(x = X, y = Y, data = data, logistic = True, ci = None,\n",
    "            marker = 'x', scatter_kws = {'color': 'orange'})\n",
    "plt.title(\"Logisitc Regression\")\n",
    "plt.show()"
   ]
  }
 ],
 "metadata": {
  "kernelspec": {
   "display_name": "Python 3 (ipykernel)",
   "language": "python",
   "name": "python3"
  },
  "language_info": {
   "codemirror_mode": {
    "name": "ipython",
    "version": 3
   },
   "file_extension": ".py",
   "mimetype": "text/x-python",
   "name": "python",
   "nbconvert_exporter": "python",
   "pygments_lexer": "ipython3",
   "version": "3.12.4"
  }
 },
 "nbformat": 4,
 "nbformat_minor": 5
}
