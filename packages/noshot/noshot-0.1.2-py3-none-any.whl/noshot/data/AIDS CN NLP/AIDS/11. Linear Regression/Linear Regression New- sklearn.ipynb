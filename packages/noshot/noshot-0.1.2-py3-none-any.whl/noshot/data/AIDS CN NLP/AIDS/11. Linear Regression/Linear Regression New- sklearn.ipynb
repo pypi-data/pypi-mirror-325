{
 "cells": [
  {
   "cell_type": "code",
   "execution_count": null,
   "id": "88872eef-23f7-49f7-97ba-a29c775e2174",
   "metadata": {},
   "outputs": [],
   "source": [
    "from sklearn.linear_model import LinearRegression\n",
    "import matplotlib.pyplot as plt\n",
    "import pandas as pd\n",
    "import numpy as np"
   ]
  },
  {
   "cell_type": "code",
   "execution_count": null,
   "id": "da5c81a7-ad6b-4c80-a584-90522fd94cb8",
   "metadata": {},
   "outputs": [],
   "source": [
    "data = pd.read_csv('house_rate.csv')\n",
    "data = data.dropna()\n",
    "data.head()"
   ]
  },
  {
   "cell_type": "code",
   "execution_count": null,
   "id": "fa002c5a-6fb3-4360-8d7e-610c8c921984",
   "metadata": {},
   "outputs": [],
   "source": [
    "X = data['House Size(sqft)'].to_list()\n",
    "X = np.reshape(X, newshape = (-1,1))\n",
    "Y = data['Price($)'].to_list()"
   ]
  },
  {
   "cell_type": "code",
   "execution_count": null,
   "id": "d886cc55-92b9-413a-9889-61b564018c10",
   "metadata": {},
   "outputs": [],
   "source": [
    "plt.scatter(X, Y, color = 'red')\n",
    "plt.xlabel('Size (sq ft)')\n",
    "plt.ylabel('Price ($)')\n",
    "plt.title('Size vs Price of Houses')\n",
    "plt.show()"
   ]
  },
  {
   "cell_type": "code",
   "execution_count": null,
   "id": "4283f26b-e48f-461e-9f0d-e8cc8610172a",
   "metadata": {},
   "outputs": [],
   "source": [
    "model = LinearRegression()\n",
    "model.fit(X, Y)\n",
    "print(\"Slopes(m) =\",model.coef_)\n",
    "print(\"Constant(c) =\",model.intercept_)\n",
    "print(\"Linear Equation: y = mx + c\")\n",
    "print(f\"y = {model.coef_}x + {model.intercept_}\")"
   ]
  },
  {
   "cell_type": "code",
   "execution_count": null,
   "id": "8b6b4208-94cb-48b3-8ce8-19971c9bb4af",
   "metadata": {},
   "outputs": [],
   "source": [
    "x_new = [[600]]\n",
    "y_pred = model.predict(x_new)\n",
    "print(\"Independent Variables:\",x_new)\n",
    "print(\"Dependent Variable:\",y_pred)"
   ]
  },
  {
   "cell_type": "code",
   "execution_count": null,
   "id": "728c8310-f244-421a-a453-60142b83307f",
   "metadata": {},
   "outputs": [],
   "source": [
    "plt.scatter(X, Y, color = 'red', label = 'Actual')\n",
    "plt.plot(X, model.predict(X), color = 'green', label = 'Predicted')\n",
    "plt.legend()\n",
    "plt.title(\"Linear Regression\")\n",
    "plt.show()"
   ]
  }
 ],
 "metadata": {
  "kernelspec": {
   "display_name": "Python 3 (ipykernel)",
   "language": "python",
   "name": "python3"
  },
  "language_info": {
   "codemirror_mode": {
    "name": "ipython",
    "version": 3
   },
   "file_extension": ".py",
   "mimetype": "text/x-python",
   "name": "python",
   "nbconvert_exporter": "python",
   "pygments_lexer": "ipython3",
   "version": "3.12.4"
  }
 },
 "nbformat": 4,
 "nbformat_minor": 5
}
