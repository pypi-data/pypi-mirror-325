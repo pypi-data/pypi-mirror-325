{
 "cells": [
  {
   "cell_type": "code",
   "execution_count": null,
   "id": "c96adcb7-b9d3-444a-ab9e-b8a191af58a1",
   "metadata": {},
   "outputs": [],
   "source": [
    "import numpy as np\n",
    "import matplotlib.pyplot as plt\n",
    "from scipy import stats\n",
    "import pandas as pd"
   ]
  },
  {
   "cell_type": "code",
   "execution_count": null,
   "id": "960be4dd-22a3-45e7-8f75-680209a6513d",
   "metadata": {},
   "outputs": [],
   "source": [
    "def show_curve(F_statistic, critical_value, df_between, df_within):\n",
    "    x = np.linspace(0, 12, 1000)  # Range for F-distribution\n",
    "    y = stats.f.pdf(x, df_between, df_within)  # PDF of F-distribution\n",
    "    plt.figure(figsize=(10, 6))\n",
    "    plt.plot(x, y, label='F-distribution', color='blue')\n",
    "\n",
    "    # Shade the critical region\n",
    "    plt.fill_between(x, y, where=(x > critical_value), color='red', alpha=0.5, label='Critical Region')\n",
    "    \n",
    "    # Draw the F-statistic line\n",
    "    plt.axvline(F_statistic, color='orange', linestyle='--', label='F-statistic')\n",
    "    \n",
    "    plt.title('ANOVA: F-Distribution and Critical Region')\n",
    "    plt.xlabel('F Value')\n",
    "    plt.ylabel('Probability Density')\n",
    "    plt.legend()\n",
    "    plt.grid()\n",
    "    plt.xlim(0, 12)  # Adjust x-axis limits\n",
    "    plt.ylim(0, max(y) * 1.1)  # Adjust y-axis limits for better visibility\n",
    "    plt.show()"
   ]
  },
  {
   "cell_type": "code",
   "execution_count": null,
   "id": "409dfa77-3937-4b66-a8be-5dcb1960e6a4",
   "metadata": {},
   "outputs": [],
   "source": [
    "# Step 1: Load the dataset\n",
    "file_path = 'sample_data.csv'  # Replace with the path to your CSV file\n",
    "df = pd.read_csv(file_path)\n",
    "df = df.dropna()\n",
    "# Assume 'School' is the categorical column and 'Values' is the numerical column.\n",
    "# Step 2: Group the data by 'School' and calculate means\n",
    "groups = df.groupby('School')['Values']\n",
    "group_means = groups.mean()\n",
    "overall_mean = df['Values'].mean()\n",
    "\n",
    "# Step 3: Calculate SSB (Sum of Squares Between)\n",
    "SSB = sum(groups.size()[group] * (group_mean - overall_mean) ** 2 \n",
    "           for group, group_mean in group_means.items())\n",
    "\n",
    "# Step 4: Calculate SSW (Sum of Squares Within)\n",
    "SSW = sum(((group_data - group_means[group_name]) ** 2).sum() \n",
    "           for group_name, group_data in groups)\n",
    "\n",
    "# Step 5: Degrees of freedom\n",
    "df_between = len(group_means) - 1  # k - 1\n",
    "df_within = len(df) - len(group_means)  # N - k\n",
    "\n",
    "# Step 6: Calculate MSB and MSW\n",
    "MSB = SSB / df_between\n",
    "MSW = SSW / df_within\n",
    "\n",
    "# Step 7: Calculate the F-statistic\n",
    "F_statistic = MSB / MSW\n",
    "\n",
    "# Step 8: Determine the critical F-value from the F-distribution table\n",
    "alpha = 0.05  # Significance level\n",
    "critical_value = stats.f.ppf(1 - alpha, df_between, df_within)\n",
    "\n",
    "# Step 9: Print results\n",
    "print(f\"F-statistic: {F_statistic:.2f}\")\n",
    "print(f\"Critical F-value: {critical_value:.2f}\")\n",
    "\n",
    "show_curve(F_statistic, critical_value, df_between, df_within)\n",
    "# Step 10: Decision - Reject or Fail to Reject Null Hypothesis\n",
    "if F_statistic > critical_value:\n",
    "    print(\"Reject the null hypothesis (There is a significant difference between group means).\")\n",
    "else:\n",
    "    print(\"Fail to reject the null hypothesis (No significant difference between group means).\")"
   ]
  }
 ],
 "metadata": {
  "kernelspec": {
   "display_name": "Python 3 (ipykernel)",
   "language": "python",
   "name": "python3"
  },
  "language_info": {
   "codemirror_mode": {
    "name": "ipython",
    "version": 3
   },
   "file_extension": ".py",
   "mimetype": "text/x-python",
   "name": "python",
   "nbconvert_exporter": "python",
   "pygments_lexer": "ipython3",
   "version": "3.12.4"
  }
 },
 "nbformat": 4,
 "nbformat_minor": 5
}
