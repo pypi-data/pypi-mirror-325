{
 "cells": [
  {
   "cell_type": "code",
   "execution_count": null,
   "id": "0fcaaf6e-3185-4a2f-b4e9-f2f295b1c88d",
   "metadata": {},
   "outputs": [],
   "source": [
    "import pandas as pd\n",
    "import numpy as np\n",
    "import random\n",
    "import matplotlib.pyplot as plt\n",
    "from scipy import stats"
   ]
  },
  {
   "cell_type": "code",
   "execution_count": null,
   "id": "ba7494c2-fc54-4fb1-b5de-28bc61904c23",
   "metadata": {},
   "outputs": [],
   "source": [
    "def ANOVA(groups, alpha):\n",
    "    group_mean = [np.mean(group) for group in groups]\n",
    "    grand_mean = np.mean(group_mean)\n",
    "    k = len(groups)\n",
    "    N = sum([len(group) for group in groups])\n",
    "    SSB = sum( len(group) * (group_mean[i] - grand_mean)**2 \\\n",
    "                for i, group in enumerate(groups) )\n",
    "    SSW = sum( (x - group_mean[i])**2 \\\n",
    "                for i, group in enumerate(groups) for x in group )\n",
    "    dfb = k - 1\n",
    "    dfw = N - k\n",
    "    MSB = SSB/dfb\n",
    "    MSW = SSW/dfw\n",
    "    F = MSB/MSW\n",
    "    critical = stats.f.ppf(1-alpha, dfb, dfw)\n",
    "\n",
    "    print(\"Critical Value =\", critical)\n",
    "    print(\"F Statistic =\", F)\n",
    "    if F > critical: \n",
    "        print(\"Reject Null Hypothesis\")\n",
    "    else:\n",
    "        print(\"Accept Null Hypothesis\")\n",
    "\n",
    "    x = np.linspace(0, 6, 1000)\n",
    "    y = stats.f.pdf(x, dfb, dfw)\n",
    "    plt.figure(figsize = (10, 6))\n",
    "    plt.plot(x, y, color = 'blue', label = 'F Distribution')\n",
    "    plt.axvline(x = F, color = 'green', linestyle = '--', label = 'F Statistic')\n",
    "    plt.fill_between(x, y, color = 'red', where = (x > critical), alpha = 0.5, label = 'Critical Region')\n",
    "\n",
    "    plt.xlabel('F Score')\n",
    "    plt.ylabel('Probability Density')\n",
    "    plt.title('One Way ANOVA Test')\n",
    "    plt.legend()\n",
    "    plt.show()"
   ]
  },
  {
   "cell_type": "markdown",
   "id": "b9460934-9472-4cea-b804-258f6cd5fa33",
   "metadata": {},
   "source": [
    "<b>Implement Random Sampling, Demonstrate ANOVA. \n",
    "Is there a significant difference in the DiabetesPedigreeFunction levels between young adults (20-30), middle-aged adults (31-50), and older adults (50+) diagnosed with diabetes?\n",
    "</b>"
   ]
  },
  {
   "cell_type": "code",
   "execution_count": null,
   "id": "0bd5d561-99d0-4e2a-8146-a86140809a07",
   "metadata": {},
   "outputs": [],
   "source": [
    "df = pd.read_csv('2_ANOVA.csv')\n",
    "print(df.shape)\n",
    "df.head()"
   ]
  },
  {
   "cell_type": "code",
   "execution_count": null,
   "id": "7dfab0a1-f7eb-4b98-80a7-8c916634006f",
   "metadata": {},
   "outputs": [],
   "source": [
    "def categorize(age):\n",
    "    if 20 <= age <= 30: return \"young\"\n",
    "    elif 30 < age <= 50: return \"middle-aged\"\n",
    "    elif 50 < age: return \"old\"\n",
    "\n",
    "df['Age_Category'] = df['Age'].apply(categorize)\n",
    "df[['DiabetesPedigreeFunction', 'Age', 'Age_Category']].head(10)"
   ]
  },
  {
   "cell_type": "code",
   "execution_count": null,
   "id": "ac1d0667-cde4-4d91-af95-8e50e1b155c8",
   "metadata": {},
   "outputs": [],
   "source": [
    "groups = df.groupby('Age_Category')['DiabetesPedigreeFunction'].apply(list)\n",
    "groups = [random.choices(group, k = 50) for group in groups]\n",
    "alpha = 0.05\n",
    "ANOVA(groups, alpha)"
   ]
  }
 ],
 "metadata": {
  "kernelspec": {
   "display_name": "Python 3 (ipykernel)",
   "language": "python",
   "name": "python3"
  },
  "language_info": {
   "codemirror_mode": {
    "name": "ipython",
    "version": 3
   },
   "file_extension": ".py",
   "mimetype": "text/x-python",
   "name": "python",
   "nbconvert_exporter": "python",
   "pygments_lexer": "ipython3",
   "version": "3.12.4"
  }
 },
 "nbformat": 4,
 "nbformat_minor": 5
}
