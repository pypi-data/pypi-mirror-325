{
 "cells": [
  {
   "cell_type": "code",
   "execution_count": null,
   "id": "654df529-d319-4019-aa07-67ebb8029b15",
   "metadata": {},
   "outputs": [],
   "source": [
    "import numpy as np\n",
    "import pandas as pd\n",
    "import matplotlib.pyplot as plt\n",
    "\n",
    "file_path = 'height_weight_bmi.csv'\n",
    "data = pd.read_csv(file_path)\n",
    "\n",
    "df = pd.DataFrame(data).iloc[:20]\n",
    "height = df[\"Standing Height (cm)\"].values\n",
    "\n",
    "sample_size = 10  # Desired sample size\n",
    "random_sample_no_replacement = np.random.choice(height, size=sample_size, replace=False)  # No replacement\n",
    "random_sample_with_replacement = np.random.choice(height, size=sample_size, replace=True)  # With replacement\n",
    "\n",
    "fig, axs = plt.subplots(3, 1, figsize=(8, 15))\n",
    "\n",
    "# Plot the original height data\n",
    "axs[0].bar(df.index, height, color='skyblue')\n",
    "axs[0].set_title('Original Standing Height Data')\n",
    "axs[0].set_xlabel('Index')\n",
    "axs[0].set_ylabel('Height (cm)')\n",
    "axs[0].grid(axis='y')\n",
    "\n",
    "# Plot the random sample without replacement\n",
    "axs[1].bar(np.arange(sample_size), random_sample_no_replacement, color='orange')\n",
    "axs[1].set_title('Random Sample of Standing Height (No Replacement)')\n",
    "axs[1].set_xlabel('Sample Index')\n",
    "axs[1].set_ylabel('Height (cm)')\n",
    "axs[1].grid(axis='y')\n",
    "\n",
    "# Plot the random sample with replacement\n",
    "axs[2].bar(np.arange(sample_size), random_sample_with_replacement, color='green')\n",
    "axs[2].set_title('Random Sample of Standing Height (With Replacement)')\n",
    "axs[2].set_xlabel('Sample Index')\n",
    "axs[2].set_ylabel('Height (cm)')\n",
    "axs[2].grid(axis='y')\n",
    "\n",
    "plt.tight_layout()\n",
    "plt.show()"
   ]
  }
 ],
 "metadata": {
  "kernelspec": {
   "display_name": "Python 3 (ipykernel)",
   "language": "python",
   "name": "python3"
  },
  "language_info": {
   "codemirror_mode": {
    "name": "ipython",
    "version": 3
   },
   "file_extension": ".py",
   "mimetype": "text/x-python",
   "name": "python",
   "nbconvert_exporter": "python",
   "pygments_lexer": "ipython3",
   "version": "3.12.4"
  }
 },
 "nbformat": 4,
 "nbformat_minor": 5
}
