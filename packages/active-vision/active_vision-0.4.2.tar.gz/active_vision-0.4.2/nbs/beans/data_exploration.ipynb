{
 "cells": [
  {
   "cell_type": "code",
   "execution_count": 1,
   "metadata": {},
   "outputs": [],
   "source": [
    "from datasets import load_dataset\n",
    "\n",
    "dataset = load_dataset(\"AI-Lab-Makerere/beans\")\n"
   ]
  },
  {
   "cell_type": "code",
   "execution_count": 2,
   "metadata": {},
   "outputs": [
    {
     "data": {
      "text/plain": [
       "DatasetDict({\n",
       "    train: Dataset({\n",
       "        features: ['image_file_path', 'image', 'labels'],\n",
       "        num_rows: 1034\n",
       "    })\n",
       "    validation: Dataset({\n",
       "        features: ['image_file_path', 'image', 'labels'],\n",
       "        num_rows: 133\n",
       "    })\n",
       "    test: Dataset({\n",
       "        features: ['image_file_path', 'image', 'labels'],\n",
       "        num_rows: 128\n",
       "    })\n",
       "})"
      ]
     },
     "execution_count": 2,
     "metadata": {},
     "output_type": "execute_result"
    }
   ],
   "source": [
    "dataset"
   ]
  },
  {
   "cell_type": "markdown",
   "metadata": {},
   "source": [
    "## Save Dataset Into a Local Directory"
   ]
  },
  {
   "cell_type": "code",
   "execution_count": 3,
   "metadata": {},
   "outputs": [
    {
     "name": "stderr",
     "output_type": "stream",
     "text": [
      "Parameter 'function'=<function save_image at 0x7cbfa8d6b560> of the transform datasets.arrow_dataset.Dataset._map_single couldn't be hashed properly, a random hash was used instead. Make sure your transforms and parameters are serializable with pickle or dill for the dataset fingerprinting and caching to work. If you reuse this transform, the caching mechanism will consider it to be different from the previous calls and recompute everything. This warning is only showed once. Subsequent hashing failures won't be showed.\n"
     ]
    },
    {
     "data": {
      "application/vnd.jupyter.widget-view+json": {
       "model_id": "34341c6636aa4137aaade5aad00dcb47",
       "version_major": 2,
       "version_minor": 0
      },
      "text/plain": [
       "Saving evaluation images (num_proc=8):   0%|          | 0/128 [00:00<?, ? examples/s]"
      ]
     },
     "metadata": {},
     "output_type": "display_data"
    },
    {
     "data": {
      "application/vnd.jupyter.widget-view+json": {
       "model_id": "7a2d08dcae304dcaadcf67d603932174",
       "version_major": 2,
       "version_minor": 0
      },
      "text/plain": [
       "Saving unlabeled images (num_proc=8):   0%|          | 0/1034 [00:00<?, ? examples/s]"
      ]
     },
     "metadata": {},
     "output_type": "display_data"
    }
   ],
   "source": [
    "from pathlib import Path\n",
    "from loguru import logger\n",
    "from datasets import DatasetDict\n",
    "from PIL import Image\n",
    "\n",
    "SAVE_DIR = Path(\"data/beans\")\n",
    "NUM_PROC = 8  \n",
    "CLASS_NAMES = dataset['train'].features['labels'].names\n",
    "\n",
    "def save_image(example, idx):\n",
    "    \"\"\"Save a dataset image to disk with error handling and add label name.\n",
    "    \n",
    "    Args:\n",
    "        example (dict): Dataset example containing 'image' and 'label'\n",
    "        idx (int): Index of the example\n",
    "        \n",
    "    Returns:\n",
    "        dict: Dictionary containing the saved filepath and label_name\n",
    "    \"\"\"\n",
    "    try:\n",
    "        image = example['image']\n",
    "        label_id = example.get('labels')  # Get label if it exists \n",
    "        image_path = example.get('image_file_path')\n",
    "        image_id = image_path.split('/')[-1]\n",
    "        image_id = image_id.split('.jpg')[0]\n",
    "        # Convert RGBA to RGB if necessary\n",
    "        if image.mode == 'RGBA':\n",
    "            # Create a white background\n",
    "            background = Image.new('RGB', image.size, (255, 255, 255))\n",
    "            # Paste the image using alpha channel as mask\n",
    "            background.paste(image, mask=image.split()[3])\n",
    "            image = background\n",
    "        \n",
    "        # Get label name if label exists\n",
    "        label_name = CLASS_NAMES[label_id] if label_id is not None else None\n",
    "        \n",
    "        # Create directory structure\n",
    "        label_dir = SAVE_DIR / str(label_id if label_id is not None else 'unlabeled')\n",
    "        label_dir.mkdir(parents=True, exist_ok=True)\n",
    "        \n",
    "        # Create filename with label subdirectory\n",
    "        filepath = label_dir / f\"{image_id}.jpg\"\n",
    "        \n",
    "        # Save with quality optimization\n",
    "        image.save(filepath, \"JPEG\", quality=95, optimize=True)\n",
    "        \n",
    "        return {\n",
    "            \"filepath\": str(filepath),\n",
    "            \"label_name\": label_name\n",
    "        }\n",
    "    \n",
    "    except Exception as e:\n",
    "        logger.error(f\"Error saving image {idx}: {str(e)}\")\n",
    "        return {\n",
    "            \"filepath\": None,\n",
    "            \"label_name\": None\n",
    "        }\n",
    "\n",
    "active_learning_dataset = DatasetDict()\n",
    "\n",
    "active_learning_dataset['evaluation'] = dataset['test'].map(\n",
    "    save_image,\n",
    "    with_indices=True,\n",
    "    num_proc=NUM_PROC,\n",
    "    desc=\"Saving evaluation images\",\n",
    "    remove_columns=[\"image_file_path\", \"labels\"]\n",
    ")\n",
    "\n",
    "active_learning_dataset['unlabeled'] = dataset['train'].map(\n",
    "    save_image,\n",
    "    with_indices=True,\n",
    "    num_proc=NUM_PROC,\n",
    "    desc=\"Saving unlabeled images\",\n",
    "    remove_columns=[\"image_file_path\", \"labels\"]\n",
    ")"
   ]
  },
  {
   "cell_type": "markdown",
   "metadata": {},
   "source": [
    "## Make Initial Dataset"
   ]
  },
  {
   "cell_type": "code",
   "execution_count": 4,
   "metadata": {},
   "outputs": [
    {
     "name": "stdout",
     "output_type": "stream",
     "text": [
      "Total samples: 30\n",
      "\n",
      "Samples per class:\n",
      "label_name       \n",
      "angular_leaf_spot    10\n",
      "bean_rust            10\n",
      "healthy              10\n",
      "Name: count, dtype: int64\n"
     ]
    }
   ],
   "source": [
    "import numpy as np\n",
    "\n",
    "unique_labels = active_learning_dataset[\"unlabeled\"].unique(\"label_name\")\n",
    "samples = []\n",
    "n_samples_per_class = 10\n",
    "\n",
    "for label in unique_labels:\n",
    "    label_indices = np.where(np.array(active_learning_dataset[\"unlabeled\"][\"label_name\"]) == label)[0]\n",
    "    # Sample 10 random indices without replacement\n",
    "    random_indices = np.random.choice(\n",
    "        label_indices, size=n_samples_per_class, replace=False\n",
    "    )\n",
    "    samples.extend(random_indices)\n",
    "\n",
    "initial_samples = active_learning_dataset[\"unlabeled\"].select(samples)\n",
    "\n",
    "# Verify the result (should show 100 rows total, 10 per class)\n",
    "print(f\"Total samples: {len(initial_samples)}\")\n",
    "print(\"\\nSamples per class:\")\n",
    "print(initial_samples.select_columns([\"label_name\"]).to_pandas().value_counts())"
   ]
  },
  {
   "cell_type": "code",
   "execution_count": 5,
   "metadata": {},
   "outputs": [
    {
     "data": {
      "text/plain": [
       "Dataset({\n",
       "    features: ['image', 'filepath', 'label_name'],\n",
       "    num_rows: 30\n",
       "})"
      ]
     },
     "execution_count": 5,
     "metadata": {},
     "output_type": "execute_result"
    }
   ],
   "source": [
    "initial_samples"
   ]
  },
  {
   "cell_type": "code",
   "execution_count": 6,
   "metadata": {},
   "outputs": [
    {
     "data": {
      "text/plain": [
       "{'image': <PIL.JpegImagePlugin.JpegImageFile image mode=RGB size=500x500>,\n",
       " 'filepath': 'data/beans/0/angular_leaf_spot_train.240.jpg',\n",
       " 'label_name': 'angular_leaf_spot'}"
      ]
     },
     "execution_count": 6,
     "metadata": {},
     "output_type": "execute_result"
    }
   ],
   "source": [
    "initial_samples[0]"
   ]
  },
  {
   "cell_type": "code",
   "execution_count": 7,
   "metadata": {},
   "outputs": [
    {
     "data": {
      "text/html": [
       "<div>\n",
       "<style scoped>\n",
       "    .dataframe tbody tr th:only-of-type {\n",
       "        vertical-align: middle;\n",
       "    }\n",
       "\n",
       "    .dataframe tbody tr th {\n",
       "        vertical-align: top;\n",
       "    }\n",
       "\n",
       "    .dataframe thead th {\n",
       "        text-align: right;\n",
       "    }\n",
       "</style>\n",
       "<table border=\"1\" class=\"dataframe\">\n",
       "  <thead>\n",
       "    <tr style=\"text-align: right;\">\n",
       "      <th></th>\n",
       "      <th>filepath</th>\n",
       "      <th>label</th>\n",
       "    </tr>\n",
       "  </thead>\n",
       "  <tbody>\n",
       "    <tr>\n",
       "      <th>0</th>\n",
       "      <td>data/beans/0/angular_leaf_spot_train.240.jpg</td>\n",
       "      <td>angular_leaf_spot</td>\n",
       "    </tr>\n",
       "    <tr>\n",
       "      <th>1</th>\n",
       "      <td>data/beans/0/angular_leaf_spot_train.219.jpg</td>\n",
       "      <td>angular_leaf_spot</td>\n",
       "    </tr>\n",
       "    <tr>\n",
       "      <th>2</th>\n",
       "      <td>data/beans/0/angular_leaf_spot_train.239.jpg</td>\n",
       "      <td>angular_leaf_spot</td>\n",
       "    </tr>\n",
       "    <tr>\n",
       "      <th>3</th>\n",
       "      <td>data/beans/0/angular_leaf_spot_train.338.jpg</td>\n",
       "      <td>angular_leaf_spot</td>\n",
       "    </tr>\n",
       "    <tr>\n",
       "      <th>4</th>\n",
       "      <td>data/beans/0/angular_leaf_spot_train.274.jpg</td>\n",
       "      <td>angular_leaf_spot</td>\n",
       "    </tr>\n",
       "    <tr>\n",
       "      <th>5</th>\n",
       "      <td>data/beans/0/angular_leaf_spot_train.35.jpg</td>\n",
       "      <td>angular_leaf_spot</td>\n",
       "    </tr>\n",
       "    <tr>\n",
       "      <th>6</th>\n",
       "      <td>data/beans/0/angular_leaf_spot_train.14.jpg</td>\n",
       "      <td>angular_leaf_spot</td>\n",
       "    </tr>\n",
       "    <tr>\n",
       "      <th>7</th>\n",
       "      <td>data/beans/0/angular_leaf_spot_train.232.jpg</td>\n",
       "      <td>angular_leaf_spot</td>\n",
       "    </tr>\n",
       "    <tr>\n",
       "      <th>8</th>\n",
       "      <td>data/beans/0/angular_leaf_spot_train.319.jpg</td>\n",
       "      <td>angular_leaf_spot</td>\n",
       "    </tr>\n",
       "    <tr>\n",
       "      <th>9</th>\n",
       "      <td>data/beans/0/angular_leaf_spot_train.16.jpg</td>\n",
       "      <td>angular_leaf_spot</td>\n",
       "    </tr>\n",
       "    <tr>\n",
       "      <th>10</th>\n",
       "      <td>data/beans/1/bean_rust_train.324.jpg</td>\n",
       "      <td>bean_rust</td>\n",
       "    </tr>\n",
       "    <tr>\n",
       "      <th>11</th>\n",
       "      <td>data/beans/1/bean_rust_train.56.jpg</td>\n",
       "      <td>bean_rust</td>\n",
       "    </tr>\n",
       "    <tr>\n",
       "      <th>12</th>\n",
       "      <td>data/beans/1/bean_rust_train.310.jpg</td>\n",
       "      <td>bean_rust</td>\n",
       "    </tr>\n",
       "    <tr>\n",
       "      <th>13</th>\n",
       "      <td>data/beans/1/bean_rust_train.178.jpg</td>\n",
       "      <td>bean_rust</td>\n",
       "    </tr>\n",
       "    <tr>\n",
       "      <th>14</th>\n",
       "      <td>data/beans/1/bean_rust_train.134.jpg</td>\n",
       "      <td>bean_rust</td>\n",
       "    </tr>\n",
       "    <tr>\n",
       "      <th>15</th>\n",
       "      <td>data/beans/1/bean_rust_train.281.jpg</td>\n",
       "      <td>bean_rust</td>\n",
       "    </tr>\n",
       "    <tr>\n",
       "      <th>16</th>\n",
       "      <td>data/beans/1/bean_rust_train.54.jpg</td>\n",
       "      <td>bean_rust</td>\n",
       "    </tr>\n",
       "    <tr>\n",
       "      <th>17</th>\n",
       "      <td>data/beans/1/bean_rust_train.273.jpg</td>\n",
       "      <td>bean_rust</td>\n",
       "    </tr>\n",
       "    <tr>\n",
       "      <th>18</th>\n",
       "      <td>data/beans/1/bean_rust_train.88.jpg</td>\n",
       "      <td>bean_rust</td>\n",
       "    </tr>\n",
       "    <tr>\n",
       "      <th>19</th>\n",
       "      <td>data/beans/1/bean_rust_train.341.jpg</td>\n",
       "      <td>bean_rust</td>\n",
       "    </tr>\n",
       "    <tr>\n",
       "      <th>20</th>\n",
       "      <td>data/beans/2/healthy_train.159.jpg</td>\n",
       "      <td>healthy</td>\n",
       "    </tr>\n",
       "    <tr>\n",
       "      <th>21</th>\n",
       "      <td>data/beans/2/healthy_train.176.jpg</td>\n",
       "      <td>healthy</td>\n",
       "    </tr>\n",
       "    <tr>\n",
       "      <th>22</th>\n",
       "      <td>data/beans/2/healthy_train.58.jpg</td>\n",
       "      <td>healthy</td>\n",
       "    </tr>\n",
       "    <tr>\n",
       "      <th>23</th>\n",
       "      <td>data/beans/2/healthy_train.173.jpg</td>\n",
       "      <td>healthy</td>\n",
       "    </tr>\n",
       "    <tr>\n",
       "      <th>24</th>\n",
       "      <td>data/beans/2/healthy_train.184.jpg</td>\n",
       "      <td>healthy</td>\n",
       "    </tr>\n",
       "    <tr>\n",
       "      <th>25</th>\n",
       "      <td>data/beans/2/healthy_train.197.jpg</td>\n",
       "      <td>healthy</td>\n",
       "    </tr>\n",
       "    <tr>\n",
       "      <th>26</th>\n",
       "      <td>data/beans/2/healthy_train.43.jpg</td>\n",
       "      <td>healthy</td>\n",
       "    </tr>\n",
       "    <tr>\n",
       "      <th>27</th>\n",
       "      <td>data/beans/2/healthy_train.220.jpg</td>\n",
       "      <td>healthy</td>\n",
       "    </tr>\n",
       "    <tr>\n",
       "      <th>28</th>\n",
       "      <td>data/beans/2/healthy_train.218.jpg</td>\n",
       "      <td>healthy</td>\n",
       "    </tr>\n",
       "    <tr>\n",
       "      <th>29</th>\n",
       "      <td>data/beans/2/healthy_train.66.jpg</td>\n",
       "      <td>healthy</td>\n",
       "    </tr>\n",
       "  </tbody>\n",
       "</table>\n",
       "</div>"
      ],
      "text/plain": [
       "                                        filepath              label\n",
       "0   data/beans/0/angular_leaf_spot_train.240.jpg  angular_leaf_spot\n",
       "1   data/beans/0/angular_leaf_spot_train.219.jpg  angular_leaf_spot\n",
       "2   data/beans/0/angular_leaf_spot_train.239.jpg  angular_leaf_spot\n",
       "3   data/beans/0/angular_leaf_spot_train.338.jpg  angular_leaf_spot\n",
       "4   data/beans/0/angular_leaf_spot_train.274.jpg  angular_leaf_spot\n",
       "5    data/beans/0/angular_leaf_spot_train.35.jpg  angular_leaf_spot\n",
       "6    data/beans/0/angular_leaf_spot_train.14.jpg  angular_leaf_spot\n",
       "7   data/beans/0/angular_leaf_spot_train.232.jpg  angular_leaf_spot\n",
       "8   data/beans/0/angular_leaf_spot_train.319.jpg  angular_leaf_spot\n",
       "9    data/beans/0/angular_leaf_spot_train.16.jpg  angular_leaf_spot\n",
       "10          data/beans/1/bean_rust_train.324.jpg          bean_rust\n",
       "11           data/beans/1/bean_rust_train.56.jpg          bean_rust\n",
       "12          data/beans/1/bean_rust_train.310.jpg          bean_rust\n",
       "13          data/beans/1/bean_rust_train.178.jpg          bean_rust\n",
       "14          data/beans/1/bean_rust_train.134.jpg          bean_rust\n",
       "15          data/beans/1/bean_rust_train.281.jpg          bean_rust\n",
       "16           data/beans/1/bean_rust_train.54.jpg          bean_rust\n",
       "17          data/beans/1/bean_rust_train.273.jpg          bean_rust\n",
       "18           data/beans/1/bean_rust_train.88.jpg          bean_rust\n",
       "19          data/beans/1/bean_rust_train.341.jpg          bean_rust\n",
       "20            data/beans/2/healthy_train.159.jpg            healthy\n",
       "21            data/beans/2/healthy_train.176.jpg            healthy\n",
       "22             data/beans/2/healthy_train.58.jpg            healthy\n",
       "23            data/beans/2/healthy_train.173.jpg            healthy\n",
       "24            data/beans/2/healthy_train.184.jpg            healthy\n",
       "25            data/beans/2/healthy_train.197.jpg            healthy\n",
       "26             data/beans/2/healthy_train.43.jpg            healthy\n",
       "27            data/beans/2/healthy_train.220.jpg            healthy\n",
       "28            data/beans/2/healthy_train.218.jpg            healthy\n",
       "29             data/beans/2/healthy_train.66.jpg            healthy"
      ]
     },
     "execution_count": 7,
     "metadata": {},
     "output_type": "execute_result"
    }
   ],
   "source": [
    "initial_samples = initial_samples.remove_columns([\"image\"])\n",
    "df = initial_samples.to_pandas()\n",
    "df = df.rename(columns={\"label_name\": \"label\"})\n",
    "\n",
    "df"
   ]
  },
  {
   "cell_type": "code",
   "execution_count": 8,
   "metadata": {},
   "outputs": [],
   "source": [
    "df.to_parquet(\"data/beans/initial_samples.parquet\")"
   ]
  },
  {
   "cell_type": "markdown",
   "metadata": {},
   "source": [
    "## Make Evaluation Dataset"
   ]
  },
  {
   "cell_type": "code",
   "execution_count": 9,
   "metadata": {},
   "outputs": [
    {
     "data": {
      "text/plain": [
       "{'image': <PIL.JpegImagePlugin.JpegImageFile image mode=RGB size=500x500>,\n",
       " 'filepath': 'data/beans/0/angular_leaf_spot_test.0.jpg',\n",
       " 'label_name': 'angular_leaf_spot'}"
      ]
     },
     "execution_count": 9,
     "metadata": {},
     "output_type": "execute_result"
    }
   ],
   "source": [
    "active_learning_dataset[\"evaluation\"][0]"
   ]
  },
  {
   "cell_type": "code",
   "execution_count": 10,
   "metadata": {},
   "outputs": [
    {
     "data": {
      "text/plain": [
       "Dataset({\n",
       "    features: ['filepath', 'label'],\n",
       "    num_rows: 128\n",
       "})"
      ]
     },
     "execution_count": 10,
     "metadata": {},
     "output_type": "execute_result"
    }
   ],
   "source": [
    "eval_samples = active_learning_dataset[\"evaluation\"].remove_columns([\"image\"])\n",
    "eval_samples = eval_samples.rename_column(\"label_name\", \"label\")\n",
    "eval_samples"
   ]
  },
  {
   "cell_type": "code",
   "execution_count": 11,
   "metadata": {},
   "outputs": [
    {
     "data": {
      "text/html": [
       "<div>\n",
       "<style scoped>\n",
       "    .dataframe tbody tr th:only-of-type {\n",
       "        vertical-align: middle;\n",
       "    }\n",
       "\n",
       "    .dataframe tbody tr th {\n",
       "        vertical-align: top;\n",
       "    }\n",
       "\n",
       "    .dataframe thead th {\n",
       "        text-align: right;\n",
       "    }\n",
       "</style>\n",
       "<table border=\"1\" class=\"dataframe\">\n",
       "  <thead>\n",
       "    <tr style=\"text-align: right;\">\n",
       "      <th></th>\n",
       "      <th>filepath</th>\n",
       "      <th>label</th>\n",
       "    </tr>\n",
       "  </thead>\n",
       "  <tbody>\n",
       "    <tr>\n",
       "      <th>0</th>\n",
       "      <td>data/beans/0/angular_leaf_spot_test.0.jpg</td>\n",
       "      <td>angular_leaf_spot</td>\n",
       "    </tr>\n",
       "    <tr>\n",
       "      <th>1</th>\n",
       "      <td>data/beans/0/angular_leaf_spot_test.1.jpg</td>\n",
       "      <td>angular_leaf_spot</td>\n",
       "    </tr>\n",
       "    <tr>\n",
       "      <th>2</th>\n",
       "      <td>data/beans/0/angular_leaf_spot_test.10.jpg</td>\n",
       "      <td>angular_leaf_spot</td>\n",
       "    </tr>\n",
       "    <tr>\n",
       "      <th>3</th>\n",
       "      <td>data/beans/0/angular_leaf_spot_test.11.jpg</td>\n",
       "      <td>angular_leaf_spot</td>\n",
       "    </tr>\n",
       "    <tr>\n",
       "      <th>4</th>\n",
       "      <td>data/beans/0/angular_leaf_spot_test.12.jpg</td>\n",
       "      <td>angular_leaf_spot</td>\n",
       "    </tr>\n",
       "    <tr>\n",
       "      <th>...</th>\n",
       "      <td>...</td>\n",
       "      <td>...</td>\n",
       "    </tr>\n",
       "    <tr>\n",
       "      <th>123</th>\n",
       "      <td>data/beans/2/healthy_test.5.jpg</td>\n",
       "      <td>healthy</td>\n",
       "    </tr>\n",
       "    <tr>\n",
       "      <th>124</th>\n",
       "      <td>data/beans/2/healthy_test.6.jpg</td>\n",
       "      <td>healthy</td>\n",
       "    </tr>\n",
       "    <tr>\n",
       "      <th>125</th>\n",
       "      <td>data/beans/2/healthy_test.7.jpg</td>\n",
       "      <td>healthy</td>\n",
       "    </tr>\n",
       "    <tr>\n",
       "      <th>126</th>\n",
       "      <td>data/beans/2/healthy_test.8.jpg</td>\n",
       "      <td>healthy</td>\n",
       "    </tr>\n",
       "    <tr>\n",
       "      <th>127</th>\n",
       "      <td>data/beans/2/healthy_test.9.jpg</td>\n",
       "      <td>healthy</td>\n",
       "    </tr>\n",
       "  </tbody>\n",
       "</table>\n",
       "<p>128 rows × 2 columns</p>\n",
       "</div>"
      ],
      "text/plain": [
       "                                       filepath              label\n",
       "0     data/beans/0/angular_leaf_spot_test.0.jpg  angular_leaf_spot\n",
       "1     data/beans/0/angular_leaf_spot_test.1.jpg  angular_leaf_spot\n",
       "2    data/beans/0/angular_leaf_spot_test.10.jpg  angular_leaf_spot\n",
       "3    data/beans/0/angular_leaf_spot_test.11.jpg  angular_leaf_spot\n",
       "4    data/beans/0/angular_leaf_spot_test.12.jpg  angular_leaf_spot\n",
       "..                                          ...                ...\n",
       "123             data/beans/2/healthy_test.5.jpg            healthy\n",
       "124             data/beans/2/healthy_test.6.jpg            healthy\n",
       "125             data/beans/2/healthy_test.7.jpg            healthy\n",
       "126             data/beans/2/healthy_test.8.jpg            healthy\n",
       "127             data/beans/2/healthy_test.9.jpg            healthy\n",
       "\n",
       "[128 rows x 2 columns]"
      ]
     },
     "execution_count": 11,
     "metadata": {},
     "output_type": "execute_result"
    }
   ],
   "source": [
    "df = eval_samples.to_pandas()\n",
    "df"
   ]
  },
  {
   "cell_type": "code",
   "execution_count": 12,
   "metadata": {},
   "outputs": [],
   "source": [
    "df.to_parquet(\"data/beans/evaluation_samples.parquet\")"
   ]
  },
  {
   "cell_type": "markdown",
   "metadata": {},
   "source": [
    "## Make Unlabeled Dataset"
   ]
  },
  {
   "cell_type": "code",
   "execution_count": 13,
   "metadata": {},
   "outputs": [
    {
     "data": {
      "text/html": [
       "<div>\n",
       "<style scoped>\n",
       "    .dataframe tbody tr th:only-of-type {\n",
       "        vertical-align: middle;\n",
       "    }\n",
       "\n",
       "    .dataframe tbody tr th {\n",
       "        vertical-align: top;\n",
       "    }\n",
       "\n",
       "    .dataframe thead th {\n",
       "        text-align: right;\n",
       "    }\n",
       "</style>\n",
       "<table border=\"1\" class=\"dataframe\">\n",
       "  <thead>\n",
       "    <tr style=\"text-align: right;\">\n",
       "      <th></th>\n",
       "      <th>filepath</th>\n",
       "      <th>label</th>\n",
       "    </tr>\n",
       "  </thead>\n",
       "  <tbody>\n",
       "    <tr>\n",
       "      <th>0</th>\n",
       "      <td>data/beans/0/angular_leaf_spot_train.0.jpg</td>\n",
       "      <td>angular_leaf_spot</td>\n",
       "    </tr>\n",
       "    <tr>\n",
       "      <th>1</th>\n",
       "      <td>data/beans/0/angular_leaf_spot_train.1.jpg</td>\n",
       "      <td>angular_leaf_spot</td>\n",
       "    </tr>\n",
       "    <tr>\n",
       "      <th>2</th>\n",
       "      <td>data/beans/0/angular_leaf_spot_train.10.jpg</td>\n",
       "      <td>angular_leaf_spot</td>\n",
       "    </tr>\n",
       "    <tr>\n",
       "      <th>3</th>\n",
       "      <td>data/beans/0/angular_leaf_spot_train.100.jpg</td>\n",
       "      <td>angular_leaf_spot</td>\n",
       "    </tr>\n",
       "    <tr>\n",
       "      <th>4</th>\n",
       "      <td>data/beans/0/angular_leaf_spot_train.101.jpg</td>\n",
       "      <td>angular_leaf_spot</td>\n",
       "    </tr>\n",
       "    <tr>\n",
       "      <th>...</th>\n",
       "      <td>...</td>\n",
       "      <td>...</td>\n",
       "    </tr>\n",
       "    <tr>\n",
       "      <th>1029</th>\n",
       "      <td>data/beans/2/healthy_train.95.jpg</td>\n",
       "      <td>healthy</td>\n",
       "    </tr>\n",
       "    <tr>\n",
       "      <th>1030</th>\n",
       "      <td>data/beans/2/healthy_train.96.jpg</td>\n",
       "      <td>healthy</td>\n",
       "    </tr>\n",
       "    <tr>\n",
       "      <th>1031</th>\n",
       "      <td>data/beans/2/healthy_train.97.jpg</td>\n",
       "      <td>healthy</td>\n",
       "    </tr>\n",
       "    <tr>\n",
       "      <th>1032</th>\n",
       "      <td>data/beans/2/healthy_train.98.jpg</td>\n",
       "      <td>healthy</td>\n",
       "    </tr>\n",
       "    <tr>\n",
       "      <th>1033</th>\n",
       "      <td>data/beans/2/healthy_train.99.jpg</td>\n",
       "      <td>healthy</td>\n",
       "    </tr>\n",
       "  </tbody>\n",
       "</table>\n",
       "<p>1034 rows × 2 columns</p>\n",
       "</div>"
      ],
      "text/plain": [
       "                                          filepath              label\n",
       "0       data/beans/0/angular_leaf_spot_train.0.jpg  angular_leaf_spot\n",
       "1       data/beans/0/angular_leaf_spot_train.1.jpg  angular_leaf_spot\n",
       "2      data/beans/0/angular_leaf_spot_train.10.jpg  angular_leaf_spot\n",
       "3     data/beans/0/angular_leaf_spot_train.100.jpg  angular_leaf_spot\n",
       "4     data/beans/0/angular_leaf_spot_train.101.jpg  angular_leaf_spot\n",
       "...                                            ...                ...\n",
       "1029             data/beans/2/healthy_train.95.jpg            healthy\n",
       "1030             data/beans/2/healthy_train.96.jpg            healthy\n",
       "1031             data/beans/2/healthy_train.97.jpg            healthy\n",
       "1032             data/beans/2/healthy_train.98.jpg            healthy\n",
       "1033             data/beans/2/healthy_train.99.jpg            healthy\n",
       "\n",
       "[1034 rows x 2 columns]"
      ]
     },
     "execution_count": 13,
     "metadata": {},
     "output_type": "execute_result"
    }
   ],
   "source": [
    "unlabeled_samples = active_learning_dataset[\"unlabeled\"].remove_columns([\"image\"])\n",
    "unlabeled_samples = unlabeled_samples.rename_column(\"label_name\", \"label\")\n",
    "df = unlabeled_samples.to_pandas()\n",
    "df\n"
   ]
  },
  {
   "cell_type": "code",
   "execution_count": 14,
   "metadata": {},
   "outputs": [
    {
     "data": {
      "text/plain": [
       "{'data/beans/0/angular_leaf_spot_train.14.jpg',\n",
       " 'data/beans/0/angular_leaf_spot_train.16.jpg',\n",
       " 'data/beans/0/angular_leaf_spot_train.219.jpg',\n",
       " 'data/beans/0/angular_leaf_spot_train.232.jpg',\n",
       " 'data/beans/0/angular_leaf_spot_train.239.jpg',\n",
       " 'data/beans/0/angular_leaf_spot_train.240.jpg',\n",
       " 'data/beans/0/angular_leaf_spot_train.274.jpg',\n",
       " 'data/beans/0/angular_leaf_spot_train.319.jpg',\n",
       " 'data/beans/0/angular_leaf_spot_train.338.jpg',\n",
       " 'data/beans/0/angular_leaf_spot_train.35.jpg',\n",
       " 'data/beans/1/bean_rust_train.134.jpg',\n",
       " 'data/beans/1/bean_rust_train.178.jpg',\n",
       " 'data/beans/1/bean_rust_train.273.jpg',\n",
       " 'data/beans/1/bean_rust_train.281.jpg',\n",
       " 'data/beans/1/bean_rust_train.310.jpg',\n",
       " 'data/beans/1/bean_rust_train.324.jpg',\n",
       " 'data/beans/1/bean_rust_train.341.jpg',\n",
       " 'data/beans/1/bean_rust_train.54.jpg',\n",
       " 'data/beans/1/bean_rust_train.56.jpg',\n",
       " 'data/beans/1/bean_rust_train.88.jpg',\n",
       " 'data/beans/2/healthy_train.159.jpg',\n",
       " 'data/beans/2/healthy_train.173.jpg',\n",
       " 'data/beans/2/healthy_train.176.jpg',\n",
       " 'data/beans/2/healthy_train.184.jpg',\n",
       " 'data/beans/2/healthy_train.197.jpg',\n",
       " 'data/beans/2/healthy_train.218.jpg',\n",
       " 'data/beans/2/healthy_train.220.jpg',\n",
       " 'data/beans/2/healthy_train.43.jpg',\n",
       " 'data/beans/2/healthy_train.58.jpg',\n",
       " 'data/beans/2/healthy_train.66.jpg'}"
      ]
     },
     "execution_count": 14,
     "metadata": {},
     "output_type": "execute_result"
    }
   ],
   "source": [
    "initial_filepaths = set(initial_samples['filepath'])\n",
    "initial_filepaths"
   ]
  },
  {
   "cell_type": "code",
   "execution_count": 15,
   "metadata": {},
   "outputs": [
    {
     "data": {
      "application/vnd.jupyter.widget-view+json": {
       "model_id": "fd4f9de822f3485c89ca1750dea6f43c",
       "version_major": 2,
       "version_minor": 0
      },
      "text/plain": [
       "Filter:   0%|          | 0/1034 [00:00<?, ? examples/s]"
      ]
     },
     "metadata": {},
     "output_type": "display_data"
    },
    {
     "data": {
      "text/plain": [
       "Dataset({\n",
       "    features: ['filepath', 'label'],\n",
       "    num_rows: 1004\n",
       "})"
      ]
     },
     "execution_count": 15,
     "metadata": {},
     "output_type": "execute_result"
    }
   ],
   "source": [
    "# Filter out rows that are in initial_samples\n",
    "unlabeled_samples = unlabeled_samples.filter(\n",
    "    lambda x: x['filepath'] not in initial_filepaths\n",
    ")\n",
    "\n",
    "unlabeled_samples"
   ]
  },
  {
   "cell_type": "code",
   "execution_count": 16,
   "metadata": {},
   "outputs": [],
   "source": [
    "# df = unlabeled_samples.to_pandas()\n",
    "# df = df.drop(columns=[\"label\"])\n",
    "# df\n"
   ]
  },
  {
   "cell_type": "code",
   "execution_count": 17,
   "metadata": {},
   "outputs": [],
   "source": [
    "df.to_parquet(\"data/beans/unlabeled_samples.parquet\")"
   ]
  },
  {
   "cell_type": "code",
   "execution_count": null,
   "metadata": {},
   "outputs": [],
   "source": []
  }
 ],
 "metadata": {
  "kernelspec": {
   "display_name": ".venv",
   "language": "python",
   "name": "python3"
  },
  "language_info": {
   "codemirror_mode": {
    "name": "ipython",
    "version": 3
   },
   "file_extension": ".py",
   "mimetype": "text/x-python",
   "name": "python",
   "nbconvert_exporter": "python",
   "pygments_lexer": "ipython3",
   "version": "3.12.8"
  }
 },
 "nbformat": 4,
 "nbformat_minor": 2
}
