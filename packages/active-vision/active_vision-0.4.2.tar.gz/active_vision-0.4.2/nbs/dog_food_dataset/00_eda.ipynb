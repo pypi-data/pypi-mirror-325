{
 "cells": [
  {
   "cell_type": "code",
   "execution_count": 1,
   "metadata": {},
   "outputs": [
    {
     "data": {
      "application/vnd.jupyter.widget-view+json": {
       "model_id": "b64e3682bb444792b2ba569399ab650d",
       "version_major": 2,
       "version_minor": 0
      },
      "text/plain": [
       "README.md:   0%|          | 0.00/4.37k [00:00<?, ?B/s]"
      ]
     },
     "metadata": {},
     "output_type": "display_data"
    },
    {
     "data": {
      "application/vnd.jupyter.widget-view+json": {
       "model_id": "fef4c4c79dca4622b156aa701430a743",
       "version_major": 2,
       "version_minor": 0
      },
      "text/plain": [
       "dataset_infos.json:   0%|          | 0.00/1.12k [00:00<?, ?B/s]"
      ]
     },
     "metadata": {},
     "output_type": "display_data"
    },
    {
     "data": {
      "application/vnd.jupyter.widget-view+json": {
       "model_id": "a55d2f7afc2d4cd7b412fd6296901d97",
       "version_major": 2,
       "version_minor": 0
      },
      "text/plain": [
       "(…)-00000-of-00001-9bf5abf8b080cbba.parquet:   0%|          | 0.00/199M [00:00<?, ?B/s]"
      ]
     },
     "metadata": {},
     "output_type": "display_data"
    },
    {
     "data": {
      "application/vnd.jupyter.widget-view+json": {
       "model_id": "184d26534fbe4a50bb08562c007a4bff",
       "version_major": 2,
       "version_minor": 0
      },
      "text/plain": [
       "(…)-00000-of-00001-6ea6ccdcc8fa38d5.parquet:   0%|          | 0.00/85.8M [00:00<?, ?B/s]"
      ]
     },
     "metadata": {},
     "output_type": "display_data"
    },
    {
     "data": {
      "application/vnd.jupyter.widget-view+json": {
       "model_id": "026233363a5f431f9a43d2b7d510eeda",
       "version_major": 2,
       "version_minor": 0
      },
      "text/plain": [
       "Generating train split:   0%|          | 0/2100 [00:00<?, ? examples/s]"
      ]
     },
     "metadata": {},
     "output_type": "display_data"
    },
    {
     "data": {
      "application/vnd.jupyter.widget-view+json": {
       "model_id": "a16137fdf6ca4a2dacf53bbd6305f248",
       "version_major": 2,
       "version_minor": 0
      },
      "text/plain": [
       "Generating test split:   0%|          | 0/900 [00:00<?, ? examples/s]"
      ]
     },
     "metadata": {},
     "output_type": "display_data"
    }
   ],
   "source": [
    "from datasets import load_dataset\n",
    "\n",
    "dataset = load_dataset(\"sasha/dog-food\")\n"
   ]
  },
  {
   "cell_type": "code",
   "execution_count": 2,
   "metadata": {},
   "outputs": [
    {
     "data": {
      "text/plain": [
       "DatasetDict({\n",
       "    train: Dataset({\n",
       "        features: ['image', 'label'],\n",
       "        num_rows: 2100\n",
       "    })\n",
       "    test: Dataset({\n",
       "        features: ['image', 'label'],\n",
       "        num_rows: 900\n",
       "    })\n",
       "})"
      ]
     },
     "execution_count": 2,
     "metadata": {},
     "output_type": "execute_result"
    }
   ],
   "source": [
    "dataset"
   ]
  },
  {
   "cell_type": "markdown",
   "metadata": {},
   "source": [
    "## Save the dataset locally"
   ]
  },
  {
   "cell_type": "code",
   "execution_count": 4,
   "metadata": {},
   "outputs": [
    {
     "name": "stderr",
     "output_type": "stream",
     "text": [
      "Parameter 'function'=<function save_image at 0x75f8181a99e0> of the transform datasets.arrow_dataset.Dataset._map_single couldn't be hashed properly, a random hash was used instead. Make sure your transforms and parameters are serializable with pickle or dill for the dataset fingerprinting and caching to work. If you reuse this transform, the caching mechanism will consider it to be different from the previous calls and recompute everything. This warning is only showed once. Subsequent hashing failures won't be showed.\n"
     ]
    },
    {
     "data": {
      "application/vnd.jupyter.widget-view+json": {
       "model_id": "db7572efd8264c9e995aef536b061147",
       "version_major": 2,
       "version_minor": 0
      },
      "text/plain": [
       "Saving evaluation images (num_proc=8):   0%|          | 0/900 [00:00<?, ? examples/s]"
      ]
     },
     "metadata": {},
     "output_type": "display_data"
    },
    {
     "data": {
      "application/vnd.jupyter.widget-view+json": {
       "model_id": "004f49afc6dd43b189872cb244879345",
       "version_major": 2,
       "version_minor": 0
      },
      "text/plain": [
       "Saving unlabeled images (num_proc=8):   0%|          | 0/2100 [00:00<?, ? examples/s]"
      ]
     },
     "metadata": {},
     "output_type": "display_data"
    }
   ],
   "source": [
    "from pathlib import Path\n",
    "from loguru import logger\n",
    "from datasets import DatasetDict\n",
    "\n",
    "SAVE_DIR = Path(\"data/dog-food\")\n",
    "NUM_PROC = 8  \n",
    "CLASS_NAMES = dataset['train'].features['label'].names\n",
    "\n",
    "def save_image(example, idx):\n",
    "    \"\"\"Save a dataset image to disk with error handling and add label name.\n",
    "    \n",
    "    Args:\n",
    "        example (dict): Dataset example containing 'image' and 'label'\n",
    "        idx (int): Index of the example\n",
    "        \n",
    "    Returns:\n",
    "        dict: Dictionary containing the saved filepath and label_name\n",
    "    \"\"\"\n",
    "    try:\n",
    "        image = example['image']\n",
    "        label_id = example.get('label')  # Get label if it exists (won't exist for unlabeled)\n",
    "        \n",
    "        # Get label name if label exists\n",
    "        label_name = CLASS_NAMES[label_id] if label_id is not None else None\n",
    "        \n",
    "        # Create directory structure\n",
    "        label_dir = SAVE_DIR / str(label_id if label_id is not None else 'unlabeled')\n",
    "        label_dir.mkdir(parents=True, exist_ok=True)\n",
    "        \n",
    "        # Create filename with label subdirectory\n",
    "        filepath = label_dir / f\"{idx:05d}.jpg\"\n",
    "        \n",
    "        # Save with quality optimization\n",
    "        image.save(filepath, \"JPEG\", quality=95, optimize=True)\n",
    "        \n",
    "        return {\n",
    "            \"filepath\": str(filepath),\n",
    "            \"label_name\": label_name\n",
    "        }\n",
    "    \n",
    "    except Exception as e:\n",
    "        logger.error(f\"Error saving image {idx}: {str(e)}\")\n",
    "        return {\n",
    "            \"filepath\": None,\n",
    "            \"label_name\": None\n",
    "        }\n",
    "\n",
    "active_learning_dataset = DatasetDict()\n",
    "\n",
    "active_learning_dataset['evaluation'] = dataset['test'].map(\n",
    "    save_image,\n",
    "    with_indices=True,\n",
    "    num_proc=NUM_PROC,\n",
    "    desc=\"Saving evaluation images\",\n",
    "    remove_columns=\"label\"\n",
    ")\n",
    "\n",
    "active_learning_dataset['unlabeled'] = dataset['train'].map(\n",
    "    save_image,\n",
    "    with_indices=True,\n",
    "    num_proc=NUM_PROC,\n",
    "    desc=\"Saving unlabeled images\",\n",
    "    remove_columns=\"label\"\n",
    ")"
   ]
  },
  {
   "cell_type": "code",
   "execution_count": 5,
   "metadata": {},
   "outputs": [
    {
     "data": {
      "text/plain": [
       "DatasetDict({\n",
       "    evaluation: Dataset({\n",
       "        features: ['image', 'filepath', 'label_name'],\n",
       "        num_rows: 900\n",
       "    })\n",
       "    unlabeled: Dataset({\n",
       "        features: ['image', 'filepath', 'label_name'],\n",
       "        num_rows: 2100\n",
       "    })\n",
       "})"
      ]
     },
     "execution_count": 5,
     "metadata": {},
     "output_type": "execute_result"
    }
   ],
   "source": [
    "active_learning_dataset"
   ]
  },
  {
   "cell_type": "markdown",
   "metadata": {},
   "source": [
    "## Make Initial Samples"
   ]
  },
  {
   "cell_type": "code",
   "execution_count": 8,
   "metadata": {},
   "outputs": [
    {
     "name": "stdout",
     "output_type": "stream",
     "text": [
      "Total samples: 20\n",
      "\n",
      "Samples per class:\n",
      "label_name\n",
      "dog           10\n",
      "food          10\n",
      "Name: count, dtype: int64\n"
     ]
    }
   ],
   "source": [
    "import numpy as np\n",
    "\n",
    "unique_labels = active_learning_dataset[\"unlabeled\"].unique(\"label_name\")\n",
    "samples = []\n",
    "n_samples_per_class = 10\n",
    "\n",
    "for label in unique_labels:\n",
    "    label_indices = np.where(np.array(active_learning_dataset[\"unlabeled\"][\"label_name\"]) == label)[0]\n",
    "    # Sample 10 random indices without replacement\n",
    "    random_indices = np.random.choice(\n",
    "        label_indices, size=n_samples_per_class, replace=False\n",
    "    )\n",
    "    samples.extend(random_indices)\n",
    "\n",
    "initial_samples = active_learning_dataset[\"unlabeled\"].select(samples)\n",
    "\n",
    "# Verify the result (should show 100 rows total, 10 per class)\n",
    "print(f\"Total samples: {len(initial_samples)}\")\n",
    "print(\"\\nSamples per class:\")\n",
    "print(initial_samples.select_columns([\"label_name\"]).to_pandas().value_counts())"
   ]
  },
  {
   "cell_type": "code",
   "execution_count": 9,
   "metadata": {},
   "outputs": [
    {
     "data": {
      "text/plain": [
       "Dataset({\n",
       "    features: ['image', 'filepath', 'label_name'],\n",
       "    num_rows: 20\n",
       "})"
      ]
     },
     "execution_count": 9,
     "metadata": {},
     "output_type": "execute_result"
    }
   ],
   "source": [
    "initial_samples"
   ]
  },
  {
   "cell_type": "code",
   "execution_count": 10,
   "metadata": {},
   "outputs": [
    {
     "data": {
      "text/html": [
       "<div>\n",
       "<style scoped>\n",
       "    .dataframe tbody tr th:only-of-type {\n",
       "        vertical-align: middle;\n",
       "    }\n",
       "\n",
       "    .dataframe tbody tr th {\n",
       "        vertical-align: top;\n",
       "    }\n",
       "\n",
       "    .dataframe thead th {\n",
       "        text-align: right;\n",
       "    }\n",
       "</style>\n",
       "<table border=\"1\" class=\"dataframe\">\n",
       "  <thead>\n",
       "    <tr style=\"text-align: right;\">\n",
       "      <th></th>\n",
       "      <th>filepath</th>\n",
       "      <th>label</th>\n",
       "    </tr>\n",
       "  </thead>\n",
       "  <tbody>\n",
       "    <tr>\n",
       "      <th>0</th>\n",
       "      <td>data/dog-food/0/00376.jpg</td>\n",
       "      <td>dog</td>\n",
       "    </tr>\n",
       "    <tr>\n",
       "      <th>1</th>\n",
       "      <td>data/dog-food/0/00566.jpg</td>\n",
       "      <td>dog</td>\n",
       "    </tr>\n",
       "    <tr>\n",
       "      <th>2</th>\n",
       "      <td>data/dog-food/0/00142.jpg</td>\n",
       "      <td>dog</td>\n",
       "    </tr>\n",
       "    <tr>\n",
       "      <th>3</th>\n",
       "      <td>data/dog-food/0/00206.jpg</td>\n",
       "      <td>dog</td>\n",
       "    </tr>\n",
       "    <tr>\n",
       "      <th>4</th>\n",
       "      <td>data/dog-food/0/00101.jpg</td>\n",
       "      <td>dog</td>\n",
       "    </tr>\n",
       "    <tr>\n",
       "      <th>5</th>\n",
       "      <td>data/dog-food/0/00364.jpg</td>\n",
       "      <td>dog</td>\n",
       "    </tr>\n",
       "    <tr>\n",
       "      <th>6</th>\n",
       "      <td>data/dog-food/0/00529.jpg</td>\n",
       "      <td>dog</td>\n",
       "    </tr>\n",
       "    <tr>\n",
       "      <th>7</th>\n",
       "      <td>data/dog-food/0/00271.jpg</td>\n",
       "      <td>dog</td>\n",
       "    </tr>\n",
       "    <tr>\n",
       "      <th>8</th>\n",
       "      <td>data/dog-food/0/00588.jpg</td>\n",
       "      <td>dog</td>\n",
       "    </tr>\n",
       "    <tr>\n",
       "      <th>9</th>\n",
       "      <td>data/dog-food/0/00093.jpg</td>\n",
       "      <td>dog</td>\n",
       "    </tr>\n",
       "    <tr>\n",
       "      <th>10</th>\n",
       "      <td>data/dog-food/1/01032.jpg</td>\n",
       "      <td>food</td>\n",
       "    </tr>\n",
       "    <tr>\n",
       "      <th>11</th>\n",
       "      <td>data/dog-food/1/01588.jpg</td>\n",
       "      <td>food</td>\n",
       "    </tr>\n",
       "    <tr>\n",
       "      <th>12</th>\n",
       "      <td>data/dog-food/1/01159.jpg</td>\n",
       "      <td>food</td>\n",
       "    </tr>\n",
       "    <tr>\n",
       "      <th>13</th>\n",
       "      <td>data/dog-food/1/01131.jpg</td>\n",
       "      <td>food</td>\n",
       "    </tr>\n",
       "    <tr>\n",
       "      <th>14</th>\n",
       "      <td>data/dog-food/1/01983.jpg</td>\n",
       "      <td>food</td>\n",
       "    </tr>\n",
       "    <tr>\n",
       "      <th>15</th>\n",
       "      <td>data/dog-food/1/01274.jpg</td>\n",
       "      <td>food</td>\n",
       "    </tr>\n",
       "    <tr>\n",
       "      <th>16</th>\n",
       "      <td>data/dog-food/1/01208.jpg</td>\n",
       "      <td>food</td>\n",
       "    </tr>\n",
       "    <tr>\n",
       "      <th>17</th>\n",
       "      <td>data/dog-food/1/01047.jpg</td>\n",
       "      <td>food</td>\n",
       "    </tr>\n",
       "    <tr>\n",
       "      <th>18</th>\n",
       "      <td>data/dog-food/1/00922.jpg</td>\n",
       "      <td>food</td>\n",
       "    </tr>\n",
       "    <tr>\n",
       "      <th>19</th>\n",
       "      <td>data/dog-food/1/00995.jpg</td>\n",
       "      <td>food</td>\n",
       "    </tr>\n",
       "  </tbody>\n",
       "</table>\n",
       "</div>"
      ],
      "text/plain": [
       "                     filepath label\n",
       "0   data/dog-food/0/00376.jpg   dog\n",
       "1   data/dog-food/0/00566.jpg   dog\n",
       "2   data/dog-food/0/00142.jpg   dog\n",
       "3   data/dog-food/0/00206.jpg   dog\n",
       "4   data/dog-food/0/00101.jpg   dog\n",
       "5   data/dog-food/0/00364.jpg   dog\n",
       "6   data/dog-food/0/00529.jpg   dog\n",
       "7   data/dog-food/0/00271.jpg   dog\n",
       "8   data/dog-food/0/00588.jpg   dog\n",
       "9   data/dog-food/0/00093.jpg   dog\n",
       "10  data/dog-food/1/01032.jpg  food\n",
       "11  data/dog-food/1/01588.jpg  food\n",
       "12  data/dog-food/1/01159.jpg  food\n",
       "13  data/dog-food/1/01131.jpg  food\n",
       "14  data/dog-food/1/01983.jpg  food\n",
       "15  data/dog-food/1/01274.jpg  food\n",
       "16  data/dog-food/1/01208.jpg  food\n",
       "17  data/dog-food/1/01047.jpg  food\n",
       "18  data/dog-food/1/00922.jpg  food\n",
       "19  data/dog-food/1/00995.jpg  food"
      ]
     },
     "execution_count": 10,
     "metadata": {},
     "output_type": "execute_result"
    }
   ],
   "source": [
    "initial_samples = initial_samples.remove_columns(\"image\")\n",
    "df = initial_samples.to_pandas()\n",
    "df = df.rename(columns={\"label_name\": \"label\"})\n",
    "df"
   ]
  },
  {
   "cell_type": "code",
   "execution_count": 11,
   "metadata": {},
   "outputs": [],
   "source": [
    "df.to_parquet(\"data/dog-food/initial_samples.parquet\")"
   ]
  },
  {
   "cell_type": "markdown",
   "metadata": {},
   "source": [
    "## Make Evaluation Split"
   ]
  },
  {
   "cell_type": "code",
   "execution_count": 13,
   "metadata": {},
   "outputs": [
    {
     "data": {
      "text/plain": [
       "Dataset({\n",
       "    features: ['filepath', 'label'],\n",
       "    num_rows: 900\n",
       "})"
      ]
     },
     "execution_count": 13,
     "metadata": {},
     "output_type": "execute_result"
    }
   ],
   "source": [
    "eval_samples = active_learning_dataset[\"evaluation\"].remove_columns(\"image\")\n",
    "eval_samples = eval_samples.rename_column(\"label_name\", \"label\")\n",
    "eval_samples"
   ]
  },
  {
   "cell_type": "code",
   "execution_count": 14,
   "metadata": {},
   "outputs": [
    {
     "data": {
      "text/html": [
       "<div>\n",
       "<style scoped>\n",
       "    .dataframe tbody tr th:only-of-type {\n",
       "        vertical-align: middle;\n",
       "    }\n",
       "\n",
       "    .dataframe tbody tr th {\n",
       "        vertical-align: top;\n",
       "    }\n",
       "\n",
       "    .dataframe thead th {\n",
       "        text-align: right;\n",
       "    }\n",
       "</style>\n",
       "<table border=\"1\" class=\"dataframe\">\n",
       "  <thead>\n",
       "    <tr style=\"text-align: right;\">\n",
       "      <th></th>\n",
       "      <th>filepath</th>\n",
       "      <th>label</th>\n",
       "    </tr>\n",
       "  </thead>\n",
       "  <tbody>\n",
       "    <tr>\n",
       "      <th>0</th>\n",
       "      <td>data/dog-food/0/00000.jpg</td>\n",
       "      <td>dog</td>\n",
       "    </tr>\n",
       "    <tr>\n",
       "      <th>1</th>\n",
       "      <td>data/dog-food/0/00001.jpg</td>\n",
       "      <td>dog</td>\n",
       "    </tr>\n",
       "    <tr>\n",
       "      <th>2</th>\n",
       "      <td>data/dog-food/0/00002.jpg</td>\n",
       "      <td>dog</td>\n",
       "    </tr>\n",
       "    <tr>\n",
       "      <th>3</th>\n",
       "      <td>data/dog-food/0/00003.jpg</td>\n",
       "      <td>dog</td>\n",
       "    </tr>\n",
       "    <tr>\n",
       "      <th>4</th>\n",
       "      <td>data/dog-food/0/00004.jpg</td>\n",
       "      <td>dog</td>\n",
       "    </tr>\n",
       "    <tr>\n",
       "      <th>...</th>\n",
       "      <td>...</td>\n",
       "      <td>...</td>\n",
       "    </tr>\n",
       "    <tr>\n",
       "      <th>895</th>\n",
       "      <td>data/dog-food/1/00895.jpg</td>\n",
       "      <td>food</td>\n",
       "    </tr>\n",
       "    <tr>\n",
       "      <th>896</th>\n",
       "      <td>data/dog-food/1/00896.jpg</td>\n",
       "      <td>food</td>\n",
       "    </tr>\n",
       "    <tr>\n",
       "      <th>897</th>\n",
       "      <td>data/dog-food/1/00897.jpg</td>\n",
       "      <td>food</td>\n",
       "    </tr>\n",
       "    <tr>\n",
       "      <th>898</th>\n",
       "      <td>data/dog-food/1/00898.jpg</td>\n",
       "      <td>food</td>\n",
       "    </tr>\n",
       "    <tr>\n",
       "      <th>899</th>\n",
       "      <td>data/dog-food/1/00899.jpg</td>\n",
       "      <td>food</td>\n",
       "    </tr>\n",
       "  </tbody>\n",
       "</table>\n",
       "<p>900 rows × 2 columns</p>\n",
       "</div>"
      ],
      "text/plain": [
       "                      filepath label\n",
       "0    data/dog-food/0/00000.jpg   dog\n",
       "1    data/dog-food/0/00001.jpg   dog\n",
       "2    data/dog-food/0/00002.jpg   dog\n",
       "3    data/dog-food/0/00003.jpg   dog\n",
       "4    data/dog-food/0/00004.jpg   dog\n",
       "..                         ...   ...\n",
       "895  data/dog-food/1/00895.jpg  food\n",
       "896  data/dog-food/1/00896.jpg  food\n",
       "897  data/dog-food/1/00897.jpg  food\n",
       "898  data/dog-food/1/00898.jpg  food\n",
       "899  data/dog-food/1/00899.jpg  food\n",
       "\n",
       "[900 rows x 2 columns]"
      ]
     },
     "execution_count": 14,
     "metadata": {},
     "output_type": "execute_result"
    }
   ],
   "source": [
    "df = eval_samples.to_pandas()\n",
    "df"
   ]
  },
  {
   "cell_type": "code",
   "execution_count": 15,
   "metadata": {},
   "outputs": [],
   "source": [
    "df.to_parquet(\"data/dog-food/evaluation_samples.parquet\")"
   ]
  },
  {
   "cell_type": "markdown",
   "metadata": {},
   "source": [
    "## Make Unlabeled Split"
   ]
  },
  {
   "cell_type": "code",
   "execution_count": 16,
   "metadata": {},
   "outputs": [
    {
     "data": {
      "text/html": [
       "<div>\n",
       "<style scoped>\n",
       "    .dataframe tbody tr th:only-of-type {\n",
       "        vertical-align: middle;\n",
       "    }\n",
       "\n",
       "    .dataframe tbody tr th {\n",
       "        vertical-align: top;\n",
       "    }\n",
       "\n",
       "    .dataframe thead th {\n",
       "        text-align: right;\n",
       "    }\n",
       "</style>\n",
       "<table border=\"1\" class=\"dataframe\">\n",
       "  <thead>\n",
       "    <tr style=\"text-align: right;\">\n",
       "      <th></th>\n",
       "      <th>filepath</th>\n",
       "      <th>label</th>\n",
       "    </tr>\n",
       "  </thead>\n",
       "  <tbody>\n",
       "    <tr>\n",
       "      <th>0</th>\n",
       "      <td>data/dog-food/0/00000.jpg</td>\n",
       "      <td>dog</td>\n",
       "    </tr>\n",
       "    <tr>\n",
       "      <th>1</th>\n",
       "      <td>data/dog-food/0/00001.jpg</td>\n",
       "      <td>dog</td>\n",
       "    </tr>\n",
       "    <tr>\n",
       "      <th>2</th>\n",
       "      <td>data/dog-food/0/00002.jpg</td>\n",
       "      <td>dog</td>\n",
       "    </tr>\n",
       "    <tr>\n",
       "      <th>3</th>\n",
       "      <td>data/dog-food/0/00003.jpg</td>\n",
       "      <td>dog</td>\n",
       "    </tr>\n",
       "    <tr>\n",
       "      <th>4</th>\n",
       "      <td>data/dog-food/0/00004.jpg</td>\n",
       "      <td>dog</td>\n",
       "    </tr>\n",
       "    <tr>\n",
       "      <th>...</th>\n",
       "      <td>...</td>\n",
       "      <td>...</td>\n",
       "    </tr>\n",
       "    <tr>\n",
       "      <th>2095</th>\n",
       "      <td>data/dog-food/1/02095.jpg</td>\n",
       "      <td>food</td>\n",
       "    </tr>\n",
       "    <tr>\n",
       "      <th>2096</th>\n",
       "      <td>data/dog-food/1/02096.jpg</td>\n",
       "      <td>food</td>\n",
       "    </tr>\n",
       "    <tr>\n",
       "      <th>2097</th>\n",
       "      <td>data/dog-food/1/02097.jpg</td>\n",
       "      <td>food</td>\n",
       "    </tr>\n",
       "    <tr>\n",
       "      <th>2098</th>\n",
       "      <td>data/dog-food/1/02098.jpg</td>\n",
       "      <td>food</td>\n",
       "    </tr>\n",
       "    <tr>\n",
       "      <th>2099</th>\n",
       "      <td>data/dog-food/1/02099.jpg</td>\n",
       "      <td>food</td>\n",
       "    </tr>\n",
       "  </tbody>\n",
       "</table>\n",
       "<p>2100 rows × 2 columns</p>\n",
       "</div>"
      ],
      "text/plain": [
       "                       filepath label\n",
       "0     data/dog-food/0/00000.jpg   dog\n",
       "1     data/dog-food/0/00001.jpg   dog\n",
       "2     data/dog-food/0/00002.jpg   dog\n",
       "3     data/dog-food/0/00003.jpg   dog\n",
       "4     data/dog-food/0/00004.jpg   dog\n",
       "...                         ...   ...\n",
       "2095  data/dog-food/1/02095.jpg  food\n",
       "2096  data/dog-food/1/02096.jpg  food\n",
       "2097  data/dog-food/1/02097.jpg  food\n",
       "2098  data/dog-food/1/02098.jpg  food\n",
       "2099  data/dog-food/1/02099.jpg  food\n",
       "\n",
       "[2100 rows x 2 columns]"
      ]
     },
     "execution_count": 16,
     "metadata": {},
     "output_type": "execute_result"
    }
   ],
   "source": [
    "unlabeled_samples = active_learning_dataset[\"unlabeled\"].remove_columns(\"image\")\n",
    "unlabeled_samples = unlabeled_samples.rename_column(\"label_name\", \"label\")\n",
    "\n",
    "df = unlabeled_samples.to_pandas()\n",
    "df\n"
   ]
  },
  {
   "cell_type": "markdown",
   "metadata": {},
   "source": [
    "Remove the initial samples from the unlabeled samples"
   ]
  },
  {
   "cell_type": "code",
   "execution_count": 17,
   "metadata": {},
   "outputs": [
    {
     "data": {
      "text/plain": [
       "{'data/dog-food/0/00093.jpg',\n",
       " 'data/dog-food/0/00101.jpg',\n",
       " 'data/dog-food/0/00142.jpg',\n",
       " 'data/dog-food/0/00206.jpg',\n",
       " 'data/dog-food/0/00271.jpg',\n",
       " 'data/dog-food/0/00364.jpg',\n",
       " 'data/dog-food/0/00376.jpg',\n",
       " 'data/dog-food/0/00529.jpg',\n",
       " 'data/dog-food/0/00566.jpg',\n",
       " 'data/dog-food/0/00588.jpg',\n",
       " 'data/dog-food/1/00922.jpg',\n",
       " 'data/dog-food/1/00995.jpg',\n",
       " 'data/dog-food/1/01032.jpg',\n",
       " 'data/dog-food/1/01047.jpg',\n",
       " 'data/dog-food/1/01131.jpg',\n",
       " 'data/dog-food/1/01159.jpg',\n",
       " 'data/dog-food/1/01208.jpg',\n",
       " 'data/dog-food/1/01274.jpg',\n",
       " 'data/dog-food/1/01588.jpg',\n",
       " 'data/dog-food/1/01983.jpg'}"
      ]
     },
     "execution_count": 17,
     "metadata": {},
     "output_type": "execute_result"
    }
   ],
   "source": [
    "initial_filepaths = set(initial_samples['filepath'])\n",
    "initial_filepaths"
   ]
  },
  {
   "cell_type": "code",
   "execution_count": 19,
   "metadata": {},
   "outputs": [
    {
     "data": {
      "application/vnd.jupyter.widget-view+json": {
       "model_id": "d1e0819041d042b98322d26fe873b33c",
       "version_major": 2,
       "version_minor": 0
      },
      "text/plain": [
       "Filter:   0%|          | 0/2080 [00:00<?, ? examples/s]"
      ]
     },
     "metadata": {},
     "output_type": "display_data"
    },
    {
     "data": {
      "text/plain": [
       "Dataset({\n",
       "    features: ['filepath', 'label'],\n",
       "    num_rows: 2080\n",
       "})"
      ]
     },
     "execution_count": 19,
     "metadata": {},
     "output_type": "execute_result"
    }
   ],
   "source": [
    "# Filter out rows that are in initial_samples\n",
    "unlabeled_samples = unlabeled_samples.filter(\n",
    "    lambda x: x['filepath'] not in initial_filepaths\n",
    ")\n",
    "\n",
    "unlabeled_samples"
   ]
  },
  {
   "cell_type": "code",
   "execution_count": 20,
   "metadata": {},
   "outputs": [],
   "source": [
    "df = unlabeled_samples.to_pandas()\n",
    "df\n",
    "df.to_parquet(\"data/dog-food/unlabeled_samples.parquet\")"
   ]
  },
  {
   "cell_type": "code",
   "execution_count": null,
   "metadata": {},
   "outputs": [],
   "source": []
  }
 ],
 "metadata": {
  "kernelspec": {
   "display_name": ".venv",
   "language": "python",
   "name": "python3"
  },
  "language_info": {
   "codemirror_mode": {
    "name": "ipython",
    "version": 3
   },
   "file_extension": ".py",
   "mimetype": "text/x-python",
   "name": "python",
   "nbconvert_exporter": "python",
   "pygments_lexer": "ipython3",
   "version": "3.12.8"
  }
 },
 "nbformat": 4,
 "nbformat_minor": 2
}
