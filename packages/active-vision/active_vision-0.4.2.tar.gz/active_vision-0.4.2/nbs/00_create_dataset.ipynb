{
 "cells": [
  {
   "cell_type": "code",
   "execution_count": 1,
   "metadata": {},
   "outputs": [
    {
     "data": {
      "text/plain": [
       "DatasetDict({\n",
       "    evaluation: Dataset({\n",
       "        features: ['image', 'filepath', 'label_name'],\n",
       "        num_rows: 3925\n",
       "    })\n",
       "    unlabeled: Dataset({\n",
       "        features: ['image', 'filepath', 'label_name'],\n",
       "        num_rows: 9469\n",
       "    })\n",
       "})"
      ]
     },
     "execution_count": 1,
     "metadata": {},
     "output_type": "execute_result"
    }
   ],
   "source": [
    "from datasets import load_dataset\n",
    "\n",
    "dataset = load_dataset(\"dnth/active-learning-imagenette\")\n",
    "\n",
    "dataset"
   ]
  },
  {
   "cell_type": "markdown",
   "metadata": {},
   "source": [
    "## Sample an initial training set\n",
    "\n",
    "To get started we sample 10 images for each class to \"seed\" the training set."
   ]
  },
  {
   "cell_type": "code",
   "execution_count": 2,
   "metadata": {},
   "outputs": [
    {
     "name": "stdout",
     "output_type": "stream",
     "text": [
      "Sampling process:\n",
      "\n",
      "=== Final Results ===\n",
      "Total samples: 100\n",
      "\n",
      "Samples per class:\n",
      "label_name      \n",
      "English springer    10\n",
      "French horn         10\n",
      "cassette player     10\n",
      "chain saw           10\n",
      "church              10\n",
      "garbage truck       10\n",
      "gas pump            10\n",
      "golf ball           10\n",
      "parachute           10\n",
      "tench               10\n",
      "Name: count, dtype: int64\n"
     ]
    }
   ],
   "source": [
    "import numpy as np\n",
    "\n",
    "seed = 316\n",
    "np.random.seed(seed)\n",
    "\n",
    "unique_labels = dataset[\"unlabeled\"].unique(\"label_name\")\n",
    "samples = []\n",
    "n_samples_per_class = 10\n",
    "\n",
    "print(\"Sampling process:\")\n",
    "for label in unique_labels:\n",
    "    label_indices = np.where(np.array(dataset[\"unlabeled\"][\"label_name\"]) == label)[0]\n",
    "    # Sample 10 random indices without replacement\n",
    "    random_indices = np.random.choice(\n",
    "        label_indices, size=n_samples_per_class, replace=False\n",
    "    )\n",
    "    samples.extend(random_indices)\n",
    "\n",
    "initial_samples = dataset[\"unlabeled\"].select(samples)\n",
    "\n",
    "# Verify the result (should show 100 rows total, 10 per class)\n",
    "print(\"\\n=== Final Results ===\")\n",
    "print(f\"Total samples: {len(initial_samples)}\")\n",
    "print(\"\\nSamples per class:\")\n",
    "print(initial_samples.select_columns([\"label_name\"]).to_pandas().value_counts())"
   ]
  },
  {
   "cell_type": "code",
   "execution_count": 3,
   "metadata": {},
   "outputs": [
    {
     "data": {
      "text/plain": [
       "Dataset({\n",
       "    features: ['image', 'filepath', 'label_name'],\n",
       "    num_rows: 100\n",
       "})"
      ]
     },
     "execution_count": 3,
     "metadata": {},
     "output_type": "execute_result"
    }
   ],
   "source": [
    "initial_samples"
   ]
  },
  {
   "cell_type": "code",
   "execution_count": 4,
   "metadata": {},
   "outputs": [
    {
     "data": {
      "text/plain": [
       "{'image': <PIL.JpegImagePlugin.JpegImageFile image mode=RGB size=90x90>,\n",
       " 'filepath': 'data/imagenette/2/00710.jpg',\n",
       " 'label_name': 'cassette player'}"
      ]
     },
     "execution_count": 4,
     "metadata": {},
     "output_type": "execute_result"
    }
   ],
   "source": [
    "initial_samples[0]"
   ]
  },
  {
   "cell_type": "code",
   "execution_count": 5,
   "metadata": {},
   "outputs": [
    {
     "data": {
      "text/html": [
       "<div>\n",
       "<style scoped>\n",
       "    .dataframe tbody tr th:only-of-type {\n",
       "        vertical-align: middle;\n",
       "    }\n",
       "\n",
       "    .dataframe tbody tr th {\n",
       "        vertical-align: top;\n",
       "    }\n",
       "\n",
       "    .dataframe thead th {\n",
       "        text-align: right;\n",
       "    }\n",
       "</style>\n",
       "<table border=\"1\" class=\"dataframe\">\n",
       "  <thead>\n",
       "    <tr style=\"text-align: right;\">\n",
       "      <th></th>\n",
       "      <th>filepath</th>\n",
       "      <th>label</th>\n",
       "    </tr>\n",
       "  </thead>\n",
       "  <tbody>\n",
       "    <tr>\n",
       "      <th>0</th>\n",
       "      <td>data/imagenette/2/00710.jpg</td>\n",
       "      <td>cassette player</td>\n",
       "    </tr>\n",
       "    <tr>\n",
       "      <th>1</th>\n",
       "      <td>data/imagenette/2/00063.jpg</td>\n",
       "      <td>cassette player</td>\n",
       "    </tr>\n",
       "    <tr>\n",
       "      <th>2</th>\n",
       "      <td>data/imagenette/2/00506.jpg</td>\n",
       "      <td>cassette player</td>\n",
       "    </tr>\n",
       "    <tr>\n",
       "      <th>3</th>\n",
       "      <td>data/imagenette/2/00575.jpg</td>\n",
       "      <td>cassette player</td>\n",
       "    </tr>\n",
       "    <tr>\n",
       "      <th>4</th>\n",
       "      <td>data/imagenette/2/00136.jpg</td>\n",
       "      <td>cassette player</td>\n",
       "    </tr>\n",
       "    <tr>\n",
       "      <th>...</th>\n",
       "      <td>...</td>\n",
       "      <td>...</td>\n",
       "    </tr>\n",
       "    <tr>\n",
       "      <th>95</th>\n",
       "      <td>data/imagenette/5/08926.jpg</td>\n",
       "      <td>French horn</td>\n",
       "    </tr>\n",
       "    <tr>\n",
       "      <th>96</th>\n",
       "      <td>data/imagenette/5/09359.jpg</td>\n",
       "      <td>French horn</td>\n",
       "    </tr>\n",
       "    <tr>\n",
       "      <th>97</th>\n",
       "      <td>data/imagenette/5/08999.jpg</td>\n",
       "      <td>French horn</td>\n",
       "    </tr>\n",
       "    <tr>\n",
       "      <th>98</th>\n",
       "      <td>data/imagenette/5/08777.jpg</td>\n",
       "      <td>French horn</td>\n",
       "    </tr>\n",
       "    <tr>\n",
       "      <th>99</th>\n",
       "      <td>data/imagenette/5/09016.jpg</td>\n",
       "      <td>French horn</td>\n",
       "    </tr>\n",
       "  </tbody>\n",
       "</table>\n",
       "<p>100 rows × 2 columns</p>\n",
       "</div>"
      ],
      "text/plain": [
       "                       filepath            label\n",
       "0   data/imagenette/2/00710.jpg  cassette player\n",
       "1   data/imagenette/2/00063.jpg  cassette player\n",
       "2   data/imagenette/2/00506.jpg  cassette player\n",
       "3   data/imagenette/2/00575.jpg  cassette player\n",
       "4   data/imagenette/2/00136.jpg  cassette player\n",
       "..                          ...              ...\n",
       "95  data/imagenette/5/08926.jpg      French horn\n",
       "96  data/imagenette/5/09359.jpg      French horn\n",
       "97  data/imagenette/5/08999.jpg      French horn\n",
       "98  data/imagenette/5/08777.jpg      French horn\n",
       "99  data/imagenette/5/09016.jpg      French horn\n",
       "\n",
       "[100 rows x 2 columns]"
      ]
     },
     "execution_count": 5,
     "metadata": {},
     "output_type": "execute_result"
    }
   ],
   "source": [
    "initial_samples = initial_samples.remove_columns(\"image\")\n",
    "initial_samples = initial_samples.rename_column(\"label_name\", \"label\")\n",
    "\n",
    "df = initial_samples.to_pandas()\n",
    "\n",
    "df\n"
   ]
  },
  {
   "cell_type": "code",
   "execution_count": 6,
   "metadata": {},
   "outputs": [],
   "source": [
    "df.to_parquet(\"initial_samples.parquet\")"
   ]
  },
  {
   "cell_type": "markdown",
   "metadata": {},
   "source": [
    "## Get evaluation set"
   ]
  },
  {
   "cell_type": "code",
   "execution_count": 7,
   "metadata": {},
   "outputs": [
    {
     "data": {
      "text/plain": [
       "Dataset({\n",
       "    features: ['filepath', 'label'],\n",
       "    num_rows: 3925\n",
       "})"
      ]
     },
     "execution_count": 7,
     "metadata": {},
     "output_type": "execute_result"
    }
   ],
   "source": [
    "eval_samples = dataset[\"evaluation\"].remove_columns(\"image\")\n",
    "eval_samples = eval_samples.rename_column(\"label_name\", \"label\")\n",
    "\n",
    "eval_samples"
   ]
  },
  {
   "cell_type": "code",
   "execution_count": 8,
   "metadata": {},
   "outputs": [
    {
     "data": {
      "text/html": [
       "<div>\n",
       "<style scoped>\n",
       "    .dataframe tbody tr th:only-of-type {\n",
       "        vertical-align: middle;\n",
       "    }\n",
       "\n",
       "    .dataframe tbody tr th {\n",
       "        vertical-align: top;\n",
       "    }\n",
       "\n",
       "    .dataframe thead th {\n",
       "        text-align: right;\n",
       "    }\n",
       "</style>\n",
       "<table border=\"1\" class=\"dataframe\">\n",
       "  <thead>\n",
       "    <tr style=\"text-align: right;\">\n",
       "      <th></th>\n",
       "      <th>filepath</th>\n",
       "      <th>label</th>\n",
       "    </tr>\n",
       "  </thead>\n",
       "  <tbody>\n",
       "    <tr>\n",
       "      <th>0</th>\n",
       "      <td>data/imagenette/2/00000.jpg</td>\n",
       "      <td>cassette player</td>\n",
       "    </tr>\n",
       "    <tr>\n",
       "      <th>1</th>\n",
       "      <td>data/imagenette/2/00001.jpg</td>\n",
       "      <td>cassette player</td>\n",
       "    </tr>\n",
       "    <tr>\n",
       "      <th>2</th>\n",
       "      <td>data/imagenette/2/00002.jpg</td>\n",
       "      <td>cassette player</td>\n",
       "    </tr>\n",
       "    <tr>\n",
       "      <th>3</th>\n",
       "      <td>data/imagenette/2/00003.jpg</td>\n",
       "      <td>cassette player</td>\n",
       "    </tr>\n",
       "    <tr>\n",
       "      <th>4</th>\n",
       "      <td>data/imagenette/2/00004.jpg</td>\n",
       "      <td>cassette player</td>\n",
       "    </tr>\n",
       "    <tr>\n",
       "      <th>...</th>\n",
       "      <td>...</td>\n",
       "      <td>...</td>\n",
       "    </tr>\n",
       "    <tr>\n",
       "      <th>3920</th>\n",
       "      <td>data/imagenette/5/03920.jpg</td>\n",
       "      <td>French horn</td>\n",
       "    </tr>\n",
       "    <tr>\n",
       "      <th>3921</th>\n",
       "      <td>data/imagenette/5/03921.jpg</td>\n",
       "      <td>French horn</td>\n",
       "    </tr>\n",
       "    <tr>\n",
       "      <th>3922</th>\n",
       "      <td>data/imagenette/5/03922.jpg</td>\n",
       "      <td>French horn</td>\n",
       "    </tr>\n",
       "    <tr>\n",
       "      <th>3923</th>\n",
       "      <td>data/imagenette/5/03923.jpg</td>\n",
       "      <td>French horn</td>\n",
       "    </tr>\n",
       "    <tr>\n",
       "      <th>3924</th>\n",
       "      <td>data/imagenette/5/03924.jpg</td>\n",
       "      <td>French horn</td>\n",
       "    </tr>\n",
       "  </tbody>\n",
       "</table>\n",
       "<p>3925 rows × 2 columns</p>\n",
       "</div>"
      ],
      "text/plain": [
       "                         filepath            label\n",
       "0     data/imagenette/2/00000.jpg  cassette player\n",
       "1     data/imagenette/2/00001.jpg  cassette player\n",
       "2     data/imagenette/2/00002.jpg  cassette player\n",
       "3     data/imagenette/2/00003.jpg  cassette player\n",
       "4     data/imagenette/2/00004.jpg  cassette player\n",
       "...                           ...              ...\n",
       "3920  data/imagenette/5/03920.jpg      French horn\n",
       "3921  data/imagenette/5/03921.jpg      French horn\n",
       "3922  data/imagenette/5/03922.jpg      French horn\n",
       "3923  data/imagenette/5/03923.jpg      French horn\n",
       "3924  data/imagenette/5/03924.jpg      French horn\n",
       "\n",
       "[3925 rows x 2 columns]"
      ]
     },
     "execution_count": 8,
     "metadata": {},
     "output_type": "execute_result"
    }
   ],
   "source": [
    "df = eval_samples.to_pandas()\n",
    "df"
   ]
  },
  {
   "cell_type": "code",
   "execution_count": 9,
   "metadata": {},
   "outputs": [],
   "source": [
    "df.to_parquet(\"evaluation_samples.parquet\")"
   ]
  },
  {
   "cell_type": "markdown",
   "metadata": {},
   "source": [
    "## Get the unlabeled dataset"
   ]
  },
  {
   "cell_type": "code",
   "execution_count": 10,
   "metadata": {},
   "outputs": [
    {
     "data": {
      "text/html": [
       "<div>\n",
       "<style scoped>\n",
       "    .dataframe tbody tr th:only-of-type {\n",
       "        vertical-align: middle;\n",
       "    }\n",
       "\n",
       "    .dataframe tbody tr th {\n",
       "        vertical-align: top;\n",
       "    }\n",
       "\n",
       "    .dataframe thead th {\n",
       "        text-align: right;\n",
       "    }\n",
       "</style>\n",
       "<table border=\"1\" class=\"dataframe\">\n",
       "  <thead>\n",
       "    <tr style=\"text-align: right;\">\n",
       "      <th></th>\n",
       "      <th>filepath</th>\n",
       "      <th>label</th>\n",
       "    </tr>\n",
       "  </thead>\n",
       "  <tbody>\n",
       "    <tr>\n",
       "      <th>0</th>\n",
       "      <td>data/imagenette/2/00000.jpg</td>\n",
       "      <td>cassette player</td>\n",
       "    </tr>\n",
       "    <tr>\n",
       "      <th>1</th>\n",
       "      <td>data/imagenette/2/00001.jpg</td>\n",
       "      <td>cassette player</td>\n",
       "    </tr>\n",
       "    <tr>\n",
       "      <th>2</th>\n",
       "      <td>data/imagenette/2/00002.jpg</td>\n",
       "      <td>cassette player</td>\n",
       "    </tr>\n",
       "    <tr>\n",
       "      <th>3</th>\n",
       "      <td>data/imagenette/2/00003.jpg</td>\n",
       "      <td>cassette player</td>\n",
       "    </tr>\n",
       "    <tr>\n",
       "      <th>4</th>\n",
       "      <td>data/imagenette/2/00004.jpg</td>\n",
       "      <td>cassette player</td>\n",
       "    </tr>\n",
       "    <tr>\n",
       "      <th>...</th>\n",
       "      <td>...</td>\n",
       "      <td>...</td>\n",
       "    </tr>\n",
       "    <tr>\n",
       "      <th>9464</th>\n",
       "      <td>data/imagenette/5/09464.jpg</td>\n",
       "      <td>French horn</td>\n",
       "    </tr>\n",
       "    <tr>\n",
       "      <th>9465</th>\n",
       "      <td>data/imagenette/5/09465.jpg</td>\n",
       "      <td>French horn</td>\n",
       "    </tr>\n",
       "    <tr>\n",
       "      <th>9466</th>\n",
       "      <td>data/imagenette/5/09466.jpg</td>\n",
       "      <td>French horn</td>\n",
       "    </tr>\n",
       "    <tr>\n",
       "      <th>9467</th>\n",
       "      <td>data/imagenette/5/09467.jpg</td>\n",
       "      <td>French horn</td>\n",
       "    </tr>\n",
       "    <tr>\n",
       "      <th>9468</th>\n",
       "      <td>data/imagenette/5/09468.jpg</td>\n",
       "      <td>French horn</td>\n",
       "    </tr>\n",
       "  </tbody>\n",
       "</table>\n",
       "<p>9469 rows × 2 columns</p>\n",
       "</div>"
      ],
      "text/plain": [
       "                         filepath            label\n",
       "0     data/imagenette/2/00000.jpg  cassette player\n",
       "1     data/imagenette/2/00001.jpg  cassette player\n",
       "2     data/imagenette/2/00002.jpg  cassette player\n",
       "3     data/imagenette/2/00003.jpg  cassette player\n",
       "4     data/imagenette/2/00004.jpg  cassette player\n",
       "...                           ...              ...\n",
       "9464  data/imagenette/5/09464.jpg      French horn\n",
       "9465  data/imagenette/5/09465.jpg      French horn\n",
       "9466  data/imagenette/5/09466.jpg      French horn\n",
       "9467  data/imagenette/5/09467.jpg      French horn\n",
       "9468  data/imagenette/5/09468.jpg      French horn\n",
       "\n",
       "[9469 rows x 2 columns]"
      ]
     },
     "execution_count": 10,
     "metadata": {},
     "output_type": "execute_result"
    }
   ],
   "source": [
    "unlabeled_samples = dataset[\"unlabeled\"].remove_columns(\"image\")\n",
    "unlabeled_samples = unlabeled_samples.rename_column(\"label_name\", \"label\")\n",
    "\n",
    "df = unlabeled_samples.to_pandas()\n",
    "df\n",
    "# df.to_parquet(\"unlabeled_samples.parquet\")\n"
   ]
  },
  {
   "cell_type": "code",
   "execution_count": 11,
   "metadata": {},
   "outputs": [
    {
     "data": {
      "text/plain": [
       "{'data/imagenette/0/01061.jpg',\n",
       " 'data/imagenette/0/01098.jpg',\n",
       " 'data/imagenette/0/01207.jpg',\n",
       " 'data/imagenette/0/01353.jpg',\n",
       " 'data/imagenette/0/01371.jpg',\n",
       " 'data/imagenette/0/01520.jpg',\n",
       " 'data/imagenette/0/01629.jpg',\n",
       " 'data/imagenette/0/01645.jpg',\n",
       " 'data/imagenette/0/01716.jpg',\n",
       " 'data/imagenette/0/01767.jpg',\n",
       " 'data/imagenette/1/05684.jpg',\n",
       " 'data/imagenette/1/05841.jpg',\n",
       " 'data/imagenette/1/06043.jpg',\n",
       " 'data/imagenette/1/06189.jpg',\n",
       " 'data/imagenette/1/06196.jpg',\n",
       " 'data/imagenette/1/06197.jpg',\n",
       " 'data/imagenette/1/06454.jpg',\n",
       " 'data/imagenette/1/06563.jpg',\n",
       " 'data/imagenette/1/06574.jpg',\n",
       " 'data/imagenette/1/06582.jpg',\n",
       " 'data/imagenette/2/00003.jpg',\n",
       " 'data/imagenette/2/00063.jpg',\n",
       " 'data/imagenette/2/00136.jpg',\n",
       " 'data/imagenette/2/00176.jpg',\n",
       " 'data/imagenette/2/00195.jpg',\n",
       " 'data/imagenette/2/00420.jpg',\n",
       " 'data/imagenette/2/00506.jpg',\n",
       " 'data/imagenette/2/00575.jpg',\n",
       " 'data/imagenette/2/00710.jpg',\n",
       " 'data/imagenette/2/00974.jpg',\n",
       " 'data/imagenette/3/01974.jpg',\n",
       " 'data/imagenette/3/02119.jpg',\n",
       " 'data/imagenette/3/02192.jpg',\n",
       " 'data/imagenette/3/02428.jpg',\n",
       " 'data/imagenette/3/02542.jpg',\n",
       " 'data/imagenette/3/02582.jpg',\n",
       " 'data/imagenette/3/02615.jpg',\n",
       " 'data/imagenette/3/02629.jpg',\n",
       " 'data/imagenette/3/02636.jpg',\n",
       " 'data/imagenette/3/02785.jpg',\n",
       " 'data/imagenette/4/02843.jpg',\n",
       " 'data/imagenette/4/02882.jpg',\n",
       " 'data/imagenette/4/03027.jpg',\n",
       " 'data/imagenette/4/03188.jpg',\n",
       " 'data/imagenette/4/03311.jpg',\n",
       " 'data/imagenette/4/03363.jpg',\n",
       " 'data/imagenette/4/03479.jpg',\n",
       " 'data/imagenette/4/03555.jpg',\n",
       " 'data/imagenette/4/03589.jpg',\n",
       " 'data/imagenette/4/03749.jpg',\n",
       " 'data/imagenette/5/08639.jpg',\n",
       " 'data/imagenette/5/08777.jpg',\n",
       " 'data/imagenette/5/08824.jpg',\n",
       " 'data/imagenette/5/08926.jpg',\n",
       " 'data/imagenette/5/08999.jpg',\n",
       " 'data/imagenette/5/09016.jpg',\n",
       " 'data/imagenette/5/09141.jpg',\n",
       " 'data/imagenette/5/09359.jpg',\n",
       " 'data/imagenette/5/09360.jpg',\n",
       " 'data/imagenette/5/09397.jpg',\n",
       " 'data/imagenette/6/07592.jpg',\n",
       " 'data/imagenette/6/07668.jpg',\n",
       " 'data/imagenette/6/07748.jpg',\n",
       " 'data/imagenette/6/07781.jpg',\n",
       " 'data/imagenette/6/07797.jpg',\n",
       " 'data/imagenette/6/07865.jpg',\n",
       " 'data/imagenette/6/07907.jpg',\n",
       " 'data/imagenette/6/08269.jpg',\n",
       " 'data/imagenette/6/08289.jpg',\n",
       " 'data/imagenette/6/08366.jpg',\n",
       " 'data/imagenette/7/04733.jpg',\n",
       " 'data/imagenette/7/04846.jpg',\n",
       " 'data/imagenette/7/05120.jpg',\n",
       " 'data/imagenette/7/05189.jpg',\n",
       " 'data/imagenette/7/05225.jpg',\n",
       " 'data/imagenette/7/05299.jpg',\n",
       " 'data/imagenette/7/05343.jpg',\n",
       " 'data/imagenette/7/05378.jpg',\n",
       " 'data/imagenette/7/05463.jpg',\n",
       " 'data/imagenette/7/05488.jpg',\n",
       " 'data/imagenette/8/06618.jpg',\n",
       " 'data/imagenette/8/06695.jpg',\n",
       " 'data/imagenette/8/06702.jpg',\n",
       " 'data/imagenette/8/06731.jpg',\n",
       " 'data/imagenette/8/06787.jpg',\n",
       " 'data/imagenette/8/06937.jpg',\n",
       " 'data/imagenette/8/07106.jpg',\n",
       " 'data/imagenette/8/07296.jpg',\n",
       " 'data/imagenette/8/07354.jpg',\n",
       " 'data/imagenette/8/07392.jpg',\n",
       " 'data/imagenette/9/03839.jpg',\n",
       " 'data/imagenette/9/03950.jpg',\n",
       " 'data/imagenette/9/04017.jpg',\n",
       " 'data/imagenette/9/04057.jpg',\n",
       " 'data/imagenette/9/04076.jpg',\n",
       " 'data/imagenette/9/04168.jpg',\n",
       " 'data/imagenette/9/04180.jpg',\n",
       " 'data/imagenette/9/04259.jpg',\n",
       " 'data/imagenette/9/04608.jpg',\n",
       " 'data/imagenette/9/04652.jpg'}"
      ]
     },
     "execution_count": 11,
     "metadata": {},
     "output_type": "execute_result"
    }
   ],
   "source": [
    "initial_filepaths = set(initial_samples['filepath'])\n",
    "initial_filepaths"
   ]
  },
  {
   "cell_type": "code",
   "execution_count": 12,
   "metadata": {},
   "outputs": [
    {
     "data": {
      "text/plain": [
       "100"
      ]
     },
     "execution_count": 12,
     "metadata": {},
     "output_type": "execute_result"
    }
   ],
   "source": [
    "len(initial_filepaths)"
   ]
  },
  {
   "cell_type": "code",
   "execution_count": 13,
   "metadata": {},
   "outputs": [],
   "source": [
    "# Filter out rows that are in initial_samples\n",
    "unlabeled_samples = unlabeled_samples.filter(\n",
    "    lambda x: x['filepath'] not in initial_filepaths\n",
    ")"
   ]
  },
  {
   "cell_type": "code",
   "execution_count": 14,
   "metadata": {},
   "outputs": [
    {
     "data": {
      "text/plain": [
       "Dataset({\n",
       "    features: ['filepath', 'label'],\n",
       "    num_rows: 9369\n",
       "})"
      ]
     },
     "execution_count": 14,
     "metadata": {},
     "output_type": "execute_result"
    }
   ],
   "source": [
    "unlabeled_samples"
   ]
  },
  {
   "cell_type": "code",
   "execution_count": 15,
   "metadata": {},
   "outputs": [
    {
     "data": {
      "text/html": [
       "<div>\n",
       "<style scoped>\n",
       "    .dataframe tbody tr th:only-of-type {\n",
       "        vertical-align: middle;\n",
       "    }\n",
       "\n",
       "    .dataframe tbody tr th {\n",
       "        vertical-align: top;\n",
       "    }\n",
       "\n",
       "    .dataframe thead th {\n",
       "        text-align: right;\n",
       "    }\n",
       "</style>\n",
       "<table border=\"1\" class=\"dataframe\">\n",
       "  <thead>\n",
       "    <tr style=\"text-align: right;\">\n",
       "      <th></th>\n",
       "      <th>filepath</th>\n",
       "      <th>label</th>\n",
       "    </tr>\n",
       "  </thead>\n",
       "  <tbody>\n",
       "    <tr>\n",
       "      <th>0</th>\n",
       "      <td>data/imagenette/2/00000.jpg</td>\n",
       "      <td>cassette player</td>\n",
       "    </tr>\n",
       "    <tr>\n",
       "      <th>1</th>\n",
       "      <td>data/imagenette/2/00001.jpg</td>\n",
       "      <td>cassette player</td>\n",
       "    </tr>\n",
       "    <tr>\n",
       "      <th>2</th>\n",
       "      <td>data/imagenette/2/00002.jpg</td>\n",
       "      <td>cassette player</td>\n",
       "    </tr>\n",
       "    <tr>\n",
       "      <th>3</th>\n",
       "      <td>data/imagenette/2/00004.jpg</td>\n",
       "      <td>cassette player</td>\n",
       "    </tr>\n",
       "    <tr>\n",
       "      <th>4</th>\n",
       "      <td>data/imagenette/2/00005.jpg</td>\n",
       "      <td>cassette player</td>\n",
       "    </tr>\n",
       "    <tr>\n",
       "      <th>...</th>\n",
       "      <td>...</td>\n",
       "      <td>...</td>\n",
       "    </tr>\n",
       "    <tr>\n",
       "      <th>9364</th>\n",
       "      <td>data/imagenette/5/09464.jpg</td>\n",
       "      <td>French horn</td>\n",
       "    </tr>\n",
       "    <tr>\n",
       "      <th>9365</th>\n",
       "      <td>data/imagenette/5/09465.jpg</td>\n",
       "      <td>French horn</td>\n",
       "    </tr>\n",
       "    <tr>\n",
       "      <th>9366</th>\n",
       "      <td>data/imagenette/5/09466.jpg</td>\n",
       "      <td>French horn</td>\n",
       "    </tr>\n",
       "    <tr>\n",
       "      <th>9367</th>\n",
       "      <td>data/imagenette/5/09467.jpg</td>\n",
       "      <td>French horn</td>\n",
       "    </tr>\n",
       "    <tr>\n",
       "      <th>9368</th>\n",
       "      <td>data/imagenette/5/09468.jpg</td>\n",
       "      <td>French horn</td>\n",
       "    </tr>\n",
       "  </tbody>\n",
       "</table>\n",
       "<p>9369 rows × 2 columns</p>\n",
       "</div>"
      ],
      "text/plain": [
       "                         filepath            label\n",
       "0     data/imagenette/2/00000.jpg  cassette player\n",
       "1     data/imagenette/2/00001.jpg  cassette player\n",
       "2     data/imagenette/2/00002.jpg  cassette player\n",
       "3     data/imagenette/2/00004.jpg  cassette player\n",
       "4     data/imagenette/2/00005.jpg  cassette player\n",
       "...                           ...              ...\n",
       "9364  data/imagenette/5/09464.jpg      French horn\n",
       "9365  data/imagenette/5/09465.jpg      French horn\n",
       "9366  data/imagenette/5/09466.jpg      French horn\n",
       "9367  data/imagenette/5/09467.jpg      French horn\n",
       "9368  data/imagenette/5/09468.jpg      French horn\n",
       "\n",
       "[9369 rows x 2 columns]"
      ]
     },
     "execution_count": 15,
     "metadata": {},
     "output_type": "execute_result"
    }
   ],
   "source": [
    "df = unlabeled_samples.to_pandas()\n",
    "df\n"
   ]
  },
  {
   "cell_type": "code",
   "execution_count": 16,
   "metadata": {},
   "outputs": [],
   "source": [
    "df.to_parquet(\"unlabeled_samples.parquet\")"
   ]
  },
  {
   "cell_type": "code",
   "execution_count": null,
   "metadata": {},
   "outputs": [],
   "source": []
  }
 ],
 "metadata": {
  "kernelspec": {
   "display_name": ".venv",
   "language": "python",
   "name": "python3"
  },
  "language_info": {
   "codemirror_mode": {
    "name": "ipython",
    "version": 3
   },
   "file_extension": ".py",
   "mimetype": "text/x-python",
   "name": "python",
   "nbconvert_exporter": "python",
   "pygments_lexer": "ipython3",
   "version": "3.12.8"
  }
 },
 "nbformat": 4,
 "nbformat_minor": 2
}
