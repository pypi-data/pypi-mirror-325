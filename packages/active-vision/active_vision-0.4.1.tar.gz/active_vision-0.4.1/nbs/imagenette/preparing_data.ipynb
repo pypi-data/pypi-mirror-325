{
 "cells": [
  {
   "cell_type": "markdown",
   "metadata": {},
   "source": [
    "## Download the dataset\n",
    "In this example, we will use the Imagenette dataset to demonstrate how to prepare data for active learning.\n",
    "\n",
    "Before we start, we need to prepare 3 sets of data:\n",
    "\n",
    "- Initial samples: A dataset of labeled images to train an initial model. If you don't have any labeled data, you can label some images yourself.\n",
    "- Unlabeled samples: A dataset of unlabeled images. We will continuously sample from this set using active learning strategies.\n",
    "- Evaluation samples: A dataset of labeled images. We will use this set to evaluate the performance of the model. This is the test set, DO NOT use it for active learning. Split this out in the beginning.\n",
    "\n",
    "We will use the Imagenette dataset as a working example in this notebook.\n",
    "\n",
    "First, lets download the dataset and extract it."
   ]
  },
  {
   "cell_type": "code",
   "execution_count": 1,
   "metadata": {},
   "outputs": [],
   "source": [
    "!wget https://s3.amazonaws.com/fast-ai-imageclas/imagenette2.tgz\n",
    "!tar -xvzf imagenette2.tgz\n",
    "!mv imagenette2 data/imagenette\n",
    "!rm imagenette2.tgz"
   ]
  },
  {
   "cell_type": "markdown",
   "metadata": {},
   "source": [
    "## Load the dataset\n",
    "\n",
    "`active-vision` currently supports datasets in a pandas dataframe format. The dataframe should have at least 2 columns: `filepath` and `label`."
   ]
  },
  {
   "cell_type": "code",
   "execution_count": 1,
   "metadata": {},
   "outputs": [
    {
     "data": {
      "text/plain": [
       "9469"
      ]
     },
     "execution_count": 1,
     "metadata": {},
     "output_type": "execute_result"
    }
   ],
   "source": [
    "from fastai.vision.all import get_image_files\n",
    "\n",
    "path = \"data/imagenette/train\"\n",
    "image_files = get_image_files(path)\n",
    "len(image_files)"
   ]
  },
  {
   "cell_type": "code",
   "execution_count": 2,
   "metadata": {},
   "outputs": [],
   "source": [
    "lbl_dict = {\n",
    "    \"n01440764\": \"tench\",\n",
    "    \"n02102040\": \"English springer\",\n",
    "    \"n02979186\": \"cassette player\",\n",
    "    \"n03000684\": \"chain saw\",\n",
    "    \"n03028079\": \"church\",\n",
    "    \"n03394916\": \"French horn\",\n",
    "    \"n03417042\": \"garbage truck\",\n",
    "    \"n03425413\": \"gas pump\",\n",
    "    \"n03445777\": \"golf ball\",\n",
    "    \"n03888257\": \"parachute\",\n",
    "}\n"
   ]
  },
  {
   "cell_type": "code",
   "execution_count": 3,
   "metadata": {},
   "outputs": [
    {
     "data": {
      "text/html": [
       "<div>\n",
       "<style scoped>\n",
       "    .dataframe tbody tr th:only-of-type {\n",
       "        vertical-align: middle;\n",
       "    }\n",
       "\n",
       "    .dataframe tbody tr th {\n",
       "        vertical-align: top;\n",
       "    }\n",
       "\n",
       "    .dataframe thead th {\n",
       "        text-align: right;\n",
       "    }\n",
       "</style>\n",
       "<table border=\"1\" class=\"dataframe\">\n",
       "  <thead>\n",
       "    <tr style=\"text-align: right;\">\n",
       "      <th></th>\n",
       "      <th>filepath</th>\n",
       "      <th>label</th>\n",
       "    </tr>\n",
       "  </thead>\n",
       "  <tbody>\n",
       "    <tr>\n",
       "      <th>0</th>\n",
       "      <td>data/imagenette/train/n03394916/ILSVRC2012_val_00046669.JPEG</td>\n",
       "      <td>French horn</td>\n",
       "    </tr>\n",
       "    <tr>\n",
       "      <th>1</th>\n",
       "      <td>data/imagenette/train/n03394916/n03394916_58454.JPEG</td>\n",
       "      <td>French horn</td>\n",
       "    </tr>\n",
       "    <tr>\n",
       "      <th>2</th>\n",
       "      <td>data/imagenette/train/n03394916/n03394916_32588.JPEG</td>\n",
       "      <td>French horn</td>\n",
       "    </tr>\n",
       "    <tr>\n",
       "      <th>3</th>\n",
       "      <td>data/imagenette/train/n03394916/n03394916_33663.JPEG</td>\n",
       "      <td>French horn</td>\n",
       "    </tr>\n",
       "    <tr>\n",
       "      <th>4</th>\n",
       "      <td>data/imagenette/train/n03394916/n03394916_27948.JPEG</td>\n",
       "      <td>French horn</td>\n",
       "    </tr>\n",
       "    <tr>\n",
       "      <th>...</th>\n",
       "      <td>...</td>\n",
       "      <td>...</td>\n",
       "    </tr>\n",
       "    <tr>\n",
       "      <th>9464</th>\n",
       "      <td>data/imagenette/train/n02979186/n02979186_8089.JPEG</td>\n",
       "      <td>cassette player</td>\n",
       "    </tr>\n",
       "    <tr>\n",
       "      <th>9465</th>\n",
       "      <td>data/imagenette/train/n02979186/n02979186_19444.JPEG</td>\n",
       "      <td>cassette player</td>\n",
       "    </tr>\n",
       "    <tr>\n",
       "      <th>9466</th>\n",
       "      <td>data/imagenette/train/n02979186/n02979186_11074.JPEG</td>\n",
       "      <td>cassette player</td>\n",
       "    </tr>\n",
       "    <tr>\n",
       "      <th>9467</th>\n",
       "      <td>data/imagenette/train/n02979186/n02979186_2938.JPEG</td>\n",
       "      <td>cassette player</td>\n",
       "    </tr>\n",
       "    <tr>\n",
       "      <th>9468</th>\n",
       "      <td>data/imagenette/train/n02979186/n02979186_93.JPEG</td>\n",
       "      <td>cassette player</td>\n",
       "    </tr>\n",
       "  </tbody>\n",
       "</table>\n",
       "<p>9469 rows × 2 columns</p>\n",
       "</div>"
      ],
      "text/plain": [
       "                                                          filepath  \\\n",
       "0     data/imagenette/train/n03394916/ILSVRC2012_val_00046669.JPEG   \n",
       "1             data/imagenette/train/n03394916/n03394916_58454.JPEG   \n",
       "2             data/imagenette/train/n03394916/n03394916_32588.JPEG   \n",
       "3             data/imagenette/train/n03394916/n03394916_33663.JPEG   \n",
       "4             data/imagenette/train/n03394916/n03394916_27948.JPEG   \n",
       "...                                                            ...   \n",
       "9464           data/imagenette/train/n02979186/n02979186_8089.JPEG   \n",
       "9465          data/imagenette/train/n02979186/n02979186_19444.JPEG   \n",
       "9466          data/imagenette/train/n02979186/n02979186_11074.JPEG   \n",
       "9467           data/imagenette/train/n02979186/n02979186_2938.JPEG   \n",
       "9468             data/imagenette/train/n02979186/n02979186_93.JPEG   \n",
       "\n",
       "                label  \n",
       "0         French horn  \n",
       "1         French horn  \n",
       "2         French horn  \n",
       "3         French horn  \n",
       "4         French horn  \n",
       "...               ...  \n",
       "9464  cassette player  \n",
       "9465  cassette player  \n",
       "9466  cassette player  \n",
       "9467  cassette player  \n",
       "9468  cassette player  \n",
       "\n",
       "[9469 rows x 2 columns]"
      ]
     },
     "execution_count": 3,
     "metadata": {},
     "output_type": "execute_result"
    }
   ],
   "source": [
    "import pandas as pd\n",
    "\n",
    "# Create a dataframe with the filepath and label from parent directory\n",
    "labels = [str(path.parts[-2]) for path in image_files]\n",
    "\n",
    "# Map the labels to the label dictionary\n",
    "labels = [lbl_dict[lbl] for lbl in labels]\n",
    "\n",
    "df = pd.DataFrame({\"filepath\": [str(path) for path in image_files], \"label\": labels})\n",
    "\n",
    "df"
   ]
  },
  {
   "cell_type": "markdown",
   "metadata": {},
   "source": [
    "## Initial samples\n",
    "As an initial step, we will randomly sample 10 samples from each class. We will use these samples to kickstart the active learning process."
   ]
  },
  {
   "cell_type": "code",
   "execution_count": 4,
   "metadata": {},
   "outputs": [
    {
     "name": "stderr",
     "output_type": "stream",
     "text": [
      "/var/folders/9y/5mpk58851fq38f8ljx2svvnm0000gn/T/ipykernel_22109/414664958.py:3: DeprecationWarning: DataFrameGroupBy.apply operated on the grouping columns. This behavior is deprecated, and in a future version of pandas the grouping columns will be excluded from the operation. Either pass `include_groups=False` to exclude the groupings or explicitly select the grouping columns after groupby to silence this warning.\n",
      "  .apply(lambda x: x.sample(n=10, random_state=316))\n"
     ]
    },
    {
     "data": {
      "text/html": [
       "<div>\n",
       "<style scoped>\n",
       "    .dataframe tbody tr th:only-of-type {\n",
       "        vertical-align: middle;\n",
       "    }\n",
       "\n",
       "    .dataframe tbody tr th {\n",
       "        vertical-align: top;\n",
       "    }\n",
       "\n",
       "    .dataframe thead th {\n",
       "        text-align: right;\n",
       "    }\n",
       "</style>\n",
       "<table border=\"1\" class=\"dataframe\">\n",
       "  <thead>\n",
       "    <tr style=\"text-align: right;\">\n",
       "      <th></th>\n",
       "      <th>filepath</th>\n",
       "      <th>label</th>\n",
       "    </tr>\n",
       "  </thead>\n",
       "  <tbody>\n",
       "    <tr>\n",
       "      <th>0</th>\n",
       "      <td>data/imagenette/train/n02102040/n02102040_2788.JPEG</td>\n",
       "      <td>English springer</td>\n",
       "    </tr>\n",
       "    <tr>\n",
       "      <th>1</th>\n",
       "      <td>data/imagenette/train/n02102040/n02102040_3759.JPEG</td>\n",
       "      <td>English springer</td>\n",
       "    </tr>\n",
       "    <tr>\n",
       "      <th>2</th>\n",
       "      <td>data/imagenette/train/n02102040/n02102040_1916.JPEG</td>\n",
       "      <td>English springer</td>\n",
       "    </tr>\n",
       "    <tr>\n",
       "      <th>3</th>\n",
       "      <td>data/imagenette/train/n02102040/n02102040_6147.JPEG</td>\n",
       "      <td>English springer</td>\n",
       "    </tr>\n",
       "    <tr>\n",
       "      <th>4</th>\n",
       "      <td>data/imagenette/train/n02102040/n02102040_403.JPEG</td>\n",
       "      <td>English springer</td>\n",
       "    </tr>\n",
       "    <tr>\n",
       "      <th>...</th>\n",
       "      <td>...</td>\n",
       "      <td>...</td>\n",
       "    </tr>\n",
       "    <tr>\n",
       "      <th>95</th>\n",
       "      <td>data/imagenette/train/n01440764/n01440764_10043.JPEG</td>\n",
       "      <td>tench</td>\n",
       "    </tr>\n",
       "    <tr>\n",
       "      <th>96</th>\n",
       "      <td>data/imagenette/train/n01440764/n01440764_31535.JPEG</td>\n",
       "      <td>tench</td>\n",
       "    </tr>\n",
       "    <tr>\n",
       "      <th>97</th>\n",
       "      <td>data/imagenette/train/n01440764/n01440764_12848.JPEG</td>\n",
       "      <td>tench</td>\n",
       "    </tr>\n",
       "    <tr>\n",
       "      <th>98</th>\n",
       "      <td>data/imagenette/train/n01440764/n01440764_3997.JPEG</td>\n",
       "      <td>tench</td>\n",
       "    </tr>\n",
       "    <tr>\n",
       "      <th>99</th>\n",
       "      <td>data/imagenette/train/n01440764/n01440764_29788.JPEG</td>\n",
       "      <td>tench</td>\n",
       "    </tr>\n",
       "  </tbody>\n",
       "</table>\n",
       "<p>100 rows × 2 columns</p>\n",
       "</div>"
      ],
      "text/plain": [
       "                                                filepath             label\n",
       "0    data/imagenette/train/n02102040/n02102040_2788.JPEG  English springer\n",
       "1    data/imagenette/train/n02102040/n02102040_3759.JPEG  English springer\n",
       "2    data/imagenette/train/n02102040/n02102040_1916.JPEG  English springer\n",
       "3    data/imagenette/train/n02102040/n02102040_6147.JPEG  English springer\n",
       "4     data/imagenette/train/n02102040/n02102040_403.JPEG  English springer\n",
       "..                                                   ...               ...\n",
       "95  data/imagenette/train/n01440764/n01440764_10043.JPEG             tench\n",
       "96  data/imagenette/train/n01440764/n01440764_31535.JPEG             tench\n",
       "97  data/imagenette/train/n01440764/n01440764_12848.JPEG             tench\n",
       "98   data/imagenette/train/n01440764/n01440764_3997.JPEG             tench\n",
       "99  data/imagenette/train/n01440764/n01440764_29788.JPEG             tench\n",
       "\n",
       "[100 rows x 2 columns]"
      ]
     },
     "execution_count": 4,
     "metadata": {},
     "output_type": "execute_result"
    }
   ],
   "source": [
    "initial_samples = (\n",
    "    df.groupby(\"label\")\n",
    "    .apply(lambda x: x.sample(n=10, random_state=316))\n",
    "    .reset_index(drop=True)\n",
    ")\n",
    "\n",
    "initial_samples"
   ]
  },
  {
   "cell_type": "markdown",
   "metadata": {},
   "source": [
    "Let's check the distribution of the labels."
   ]
  },
  {
   "cell_type": "code",
   "execution_count": 5,
   "metadata": {},
   "outputs": [
    {
     "data": {
      "text/plain": [
       "label\n",
       "English springer    10\n",
       "French horn         10\n",
       "cassette player     10\n",
       "chain saw           10\n",
       "church              10\n",
       "garbage truck       10\n",
       "gas pump            10\n",
       "golf ball           10\n",
       "parachute           10\n",
       "tench               10\n",
       "Name: count, dtype: int64"
      ]
     },
     "execution_count": 5,
     "metadata": {},
     "output_type": "execute_result"
    }
   ],
   "source": [
    "initial_samples[\"label\"].value_counts()"
   ]
  },
  {
   "cell_type": "markdown",
   "metadata": {},
   "source": [
    "And save it to a parquet file."
   ]
  },
  {
   "cell_type": "code",
   "execution_count": 6,
   "metadata": {},
   "outputs": [],
   "source": [
    "initial_samples.to_parquet(\"initial_samples.parquet\")"
   ]
  },
  {
   "cell_type": "markdown",
   "metadata": {},
   "source": [
    "## Unlabeled samples\n",
    "For the remaining samples, we will use them as unlabeled samples. We will sample from these samples using active learning strategies.\n"
   ]
  },
  {
   "cell_type": "code",
   "execution_count": 7,
   "metadata": {},
   "outputs": [
    {
     "data": {
      "text/html": [
       "<div>\n",
       "<style scoped>\n",
       "    .dataframe tbody tr th:only-of-type {\n",
       "        vertical-align: middle;\n",
       "    }\n",
       "\n",
       "    .dataframe tbody tr th {\n",
       "        vertical-align: top;\n",
       "    }\n",
       "\n",
       "    .dataframe thead th {\n",
       "        text-align: right;\n",
       "    }\n",
       "</style>\n",
       "<table border=\"1\" class=\"dataframe\">\n",
       "  <thead>\n",
       "    <tr style=\"text-align: right;\">\n",
       "      <th></th>\n",
       "      <th>filepath</th>\n",
       "      <th>label</th>\n",
       "    </tr>\n",
       "  </thead>\n",
       "  <tbody>\n",
       "    <tr>\n",
       "      <th>0</th>\n",
       "      <td>data/imagenette/train/n03394916/n03394916_4437.JPEG</td>\n",
       "      <td>French horn</td>\n",
       "    </tr>\n",
       "    <tr>\n",
       "      <th>1</th>\n",
       "      <td>data/imagenette/train/n03394916/n03394916_42413.JPEG</td>\n",
       "      <td>French horn</td>\n",
       "    </tr>\n",
       "    <tr>\n",
       "      <th>2</th>\n",
       "      <td>data/imagenette/train/n03394916/n03394916_38808.JPEG</td>\n",
       "      <td>French horn</td>\n",
       "    </tr>\n",
       "    <tr>\n",
       "      <th>3</th>\n",
       "      <td>data/imagenette/train/n03394916/n03394916_24128.JPEG</td>\n",
       "      <td>French horn</td>\n",
       "    </tr>\n",
       "    <tr>\n",
       "      <th>4</th>\n",
       "      <td>data/imagenette/train/n03394916/n03394916_11289.JPEG</td>\n",
       "      <td>French horn</td>\n",
       "    </tr>\n",
       "    <tr>\n",
       "      <th>...</th>\n",
       "      <td>...</td>\n",
       "      <td>...</td>\n",
       "    </tr>\n",
       "    <tr>\n",
       "      <th>9364</th>\n",
       "      <td>data/imagenette/train/n02979186/n02979186_8089.JPEG</td>\n",
       "      <td>cassette player</td>\n",
       "    </tr>\n",
       "    <tr>\n",
       "      <th>9365</th>\n",
       "      <td>data/imagenette/train/n02979186/n02979186_19444.JPEG</td>\n",
       "      <td>cassette player</td>\n",
       "    </tr>\n",
       "    <tr>\n",
       "      <th>9366</th>\n",
       "      <td>data/imagenette/train/n02979186/n02979186_11074.JPEG</td>\n",
       "      <td>cassette player</td>\n",
       "    </tr>\n",
       "    <tr>\n",
       "      <th>9367</th>\n",
       "      <td>data/imagenette/train/n02979186/n02979186_2938.JPEG</td>\n",
       "      <td>cassette player</td>\n",
       "    </tr>\n",
       "    <tr>\n",
       "      <th>9368</th>\n",
       "      <td>data/imagenette/train/n02979186/n02979186_93.JPEG</td>\n",
       "      <td>cassette player</td>\n",
       "    </tr>\n",
       "  </tbody>\n",
       "</table>\n",
       "<p>9369 rows × 2 columns</p>\n",
       "</div>"
      ],
      "text/plain": [
       "                                                  filepath            label\n",
       "0      data/imagenette/train/n03394916/n03394916_4437.JPEG      French horn\n",
       "1     data/imagenette/train/n03394916/n03394916_42413.JPEG      French horn\n",
       "2     data/imagenette/train/n03394916/n03394916_38808.JPEG      French horn\n",
       "3     data/imagenette/train/n03394916/n03394916_24128.JPEG      French horn\n",
       "4     data/imagenette/train/n03394916/n03394916_11289.JPEG      French horn\n",
       "...                                                    ...              ...\n",
       "9364   data/imagenette/train/n02979186/n02979186_8089.JPEG  cassette player\n",
       "9365  data/imagenette/train/n02979186/n02979186_19444.JPEG  cassette player\n",
       "9366  data/imagenette/train/n02979186/n02979186_11074.JPEG  cassette player\n",
       "9367   data/imagenette/train/n02979186/n02979186_2938.JPEG  cassette player\n",
       "9368     data/imagenette/train/n02979186/n02979186_93.JPEG  cassette player\n",
       "\n",
       "[9369 rows x 2 columns]"
      ]
     },
     "execution_count": 7,
     "metadata": {},
     "output_type": "execute_result"
    }
   ],
   "source": [
    "# Get the remaining samples by using pd.Index.difference\n",
    "remaining_samples = df[~df.index.isin(initial_samples.index)].reset_index(drop=True)\n",
    "remaining_samples\n"
   ]
  },
  {
   "cell_type": "code",
   "execution_count": 8,
   "metadata": {},
   "outputs": [],
   "source": [
    "remaining_samples.to_parquet(\"unlabeled_samples.parquet\")"
   ]
  },
  {
   "cell_type": "markdown",
   "metadata": {},
   "source": [
    "## Evaluation samples\n",
    "\n",
    "Now let's create the evaluation samples which will be used to evaluate the performance of the model. We will use the validation set from the Imagenette dataset as the evaluation set.\n",
    "\n"
   ]
  },
  {
   "cell_type": "code",
   "execution_count": 9,
   "metadata": {},
   "outputs": [
    {
     "data": {
      "text/plain": [
       "3925"
      ]
     },
     "execution_count": 9,
     "metadata": {},
     "output_type": "execute_result"
    }
   ],
   "source": [
    "path = \"data/imagenette/val\"\n",
    "image_files = get_image_files(path)\n",
    "len(image_files)\n"
   ]
  },
  {
   "cell_type": "code",
   "execution_count": 10,
   "metadata": {},
   "outputs": [
    {
     "data": {
      "text/html": [
       "<div>\n",
       "<style scoped>\n",
       "    .dataframe tbody tr th:only-of-type {\n",
       "        vertical-align: middle;\n",
       "    }\n",
       "\n",
       "    .dataframe tbody tr th {\n",
       "        vertical-align: top;\n",
       "    }\n",
       "\n",
       "    .dataframe thead th {\n",
       "        text-align: right;\n",
       "    }\n",
       "</style>\n",
       "<table border=\"1\" class=\"dataframe\">\n",
       "  <thead>\n",
       "    <tr style=\"text-align: right;\">\n",
       "      <th></th>\n",
       "      <th>filepath</th>\n",
       "      <th>label</th>\n",
       "    </tr>\n",
       "  </thead>\n",
       "  <tbody>\n",
       "    <tr>\n",
       "      <th>0</th>\n",
       "      <td>data/imagenette/val/n03394916/n03394916_32422.JPEG</td>\n",
       "      <td>French horn</td>\n",
       "    </tr>\n",
       "    <tr>\n",
       "      <th>1</th>\n",
       "      <td>data/imagenette/val/n03394916/n03394916_69132.JPEG</td>\n",
       "      <td>French horn</td>\n",
       "    </tr>\n",
       "    <tr>\n",
       "      <th>2</th>\n",
       "      <td>data/imagenette/val/n03394916/n03394916_33771.JPEG</td>\n",
       "      <td>French horn</td>\n",
       "    </tr>\n",
       "    <tr>\n",
       "      <th>3</th>\n",
       "      <td>data/imagenette/val/n03394916/n03394916_29940.JPEG</td>\n",
       "      <td>French horn</td>\n",
       "    </tr>\n",
       "    <tr>\n",
       "      <th>4</th>\n",
       "      <td>data/imagenette/val/n03394916/ILSVRC2012_val_00033682.JPEG</td>\n",
       "      <td>French horn</td>\n",
       "    </tr>\n",
       "    <tr>\n",
       "      <th>...</th>\n",
       "      <td>...</td>\n",
       "      <td>...</td>\n",
       "    </tr>\n",
       "    <tr>\n",
       "      <th>3920</th>\n",
       "      <td>data/imagenette/val/n02979186/n02979186_27392.JPEG</td>\n",
       "      <td>cassette player</td>\n",
       "    </tr>\n",
       "    <tr>\n",
       "      <th>3921</th>\n",
       "      <td>data/imagenette/val/n02979186/n02979186_2742.JPEG</td>\n",
       "      <td>cassette player</td>\n",
       "    </tr>\n",
       "    <tr>\n",
       "      <th>3922</th>\n",
       "      <td>data/imagenette/val/n02979186/n02979186_2312.JPEG</td>\n",
       "      <td>cassette player</td>\n",
       "    </tr>\n",
       "    <tr>\n",
       "      <th>3923</th>\n",
       "      <td>data/imagenette/val/n02979186/n02979186_12822.JPEG</td>\n",
       "      <td>cassette player</td>\n",
       "    </tr>\n",
       "    <tr>\n",
       "      <th>3924</th>\n",
       "      <td>data/imagenette/val/n02979186/ILSVRC2012_val_00042982.JPEG</td>\n",
       "      <td>cassette player</td>\n",
       "    </tr>\n",
       "  </tbody>\n",
       "</table>\n",
       "<p>3925 rows × 2 columns</p>\n",
       "</div>"
      ],
      "text/plain": [
       "                                                        filepath  \\\n",
       "0             data/imagenette/val/n03394916/n03394916_32422.JPEG   \n",
       "1             data/imagenette/val/n03394916/n03394916_69132.JPEG   \n",
       "2             data/imagenette/val/n03394916/n03394916_33771.JPEG   \n",
       "3             data/imagenette/val/n03394916/n03394916_29940.JPEG   \n",
       "4     data/imagenette/val/n03394916/ILSVRC2012_val_00033682.JPEG   \n",
       "...                                                          ...   \n",
       "3920          data/imagenette/val/n02979186/n02979186_27392.JPEG   \n",
       "3921           data/imagenette/val/n02979186/n02979186_2742.JPEG   \n",
       "3922           data/imagenette/val/n02979186/n02979186_2312.JPEG   \n",
       "3923          data/imagenette/val/n02979186/n02979186_12822.JPEG   \n",
       "3924  data/imagenette/val/n02979186/ILSVRC2012_val_00042982.JPEG   \n",
       "\n",
       "                label  \n",
       "0         French horn  \n",
       "1         French horn  \n",
       "2         French horn  \n",
       "3         French horn  \n",
       "4         French horn  \n",
       "...               ...  \n",
       "3920  cassette player  \n",
       "3921  cassette player  \n",
       "3922  cassette player  \n",
       "3923  cassette player  \n",
       "3924  cassette player  \n",
       "\n",
       "[3925 rows x 2 columns]"
      ]
     },
     "execution_count": 10,
     "metadata": {},
     "output_type": "execute_result"
    }
   ],
   "source": [
    "labels = [str(path.parts[-2]) for path in image_files]\n",
    "\n",
    "# Map the labels to the label dictionary\n",
    "labels = [lbl_dict[lbl] for lbl in labels]\n",
    "\n",
    "evaluation_samples = pd.DataFrame(\n",
    "    {\"filepath\": [str(path) for path in image_files], \"label\": labels}\n",
    ")\n",
    "\n",
    "evaluation_samples"
   ]
  },
  {
   "cell_type": "code",
   "execution_count": 11,
   "metadata": {},
   "outputs": [],
   "source": [
    "evaluation_samples.to_parquet(\"evaluation_samples.parquet\")"
   ]
  },
  {
   "cell_type": "markdown",
   "metadata": {},
   "source": [
    "We are now ready to start the active learning process."
   ]
  }
 ],
 "metadata": {
  "kernelspec": {
   "display_name": ".venv",
   "language": "python",
   "name": "python3"
  },
  "language_info": {
   "codemirror_mode": {
    "name": "ipython",
    "version": 3
   },
   "file_extension": ".py",
   "mimetype": "text/x-python",
   "name": "python",
   "nbconvert_exporter": "python",
   "pygments_lexer": "ipython3",
   "version": "3.12.8"
  }
 },
 "nbformat": 4,
 "nbformat_minor": 2
}
