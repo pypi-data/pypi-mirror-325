{
 "cells": [
  {
   "cell_type": "code",
   "execution_count": 1,
   "metadata": {},
   "outputs": [
    {
     "data": {
      "application/vnd.jupyter.widget-view+json": {
       "model_id": "153291b8687944be9b156adf69584d01",
       "version_major": 2,
       "version_minor": 0
      },
      "text/plain": [
       "README.md:   0%|          | 0.00/3.38k [00:00<?, ?B/s]"
      ]
     },
     "metadata": {},
     "output_type": "display_data"
    },
    {
     "data": {
      "application/vnd.jupyter.widget-view+json": {
       "model_id": "486955b980a6454582608e53baa2e1f7",
       "version_major": 2,
       "version_minor": 0
      },
      "text/plain": [
       "train-00000-of-00001.parquet:   0%|          | 0.00/105M [00:00<?, ?B/s]"
      ]
     },
     "metadata": {},
     "output_type": "display_data"
    },
    {
     "data": {
      "application/vnd.jupyter.widget-view+json": {
       "model_id": "a50c2c14bf604a10b4db71e036b45068",
       "version_major": 2,
       "version_minor": 0
      },
      "text/plain": [
       "test-00000-of-00001.parquet:   0%|          | 0.00/34.8M [00:00<?, ?B/s]"
      ]
     },
     "metadata": {},
     "output_type": "display_data"
    },
    {
     "data": {
      "application/vnd.jupyter.widget-view+json": {
       "model_id": "e93d0ba1c4db47e8a50a26eaa3dcc82c",
       "version_major": 2,
       "version_minor": 0
      },
      "text/plain": [
       "validation-00000-of-00001.parquet:   0%|          | 0.00/34.8M [00:00<?, ?B/s]"
      ]
     },
     "metadata": {},
     "output_type": "display_data"
    },
    {
     "data": {
      "application/vnd.jupyter.widget-view+json": {
       "model_id": "5df03615e0874544956efb32319e2c20",
       "version_major": 2,
       "version_minor": 0
      },
      "text/plain": [
       "Generating train split:   0%|          | 0/16200 [00:00<?, ? examples/s]"
      ]
     },
     "metadata": {},
     "output_type": "display_data"
    },
    {
     "data": {
      "application/vnd.jupyter.widget-view+json": {
       "model_id": "4c9c8ea3819d48a7882a647c5c48ce8f",
       "version_major": 2,
       "version_minor": 0
      },
      "text/plain": [
       "Generating test split:   0%|          | 0/5400 [00:00<?, ? examples/s]"
      ]
     },
     "metadata": {},
     "output_type": "display_data"
    },
    {
     "data": {
      "application/vnd.jupyter.widget-view+json": {
       "model_id": "e0618dc82a44488580f5fd89ae51dfae",
       "version_major": 2,
       "version_minor": 0
      },
      "text/plain": [
       "Generating validation split:   0%|          | 0/5400 [00:00<?, ? examples/s]"
      ]
     },
     "metadata": {},
     "output_type": "display_data"
    }
   ],
   "source": [
    "from datasets import load_dataset\n",
    "\n",
    "dataset = load_dataset(\"blanchon/EuroSAT_RGB\")\n"
   ]
  },
  {
   "cell_type": "code",
   "execution_count": 2,
   "metadata": {},
   "outputs": [
    {
     "data": {
      "text/plain": [
       "DatasetDict({\n",
       "    train: Dataset({\n",
       "        features: ['image', 'label', 'filename'],\n",
       "        num_rows: 16200\n",
       "    })\n",
       "    test: Dataset({\n",
       "        features: ['image', 'label', 'filename'],\n",
       "        num_rows: 5400\n",
       "    })\n",
       "    validation: Dataset({\n",
       "        features: ['image', 'label', 'filename'],\n",
       "        num_rows: 5400\n",
       "    })\n",
       "})"
      ]
     },
     "execution_count": 2,
     "metadata": {},
     "output_type": "execute_result"
    }
   ],
   "source": [
    "dataset"
   ]
  },
  {
   "cell_type": "markdown",
   "metadata": {},
   "source": [
    "## Save the dataset locally"
   ]
  },
  {
   "cell_type": "code",
   "execution_count": 6,
   "metadata": {},
   "outputs": [
    {
     "data": {
      "application/vnd.jupyter.widget-view+json": {
       "model_id": "39dab6f6e0cf42939cdd7e91d599d6b1",
       "version_major": 2,
       "version_minor": 0
      },
      "text/plain": [
       "Saving evaluation images (num_proc=8):   0%|          | 0/5400 [00:00<?, ? examples/s]"
      ]
     },
     "metadata": {},
     "output_type": "display_data"
    },
    {
     "data": {
      "application/vnd.jupyter.widget-view+json": {
       "model_id": "a7857ea0e5a145108c7234d4422fdaf3",
       "version_major": 2,
       "version_minor": 0
      },
      "text/plain": [
       "Saving unlabeled images (num_proc=8):   0%|          | 0/16200 [00:00<?, ? examples/s]"
      ]
     },
     "metadata": {},
     "output_type": "display_data"
    }
   ],
   "source": [
    "from pathlib import Path\n",
    "from loguru import logger\n",
    "from datasets import DatasetDict\n",
    "\n",
    "SAVE_DIR = Path(\"data/eurosat_rgb\")\n",
    "NUM_PROC = 8  \n",
    "CLASS_NAMES = dataset['train'].features['label'].names\n",
    "\n",
    "def save_image(example, idx):\n",
    "    \"\"\"Save a dataset image to disk with error handling and add label name.\n",
    "    \n",
    "    Args:\n",
    "        example (dict): Dataset example containing 'image' and 'label'\n",
    "        idx (int): Index of the example\n",
    "        \n",
    "    Returns:\n",
    "        dict: Dictionary containing the saved filepath and label_name\n",
    "    \"\"\"\n",
    "    try:\n",
    "        image = example['image']\n",
    "        label_id = example.get('label')  # Get label if it exists (won't exist for unlabeled)\n",
    "        \n",
    "        # Get label name if label exists\n",
    "        label_name = CLASS_NAMES[label_id] if label_id is not None else None\n",
    "        \n",
    "        # Create directory structure\n",
    "        label_dir = SAVE_DIR / str(label_id if label_id is not None else 'unlabeled')\n",
    "        label_dir.mkdir(parents=True, exist_ok=True)\n",
    "        \n",
    "        # Create filename with label subdirectory\n",
    "        filename = example['filename'].split('.')[0]\n",
    "        filepath = label_dir / f\"{filename}.jpg\"\n",
    "        \n",
    "        # Save with quality optimization\n",
    "        image.save(filepath, \"JPEG\", quality=95, optimize=True)\n",
    "        \n",
    "        return {\n",
    "            \"filepath\": str(filepath),\n",
    "            \"label_name\": label_name\n",
    "        }\n",
    "    \n",
    "    except Exception as e:\n",
    "        logger.error(f\"Error saving image {idx}: {str(e)}\")\n",
    "        return {\n",
    "            \"filepath\": None,\n",
    "            \"label_name\": None\n",
    "        }\n",
    "\n",
    "active_learning_dataset = DatasetDict()\n",
    "\n",
    "active_learning_dataset['evaluation'] = dataset['test'].map(\n",
    "    save_image,\n",
    "    with_indices=True,\n",
    "    num_proc=NUM_PROC,\n",
    "    desc=\"Saving evaluation images\",\n",
    "    remove_columns=\"label\"\n",
    ")\n",
    "\n",
    "active_learning_dataset['unlabeled'] = dataset['train'].map(\n",
    "    save_image,\n",
    "    with_indices=True,\n",
    "    num_proc=NUM_PROC,\n",
    "    desc=\"Saving unlabeled images\",\n",
    "    remove_columns=\"label\"\n",
    ")"
   ]
  },
  {
   "cell_type": "code",
   "execution_count": 7,
   "metadata": {},
   "outputs": [
    {
     "data": {
      "text/plain": [
       "DatasetDict({\n",
       "    evaluation: Dataset({\n",
       "        features: ['image', 'filename', 'filepath', 'label_name'],\n",
       "        num_rows: 5400\n",
       "    })\n",
       "    unlabeled: Dataset({\n",
       "        features: ['image', 'filename', 'filepath', 'label_name'],\n",
       "        num_rows: 16200\n",
       "    })\n",
       "})"
      ]
     },
     "execution_count": 7,
     "metadata": {},
     "output_type": "execute_result"
    }
   ],
   "source": [
    "active_learning_dataset"
   ]
  },
  {
   "cell_type": "markdown",
   "metadata": {},
   "source": [
    "## Make Initial Samples"
   ]
  },
  {
   "cell_type": "code",
   "execution_count": 8,
   "metadata": {},
   "outputs": [
    {
     "name": "stdout",
     "output_type": "stream",
     "text": [
      "Total samples: 100\n",
      "\n",
      "Samples per class:\n",
      "label_name           \n",
      "Annual Crop              10\n",
      "Forest                   10\n",
      "Herbaceous Vegetation    10\n",
      "Highway                  10\n",
      "Industrial Buildings     10\n",
      "Pasture                  10\n",
      "Permanent Crop           10\n",
      "Residential Buildings    10\n",
      "River                    10\n",
      "SeaLake                  10\n",
      "Name: count, dtype: int64\n"
     ]
    }
   ],
   "source": [
    "import numpy as np\n",
    "\n",
    "unique_labels = active_learning_dataset[\"unlabeled\"].unique(\"label_name\")\n",
    "samples = []\n",
    "n_samples_per_class = 10\n",
    "\n",
    "for label in unique_labels:\n",
    "    label_indices = np.where(np.array(active_learning_dataset[\"unlabeled\"][\"label_name\"]) == label)[0]\n",
    "    # Sample 10 random indices without replacement\n",
    "    random_indices = np.random.choice(\n",
    "        label_indices, size=n_samples_per_class, replace=False\n",
    "    )\n",
    "    samples.extend(random_indices)\n",
    "\n",
    "initial_samples = active_learning_dataset[\"unlabeled\"].select(samples)\n",
    "\n",
    "# Verify the result (should show 100 rows total, 10 per class)\n",
    "print(f\"Total samples: {len(initial_samples)}\")\n",
    "print(\"\\nSamples per class:\")\n",
    "print(initial_samples.select_columns([\"label_name\"]).to_pandas().value_counts())"
   ]
  },
  {
   "cell_type": "code",
   "execution_count": 9,
   "metadata": {},
   "outputs": [
    {
     "data": {
      "text/plain": [
       "Dataset({\n",
       "    features: ['image', 'filename', 'filepath', 'label_name'],\n",
       "    num_rows: 100\n",
       "})"
      ]
     },
     "execution_count": 9,
     "metadata": {},
     "output_type": "execute_result"
    }
   ],
   "source": [
    "initial_samples"
   ]
  },
  {
   "cell_type": "code",
   "execution_count": 10,
   "metadata": {},
   "outputs": [
    {
     "data": {
      "text/html": [
       "<div>\n",
       "<style scoped>\n",
       "    .dataframe tbody tr th:only-of-type {\n",
       "        vertical-align: middle;\n",
       "    }\n",
       "\n",
       "    .dataframe tbody tr th {\n",
       "        vertical-align: top;\n",
       "    }\n",
       "\n",
       "    .dataframe thead th {\n",
       "        text-align: right;\n",
       "    }\n",
       "</style>\n",
       "<table border=\"1\" class=\"dataframe\">\n",
       "  <thead>\n",
       "    <tr style=\"text-align: right;\">\n",
       "      <th></th>\n",
       "      <th>filename</th>\n",
       "      <th>filepath</th>\n",
       "      <th>label</th>\n",
       "    </tr>\n",
       "  </thead>\n",
       "  <tbody>\n",
       "    <tr>\n",
       "      <th>0</th>\n",
       "      <td>AnnualCrop_2216.tif</td>\n",
       "      <td>data/eurosat_rgb/0/AnnualCrop_2216.jpg</td>\n",
       "      <td>Annual Crop</td>\n",
       "    </tr>\n",
       "    <tr>\n",
       "      <th>1</th>\n",
       "      <td>AnnualCrop_1331.tif</td>\n",
       "      <td>data/eurosat_rgb/0/AnnualCrop_1331.jpg</td>\n",
       "      <td>Annual Crop</td>\n",
       "    </tr>\n",
       "    <tr>\n",
       "      <th>2</th>\n",
       "      <td>AnnualCrop_631.tif</td>\n",
       "      <td>data/eurosat_rgb/0/AnnualCrop_631.jpg</td>\n",
       "      <td>Annual Crop</td>\n",
       "    </tr>\n",
       "    <tr>\n",
       "      <th>3</th>\n",
       "      <td>AnnualCrop_2904.tif</td>\n",
       "      <td>data/eurosat_rgb/0/AnnualCrop_2904.jpg</td>\n",
       "      <td>Annual Crop</td>\n",
       "    </tr>\n",
       "    <tr>\n",
       "      <th>4</th>\n",
       "      <td>AnnualCrop_1963.tif</td>\n",
       "      <td>data/eurosat_rgb/0/AnnualCrop_1963.jpg</td>\n",
       "      <td>Annual Crop</td>\n",
       "    </tr>\n",
       "    <tr>\n",
       "      <th>...</th>\n",
       "      <td>...</td>\n",
       "      <td>...</td>\n",
       "      <td>...</td>\n",
       "    </tr>\n",
       "    <tr>\n",
       "      <th>95</th>\n",
       "      <td>SeaLake_1012.tif</td>\n",
       "      <td>data/eurosat_rgb/9/SeaLake_1012.jpg</td>\n",
       "      <td>SeaLake</td>\n",
       "    </tr>\n",
       "    <tr>\n",
       "      <th>96</th>\n",
       "      <td>SeaLake_735.tif</td>\n",
       "      <td>data/eurosat_rgb/9/SeaLake_735.jpg</td>\n",
       "      <td>SeaLake</td>\n",
       "    </tr>\n",
       "    <tr>\n",
       "      <th>97</th>\n",
       "      <td>SeaLake_561.tif</td>\n",
       "      <td>data/eurosat_rgb/9/SeaLake_561.jpg</td>\n",
       "      <td>SeaLake</td>\n",
       "    </tr>\n",
       "    <tr>\n",
       "      <th>98</th>\n",
       "      <td>SeaLake_2407.tif</td>\n",
       "      <td>data/eurosat_rgb/9/SeaLake_2407.jpg</td>\n",
       "      <td>SeaLake</td>\n",
       "    </tr>\n",
       "    <tr>\n",
       "      <th>99</th>\n",
       "      <td>SeaLake_442.tif</td>\n",
       "      <td>data/eurosat_rgb/9/SeaLake_442.jpg</td>\n",
       "      <td>SeaLake</td>\n",
       "    </tr>\n",
       "  </tbody>\n",
       "</table>\n",
       "<p>100 rows × 3 columns</p>\n",
       "</div>"
      ],
      "text/plain": [
       "               filename                                filepath        label\n",
       "0   AnnualCrop_2216.tif  data/eurosat_rgb/0/AnnualCrop_2216.jpg  Annual Crop\n",
       "1   AnnualCrop_1331.tif  data/eurosat_rgb/0/AnnualCrop_1331.jpg  Annual Crop\n",
       "2    AnnualCrop_631.tif   data/eurosat_rgb/0/AnnualCrop_631.jpg  Annual Crop\n",
       "3   AnnualCrop_2904.tif  data/eurosat_rgb/0/AnnualCrop_2904.jpg  Annual Crop\n",
       "4   AnnualCrop_1963.tif  data/eurosat_rgb/0/AnnualCrop_1963.jpg  Annual Crop\n",
       "..                  ...                                     ...          ...\n",
       "95     SeaLake_1012.tif     data/eurosat_rgb/9/SeaLake_1012.jpg      SeaLake\n",
       "96      SeaLake_735.tif      data/eurosat_rgb/9/SeaLake_735.jpg      SeaLake\n",
       "97      SeaLake_561.tif      data/eurosat_rgb/9/SeaLake_561.jpg      SeaLake\n",
       "98     SeaLake_2407.tif     data/eurosat_rgb/9/SeaLake_2407.jpg      SeaLake\n",
       "99      SeaLake_442.tif      data/eurosat_rgb/9/SeaLake_442.jpg      SeaLake\n",
       "\n",
       "[100 rows x 3 columns]"
      ]
     },
     "execution_count": 10,
     "metadata": {},
     "output_type": "execute_result"
    }
   ],
   "source": [
    "initial_samples = initial_samples.remove_columns(\"image\")\n",
    "df = initial_samples.to_pandas()\n",
    "df = df.rename(columns={\"label_name\": \"label\"})\n",
    "df"
   ]
  },
  {
   "cell_type": "code",
   "execution_count": 11,
   "metadata": {},
   "outputs": [],
   "source": [
    "df.to_parquet(\"data/eurosat_rgb/initial_samples.parquet\")"
   ]
  },
  {
   "cell_type": "markdown",
   "metadata": {},
   "source": [
    "## Make Evaluation Split"
   ]
  },
  {
   "cell_type": "code",
   "execution_count": 12,
   "metadata": {},
   "outputs": [
    {
     "data": {
      "text/plain": [
       "Dataset({\n",
       "    features: ['filename', 'filepath', 'label'],\n",
       "    num_rows: 5400\n",
       "})"
      ]
     },
     "execution_count": 12,
     "metadata": {},
     "output_type": "execute_result"
    }
   ],
   "source": [
    "eval_samples = active_learning_dataset[\"evaluation\"].remove_columns(\"image\")\n",
    "eval_samples = eval_samples.rename_column(\"label_name\", \"label\")\n",
    "eval_samples"
   ]
  },
  {
   "cell_type": "code",
   "execution_count": 13,
   "metadata": {},
   "outputs": [
    {
     "data": {
      "text/html": [
       "<div>\n",
       "<style scoped>\n",
       "    .dataframe tbody tr th:only-of-type {\n",
       "        vertical-align: middle;\n",
       "    }\n",
       "\n",
       "    .dataframe tbody tr th {\n",
       "        vertical-align: top;\n",
       "    }\n",
       "\n",
       "    .dataframe thead th {\n",
       "        text-align: right;\n",
       "    }\n",
       "</style>\n",
       "<table border=\"1\" class=\"dataframe\">\n",
       "  <thead>\n",
       "    <tr style=\"text-align: right;\">\n",
       "      <th></th>\n",
       "      <th>filename</th>\n",
       "      <th>filepath</th>\n",
       "      <th>label</th>\n",
       "    </tr>\n",
       "  </thead>\n",
       "  <tbody>\n",
       "    <tr>\n",
       "      <th>0</th>\n",
       "      <td>AnnualCrop_1002.tif</td>\n",
       "      <td>data/eurosat_rgb/0/AnnualCrop_1002.jpg</td>\n",
       "      <td>Annual Crop</td>\n",
       "    </tr>\n",
       "    <tr>\n",
       "      <th>1</th>\n",
       "      <td>AnnualCrop_1003.tif</td>\n",
       "      <td>data/eurosat_rgb/0/AnnualCrop_1003.jpg</td>\n",
       "      <td>Annual Crop</td>\n",
       "    </tr>\n",
       "    <tr>\n",
       "      <th>2</th>\n",
       "      <td>AnnualCrop_1007.tif</td>\n",
       "      <td>data/eurosat_rgb/0/AnnualCrop_1007.jpg</td>\n",
       "      <td>Annual Crop</td>\n",
       "    </tr>\n",
       "    <tr>\n",
       "      <th>3</th>\n",
       "      <td>AnnualCrop_1012.tif</td>\n",
       "      <td>data/eurosat_rgb/0/AnnualCrop_1012.jpg</td>\n",
       "      <td>Annual Crop</td>\n",
       "    </tr>\n",
       "    <tr>\n",
       "      <th>4</th>\n",
       "      <td>AnnualCrop_1015.tif</td>\n",
       "      <td>data/eurosat_rgb/0/AnnualCrop_1015.jpg</td>\n",
       "      <td>Annual Crop</td>\n",
       "    </tr>\n",
       "    <tr>\n",
       "      <th>...</th>\n",
       "      <td>...</td>\n",
       "      <td>...</td>\n",
       "      <td>...</td>\n",
       "    </tr>\n",
       "    <tr>\n",
       "      <th>5395</th>\n",
       "      <td>SeaLake_975.tif</td>\n",
       "      <td>data/eurosat_rgb/9/SeaLake_975.jpg</td>\n",
       "      <td>SeaLake</td>\n",
       "    </tr>\n",
       "    <tr>\n",
       "      <th>5396</th>\n",
       "      <td>SeaLake_983.tif</td>\n",
       "      <td>data/eurosat_rgb/9/SeaLake_983.jpg</td>\n",
       "      <td>SeaLake</td>\n",
       "    </tr>\n",
       "    <tr>\n",
       "      <th>5397</th>\n",
       "      <td>SeaLake_989.tif</td>\n",
       "      <td>data/eurosat_rgb/9/SeaLake_989.jpg</td>\n",
       "      <td>SeaLake</td>\n",
       "    </tr>\n",
       "    <tr>\n",
       "      <th>5398</th>\n",
       "      <td>SeaLake_990.tif</td>\n",
       "      <td>data/eurosat_rgb/9/SeaLake_990.jpg</td>\n",
       "      <td>SeaLake</td>\n",
       "    </tr>\n",
       "    <tr>\n",
       "      <th>5399</th>\n",
       "      <td>SeaLake_998.tif</td>\n",
       "      <td>data/eurosat_rgb/9/SeaLake_998.jpg</td>\n",
       "      <td>SeaLake</td>\n",
       "    </tr>\n",
       "  </tbody>\n",
       "</table>\n",
       "<p>5400 rows × 3 columns</p>\n",
       "</div>"
      ],
      "text/plain": [
       "                 filename                                filepath        label\n",
       "0     AnnualCrop_1002.tif  data/eurosat_rgb/0/AnnualCrop_1002.jpg  Annual Crop\n",
       "1     AnnualCrop_1003.tif  data/eurosat_rgb/0/AnnualCrop_1003.jpg  Annual Crop\n",
       "2     AnnualCrop_1007.tif  data/eurosat_rgb/0/AnnualCrop_1007.jpg  Annual Crop\n",
       "3     AnnualCrop_1012.tif  data/eurosat_rgb/0/AnnualCrop_1012.jpg  Annual Crop\n",
       "4     AnnualCrop_1015.tif  data/eurosat_rgb/0/AnnualCrop_1015.jpg  Annual Crop\n",
       "...                   ...                                     ...          ...\n",
       "5395      SeaLake_975.tif      data/eurosat_rgb/9/SeaLake_975.jpg      SeaLake\n",
       "5396      SeaLake_983.tif      data/eurosat_rgb/9/SeaLake_983.jpg      SeaLake\n",
       "5397      SeaLake_989.tif      data/eurosat_rgb/9/SeaLake_989.jpg      SeaLake\n",
       "5398      SeaLake_990.tif      data/eurosat_rgb/9/SeaLake_990.jpg      SeaLake\n",
       "5399      SeaLake_998.tif      data/eurosat_rgb/9/SeaLake_998.jpg      SeaLake\n",
       "\n",
       "[5400 rows x 3 columns]"
      ]
     },
     "execution_count": 13,
     "metadata": {},
     "output_type": "execute_result"
    }
   ],
   "source": [
    "df = eval_samples.to_pandas()\n",
    "df"
   ]
  },
  {
   "cell_type": "code",
   "execution_count": 14,
   "metadata": {},
   "outputs": [],
   "source": [
    "df.to_parquet(\"data/eurosat_rgb/evaluation_samples.parquet\")"
   ]
  },
  {
   "cell_type": "markdown",
   "metadata": {},
   "source": [
    "## Make Unlabeled Split"
   ]
  },
  {
   "cell_type": "code",
   "execution_count": 15,
   "metadata": {},
   "outputs": [
    {
     "data": {
      "text/html": [
       "<div>\n",
       "<style scoped>\n",
       "    .dataframe tbody tr th:only-of-type {\n",
       "        vertical-align: middle;\n",
       "    }\n",
       "\n",
       "    .dataframe tbody tr th {\n",
       "        vertical-align: top;\n",
       "    }\n",
       "\n",
       "    .dataframe thead th {\n",
       "        text-align: right;\n",
       "    }\n",
       "</style>\n",
       "<table border=\"1\" class=\"dataframe\">\n",
       "  <thead>\n",
       "    <tr style=\"text-align: right;\">\n",
       "      <th></th>\n",
       "      <th>filename</th>\n",
       "      <th>filepath</th>\n",
       "      <th>label</th>\n",
       "    </tr>\n",
       "  </thead>\n",
       "  <tbody>\n",
       "    <tr>\n",
       "      <th>0</th>\n",
       "      <td>AnnualCrop_1.tif</td>\n",
       "      <td>data/eurosat_rgb/0/AnnualCrop_1.jpg</td>\n",
       "      <td>Annual Crop</td>\n",
       "    </tr>\n",
       "    <tr>\n",
       "      <th>1</th>\n",
       "      <td>AnnualCrop_10.tif</td>\n",
       "      <td>data/eurosat_rgb/0/AnnualCrop_10.jpg</td>\n",
       "      <td>Annual Crop</td>\n",
       "    </tr>\n",
       "    <tr>\n",
       "      <th>2</th>\n",
       "      <td>AnnualCrop_100.tif</td>\n",
       "      <td>data/eurosat_rgb/0/AnnualCrop_100.jpg</td>\n",
       "      <td>Annual Crop</td>\n",
       "    </tr>\n",
       "    <tr>\n",
       "      <th>3</th>\n",
       "      <td>AnnualCrop_1000.tif</td>\n",
       "      <td>data/eurosat_rgb/0/AnnualCrop_1000.jpg</td>\n",
       "      <td>Annual Crop</td>\n",
       "    </tr>\n",
       "    <tr>\n",
       "      <th>4</th>\n",
       "      <td>AnnualCrop_1001.tif</td>\n",
       "      <td>data/eurosat_rgb/0/AnnualCrop_1001.jpg</td>\n",
       "      <td>Annual Crop</td>\n",
       "    </tr>\n",
       "    <tr>\n",
       "      <th>...</th>\n",
       "      <td>...</td>\n",
       "      <td>...</td>\n",
       "      <td>...</td>\n",
       "    </tr>\n",
       "    <tr>\n",
       "      <th>16195</th>\n",
       "      <td>SeaLake_993.tif</td>\n",
       "      <td>data/eurosat_rgb/9/SeaLake_993.jpg</td>\n",
       "      <td>SeaLake</td>\n",
       "    </tr>\n",
       "    <tr>\n",
       "      <th>16196</th>\n",
       "      <td>SeaLake_994.tif</td>\n",
       "      <td>data/eurosat_rgb/9/SeaLake_994.jpg</td>\n",
       "      <td>SeaLake</td>\n",
       "    </tr>\n",
       "    <tr>\n",
       "      <th>16197</th>\n",
       "      <td>SeaLake_995.tif</td>\n",
       "      <td>data/eurosat_rgb/9/SeaLake_995.jpg</td>\n",
       "      <td>SeaLake</td>\n",
       "    </tr>\n",
       "    <tr>\n",
       "      <th>16198</th>\n",
       "      <td>SeaLake_996.tif</td>\n",
       "      <td>data/eurosat_rgb/9/SeaLake_996.jpg</td>\n",
       "      <td>SeaLake</td>\n",
       "    </tr>\n",
       "    <tr>\n",
       "      <th>16199</th>\n",
       "      <td>SeaLake_997.tif</td>\n",
       "      <td>data/eurosat_rgb/9/SeaLake_997.jpg</td>\n",
       "      <td>SeaLake</td>\n",
       "    </tr>\n",
       "  </tbody>\n",
       "</table>\n",
       "<p>16200 rows × 3 columns</p>\n",
       "</div>"
      ],
      "text/plain": [
       "                  filename                                filepath  \\\n",
       "0         AnnualCrop_1.tif     data/eurosat_rgb/0/AnnualCrop_1.jpg   \n",
       "1        AnnualCrop_10.tif    data/eurosat_rgb/0/AnnualCrop_10.jpg   \n",
       "2       AnnualCrop_100.tif   data/eurosat_rgb/0/AnnualCrop_100.jpg   \n",
       "3      AnnualCrop_1000.tif  data/eurosat_rgb/0/AnnualCrop_1000.jpg   \n",
       "4      AnnualCrop_1001.tif  data/eurosat_rgb/0/AnnualCrop_1001.jpg   \n",
       "...                    ...                                     ...   \n",
       "16195      SeaLake_993.tif      data/eurosat_rgb/9/SeaLake_993.jpg   \n",
       "16196      SeaLake_994.tif      data/eurosat_rgb/9/SeaLake_994.jpg   \n",
       "16197      SeaLake_995.tif      data/eurosat_rgb/9/SeaLake_995.jpg   \n",
       "16198      SeaLake_996.tif      data/eurosat_rgb/9/SeaLake_996.jpg   \n",
       "16199      SeaLake_997.tif      data/eurosat_rgb/9/SeaLake_997.jpg   \n",
       "\n",
       "             label  \n",
       "0      Annual Crop  \n",
       "1      Annual Crop  \n",
       "2      Annual Crop  \n",
       "3      Annual Crop  \n",
       "4      Annual Crop  \n",
       "...            ...  \n",
       "16195      SeaLake  \n",
       "16196      SeaLake  \n",
       "16197      SeaLake  \n",
       "16198      SeaLake  \n",
       "16199      SeaLake  \n",
       "\n",
       "[16200 rows x 3 columns]"
      ]
     },
     "execution_count": 15,
     "metadata": {},
     "output_type": "execute_result"
    }
   ],
   "source": [
    "unlabeled_samples = active_learning_dataset[\"unlabeled\"].remove_columns(\"image\")\n",
    "unlabeled_samples = unlabeled_samples.rename_column(\"label_name\", \"label\")\n",
    "\n",
    "df = unlabeled_samples.to_pandas()\n",
    "df\n"
   ]
  },
  {
   "cell_type": "markdown",
   "metadata": {},
   "source": [
    "Remove the initial samples from the unlabeled samples"
   ]
  },
  {
   "cell_type": "code",
   "execution_count": 16,
   "metadata": {},
   "outputs": [
    {
     "data": {
      "text/plain": [
       "{'data/eurosat_rgb/0/AnnualCrop_1331.jpg',\n",
       " 'data/eurosat_rgb/0/AnnualCrop_1842.jpg',\n",
       " 'data/eurosat_rgb/0/AnnualCrop_1963.jpg',\n",
       " 'data/eurosat_rgb/0/AnnualCrop_2216.jpg',\n",
       " 'data/eurosat_rgb/0/AnnualCrop_2783.jpg',\n",
       " 'data/eurosat_rgb/0/AnnualCrop_2904.jpg',\n",
       " 'data/eurosat_rgb/0/AnnualCrop_545.jpg',\n",
       " 'data/eurosat_rgb/0/AnnualCrop_631.jpg',\n",
       " 'data/eurosat_rgb/0/AnnualCrop_634.jpg',\n",
       " 'data/eurosat_rgb/0/AnnualCrop_928.jpg',\n",
       " 'data/eurosat_rgb/1/Forest_1372.jpg',\n",
       " 'data/eurosat_rgb/1/Forest_1712.jpg',\n",
       " 'data/eurosat_rgb/1/Forest_1787.jpg',\n",
       " 'data/eurosat_rgb/1/Forest_2120.jpg',\n",
       " 'data/eurosat_rgb/1/Forest_2657.jpg',\n",
       " 'data/eurosat_rgb/1/Forest_2937.jpg',\n",
       " 'data/eurosat_rgb/1/Forest_391.jpg',\n",
       " 'data/eurosat_rgb/1/Forest_605.jpg',\n",
       " 'data/eurosat_rgb/1/Forest_616.jpg',\n",
       " 'data/eurosat_rgb/1/Forest_9.jpg',\n",
       " 'data/eurosat_rgb/2/HerbaceousVegetation_1418.jpg',\n",
       " 'data/eurosat_rgb/2/HerbaceousVegetation_1539.jpg',\n",
       " 'data/eurosat_rgb/2/HerbaceousVegetation_1569.jpg',\n",
       " 'data/eurosat_rgb/2/HerbaceousVegetation_1623.jpg',\n",
       " 'data/eurosat_rgb/2/HerbaceousVegetation_1790.jpg',\n",
       " 'data/eurosat_rgb/2/HerbaceousVegetation_2152.jpg',\n",
       " 'data/eurosat_rgb/2/HerbaceousVegetation_2199.jpg',\n",
       " 'data/eurosat_rgb/2/HerbaceousVegetation_2728.jpg',\n",
       " 'data/eurosat_rgb/2/HerbaceousVegetation_2806.jpg',\n",
       " 'data/eurosat_rgb/2/HerbaceousVegetation_2973.jpg',\n",
       " 'data/eurosat_rgb/3/Highway_1399.jpg',\n",
       " 'data/eurosat_rgb/3/Highway_1569.jpg',\n",
       " 'data/eurosat_rgb/3/Highway_1706.jpg',\n",
       " 'data/eurosat_rgb/3/Highway_1929.jpg',\n",
       " 'data/eurosat_rgb/3/Highway_2087.jpg',\n",
       " 'data/eurosat_rgb/3/Highway_2319.jpg',\n",
       " 'data/eurosat_rgb/3/Highway_2330.jpg',\n",
       " 'data/eurosat_rgb/3/Highway_259.jpg',\n",
       " 'data/eurosat_rgb/3/Highway_729.jpg',\n",
       " 'data/eurosat_rgb/3/Highway_825.jpg',\n",
       " 'data/eurosat_rgb/4/Industrial_1066.jpg',\n",
       " 'data/eurosat_rgb/4/Industrial_1107.jpg',\n",
       " 'data/eurosat_rgb/4/Industrial_1124.jpg',\n",
       " 'data/eurosat_rgb/4/Industrial_119.jpg',\n",
       " 'data/eurosat_rgb/4/Industrial_1511.jpg',\n",
       " 'data/eurosat_rgb/4/Industrial_2210.jpg',\n",
       " 'data/eurosat_rgb/4/Industrial_2420.jpg',\n",
       " 'data/eurosat_rgb/4/Industrial_295.jpg',\n",
       " 'data/eurosat_rgb/4/Industrial_426.jpg',\n",
       " 'data/eurosat_rgb/4/Industrial_821.jpg',\n",
       " 'data/eurosat_rgb/5/Pasture_1056.jpg',\n",
       " 'data/eurosat_rgb/5/Pasture_1216.jpg',\n",
       " 'data/eurosat_rgb/5/Pasture_1320.jpg',\n",
       " 'data/eurosat_rgb/5/Pasture_139.jpg',\n",
       " 'data/eurosat_rgb/5/Pasture_1589.jpg',\n",
       " 'data/eurosat_rgb/5/Pasture_1692.jpg',\n",
       " 'data/eurosat_rgb/5/Pasture_1912.jpg',\n",
       " 'data/eurosat_rgb/5/Pasture_1956.jpg',\n",
       " 'data/eurosat_rgb/5/Pasture_258.jpg',\n",
       " 'data/eurosat_rgb/5/Pasture_410.jpg',\n",
       " 'data/eurosat_rgb/6/PermanentCrop_1083.jpg',\n",
       " 'data/eurosat_rgb/6/PermanentCrop_1249.jpg',\n",
       " 'data/eurosat_rgb/6/PermanentCrop_1331.jpg',\n",
       " 'data/eurosat_rgb/6/PermanentCrop_1481.jpg',\n",
       " 'data/eurosat_rgb/6/PermanentCrop_1594.jpg',\n",
       " 'data/eurosat_rgb/6/PermanentCrop_1926.jpg',\n",
       " 'data/eurosat_rgb/6/PermanentCrop_38.jpg',\n",
       " 'data/eurosat_rgb/6/PermanentCrop_547.jpg',\n",
       " 'data/eurosat_rgb/6/PermanentCrop_90.jpg',\n",
       " 'data/eurosat_rgb/6/PermanentCrop_993.jpg',\n",
       " 'data/eurosat_rgb/7/Residential_1521.jpg',\n",
       " 'data/eurosat_rgb/7/Residential_1614.jpg',\n",
       " 'data/eurosat_rgb/7/Residential_1714.jpg',\n",
       " 'data/eurosat_rgb/7/Residential_1754.jpg',\n",
       " 'data/eurosat_rgb/7/Residential_2828.jpg',\n",
       " 'data/eurosat_rgb/7/Residential_2894.jpg',\n",
       " 'data/eurosat_rgb/7/Residential_300.jpg',\n",
       " 'data/eurosat_rgb/7/Residential_447.jpg',\n",
       " 'data/eurosat_rgb/7/Residential_632.jpg',\n",
       " 'data/eurosat_rgb/7/Residential_938.jpg',\n",
       " 'data/eurosat_rgb/8/River_1005.jpg',\n",
       " 'data/eurosat_rgb/8/River_134.jpg',\n",
       " 'data/eurosat_rgb/8/River_1353.jpg',\n",
       " 'data/eurosat_rgb/8/River_1591.jpg',\n",
       " 'data/eurosat_rgb/8/River_1779.jpg',\n",
       " 'data/eurosat_rgb/8/River_2103.jpg',\n",
       " 'data/eurosat_rgb/8/River_2414.jpg',\n",
       " 'data/eurosat_rgb/8/River_442.jpg',\n",
       " 'data/eurosat_rgb/8/River_797.jpg',\n",
       " 'data/eurosat_rgb/8/River_981.jpg',\n",
       " 'data/eurosat_rgb/9/SeaLake_1012.jpg',\n",
       " 'data/eurosat_rgb/9/SeaLake_1785.jpg',\n",
       " 'data/eurosat_rgb/9/SeaLake_2047.jpg',\n",
       " 'data/eurosat_rgb/9/SeaLake_2160.jpg',\n",
       " 'data/eurosat_rgb/9/SeaLake_2407.jpg',\n",
       " 'data/eurosat_rgb/9/SeaLake_442.jpg',\n",
       " 'data/eurosat_rgb/9/SeaLake_561.jpg',\n",
       " 'data/eurosat_rgb/9/SeaLake_567.jpg',\n",
       " 'data/eurosat_rgb/9/SeaLake_579.jpg',\n",
       " 'data/eurosat_rgb/9/SeaLake_735.jpg'}"
      ]
     },
     "execution_count": 16,
     "metadata": {},
     "output_type": "execute_result"
    }
   ],
   "source": [
    "initial_filepaths = set(initial_samples['filepath'])\n",
    "initial_filepaths"
   ]
  },
  {
   "cell_type": "code",
   "execution_count": 17,
   "metadata": {},
   "outputs": [
    {
     "data": {
      "application/vnd.jupyter.widget-view+json": {
       "model_id": "b0bdc50863ac4408b0df4e6f9f02559b",
       "version_major": 2,
       "version_minor": 0
      },
      "text/plain": [
       "Filter:   0%|          | 0/16200 [00:00<?, ? examples/s]"
      ]
     },
     "metadata": {},
     "output_type": "display_data"
    },
    {
     "data": {
      "text/plain": [
       "Dataset({\n",
       "    features: ['filename', 'filepath', 'label'],\n",
       "    num_rows: 16100\n",
       "})"
      ]
     },
     "execution_count": 17,
     "metadata": {},
     "output_type": "execute_result"
    }
   ],
   "source": [
    "# Filter out rows that are in initial_samples\n",
    "unlabeled_samples = unlabeled_samples.filter(\n",
    "    lambda x: x['filepath'] not in initial_filepaths\n",
    ")\n",
    "\n",
    "unlabeled_samples"
   ]
  },
  {
   "cell_type": "code",
   "execution_count": 18,
   "metadata": {},
   "outputs": [],
   "source": [
    "df = unlabeled_samples.to_pandas()\n",
    "df\n",
    "df.to_parquet(\"data/eurosat_rgb/unlabeled_samples.parquet\")\n"
   ]
  },
  {
   "cell_type": "code",
   "execution_count": null,
   "metadata": {},
   "outputs": [],
   "source": []
  }
 ],
 "metadata": {
  "kernelspec": {
   "display_name": ".venv",
   "language": "python",
   "name": "python3"
  },
  "language_info": {
   "codemirror_mode": {
    "name": "ipython",
    "version": 3
   },
   "file_extension": ".py",
   "mimetype": "text/x-python",
   "name": "python",
   "nbconvert_exporter": "python",
   "pygments_lexer": "ipython3",
   "version": "3.12.8"
  }
 },
 "nbformat": 4,
 "nbformat_minor": 2
}
