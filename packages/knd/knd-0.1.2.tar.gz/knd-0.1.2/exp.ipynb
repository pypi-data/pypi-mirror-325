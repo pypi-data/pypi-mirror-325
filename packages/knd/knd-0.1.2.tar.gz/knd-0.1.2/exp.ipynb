{
 "cells": [
  {
   "cell_type": "code",
   "execution_count": 1,
   "metadata": {},
   "outputs": [],
   "source": [
    "import chromadb\n",
    "import logfire\n",
    "import polars as pl\n",
    "from chromadb.utils import embedding_functions\n",
    "from logfire.experimental.query_client import AsyncLogfireQueryClient\n",
    "from pydantic import BaseModel, Field\n",
    "from pydantic_ai import Agent, RunContext\n",
    "\n",
    "from knd.ai import system_message, user_message\n",
    "from knd.memory import AgentMemories\n",
    "\n",
    "%load_ext autoreload\n",
    "%autoreload 2"
   ]
  },
  {
   "cell_type": "code",
   "execution_count": null,
   "metadata": {},
   "outputs": [],
   "source": [
    "chroma_client = chromadb.PersistentClient(path=\"chroma_db\")\n",
    "sentence_transformer_ef = embedding_functions.SentenceTransformerEmbeddingFunction(\n",
    "    model_name=\"Alibaba-NLP/gte-modernbert-base\",\n",
    ")\n",
    "collection_name = \"exp\"\n",
    "chroma_client.delete_collection(name=collection_name)\n",
    "collection = chroma_client.get_or_create_collection(\n",
    "    name=collection_name, embedding_function=sentence_transformer_ef\n",
    ")\n"
   ]
  },
  {
   "cell_type": "code",
   "execution_count": null,
   "metadata": {},
   "outputs": [],
   "source": []
  },
  {
   "cell_type": "code",
   "execution_count": 4,
   "metadata": {},
   "outputs": [],
   "source": [
    "messages = [\n",
    "    user_message(\"Tell me a joke about the justice league\"),\n",
    "    system_message(\"You are a joke teller. talk like tony stark\"),\n",
    "    user_message(\"make the joke about how the avengers are better\"),\n",
    "    system_message(\"talk with emojis\"),\n",
    "]\n",
    "agent = Agent(model=\"google-gla:gemini-1.5-flash\")\n"
   ]
  },
  {
   "cell_type": "code",
   "execution_count": 5,
   "metadata": {},
   "outputs": [
    {
     "name": "stderr",
     "output_type": "stream",
     "text": [
      "/tmp/ipykernel_1316492/3465199822.py:1: LogfireNotConfiguredWarning: No logs or spans will be created until `logfire.configure()` has been called. Set the environment variable LOGFIRE_IGNORE_NO_CONFIG=1 or add ignore_no_config=true in pyproject.toml to suppress this warning.\n",
      "  res = await agent.run(user_prompt=\"go on\", message_history=messages)\n"
     ]
    }
   ],
   "source": [
    "res = await agent.run(user_prompt=\"go on\", message_history=messages)"
   ]
  },
  {
   "cell_type": "code",
   "execution_count": 6,
   "metadata": {},
   "outputs": [
    {
     "data": {
      "text/plain": [
       "[ModelRequest(parts=[UserPromptPart(content='Tell me a joke about the justice league', timestamp=datetime.datetime(2025, 1, 26, 15, 53, 27, 988673, tzinfo=datetime.timezone.utc), part_kind='user-prompt')], kind='request'),\n",
       " ModelRequest(parts=[SystemPromptPart(content='You are a joke teller. talk like tony stark', dynamic_ref=None, part_kind='system-prompt')], kind='request'),\n",
       " ModelRequest(parts=[UserPromptPart(content='make the joke about how the avengers are better', timestamp=datetime.datetime(2025, 1, 26, 15, 53, 27, 988683, tzinfo=datetime.timezone.utc), part_kind='user-prompt')], kind='request'),\n",
       " ModelRequest(parts=[SystemPromptPart(content='talk with emojis', dynamic_ref=None, part_kind='system-prompt')], kind='request'),\n",
       " ModelRequest(parts=[UserPromptPart(content='go on', timestamp=datetime.datetime(2025, 1, 26, 15, 53, 46, 233948, tzinfo=datetime.timezone.utc), part_kind='user-prompt')], kind='request'),\n",
       " ModelResponse(parts=[TextPart(content='Alright, listen up, you microscopic lifeforms!  So, the Justice League walks into a bar… right?  🙄  Batman\\'s brooding, Wonder Woman\\'s all, \"Where\\'s the hummus?\",  Superman\\'s flexing, Aquaman\\'s complaining about the lack of ocean views, and Flash is… well, Flash is flashing.  Get it?  😂\\n\\nThey\\'re all arguing about who\\'s the best, see?  And then *I* walk in. 😎  Yeah, *Tony Stark*.  I\\'m like, \"Guys, seriously? You call *that* a team?  You haven\\'t even *begun* to face the kind of existential threats that my *Avengers* handle on a Tuesday.  🥂\"  They all stare, mouths agape.  Then Superman says, \"But...but...we have kryptonite!\"  I just chuckle. 🤣 \"Please.  We have Thor.  🔨  And Hulk.  Hulk SMASH! 💥\"\\n\\nThe moral of the story? 🤷\\u200d♂️ Even *gods* need a little upgrade. 😉  And that upgrade?  It\\'s called *Stark tech*. ✨\\n', part_kind='text')], model_name='gemini-1.5-flash', timestamp=datetime.datetime(2025, 1, 26, 15, 53, 49, 171414, tzinfo=datetime.timezone.utc), kind='response')]"
      ]
     },
     "execution_count": 6,
     "metadata": {},
     "output_type": "execute_result"
    }
   ],
   "source": [
    "res.all_messages()"
   ]
  },
  {
   "cell_type": "code",
   "execution_count": null,
   "metadata": {},
   "outputs": [],
   "source": []
  },
  {
   "cell_type": "code",
   "execution_count": 2,
   "metadata": {},
   "outputs": [],
   "source": [
    "class Critique(BaseModel):\n",
    "    funny: bool\n",
    "    reason: str = \"\"\n",
    "    pointers: list[str] = Field(default_factory=list)\n",
    "\n",
    "\n",
    "agent = Agent(model=\"google-gla:gemini-1.5-flash\", system_prompt=\"Use the tool to tell jokes\", name=\"joker_agent\")\n",
    "\n",
    "joker = Agent(model=\"google-gla:gemini-1.5-flash\", system_prompt=\"Tell knock knock jokes\", name=\"joker_tool\")\n",
    "\n",
    "critic = Agent(\n",
    "    model=\"google-gla:gemini-1.5-flash\",\n",
    "    system_prompt=\"Critique the joke as funny or not funny. If not funny, give a reason for your opinion and pointers for improvement\",\n",
    "    result_type=Critique,\n",
    "    name=\"joke_critic\",\n",
    ")\n",
    "\n",
    "\n",
    "@agent.tool_plain\n",
    "async def joke_teller(premise: str) -> str:\n",
    "    \"Tool to tell jokes about anything\"\n",
    "    return (await joker.run(premise)).data\n",
    "\n",
    "\n",
    "@agent.result_validator\n",
    "async def validate_joke(ctx: RunContext, joke: str) -> str:\n",
    "    critique = (\n",
    "        await critic.run(\n",
    "            user_prompt=\"Critique the joke as funny or not funny. If not funny, give a reason for your opinion and pointers for improvement. It will always be a knock knock joke so don't mention that\",\n",
    "            message_history=ctx.messages,\n",
    "        )\n",
    "    ).data\n",
    "    if critique.funny:\n",
    "        logfire.info(\"hilarious\")\n",
    "        return joke\n",
    "    else:\n",
    "        logfire.error(\"not funny\", _tags=[\"unfunny_joke\"])\n",
    "        ctx.messages.append(user_message(f\"Joke Critique: {critique.model_dump_json()}\"))\n",
    "        return joke\n"
   ]
  },
  {
   "cell_type": "code",
   "execution_count": 3,
   "metadata": {},
   "outputs": [
    {
     "name": "stdout",
     "output_type": "stream",
     "text": [
      "14:27:11.694 joker_agent run prompt=Tell me a joke about the justice league\n",
      "14:27:11.694   preparing model and tools run_step=1\n",
      "14:27:11.695   model request\n"
     ]
    },
    {
     "data": {
      "text/html": [
       "<pre style=\"white-space:pre;overflow-x:auto;line-height:normal;font-family:Menlo,'DejaVu Sans Mono',consolas,'Courier New',monospace\"><span style=\"font-weight: bold\">Logfire</span> project URL: <a href=\"https://logfire.pydantic.dev/HamzaFarhan/knd\" target=\"_blank\"><span style=\"color: #008080; text-decoration-color: #008080; text-decoration: underline\">https://logfire.pydantic.dev/HamzaFarhan/knd</span></a>\n",
       "</pre>\n"
      ],
      "text/plain": [
       "\u001b[1mLogfire\u001b[0m project URL: \u001b]8;id=556578;https://logfire.pydantic.dev/HamzaFarhan/knd\u001b\\\u001b[4;36mhttps://logfire.pydantic.dev/HamzaFarhan/knd\u001b[0m\u001b]8;;\u001b\\\n"
      ]
     },
     "metadata": {},
     "output_type": "display_data"
    },
    {
     "name": "stdout",
     "output_type": "stream",
     "text": [
      "14:27:14.634   handle model response\n",
      "14:27:14.635     running tools=['joke_teller']\n",
      "14:27:14.635     joker_tool run prompt=Justice League\n",
      "14:27:14.636       preparing model and tools run_step=1\n",
      "14:27:14.636       model request\n",
      "14:27:15.392       handle model response\n",
      "14:27:15.399   preparing model and tools run_step=2\n",
      "14:27:15.400   model request\n",
      "14:27:16.174   handle model response\n",
      "14:27:16.176     joke_critic run prompt=Critique the joke as funny or not funny. If not funny, give a ...nt. It will always be a knock knock joke so don't mention that\n",
      "14:27:16.178       preparing model and tools run_step=1\n",
      "14:27:16.180       model request\n",
      "14:27:17.858       handle model response\n",
      "14:27:17.873     not funny [unfunny_joke]\n"
     ]
    }
   ],
   "source": [
    "joke = await agent.run(\"Tell me a joke about the justice league\")"
   ]
  },
  {
   "cell_type": "code",
   "execution_count": 4,
   "metadata": {},
   "outputs": [
    {
     "data": {
      "text/plain": [
       "[ModelRequest(parts=[SystemPromptPart(content='Use the tool to tell jokes', dynamic_ref=None, part_kind='system-prompt'), UserPromptPart(content='Tell me a joke about the justice league', timestamp=datetime.datetime(2025, 1, 25, 14, 27, 11, 694489, tzinfo=datetime.timezone.utc), part_kind='user-prompt')], kind='request'),\n",
       " ModelResponse(parts=[ToolCallPart(tool_name='joke_teller', args=ArgsDict(args_dict={'premise': 'Justice League'}), tool_call_id=None, part_kind='tool-call')], model_name='gemini-1.5-flash', timestamp=datetime.datetime(2025, 1, 25, 14, 27, 14, 633532, tzinfo=datetime.timezone.utc), kind='response'),\n",
       " ModelRequest(parts=[ToolReturnPart(tool_name='joke_teller', content=\"Knock knock.\\n\\nWho's there?\\n\\nJustice.\\n\\nJustice who?\\n\\nJustice League of extraordinary jokes!  (or... Justice League of heroes!)\\n\", tool_call_id=None, timestamp=datetime.datetime(2025, 1, 25, 14, 27, 15, 397216, tzinfo=datetime.timezone.utc), part_kind='tool-return')], kind='request'),\n",
       " ModelResponse(parts=[TextPart(content=\"Knock knock.\\n\\nWho's there?\\n\\nJustice.\\n\\nJustice who?\\n\\nJustice League of extraordinary jokes!  (or... Justice League of heroes!)\\n\", part_kind='text')], model_name='gemini-1.5-flash', timestamp=datetime.datetime(2025, 1, 25, 14, 27, 16, 172743, tzinfo=datetime.timezone.utc), kind='response'),\n",
       " ModelRequest(parts=[UserPromptPart(content='Joke Critique: {\"funny\":false,\"reason\":\"The joke\\'s setup creates an expectation of a clever wordplay related to the Justice League, but the punchline is a simple statement that doesn\\'t meet that expectation.  It\\'s a bit of a letdown.\",\"pointers\":[\"The punchline is weak and doesn\\'t have a strong connection to the setup.  It relies on a pun that may not be understood or appreciated by all audiences.\",\"Try to create a more unexpected or clever twist in the punchline. Consider a play on words related to a specific Justice League member or their powers, or a humorous situation involving the team.\"]}', timestamp=datetime.datetime(2025, 1, 25, 14, 27, 17, 874977, tzinfo=datetime.timezone.utc), part_kind='user-prompt')], kind='request')]"
      ]
     },
     "execution_count": 4,
     "metadata": {},
     "output_type": "execute_result"
    }
   ],
   "source": [
    "joke.all_messages()"
   ]
  },
  {
   "cell_type": "code",
   "execution_count": 5,
   "metadata": {},
   "outputs": [
    {
     "name": "stdout",
     "output_type": "stream",
     "text": [
      "Knock knock.\n",
      "\n",
      "Who's there?\n",
      "\n",
      "Justice.\n",
      "\n",
      "Justice who?\n",
      "\n",
      "Justice League of extraordinary jokes!  (or... Justice League of heroes!)\n",
      "\n"
     ]
    }
   ],
   "source": [
    "print(joke.data)"
   ]
  },
  {
   "cell_type": "code",
   "execution_count": 6,
   "metadata": {},
   "outputs": [
    {
     "name": "stdout",
     "output_type": "stream",
     "text": [
      "shape: (51, 10)\n",
      "┌────────────┬────────────┬────────────┬───────────┬───┬───────┬───────────┬───────────┬───────────┐\n",
      "│ trace_id   ┆ span_id    ┆ span_name  ┆ start_tim ┆ … ┆ level ┆ message   ┆ tags      ┆ agent_nam │\n",
      "│ ---        ┆ ---        ┆ ---        ┆ estamp    ┆   ┆ ---   ┆ ---       ┆ ---       ┆ e         │\n",
      "│ str        ┆ str        ┆ str        ┆ ---       ┆   ┆ u16   ┆ str       ┆ list[str] ┆ ---       │\n",
      "│            ┆            ┆            ┆ datetime[ ┆   ┆       ┆           ┆           ┆ str       │\n",
      "│            ┆            ┆            ┆ μs, UTC]  ┆   ┆       ┆           ┆           ┆           │\n",
      "╞════════════╪════════════╪════════════╪═══════════╪═══╪═══════╪═══════════╪═══════════╪═══════════╡\n",
      "│ 01949dca3c ┆ 9d2f035a8c ┆ {agent_nam ┆ 2025-01-2 ┆ … ┆ 9     ┆ joker_age ┆ []        ┆ joker_age │\n",
      "│ 466bcad3a3 ┆ 29ec50     ┆ e} run     ┆ 5 14:07:4 ┆   ┆       ┆ nt run    ┆           ┆ nt        │\n",
      "│ fffe5d736e ┆            ┆ {prompt=}  ┆ 4.198295  ┆   ┆       ┆ prompt=Te ┆           ┆           │\n",
      "│ …          ┆            ┆            ┆ UTC       ┆   ┆       ┆ ll me…    ┆           ┆           │\n",
      "│ 01949dca3c ┆ 242974a4fc ┆ preparing  ┆ 2025-01-2 ┆ … ┆ 9     ┆ preparing ┆ []        ┆ null      │\n",
      "│ 466bcad3a3 ┆ 5ac40b     ┆ model and  ┆ 5 14:07:4 ┆   ┆       ┆ model and ┆           ┆           │\n",
      "│ fffe5d736e ┆            ┆ tools      ┆ 4.199352  ┆   ┆       ┆ tools     ┆           ┆           │\n",
      "│ …          ┆            ┆ {run…      ┆ UTC       ┆   ┆       ┆ run_…     ┆           ┆           │\n",
      "│ 01949dca3c ┆ 26747bb813 ┆ model      ┆ 2025-01-2 ┆ … ┆ 9     ┆ model     ┆ []        ┆ null      │\n",
      "│ 466bcad3a3 ┆ 0a99fa     ┆ request    ┆ 5 14:07:4 ┆   ┆       ┆ request   ┆           ┆           │\n",
      "│ fffe5d736e ┆            ┆            ┆ 4.199914  ┆   ┆       ┆           ┆           ┆           │\n",
      "│ …          ┆            ┆            ┆ UTC       ┆   ┆       ┆           ┆           ┆           │\n",
      "│ 01949dca3c ┆ aca042bc69 ┆ handle     ┆ 2025-01-2 ┆ … ┆ 9     ┆ handle    ┆ []        ┆ null      │\n",
      "│ 466bcad3a3 ┆ fe52f8     ┆ model      ┆ 5 14:07:4 ┆   ┆       ┆ model     ┆           ┆           │\n",
      "│ fffe5d736e ┆            ┆ response   ┆ 6.170672  ┆   ┆       ┆ response  ┆           ┆           │\n",
      "│ …          ┆            ┆            ┆ UTC       ┆   ┆       ┆ -> tool-… ┆           ┆           │\n",
      "│ 01949dca3c ┆ ad3a9c2419 ┆ running    ┆ 2025-01-2 ┆ … ┆ 9     ┆ running   ┆ []        ┆ null      │\n",
      "│ 466bcad3a3 ┆ 6cc891     ┆ {tools=}   ┆ 5 14:07:4 ┆   ┆       ┆ tools=['j ┆           ┆           │\n",
      "│ fffe5d736e ┆            ┆            ┆ 6.172187  ┆   ┆       ┆ oke_telle ┆           ┆           │\n",
      "│ …          ┆            ┆            ┆ UTC       ┆   ┆       ┆ r']       ┆           ┆           │\n",
      "│ …          ┆ …          ┆ …          ┆ …         ┆ … ┆ …     ┆ …         ┆ …         ┆ …         │\n",
      "│ 01949ddc0c ┆ 75742451c3 ┆ {agent_nam ┆ 2025-01-2 ┆ … ┆ 9     ┆ joke_crit ┆ []        ┆ joke_crit │\n",
      "│ cef3d1ad34 ┆ c4a74e     ┆ e} run     ┆ 5 14:27:1 ┆   ┆       ┆ ic run    ┆           ┆ ic        │\n",
      "│ 1dff704d1f ┆            ┆ {prompt=}  ┆ 6.176998  ┆   ┆       ┆ prompt=Cr ┆           ┆           │\n",
      "│ …          ┆            ┆            ┆ UTC       ┆   ┆       ┆ itiqu…    ┆           ┆           │\n",
      "│ 01949ddc0c ┆ 67fdbc0466 ┆ preparing  ┆ 2025-01-2 ┆ … ┆ 9     ┆ preparing ┆ []        ┆ null      │\n",
      "│ cef3d1ad34 ┆ 65ae86     ┆ model and  ┆ 5 14:27:1 ┆   ┆       ┆ model and ┆           ┆           │\n",
      "│ 1dff704d1f ┆            ┆ tools      ┆ 6.178774  ┆   ┆       ┆ tools     ┆           ┆           │\n",
      "│ …          ┆            ┆ {run…      ┆ UTC       ┆   ┆       ┆ run_…     ┆           ┆           │\n",
      "│ 01949ddc0c ┆ 1b6b698f6e ┆ model      ┆ 2025-01-2 ┆ … ┆ 9     ┆ model     ┆ []        ┆ null      │\n",
      "│ cef3d1ad34 ┆ cd9769     ┆ request    ┆ 5 14:27:1 ┆   ┆       ┆ request   ┆           ┆           │\n",
      "│ 1dff704d1f ┆            ┆            ┆ 6.180247  ┆   ┆       ┆           ┆           ┆           │\n",
      "│ …          ┆            ┆            ┆ UTC       ┆   ┆       ┆           ┆           ┆           │\n",
      "│ 01949ddc0c ┆ 2ccd2ff4b7 ┆ handle     ┆ 2025-01-2 ┆ … ┆ 9     ┆ handle    ┆ []        ┆ null      │\n",
      "│ cef3d1ad34 ┆ 6e4214     ┆ model      ┆ 5 14:27:1 ┆   ┆       ┆ model     ┆           ┆           │\n",
      "│ 1dff704d1f ┆            ┆ response   ┆ 7.858900  ┆   ┆       ┆ response  ┆           ┆           │\n",
      "│ …          ┆            ┆            ┆ UTC       ┆   ┆       ┆ -> final… ┆           ┆           │\n",
      "│ 01949ddc0c ┆ c083c4bbdf ┆ not funny  ┆ 2025-01-2 ┆ … ┆ 17    ┆ not funny ┆ [\"unfunny ┆ null      │\n",
      "│ cef3d1ad34 ┆ 53c116     ┆            ┆ 5 14:27:1 ┆   ┆       ┆           ┆ _joke\"]   ┆           │\n",
      "│ 1dff704d1f ┆            ┆            ┆ 7.873139  ┆   ┆       ┆           ┆           ┆           │\n",
      "│ …          ┆            ┆            ┆ UTC       ┆   ┆       ┆           ┆           ┆           │\n",
      "└────────────┴────────────┴────────────┴───────────┴───┴───────┴───────────┴───────────┴───────────┘\n"
     ]
    }
   ],
   "source": [
    "query = \"\"\"\n",
    "WITH agent_traces AS (\n",
    "  SELECT DISTINCT trace_id \n",
    "  FROM records \n",
    "  WHERE attributes->>'agent_name' = 'joker_agent'\n",
    ")\n",
    "SELECT \n",
    "  r.trace_id,\n",
    "  r.span_id,\n",
    "  r.span_name,\n",
    "  r.start_timestamp,\n",
    "  r.end_timestamp,\n",
    "  r.duration,\n",
    "  r.level,\n",
    "  r.message,\n",
    "  r.tags,\n",
    "  r.attributes->>'agent_name' as agent_name\n",
    "FROM records r\n",
    "JOIN agent_traces at ON r.trace_id = at.trace_id\n",
    "ORDER BY r.trace_id, r.start_timestamp;\n",
    "\"\"\"\n",
    "\n",
    "async with AsyncLogfireQueryClient(read_token=\"H0CTvcy0WCrl6xjxm8r8ZjWxP3LPSq5Mzdv81GvXXRPz\") as client:\n",
    "    df_from_arrow = pl.DataFrame(pl.from_arrow(await client.query_arrow(sql=query)))\n",
    "    print(df_from_arrow)"
   ]
  },
  {
   "cell_type": "code",
   "execution_count": 8,
   "metadata": {},
   "outputs": [
    {
     "data": {
      "text/html": [
       "<div><style>\n",
       ".dataframe > thead > tr,\n",
       ".dataframe > tbody > tr {\n",
       "  text-align: right;\n",
       "  white-space: pre-wrap;\n",
       "}\n",
       "</style>\n",
       "<small>shape: (1, 10)</small><table border=\"1\" class=\"dataframe\"><thead><tr><th>trace_id</th><th>span_id</th><th>span_name</th><th>start_timestamp</th><th>end_timestamp</th><th>duration</th><th>level</th><th>message</th><th>tags</th><th>agent_name</th></tr><tr><td>str</td><td>str</td><td>str</td><td>datetime[μs, UTC]</td><td>datetime[μs, UTC]</td><td>f64</td><td>u16</td><td>str</td><td>list[str]</td><td>str</td></tr></thead><tbody><tr><td>&quot;01949ddc0ccef3d1ad341dff704d1f…</td><td>&quot;c083c4bbdf53c116&quot;</td><td>&quot;not funny&quot;</td><td>2025-01-25 14:27:17.873139 UTC</td><td>2025-01-25 14:27:17.873139 UTC</td><td>null</td><td>17</td><td>&quot;not funny&quot;</td><td>[&quot;unfunny_joke&quot;]</td><td>null</td></tr></tbody></table></div>"
      ],
      "text/plain": [
       "shape: (1, 10)\n",
       "┌────────────┬────────────┬───────────┬────────────┬───┬───────┬───────────┬───────────┬───────────┐\n",
       "│ trace_id   ┆ span_id    ┆ span_name ┆ start_time ┆ … ┆ level ┆ message   ┆ tags      ┆ agent_nam │\n",
       "│ ---        ┆ ---        ┆ ---       ┆ stamp      ┆   ┆ ---   ┆ ---       ┆ ---       ┆ e         │\n",
       "│ str        ┆ str        ┆ str       ┆ ---        ┆   ┆ u16   ┆ str       ┆ list[str] ┆ ---       │\n",
       "│            ┆            ┆           ┆ datetime[μ ┆   ┆       ┆           ┆           ┆ str       │\n",
       "│            ┆            ┆           ┆ s, UTC]    ┆   ┆       ┆           ┆           ┆           │\n",
       "╞════════════╪════════════╪═══════════╪════════════╪═══╪═══════╪═══════════╪═══════════╪═══════════╡\n",
       "│ 01949ddc0c ┆ c083c4bbdf ┆ not funny ┆ 2025-01-25 ┆ … ┆ 17    ┆ not funny ┆ [\"unfunny ┆ null      │\n",
       "│ cef3d1ad34 ┆ 53c116     ┆           ┆ 14:27:17.8 ┆   ┆       ┆           ┆ _joke\"]   ┆           │\n",
       "│ 1dff704d1f ┆            ┆           ┆ 73139 UTC  ┆   ┆       ┆           ┆           ┆           │\n",
       "│ …          ┆            ┆           ┆            ┆   ┆       ┆           ┆           ┆           │\n",
       "└────────────┴────────────┴───────────┴────────────┴───┴───────┴───────────┴───────────┴───────────┘"
      ]
     },
     "execution_count": 8,
     "metadata": {},
     "output_type": "execute_result"
    }
   ],
   "source": [
    "df_from_arrow.filter(pl.col(\"tags\").list.contains(\"unfunny_joke\"))"
   ]
  },
  {
   "cell_type": "code",
   "execution_count": 9,
   "metadata": {},
   "outputs": [
    {
     "data": {
      "text/plain": [
       "['trace_id',\n",
       " 'span_id',\n",
       " 'span_name',\n",
       " 'start_timestamp',\n",
       " 'end_timestamp',\n",
       " 'duration',\n",
       " 'level',\n",
       " 'message',\n",
       " 'tags',\n",
       " 'agent_name']"
      ]
     },
     "execution_count": 9,
     "metadata": {},
     "output_type": "execute_result"
    }
   ],
   "source": [
    "df_from_arrow.columns"
   ]
  },
  {
   "cell_type": "code",
   "execution_count": 1,
   "metadata": {},
   "outputs": [],
   "source": [
    "from uuid import uuid4\n",
    "\n",
    "from knd.ai import user_message\n",
    "from knd.memory import UserSpecificExperience\n"
   ]
  },
  {
   "cell_type": "code",
   "execution_count": 2,
   "metadata": {},
   "outputs": [],
   "source": [
    "memories = AgentMemories(\n",
    "    agent_name=\"test_agent\",\n",
    "    user_specific_experience=UserSpecificExperience(user_id=uuid4()),\n",
    "    agent_experience=None,\n",
    ")"
   ]
  },
  {
   "cell_type": "code",
   "execution_count": 3,
   "metadata": {},
   "outputs": [],
   "source": [
    "memories.add_message(user_message(\"hello\"))"
   ]
  },
  {
   "cell_type": "code",
   "execution_count": 6,
   "metadata": {},
   "outputs": [
    {
     "data": {
      "text/plain": [
       "[ModelRequest(parts=[UserPromptPart(content='hello', timestamp=datetime.datetime(2025, 1, 27, 9, 15, 27, 760464, tzinfo=datetime.timezone.utc), part_kind='user-prompt')], kind='request')]"
      ]
     },
     "execution_count": 6,
     "metadata": {},
     "output_type": "execute_result"
    }
   ],
   "source": [
    "memories.user_specific_experience.message_history"
   ]
  },
  {
   "cell_type": "code",
   "execution_count": null,
   "metadata": {},
   "outputs": [],
   "source": []
  }
 ],
 "metadata": {
  "kernelspec": {
   "display_name": ".venv",
   "language": "python",
   "name": "python3"
  },
  "language_info": {
   "codemirror_mode": {
    "name": "ipython",
    "version": 3
   },
   "file_extension": ".py",
   "mimetype": "text/x-python",
   "name": "python",
   "nbconvert_exporter": "python",
   "pygments_lexer": "ipython3",
   "version": "3.12.7"
  }
 },
 "nbformat": 4,
 "nbformat_minor": 2
}
