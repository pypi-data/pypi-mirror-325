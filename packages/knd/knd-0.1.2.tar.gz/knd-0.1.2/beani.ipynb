{
 "cells": [
  {
   "cell_type": "code",
   "execution_count": 8,
   "metadata": {},
   "outputs": [
    {
     "name": "stdout",
     "output_type": "stream",
     "text": [
      "The autoreload extension is already loaded. To reload it, use:\n",
      "  %reload_ext autoreload\n"
     ]
    }
   ],
   "source": [
    "from beanie import Document, Indexed, init_beanie\n",
    "from motor.motor_asyncio import AsyncIOMotorClient\n",
    "from pydantic import BaseModel\n",
    "\n",
    "%load_ext autoreload\n",
    "%autoreload 2"
   ]
  },
  {
   "cell_type": "code",
   "execution_count": 64,
   "metadata": {},
   "outputs": [],
   "source": [
    "class Category(BaseModel):\n",
    "    name: str\n",
    "    description: str\n",
    "\n",
    "    class Settings:\n",
    "        projection = {\"name\": \"$category.name\", \"description\": \"$category.description\"}\n",
    "\n",
    "\n",
    "class Product(Document):  # This is the model\n",
    "    category: Category\n",
    "    price: Indexed(float)\n",
    "\n",
    "    class Settings:\n",
    "        name = \"products\"\n",
    "\n",
    "\n",
    "client = AsyncIOMotorClient(\"mongodb://localhost:27017\")\n",
    "\n",
    "# Initialize beanie with the Sample document class and a database\n",
    "await init_beanie(database=client.db_name, document_models=[Product])"
   ]
  },
  {
   "cell_type": "code",
   "execution_count": 65,
   "metadata": {},
   "outputs": [
    {
     "data": {
      "text/plain": [
       "AsyncIOMotorDatabase(Database(MongoClient(host=['localhost:27017'], document_class=dict, tz_aware=False, connect=False, driver=DriverInfo(name='Motor', version='3.7.0', platform='asyncio')), 'db_name'))"
      ]
     },
     "execution_count": 65,
     "metadata": {},
     "output_type": "execute_result"
    }
   ],
   "source": [
    "client.db_name"
   ]
  },
  {
   "cell_type": "code",
   "execution_count": 70,
   "metadata": {},
   "outputs": [],
   "source": [
    "chocolate_category = Category(name=\"Chocolate\", description=\"A preparation of roasted and ground cacao seeds.\")\n",
    "candy_category = Category(name=\"Candy\", description=\"A preparation of roasted and ground cacao seeds.\")\n",
    "tonybar = Product(price=5.95, category=chocolate_category)\n",
    "marsbar = Product(price=1, category=chocolate_category)\n",
    "candybar = Product(price=2, category=candy_category)"
   ]
  },
  {
   "cell_type": "code",
   "execution_count": 71,
   "metadata": {},
   "outputs": [
    {
     "data": {
      "text/plain": [
       "InsertManyResult([ObjectId('67a253a3cec60c8c4edbd16d'), ObjectId('67a253a3cec60c8c4edbd16e'), ObjectId('67a253a3cec60c8c4edbd16f')], acknowledged=True)"
      ]
     },
     "execution_count": 71,
     "metadata": {},
     "output_type": "execute_result"
    }
   ],
   "source": [
    "await Product.insert_many([tonybar, marsbar, candybar])"
   ]
  },
  {
   "cell_type": "code",
   "execution_count": 72,
   "metadata": {},
   "outputs": [
    {
     "data": {
      "text/plain": [
       "[Product(id=ObjectId('67a252e8cec60c8c4edbd169'), revision_id=None, category=Category(name='Chocolate', description='A preparation of roasted and ground cacao seeds.'), price=5.95),\n",
       " Product(id=ObjectId('67a252e8cec60c8c4edbd16a'), revision_id=None, category=Category(name='Chocolate', description='A preparation of roasted and ground cacao seeds.'), price=1.0),\n",
       " Product(id=ObjectId('67a253a3cec60c8c4edbd16d'), revision_id=None, category=Category(name='Chocolate', description='A preparation of roasted and ground cacao seeds.'), price=5.95),\n",
       " Product(id=ObjectId('67a253a3cec60c8c4edbd16e'), revision_id=None, category=Category(name='Chocolate', description='A preparation of roasted and ground cacao seeds.'), price=1.0),\n",
       " Product(id=ObjectId('67a253a3cec60c8c4edbd16f'), revision_id=None, category=Category(name='Candy', description='A preparation of roasted and ground cacao seeds.'), price=2.0)]"
      ]
     },
     "execution_count": 72,
     "metadata": {},
     "output_type": "execute_result"
    }
   ],
   "source": [
    "await Product.find().to_list()"
   ]
  },
  {
   "cell_type": "code",
   "execution_count": 73,
   "metadata": {},
   "outputs": [
    {
     "data": {
      "text/plain": [
       "[Category(name='Chocolate', description='A preparation of roasted and ground cacao seeds.'),\n",
       " Category(name='Chocolate', description='A preparation of roasted and ground cacao seeds.'),\n",
       " Category(name='Chocolate', description='A preparation of roasted and ground cacao seeds.'),\n",
       " Category(name='Chocolate', description='A preparation of roasted and ground cacao seeds.'),\n",
       " Category(name='Candy', description='A preparation of roasted and ground cacao seeds.')]"
      ]
     },
     "execution_count": 73,
     "metadata": {},
     "output_type": "execute_result"
    }
   ],
   "source": [
    "stuff = await Product.find().project(Category).to_list()\n",
    "stuff"
   ]
  },
  {
   "cell_type": "code",
   "execution_count": 69,
   "metadata": {},
   "outputs": [
    {
     "data": {
      "text/plain": [
       "[Category(name='Chocolate', description='A preparation of roasted and ground cacao seeds.'),\n",
       " Category(name='Chocolate', description='A preparation of roasted and ground cacao seeds.')]"
      ]
     },
     "execution_count": 69,
     "metadata": {},
     "output_type": "execute_result"
    }
   ],
   "source": [
    "chocolates"
   ]
  },
  {
   "cell_type": "code",
   "execution_count": null,
   "metadata": {},
   "outputs": [],
   "source": []
  }
 ],
 "metadata": {
  "kernelspec": {
   "display_name": ".venv",
   "language": "python",
   "name": "python3"
  },
  "language_info": {
   "codemirror_mode": {
    "name": "ipython",
    "version": 3
   },
   "file_extension": ".py",
   "mimetype": "text/x-python",
   "name": "python",
   "nbconvert_exporter": "python",
   "pygments_lexer": "ipython3",
   "version": "3.12.7"
  }
 },
 "nbformat": 4,
 "nbformat_minor": 2
}
