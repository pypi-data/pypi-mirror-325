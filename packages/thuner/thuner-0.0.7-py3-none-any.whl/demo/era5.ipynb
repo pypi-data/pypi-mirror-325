{
 "cells": [
  {
   "cell_type": "code",
   "execution_count": null,
   "metadata": {},
   "outputs": [],
   "source": [
    "%load_ext autoreload\n",
    "%autoreload 2\n",
    "import numpy as np\n",
    "import thuner.data.era5 as era5\n",
    "import thuner.grid as grid\n",
    "\n",
    "notebook_name = \"cpol_demo.ipynb\""
   ]
  },
  {
   "cell_type": "code",
   "execution_count": null,
   "metadata": {},
   "outputs": [],
   "source": [
    "data_options = era5.data_options(start=\"2002-01-14\", end=\"2002-01-15\", fields=[\"u\"])\n",
    "\n",
    "lats = np.arange(-14, -10 + 0.025, 0.025).tolist()\n",
    "lons = np.arange(129, 133 + 0.025, 0.025).tolist()\n",
    "\n",
    "grid_options = grid.create_options(name=\"geographic\", latitude=lats, longitude=lons)\n",
    "era5.check_data_options(data_options)\n",
    "filepaths = era5.get_filepaths(data_options, grid_options)\n",
    "cds_name, requests, local_paths = era5.generate_cdsapi_requests(data_options)\n",
    "era5.issue_cdsapi_requests(cds_name, requests, local_paths, enforce_timeout=True)"
   ]
  },
  {
   "cell_type": "code",
   "execution_count": null,
   "metadata": {},
   "outputs": [],
   "source": [
    "import thuner.test as test"
   ]
  },
  {
   "cell_type": "code",
   "execution_count": null,
   "metadata": {},
   "outputs": [],
   "source": [
    "test.test_synthetic.test_synthetic()"
   ]
  }
 ],
 "metadata": {
  "kernelspec": {
   "display_name": "THUNER",
   "language": "python",
   "name": "python3"
  },
  "language_info": {
   "codemirror_mode": {
    "name": "ipython",
    "version": 3
   },
   "file_extension": ".py",
   "mimetype": "text/x-python",
   "name": "python",
   "nbconvert_exporter": "python",
   "pygments_lexer": "ipython3",
   "version": "3.10.16"
  }
 },
 "nbformat": 4,
 "nbformat_minor": 2
}
