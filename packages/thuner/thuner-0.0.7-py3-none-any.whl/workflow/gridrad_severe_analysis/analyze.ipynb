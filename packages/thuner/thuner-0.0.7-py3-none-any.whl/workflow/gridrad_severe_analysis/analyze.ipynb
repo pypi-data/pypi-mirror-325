{
 "cells": [
  {
   "cell_type": "code",
   "execution_count": null,
   "metadata": {},
   "outputs": [],
   "source": [
    "%load_ext autoreload\n",
    "%autoreload 2\n",
    "import matplotlib.pyplot as plt\n",
    "import numpy as np\n",
    "import pandas as pd\n",
    "import thuner.visualize as visualize\n",
    "import thuner.config as config\n",
    "import thuner.analyze as analyze\n",
    "\n",
    "import visualize as vis\n",
    "import utils"
   ]
  },
  {
   "cell_type": "code",
   "execution_count": null,
   "metadata": {},
   "outputs": [],
   "source": [
    "style = \"paper\"\n",
    "mpl_style = visualize.visualize.styles[style]"
   ]
  },
  {
   "cell_type": "code",
   "execution_count": null,
   "metadata": {},
   "outputs": [],
   "source": [
    "base_local = config.get_outputs_directory()\n",
    "analysis_directory = base_local / \"analysis/gridrad_severe\""
   ]
  },
  {
   "cell_type": "code",
   "execution_count": null,
   "metadata": {},
   "outputs": [],
   "source": [
    "# Aggregate data across runs\n",
    "# dfs, metadata = utils.aggregate_runs()"
   ]
  },
  {
   "cell_type": "code",
   "execution_count": null,
   "metadata": {},
   "outputs": [],
   "source": [
    "# Load aggregated runs\n",
    "dfs, metadata = utils.load_aggregated_runs()"
   ]
  },
  {
   "cell_type": "code",
   "execution_count": null,
   "metadata": {},
   "outputs": [],
   "source": [
    "# Basic statistics\n",
    "with plt.style.context(mpl_style), visualize.visualize.set_style(style):\n",
    "    plt.close(\"all\")\n",
    "    vis.windrose(dfs, analysis_directory)\n",
    "    plt.show()"
   ]
  },
  {
   "cell_type": "code",
   "execution_count": null,
   "metadata": {},
   "outputs": [],
   "source": [
    "with plt.style.context(mpl_style), visualize.visualize.set_style(style):\n",
    "    plt.close(\"all\")\n",
    "    names = [\"stratiform_offset\", \"relative_stratiform_offset\", \"inflow\", \"tilt\"]\n",
    "    names += [\"propagation\"]\n",
    "    for name in names:\n",
    "        vis.pie_map(dfs, name, analysis_directory)"
   ]
  },
  {
   "cell_type": "code",
   "execution_count": null,
   "metadata": {},
   "outputs": [],
   "source": [
    "with plt.style.context(mpl_style), visualize.visualize.set_style(style):\n",
    "    plt.close(\"all\")\n",
    "    vis.field_maps(dfs)\n",
    "    plt.show()"
   ]
  },
  {
   "cell_type": "code",
   "execution_count": null,
   "metadata": {},
   "outputs": [],
   "source": [
    "with plt.style.context(mpl_style), visualize.visualize.set_style(style):\n",
    "    plt.close(\"all\")\n",
    "    vis.shear_orientation_angles(dfs)\n",
    "    plt.show()"
   ]
  },
  {
   "cell_type": "code",
   "execution_count": null,
   "metadata": {},
   "outputs": [],
   "source": [
    "with plt.style.context(mpl_style), visualize.visualize.set_style(style):\n",
    "    vis.wind_profiles(dfs)\n",
    "    plt.show()"
   ]
  },
  {
   "cell_type": "code",
   "execution_count": null,
   "metadata": {},
   "outputs": [],
   "source": [
    "with plt.style.context(mpl_style), visualize.visualize.set_style(style):\n",
    "    vis.cape_ake_R(dfs)\n",
    "    plt.show()"
   ]
  },
  {
   "cell_type": "code",
   "execution_count": null,
   "metadata": {},
   "outputs": [],
   "source": [
    "utils.relabel_all(dfs)"
   ]
  },
  {
   "cell_type": "code",
   "execution_count": null,
   "metadata": {},
   "outputs": [],
   "source": [
    "longest_directory = analysis_directory / \"attributes/longest_paths\""
   ]
  },
  {
   "cell_type": "code",
   "execution_count": null,
   "metadata": {},
   "outputs": [],
   "source": [
    "utils.aggregate_relabelled(metadata, longest_directory)"
   ]
  },
  {
   "cell_type": "code",
   "execution_count": null,
   "metadata": {},
   "outputs": [],
   "source": [
    "dfs, metadata = utils.load_aggregated_runs(longest_directory)"
   ]
  },
  {
   "cell_type": "code",
   "execution_count": null,
   "metadata": {},
   "outputs": [],
   "source": [
    "# Recalculate the duration check for the grouped systems\n",
    "analysis_options = analyze.mcs.AnalysisOptions()\n",
    "dfs = utils.recalculate_duration_check(dfs, analysis_options)"
   ]
  },
  {
   "cell_type": "code",
   "execution_count": null,
   "metadata": {},
   "outputs": [],
   "source": [
    "# Interesting! The offsets produce the big spikes!\n",
    "with plt.style.context(mpl_style), visualize.visualize.set_style(style):\n",
    "    args = [dfs[\"classification\"], dfs[\"quality\"], analysis_directory]\n",
    "    vis.plot_classification_evolution(*args)\n",
    "    plt.show()"
   ]
  },
  {
   "cell_type": "code",
   "execution_count": null,
   "metadata": {},
   "outputs": [],
   "source": [
    "with plt.style.context(mpl_style), visualize.visualize.set_style(style):\n",
    "    vis.plot_attribute_evolution(dfs, analysis_directory)\n",
    "    plt.show()"
   ]
  }
 ],
 "metadata": {
  "kernelspec": {
   "display_name": "THUNER",
   "language": "python",
   "name": "python3"
  },
  "language_info": {
   "codemirror_mode": {
    "name": "ipython",
    "version": 3
   },
   "file_extension": ".py",
   "mimetype": "text/x-python",
   "name": "python",
   "nbconvert_exporter": "python",
   "pygments_lexer": "ipython3",
   "version": "3.10.14"
  }
 },
 "nbformat": 4,
 "nbformat_minor": 2
}
