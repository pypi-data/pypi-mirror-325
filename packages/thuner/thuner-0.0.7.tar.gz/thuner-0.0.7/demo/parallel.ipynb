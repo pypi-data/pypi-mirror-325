{
 "cells": [
  {
   "cell_type": "code",
   "execution_count": null,
   "metadata": {},
   "outputs": [],
   "source": [
    "%load_ext autoreload\n",
    "%autoreload 2\n",
    "%matplotlib inline\n",
    "from multiprocessing import get_context\n",
    "import shutil\n",
    "from pathlib import Path\n",
    "import numpy as np\n",
    "import thuner.data as data\n",
    "import thuner.parallel as parallel\n",
    "import thuner.visualize as visualize\n",
    "import thuner.analyze as analyze\n",
    "import thuner.option as option\n",
    "import thuner.grid as grid\n",
    "\n",
    "notebook_name = \"parallel_demo.ipynb\""
   ]
  },
  {
   "cell_type": "markdown",
   "metadata": {},
   "source": [
    "# Parallel"
   ]
  },
  {
   "cell_type": "code",
   "execution_count": null,
   "metadata": {},
   "outputs": [],
   "source": [
    " # Parent directory for saving outputs\n",
    "base_local = Path.home() / \"THUNER_output\"\n",
    "start = \"2005-11-13T18:00\"\n",
    "end = \"2005-11-13T20:00\"\n",
    "\n",
    "intervals = parallel.get_time_intervals(start, end)\n",
    "output_parent = base_local / \"runs/cpol_demo_parallel\"\n",
    "if output_parent.exists():\n",
    "    shutil.rmtree(output_parent)\n",
    "options_directory = output_parent / \"options\"\n",
    "\n",
    " # Create the data_options dictionary\n",
    "converted_options = {\"save\": True, \"load\": False, \"parent_converted\": None}\n",
    "cpol_options = data.aura.cpol_data_options(\n",
    "    start=start, end=end, converted_options=converted_options\n",
    ")\n",
    "\n",
    "# Restrict the ERA5 data to a smaller region containing the CPOL radar\n",
    "lon_range = [129, 133]\n",
    "lat_range = [-14, -10]\n",
    "era5_pl_options = data.era5.data_options(\n",
    "    start=start, end=end, latitude_range=lat_range, longitude_range=lon_range\n",
    ")\n",
    "era5_sl_options = data.era5.data_options(\n",
    "    start=start,\n",
    "    end=end,\n",
    "    data_format=\"single-levels\",\n",
    "    latitude_range=lat_range,\n",
    "    longitude_range=lon_range,\n",
    ")\n",
    "\n",
    "data_options = option.consolidate_options(\n",
    "    [cpol_options, era5_pl_options, era5_sl_options]\n",
    ")\n",
    "\n",
    "data.dispatch.check_data_options(data_options)\n",
    "data.option.save_data_options(data_options, options_directory)\n",
    "\n",
    "altitude = list(np.arange(0, 20e3 + 500, 500))\n",
    "altitude = [float(alt) for alt in altitude]\n",
    "grid_options = grid.create_options(name=\"geographic\", altitude=altitude)\n",
    "grid.check_options(grid_options)\n",
    "grid.save_grid_options(grid_options, options_directory)\n",
    "\n",
    "# Create the track_options dictionary\n",
    "track_options = option.default_track_options(dataset=\"cpol\")\n",
    "track_options.to_yaml(options_directory / \"track.yml\")\n",
    "visualize_options = None"
   ]
  },
  {
   "cell_type": "code",
   "execution_count": null,
   "metadata": {},
   "outputs": [],
   "source": [
    "with get_context(\"spawn\").Pool(\n",
    "    initializer=parallel.initialize_process(), processes=4\n",
    ") as pool:\n",
    "    results = []\n",
    "    for i, time_interval in enumerate(intervals):\n",
    "        args = [i, time_interval, data_options.copy(), grid_options.copy()]\n",
    "        args += [track_options.model_copy(deep=True), visualize_options]\n",
    "        args += [output_parent, \"cpol\"]\n",
    "        args = tuple(args)\n",
    "        results.append(pool.apply_async(parallel.track_interval, args))\n",
    "    pool.close()\n",
    "    pool.join()\n",
    "    parallel.check_results(results)"
   ]
  },
  {
   "cell_type": "code",
   "execution_count": null,
   "metadata": {},
   "outputs": [],
   "source": [
    "parallel.stitch_run(output_parent, intervals)"
   ]
  },
  {
   "cell_type": "markdown",
   "metadata": {},
   "source": [
    "# Analyze"
   ]
  },
  {
   "cell_type": "code",
   "execution_count": null,
   "metadata": {},
   "outputs": [],
   "source": [
    "analysis_options = analyze.mcs.AnalysisOptions()\n",
    "analyze.mcs.process_velocities(output_parent)\n",
    "analyze.mcs.quality_control(output_parent, analysis_options)\n",
    "analyze.mcs.classify_all(output_parent)"
   ]
  },
  {
   "cell_type": "code",
   "execution_count": null,
   "metadata": {},
   "outputs": [],
   "source": [
    "figure_options = visualize.option.horizontal_attribute_options(\n",
    "    \"mcs_velocity_analysis\", style=\"presentation\"\n",
    ")\n",
    "start_time = np.datetime64(\"2005-11-13T18:00\")\n",
    "end_time = np.datetime64(\"2005-11-13T20:00\")\n",
    "visualize.attribute.mcs_series(\n",
    "    output_parent, start_time, end_time, figure_options, parallel_figure=True\n",
    ")"
   ]
  }
 ],
 "metadata": {
  "kernelspec": {
   "display_name": "THOR",
   "language": "python",
   "name": "python3"
  },
  "language_info": {
   "codemirror_mode": {
    "name": "ipython",
    "version": 3
   },
   "file_extension": ".py",
   "mimetype": "text/x-python",
   "name": "python",
   "nbconvert_exporter": "python",
   "pygments_lexer": "ipython3",
   "version": "3.10.14"
  }
 },
 "nbformat": 4,
 "nbformat_minor": 2
}
