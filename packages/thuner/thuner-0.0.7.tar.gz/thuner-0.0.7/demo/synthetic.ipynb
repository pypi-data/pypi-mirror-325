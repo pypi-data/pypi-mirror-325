{
 "cells": [
  {
   "cell_type": "code",
   "execution_count": null,
   "metadata": {},
   "outputs": [],
   "source": [
    "%load_ext autoreload\n",
    "%autoreload 2\n",
    "from pathlib import Path\n",
    "import shutil\n",
    "import numpy as np\n",
    "import thuner.data as data\n",
    "import thuner.data.dispatch as dispatch\n",
    "import thuner.grid as grid\n",
    "import thuner.track as track\n",
    "import thuner.option as option\n",
    "import thuner.visualize as visualize\n",
    "import thuner.data.synthetic as synthetic\n",
    "\n",
    "notebook_name = \"synthetic_demo.ipynb\""
   ]
  },
  {
   "cell_type": "code",
   "execution_count": null,
   "metadata": {},
   "outputs": [],
   "source": [
    "# Parent directory for saving outputs\n",
    "base_local = Path.home() / \"THUNER_output\"\n",
    "start = \"2005-11-13T00:00:00\"\n",
    "end = \"2005-11-13T02:00:00\"\n",
    "\n",
    "output_directory = base_local / \"runs/synthetic_demo_geographic\"\n",
    "if output_directory.exists():\n",
    "    shutil.rmtree(output_directory)\n",
    "options_directory = output_directory / \"options\"\n",
    "options_directory.mkdir(parents=True, exist_ok=True)\n",
    "\n",
    "# Create a grid\n",
    "lat = np.arange(-14, -6 + 0.025, 0.025).tolist()\n",
    "lon = np.arange(128, 136 + 0.025, 0.025).tolist()\n",
    "grid_options = grid.create_options(name=\"geographic\", latitude=lat, longitude=lon)\n",
    "grid.check_options(grid_options)\n",
    "grid.save_grid_options(grid_options, filename=\"synth_geographic\")\n",
    "\n",
    "# Initialize synthetic objects\n",
    "starting_objects = []\n",
    "for i in range(4): \n",
    "    obj = synthetic.create_object(\n",
    "        time=start,\n",
    "        center_latitude=np.mean(lat),\n",
    "        center_longitude=lon[(i+1)*len(lon) // 5],\n",
    "        direction=np.pi / 4,\n",
    "        speed=10,\n",
    "    )\n",
    "    starting_objects.append(obj)\n",
    "# Create data options dictionary\n",
    "synthetic_options = synthetic.synthetic_data_options(starting_objects=starting_objects)\n",
    "data_options = option.consolidate_options([synthetic_options])\n",
    "dispatch.check_data_options(data_options)\n",
    "data.option.save_data_options(data_options, filename=\"synthetic\")\n",
    "\n",
    "track_options = option.synthetic_track_options()\n",
    "track_options.to_yaml(options_directory / \"track.yml\")\n",
    "\n",
    "# Create the display_options dictionary\n",
    "visualize_options = {\n",
    "    \"convective\": visualize.option.runtime_options(\"convective\", save=True, style=\"presentation\")\n",
    "}\n",
    "visualize.option.save_display_options(visualize_options, filename=\"runtime_synthetic\")"
   ]
  },
  {
   "cell_type": "code",
   "execution_count": null,
   "metadata": {},
   "outputs": [],
   "source": [
    "output_directory = base_local / \"runs/synthetic_demo_geographic\"\n",
    "if output_directory.exists():\n",
    "    shutil.rmtree(output_directory)\n",
    "times = np.arange(\n",
    "    np.datetime64(start),\n",
    "    np.datetime64(end) + np.timedelta64(10, \"m\"),\n",
    "    +np.timedelta64(10, \"m\"),\n",
    ")\n",
    "tracks = track.track(\n",
    "    times,\n",
    "    data_options,\n",
    "    grid_options,\n",
    "    track_options,\n",
    "    visualize_options,\n",
    "    output_directory=output_directory,\n",
    ")"
   ]
  },
  {
   "cell_type": "code",
   "execution_count": null,
   "metadata": {},
   "outputs": [],
   "source": [
    "central_latitude = -10\n",
    "central_longitude = 132\n",
    "\n",
    "y = np.arange(-400e3, 400e3 + 2.5e3, 2.5e3).tolist()\n",
    "x = np.arange(-400e3, 400e3 + 2.5e3, 2.5e3).tolist()\n",
    "\n",
    "grid_options = grid.create_options(\n",
    "    name=\"cartesian\",\n",
    "    x=x,\n",
    "    y=y,\n",
    "    central_latitude=central_latitude,\n",
    "    central_longitude=central_longitude,\n",
    ")\n",
    "grid.check_options(grid_options)\n",
    "grid.save_grid_options(grid_options, filename=\"synthetic_cartesian\")"
   ]
  },
  {
   "cell_type": "code",
   "execution_count": null,
   "metadata": {},
   "outputs": [],
   "source": [
    "output_directory = base_local / \"runs/synthetic_demo_cartesian\"\n",
    "if output_directory.exists():\n",
    "    shutil.rmtree(output_directory)\n",
    "times = np.arange(\n",
    "    np.datetime64(start),\n",
    "    np.datetime64(end) + np.timedelta64(10, \"m\"),\n",
    "    +np.timedelta64(10, \"m\"),\n",
    ")\n",
    "tracks = track.track(\n",
    "    times,\n",
    "    data_options,\n",
    "    grid_options,\n",
    "    track_options,\n",
    "    visualize_options,\n",
    "    output_directory=output_directory,\n",
    ")"
   ]
  }
 ],
 "metadata": {
  "kernelspec": {
   "display_name": "THUNER",
   "language": "python",
   "name": "python3"
  },
  "language_info": {
   "codemirror_mode": {
    "name": "ipython",
    "version": 3
   },
   "file_extension": ".py",
   "mimetype": "text/x-python",
   "name": "python",
   "nbconvert_exporter": "python",
   "pygments_lexer": "ipython3",
   "version": "3.10.16"
  }
 },
 "nbformat": 4,
 "nbformat_minor": 2
}
