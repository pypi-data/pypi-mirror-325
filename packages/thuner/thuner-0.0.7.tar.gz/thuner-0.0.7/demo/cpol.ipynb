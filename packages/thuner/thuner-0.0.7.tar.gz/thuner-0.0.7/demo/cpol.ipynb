{
 "cells": [
  {
   "cell_type": "code",
   "execution_count": null,
   "metadata": {},
   "outputs": [],
   "source": [
    "%load_ext autoreload\n",
    "%autoreload 2\n",
    "%matplotlib inline\n",
    "from pathlib import Path\n",
    "import shutil\n",
    "import numpy as np\n",
    "import thuner.data as data\n",
    "import thuner.data.dispatch as dispatch\n",
    "import thuner.grid as grid\n",
    "import thuner.track as track\n",
    "import thuner.option as option\n",
    "import thuner.visualize as visualize\n",
    "import thuner.analyze as analyze\n",
    "import thuner.option as option\n",
    "import thuner.attribute as attribute\n",
    "import thuner.utils as utils\n",
    "\n",
    "notebook_name = \"cpol_demo.ipynb\""
   ]
  },
  {
   "cell_type": "code",
   "execution_count": null,
   "metadata": {},
   "outputs": [],
   "source": [
    "# Parent directory for saving outputs\n",
    "base_local = Path.home() / \"THUNER_output\"\n",
    "start = \"2005-11-13T18:00:00\"\n",
    "end = \"2005-11-13T20:00:00\"\n",
    "\n",
    "output_directory = base_local / \"runs/cpol/cpol_demo_geographic\"\n",
    "\n",
    "if output_directory.exists():\n",
    "    shutil.rmtree(output_directory)\n",
    "\n",
    "output_directory.mkdir(parents=True, exist_ok=True)\n",
    "options_directory = output_directory / \"options\"\n",
    "options_directory.mkdir(parents=True, exist_ok=True)\n",
    "\n",
    "times_dict = {\"start\": start, \"end\": end}\n",
    "cpol_options = data.data.CPOLOptions(**times_dict)\n",
    "era5_dict = {\"latitude_range\": [-14, -10], \"longitude_range\": [129, 133]}\n",
    "era5_pl_options = data.data.ERA5Options(**times_dict, **era5_dict)\n",
    "era5_dict.update({\"data_format\": \"single-levels\"})\n",
    "era5_sl_options = data.data.ERA5Options(**times_dict, **era5_dict)\n",
    "data_options = data.data.DataOptions(\n",
    "    datasets=[cpol_options, era5_pl_options, era5_sl_options]\n",
    ")\n",
    "data_options.to_yaml(options_directory / \"data.yml\")\n",
    "\n",
    "# altitude = list(np.arange(0, 20e3 + 500, 500))\n",
    "# altitude = [float(alt) for alt in altitude]\n",
    "# grid_options = grid.create_options(name=\"geographic\", altitude=altitude)\n",
    "# grid.check_options(grid_options)\n",
    "# grid.save_grid_options(grid_options, options_directory)\n",
    "\n",
    "grid_options = grid.GridOptions()\n",
    "grid_options.to_yaml(options_directory / \"grid.yml\")\n",
    "\n",
    "# Create the track_options dictionary\n",
    "track_options = track.default_track_options(dataset=\"cpol\")\n",
    "track_options.to_yaml(options_directory / \"track.yml\")\n",
    "\n",
    "# Create the display_options dictionary\n",
    "visualize_options = {\n",
    "    obj: visualize.option.runtime_options(obj, save=True, style=\"presentation\")\n",
    "    for obj in [\"mcs\"]\n",
    "}\n",
    "visualize_options[\"middle_echo\"] = visualize.option.runtime_options(\n",
    "    \"middle_echo\", save=True, style=\"presentation\", figure_types=[\"mask\"]\n",
    ")\n",
    "# visualize.option.save_display_options(visualize_options, options_directory)\n",
    "visualize_options = None"
   ]
  },
  {
   "cell_type": "code",
   "execution_count": null,
   "metadata": {},
   "outputs": [],
   "source": [
    "times = data.utils.generate_times(data_options.dataset_by_name(\"cpol\"))\n",
    "tracks = track.track(\n",
    "    times,\n",
    "    data_options,\n",
    "    grid_options,\n",
    "    track_options,\n",
    "    visualize_options,\n",
    "    output_directory=output_directory\n",
    ")"
   ]
  },
  {
   "cell_type": "markdown",
   "metadata": {},
   "source": [
    "# Cartesian Coordinates"
   ]
  },
  {
   "cell_type": "code",
   "execution_count": null,
   "metadata": {},
   "outputs": [],
   "source": [
    "output_directory = base_local / \"runs/cpol/cpol_demo_cartesian\"\n",
    "options_directory = output_directory / \"options\"\n",
    "options_directory.mkdir(parents=True, exist_ok=True)\n",
    "\n",
    "if output_directory.exists():\n",
    "    shutil.rmtree(output_directory)\n",
    "\n",
    "# grid_options = grid.create_options(name=\"cartesian\", regrid=False, altitude=altitude)\n",
    "# grid.check_options(grid_options)\n",
    "# grid.save_grid_options(grid_options, options_directory)\n",
    "\n",
    "grid_options = grid.GridOptions(name=\"cartesian\", regrid=False)\n",
    "grid_options.to_yaml(options_directory / \"grid.yml\")\n",
    "data_options.to_yaml(options_directory / \"data.yml\")\n",
    "track_options.to_yaml(options_directory / \"track.yml\")\n",
    "\n",
    "# visualize.option.save_display_options(visualize_options, options_directory)\n",
    "\n",
    "times = data.utils.generate_times(data_options.dataset_by_name(\"cpol\"))\n",
    "tracks = track.track(\n",
    "    times,\n",
    "    data_options,\n",
    "    grid_options,\n",
    "    track_options,\n",
    "    visualize_options,\n",
    "    output_directory=output_directory,\n",
    ")"
   ]
  },
  {
   "cell_type": "markdown",
   "metadata": {},
   "source": [
    "# Analysis"
   ]
  },
  {
   "cell_type": "code",
   "execution_count": null,
   "metadata": {},
   "outputs": [],
   "source": [
    "analysis_options = analyze.mcs.AnalysisOptions()\n",
    "analysis_options.to_yaml(options_directory / \"analysis.yml\")\n",
    "# utils.save_options(analysis_options, filename=\"analysis\", options_directory=output_directory / \"options\")\n",
    "analyze.mcs.process_velocities(output_directory)\n",
    "analyze.mcs.quality_control(output_directory, analysis_options)\n",
    "analyze.mcs.classify_all(output_directory, analysis_options)"
   ]
  },
  {
   "cell_type": "code",
   "execution_count": null,
   "metadata": {},
   "outputs": [],
   "source": [
    "figure_options = visualize.option.horizontal_attribute_options(\n",
    "    \"cpol_20051113\", style=\"presentation\", attributes=[\"velocity\", \"offset\"]\n",
    ")\n",
    "start_time = np.datetime64(\"2005-11-13T18:00\")\n",
    "end_time = np.datetime64(\"2005-11-13T19:50\")\n",
    "visualize.attribute.mcs_series(output_directory, start_time, end_time, figure_options, parallel_figure=True, by_date=False)"
   ]
  },
  {
   "cell_type": "code",
   "execution_count": null,
   "metadata": {},
   "outputs": [],
   "source": []
  }
 ],
 "metadata": {
  "kernelspec": {
   "display_name": "THUNER",
   "language": "python",
   "name": "python3"
  },
  "language_info": {
   "codemirror_mode": {
    "name": "ipython",
    "version": 3
   },
   "file_extension": ".py",
   "mimetype": "text/x-python",
   "name": "python",
   "nbconvert_exporter": "python",
   "pygments_lexer": "ipython3",
   "version": "3.10.16"
  }
 },
 "nbformat": 4,
 "nbformat_minor": 2
}
