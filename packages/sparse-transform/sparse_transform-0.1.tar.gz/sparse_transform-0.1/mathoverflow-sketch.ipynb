{
 "cells": [
  {
   "cell_type": "code",
   "execution_count": 1,
   "id": "initial_id",
   "metadata": {
    "collapsed": true,
    "ExecuteTime": {
     "end_time": "2024-04-08T16:13:38.147035Z",
     "start_time": "2024-04-08T16:13:30.486993Z"
    }
   },
   "outputs": [],
   "source": [
    "from asmt.fasmt import FASMT\n",
    "from src.smt.input_signal_subsampled import Signal\n",
    "from src.smt.utils import dec_to_bin_vec\n",
    "from smt.random_group_testing import decode\n",
    "from scipy.sparse import csc_array\n",
    "import numpy as np"
   ]
  },
  {
   "cell_type": "code",
   "outputs": [
    {
     "name": "stdout",
     "output_type": "stream",
     "text": [
      "1000 nodes, 1008 edges\n"
     ]
    }
   ],
   "source": [
    "indptr = [0]\n",
    "indices = []\n",
    "data = []\n",
    "\n",
    "max_n = 1000\n",
    "unique_edges =set()\n",
    "\n",
    "with open(\"data/mathoverflow-answers/hyperedges-mathoverflow-answers.txt\") as file:\n",
    "    for line in file:\n",
    "        edge = line.split(\",\")\n",
    "        edge = sorted(i for i in edge if int(i) < max_n)\n",
    "        if len(edge) > 0 and tuple(edge) not in unique_edges:\n",
    "            for index in edge:\n",
    "                indices.append(int(index))\n",
    "                data.append(len(edge))\n",
    "            indptr.append(len(indices))\n",
    "            unique_edges.add(tuple(edge))\n",
    "\n",
    "inc_mat = csc_array((data, indices, indptr), dtype=int)\n",
    "n, k = inc_mat.shape\n",
    "print(f\"{n} nodes, {k} edges\")\n",
    "degrees = inc_mat.getnnz(axis=0)\n",
    "def get_subgraph_size(nodes):\n",
    "    return np.sum(inc_mat[nodes].getnnz(axis=0) == degrees)"
   ],
   "metadata": {
    "collapsed": false,
    "ExecuteTime": {
     "end_time": "2024-04-08T16:14:29.026299Z",
     "start_time": "2024-04-08T16:14:28.985138Z"
    }
   },
   "id": "8fee86041c2b00ca",
   "execution_count": 4
  },
  {
   "cell_type": "code",
   "outputs": [
    {
     "data": {
      "text/plain": "0 samples [00:00, ? samples/s]",
      "application/vnd.jupyter.widget-view+json": {
       "version_major": 2,
       "version_minor": 0,
       "model_id": "44ea488d2e024147948d1cccc5707829"
      }
     },
     "metadata": {},
     "output_type": "display_data"
    }
   ],
   "source": [
    "class GraphSignal(Signal):\n",
    "    \"\"\"\n",
    "    This is a signal object, except it implements the unimplemented 'subsample' function.\n",
    "    \"\"\"\n",
    "\n",
    "    def __init__(self, **kwargs):\n",
    "\n",
    "        def sampling_function(query_batch):\n",
    "            return get_subgraph_size(np.where(query_batch))\n",
    "\n",
    "        self.sampling_function = sampling_function\n",
    "\n",
    "        super().__init__(**kwargs)\n",
    "\n",
    "    def subsample(self, query_indices):\n",
    "        \"\"\"\n",
    "        Computes the signal/function values at the queried indicies on the fly\n",
    "        \"\"\"\n",
    "        return self.sampling_function(query_indices)\n",
    "    \n",
    "signal = GraphSignal(n=n, q=2)\n",
    "\n",
    "'''\n",
    "Create a ASMT instance and perform the transformation\n",
    "'''\n",
    "fasmt = FASMT()\n",
    "transform_args = {\"query_method\": \"group_testing\", \"decoder\": decode, \"notebook\": True}\n",
    "result = fasmt.transform(signal, verbosity=5, timing_verbose=True, report=True, sort=True, **transform_args)"
   ],
   "metadata": {
    "collapsed": false,
    "ExecuteTime": {
     "end_time": "2024-04-08T16:15:18.194108Z",
     "start_time": "2024-04-08T16:14:30.069040Z"
    }
   },
   "id": "70612c434a7e43e6",
   "execution_count": 5
  },
  {
   "cell_type": "code",
   "outputs": [
    {
     "name": "stdout",
     "output_type": "stream",
     "text": [
      "93.5 µs ± 3.02 µs per loop (mean ± std. dev. of 7 runs, 10,000 loops each)\n"
     ]
    }
   ],
   "source": [
    "# %timeit get_subgraph_size(np.arange(n)[::2])"
   ],
   "metadata": {
    "collapsed": false,
    "ExecuteTime": {
     "end_time": "2024-04-08T16:11:06.301789Z",
     "start_time": "2024-04-08T16:10:58.581040Z"
    }
   },
   "id": "30e62493036dfd2f",
   "execution_count": 76
  },
  {
   "cell_type": "code",
   "outputs": [
    {
     "data": {
      "text/plain": "1008"
     },
     "execution_count": 9,
     "metadata": {},
     "output_type": "execute_result"
    }
   ],
   "source": [
    "sum(result['transform'].values())"
   ],
   "metadata": {
    "collapsed": false,
    "ExecuteTime": {
     "end_time": "2024-04-08T16:16:21.840586Z",
     "start_time": "2024-04-08T16:16:21.835184Z"
    }
   },
   "id": "a6f561c2f47dd663",
   "execution_count": 9
  },
  {
   "cell_type": "code",
   "outputs": [],
   "source": [],
   "metadata": {
    "collapsed": false
   },
   "id": "1186576f950f2d83"
  }
 ],
 "metadata": {
  "kernelspec": {
   "display_name": "Python 3",
   "language": "python",
   "name": "python3"
  },
  "language_info": {
   "codemirror_mode": {
    "name": "ipython",
    "version": 2
   },
   "file_extension": ".py",
   "mimetype": "text/x-python",
   "name": "python",
   "nbconvert_exporter": "python",
   "pygments_lexer": "ipython2",
   "version": "2.7.6"
  }
 },
 "nbformat": 4,
 "nbformat_minor": 5
}
