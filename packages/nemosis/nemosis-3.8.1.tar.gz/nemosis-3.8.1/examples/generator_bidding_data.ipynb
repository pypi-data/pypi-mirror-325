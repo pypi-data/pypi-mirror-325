{
 "cells": [
  {
   "cell_type": "markdown",
   "id": "ccf8555d-80ea-4591-8ae5-e40e0fc01563",
   "metadata": {},
   "source": [
    "# Visualise a generators bidding behavour\n",
    "\n",
    "In order to get data for a specific unit we need to know it's DUID, which acts as its name inside AEMO's Market Managment \n",
    "System database (MMS). In this example we will look at Daydream solar farm.\n",
    "\n",
    "The mapping of station names to DUIDs is published by AEMO in the NEM Registration and Exemption List MS Excel file. \n",
    "Note that when this file is updated by AEMO they remove retired generators. The NEMOSIS table that contains the mapping\n",
    "from this file is called 'Generators and Scheduled Loads' its NEMOSIS wiki entry can be \n",
    "found [here](https://github.com/UNSW-CEEM/NEMOSIS/wiki/AEMO-Tables#generators-and-scheduled-loads-generators-and-scheduled-loads).\n",
    "\n",
    "The bidding data, as used in dispatch, is published by AEMO in two MMS tables called BIDPEROFFER_D (volume bids) and \n",
    "BIDDAYOFFER_D, their NEMOSIS wiki entries can be found \n",
    "[here](https://github.com/UNSW-CEEM/NEMOSIS/wiki/AEMO-Tables#capacity-bids-bidperoffer_d) and \n",
    "[here](https://github.com/UNSW-CEEM/NEMOSIS/wiki/AEMO-Tables#price-bids-biddayoffer_d).\n",
    "\n",
    "Before you get started:\n",
    "* getting plotly (the graphing package I've used) working in a jupyter notebook takes a little bit of extra work but the process is well documented here: https://plotly.com/python/getting-started/"
   ]
  },
  {
   "cell_type": "code",
   "execution_count": 2,
   "id": "76935a32-70cd-4c19-b103-ece3b7b38560",
   "metadata": {},
   "outputs": [],
   "source": [
    "import pandas as pd\n",
    "import numpy as np\n",
    "from datetime import timedelta\n",
    "from nemosis import static_table, dynamic_data_compiler\n",
    "import plotly.express as px"
   ]
  },
  {
   "cell_type": "code",
   "execution_count": 3,
   "id": "6781ea90-f2bc-4620-b916-902d2da97071",
   "metadata": {},
   "outputs": [],
   "source": [
    "# Specify where we will be caching the raw AEMO data.\n",
    "raw_data_cache = 'C:/Users/N.Gorman/Desktop/cache'"
   ]
  },
  {
   "cell_type": "code",
   "execution_count": 4,
   "id": "ab2e375d-9492-466a-a147-4940aade56a7",
   "metadata": {},
   "outputs": [
    {
     "name": "stdout",
     "output_type": "stream",
     "text": [
      "Retrieving static table Generators and Scheduled Loads.\n"
     ]
    },
    {
     "data": {
      "text/html": [
       "<div>\n",
       "<style scoped>\n",
       "    .dataframe tbody tr th:only-of-type {\n",
       "        vertical-align: middle;\n",
       "    }\n",
       "\n",
       "    .dataframe tbody tr th {\n",
       "        vertical-align: top;\n",
       "    }\n",
       "\n",
       "    .dataframe thead th {\n",
       "        text-align: right;\n",
       "    }\n",
       "</style>\n",
       "<table border=\"1\" class=\"dataframe\">\n",
       "  <thead>\n",
       "    <tr style=\"text-align: right;\">\n",
       "      <th></th>\n",
       "      <th>Participant</th>\n",
       "      <th>Station Name</th>\n",
       "      <th>Region</th>\n",
       "      <th>Dispatch Type</th>\n",
       "      <th>Category</th>\n",
       "      <th>Classification</th>\n",
       "      <th>Fuel Source - Primary</th>\n",
       "      <th>Fuel Source - Descriptor</th>\n",
       "      <th>Technology Type - Primary</th>\n",
       "      <th>Technology Type - Descriptor</th>\n",
       "      <th>Aggregation</th>\n",
       "      <th>DUID</th>\n",
       "    </tr>\n",
       "  </thead>\n",
       "  <tbody>\n",
       "    <tr>\n",
       "      <th>0</th>\n",
       "      <td>AETV Pty Ltd</td>\n",
       "      <td>Bairnsdale Power Station</td>\n",
       "      <td>VIC1</td>\n",
       "      <td>Generator</td>\n",
       "      <td>Market</td>\n",
       "      <td>Scheduled</td>\n",
       "      <td>Fossil</td>\n",
       "      <td>Natural Gas</td>\n",
       "      <td>Combustion</td>\n",
       "      <td>Open Cycle Gas turbines (OCGT)</td>\n",
       "      <td>Y</td>\n",
       "      <td>BDL01</td>\n",
       "    </tr>\n",
       "    <tr>\n",
       "      <th>1</th>\n",
       "      <td>AETV Pty Ltd</td>\n",
       "      <td>Bairnsdale Power Station</td>\n",
       "      <td>VIC1</td>\n",
       "      <td>Generator</td>\n",
       "      <td>Market</td>\n",
       "      <td>Scheduled</td>\n",
       "      <td>Fossil</td>\n",
       "      <td>Natural Gas</td>\n",
       "      <td>Combustion</td>\n",
       "      <td>Open Cycle Gas turbines (OCGT)</td>\n",
       "      <td>Y</td>\n",
       "      <td>BDL02</td>\n",
       "    </tr>\n",
       "    <tr>\n",
       "      <th>2</th>\n",
       "      <td>AETV Pty Ltd</td>\n",
       "      <td>Chepstowe Wind Farm</td>\n",
       "      <td>VIC1</td>\n",
       "      <td>Generator</td>\n",
       "      <td>Market</td>\n",
       "      <td>Non-Scheduled</td>\n",
       "      <td>Wind</td>\n",
       "      <td>Wind</td>\n",
       "      <td>Renewable</td>\n",
       "      <td>Wind - Onshore</td>\n",
       "      <td>N</td>\n",
       "      <td>CHPSTWF1</td>\n",
       "    </tr>\n",
       "    <tr>\n",
       "      <th>3</th>\n",
       "      <td>AGL Hydro Partnership</td>\n",
       "      <td>Agl Kemps Creek</td>\n",
       "      <td>NSW1</td>\n",
       "      <td>Generator</td>\n",
       "      <td>Market</td>\n",
       "      <td>Non-Scheduled</td>\n",
       "      <td>Renewable/ Biomass / Waste</td>\n",
       "      <td>Landfill Methane / Landfill Gas</td>\n",
       "      <td>Combustion</td>\n",
       "      <td>Compression Reciprocating Engine</td>\n",
       "      <td>Y</td>\n",
       "      <td>AGLSITA1</td>\n",
       "    </tr>\n",
       "    <tr>\n",
       "      <th>4</th>\n",
       "      <td>AGL Hydro Partnership</td>\n",
       "      <td>Banimboola Power Station</td>\n",
       "      <td>VIC1</td>\n",
       "      <td>Generator</td>\n",
       "      <td>Market</td>\n",
       "      <td>Non-Scheduled</td>\n",
       "      <td>Hydro</td>\n",
       "      <td>Water</td>\n",
       "      <td>Renewable</td>\n",
       "      <td>Hydro - Gravity</td>\n",
       "      <td>Y</td>\n",
       "      <td>BAPS</td>\n",
       "    </tr>\n",
       "  </tbody>\n",
       "</table>\n",
       "</div>"
      ],
      "text/plain": [
       "             Participant              Station Name Region Dispatch Type  \\\n",
       "0           AETV Pty Ltd  Bairnsdale Power Station   VIC1     Generator   \n",
       "1           AETV Pty Ltd  Bairnsdale Power Station   VIC1     Generator   \n",
       "2           AETV Pty Ltd       Chepstowe Wind Farm   VIC1     Generator   \n",
       "3  AGL Hydro Partnership           Agl Kemps Creek   NSW1     Generator   \n",
       "4  AGL Hydro Partnership  Banimboola Power Station   VIC1     Generator   \n",
       "\n",
       "  Category Classification       Fuel Source - Primary  \\\n",
       "0   Market      Scheduled                      Fossil   \n",
       "1   Market      Scheduled                      Fossil   \n",
       "2   Market  Non-Scheduled                        Wind   \n",
       "3   Market  Non-Scheduled  Renewable/ Biomass / Waste   \n",
       "4   Market  Non-Scheduled                       Hydro   \n",
       "\n",
       "          Fuel Source - Descriptor Technology Type - Primary  \\\n",
       "0                      Natural Gas                Combustion   \n",
       "1                      Natural Gas                Combustion   \n",
       "2                             Wind                 Renewable   \n",
       "3  Landfill Methane / Landfill Gas                Combustion   \n",
       "4                            Water                 Renewable   \n",
       "\n",
       "       Technology Type - Descriptor Aggregation      DUID  \n",
       "0    Open Cycle Gas turbines (OCGT)           Y     BDL01  \n",
       "1    Open Cycle Gas turbines (OCGT)           Y     BDL02  \n",
       "2                    Wind - Onshore           N  CHPSTWF1  \n",
       "3  Compression Reciprocating Engine           Y  AGLSITA1  \n",
       "4                   Hydro - Gravity           Y      BAPS  "
      ]
     },
     "execution_count": 4,
     "metadata": {},
     "output_type": "execute_result"
    }
   ],
   "source": [
    "# Download the latest Generators and Scheduled Loads table. The \n",
    "# update_static_file=True argument forces nemosis to download a new copy of \n",
    "# file from AEMO even if a copy already exists in the cache.\n",
    "dispatch_units = static_table(table_name='Generators and Scheduled Loads', \n",
    "                              raw_data_location=raw_data_cache,\n",
    "                              update_static_file=False)\n",
    "dispatch_units.head()"
   ]
  },
  {
   "cell_type": "code",
   "execution_count": 5,
   "id": "7cd10908-184b-4ddd-a1f0-90655243422e",
   "metadata": {},
   "outputs": [
    {
     "data": {
      "text/html": [
       "<div>\n",
       "<style scoped>\n",
       "    .dataframe tbody tr th:only-of-type {\n",
       "        vertical-align: middle;\n",
       "    }\n",
       "\n",
       "    .dataframe tbody tr th {\n",
       "        vertical-align: top;\n",
       "    }\n",
       "\n",
       "    .dataframe thead th {\n",
       "        text-align: right;\n",
       "    }\n",
       "</style>\n",
       "<table border=\"1\" class=\"dataframe\">\n",
       "  <thead>\n",
       "    <tr style=\"text-align: right;\">\n",
       "      <th></th>\n",
       "      <th>Participant</th>\n",
       "      <th>Station Name</th>\n",
       "      <th>Region</th>\n",
       "      <th>Dispatch Type</th>\n",
       "      <th>Category</th>\n",
       "      <th>Classification</th>\n",
       "      <th>Fuel Source - Primary</th>\n",
       "      <th>Fuel Source - Descriptor</th>\n",
       "      <th>Technology Type - Primary</th>\n",
       "      <th>Technology Type - Descriptor</th>\n",
       "      <th>Aggregation</th>\n",
       "      <th>DUID</th>\n",
       "    </tr>\n",
       "  </thead>\n",
       "  <tbody>\n",
       "    <tr>\n",
       "      <th>462</th>\n",
       "      <td>Snowy Hydro Limited</td>\n",
       "      <td>Murray Power Station</td>\n",
       "      <td>VIC1</td>\n",
       "      <td>Generator</td>\n",
       "      <td>Market</td>\n",
       "      <td>Scheduled</td>\n",
       "      <td>Hydro</td>\n",
       "      <td>Water</td>\n",
       "      <td>Renewable</td>\n",
       "      <td>Hydro - Gravity</td>\n",
       "      <td>Y</td>\n",
       "      <td>MURRAY</td>\n",
       "    </tr>\n",
       "  </tbody>\n",
       "</table>\n",
       "</div>"
      ],
      "text/plain": [
       "             Participant          Station Name Region Dispatch Type Category  \\\n",
       "462  Snowy Hydro Limited  Murray Power Station   VIC1     Generator   Market   \n",
       "\n",
       "    Classification Fuel Source - Primary Fuel Source - Descriptor  \\\n",
       "462      Scheduled                 Hydro                    Water   \n",
       "\n",
       "    Technology Type - Primary Technology Type - Descriptor Aggregation    DUID  \n",
       "462                 Renewable              Hydro - Gravity           Y  MURRAY  "
      ]
     },
     "execution_count": 5,
     "metadata": {},
     "output_type": "execute_result"
    }
   ],
   "source": [
    "# Use pandas filtering to find the DUID of Daydream solar farm\n",
    "dispatch_units[dispatch_units['Station Name'].str.contains('Murray')]"
   ]
  },
  {
   "cell_type": "code",
   "execution_count": 54,
   "id": "e311bd82-9ee4-4f2b-a93c-f66d510582b5",
   "metadata": {},
   "outputs": [
    {
     "name": "stdout",
     "output_type": "stream",
     "text": [
      "Compiling data for table BIDPEROFFER_D.\n",
      "Downloading data for table BIDPEROFFER_D, year 2021, month 03\n",
      "Warning: PUBLIC_DVD_BIDPEROFFER_D_202103010000 not downloaded\n",
      "Warning: Loading data from C:/Users/N.Gorman/Desktop/cache\\PUBLIC_DVD_BIDPEROFFER_D_202103010000.feather failed.\n",
      "Returning BIDPEROFFER_D.\n"
     ]
    },
    {
     "data": {
      "text/html": [
       "<div>\n",
       "<style scoped>\n",
       "    .dataframe tbody tr th:only-of-type {\n",
       "        vertical-align: middle;\n",
       "    }\n",
       "\n",
       "    .dataframe tbody tr th {\n",
       "        vertical-align: top;\n",
       "    }\n",
       "\n",
       "    .dataframe thead th {\n",
       "        text-align: right;\n",
       "    }\n",
       "</style>\n",
       "<table border=\"1\" class=\"dataframe\">\n",
       "  <thead>\n",
       "    <tr style=\"text-align: right;\">\n",
       "      <th></th>\n",
       "      <th>SETTLEMENTDATE</th>\n",
       "      <th>DUID</th>\n",
       "      <th>BIDTYPE</th>\n",
       "      <th>OFFERDATE</th>\n",
       "      <th>MAXAVAIL</th>\n",
       "      <th>ENABLEMENTMIN</th>\n",
       "      <th>ENABLEMENTMAX</th>\n",
       "      <th>LOWBREAKPOINT</th>\n",
       "      <th>HIGHBREAKPOINT</th>\n",
       "      <th>BANDAVAIL1</th>\n",
       "      <th>BANDAVAIL2</th>\n",
       "      <th>BANDAVAIL3</th>\n",
       "      <th>BANDAVAIL4</th>\n",
       "      <th>BANDAVAIL5</th>\n",
       "      <th>BANDAVAIL6</th>\n",
       "      <th>BANDAVAIL7</th>\n",
       "      <th>BANDAVAIL8</th>\n",
       "      <th>BANDAVAIL9</th>\n",
       "      <th>BANDAVAIL10</th>\n",
       "      <th>INTERVAL_DATETIME</th>\n",
       "    </tr>\n",
       "  </thead>\n",
       "  <tbody>\n",
       "    <tr>\n",
       "      <th>9295863</th>\n",
       "      <td>2021-02-28</td>\n",
       "      <td>MURRAY</td>\n",
       "      <td>ENERGY</td>\n",
       "      <td>2021-02-28 19:45:52</td>\n",
       "      <td>1493</td>\n",
       "      <td>0.0</td>\n",
       "      <td>0.0</td>\n",
       "      <td>0.0</td>\n",
       "      <td>0.0</td>\n",
       "      <td>0</td>\n",
       "      <td>0</td>\n",
       "      <td>125</td>\n",
       "      <td>155</td>\n",
       "      <td>155</td>\n",
       "      <td>310</td>\n",
       "      <td>0</td>\n",
       "      <td>750</td>\n",
       "      <td>0</td>\n",
       "      <td>1575</td>\n",
       "      <td>2021-03-01 00:05:00</td>\n",
       "    </tr>\n",
       "    <tr>\n",
       "      <th>9296986</th>\n",
       "      <td>2021-02-28</td>\n",
       "      <td>MURRAY</td>\n",
       "      <td>ENERGY</td>\n",
       "      <td>2021-02-28 19:45:52</td>\n",
       "      <td>1493</td>\n",
       "      <td>0.0</td>\n",
       "      <td>0.0</td>\n",
       "      <td>0.0</td>\n",
       "      <td>0.0</td>\n",
       "      <td>0</td>\n",
       "      <td>0</td>\n",
       "      <td>125</td>\n",
       "      <td>155</td>\n",
       "      <td>155</td>\n",
       "      <td>310</td>\n",
       "      <td>0</td>\n",
       "      <td>750</td>\n",
       "      <td>0</td>\n",
       "      <td>1575</td>\n",
       "      <td>2021-03-01 00:10:00</td>\n",
       "    </tr>\n",
       "    <tr>\n",
       "      <th>9298090</th>\n",
       "      <td>2021-02-28</td>\n",
       "      <td>MURRAY</td>\n",
       "      <td>ENERGY</td>\n",
       "      <td>2021-02-28 19:45:52</td>\n",
       "      <td>1493</td>\n",
       "      <td>0.0</td>\n",
       "      <td>0.0</td>\n",
       "      <td>0.0</td>\n",
       "      <td>0.0</td>\n",
       "      <td>0</td>\n",
       "      <td>0</td>\n",
       "      <td>125</td>\n",
       "      <td>155</td>\n",
       "      <td>155</td>\n",
       "      <td>310</td>\n",
       "      <td>0</td>\n",
       "      <td>750</td>\n",
       "      <td>0</td>\n",
       "      <td>1575</td>\n",
       "      <td>2021-03-01 00:15:00</td>\n",
       "    </tr>\n",
       "    <tr>\n",
       "      <th>9299305</th>\n",
       "      <td>2021-02-28</td>\n",
       "      <td>MURRAY</td>\n",
       "      <td>ENERGY</td>\n",
       "      <td>2021-02-28 19:45:52</td>\n",
       "      <td>1493</td>\n",
       "      <td>0.0</td>\n",
       "      <td>0.0</td>\n",
       "      <td>0.0</td>\n",
       "      <td>0.0</td>\n",
       "      <td>0</td>\n",
       "      <td>0</td>\n",
       "      <td>125</td>\n",
       "      <td>155</td>\n",
       "      <td>155</td>\n",
       "      <td>310</td>\n",
       "      <td>0</td>\n",
       "      <td>750</td>\n",
       "      <td>0</td>\n",
       "      <td>1575</td>\n",
       "      <td>2021-03-01 00:20:00</td>\n",
       "    </tr>\n",
       "    <tr>\n",
       "      <th>9300430</th>\n",
       "      <td>2021-02-28</td>\n",
       "      <td>MURRAY</td>\n",
       "      <td>ENERGY</td>\n",
       "      <td>2021-02-28 19:45:52</td>\n",
       "      <td>1493</td>\n",
       "      <td>0.0</td>\n",
       "      <td>0.0</td>\n",
       "      <td>0.0</td>\n",
       "      <td>0.0</td>\n",
       "      <td>0</td>\n",
       "      <td>0</td>\n",
       "      <td>125</td>\n",
       "      <td>155</td>\n",
       "      <td>155</td>\n",
       "      <td>310</td>\n",
       "      <td>0</td>\n",
       "      <td>750</td>\n",
       "      <td>0</td>\n",
       "      <td>1575</td>\n",
       "      <td>2021-03-01 00:25:00</td>\n",
       "    </tr>\n",
       "  </tbody>\n",
       "</table>\n",
       "</div>"
      ],
      "text/plain": [
       "        SETTLEMENTDATE    DUID BIDTYPE           OFFERDATE  MAXAVAIL  \\\n",
       "9295863     2021-02-28  MURRAY  ENERGY 2021-02-28 19:45:52      1493   \n",
       "9296986     2021-02-28  MURRAY  ENERGY 2021-02-28 19:45:52      1493   \n",
       "9298090     2021-02-28  MURRAY  ENERGY 2021-02-28 19:45:52      1493   \n",
       "9299305     2021-02-28  MURRAY  ENERGY 2021-02-28 19:45:52      1493   \n",
       "9300430     2021-02-28  MURRAY  ENERGY 2021-02-28 19:45:52      1493   \n",
       "\n",
       "         ENABLEMENTMIN  ENABLEMENTMAX  LOWBREAKPOINT  HIGHBREAKPOINT  \\\n",
       "9295863            0.0            0.0            0.0             0.0   \n",
       "9296986            0.0            0.0            0.0             0.0   \n",
       "9298090            0.0            0.0            0.0             0.0   \n",
       "9299305            0.0            0.0            0.0             0.0   \n",
       "9300430            0.0            0.0            0.0             0.0   \n",
       "\n",
       "         BANDAVAIL1  BANDAVAIL2  BANDAVAIL3  BANDAVAIL4  BANDAVAIL5  \\\n",
       "9295863           0           0         125         155         155   \n",
       "9296986           0           0         125         155         155   \n",
       "9298090           0           0         125         155         155   \n",
       "9299305           0           0         125         155         155   \n",
       "9300430           0           0         125         155         155   \n",
       "\n",
       "         BANDAVAIL6  BANDAVAIL7  BANDAVAIL8  BANDAVAIL9  BANDAVAIL10  \\\n",
       "9295863         310           0         750           0         1575   \n",
       "9296986         310           0         750           0         1575   \n",
       "9298090         310           0         750           0         1575   \n",
       "9299305         310           0         750           0         1575   \n",
       "9300430         310           0         750           0         1575   \n",
       "\n",
       "          INTERVAL_DATETIME  \n",
       "9295863 2021-03-01 00:05:00  \n",
       "9296986 2021-03-01 00:10:00  \n",
       "9298090 2021-03-01 00:15:00  \n",
       "9299305 2021-03-01 00:20:00  \n",
       "9300430 2021-03-01 00:25:00  "
      ]
     },
     "execution_count": 54,
     "metadata": {},
     "output_type": "execute_result"
    }
   ],
   "source": [
    "# Get the volume bids for the energy market.\n",
    "volume_bids = dynamic_data_compiler(start_time='2021/03/01 00:00:00',\n",
    "                                   end_time='2021/03/07 00:00:00',\n",
    "                                   table_name='BIDPEROFFER_D',\n",
    "                                   raw_data_location=raw_data_cache)\n",
    "volume_bids = volume_bids[(volume_bids['DUID'] == 'MURRAY') & \n",
    "                          (volume_bids['BIDTYPE'] == 'ENERGY')]\n",
    "volume_bids.head()"
   ]
  },
  {
   "cell_type": "code",
   "execution_count": 55,
   "id": "479aa95c-9bff-46be-b20d-7f59726e6ada",
   "metadata": {},
   "outputs": [
    {
     "data": {
      "text/html": [
       "<div>\n",
       "<style scoped>\n",
       "    .dataframe tbody tr th:only-of-type {\n",
       "        vertical-align: middle;\n",
       "    }\n",
       "\n",
       "    .dataframe tbody tr th {\n",
       "        vertical-align: top;\n",
       "    }\n",
       "\n",
       "    .dataframe thead th {\n",
       "        text-align: right;\n",
       "    }\n",
       "</style>\n",
       "<table border=\"1\" class=\"dataframe\">\n",
       "  <thead>\n",
       "    <tr style=\"text-align: right;\">\n",
       "      <th></th>\n",
       "      <th>INTERVAL_DATETIME</th>\n",
       "      <th>BIDBAND</th>\n",
       "      <th>BIDVOLUME</th>\n",
       "    </tr>\n",
       "  </thead>\n",
       "  <tbody>\n",
       "    <tr>\n",
       "      <th>0</th>\n",
       "      <td>2021-03-01 00:05:00</td>\n",
       "      <td>BANDAVAIL1</td>\n",
       "      <td>0</td>\n",
       "    </tr>\n",
       "    <tr>\n",
       "      <th>1</th>\n",
       "      <td>2021-03-01 00:10:00</td>\n",
       "      <td>BANDAVAIL1</td>\n",
       "      <td>0</td>\n",
       "    </tr>\n",
       "    <tr>\n",
       "      <th>2</th>\n",
       "      <td>2021-03-01 00:15:00</td>\n",
       "      <td>BANDAVAIL1</td>\n",
       "      <td>0</td>\n",
       "    </tr>\n",
       "    <tr>\n",
       "      <th>3</th>\n",
       "      <td>2021-03-01 00:20:00</td>\n",
       "      <td>BANDAVAIL1</td>\n",
       "      <td>0</td>\n",
       "    </tr>\n",
       "    <tr>\n",
       "      <th>4</th>\n",
       "      <td>2021-03-01 00:25:00</td>\n",
       "      <td>BANDAVAIL1</td>\n",
       "      <td>0</td>\n",
       "    </tr>\n",
       "  </tbody>\n",
       "</table>\n",
       "</div>"
      ],
      "text/plain": [
       "    INTERVAL_DATETIME     BIDBAND  BIDVOLUME\n",
       "0 2021-03-01 00:05:00  BANDAVAIL1          0\n",
       "1 2021-03-01 00:10:00  BANDAVAIL1          0\n",
       "2 2021-03-01 00:15:00  BANDAVAIL1          0\n",
       "3 2021-03-01 00:20:00  BANDAVAIL1          0\n",
       "4 2021-03-01 00:25:00  BANDAVAIL1          0"
      ]
     },
     "execution_count": 55,
     "metadata": {},
     "output_type": "execute_result"
    }
   ],
   "source": [
    "# Reshape the data such that each bid volume is on its own row.\n",
    "volume_bids = pd.melt(volume_bids, id_vars=['INTERVAL_DATETIME'], \n",
    "                      value_vars=['BANDAVAIL1', 'BANDAVAIL2', 'BANDAVAIL3', 'BANDAVAIL4', \n",
    "                                  'BANDAVAIL5', 'BANDAVAIL6', 'BANDAVAIL7', 'BANDAVAIL8', \n",
    "                                  'BANDAVAIL9', 'BANDAVAIL10'],\n",
    "                      var_name='BIDBAND', value_name='BIDVOLUME')\n",
    "volume_bids.head()"
   ]
  },
  {
   "cell_type": "code",
   "execution_count": 56,
   "id": "e4af4f82-c652-46e1-bac5-31c071879bb6",
   "metadata": {},
   "outputs": [
    {
     "name": "stdout",
     "output_type": "stream",
     "text": [
      "Compiling data for table BIDDAYOFFER_D.\n",
      "Downloading data for table BIDDAYOFFER_D, year 2021, month 03\n",
      "Warning: PUBLIC_DVD_BIDDAYOFFER_D_202103010000 not downloaded\n",
      "Warning: Loading data from C:/Users/N.Gorman/Desktop/cache\\PUBLIC_DVD_BIDDAYOFFER_D_202103010000.feather failed.\n",
      "Returning BIDDAYOFFER_D.\n"
     ]
    },
    {
     "data": {
      "text/html": [
       "<div>\n",
       "<style scoped>\n",
       "    .dataframe tbody tr th:only-of-type {\n",
       "        vertical-align: middle;\n",
       "    }\n",
       "\n",
       "    .dataframe tbody tr th {\n",
       "        vertical-align: top;\n",
       "    }\n",
       "\n",
       "    .dataframe thead th {\n",
       "        text-align: right;\n",
       "    }\n",
       "</style>\n",
       "<table border=\"1\" class=\"dataframe\">\n",
       "  <thead>\n",
       "    <tr style=\"text-align: right;\">\n",
       "      <th></th>\n",
       "      <th>SETTLEMENTDATE</th>\n",
       "      <th>DUID</th>\n",
       "      <th>BIDTYPE</th>\n",
       "      <th>OFFERDATE</th>\n",
       "      <th>VERSIONNO</th>\n",
       "      <th>PRICEBAND1</th>\n",
       "      <th>PRICEBAND2</th>\n",
       "      <th>PRICEBAND3</th>\n",
       "      <th>PRICEBAND4</th>\n",
       "      <th>PRICEBAND5</th>\n",
       "      <th>PRICEBAND6</th>\n",
       "      <th>PRICEBAND7</th>\n",
       "      <th>PRICEBAND8</th>\n",
       "      <th>PRICEBAND9</th>\n",
       "      <th>PRICEBAND10</th>\n",
       "      <th>MINIMUMLOAD</th>\n",
       "      <th>T1</th>\n",
       "      <th>T2</th>\n",
       "      <th>T3</th>\n",
       "      <th>T4</th>\n",
       "    </tr>\n",
       "  </thead>\n",
       "  <tbody>\n",
       "    <tr>\n",
       "      <th>3982</th>\n",
       "      <td>2021-02-28</td>\n",
       "      <td>MURRAY</td>\n",
       "      <td>LOWER6SEC</td>\n",
       "      <td>2021-02-14 20:10:42</td>\n",
       "      <td>1</td>\n",
       "      <td>0.00</td>\n",
       "      <td>4.50</td>\n",
       "      <td>6.00</td>\n",
       "      <td>15.00</td>\n",
       "      <td>30.00</td>\n",
       "      <td>100.00</td>\n",
       "      <td>250.00</td>\n",
       "      <td>2500.00</td>\n",
       "      <td>4800.00</td>\n",
       "      <td>14000.0</td>\n",
       "      <td>0.0</td>\n",
       "      <td>0.0</td>\n",
       "      <td>0.0</td>\n",
       "      <td>0.0</td>\n",
       "      <td>0.0</td>\n",
       "    </tr>\n",
       "    <tr>\n",
       "      <th>3983</th>\n",
       "      <td>2021-02-28</td>\n",
       "      <td>MURRAY</td>\n",
       "      <td>RAISE6SEC</td>\n",
       "      <td>2021-02-14 20:10:42</td>\n",
       "      <td>1</td>\n",
       "      <td>0.00</td>\n",
       "      <td>4.50</td>\n",
       "      <td>6.00</td>\n",
       "      <td>15.00</td>\n",
       "      <td>30.00</td>\n",
       "      <td>100.00</td>\n",
       "      <td>250.00</td>\n",
       "      <td>2500.00</td>\n",
       "      <td>4800.00</td>\n",
       "      <td>14000.0</td>\n",
       "      <td>0.0</td>\n",
       "      <td>0.0</td>\n",
       "      <td>0.0</td>\n",
       "      <td>0.0</td>\n",
       "      <td>0.0</td>\n",
       "    </tr>\n",
       "    <tr>\n",
       "      <th>3984</th>\n",
       "      <td>2021-02-28</td>\n",
       "      <td>MURRAY</td>\n",
       "      <td>RAISEREG</td>\n",
       "      <td>2021-02-14 20:10:42</td>\n",
       "      <td>1</td>\n",
       "      <td>0.01</td>\n",
       "      <td>10.98</td>\n",
       "      <td>13.99</td>\n",
       "      <td>19.99</td>\n",
       "      <td>33.99</td>\n",
       "      <td>99.99</td>\n",
       "      <td>269.98</td>\n",
       "      <td>450.99</td>\n",
       "      <td>1259.80</td>\n",
       "      <td>14698.0</td>\n",
       "      <td>0.0</td>\n",
       "      <td>0.0</td>\n",
       "      <td>0.0</td>\n",
       "      <td>0.0</td>\n",
       "      <td>0.0</td>\n",
       "    </tr>\n",
       "    <tr>\n",
       "      <th>11981</th>\n",
       "      <td>2021-02-28</td>\n",
       "      <td>MURRAY</td>\n",
       "      <td>ENERGY</td>\n",
       "      <td>2021-02-27 13:40:30</td>\n",
       "      <td>29</td>\n",
       "      <td>-967.40</td>\n",
       "      <td>0.00</td>\n",
       "      <td>8.89</td>\n",
       "      <td>19.35</td>\n",
       "      <td>29.02</td>\n",
       "      <td>53.21</td>\n",
       "      <td>145.11</td>\n",
       "      <td>289.74</td>\n",
       "      <td>435.15</td>\n",
       "      <td>14511.0</td>\n",
       "      <td>0.0</td>\n",
       "      <td>0.0</td>\n",
       "      <td>0.0</td>\n",
       "      <td>0.0</td>\n",
       "      <td>0.0</td>\n",
       "    </tr>\n",
       "    <tr>\n",
       "      <th>16187</th>\n",
       "      <td>2021-02-28</td>\n",
       "      <td>MURRAY</td>\n",
       "      <td>LOWERREG</td>\n",
       "      <td>2021-02-14 20:10:42</td>\n",
       "      <td>1</td>\n",
       "      <td>0.72</td>\n",
       "      <td>3.99</td>\n",
       "      <td>5.99</td>\n",
       "      <td>8.99</td>\n",
       "      <td>13.99</td>\n",
       "      <td>18.39</td>\n",
       "      <td>23.72</td>\n",
       "      <td>45.72</td>\n",
       "      <td>99.99</td>\n",
       "      <td>14698.0</td>\n",
       "      <td>0.0</td>\n",
       "      <td>0.0</td>\n",
       "      <td>0.0</td>\n",
       "      <td>0.0</td>\n",
       "      <td>0.0</td>\n",
       "    </tr>\n",
       "  </tbody>\n",
       "</table>\n",
       "</div>"
      ],
      "text/plain": [
       "      SETTLEMENTDATE    DUID    BIDTYPE           OFFERDATE  VERSIONNO  \\\n",
       "3982      2021-02-28  MURRAY  LOWER6SEC 2021-02-14 20:10:42          1   \n",
       "3983      2021-02-28  MURRAY  RAISE6SEC 2021-02-14 20:10:42          1   \n",
       "3984      2021-02-28  MURRAY   RAISEREG 2021-02-14 20:10:42          1   \n",
       "11981     2021-02-28  MURRAY     ENERGY 2021-02-27 13:40:30         29   \n",
       "16187     2021-02-28  MURRAY   LOWERREG 2021-02-14 20:10:42          1   \n",
       "\n",
       "       PRICEBAND1  PRICEBAND2  PRICEBAND3  PRICEBAND4  PRICEBAND5  PRICEBAND6  \\\n",
       "3982         0.00        4.50        6.00       15.00       30.00      100.00   \n",
       "3983         0.00        4.50        6.00       15.00       30.00      100.00   \n",
       "3984         0.01       10.98       13.99       19.99       33.99       99.99   \n",
       "11981     -967.40        0.00        8.89       19.35       29.02       53.21   \n",
       "16187        0.72        3.99        5.99        8.99       13.99       18.39   \n",
       "\n",
       "       PRICEBAND7  PRICEBAND8  PRICEBAND9  PRICEBAND10  MINIMUMLOAD   T1   T2  \\\n",
       "3982       250.00     2500.00     4800.00      14000.0          0.0  0.0  0.0   \n",
       "3983       250.00     2500.00     4800.00      14000.0          0.0  0.0  0.0   \n",
       "3984       269.98      450.99     1259.80      14698.0          0.0  0.0  0.0   \n",
       "11981      145.11      289.74      435.15      14511.0          0.0  0.0  0.0   \n",
       "16187       23.72       45.72       99.99      14698.0          0.0  0.0  0.0   \n",
       "\n",
       "        T3   T4  \n",
       "3982   0.0  0.0  \n",
       "3983   0.0  0.0  \n",
       "3984   0.0  0.0  \n",
       "11981  0.0  0.0  \n",
       "16187  0.0  0.0  "
      ]
     },
     "execution_count": 56,
     "metadata": {},
     "output_type": "execute_result"
    }
   ],
   "source": [
    "# Get the price bids.\n",
    "price_bids = dynamic_data_compiler(start_time='2021/03/01 00:00:00',\n",
    "                                   end_time='2021/03/07 00:00:00',\n",
    "                                   table_name='BIDDAYOFFER_D',\n",
    "                                   raw_data_location=raw_data_cache)\n",
    "price_bids = price_bids[price_bids['DUID'] == 'MURRAY']\n",
    "price_bids.head()"
   ]
  },
  {
   "cell_type": "code",
   "execution_count": 57,
   "id": "807757db-f577-4ba9-8cd6-af09bbe36213",
   "metadata": {},
   "outputs": [
    {
     "data": {
      "text/html": [
       "<div>\n",
       "<style scoped>\n",
       "    .dataframe tbody tr th:only-of-type {\n",
       "        vertical-align: middle;\n",
       "    }\n",
       "\n",
       "    .dataframe tbody tr th {\n",
       "        vertical-align: top;\n",
       "    }\n",
       "\n",
       "    .dataframe thead th {\n",
       "        text-align: right;\n",
       "    }\n",
       "</style>\n",
       "<table border=\"1\" class=\"dataframe\">\n",
       "  <thead>\n",
       "    <tr style=\"text-align: right;\">\n",
       "      <th></th>\n",
       "      <th>SETTLEMENTDATE</th>\n",
       "      <th>BIDBAND</th>\n",
       "      <th>BIDPRICE</th>\n",
       "    </tr>\n",
       "  </thead>\n",
       "  <tbody>\n",
       "    <tr>\n",
       "      <th>0</th>\n",
       "      <td>2021-02-28</td>\n",
       "      <td>PRICEBAND1</td>\n",
       "      <td>0.00</td>\n",
       "    </tr>\n",
       "    <tr>\n",
       "      <th>1</th>\n",
       "      <td>2021-02-28</td>\n",
       "      <td>PRICEBAND1</td>\n",
       "      <td>0.00</td>\n",
       "    </tr>\n",
       "    <tr>\n",
       "      <th>2</th>\n",
       "      <td>2021-02-28</td>\n",
       "      <td>PRICEBAND1</td>\n",
       "      <td>0.01</td>\n",
       "    </tr>\n",
       "    <tr>\n",
       "      <th>3</th>\n",
       "      <td>2021-02-28</td>\n",
       "      <td>PRICEBAND1</td>\n",
       "      <td>-967.40</td>\n",
       "    </tr>\n",
       "    <tr>\n",
       "      <th>4</th>\n",
       "      <td>2021-02-28</td>\n",
       "      <td>PRICEBAND1</td>\n",
       "      <td>0.72</td>\n",
       "    </tr>\n",
       "  </tbody>\n",
       "</table>\n",
       "</div>"
      ],
      "text/plain": [
       "  SETTLEMENTDATE     BIDBAND  BIDPRICE\n",
       "0     2021-02-28  PRICEBAND1      0.00\n",
       "1     2021-02-28  PRICEBAND1      0.00\n",
       "2     2021-02-28  PRICEBAND1      0.01\n",
       "3     2021-02-28  PRICEBAND1   -967.40\n",
       "4     2021-02-28  PRICEBAND1      0.72"
      ]
     },
     "execution_count": 57,
     "metadata": {},
     "output_type": "execute_result"
    }
   ],
   "source": [
    "# Reshape the data such that each bid volume is on its own row.\n",
    "price_bids = pd.melt(price_bids, id_vars=['SETTLEMENTDATE'], \n",
    "                     value_vars=['PRICEBAND1', 'PRICEBAND2', 'PRICEBAND3', 'PRICEBAND4', \n",
    "                                 'PRICEBAND5', 'PRICEBAND6', 'PRICEBAND7', 'PRICEBAND8', \n",
    "                                 'PRICEBAND9', 'PRICEBAND10'],\n",
    "                     var_name='BIDBAND', value_name='BIDPRICE')\n",
    "price_bids.head()"
   ]
  },
  {
   "cell_type": "code",
   "execution_count": 58,
   "id": "c6b887a9-7fc3-4f6e-8e15-27a7ee8f590e",
   "metadata": {},
   "outputs": [
    {
     "data": {
      "text/html": [
       "<div>\n",
       "<style scoped>\n",
       "    .dataframe tbody tr th:only-of-type {\n",
       "        vertical-align: middle;\n",
       "    }\n",
       "\n",
       "    .dataframe tbody tr th {\n",
       "        vertical-align: top;\n",
       "    }\n",
       "\n",
       "    .dataframe thead th {\n",
       "        text-align: right;\n",
       "    }\n",
       "</style>\n",
       "<table border=\"1\" class=\"dataframe\">\n",
       "  <thead>\n",
       "    <tr style=\"text-align: right;\">\n",
       "      <th></th>\n",
       "      <th>SETTLEMENTDATE</th>\n",
       "      <th>BIDBAND</th>\n",
       "      <th>BIDPRICE</th>\n",
       "      <th>APPLICABLEFROM</th>\n",
       "    </tr>\n",
       "  </thead>\n",
       "  <tbody>\n",
       "    <tr>\n",
       "      <th>0</th>\n",
       "      <td>2021-02-28</td>\n",
       "      <td>PRICEBAND1</td>\n",
       "      <td>0.00</td>\n",
       "      <td>2021-02-28 04:05:00</td>\n",
       "    </tr>\n",
       "    <tr>\n",
       "      <th>1</th>\n",
       "      <td>2021-02-28</td>\n",
       "      <td>PRICEBAND1</td>\n",
       "      <td>0.00</td>\n",
       "      <td>2021-02-28 04:05:00</td>\n",
       "    </tr>\n",
       "    <tr>\n",
       "      <th>2</th>\n",
       "      <td>2021-02-28</td>\n",
       "      <td>PRICEBAND1</td>\n",
       "      <td>0.01</td>\n",
       "      <td>2021-02-28 04:05:00</td>\n",
       "    </tr>\n",
       "    <tr>\n",
       "      <th>3</th>\n",
       "      <td>2021-02-28</td>\n",
       "      <td>PRICEBAND1</td>\n",
       "      <td>-967.40</td>\n",
       "      <td>2021-02-28 04:05:00</td>\n",
       "    </tr>\n",
       "    <tr>\n",
       "      <th>4</th>\n",
       "      <td>2021-02-28</td>\n",
       "      <td>PRICEBAND1</td>\n",
       "      <td>0.72</td>\n",
       "      <td>2021-02-28 04:05:00</td>\n",
       "    </tr>\n",
       "  </tbody>\n",
       "</table>\n",
       "</div>"
      ],
      "text/plain": [
       "  SETTLEMENTDATE     BIDBAND  BIDPRICE      APPLICABLEFROM\n",
       "0     2021-02-28  PRICEBAND1      0.00 2021-02-28 04:05:00\n",
       "1     2021-02-28  PRICEBAND1      0.00 2021-02-28 04:05:00\n",
       "2     2021-02-28  PRICEBAND1      0.01 2021-02-28 04:05:00\n",
       "3     2021-02-28  PRICEBAND1   -967.40 2021-02-28 04:05:00\n",
       "4     2021-02-28  PRICEBAND1      0.72 2021-02-28 04:05:00"
      ]
     },
     "execution_count": 58,
     "metadata": {},
     "output_type": "execute_result"
    }
   ],
   "source": [
    "# Price bids are submitted daily and are applicable from the beggining of the market dat. \n",
    "# The first interval of the market day is 04:05:00, so we will add an applicable from column\n",
    "# to make it easier to match volume and price bids.\n",
    "price_bids['APPLICABLEFROM'] = price_bids['SETTLEMENTDATE'] + timedelta(hours=4, minutes=5)\n",
    "price_bids.head()"
   ]
  },
  {
   "cell_type": "code",
   "execution_count": 59,
   "id": "1fd2f6c3-9a43-4d52-8426-b59693a969e1",
   "metadata": {},
   "outputs": [
    {
     "data": {
      "text/html": [
       "<div>\n",
       "<style scoped>\n",
       "    .dataframe tbody tr th:only-of-type {\n",
       "        vertical-align: middle;\n",
       "    }\n",
       "\n",
       "    .dataframe tbody tr th {\n",
       "        vertical-align: top;\n",
       "    }\n",
       "\n",
       "    .dataframe thead th {\n",
       "        text-align: right;\n",
       "    }\n",
       "</style>\n",
       "<table border=\"1\" class=\"dataframe\">\n",
       "  <thead>\n",
       "    <tr style=\"text-align: right;\">\n",
       "      <th></th>\n",
       "      <th>SETTLEMENTDATE</th>\n",
       "      <th>BIDBAND</th>\n",
       "      <th>BIDPRICE</th>\n",
       "      <th>APPLICABLEFROM</th>\n",
       "    </tr>\n",
       "  </thead>\n",
       "  <tbody>\n",
       "    <tr>\n",
       "      <th>0</th>\n",
       "      <td>2021-02-28</td>\n",
       "      <td>1</td>\n",
       "      <td>0.00</td>\n",
       "      <td>2021-02-28 04:05:00</td>\n",
       "    </tr>\n",
       "    <tr>\n",
       "      <th>1</th>\n",
       "      <td>2021-02-28</td>\n",
       "      <td>1</td>\n",
       "      <td>0.00</td>\n",
       "      <td>2021-02-28 04:05:00</td>\n",
       "    </tr>\n",
       "    <tr>\n",
       "      <th>2</th>\n",
       "      <td>2021-02-28</td>\n",
       "      <td>1</td>\n",
       "      <td>0.01</td>\n",
       "      <td>2021-02-28 04:05:00</td>\n",
       "    </tr>\n",
       "    <tr>\n",
       "      <th>3</th>\n",
       "      <td>2021-02-28</td>\n",
       "      <td>1</td>\n",
       "      <td>-967.40</td>\n",
       "      <td>2021-02-28 04:05:00</td>\n",
       "    </tr>\n",
       "    <tr>\n",
       "      <th>4</th>\n",
       "      <td>2021-02-28</td>\n",
       "      <td>1</td>\n",
       "      <td>0.72</td>\n",
       "      <td>2021-02-28 04:05:00</td>\n",
       "    </tr>\n",
       "  </tbody>\n",
       "</table>\n",
       "</div>"
      ],
      "text/plain": [
       "  SETTLEMENTDATE  BIDBAND  BIDPRICE      APPLICABLEFROM\n",
       "0     2021-02-28        1      0.00 2021-02-28 04:05:00\n",
       "1     2021-02-28        1      0.00 2021-02-28 04:05:00\n",
       "2     2021-02-28        1      0.01 2021-02-28 04:05:00\n",
       "3     2021-02-28        1   -967.40 2021-02-28 04:05:00\n",
       "4     2021-02-28        1      0.72 2021-02-28 04:05:00"
      ]
     },
     "execution_count": 59,
     "metadata": {},
     "output_type": "execute_result"
    }
   ],
   "source": [
    "# To make it easier to match volume and price bids we will also convert the BIDBAND values to numeric\n",
    "price_bids['BIDBAND'] = pd.to_numeric(price_bids['BIDBAND'].str[9:])\n",
    "price_bids.head()"
   ]
  },
  {
   "cell_type": "code",
   "execution_count": 60,
   "id": "9b100d36-104d-4b39-9c3b-1f86ea307e68",
   "metadata": {},
   "outputs": [
    {
     "data": {
      "text/html": [
       "<div>\n",
       "<style scoped>\n",
       "    .dataframe tbody tr th:only-of-type {\n",
       "        vertical-align: middle;\n",
       "    }\n",
       "\n",
       "    .dataframe tbody tr th {\n",
       "        vertical-align: top;\n",
       "    }\n",
       "\n",
       "    .dataframe thead th {\n",
       "        text-align: right;\n",
       "    }\n",
       "</style>\n",
       "<table border=\"1\" class=\"dataframe\">\n",
       "  <thead>\n",
       "    <tr style=\"text-align: right;\">\n",
       "      <th></th>\n",
       "      <th>INTERVAL_DATETIME</th>\n",
       "      <th>BIDBAND</th>\n",
       "      <th>BIDVOLUME</th>\n",
       "    </tr>\n",
       "  </thead>\n",
       "  <tbody>\n",
       "    <tr>\n",
       "      <th>0</th>\n",
       "      <td>2021-03-01 00:05:00</td>\n",
       "      <td>1</td>\n",
       "      <td>0</td>\n",
       "    </tr>\n",
       "  </tbody>\n",
       "</table>\n",
       "</div>"
      ],
      "text/plain": [
       "    INTERVAL_DATETIME  BIDBAND  BIDVOLUME\n",
       "0 2021-03-01 00:05:00        1          0"
      ]
     },
     "execution_count": 60,
     "metadata": {},
     "output_type": "execute_result"
    }
   ],
   "source": [
    "volume_bids['BIDBAND'] = pd.to_numeric(volume_bids['BIDBAND'].str[9:])\n",
    "volume_bids.head()"
   ]
  },
  {
   "cell_type": "code",
   "execution_count": 61,
   "id": "e0ac12ba-662f-4d7a-9578-71ef3095e3b0",
   "metadata": {},
   "outputs": [
    {
     "data": {
      "text/html": [
       "<div>\n",
       "<style scoped>\n",
       "    .dataframe tbody tr th:only-of-type {\n",
       "        vertical-align: middle;\n",
       "    }\n",
       "\n",
       "    .dataframe tbody tr th {\n",
       "        vertical-align: top;\n",
       "    }\n",
       "\n",
       "    .dataframe thead th {\n",
       "        text-align: right;\n",
       "    }\n",
       "</style>\n",
       "<table border=\"1\" class=\"dataframe\">\n",
       "  <thead>\n",
       "    <tr style=\"text-align: right;\">\n",
       "      <th></th>\n",
       "      <th>INTERVAL_DATETIME</th>\n",
       "      <th>BIDBAND</th>\n",
       "      <th>BIDVOLUME</th>\n",
       "      <th>SETTLEMENTDATE</th>\n",
       "      <th>BIDPRICE</th>\n",
       "      <th>APPLICABLEFROM</th>\n",
       "    </tr>\n",
       "  </thead>\n",
       "  <tbody>\n",
       "    <tr>\n",
       "      <th>0</th>\n",
       "      <td>2021-03-01 00:05:00</td>\n",
       "      <td>1</td>\n",
       "      <td>0</td>\n",
       "      <td>2021-02-28</td>\n",
       "      <td>0.0</td>\n",
       "      <td>2021-02-28 04:05:00</td>\n",
       "    </tr>\n",
       "    <tr>\n",
       "      <th>1</th>\n",
       "      <td>2021-03-01 00:05:00</td>\n",
       "      <td>2</td>\n",
       "      <td>0</td>\n",
       "      <td>2021-02-28</td>\n",
       "      <td>4.5</td>\n",
       "      <td>2021-02-28 04:05:00</td>\n",
       "    </tr>\n",
       "    <tr>\n",
       "      <th>2</th>\n",
       "      <td>2021-03-01 00:05:00</td>\n",
       "      <td>7</td>\n",
       "      <td>0</td>\n",
       "      <td>2021-02-28</td>\n",
       "      <td>250.0</td>\n",
       "      <td>2021-02-28 04:05:00</td>\n",
       "    </tr>\n",
       "    <tr>\n",
       "      <th>3</th>\n",
       "      <td>2021-03-01 00:05:00</td>\n",
       "      <td>6</td>\n",
       "      <td>310</td>\n",
       "      <td>2021-02-28</td>\n",
       "      <td>100.0</td>\n",
       "      <td>2021-02-28 04:05:00</td>\n",
       "    </tr>\n",
       "    <tr>\n",
       "      <th>4</th>\n",
       "      <td>2021-03-01 00:05:00</td>\n",
       "      <td>4</td>\n",
       "      <td>155</td>\n",
       "      <td>2021-02-28</td>\n",
       "      <td>15.0</td>\n",
       "      <td>2021-02-28 04:05:00</td>\n",
       "    </tr>\n",
       "  </tbody>\n",
       "</table>\n",
       "</div>"
      ],
      "text/plain": [
       "    INTERVAL_DATETIME  BIDBAND  BIDVOLUME SETTLEMENTDATE  BIDPRICE  \\\n",
       "0 2021-03-01 00:05:00        1          0     2021-02-28       0.0   \n",
       "1 2021-03-01 00:05:00        2          0     2021-02-28       4.5   \n",
       "2 2021-03-01 00:05:00        7          0     2021-02-28     250.0   \n",
       "3 2021-03-01 00:05:00        6        310     2021-02-28     100.0   \n",
       "4 2021-03-01 00:05:00        4        155     2021-02-28      15.0   \n",
       "\n",
       "       APPLICABLEFROM  \n",
       "0 2021-02-28 04:05:00  \n",
       "1 2021-02-28 04:05:00  \n",
       "2 2021-02-28 04:05:00  \n",
       "3 2021-02-28 04:05:00  \n",
       "4 2021-02-28 04:05:00  "
      ]
     },
     "execution_count": 61,
     "metadata": {},
     "output_type": "execute_result"
    }
   ],
   "source": [
    "# Now we match each volume bid with the most recent price bid.\n",
    "bids = pd.merge_asof(volume_bids.sort_values('INTERVAL_DATETIME'), \n",
    "                     price_bids.sort_values('APPLICABLEFROM'), \n",
    "                     left_on='INTERVAL_DATETIME', right_on='APPLICABLEFROM',\n",
    "                     by='BIDBAND')\n",
    "bids.head()"
   ]
  },
  {
   "cell_type": "code",
   "execution_count": 84,
   "id": "b62c336f-1e42-4e6d-ae51-00c3043dd848",
   "metadata": {},
   "outputs": [
    {
     "data": {
      "application/vnd.plotly.v1+json": {
       "config": {
        "plotlyServerURL": "https://plot.ly"
       },
       "data": [
        {
         "hovertemplate": "BIDPRICE=0.0<br>INTERVAL_DATETIME=%{x}<br>BIDVOLUME=%{y}<extra></extra>",
         "legendgroup": "0.0",
         "line": {
          "color": "#636efa"
         },
         "mode": "lines",
         "name": "0.0",
         "orientation": "v",
         "showlegend": true,
         "stackgroup": "1",
         "type": "scatter",
         "x": [
          "2021-03-01T00:05:00",
          "2021-03-01T02:10:00",
          "2021-03-01T01:05:00",
          "2021-03-01T00:20:00",
          "2021-03-01T03:30:00",
          "2021-03-01T02:15:00",
          "2021-03-01T03:25:00",
          "2021-03-01T00:25:00",
          "2021-03-01T02:20:00",
          "2021-03-01T01:00:00",
          "2021-03-01T03:20:00",
          "2021-03-01T02:25:00",
          "2021-03-01T02:30:00",
          "2021-03-01T03:35:00",
          "2021-03-01T00:55:00",
          "2021-03-01T00:30:00",
          "2021-03-01T03:15:00",
          "2021-03-01T03:10:00",
          "2021-03-01T02:40:00",
          "2021-03-01T00:50:00",
          "2021-03-01T02:45:00",
          "2021-03-01T03:05:00",
          "2021-03-01T00:45:00",
          "2021-03-01T00:35:00",
          "2021-03-01T02:50:00",
          "2021-03-01T02:55:00",
          "2021-03-01T00:40:00",
          "2021-03-01T02:35:00",
          "2021-03-01T02:05:00",
          "2021-03-01T03:00:00",
          "2021-03-01T03:55:00",
          "2021-03-01T01:20:00",
          "2021-03-01T02:00:00",
          "2021-03-01T03:50:00",
          "2021-03-01T01:15:00",
          "2021-03-01T00:10:00",
          "2021-03-01T01:50:00",
          "2021-03-01T01:40:00",
          "2021-03-01T01:55:00",
          "2021-03-01T03:45:00",
          "2021-03-01T01:45:00",
          "2021-03-01T01:25:00",
          "2021-03-01T01:35:00",
          "2021-03-01T03:40:00",
          "2021-03-01T04:00:00",
          "2021-03-01T01:30:00",
          "2021-03-01T01:10:00",
          "2021-03-01T00:15:00"
         ],
         "xaxis": "x",
         "y": [
          0,
          0,
          0,
          0,
          0,
          0,
          0,
          0,
          0,
          0,
          0,
          0,
          0,
          0,
          0,
          0,
          0,
          0,
          0,
          0,
          0,
          0,
          0,
          0,
          0,
          0,
          0,
          0,
          0,
          0,
          0,
          0,
          0,
          0,
          0,
          0,
          0,
          0,
          0,
          0,
          0,
          0,
          0,
          0,
          0,
          0,
          0,
          0
         ],
         "yaxis": "y"
        },
        {
         "hovertemplate": "BIDPRICE=4.5<br>INTERVAL_DATETIME=%{x}<br>BIDVOLUME=%{y}<extra></extra>",
         "legendgroup": "4.5",
         "line": {
          "color": "#EF553B"
         },
         "mode": "lines",
         "name": "4.5",
         "orientation": "v",
         "showlegend": true,
         "stackgroup": "1",
         "type": "scatter",
         "x": [
          "2021-03-01T01:25:00",
          "2021-03-01T01:30:00",
          "2021-03-01T02:55:00",
          "2021-03-01T01:35:00",
          "2021-03-01T00:45:00",
          "2021-03-01T00:50:00",
          "2021-03-01T01:40:00",
          "2021-03-01T02:50:00",
          "2021-03-01T02:05:00",
          "2021-03-01T01:50:00",
          "2021-03-01T01:20:00",
          "2021-03-01T02:00:00",
          "2021-03-01T01:10:00",
          "2021-03-01T02:10:00",
          "2021-03-01T00:40:00",
          "2021-03-01T01:55:00",
          "2021-03-01T02:15:00",
          "2021-03-01T01:45:00",
          "2021-03-01T01:00:00",
          "2021-03-01T01:15:00",
          "2021-03-01T02:25:00",
          "2021-03-01T00:55:00",
          "2021-03-01T02:30:00",
          "2021-03-01T02:35:00",
          "2021-03-01T02:40:00",
          "2021-03-01T02:20:00",
          "2021-03-01T01:05:00",
          "2021-03-01T02:45:00",
          "2021-03-01T03:00:00",
          "2021-03-01T00:05:00",
          "2021-03-01T04:00:00",
          "2021-03-01T00:10:00",
          "2021-03-01T03:55:00",
          "2021-03-01T03:50:00",
          "2021-03-01T03:45:00",
          "2021-03-01T03:40:00",
          "2021-03-01T00:15:00",
          "2021-03-01T03:35:00",
          "2021-03-01T00:20:00",
          "2021-03-01T00:25:00",
          "2021-03-01T03:25:00",
          "2021-03-01T03:20:00",
          "2021-03-01T03:15:00",
          "2021-03-01T00:30:00",
          "2021-03-01T03:30:00",
          "2021-03-01T03:05:00",
          "2021-03-01T00:35:00",
          "2021-03-01T03:10:00"
         ],
         "xaxis": "x",
         "y": [
          0,
          0,
          0,
          0,
          0,
          0,
          0,
          0,
          0,
          0,
          0,
          0,
          0,
          0,
          0,
          0,
          0,
          0,
          0,
          0,
          0,
          0,
          0,
          0,
          0,
          0,
          0,
          0,
          0,
          0,
          0,
          0,
          0,
          0,
          0,
          0,
          0,
          0,
          0,
          0,
          0,
          0,
          0,
          0,
          0,
          0,
          0,
          0
         ],
         "yaxis": "y"
        },
        {
         "hovertemplate": "BIDPRICE=5.99<br>INTERVAL_DATETIME=%{x}<br>BIDVOLUME=%{y}<extra></extra>",
         "legendgroup": "5.99",
         "line": {
          "color": "#00cc96"
         },
         "mode": "lines",
         "name": "5.99",
         "orientation": "v",
         "showlegend": true,
         "stackgroup": "1",
         "type": "scatter",
         "x": [
          "2021-03-01T02:45:00",
          "2021-03-01T03:35:00",
          "2021-03-01T02:10:00",
          "2021-03-01T00:45:00",
          "2021-03-01T00:35:00",
          "2021-03-01T03:40:00",
          "2021-03-01T01:10:00",
          "2021-03-01T02:00:00",
          "2021-03-01T02:50:00",
          "2021-03-01T00:15:00",
          "2021-03-01T01:15:00",
          "2021-03-01T03:45:00",
          "2021-03-01T01:55:00",
          "2021-03-01T00:10:00",
          "2021-03-01T01:50:00",
          "2021-03-01T03:50:00",
          "2021-03-01T01:20:00",
          "2021-03-01T01:45:00",
          "2021-03-01T02:55:00",
          "2021-03-01T01:40:00",
          "2021-03-01T00:05:00",
          "2021-03-01T03:55:00",
          "2021-03-01T01:35:00",
          "2021-03-01T01:25:00",
          "2021-03-01T04:00:00",
          "2021-03-01T03:00:00",
          "2021-03-01T00:40:00",
          "2021-03-01T03:30:00",
          "2021-03-01T00:20:00",
          "2021-03-01T02:05:00",
          "2021-03-01T01:30:00",
          "2021-03-01T03:25:00",
          "2021-03-01T02:25:00",
          "2021-03-01T03:20:00",
          "2021-03-01T02:30:00",
          "2021-03-01T00:30:00",
          "2021-03-01T03:15:00",
          "2021-03-01T02:20:00",
          "2021-03-01T00:50:00",
          "2021-03-01T03:05:00",
          "2021-03-01T01:00:00",
          "2021-03-01T00:25:00",
          "2021-03-01T00:55:00",
          "2021-03-01T02:15:00",
          "2021-03-01T03:10:00",
          "2021-03-01T01:05:00",
          "2021-03-01T02:40:00",
          "2021-03-01T02:35:00"
         ],
         "xaxis": "x",
         "y": [
          0,
          0,
          0,
          60,
          60,
          0,
          60,
          0,
          0,
          125,
          60,
          0,
          0,
          125,
          0,
          0,
          60,
          0,
          0,
          0,
          125,
          0,
          0,
          60,
          0,
          0,
          60,
          0,
          125,
          0,
          60,
          0,
          0,
          0,
          0,
          125,
          0,
          0,
          60,
          0,
          60,
          125,
          60,
          0,
          0,
          60,
          0,
          0
         ],
         "yaxis": "y"
        },
        {
         "hovertemplate": "BIDPRICE=15.0<br>INTERVAL_DATETIME=%{x}<br>BIDVOLUME=%{y}<extra></extra>",
         "legendgroup": "15.0",
         "line": {
          "color": "#ab63fa"
         },
         "mode": "lines",
         "name": "15.0",
         "orientation": "v",
         "showlegend": true,
         "stackgroup": "1",
         "type": "scatter",
         "x": [
          "2021-03-01T01:40:00",
          "2021-03-01T02:50:00",
          "2021-03-01T04:00:00",
          "2021-03-01T03:55:00",
          "2021-03-01T03:15:00",
          "2021-03-01T02:35:00",
          "2021-03-01T01:35:00",
          "2021-03-01T02:40:00",
          "2021-03-01T01:30:00",
          "2021-03-01T02:30:00",
          "2021-03-01T01:45:00",
          "2021-03-01T03:30:00",
          "2021-03-01T01:50:00",
          "2021-03-01T02:15:00",
          "2021-03-01T02:10:00",
          "2021-03-01T02:05:00",
          "2021-03-01T03:35:00",
          "2021-03-01T02:20:00",
          "2021-03-01T03:05:00",
          "2021-03-01T03:40:00",
          "2021-03-01T03:25:00",
          "2021-03-01T01:55:00",
          "2021-03-01T02:25:00",
          "2021-03-01T03:10:00",
          "2021-03-01T02:45:00",
          "2021-03-01T02:55:00",
          "2021-03-01T03:00:00",
          "2021-03-01T03:50:00",
          "2021-03-01T03:20:00",
          "2021-03-01T03:45:00",
          "2021-03-01T02:00:00",
          "2021-03-01T00:20:00",
          "2021-03-01T01:20:00",
          "2021-03-01T01:00:00",
          "2021-03-01T00:55:00",
          "2021-03-01T00:10:00",
          "2021-03-01T00:25:00",
          "2021-03-01T01:05:00",
          "2021-03-01T00:50:00",
          "2021-03-01T00:15:00",
          "2021-03-01T00:30:00",
          "2021-03-01T01:25:00",
          "2021-03-01T01:10:00",
          "2021-03-01T00:40:00",
          "2021-03-01T00:35:00",
          "2021-03-01T01:15:00",
          "2021-03-01T00:05:00",
          "2021-03-01T00:45:00"
         ],
         "xaxis": "x",
         "y": [
          80,
          60,
          60,
          60,
          60,
          60,
          80,
          60,
          65,
          65,
          80,
          60,
          80,
          65,
          65,
          65,
          60,
          65,
          60,
          60,
          60,
          80,
          65,
          60,
          60,
          60,
          60,
          60,
          60,
          60,
          80,
          155,
          65,
          95,
          95,
          155,
          155,
          65,
          95,
          155,
          155,
          65,
          65,
          95,
          95,
          65,
          155,
          95
         ],
         "yaxis": "y"
        },
        {
         "hovertemplate": "BIDPRICE=30.0<br>INTERVAL_DATETIME=%{x}<br>BIDVOLUME=%{y}<extra></extra>",
         "legendgroup": "30.0",
         "line": {
          "color": "#FFA15A"
         },
         "mode": "lines",
         "name": "30.0",
         "orientation": "v",
         "showlegend": true,
         "stackgroup": "1",
         "type": "scatter",
         "x": [
          "2021-03-01T01:10:00",
          "2021-03-01T03:45:00",
          "2021-03-01T03:30:00",
          "2021-03-01T01:05:00",
          "2021-03-01T02:15:00",
          "2021-03-01T03:35:00",
          "2021-03-01T02:10:00",
          "2021-03-01T03:40:00",
          "2021-03-01T02:00:00",
          "2021-03-01T00:20:00",
          "2021-03-01T02:05:00",
          "2021-03-01T00:15:00",
          "2021-03-01T01:00:00",
          "2021-03-01T00:55:00",
          "2021-03-01T00:25:00",
          "2021-03-01T00:40:00",
          "2021-03-01T00:35:00",
          "2021-03-01T03:05:00",
          "2021-03-01T02:55:00",
          "2021-03-01T02:50:00",
          "2021-03-01T00:45:00",
          "2021-03-01T03:10:00",
          "2021-03-01T02:20:00",
          "2021-03-01T03:15:00",
          "2021-03-01T00:50:00",
          "2021-03-01T00:30:00",
          "2021-03-01T02:35:00",
          "2021-03-01T03:20:00",
          "2021-03-01T02:30:00",
          "2021-03-01T03:25:00",
          "2021-03-01T02:25:00",
          "2021-03-01T02:40:00",
          "2021-03-01T03:50:00",
          "2021-03-01T02:45:00",
          "2021-03-01T03:00:00",
          "2021-03-01T01:20:00",
          "2021-03-01T01:35:00",
          "2021-03-01T01:45:00",
          "2021-03-01T01:15:00",
          "2021-03-01T01:40:00",
          "2021-03-01T01:50:00",
          "2021-03-01T04:00:00",
          "2021-03-01T01:25:00",
          "2021-03-01T01:30:00",
          "2021-03-01T03:55:00",
          "2021-03-01T00:10:00",
          "2021-03-01T01:55:00",
          "2021-03-01T00:05:00"
         ],
         "xaxis": "x",
         "y": [
          70,
          65,
          55,
          70,
          65,
          65,
          65,
          65,
          75,
          155,
          65,
          155,
          90,
          90,
          155,
          90,
          90,
          55,
          55,
          55,
          90,
          55,
          65,
          55,
          90,
          155,
          55,
          55,
          65,
          55,
          65,
          55,
          65,
          55,
          55,
          70,
          75,
          75,
          70,
          75,
          75,
          65,
          70,
          70,
          65,
          155,
          75,
          155
         ],
         "yaxis": "y"
        },
        {
         "hovertemplate": "BIDPRICE=100.0<br>INTERVAL_DATETIME=%{x}<br>BIDVOLUME=%{y}<extra></extra>",
         "legendgroup": "100.0",
         "line": {
          "color": "#19d3f3"
         },
         "mode": "lines",
         "name": "100.0",
         "orientation": "v",
         "showlegend": true,
         "stackgroup": "1",
         "type": "scatter",
         "x": [
          "2021-03-01T01:45:00",
          "2021-03-01T01:05:00",
          "2021-03-01T03:30:00",
          "2021-03-01T01:35:00",
          "2021-03-01T02:20:00",
          "2021-03-01T02:45:00",
          "2021-03-01T03:10:00",
          "2021-03-01T01:00:00",
          "2021-03-01T00:35:00",
          "2021-03-01T03:25:00",
          "2021-03-01T02:40:00",
          "2021-03-01T02:25:00",
          "2021-03-01T03:55:00",
          "2021-03-01T00:30:00",
          "2021-03-01T01:40:00",
          "2021-03-01T02:35:00",
          "2021-03-01T00:55:00",
          "2021-03-01T03:20:00",
          "2021-03-01T02:30:00",
          "2021-03-01T00:50:00",
          "2021-03-01T00:25:00",
          "2021-03-01T03:15:00",
          "2021-03-01T04:00:00",
          "2021-03-01T01:25:00",
          "2021-03-01T00:10:00",
          "2021-03-01T03:00:00",
          "2021-03-01T00:15:00",
          "2021-03-01T02:00:00",
          "2021-03-01T01:55:00",
          "2021-03-01T03:45:00",
          "2021-03-01T01:15:00",
          "2021-03-01T01:30:00",
          "2021-03-01T03:40:00",
          "2021-03-01T02:05:00",
          "2021-03-01T01:10:00",
          "2021-03-01T00:20:00",
          "2021-03-01T03:50:00",
          "2021-03-01T00:40:00",
          "2021-03-01T00:05:00",
          "2021-03-01T02:55:00",
          "2021-03-01T01:50:00",
          "2021-03-01T02:15:00",
          "2021-03-01T00:45:00",
          "2021-03-01T03:35:00",
          "2021-03-01T03:05:00",
          "2021-03-01T02:50:00",
          "2021-03-01T02:10:00",
          "2021-03-01T01:20:00"
         ],
         "xaxis": "x",
         "y": [
          310,
          310,
          310,
          310,
          310,
          310,
          310,
          310,
          310,
          310,
          310,
          310,
          310,
          310,
          310,
          310,
          310,
          310,
          310,
          310,
          310,
          310,
          310,
          310,
          310,
          310,
          310,
          310,
          310,
          310,
          310,
          310,
          310,
          310,
          310,
          310,
          310,
          310,
          310,
          310,
          310,
          310,
          310,
          310,
          310,
          310,
          310,
          310
         ],
         "yaxis": "y"
        },
        {
         "hovertemplate": "BIDPRICE=250.0<br>INTERVAL_DATETIME=%{x}<br>BIDVOLUME=%{y}<extra></extra>",
         "legendgroup": "250.0",
         "line": {
          "color": "#FF6692"
         },
         "mode": "lines",
         "name": "250.0",
         "orientation": "v",
         "showlegend": true,
         "stackgroup": "1",
         "type": "scatter",
         "x": [
          "2021-03-01T00:30:00",
          "2021-03-01T03:55:00",
          "2021-03-01T01:25:00",
          "2021-03-01T03:05:00",
          "2021-03-01T03:00:00",
          "2021-03-01T00:45:00",
          "2021-03-01T00:05:00",
          "2021-03-01T02:55:00",
          "2021-03-01T04:00:00",
          "2021-03-01T03:15:00",
          "2021-03-01T00:35:00",
          "2021-03-01T00:50:00",
          "2021-03-01T02:40:00",
          "2021-03-01T02:45:00",
          "2021-03-01T01:35:00",
          "2021-03-01T00:40:00",
          "2021-03-01T03:10:00",
          "2021-03-01T01:30:00",
          "2021-03-01T02:50:00",
          "2021-03-01T00:55:00",
          "2021-03-01T01:40:00",
          "2021-03-01T01:05:00",
          "2021-03-01T01:50:00",
          "2021-03-01T02:10:00",
          "2021-03-01T00:20:00",
          "2021-03-01T03:35:00",
          "2021-03-01T02:35:00",
          "2021-03-01T02:15:00",
          "2021-03-01T03:30:00",
          "2021-03-01T01:00:00",
          "2021-03-01T02:20:00",
          "2021-03-01T01:45:00",
          "2021-03-01T02:05:00",
          "2021-03-01T03:50:00",
          "2021-03-01T00:15:00",
          "2021-03-01T01:15:00",
          "2021-03-01T03:40:00",
          "2021-03-01T03:25:00",
          "2021-03-01T02:00:00",
          "2021-03-01T01:55:00",
          "2021-03-01T00:10:00",
          "2021-03-01T02:25:00",
          "2021-03-01T00:25:00",
          "2021-03-01T02:30:00",
          "2021-03-01T01:10:00",
          "2021-03-01T01:20:00",
          "2021-03-01T03:20:00",
          "2021-03-01T03:45:00"
         ],
         "xaxis": "x",
         "y": [
          0,
          0,
          0,
          0,
          0,
          0,
          0,
          0,
          0,
          0,
          0,
          0,
          0,
          0,
          0,
          0,
          0,
          0,
          0,
          0,
          0,
          0,
          0,
          0,
          0,
          0,
          0,
          0,
          0,
          0,
          0,
          0,
          0,
          0,
          0,
          0,
          0,
          0,
          0,
          0,
          0,
          0,
          0,
          0,
          0,
          0,
          0,
          0
         ],
         "yaxis": "y"
        },
        {
         "hovertemplate": "BIDPRICE=2500.0<br>INTERVAL_DATETIME=%{x}<br>BIDVOLUME=%{y}<extra></extra>",
         "legendgroup": "2500.0",
         "line": {
          "color": "#B6E880"
         },
         "mode": "lines",
         "name": "2500.0",
         "orientation": "v",
         "showlegend": true,
         "stackgroup": "1",
         "type": "scatter",
         "x": [
          "2021-03-01T00:15:00",
          "2021-03-01T03:35:00",
          "2021-03-01T00:10:00",
          "2021-03-01T03:40:00",
          "2021-03-01T03:05:00",
          "2021-03-01T00:40:00",
          "2021-03-01T00:35:00",
          "2021-03-01T03:10:00",
          "2021-03-01T03:55:00",
          "2021-03-01T00:20:00",
          "2021-03-01T03:30:00",
          "2021-03-01T00:25:00",
          "2021-03-01T00:30:00",
          "2021-03-01T04:00:00",
          "2021-03-01T03:15:00",
          "2021-03-01T03:25:00",
          "2021-03-01T03:20:00",
          "2021-03-01T00:05:00",
          "2021-03-01T03:50:00",
          "2021-03-01T03:45:00",
          "2021-03-01T01:30:00",
          "2021-03-01T01:45:00",
          "2021-03-01T00:50:00",
          "2021-03-01T02:40:00",
          "2021-03-01T00:55:00",
          "2021-03-01T02:35:00",
          "2021-03-01T01:20:00",
          "2021-03-01T02:30:00",
          "2021-03-01T01:00:00",
          "2021-03-01T02:25:00",
          "2021-03-01T02:20:00",
          "2021-03-01T01:05:00",
          "2021-03-01T02:15:00",
          "2021-03-01T01:50:00",
          "2021-03-01T02:10:00",
          "2021-03-01T02:05:00",
          "2021-03-01T01:10:00",
          "2021-03-01T01:15:00",
          "2021-03-01T01:55:00",
          "2021-03-01T01:40:00",
          "2021-03-01T00:45:00",
          "2021-03-01T02:00:00",
          "2021-03-01T01:25:00",
          "2021-03-01T02:50:00",
          "2021-03-01T01:35:00",
          "2021-03-01T03:00:00",
          "2021-03-01T02:55:00",
          "2021-03-01T02:45:00"
         ],
         "xaxis": "x",
         "y": [
          750,
          1050,
          750,
          1050,
          1075,
          950,
          950,
          1075,
          1050,
          750,
          1075,
          750,
          750,
          1050,
          1075,
          1075,
          1075,
          750,
          1050,
          1050,
          1000,
          1025,
          950,
          1075,
          950,
          1075,
          1000,
          1050,
          950,
          1050,
          1050,
          1000,
          1050,
          1025,
          1050,
          1050,
          1000,
          1000,
          1025,
          1025,
          950,
          1025,
          1000,
          1075,
          1025,
          1075,
          1075,
          1075
         ],
         "yaxis": "y"
        },
        {
         "hovertemplate": "BIDPRICE=4800.0<br>INTERVAL_DATETIME=%{x}<br>BIDVOLUME=%{y}<extra></extra>",
         "legendgroup": "4800.0",
         "line": {
          "color": "#FF97FF"
         },
         "mode": "lines",
         "name": "4800.0",
         "orientation": "v",
         "showlegend": true,
         "stackgroup": "1",
         "type": "scatter",
         "x": [
          "2021-03-01T02:20:00",
          "2021-03-01T00:20:00",
          "2021-03-01T02:45:00",
          "2021-03-01T01:05:00",
          "2021-03-01T02:15:00",
          "2021-03-01T01:50:00",
          "2021-03-01T00:40:00",
          "2021-03-01T02:55:00",
          "2021-03-01T00:05:00",
          "2021-03-01T03:30:00",
          "2021-03-01T03:35:00",
          "2021-03-01T01:40:00",
          "2021-03-01T01:35:00",
          "2021-03-01T03:50:00",
          "2021-03-01T01:55:00",
          "2021-03-01T02:05:00",
          "2021-03-01T00:10:00",
          "2021-03-01T03:45:00",
          "2021-03-01T01:10:00",
          "2021-03-01T04:00:00",
          "2021-03-01T03:40:00",
          "2021-03-01T00:15:00",
          "2021-03-01T02:00:00",
          "2021-03-01T01:15:00",
          "2021-03-01T03:05:00",
          "2021-03-01T02:10:00",
          "2021-03-01T03:00:00",
          "2021-03-01T03:25:00",
          "2021-03-01T00:30:00",
          "2021-03-01T01:30:00",
          "2021-03-01T00:50:00",
          "2021-03-01T03:55:00",
          "2021-03-01T00:35:00",
          "2021-03-01T02:40:00",
          "2021-03-01T03:15:00",
          "2021-03-01T01:25:00",
          "2021-03-01T03:20:00",
          "2021-03-01T00:25:00",
          "2021-03-01T02:35:00",
          "2021-03-01T03:10:00",
          "2021-03-01T01:00:00",
          "2021-03-01T02:50:00",
          "2021-03-01T01:20:00",
          "2021-03-01T02:25:00",
          "2021-03-01T00:45:00",
          "2021-03-01T02:30:00",
          "2021-03-01T01:45:00",
          "2021-03-01T00:55:00"
         ],
         "xaxis": "x",
         "y": [
          0,
          0,
          0,
          0,
          0,
          0,
          0,
          0,
          0,
          0,
          0,
          0,
          0,
          0,
          0,
          0,
          0,
          0,
          0,
          0,
          0,
          0,
          0,
          0,
          0,
          0,
          0,
          0,
          0,
          0,
          0,
          0,
          0,
          0,
          0,
          0,
          0,
          0,
          0,
          0,
          0,
          0,
          0,
          0,
          0,
          0,
          0,
          0
         ],
         "yaxis": "y"
        },
        {
         "hovertemplate": "BIDPRICE=14000.0<br>INTERVAL_DATETIME=%{x}<br>BIDVOLUME=%{y}<extra></extra>",
         "legendgroup": "14000.0",
         "line": {
          "color": "#FECB52"
         },
         "mode": "lines",
         "name": "14000.0",
         "orientation": "v",
         "showlegend": true,
         "stackgroup": "1",
         "type": "scatter",
         "x": [
          "2021-03-01T03:55:00",
          "2021-03-01T01:30:00",
          "2021-03-01T01:25:00",
          "2021-03-01T01:40:00",
          "2021-03-01T01:55:00",
          "2021-03-01T01:35:00",
          "2021-03-01T00:10:00",
          "2021-03-01T01:15:00",
          "2021-03-01T03:50:00",
          "2021-03-01T01:50:00",
          "2021-03-01T01:45:00",
          "2021-03-01T00:05:00",
          "2021-03-01T01:20:00",
          "2021-03-01T00:20:00",
          "2021-03-01T02:00:00",
          "2021-03-01T03:00:00",
          "2021-03-01T00:35:00",
          "2021-03-01T00:40:00",
          "2021-03-01T02:55:00",
          "2021-03-01T03:05:00",
          "2021-03-01T02:50:00",
          "2021-03-01T03:10:00",
          "2021-03-01T00:45:00",
          "2021-03-01T02:45:00",
          "2021-03-01T03:15:00",
          "2021-03-01T00:30:00",
          "2021-03-01T02:40:00",
          "2021-03-01T00:50:00",
          "2021-03-01T02:35:00",
          "2021-03-01T03:20:00",
          "2021-03-01T02:30:00",
          "2021-03-01T00:55:00",
          "2021-03-01T01:10:00",
          "2021-03-01T03:40:00",
          "2021-03-01T00:15:00",
          "2021-03-01T03:35:00",
          "2021-03-01T02:05:00",
          "2021-03-01T02:10:00",
          "2021-03-01T03:45:00",
          "2021-03-01T01:05:00",
          "2021-03-01T03:30:00",
          "2021-03-01T02:20:00",
          "2021-03-01T01:00:00",
          "2021-03-01T03:25:00",
          "2021-03-01T02:25:00",
          "2021-03-01T00:25:00",
          "2021-03-01T02:15:00",
          "2021-03-01T04:00:00"
         ],
         "xaxis": "x",
         "y": [
          1575,
          1575,
          1575,
          1575,
          1575,
          1575,
          1575,
          1575,
          1575,
          1575,
          1575,
          1575,
          1575,
          1575,
          1575,
          1575,
          1575,
          1575,
          1575,
          1575,
          1575,
          1575,
          1575,
          1575,
          1575,
          1575,
          1575,
          1575,
          1575,
          1575,
          1575,
          1575,
          1575,
          1575,
          1575,
          1575,
          1575,
          1575,
          1575,
          1575,
          1575,
          1575,
          1575,
          1575,
          1575,
          1575,
          1575,
          1575
         ],
         "yaxis": "y"
        }
       ],
       "layout": {
        "autosize": true,
        "legend": {
         "title": {
          "text": "BIDPRICE"
         },
         "tracegroupgap": 0
        },
        "margin": {
         "t": 60
        },
        "template": {
         "data": {
          "bar": [
           {
            "error_x": {
             "color": "#2a3f5f"
            },
            "error_y": {
             "color": "#2a3f5f"
            },
            "marker": {
             "line": {
              "color": "#E5ECF6",
              "width": 0.5
             }
            },
            "type": "bar"
           }
          ],
          "barpolar": [
           {
            "marker": {
             "line": {
              "color": "#E5ECF6",
              "width": 0.5
             }
            },
            "type": "barpolar"
           }
          ],
          "carpet": [
           {
            "aaxis": {
             "endlinecolor": "#2a3f5f",
             "gridcolor": "white",
             "linecolor": "white",
             "minorgridcolor": "white",
             "startlinecolor": "#2a3f5f"
            },
            "baxis": {
             "endlinecolor": "#2a3f5f",
             "gridcolor": "white",
             "linecolor": "white",
             "minorgridcolor": "white",
             "startlinecolor": "#2a3f5f"
            },
            "type": "carpet"
           }
          ],
          "choropleth": [
           {
            "colorbar": {
             "outlinewidth": 0,
             "ticks": ""
            },
            "type": "choropleth"
           }
          ],
          "contour": [
           {
            "colorbar": {
             "outlinewidth": 0,
             "ticks": ""
            },
            "colorscale": [
             [
              0,
              "#0d0887"
             ],
             [
              0.1111111111111111,
              "#46039f"
             ],
             [
              0.2222222222222222,
              "#7201a8"
             ],
             [
              0.3333333333333333,
              "#9c179e"
             ],
             [
              0.4444444444444444,
              "#bd3786"
             ],
             [
              0.5555555555555556,
              "#d8576b"
             ],
             [
              0.6666666666666666,
              "#ed7953"
             ],
             [
              0.7777777777777778,
              "#fb9f3a"
             ],
             [
              0.8888888888888888,
              "#fdca26"
             ],
             [
              1,
              "#f0f921"
             ]
            ],
            "type": "contour"
           }
          ],
          "contourcarpet": [
           {
            "colorbar": {
             "outlinewidth": 0,
             "ticks": ""
            },
            "type": "contourcarpet"
           }
          ],
          "heatmap": [
           {
            "colorbar": {
             "outlinewidth": 0,
             "ticks": ""
            },
            "colorscale": [
             [
              0,
              "#0d0887"
             ],
             [
              0.1111111111111111,
              "#46039f"
             ],
             [
              0.2222222222222222,
              "#7201a8"
             ],
             [
              0.3333333333333333,
              "#9c179e"
             ],
             [
              0.4444444444444444,
              "#bd3786"
             ],
             [
              0.5555555555555556,
              "#d8576b"
             ],
             [
              0.6666666666666666,
              "#ed7953"
             ],
             [
              0.7777777777777778,
              "#fb9f3a"
             ],
             [
              0.8888888888888888,
              "#fdca26"
             ],
             [
              1,
              "#f0f921"
             ]
            ],
            "type": "heatmap"
           }
          ],
          "heatmapgl": [
           {
            "colorbar": {
             "outlinewidth": 0,
             "ticks": ""
            },
            "colorscale": [
             [
              0,
              "#0d0887"
             ],
             [
              0.1111111111111111,
              "#46039f"
             ],
             [
              0.2222222222222222,
              "#7201a8"
             ],
             [
              0.3333333333333333,
              "#9c179e"
             ],
             [
              0.4444444444444444,
              "#bd3786"
             ],
             [
              0.5555555555555556,
              "#d8576b"
             ],
             [
              0.6666666666666666,
              "#ed7953"
             ],
             [
              0.7777777777777778,
              "#fb9f3a"
             ],
             [
              0.8888888888888888,
              "#fdca26"
             ],
             [
              1,
              "#f0f921"
             ]
            ],
            "type": "heatmapgl"
           }
          ],
          "histogram": [
           {
            "marker": {
             "colorbar": {
              "outlinewidth": 0,
              "ticks": ""
             }
            },
            "type": "histogram"
           }
          ],
          "histogram2d": [
           {
            "colorbar": {
             "outlinewidth": 0,
             "ticks": ""
            },
            "colorscale": [
             [
              0,
              "#0d0887"
             ],
             [
              0.1111111111111111,
              "#46039f"
             ],
             [
              0.2222222222222222,
              "#7201a8"
             ],
             [
              0.3333333333333333,
              "#9c179e"
             ],
             [
              0.4444444444444444,
              "#bd3786"
             ],
             [
              0.5555555555555556,
              "#d8576b"
             ],
             [
              0.6666666666666666,
              "#ed7953"
             ],
             [
              0.7777777777777778,
              "#fb9f3a"
             ],
             [
              0.8888888888888888,
              "#fdca26"
             ],
             [
              1,
              "#f0f921"
             ]
            ],
            "type": "histogram2d"
           }
          ],
          "histogram2dcontour": [
           {
            "colorbar": {
             "outlinewidth": 0,
             "ticks": ""
            },
            "colorscale": [
             [
              0,
              "#0d0887"
             ],
             [
              0.1111111111111111,
              "#46039f"
             ],
             [
              0.2222222222222222,
              "#7201a8"
             ],
             [
              0.3333333333333333,
              "#9c179e"
             ],
             [
              0.4444444444444444,
              "#bd3786"
             ],
             [
              0.5555555555555556,
              "#d8576b"
             ],
             [
              0.6666666666666666,
              "#ed7953"
             ],
             [
              0.7777777777777778,
              "#fb9f3a"
             ],
             [
              0.8888888888888888,
              "#fdca26"
             ],
             [
              1,
              "#f0f921"
             ]
            ],
            "type": "histogram2dcontour"
           }
          ],
          "mesh3d": [
           {
            "colorbar": {
             "outlinewidth": 0,
             "ticks": ""
            },
            "type": "mesh3d"
           }
          ],
          "parcoords": [
           {
            "line": {
             "colorbar": {
              "outlinewidth": 0,
              "ticks": ""
             }
            },
            "type": "parcoords"
           }
          ],
          "pie": [
           {
            "automargin": true,
            "type": "pie"
           }
          ],
          "scatter": [
           {
            "marker": {
             "colorbar": {
              "outlinewidth": 0,
              "ticks": ""
             }
            },
            "type": "scatter"
           }
          ],
          "scatter3d": [
           {
            "line": {
             "colorbar": {
              "outlinewidth": 0,
              "ticks": ""
             }
            },
            "marker": {
             "colorbar": {
              "outlinewidth": 0,
              "ticks": ""
             }
            },
            "type": "scatter3d"
           }
          ],
          "scattercarpet": [
           {
            "marker": {
             "colorbar": {
              "outlinewidth": 0,
              "ticks": ""
             }
            },
            "type": "scattercarpet"
           }
          ],
          "scattergeo": [
           {
            "marker": {
             "colorbar": {
              "outlinewidth": 0,
              "ticks": ""
             }
            },
            "type": "scattergeo"
           }
          ],
          "scattergl": [
           {
            "marker": {
             "colorbar": {
              "outlinewidth": 0,
              "ticks": ""
             }
            },
            "type": "scattergl"
           }
          ],
          "scattermapbox": [
           {
            "marker": {
             "colorbar": {
              "outlinewidth": 0,
              "ticks": ""
             }
            },
            "type": "scattermapbox"
           }
          ],
          "scatterpolar": [
           {
            "marker": {
             "colorbar": {
              "outlinewidth": 0,
              "ticks": ""
             }
            },
            "type": "scatterpolar"
           }
          ],
          "scatterpolargl": [
           {
            "marker": {
             "colorbar": {
              "outlinewidth": 0,
              "ticks": ""
             }
            },
            "type": "scatterpolargl"
           }
          ],
          "scatterternary": [
           {
            "marker": {
             "colorbar": {
              "outlinewidth": 0,
              "ticks": ""
             }
            },
            "type": "scatterternary"
           }
          ],
          "surface": [
           {
            "colorbar": {
             "outlinewidth": 0,
             "ticks": ""
            },
            "colorscale": [
             [
              0,
              "#0d0887"
             ],
             [
              0.1111111111111111,
              "#46039f"
             ],
             [
              0.2222222222222222,
              "#7201a8"
             ],
             [
              0.3333333333333333,
              "#9c179e"
             ],
             [
              0.4444444444444444,
              "#bd3786"
             ],
             [
              0.5555555555555556,
              "#d8576b"
             ],
             [
              0.6666666666666666,
              "#ed7953"
             ],
             [
              0.7777777777777778,
              "#fb9f3a"
             ],
             [
              0.8888888888888888,
              "#fdca26"
             ],
             [
              1,
              "#f0f921"
             ]
            ],
            "type": "surface"
           }
          ],
          "table": [
           {
            "cells": {
             "fill": {
              "color": "#EBF0F8"
             },
             "line": {
              "color": "white"
             }
            },
            "header": {
             "fill": {
              "color": "#C8D4E3"
             },
             "line": {
              "color": "white"
             }
            },
            "type": "table"
           }
          ]
         },
         "layout": {
          "annotationdefaults": {
           "arrowcolor": "#2a3f5f",
           "arrowhead": 0,
           "arrowwidth": 1
          },
          "autotypenumbers": "strict",
          "coloraxis": {
           "colorbar": {
            "outlinewidth": 0,
            "ticks": ""
           }
          },
          "colorscale": {
           "diverging": [
            [
             0,
             "#8e0152"
            ],
            [
             0.1,
             "#c51b7d"
            ],
            [
             0.2,
             "#de77ae"
            ],
            [
             0.3,
             "#f1b6da"
            ],
            [
             0.4,
             "#fde0ef"
            ],
            [
             0.5,
             "#f7f7f7"
            ],
            [
             0.6,
             "#e6f5d0"
            ],
            [
             0.7,
             "#b8e186"
            ],
            [
             0.8,
             "#7fbc41"
            ],
            [
             0.9,
             "#4d9221"
            ],
            [
             1,
             "#276419"
            ]
           ],
           "sequential": [
            [
             0,
             "#0d0887"
            ],
            [
             0.1111111111111111,
             "#46039f"
            ],
            [
             0.2222222222222222,
             "#7201a8"
            ],
            [
             0.3333333333333333,
             "#9c179e"
            ],
            [
             0.4444444444444444,
             "#bd3786"
            ],
            [
             0.5555555555555556,
             "#d8576b"
            ],
            [
             0.6666666666666666,
             "#ed7953"
            ],
            [
             0.7777777777777778,
             "#fb9f3a"
            ],
            [
             0.8888888888888888,
             "#fdca26"
            ],
            [
             1,
             "#f0f921"
            ]
           ],
           "sequentialminus": [
            [
             0,
             "#0d0887"
            ],
            [
             0.1111111111111111,
             "#46039f"
            ],
            [
             0.2222222222222222,
             "#7201a8"
            ],
            [
             0.3333333333333333,
             "#9c179e"
            ],
            [
             0.4444444444444444,
             "#bd3786"
            ],
            [
             0.5555555555555556,
             "#d8576b"
            ],
            [
             0.6666666666666666,
             "#ed7953"
            ],
            [
             0.7777777777777778,
             "#fb9f3a"
            ],
            [
             0.8888888888888888,
             "#fdca26"
            ],
            [
             1,
             "#f0f921"
            ]
           ]
          },
          "colorway": [
           "#636efa",
           "#EF553B",
           "#00cc96",
           "#ab63fa",
           "#FFA15A",
           "#19d3f3",
           "#FF6692",
           "#B6E880",
           "#FF97FF",
           "#FECB52"
          ],
          "font": {
           "color": "#2a3f5f"
          },
          "geo": {
           "bgcolor": "white",
           "lakecolor": "white",
           "landcolor": "#E5ECF6",
           "showlakes": true,
           "showland": true,
           "subunitcolor": "white"
          },
          "hoverlabel": {
           "align": "left"
          },
          "hovermode": "closest",
          "mapbox": {
           "style": "light"
          },
          "paper_bgcolor": "white",
          "plot_bgcolor": "#E5ECF6",
          "polar": {
           "angularaxis": {
            "gridcolor": "white",
            "linecolor": "white",
            "ticks": ""
           },
           "bgcolor": "#E5ECF6",
           "radialaxis": {
            "gridcolor": "white",
            "linecolor": "white",
            "ticks": ""
           }
          },
          "scene": {
           "xaxis": {
            "backgroundcolor": "#E5ECF6",
            "gridcolor": "white",
            "gridwidth": 2,
            "linecolor": "white",
            "showbackground": true,
            "ticks": "",
            "zerolinecolor": "white"
           },
           "yaxis": {
            "backgroundcolor": "#E5ECF6",
            "gridcolor": "white",
            "gridwidth": 2,
            "linecolor": "white",
            "showbackground": true,
            "ticks": "",
            "zerolinecolor": "white"
           },
           "zaxis": {
            "backgroundcolor": "#E5ECF6",
            "gridcolor": "white",
            "gridwidth": 2,
            "linecolor": "white",
            "showbackground": true,
            "ticks": "",
            "zerolinecolor": "white"
           }
          },
          "shapedefaults": {
           "line": {
            "color": "#2a3f5f"
           }
          },
          "ternary": {
           "aaxis": {
            "gridcolor": "white",
            "linecolor": "white",
            "ticks": ""
           },
           "baxis": {
            "gridcolor": "white",
            "linecolor": "white",
            "ticks": ""
           },
           "bgcolor": "#E5ECF6",
           "caxis": {
            "gridcolor": "white",
            "linecolor": "white",
            "ticks": ""
           }
          },
          "title": {
           "x": 0.05
          },
          "xaxis": {
           "automargin": true,
           "gridcolor": "white",
           "linecolor": "white",
           "ticks": "",
           "title": {
            "standoff": 15
           },
           "zerolinecolor": "white",
           "zerolinewidth": 2
          },
          "yaxis": {
           "automargin": true,
           "gridcolor": "white",
           "linecolor": "white",
           "ticks": "",
           "title": {
            "standoff": 15
           },
           "zerolinecolor": "white",
           "zerolinewidth": 2
          }
         }
        },
        "xaxis": {
         "anchor": "y",
         "autorange": true,
         "domain": [
          0,
          1
         ],
         "range": [
          "2021-03-01 00:05",
          "2021-03-01 04:00"
         ],
         "title": {
          "text": "INTERVAL_DATETIME"
         },
         "type": "date"
        },
        "yaxis": {
         "anchor": "x",
         "autorange": true,
         "domain": [
          0,
          1
         ],
         "range": [
          0,
          3242.1052631578946
         ],
         "title": {
          "text": "MW"
         },
         "type": "linear"
        }
       }
      },
      "image/png": "[encoded data removed]",
      "text/html": [
       "<div>                            <div id=\"77d899b8-b992-4770-bef5-be6b90a3a84b\" class=\"plotly-graph-div\" style=\"height:525px; width:100%;\"></div>            <script type=\"text/javascript\">                require([\"plotly\"], function(Plotly) {                    window.PLOTLYENV=window.PLOTLYENV || {};                                    if (document.getElementById(\"77d899b8-b992-4770-bef5-be6b90a3a84b\")) {                    Plotly.newPlot(                        \"77d899b8-b992-4770-bef5-be6b90a3a84b\",                        [{\"hovertemplate\": \"BIDPRICE=0.0<br>INTERVAL_DATETIME=%{x}<br>BIDVOLUME=%{y}<extra></extra>\", \"legendgroup\": \"0.0\", \"line\": {\"color\": \"#636efa\"}, \"mode\": \"lines\", \"name\": \"0.0\", \"orientation\": \"v\", \"showlegend\": true, \"stackgroup\": \"1\", \"type\": \"scatter\", \"x\": [\"2021-03-01T00:05:00\", \"2021-03-01T02:10:00\", \"2021-03-01T01:05:00\", \"2021-03-01T00:20:00\", \"2021-03-01T03:30:00\", \"2021-03-01T02:15:00\", \"2021-03-01T03:25:00\", \"2021-03-01T00:25:00\", \"2021-03-01T02:20:00\", \"2021-03-01T01:00:00\", \"2021-03-01T03:20:00\", \"2021-03-01T02:25:00\", \"2021-03-01T02:30:00\", \"2021-03-01T03:35:00\", \"2021-03-01T00:55:00\", \"2021-03-01T00:30:00\", \"2021-03-01T03:15:00\", \"2021-03-01T03:10:00\", \"2021-03-01T02:40:00\", \"2021-03-01T00:50:00\", \"2021-03-01T02:45:00\", \"2021-03-01T03:05:00\", \"2021-03-01T00:45:00\", \"2021-03-01T00:35:00\", \"2021-03-01T02:50:00\", \"2021-03-01T02:55:00\", \"2021-03-01T00:40:00\", \"2021-03-01T02:35:00\", \"2021-03-01T02:05:00\", \"2021-03-01T03:00:00\", \"2021-03-01T03:55:00\", \"2021-03-01T01:20:00\", \"2021-03-01T02:00:00\", \"2021-03-01T03:50:00\", \"2021-03-01T01:15:00\", \"2021-03-01T00:10:00\", \"2021-03-01T01:50:00\", \"2021-03-01T01:40:00\", \"2021-03-01T01:55:00\", \"2021-03-01T03:45:00\", \"2021-03-01T01:45:00\", \"2021-03-01T01:25:00\", \"2021-03-01T01:35:00\", \"2021-03-01T03:40:00\", \"2021-03-01T04:00:00\", \"2021-03-01T01:30:00\", \"2021-03-01T01:10:00\", \"2021-03-01T00:15:00\"], \"xaxis\": \"x\", \"y\": [0, 0, 0, 0, 0, 0, 0, 0, 0, 0, 0, 0, 0, 0, 0, 0, 0, 0, 0, 0, 0, 0, 0, 0, 0, 0, 0, 0, 0, 0, 0, 0, 0, 0, 0, 0, 0, 0, 0, 0, 0, 0, 0, 0, 0, 0, 0, 0], \"yaxis\": \"y\"}, {\"hovertemplate\": \"BIDPRICE=4.5<br>INTERVAL_DATETIME=%{x}<br>BIDVOLUME=%{y}<extra></extra>\", \"legendgroup\": \"4.5\", \"line\": {\"color\": \"#EF553B\"}, \"mode\": \"lines\", \"name\": \"4.5\", \"orientation\": \"v\", \"showlegend\": true, \"stackgroup\": \"1\", \"type\": \"scatter\", \"x\": [\"2021-03-01T01:25:00\", \"2021-03-01T01:30:00\", \"2021-03-01T02:55:00\", \"2021-03-01T01:35:00\", \"2021-03-01T00:45:00\", \"2021-03-01T00:50:00\", \"2021-03-01T01:40:00\", \"2021-03-01T02:50:00\", \"2021-03-01T02:05:00\", \"2021-03-01T01:50:00\", \"2021-03-01T01:20:00\", \"2021-03-01T02:00:00\", \"2021-03-01T01:10:00\", \"2021-03-01T02:10:00\", \"2021-03-01T00:40:00\", \"2021-03-01T01:55:00\", \"2021-03-01T02:15:00\", \"2021-03-01T01:45:00\", \"2021-03-01T01:00:00\", \"2021-03-01T01:15:00\", \"2021-03-01T02:25:00\", \"2021-03-01T00:55:00\", \"2021-03-01T02:30:00\", \"2021-03-01T02:35:00\", \"2021-03-01T02:40:00\", \"2021-03-01T02:20:00\", \"2021-03-01T01:05:00\", \"2021-03-01T02:45:00\", \"2021-03-01T03:00:00\", \"2021-03-01T00:05:00\", \"2021-03-01T04:00:00\", \"2021-03-01T00:10:00\", \"2021-03-01T03:55:00\", \"2021-03-01T03:50:00\", \"2021-03-01T03:45:00\", \"2021-03-01T03:40:00\", \"2021-03-01T00:15:00\", \"2021-03-01T03:35:00\", \"2021-03-01T00:20:00\", \"2021-03-01T00:25:00\", \"2021-03-01T03:25:00\", \"2021-03-01T03:20:00\", \"2021-03-01T03:15:00\", \"2021-03-01T00:30:00\", \"2021-03-01T03:30:00\", \"2021-03-01T03:05:00\", \"2021-03-01T00:35:00\", \"2021-03-01T03:10:00\"], \"xaxis\": \"x\", \"y\": [0, 0, 0, 0, 0, 0, 0, 0, 0, 0, 0, 0, 0, 0, 0, 0, 0, 0, 0, 0, 0, 0, 0, 0, 0, 0, 0, 0, 0, 0, 0, 0, 0, 0, 0, 0, 0, 0, 0, 0, 0, 0, 0, 0, 0, 0, 0, 0], \"yaxis\": \"y\"}, {\"hovertemplate\": \"BIDPRICE=5.99<br>INTERVAL_DATETIME=%{x}<br>BIDVOLUME=%{y}<extra></extra>\", \"legendgroup\": \"5.99\", \"line\": {\"color\": \"#00cc96\"}, \"mode\": \"lines\", \"name\": \"5.99\", \"orientation\": \"v\", \"showlegend\": true, \"stackgroup\": \"1\", \"type\": \"scatter\", \"x\": [\"2021-03-01T02:45:00\", \"2021-03-01T03:35:00\", \"2021-03-01T02:10:00\", \"2021-03-01T00:45:00\", \"2021-03-01T00:35:00\", \"2021-03-01T03:40:00\", \"2021-03-01T01:10:00\", \"2021-03-01T02:00:00\", \"2021-03-01T02:50:00\", \"2021-03-01T00:15:00\", \"2021-03-01T01:15:00\", \"2021-03-01T03:45:00\", \"2021-03-01T01:55:00\", \"2021-03-01T00:10:00\", \"2021-03-01T01:50:00\", \"2021-03-01T03:50:00\", \"2021-03-01T01:20:00\", \"2021-03-01T01:45:00\", \"2021-03-01T02:55:00\", \"2021-03-01T01:40:00\", \"2021-03-01T00:05:00\", \"2021-03-01T03:55:00\", \"2021-03-01T01:35:00\", \"2021-03-01T01:25:00\", \"2021-03-01T04:00:00\", \"2021-03-01T03:00:00\", \"2021-03-01T00:40:00\", \"2021-03-01T03:30:00\", \"2021-03-01T00:20:00\", \"2021-03-01T02:05:00\", \"2021-03-01T01:30:00\", \"2021-03-01T03:25:00\", \"2021-03-01T02:25:00\", \"2021-03-01T03:20:00\", \"2021-03-01T02:30:00\", \"2021-03-01T00:30:00\", \"2021-03-01T03:15:00\", \"2021-03-01T02:20:00\", \"2021-03-01T00:50:00\", \"2021-03-01T03:05:00\", \"2021-03-01T01:00:00\", \"2021-03-01T00:25:00\", \"2021-03-01T00:55:00\", \"2021-03-01T02:15:00\", \"2021-03-01T03:10:00\", \"2021-03-01T01:05:00\", \"2021-03-01T02:40:00\", \"2021-03-01T02:35:00\"], \"xaxis\": \"x\", \"y\": [0, 0, 0, 60, 60, 0, 60, 0, 0, 125, 60, 0, 0, 125, 0, 0, 60, 0, 0, 0, 125, 0, 0, 60, 0, 0, 60, 0, 125, 0, 60, 0, 0, 0, 0, 125, 0, 0, 60, 0, 60, 125, 60, 0, 0, 60, 0, 0], \"yaxis\": \"y\"}, {\"hovertemplate\": \"BIDPRICE=15.0<br>INTERVAL_DATETIME=%{x}<br>BIDVOLUME=%{y}<extra></extra>\", \"legendgroup\": \"15.0\", \"line\": {\"color\": \"#ab63fa\"}, \"mode\": \"lines\", \"name\": \"15.0\", \"orientation\": \"v\", \"showlegend\": true, \"stackgroup\": \"1\", \"type\": \"scatter\", \"x\": [\"2021-03-01T01:40:00\", \"2021-03-01T02:50:00\", \"2021-03-01T04:00:00\", \"2021-03-01T03:55:00\", \"2021-03-01T03:15:00\", \"2021-03-01T02:35:00\", \"2021-03-01T01:35:00\", \"2021-03-01T02:40:00\", \"2021-03-01T01:30:00\", \"2021-03-01T02:30:00\", \"2021-03-01T01:45:00\", \"2021-03-01T03:30:00\", \"2021-03-01T01:50:00\", \"2021-03-01T02:15:00\", \"2021-03-01T02:10:00\", \"2021-03-01T02:05:00\", \"2021-03-01T03:35:00\", \"2021-03-01T02:20:00\", \"2021-03-01T03:05:00\", \"2021-03-01T03:40:00\", \"2021-03-01T03:25:00\", \"2021-03-01T01:55:00\", \"2021-03-01T02:25:00\", \"2021-03-01T03:10:00\", \"2021-03-01T02:45:00\", \"2021-03-01T02:55:00\", \"2021-03-01T03:00:00\", \"2021-03-01T03:50:00\", \"2021-03-01T03:20:00\", \"2021-03-01T03:45:00\", \"2021-03-01T02:00:00\", \"2021-03-01T00:20:00\", \"2021-03-01T01:20:00\", \"2021-03-01T01:00:00\", \"2021-03-01T00:55:00\", \"2021-03-01T00:10:00\", \"2021-03-01T00:25:00\", \"2021-03-01T01:05:00\", \"2021-03-01T00:50:00\", \"2021-03-01T00:15:00\", \"2021-03-01T00:30:00\", \"2021-03-01T01:25:00\", \"2021-03-01T01:10:00\", \"2021-03-01T00:40:00\", \"2021-03-01T00:35:00\", \"2021-03-01T01:15:00\", \"2021-03-01T00:05:00\", \"2021-03-01T00:45:00\"], \"xaxis\": \"x\", \"y\": [80, 60, 60, 60, 60, 60, 80, 60, 65, 65, 80, 60, 80, 65, 65, 65, 60, 65, 60, 60, 60, 80, 65, 60, 60, 60, 60, 60, 60, 60, 80, 155, 65, 95, 95, 155, 155, 65, 95, 155, 155, 65, 65, 95, 95, 65, 155, 95], \"yaxis\": \"y\"}, {\"hovertemplate\": \"BIDPRICE=30.0<br>INTERVAL_DATETIME=%{x}<br>BIDVOLUME=%{y}<extra></extra>\", \"legendgroup\": \"30.0\", \"line\": {\"color\": \"#FFA15A\"}, \"mode\": \"lines\", \"name\": \"30.0\", \"orientation\": \"v\", \"showlegend\": true, \"stackgroup\": \"1\", \"type\": \"scatter\", \"x\": [\"2021-03-01T01:10:00\", \"2021-03-01T03:45:00\", \"2021-03-01T03:30:00\", \"2021-03-01T01:05:00\", \"2021-03-01T02:15:00\", \"2021-03-01T03:35:00\", \"2021-03-01T02:10:00\", \"2021-03-01T03:40:00\", \"2021-03-01T02:00:00\", \"2021-03-01T00:20:00\", \"2021-03-01T02:05:00\", \"2021-03-01T00:15:00\", \"2021-03-01T01:00:00\", \"2021-03-01T00:55:00\", \"2021-03-01T00:25:00\", \"2021-03-01T00:40:00\", \"2021-03-01T00:35:00\", \"2021-03-01T03:05:00\", \"2021-03-01T02:55:00\", \"2021-03-01T02:50:00\", \"2021-03-01T00:45:00\", \"2021-03-01T03:10:00\", \"2021-03-01T02:20:00\", \"2021-03-01T03:15:00\", \"2021-03-01T00:50:00\", \"2021-03-01T00:30:00\", \"2021-03-01T02:35:00\", \"2021-03-01T03:20:00\", \"2021-03-01T02:30:00\", \"2021-03-01T03:25:00\", \"2021-03-01T02:25:00\", \"2021-03-01T02:40:00\", \"2021-03-01T03:50:00\", \"2021-03-01T02:45:00\", \"2021-03-01T03:00:00\", \"2021-03-01T01:20:00\", \"2021-03-01T01:35:00\", \"2021-03-01T01:45:00\", \"2021-03-01T01:15:00\", \"2021-03-01T01:40:00\", \"2021-03-01T01:50:00\", \"2021-03-01T04:00:00\", \"2021-03-01T01:25:00\", \"2021-03-01T01:30:00\", \"2021-03-01T03:55:00\", \"2021-03-01T00:10:00\", \"2021-03-01T01:55:00\", \"2021-03-01T00:05:00\"], \"xaxis\": \"x\", \"y\": [70, 65, 55, 70, 65, 65, 65, 65, 75, 155, 65, 155, 90, 90, 155, 90, 90, 55, 55, 55, 90, 55, 65, 55, 90, 155, 55, 55, 65, 55, 65, 55, 65, 55, 55, 70, 75, 75, 70, 75, 75, 65, 70, 70, 65, 155, 75, 155], \"yaxis\": \"y\"}, {\"hovertemplate\": \"BIDPRICE=100.0<br>INTERVAL_DATETIME=%{x}<br>BIDVOLUME=%{y}<extra></extra>\", \"legendgroup\": \"100.0\", \"line\": {\"color\": \"#19d3f3\"}, \"mode\": \"lines\", \"name\": \"100.0\", \"orientation\": \"v\", \"showlegend\": true, \"stackgroup\": \"1\", \"type\": \"scatter\", \"x\": [\"2021-03-01T01:45:00\", \"2021-03-01T01:05:00\", \"2021-03-01T03:30:00\", \"2021-03-01T01:35:00\", \"2021-03-01T02:20:00\", \"2021-03-01T02:45:00\", \"2021-03-01T03:10:00\", \"2021-03-01T01:00:00\", \"2021-03-01T00:35:00\", \"2021-03-01T03:25:00\", \"2021-03-01T02:40:00\", \"2021-03-01T02:25:00\", \"2021-03-01T03:55:00\", \"2021-03-01T00:30:00\", \"2021-03-01T01:40:00\", \"2021-03-01T02:35:00\", \"2021-03-01T00:55:00\", \"2021-03-01T03:20:00\", \"2021-03-01T02:30:00\", \"2021-03-01T00:50:00\", \"2021-03-01T00:25:00\", \"2021-03-01T03:15:00\", \"2021-03-01T04:00:00\", \"2021-03-01T01:25:00\", \"2021-03-01T00:10:00\", \"2021-03-01T03:00:00\", \"2021-03-01T00:15:00\", \"2021-03-01T02:00:00\", \"2021-03-01T01:55:00\", \"2021-03-01T03:45:00\", \"2021-03-01T01:15:00\", \"2021-03-01T01:30:00\", \"2021-03-01T03:40:00\", \"2021-03-01T02:05:00\", \"2021-03-01T01:10:00\", \"2021-03-01T00:20:00\", \"2021-03-01T03:50:00\", \"2021-03-01T00:40:00\", \"2021-03-01T00:05:00\", \"2021-03-01T02:55:00\", \"2021-03-01T01:50:00\", \"2021-03-01T02:15:00\", \"2021-03-01T00:45:00\", \"2021-03-01T03:35:00\", \"2021-03-01T03:05:00\", \"2021-03-01T02:50:00\", \"2021-03-01T02:10:00\", \"2021-03-01T01:20:00\"], \"xaxis\": \"x\", \"y\": [310, 310, 310, 310, 310, 310, 310, 310, 310, 310, 310, 310, 310, 310, 310, 310, 310, 310, 310, 310, 310, 310, 310, 310, 310, 310, 310, 310, 310, 310, 310, 310, 310, 310, 310, 310, 310, 310, 310, 310, 310, 310, 310, 310, 310, 310, 310, 310], \"yaxis\": \"y\"}, {\"hovertemplate\": \"BIDPRICE=250.0<br>INTERVAL_DATETIME=%{x}<br>BIDVOLUME=%{y}<extra></extra>\", \"legendgroup\": \"250.0\", \"line\": {\"color\": \"#FF6692\"}, \"mode\": \"lines\", \"name\": \"250.0\", \"orientation\": \"v\", \"showlegend\": true, \"stackgroup\": \"1\", \"type\": \"scatter\", \"x\": [\"2021-03-01T00:30:00\", \"2021-03-01T03:55:00\", \"2021-03-01T01:25:00\", \"2021-03-01T03:05:00\", \"2021-03-01T03:00:00\", \"2021-03-01T00:45:00\", \"2021-03-01T00:05:00\", \"2021-03-01T02:55:00\", \"2021-03-01T04:00:00\", \"2021-03-01T03:15:00\", \"2021-03-01T00:35:00\", \"2021-03-01T00:50:00\", \"2021-03-01T02:40:00\", \"2021-03-01T02:45:00\", \"2021-03-01T01:35:00\", \"2021-03-01T00:40:00\", \"2021-03-01T03:10:00\", \"2021-03-01T01:30:00\", \"2021-03-01T02:50:00\", \"2021-03-01T00:55:00\", \"2021-03-01T01:40:00\", \"2021-03-01T01:05:00\", \"2021-03-01T01:50:00\", \"2021-03-01T02:10:00\", \"2021-03-01T00:20:00\", \"2021-03-01T03:35:00\", \"2021-03-01T02:35:00\", \"2021-03-01T02:15:00\", \"2021-03-01T03:30:00\", \"2021-03-01T01:00:00\", \"2021-03-01T02:20:00\", \"2021-03-01T01:45:00\", \"2021-03-01T02:05:00\", \"2021-03-01T03:50:00\", \"2021-03-01T00:15:00\", \"2021-03-01T01:15:00\", \"2021-03-01T03:40:00\", \"2021-03-01T03:25:00\", \"2021-03-01T02:00:00\", \"2021-03-01T01:55:00\", \"2021-03-01T00:10:00\", \"2021-03-01T02:25:00\", \"2021-03-01T00:25:00\", \"2021-03-01T02:30:00\", \"2021-03-01T01:10:00\", \"2021-03-01T01:20:00\", \"2021-03-01T03:20:00\", \"2021-03-01T03:45:00\"], \"xaxis\": \"x\", \"y\": [0, 0, 0, 0, 0, 0, 0, 0, 0, 0, 0, 0, 0, 0, 0, 0, 0, 0, 0, 0, 0, 0, 0, 0, 0, 0, 0, 0, 0, 0, 0, 0, 0, 0, 0, 0, 0, 0, 0, 0, 0, 0, 0, 0, 0, 0, 0, 0], \"yaxis\": \"y\"}, {\"hovertemplate\": \"BIDPRICE=2500.0<br>INTERVAL_DATETIME=%{x}<br>BIDVOLUME=%{y}<extra></extra>\", \"legendgroup\": \"2500.0\", \"line\": {\"color\": \"#B6E880\"}, \"mode\": \"lines\", \"name\": \"2500.0\", \"orientation\": \"v\", \"showlegend\": true, \"stackgroup\": \"1\", \"type\": \"scatter\", \"x\": [\"2021-03-01T00:15:00\", \"2021-03-01T03:35:00\", \"2021-03-01T00:10:00\", \"2021-03-01T03:40:00\", \"2021-03-01T03:05:00\", \"2021-03-01T00:40:00\", \"2021-03-01T00:35:00\", \"2021-03-01T03:10:00\", \"2021-03-01T03:55:00\", \"2021-03-01T00:20:00\", \"2021-03-01T03:30:00\", \"2021-03-01T00:25:00\", \"2021-03-01T00:30:00\", \"2021-03-01T04:00:00\", \"2021-03-01T03:15:00\", \"2021-03-01T03:25:00\", \"2021-03-01T03:20:00\", \"2021-03-01T00:05:00\", \"2021-03-01T03:50:00\", \"2021-03-01T03:45:00\", \"2021-03-01T01:30:00\", \"2021-03-01T01:45:00\", \"2021-03-01T00:50:00\", \"2021-03-01T02:40:00\", \"2021-03-01T00:55:00\", \"2021-03-01T02:35:00\", \"2021-03-01T01:20:00\", \"2021-03-01T02:30:00\", \"2021-03-01T01:00:00\", \"2021-03-01T02:25:00\", \"2021-03-01T02:20:00\", \"2021-03-01T01:05:00\", \"2021-03-01T02:15:00\", \"2021-03-01T01:50:00\", \"2021-03-01T02:10:00\", \"2021-03-01T02:05:00\", \"2021-03-01T01:10:00\", \"2021-03-01T01:15:00\", \"2021-03-01T01:55:00\", \"2021-03-01T01:40:00\", \"2021-03-01T00:45:00\", \"2021-03-01T02:00:00\", \"2021-03-01T01:25:00\", \"2021-03-01T02:50:00\", \"2021-03-01T01:35:00\", \"2021-03-01T03:00:00\", \"2021-03-01T02:55:00\", \"2021-03-01T02:45:00\"], \"xaxis\": \"x\", \"y\": [750, 1050, 750, 1050, 1075, 950, 950, 1075, 1050, 750, 1075, 750, 750, 1050, 1075, 1075, 1075, 750, 1050, 1050, 1000, 1025, 950, 1075, 950, 1075, 1000, 1050, 950, 1050, 1050, 1000, 1050, 1025, 1050, 1050, 1000, 1000, 1025, 1025, 950, 1025, 1000, 1075, 1025, 1075, 1075, 1075], \"yaxis\": \"y\"}, {\"hovertemplate\": \"BIDPRICE=4800.0<br>INTERVAL_DATETIME=%{x}<br>BIDVOLUME=%{y}<extra></extra>\", \"legendgroup\": \"4800.0\", \"line\": {\"color\": \"#FF97FF\"}, \"mode\": \"lines\", \"name\": \"4800.0\", \"orientation\": \"v\", \"showlegend\": true, \"stackgroup\": \"1\", \"type\": \"scatter\", \"x\": [\"2021-03-01T02:20:00\", \"2021-03-01T00:20:00\", \"2021-03-01T02:45:00\", \"2021-03-01T01:05:00\", \"2021-03-01T02:15:00\", \"2021-03-01T01:50:00\", \"2021-03-01T00:40:00\", \"2021-03-01T02:55:00\", \"2021-03-01T00:05:00\", \"2021-03-01T03:30:00\", \"2021-03-01T03:35:00\", \"2021-03-01T01:40:00\", \"2021-03-01T01:35:00\", \"2021-03-01T03:50:00\", \"2021-03-01T01:55:00\", \"2021-03-01T02:05:00\", \"2021-03-01T00:10:00\", \"2021-03-01T03:45:00\", \"2021-03-01T01:10:00\", \"2021-03-01T04:00:00\", \"2021-03-01T03:40:00\", \"2021-03-01T00:15:00\", \"2021-03-01T02:00:00\", \"2021-03-01T01:15:00\", \"2021-03-01T03:05:00\", \"2021-03-01T02:10:00\", \"2021-03-01T03:00:00\", \"2021-03-01T03:25:00\", \"2021-03-01T00:30:00\", \"2021-03-01T01:30:00\", \"2021-03-01T00:50:00\", \"2021-03-01T03:55:00\", \"2021-03-01T00:35:00\", \"2021-03-01T02:40:00\", \"2021-03-01T03:15:00\", \"2021-03-01T01:25:00\", \"2021-03-01T03:20:00\", \"2021-03-01T00:25:00\", \"2021-03-01T02:35:00\", \"2021-03-01T03:10:00\", \"2021-03-01T01:00:00\", \"2021-03-01T02:50:00\", \"2021-03-01T01:20:00\", \"2021-03-01T02:25:00\", \"2021-03-01T00:45:00\", \"2021-03-01T02:30:00\", \"2021-03-01T01:45:00\", \"2021-03-01T00:55:00\"], \"xaxis\": \"x\", \"y\": [0, 0, 0, 0, 0, 0, 0, 0, 0, 0, 0, 0, 0, 0, 0, 0, 0, 0, 0, 0, 0, 0, 0, 0, 0, 0, 0, 0, 0, 0, 0, 0, 0, 0, 0, 0, 0, 0, 0, 0, 0, 0, 0, 0, 0, 0, 0, 0], \"yaxis\": \"y\"}, {\"hovertemplate\": \"BIDPRICE=14000.0<br>INTERVAL_DATETIME=%{x}<br>BIDVOLUME=%{y}<extra></extra>\", \"legendgroup\": \"14000.0\", \"line\": {\"color\": \"#FECB52\"}, \"mode\": \"lines\", \"name\": \"14000.0\", \"orientation\": \"v\", \"showlegend\": true, \"stackgroup\": \"1\", \"type\": \"scatter\", \"x\": [\"2021-03-01T03:55:00\", \"2021-03-01T01:30:00\", \"2021-03-01T01:25:00\", \"2021-03-01T01:40:00\", \"2021-03-01T01:55:00\", \"2021-03-01T01:35:00\", \"2021-03-01T00:10:00\", \"2021-03-01T01:15:00\", \"2021-03-01T03:50:00\", \"2021-03-01T01:50:00\", \"2021-03-01T01:45:00\", \"2021-03-01T00:05:00\", \"2021-03-01T01:20:00\", \"2021-03-01T00:20:00\", \"2021-03-01T02:00:00\", \"2021-03-01T03:00:00\", \"2021-03-01T00:35:00\", \"2021-03-01T00:40:00\", \"2021-03-01T02:55:00\", \"2021-03-01T03:05:00\", \"2021-03-01T02:50:00\", \"2021-03-01T03:10:00\", \"2021-03-01T00:45:00\", \"2021-03-01T02:45:00\", \"2021-03-01T03:15:00\", \"2021-03-01T00:30:00\", \"2021-03-01T02:40:00\", \"2021-03-01T00:50:00\", \"2021-03-01T02:35:00\", \"2021-03-01T03:20:00\", \"2021-03-01T02:30:00\", \"2021-03-01T00:55:00\", \"2021-03-01T01:10:00\", \"2021-03-01T03:40:00\", \"2021-03-01T00:15:00\", \"2021-03-01T03:35:00\", \"2021-03-01T02:05:00\", \"2021-03-01T02:10:00\", \"2021-03-01T03:45:00\", \"2021-03-01T01:05:00\", \"2021-03-01T03:30:00\", \"2021-03-01T02:20:00\", \"2021-03-01T01:00:00\", \"2021-03-01T03:25:00\", \"2021-03-01T02:25:00\", \"2021-03-01T00:25:00\", \"2021-03-01T02:15:00\", \"2021-03-01T04:00:00\"], \"xaxis\": \"x\", \"y\": [1575, 1575, 1575, 1575, 1575, 1575, 1575, 1575, 1575, 1575, 1575, 1575, 1575, 1575, 1575, 1575, 1575, 1575, 1575, 1575, 1575, 1575, 1575, 1575, 1575, 1575, 1575, 1575, 1575, 1575, 1575, 1575, 1575, 1575, 1575, 1575, 1575, 1575, 1575, 1575, 1575, 1575, 1575, 1575, 1575, 1575, 1575, 1575], \"yaxis\": \"y\"}],                        {\"legend\": {\"title\": {\"text\": \"BIDPRICE\"}, \"tracegroupgap\": 0}, \"margin\": {\"t\": 60}, \"template\": {\"data\": {\"bar\": [{\"error_x\": {\"color\": \"#2a3f5f\"}, \"error_y\": {\"color\": \"#2a3f5f\"}, \"marker\": {\"line\": {\"color\": \"#E5ECF6\", \"width\": 0.5}}, \"type\": \"bar\"}], \"barpolar\": [{\"marker\": {\"line\": {\"color\": \"#E5ECF6\", \"width\": 0.5}}, \"type\": \"barpolar\"}], \"carpet\": [{\"aaxis\": {\"endlinecolor\": \"#2a3f5f\", \"gridcolor\": \"white\", \"linecolor\": \"white\", \"minorgridcolor\": \"white\", \"startlinecolor\": \"#2a3f5f\"}, \"baxis\": {\"endlinecolor\": \"#2a3f5f\", \"gridcolor\": \"white\", \"linecolor\": \"white\", \"minorgridcolor\": \"white\", \"startlinecolor\": \"#2a3f5f\"}, \"type\": \"carpet\"}], \"choropleth\": [{\"colorbar\": {\"outlinewidth\": 0, \"ticks\": \"\"}, \"type\": \"choropleth\"}], \"contour\": [{\"colorbar\": {\"outlinewidth\": 0, \"ticks\": \"\"}, \"colorscale\": [[0.0, \"#0d0887\"], [0.1111111111111111, \"#46039f\"], [0.2222222222222222, \"#7201a8\"], [0.3333333333333333, \"#9c179e\"], [0.4444444444444444, \"#bd3786\"], [0.5555555555555556, \"#d8576b\"], [0.6666666666666666, \"#ed7953\"], [0.7777777777777778, \"#fb9f3a\"], [0.8888888888888888, \"#fdca26\"], [1.0, \"#f0f921\"]], \"type\": \"contour\"}], \"contourcarpet\": [{\"colorbar\": {\"outlinewidth\": 0, \"ticks\": \"\"}, \"type\": \"contourcarpet\"}], \"heatmap\": [{\"colorbar\": {\"outlinewidth\": 0, \"ticks\": \"\"}, \"colorscale\": [[0.0, \"#0d0887\"], [0.1111111111111111, \"#46039f\"], [0.2222222222222222, \"#7201a8\"], [0.3333333333333333, \"#9c179e\"], [0.4444444444444444, \"#bd3786\"], [0.5555555555555556, \"#d8576b\"], [0.6666666666666666, \"#ed7953\"], [0.7777777777777778, \"#fb9f3a\"], [0.8888888888888888, \"#fdca26\"], [1.0, \"#f0f921\"]], \"type\": \"heatmap\"}], \"heatmapgl\": [{\"colorbar\": {\"outlinewidth\": 0, \"ticks\": \"\"}, \"colorscale\": [[0.0, \"#0d0887\"], [0.1111111111111111, \"#46039f\"], [0.2222222222222222, \"#7201a8\"], [0.3333333333333333, \"#9c179e\"], [0.4444444444444444, \"#bd3786\"], [0.5555555555555556, \"#d8576b\"], [0.6666666666666666, \"#ed7953\"], [0.7777777777777778, \"#fb9f3a\"], [0.8888888888888888, \"#fdca26\"], [1.0, \"#f0f921\"]], \"type\": \"heatmapgl\"}], \"histogram\": [{\"marker\": {\"colorbar\": {\"outlinewidth\": 0, \"ticks\": \"\"}}, \"type\": \"histogram\"}], \"histogram2d\": [{\"colorbar\": {\"outlinewidth\": 0, \"ticks\": \"\"}, \"colorscale\": [[0.0, \"#0d0887\"], [0.1111111111111111, \"#46039f\"], [0.2222222222222222, \"#7201a8\"], [0.3333333333333333, \"#9c179e\"], [0.4444444444444444, \"#bd3786\"], [0.5555555555555556, \"#d8576b\"], [0.6666666666666666, \"#ed7953\"], [0.7777777777777778, \"#fb9f3a\"], [0.8888888888888888, \"#fdca26\"], [1.0, \"#f0f921\"]], \"type\": \"histogram2d\"}], \"histogram2dcontour\": [{\"colorbar\": {\"outlinewidth\": 0, \"ticks\": \"\"}, \"colorscale\": [[0.0, \"#0d0887\"], [0.1111111111111111, \"#46039f\"], [0.2222222222222222, \"#7201a8\"], [0.3333333333333333, \"#9c179e\"], [0.4444444444444444, \"#bd3786\"], [0.5555555555555556, \"#d8576b\"], [0.6666666666666666, \"#ed7953\"], [0.7777777777777778, \"#fb9f3a\"], [0.8888888888888888, \"#fdca26\"], [1.0, \"#f0f921\"]], \"type\": \"histogram2dcontour\"}], \"mesh3d\": [{\"colorbar\": {\"outlinewidth\": 0, \"ticks\": \"\"}, \"type\": \"mesh3d\"}], \"parcoords\": [{\"line\": {\"colorbar\": {\"outlinewidth\": 0, \"ticks\": \"\"}}, \"type\": \"parcoords\"}], \"pie\": [{\"automargin\": true, \"type\": \"pie\"}], \"scatter\": [{\"marker\": {\"colorbar\": {\"outlinewidth\": 0, \"ticks\": \"\"}}, \"type\": \"scatter\"}], \"scatter3d\": [{\"line\": {\"colorbar\": {\"outlinewidth\": 0, \"ticks\": \"\"}}, \"marker\": {\"colorbar\": {\"outlinewidth\": 0, \"ticks\": \"\"}}, \"type\": \"scatter3d\"}], \"scattercarpet\": [{\"marker\": {\"colorbar\": {\"outlinewidth\": 0, \"ticks\": \"\"}}, \"type\": \"scattercarpet\"}], \"scattergeo\": [{\"marker\": {\"colorbar\": {\"outlinewidth\": 0, \"ticks\": \"\"}}, \"type\": \"scattergeo\"}], \"scattergl\": [{\"marker\": {\"colorbar\": {\"outlinewidth\": 0, \"ticks\": \"\"}}, \"type\": \"scattergl\"}], \"scattermapbox\": [{\"marker\": {\"colorbar\": {\"outlinewidth\": 0, \"ticks\": \"\"}}, \"type\": \"scattermapbox\"}], \"scatterpolar\": [{\"marker\": {\"colorbar\": {\"outlinewidth\": 0, \"ticks\": \"\"}}, \"type\": \"scatterpolar\"}], \"scatterpolargl\": [{\"marker\": {\"colorbar\": {\"outlinewidth\": 0, \"ticks\": \"\"}}, \"type\": \"scatterpolargl\"}], \"scatterternary\": [{\"marker\": {\"colorbar\": {\"outlinewidth\": 0, \"ticks\": \"\"}}, \"type\": \"scatterternary\"}], \"surface\": [{\"colorbar\": {\"outlinewidth\": 0, \"ticks\": \"\"}, \"colorscale\": [[0.0, \"#0d0887\"], [0.1111111111111111, \"#46039f\"], [0.2222222222222222, \"#7201a8\"], [0.3333333333333333, \"#9c179e\"], [0.4444444444444444, \"#bd3786\"], [0.5555555555555556, \"#d8576b\"], [0.6666666666666666, \"#ed7953\"], [0.7777777777777778, \"#fb9f3a\"], [0.8888888888888888, \"#fdca26\"], [1.0, \"#f0f921\"]], \"type\": \"surface\"}], \"table\": [{\"cells\": {\"fill\": {\"color\": \"#EBF0F8\"}, \"line\": {\"color\": \"white\"}}, \"header\": {\"fill\": {\"color\": \"#C8D4E3\"}, \"line\": {\"color\": \"white\"}}, \"type\": \"table\"}]}, \"layout\": {\"annotationdefaults\": {\"arrowcolor\": \"#2a3f5f\", \"arrowhead\": 0, \"arrowwidth\": 1}, \"autotypenumbers\": \"strict\", \"coloraxis\": {\"colorbar\": {\"outlinewidth\": 0, \"ticks\": \"\"}}, \"colorscale\": {\"diverging\": [[0, \"#8e0152\"], [0.1, \"#c51b7d\"], [0.2, \"#de77ae\"], [0.3, \"#f1b6da\"], [0.4, \"#fde0ef\"], [0.5, \"#f7f7f7\"], [0.6, \"#e6f5d0\"], [0.7, \"#b8e186\"], [0.8, \"#7fbc41\"], [0.9, \"#4d9221\"], [1, \"#276419\"]], \"sequential\": [[0.0, \"#0d0887\"], [0.1111111111111111, \"#46039f\"], [0.2222222222222222, \"#7201a8\"], [0.3333333333333333, \"#9c179e\"], [0.4444444444444444, \"#bd3786\"], [0.5555555555555556, \"#d8576b\"], [0.6666666666666666, \"#ed7953\"], [0.7777777777777778, \"#fb9f3a\"], [0.8888888888888888, \"#fdca26\"], [1.0, \"#f0f921\"]], \"sequentialminus\": [[0.0, \"#0d0887\"], [0.1111111111111111, \"#46039f\"], [0.2222222222222222, \"#7201a8\"], [0.3333333333333333, \"#9c179e\"], [0.4444444444444444, \"#bd3786\"], [0.5555555555555556, \"#d8576b\"], [0.6666666666666666, \"#ed7953\"], [0.7777777777777778, \"#fb9f3a\"], [0.8888888888888888, \"#fdca26\"], [1.0, \"#f0f921\"]]}, \"colorway\": [\"#636efa\", \"#EF553B\", \"#00cc96\", \"#ab63fa\", \"#FFA15A\", \"#19d3f3\", \"#FF6692\", \"#B6E880\", \"#FF97FF\", \"#FECB52\"], \"font\": {\"color\": \"#2a3f5f\"}, \"geo\": {\"bgcolor\": \"white\", \"lakecolor\": \"white\", \"landcolor\": \"#E5ECF6\", \"showlakes\": true, \"showland\": true, \"subunitcolor\": \"white\"}, \"hoverlabel\": {\"align\": \"left\"}, \"hovermode\": \"closest\", \"mapbox\": {\"style\": \"light\"}, \"paper_bgcolor\": \"white\", \"plot_bgcolor\": \"#E5ECF6\", \"polar\": {\"angularaxis\": {\"gridcolor\": \"white\", \"linecolor\": \"white\", \"ticks\": \"\"}, \"bgcolor\": \"#E5ECF6\", \"radialaxis\": {\"gridcolor\": \"white\", \"linecolor\": \"white\", \"ticks\": \"\"}}, \"scene\": {\"xaxis\": {\"backgroundcolor\": \"#E5ECF6\", \"gridcolor\": \"white\", \"gridwidth\": 2, \"linecolor\": \"white\", \"showbackground\": true, \"ticks\": \"\", \"zerolinecolor\": \"white\"}, \"yaxis\": {\"backgroundcolor\": \"#E5ECF6\", \"gridcolor\": \"white\", \"gridwidth\": 2, \"linecolor\": \"white\", \"showbackground\": true, \"ticks\": \"\", \"zerolinecolor\": \"white\"}, \"zaxis\": {\"backgroundcolor\": \"#E5ECF6\", \"gridcolor\": \"white\", \"gridwidth\": 2, \"linecolor\": \"white\", \"showbackground\": true, \"ticks\": \"\", \"zerolinecolor\": \"white\"}}, \"shapedefaults\": {\"line\": {\"color\": \"#2a3f5f\"}}, \"ternary\": {\"aaxis\": {\"gridcolor\": \"white\", \"linecolor\": \"white\", \"ticks\": \"\"}, \"baxis\": {\"gridcolor\": \"white\", \"linecolor\": \"white\", \"ticks\": \"\"}, \"bgcolor\": \"#E5ECF6\", \"caxis\": {\"gridcolor\": \"white\", \"linecolor\": \"white\", \"ticks\": \"\"}}, \"title\": {\"x\": 0.05}, \"xaxis\": {\"automargin\": true, \"gridcolor\": \"white\", \"linecolor\": \"white\", \"ticks\": \"\", \"title\": {\"standoff\": 15}, \"zerolinecolor\": \"white\", \"zerolinewidth\": 2}, \"yaxis\": {\"automargin\": true, \"gridcolor\": \"white\", \"linecolor\": \"white\", \"ticks\": \"\", \"title\": {\"standoff\": 15}, \"zerolinecolor\": \"white\", \"zerolinewidth\": 2}}}, \"xaxis\": {\"anchor\": \"y\", \"domain\": [0.0, 1.0], \"title\": {\"text\": \"INTERVAL_DATETIME\"}}, \"yaxis\": {\"anchor\": \"x\", \"domain\": [0.0, 1.0], \"title\": {\"text\": \"MW\"}}},                        {\"responsive\": true}                    ).then(function(){\n",
       "                            \n",
       "var gd = document.getElementById('77d899b8-b992-4770-bef5-be6b90a3a84b');\n",
       "var x = new MutationObserver(function (mutations, observer) {{\n",
       "        var display = window.getComputedStyle(gd).display;\n",
       "        if (!display || display === 'none') {{\n",
       "            console.log([gd, 'removed!']);\n",
       "            Plotly.purge(gd);\n",
       "            observer.disconnect();\n",
       "        }}\n",
       "}});\n",
       "\n",
       "// Listen for the removal of the full notebook cells\n",
       "var notebookContainer = gd.closest('#notebook-container');\n",
       "if (notebookContainer) {{\n",
       "    x.observe(notebookContainer, {childList: true});\n",
       "}}\n",
       "\n",
       "// Listen for the clearing of the current output cell\n",
       "var outputEl = gd.closest('.output');\n",
       "if (outputEl) {{\n",
       "    x.observe(outputEl, {childList: true});\n",
       "}}\n",
       "\n",
       "                        })                };                });            </script>        </div>"
      ]
     },
     "metadata": {},
     "output_type": "display_data"
    }
   ],
   "source": [
    "# Plot the results.\n",
    "fig = px.area(bids.sort_values('BIDBAND'), x='INTERVAL_DATETIME', \n",
    "              y='BIDVOLUME', color='BIDPRICE')\n",
    "fig.update_layout(yaxis_title=\"MW\")\n",
    "fig.show()"
   ]
  },
  {
   "cell_type": "code",
   "execution_count": null,
   "id": "29b534a2-7cb1-4dbc-9f11-0f896cc34e18",
   "metadata": {},
   "outputs": [],
   "source": []
  }
 ],
 "metadata": {
  "kernelspec": {
   "display_name": "venv",
   "language": "python",
   "name": "venv"
  },
  "language_info": {
   "codemirror_mode": {
    "name": "ipython",
    "version": 3
   },
   "file_extension": ".py",
   "mimetype": "text/x-python",
   "name": "python",
   "nbconvert_exporter": "python",
   "pygments_lexer": "ipython3",
   "version": "3.7.0"
  }
 },
 "nbformat": 4,
 "nbformat_minor": 5
}
