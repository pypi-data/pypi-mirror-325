{
 "cells": [
  {
   "cell_type": "code",
   "execution_count": null,
   "id": "81145184",
   "metadata": {},
   "outputs": [],
   "source": [
    "import os, json, time\n",
    "from gridappsd import GridAPPSD, topics as t\n",
    "from gridappsd.topics import service_input_topic, service_output_topic\n",
    "from distributedtopology import DistributedTopology\n",
    "from topologydictionary import TopologyDictionary\n",
    "from networkmodel import NetworkModel\n",
    "\n",
    "os.environ['GRIDAPPSD_APPLICATION_ID'] = 'gridappsd-topology-processor'\n",
    "os.environ['GRIDAPPSD_APPLICATION_STATUS'] = 'STARTED'\n",
    "os.environ['GRIDAPPSD_USER'] = 'app_user'\n",
    "os.environ['GRIDAPPSD_PASSWORD'] = '1234App'\n",
    "\n",
    "# Connect to GridAPPS-D Platform\n",
    "gapps = GridAPPSD()\n",
    "assert gapps.connected\n",
    "\n"
   ]
  },
  {
   "cell_type": "code",
   "execution_count": null,
   "id": "e969f10f",
   "metadata": {},
   "outputs": [],
   "source": [
    "#model_mrid = \"_EE71F6C9-56F0-4167-A14E-7F4C71F10EAA\"\n",
    "model_mrid = \"_49AD8E07-3BF9-A4E2-CB8F-C3722F837B62\"\n",
    "#model_mrid = \"_5B816B93-7A5F-B64C-8460-47C17D6E4B0F\"  # 13 assets\n",
    "#model_mrid = \"_C1C3E687-6FFD-C753-582B-632A27E28507\"  # 123 bus"
   ]
  },
  {
   "cell_type": "code",
   "execution_count": null,
   "id": "8611d47f",
   "metadata": {},
   "outputs": [],
   "source": [
    "Topology = TopologyDictionary(gapps, model_mrid)\n"
   ]
  },
  {
   "cell_type": "code",
   "execution_count": null,
   "id": "7a02d61b",
   "metadata": {},
   "outputs": [],
   "source": [
    "network = NetworkModel(gapps)\n"
   ]
  },
  {
   "cell_type": "code",
   "execution_count": null,
   "id": "684466f7",
   "metadata": {},
   "outputs": [],
   "source": [
    "network.build_equip_dicts(model_mrid, Topology)"
   ]
  },
  {
   "cell_type": "code",
   "execution_count": null,
   "id": "d27d09f1",
   "metadata": {},
   "outputs": [],
   "source": [
    "EqTypes = ['ACLineSegment', 'PowerTransformer', 'TransformerTank', 'SynchronousMachine', 'PowerElectronicsConnection']\n",
    "Topology.build_linknet(EqTypes)\n"
   ]
  },
  {
   "cell_type": "code",
   "execution_count": null,
   "id": "96939fbf",
   "metadata": {},
   "outputs": [],
   "source": [
    "Topology.update_switches()\n"
   ]
  },
  {
   "cell_type": "code",
   "execution_count": null,
   "id": "b2115feb",
   "metadata": {},
   "outputs": [],
   "source": [
    "Topology.build_feeder_islands()"
   ]
  },
  {
   "cell_type": "raw",
   "id": "090a28dd",
   "metadata": {},
   "source": [
    "Topology.EquipDict['LoadBreakSwitch']['_494810CC-1A00-4EE8-8360-484FA7C19D01']['open'] = 0"
   ]
  },
  {
   "cell_type": "code",
   "execution_count": null,
   "id": "d071d5ab",
   "metadata": {},
   "outputs": [],
   "source": [
    "Topology.ConnNodeDict['_E0D6F386-AFB8-4037-BEC9-96963A9E866C']"
   ]
  },
  {
   "cell_type": "code",
   "execution_count": null,
   "id": "a11d5653",
   "metadata": {},
   "outputs": [],
   "source": [
    "Topology.EquipDict[root_type][root_id]"
   ]
  },
  {
   "cell_type": "code",
   "execution_count": null,
   "id": "d9c4aea9",
   "metadata": {},
   "outputs": [],
   "source": [
    "Topology.EquipDict['SynchronousMachine']"
   ]
  },
  {
   "cell_type": "code",
   "execution_count": null,
   "id": "6eb55414",
   "metadata": {},
   "outputs": [],
   "source": [
    "Topology.ConnNodeDict['_540F5DC1-E4E7-4B89-A600-0345BEF60651']"
   ]
  },
  {
   "cell_type": "code",
   "execution_count": null,
   "id": "2b490549",
   "metadata": {},
   "outputs": [],
   "source": [
    "Topology.TerminalsDict[Topology.TermList[10434]]"
   ]
  },
  {
   "cell_type": "code",
   "execution_count": null,
   "id": "b9ebc2cc",
   "metadata": {},
   "outputs": [],
   "source": [
    "Topology.TerminalsDict[Topology.TermList[3874]]"
   ]
  },
  {
   "cell_type": "code",
   "execution_count": null,
   "id": "0b96e0e7",
   "metadata": {},
   "outputs": [],
   "source": [
    "Topology.ConnNodeDict[Topology.TerminalsDict[Topology.TermList[2767]]['ConnectivityNode']]"
   ]
  },
  {
   "cell_type": "code",
   "execution_count": null,
   "id": "7dc70f02",
   "metadata": {},
   "outputs": [],
   "source": [
    "Topology.EquipDict['PowerElectronicsConnection']['_DAD1B6F0-D1E6-43BF-8E49-485DDA86EE31']"
   ]
  },
  {
   "cell_type": "code",
   "execution_count": null,
   "id": "40a6035b",
   "metadata": {},
   "outputs": [],
   "source": [
    "Topology.TerminalsDict[Topology.TermList[10603]]"
   ]
  },
  {
   "cell_type": "code",
   "execution_count": null,
   "id": "20de1f8f",
   "metadata": {},
   "outputs": [],
   "source": [
    "Topology.Islands"
   ]
  },
  {
   "cell_type": "code",
   "execution_count": null,
   "id": "b69a9e77",
   "metadata": {},
   "outputs": [],
   "source": [
    "for nodes in list(Topology.ConnNodeDict.keys()):\n",
    "    if not Topology.ConnNodeDict[nodes]['Feeder']:\n",
    "        print(Topology.ConnNodeDict[nodes]['name'])"
   ]
  },
  {
   "cell_type": "code",
   "execution_count": null,
   "id": "8891e87c",
   "metadata": {},
   "outputs": [],
   "source": [
    "DistTopo = DistributedTopology(gapps, model_mrid)\n",
    "message = DistTopo.create_switch_areas(model_mrid)"
   ]
  },
  {
   "cell_type": "code",
   "execution_count": null,
   "id": "74353976",
   "metadata": {},
   "outputs": [],
   "source": [
    "message"
   ]
  },
  {
   "cell_type": "code",
   "execution_count": null,
   "id": "405bad5e",
   "metadata": {},
   "outputs": [],
   "source": [
    "Topology.ConnNodeDict[\"_0A98A62D-7642-4F03-8317-A8605CBDBA37\"]"
   ]
  }
 ],
 "metadata": {
  "kernelspec": {
   "display_name": "Python 3 (ipykernel)",
   "language": "python",
   "name": "python3"
  },
  "language_info": {
   "codemirror_mode": {
    "name": "ipython",
    "version": 3
   },
   "file_extension": ".py",
   "mimetype": "text/x-python",
   "name": "python",
   "nbconvert_exporter": "python",
   "pygments_lexer": "ipython3",
   "version": "3.8.5"
  }
 },
 "nbformat": 4,
 "nbformat_minor": 5
}
