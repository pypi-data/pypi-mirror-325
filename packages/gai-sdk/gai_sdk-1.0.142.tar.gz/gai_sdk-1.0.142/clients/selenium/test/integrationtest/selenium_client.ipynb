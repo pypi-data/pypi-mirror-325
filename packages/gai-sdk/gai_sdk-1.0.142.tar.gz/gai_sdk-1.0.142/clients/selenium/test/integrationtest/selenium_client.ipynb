{
 "cells": [
  {
   "cell_type": "markdown",
   "metadata": {},
   "source": [
    "### Search"
   ]
  },
  {
   "cell_type": "code",
   "execution_count": 5,
   "metadata": {},
   "outputs": [
    {
     "name": "stdout",
     "output_type": "stream",
     "text": [
      "Where to Find the Best Chicken Rice in Singapore - https://guide.michelin.com/sg/en/best-of/where-to-find-the-best-chicken-rice-in-singapore\n",
      "Where to Find the Best Chicken Rice in Singapore - The MICHELIN Guide Restaurants Hotels Magazine Favorites Login Register Restaurants Hotels Magazine Best-of Guides Events My Favorites Contact us Subscribe to newsletter Singapore - English\n",
      "                             - SGD Best-of Guides Singapore Where to Find the Best Chicken Rice in Singapore 7 Restaurants On the hunt for the best places to get your Chicken Rice fix in Singapore? Let our MICHELIN Guide inspectors show you where! Updated on\n",
      "                                15 September 2023 There are many dishes that are very much representative of Singapore, and one of the most iconic of them is, of course, chicken rice. Loosely referred to as Singapore's national dish, the ubiquitous Hainanese chicken rice requires a meticulous preparation process. To make this classic chicken rice dish, the chicken is first scalded until cooked through before it is dipped in ice-cold water to keep the meat soft and tender. Served with chicken broth, ginger sauce, black soy sauce, and chilli, the highlight is the rice that has been cooked with the chicken's oils. The end-product may look deceptively simple, but it is very delicious. Singapore's offerings also go beyond the traditional Hainanese chicken rice. There is also kampung -style chicken rice where the poultry used is leaner. Soya sauce chicken rice is also a popular choice, as well as salt-baked chicken. With the diversity presented in a single dish, Singapore's chicken rice definitely draws in curious diners to uncover more of the Lion City's chicken rice culture. Being equally fascinated with Singapore's chicken rice, the MICHELIN Guide inspectors share with us where to get the best ones in Singapore, so read on below! Boon Tong Kee (Balestier Road) 399, 401, 403 Balestier Road, 329801 Singapore $\n",
      "                        ·\n",
      "                    \n",
      "                    Singaporean Popular with locals, Boon Tong Kee (Balestier Road) which opened in the 1980s started out as a small stall and has now expanded to a number of branches. The signature boiled chicken that they serve is made with a treasured recipe. The meat is delicately cooked and tender; and to accompany it is a special chicken sauce and glossy chicken rice — everything comes together perfectly. Paper-wrapped chicken and spring chickens are also available. More Details Ji De Lai Hainanese Chicken Rice Chong Pang Market and Food Centre, #01-152, 105 Yishun Ring Road, 760105 Singapore $\n",
      "                        ·\n",
      "                    \n",
      "                    Street Food Located at Yishun's Chong Pang Market and Food Centre, Ji De Lai Hainanese Chicken Rice' s fare comes in various portions. Set meals are also available and add-ons such as vegetables cooked in oyster sauce, egg, chicken innards, and bean sprouts. More Details Hoe Kee Kitchen Jurong West 505 Market & Food Centre, #01-39, Blk 505, Jurong West Street 52, 640505 Singapore $\n",
      "                        ·\n",
      "                    \n",
      "                    Street Food In addition to serving char siew and roasted pork rice, the Hainanese chicken rice at Hoe Kee Kitchen is also one of the shop's signature specialties. The chicken here is simply steamed with a bit of seasoning, and it is transformed immediately into a mouthwatering meal. The stall is only open from morning till noon and is known to close once the food runs out, so come early! More Details Tian Tian Hainanese Chicken Rice Maxwell Food Centre, #01-10/11, 1 Kadayanallur Street, 069184 Singapore $\n",
      "                        ·\n",
      "                    \n",
      "                    Street Food Located in the Maxwell Food Centre, Tian Tian Hainanese Chicken Rice is a popular Hainanese chicken rice stall has been around since 1987 and is well-known overseas. There is always a long queue, so one can only imagine how enticing the chicken rice here is. The meat is tender and is drizzled with a secret sauce to enhance its umami. Don't forget to enjoy it with the fragrant rice! More Details People's Park Hainanese Chicken Rice People's Park Complex Food Centre, #01-1098, 32 New Market Road, 050032 Singapore $\n",
      "                        ·\n",
      "                    \n",
      "                    Street Food Located next to the Chinatown MRT Station, the People's Park Complex Food Centre along New Market Road offers a plethora of local delights, and the Hainanese chicken rice here at People's Park Hainanese Chicken Rice is not to be missed. Serving both poached and roasted chicken rice, the latter comes with crispy skin and juicy, tender meat. Definitely worth a try. More Details Tiong Bahru Hainanese Boneless Chicken Rice Tiong Bahru Market, #02-82, 30 Seng Poh Road, 168898 Singapore $\n",
      "                        ·\n",
      "                    \n",
      "                    Street Food Located at the Tiong Bahru Market, Tiong Bahru Hainanese Boneless Chicken Rice has been a stalwart chicken rice stall since 1988. The chicken here is on the fattier side, with the skin glistening smooth and the meat cooked tender and juicy. Roasted chicken is an available option. The stall closes once all the chickens are sold out, so it is advised to come early to enjoy it. More Details Xing Yun Hainanese Boneless Chicken Rice Yuhua Market & Hawker Centre, #01-202, Blk 347, Jurong East Avenue 1, Jurong East, 600347 Singapore $\n",
      "                        ·\n",
      "                    \n",
      "                    Street Food A popular stall in Yuhua Market & Hawker Centre in Jurong East, Xing Yun Hainanese Boneless Chicken Rice prides itself in its chickens' soft and succulent texture, with the rice here served with a lot of aromatic flavours. Enjoy it with the ginger sauce and chilli oil for more flavour. Hot chicken soup is served with every order of chicken rice for diners to try. More Details Share Discover more restaurants in Singapore Copyright from top to bottom:\n",
      "                                            \n",
      "                                                Boon Tong Kee (Balestier Road), foodiestellar/Instagram, Michelin, Michelin, Michelin, Michelin, minirexeats/Instagram, jiamtaorotee/Instagram, Michelin, Michelin, Michelin, Michelin, Michelin, Michelin Find our other best-of guides Singapore Singapore's Best Bowls of Prawn Noodles Singapore Here's Where to Get Singapore's Best Bak Kut Teh Singapore Restaurants in Singapore with the Best Views of Marina Bay Singapore A Meat Lover's Guide to Singapore Singapore Singapore's Best Char Kway Teow & Kway Chap Singapore Where to Get the Best Spicy Food in Singapore Singapore The Best Restaurants in Singapore for Special Occasions Singapore Table for One: The Best Places for Solo Dining in Singapore Select check-in date Stay Dates Rates in SGD for 1 night, 1 guest Rates in SGD for 1 night, 1 guest Save MICHELIN Guide Best-of Guides Where to Find the Best Chicken Rice in Singapore Use the app to find the best restaurants and hotels everywhere Be the first to get news and update about the MICHELIN Guide Subscribe When you subscribe, you consent to Michelin collecting and processing your personal data to (i) manage your subscription (ii) and measure the performance of our campaigns and analyze your interactions with our communications. Your data can be shared with other Michelin affiliates (TabletHotel located in the United States of America and Robert Parker located in Singapore) in order to know you better and with your consent send you marketing offers. You can manage your communication preferences at any time or unsubscribe using the link included in all our emails. To exercise your Privacy rights: contact us here . Learn more about how Michelin manages your data here . Follow us MICHELIN Guide selections Abu Dhabi Argentina Austria Belgium Brazil Canada China Mainland Croatia Czech Republic Denmark Dubai España Estonia Finland France Germany Greece Hong Kong SAR Hungary Iceland Italia Japan Latvia Lithuania Luxembourg Macau SAR Malaysia Malta Mexico Netherlands Norway Poland Portugal Qatar Republic of Ireland Serbia Singapore Slovenia South Korea Sweden Switzerland Taiwan Region Thailand Türkiye United Kingdom USA Vietnam Greece Hong Kong SAR Hungary Iceland Italia Japan Latvia Lithuania Luxembourg Macau SAR Malaysia Malta Mexico Netherlands Norway Poland Portugal Qatar Republic of Ireland Serbia Singapore Slovenia South Korea Sweden Switzerland Taiwan Region Thailand Türkiye United Kingdom USA Vietnam MICHELIN Guide About the Guide Restaurants Hotels Partners Contact Us Leave a review The MICHELIN group The MICHELIN Company MICHELIN Tires ViaMichelin Copyright © 2025 MICHELIN Guide. All rights reserved. Terms of Use Cookies Privacy Policy Legal Notice Display settings Customize your experience by easily adjusting display settings for territory, and currency to suit your preferences! Territory: USA France United Kingdom Italia Germany Thailand España Japan Taiwan Netherlands Abu Dhabi Argentina Austria Belgium Brazil Canada China Mainland Croatia Czech Republic Denmark Dubai Estonia Finland Global Greece Hong Kong Hungary Iceland Latvia Lithuania Luxembourg Macau Malaysia Malta Mexico Norway Poland Portugal Qatar Republic of Ireland South Korea Serbia Singapore Slovenia Sweden Switzerland Türkiye USA - California USA - Chicago USA - Colorado USA - Georgia USA - New York USA - Orlando, Miami, Tampa USA - Washington DC Vietnam Singapore Language: English 中文 English Currency: USD - US Dollar EUR - Euro GBP - Pound Sterling CAD - Canadian Dollar CHF - Swiss Franc JPY - Yen AED - UAE Dirham AUD - Australian Dollar BBD - Barbados Dollar BHD - Bahraini Dinar BMD - Bermudian Dollar BRL - Brazilian Real BSD - Bahamian Dollar CLP - Chilean Peso CNY - Yuan Renminbi COP - Colombian Peso DKK - Danish Krone DOP - Dominican Peso FJD - Fiji Dollar HKD - Hong Kong Dollar IDR - Rupiah INR - Indian Rupee ISK - Iceland Krona JMD - Jamaican Dollar KES - Kenyan Shilling KWD - Kuwaiti Dinar LKR - Sri Lanka Rupee MAD - Moroccan Dirham MUR - Mauritius Rupee MXN - Mexican Peso MYR - Malaysian Ringgit NOK - Norwegian Krone NZD - New Zealand Dollar OMR - Rial Omani PGK - Kina PHP - Philippine Peso PKR - Pakistan Rupee QAR - Qatari Rial SAR - Saudi Riyal SCR - Seychelles Rupee SEK - Swedish Krona SGD - Singapore Dollar THB - Baht TND - Tunisian Dinar TRL - Turkish Lira TTD - Trinidad and Tobago Dollar VEB - Bolivar XPF - CFP Franc ZAR - Rand SGD - Singapore Dollar Save Reset View results Sort by: Member privileges The Plus program provides upgrades and amenities at participating hotels. For this hotel, Plus members will receive: Non-members can add the privileges at checkout through our 30 day free trial, cancellable at anytime. OK\n",
      "\n"
     ]
    }
   ],
   "source": [
    "from gai.selenium.client import SeleniumClient\n",
    "\n",
    "selenium_client = SeleniumClient(config={\n",
    "    \"type\": \"scraper\",\n",
    "    \"engine\": \"selenium\",\n",
    "    \"model\": \"selenium\",\n",
    "    \"name\": \"gai-selenium\",\n",
    "    \"client_type\": \"gai\",\n",
    "    \"url\": \"http://localhost:12028/api/v1\"\n",
    "})\n",
    "result = await selenium_client.search(query=\"Best Chicken Rice in Singapore\",n_results=5)\n",
    "for r in result.result:\n",
    "    print(r.title+\" - \"+r.link)\n",
    "    print(r.parsed_text+\"\\n\")"
   ]
  },
  {
   "cell_type": "markdown",
   "metadata": {},
   "source": [
    "---\n",
    "\n",
    "### Scrape"
   ]
  },
  {
   "cell_type": "markdown",
   "metadata": {},
   "source": [
    "without cache"
   ]
  },
  {
   "cell_type": "code",
   "execution_count": 7,
   "metadata": {},
   "outputs": [
    {
     "name": "stdout",
     "output_type": "stream",
     "text": [
      "source:https://www.asiaone.com/world/trump-administration-says-gulf-america-name-change-now-official\n",
      "title:https://www.asiaone.com/world/trump-administration-says-gulf-america-name-change-now-official\n",
      "summary:The Trump administration's Interior Department said on Friday (Jan 24) it had officially changed the name of the Gulf of Mexico to the Gulf of America, and the Alaskan peak Denali to Mount McKinley.\n",
      "US President Donald Trump ordered the name changes as part of a flurry of executive actions hours after taking office on Monday, making good on a campaign promise.\n",
      "\"As directed by the President, the Gulf of Mexico will now officially be known as the Gulf of America and North America's highest peak will once again bear the name Mount McKinley,\" the Interior Department said in a statement.\n",
      "While Trump can direct the US Geological Survey to change how it denotes the Gulf of Mexico, such a name change would be unlikely to be recognised internationally.\n",
      "Mexican President Claudia Sheinbaum earlier this month jokingly suggested North America, including the United States, be renamed \"Mexican America\" — an historic name used on an early map of the region.\n",
      "keywords:president,states,mckinley,department,change,administration,mexico,trump,peak,official,america,gulf,mount\n",
      "categories:\n",
      "text:Trump administration says 'Gulf of America' name change now official, World News - AsiaOne ··· Latest ··· News ··· Entertainment ··· Lifestyle ··· Video ··· Digicult ··· EarthOne ··· More ··· world Tr...\n"
     ]
    }
   ],
   "source": [
    "from gai.selenium.client import SeleniumClient\n",
    "\n",
    "def display_parsed(result):\n",
    "    print(\"source:\"+result.source)\n",
    "    print(\"title:\"+result.title)\n",
    "    print(\"summary:\"+result.summary)\n",
    "    print(\"keywords:\"+\",\".join(result.keywords))\n",
    "    print(\"categories:\"+\",\".join(result.categories))\n",
    "    print(\"text:\"+result.text[:200]+\"...\")\n",
    "\n",
    "selenium_client = SeleniumClient()\n",
    "result = await selenium_client.scrape(root_url=\"https://www.asiaone.com/world/trump-administration-says-gulf-america-name-change-now-official\",force=True)\n",
    "display_parsed(result)"
   ]
  },
  {
   "cell_type": "markdown",
   "metadata": {},
   "source": [
    "with cache"
   ]
  },
  {
   "cell_type": "code",
   "execution_count": 8,
   "metadata": {},
   "outputs": [
    {
     "name": "stdout",
     "output_type": "stream",
     "text": [
      "source:https://www.asiaone.com/world/trump-administration-says-gulf-america-name-change-now-official\n",
      "title:https://www.asiaone.com/world/trump-administration-says-gulf-america-name-change-now-official\n",
      "summary:The Trump administration's Interior Department said on Friday (Jan 24) it had officially changed the name of the Gulf of Mexico to the Gulf of America, and the Alaskan peak Denali to Mount McKinley.\n",
      "US President Donald Trump ordered the name changes as part of a flurry of executive actions hours after taking office on Monday, making good on a campaign promise.\n",
      "\"As directed by the President, the Gulf of Mexico will now officially be known as the Gulf of America and North America's highest peak will once again bear the name Mount McKinley,\" the Interior Department said in a statement.\n",
      "While Trump can direct the US Geological Survey to change how it denotes the Gulf of Mexico, such a name change would be unlikely to be recognised internationally.\n",
      "Mexican President Claudia Sheinbaum earlier this month jokingly suggested North America, including the United States, be renamed \"Mexican America\" — an historic name used on an early map of the region.\n",
      "keywords:president,states,mckinley,department,change,administration,mexico,trump,peak,official,america,gulf,mount\n",
      "categories:\n",
      "text:Trump administration says 'Gulf of America' name change now official, World News - AsiaOne ··· Latest ··· News ··· Entertainment ··· Lifestyle ··· Video ··· Digicult ··· EarthOne ··· More ··· world Tr...\n"
     ]
    }
   ],
   "source": [
    "from gai.selenium.client import SeleniumClient\n",
    "\n",
    "selenium_client = SeleniumClient()\n",
    "result = await selenium_client.scrape(root_url=\"https://www.asiaone.com/world/trump-administration-says-gulf-america-name-change-now-official\")\n",
    "display_parsed(result)"
   ]
  },
  {
   "cell_type": "markdown",
   "metadata": {},
   "source": [
    "---\n",
    "\n",
    "### Run Crawl Job"
   ]
  },
  {
   "cell_type": "markdown",
   "metadata": {},
   "source": [
    "without cache"
   ]
  },
  {
   "cell_type": "code",
   "execution_count": 9,
   "metadata": {},
   "outputs": [
    {
     "name": "stdout",
     "output_type": "stream",
     "text": [
      "job_id='acc40af3-5dc7-4cb1-bfcf-419a64091837' root_url='https://www.asiaone.com/world/trump-administration-says-gulf-america-name-change-now-official' max_depth=0 max_count=1 include_external=False status='started' result={}\n"
     ]
    }
   ],
   "source": [
    "from gai.selenium.client import SeleniumClient\n",
    "\n",
    "selenium_client = SeleniumClient()\n",
    "result = await selenium_client.crawl(\n",
    "    root_url=\"https://www.asiaone.com/world/trump-administration-says-gulf-america-name-change-now-official\",\n",
    "    max_depth=0, \n",
    "    max_count=1,\n",
    "    force=True,\n",
    "    parser_type=\"hybrid\")\n",
    "print(result)"
   ]
  },
  {
   "cell_type": "markdown",
   "metadata": {},
   "source": [
    "### Check Crawl Job"
   ]
  },
  {
   "cell_type": "code",
   "execution_count": 10,
   "metadata": {},
   "outputs": [
    {
     "name": "stdout",
     "output_type": "stream",
     "text": [
      "analyzing\n",
      "0%\n",
      "analyzing(0%)\n",
      "analyzing(0%)\n",
      "analyzing(0%)\n",
      "analyzing(0%)\n",
      "analyzing(0%)\n",
      "analyzing(0%)\n",
      "completed(100%)\n"
     ]
    }
   ],
   "source": [
    "from gai.selenium.client import SeleniumClient\n",
    "import time\n",
    "\n",
    "selenium_client = SeleniumClient()\n",
    "job = await selenium_client.get_crawl_job(job_id=result.job_id)\n",
    "print(job.status)\n",
    "print(job.result[\"progress\"])\n",
    "\n",
    "while job.status != \"completed\":\n",
    "    time.sleep(60)\n",
    "    job = await selenium_client.get_crawl_job(job_id=result.job_id)\n",
    "    progress = job.result[\"progress\"]\n",
    "    print(f\"{job.status}({progress})\")"
   ]
  },
  {
   "cell_type": "markdown",
   "metadata": {},
   "source": [
    "### Check Crawled HTML"
   ]
  },
  {
   "cell_type": "code",
   "execution_count": 11,
   "metadata": {},
   "outputs": [
    {
     "name": "stdout",
     "output_type": "stream",
     "text": [
      "<html lang=\"en\" style=\"overflow-y: auto;\"><head><script type=\"text/javascript\" async=\"\" src=\"https://sb.scorecardresearch.com/c2/6288331/cs.js\"></script><script async=\"\" src=\"https://www.clarity.ms/s/...\n"
     ]
    }
   ],
   "source": [
    "from gai.selenium.client import SeleniumClient\n",
    "\n",
    "selenium_client = SeleniumClient()\n",
    "result = await selenium_client.get_html_text(root_url=\"https://www.asiaone.com/world/trump-administration-says-gulf-america-name-change-now-official\")\n",
    "print(result[\"html\"][:200]+\"...\")"
   ]
  },
  {
   "cell_type": "markdown",
   "metadata": {},
   "source": [
    "### Check Parsed Response"
   ]
  },
  {
   "cell_type": "code",
   "execution_count": 12,
   "metadata": {},
   "outputs": [
    {
     "name": "stdout",
     "output_type": "stream",
     "text": [
      "source:https://www.asiaone.com/world/trump-administration-says-gulf-america-name-change-now-official\n",
      "title:The US President's Inauguration Ball: A Look Back\n",
      "summary:The Trump administration's Interior Department said on Friday (Jan 24) it had officially changed the name of the Gulf of Mexico to the Gulf of America, and the Alaskan peak Denali to Mount McKinley.\n",
      "US President Donald Trump ordered the name changes as part of a flurry of executive actions hours after taking office on Monday, making good on a campaign promise.\n",
      "\"As directed by the President, the Gulf of Mexico will now officially be known as the Gulf of America and North America's highest peak will once again bear the name Mount McKinley,\" the Interior Department said in a statement.\n",
      "While Trump can direct the US Geological Survey to change how it denotes the Gulf of Mexico, such a name change would be unlikely to be recognised internationally.\n",
      "Mexican President Claudia Sheinbaum earlier this month jokingly suggested North America, including the United States, be renamed \"Mexican America\" — an historic name used on an early map of the region.\n",
      "keywords:Snoop Dogg, Donald Trump, Inauguration Ball\n",
      "categories:Entertainment\n",
      "text:Trump administration says 'Gulf of America' name change now official, World News - AsiaOne ··· Latest ··· News ··· Entertainment ··· Lifestyle ··· Video ··· Digicult ··· EarthOne ··· More ··· world Tr...\n"
     ]
    }
   ],
   "source": [
    "from gai.selenium.client import SeleniumClient\n",
    "\n",
    "selenium_client = SeleniumClient()\n",
    "result = await selenium_client.get_parsed_text(root_url=\"https://www.asiaone.com/world/trump-administration-says-gulf-america-name-change-now-official\")\n",
    "display_parsed(result)\n"
   ]
  },
  {
   "cell_type": "markdown",
   "metadata": {},
   "source": [
    "---\n",
    "\n",
    "with cache"
   ]
  },
  {
   "cell_type": "code",
   "execution_count": 13,
   "metadata": {},
   "outputs": [
    {
     "name": "stdout",
     "output_type": "stream",
     "text": [
      "job_id='1d1afc71-e512-4518-8379-8c2b7622b0c9' root_url='https://www.asiaone.com/world/trump-administration-says-gulf-america-name-change-now-official' max_depth=0 max_count=1 include_external=False status='started' result={}\n",
      "completed\n",
      "source:https://www.asiaone.com/world/trump-administration-says-gulf-america-name-change-now-official\n",
      "title:The US President's Inauguration Ball: A Look Back\n",
      "summary:The Trump administration's Interior Department said on Friday (Jan 24) it had officially changed the name of the Gulf of Mexico to the Gulf of America, and the Alaskan peak Denali to Mount McKinley.\n",
      "US President Donald Trump ordered the name changes as part of a flurry of executive actions hours after taking office on Monday, making good on a campaign promise.\n",
      "\"As directed by the President, the Gulf of Mexico will now officially be known as the Gulf of America and North America's highest peak will once again bear the name Mount McKinley,\" the Interior Department said in a statement.\n",
      "While Trump can direct the US Geological Survey to change how it denotes the Gulf of Mexico, such a name change would be unlikely to be recognised internationally.\n",
      "Mexican President Claudia Sheinbaum earlier this month jokingly suggested North America, including the United States, be renamed \"Mexican America\" — an historic name used on an early map of the region.\n",
      "keywords:Snoop Dogg, Donald Trump, Inauguration Ball\n",
      "categories:Entertainment\n",
      "text:Trump administration says 'Gulf of America' name change now official, World News - AsiaOne ··· Latest ··· News ··· Entertainment ··· Lifestyle ··· Video ··· Digicult ··· EarthOne ··· More ··· world Tr...\n"
     ]
    }
   ],
   "source": [
    "from gai.selenium.client import SeleniumClient\n",
    "import time\n",
    "\n",
    "selenium_client = SeleniumClient()\n",
    "result = await selenium_client.crawl(\n",
    "    root_url=\"https://www.asiaone.com/world/trump-administration-says-gulf-america-name-change-now-official\",\n",
    "    max_depth=0, \n",
    "    max_count=1,\n",
    "    parser_type=\"hybrid\")\n",
    "print(result)\n",
    "while result.status != \"completed\":\n",
    "    result = await selenium_client.get_crawl_job(job_id=result.job_id)\n",
    "    print(result.status)\n",
    "    time.sleep(1)\n",
    "result = await selenium_client.get_parsed_text(root_url=\"https://www.asiaone.com/world/trump-administration-says-gulf-america-name-change-now-official\")\n",
    "\n",
    "def display_parsed(result):\n",
    "    print(\"source:\"+result.source)\n",
    "    print(\"title:\"+result.title)\n",
    "    print(\"summary:\"+result.summary)\n",
    "    print(\"keywords:\"+\",\".join(result.keywords))\n",
    "    print(\"categories:\"+\",\".join(result.categories))\n",
    "    print(\"text:\"+result.text[:200]+\"...\")\n",
    "\n",
    "display_parsed(result)"
   ]
  }
 ],
 "metadata": {
  "kernelspec": {
   "display_name": ".venv",
   "language": "python",
   "name": "python3"
  },
  "language_info": {
   "codemirror_mode": {
    "name": "ipython",
    "version": 3
   },
   "file_extension": ".py",
   "mimetype": "text/x-python",
   "name": "python",
   "nbconvert_exporter": "python",
   "pygments_lexer": "ipython3",
   "version": "3.10.12"
  }
 },
 "nbformat": 4,
 "nbformat_minor": 2
}
