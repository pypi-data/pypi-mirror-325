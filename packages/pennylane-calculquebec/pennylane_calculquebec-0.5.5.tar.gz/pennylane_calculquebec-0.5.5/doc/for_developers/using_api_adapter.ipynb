{
 "cells": [
  {
   "cell_type": "markdown",
   "metadata": {},
   "source": [
    "## ApiAdapter\n",
    "\n",
    "ApiAdapter has a couple of helpful utility functions for getting information out of Thunderhead programmatically. \n",
    "\n",
    "Here's how one would use ApiAdapter directly"
   ]
  },
  {
   "cell_type": "markdown",
   "metadata": {},
   "source": [
    "Imports"
   ]
  },
  {
   "cell_type": "code",
   "execution_count": 5,
   "metadata": {},
   "outputs": [],
   "source": [
    "from pennylane_calculquebec.API.adapter import ApiAdapter\n",
    "from pennylane_calculquebec.API.client import MonarqClient"
   ]
  },
  {
   "cell_type": "markdown",
   "metadata": {},
   "source": [
    "Initialize ApiAdapter with a client object, containing your informations\n",
    "\n",
    "host, user and access_token must be configured with your own informations"
   ]
  },
  {
   "cell_type": "code",
   "execution_count": 2,
   "metadata": {},
   "outputs": [],
   "source": [
    "# change values in the parentheses for your credentials\n",
    "my_client = MonarqClient(\"your host\", \"your user\", \"your access token\", \"your project\")\n",
    "\n",
    "# this is typically done behind the scene in the monarq.default device. \n",
    "# Since we're not using the device here, we need to do it explicitely\n",
    "ApiAdapter.initialize(my_client)"
   ]
  },
  {
   "cell_type": "markdown",
   "metadata": {},
   "source": [
    "An example of useful method is ```get_qubits_and_couplers```, which returns latest benchmarks for qubits and couplers"
   ]
  },
  {
   "cell_type": "code",
   "execution_count": 4,
   "metadata": {},
   "outputs": [
    {
     "name": "stdout",
     "output_type": "stream",
     "text": [
      "{'0': {'readoutState0Fidelity': 0.979, 'readoutState1Fidelity': 0.906, 'singleQubitGateFidelity': 0.9977433977713744, 't1': 8.830400000000006e-06, 't2Echo': 5.205614618548137e-06, 't2Ramsey': 1.882812508909129e-06}, '1': {'readoutState0Fidelity': 0.94, 'readoutState1Fidelity': 0.922, 'singleQubitGateFidelity': 0.9984912579140293, 't1': 1.0289645663289292e-05, 't2Echo': 3.409367080463737e-06, 't2Ramsey': 1.4553323031534182e-06}, '10': {'readoutState0Fidelity': 0.972, 'readoutState1Fidelity': 0.9, 'singleQubitGateFidelity': 0.997125592562792, 't1': 1.0208792689179017e-05, 't2Echo': 2.6758960828637018e-06, 't2Ramsey': 9.165289123310411e-07}, '11': {'readoutState0Fidelity': 0, 'readoutState1Fidelity': 0, 'singleQubitGateFidelity': 0, 't1': 0, 't2Echo': 0, 't2Ramsey': 0}, '12': {'readoutState0Fidelity': 0.947, 'readoutState1Fidelity': 0.747, 'singleQubitGateFidelity': 0.9986027867579164, 't1': 7.932343011780466e-06, 't2Echo': 4.318855521479918e-06, 't2Ramsey': 1.1335636934049613e-06}, '13': {'readoutState0Fidelity': 0.945, 'readoutState1Fidelity': 0.799, 'singleQubitGateFidelity': 0.9983035332000202, 't1': 1.0675639903774602e-05, 't2Echo': 4.014285365826254e-06, 't2Ramsey': 8.570606980560558e-07}, '14': {'readoutState0Fidelity': 0.963, 'readoutState1Fidelity': 0.77, 'singleQubitGateFidelity': 0.9985670806460676, 't1': 1.0353441802605326e-05, 't2Echo': 5.317118439603119e-06, 't2Ramsey': 1.5265669929204049e-06}, '15': {'readoutState0Fidelity': 0, 'readoutState1Fidelity': 0, 'singleQubitGateFidelity': 0, 't1': 0, 't2Echo': 0, 't2Ramsey': 0}, '16': {'readoutState0Fidelity': 0.927, 'readoutState1Fidelity': 0.787, 'singleQubitGateFidelity': 0.997630506590207, 't1': 8.536411902676097e-06, 't2Echo': 5.078312431947735e-07, 't2Ramsey': 1.79071891679051e-06}, '17': {'readoutState0Fidelity': 0, 'readoutState1Fidelity': 0, 'singleQubitGateFidelity': 0, 't1': 0, 't2Echo': 0, 't2Ramsey': 0}, '18': {'readoutState0Fidelity': 0, 'readoutState1Fidelity': 0, 'singleQubitGateFidelity': 0, 't1': 0, 't2Echo': 0, 't2Ramsey': 0}, '19': {'readoutState0Fidelity': 0, 'readoutState1Fidelity': 0, 'singleQubitGateFidelity': 0, 't1': 0, 't2Echo': 0, 't2Ramsey': 0}, '2': {'readoutState0Fidelity': 0.981, 'readoutState1Fidelity': 0.894, 'singleQubitGateFidelity': 0.9977343337955233, 't1': 6.741879913618841e-06, 't2Echo': 2.446845666248178e-06, 't2Ramsey': 1.1220530815180066e-06}, '20': {'readoutState0Fidelity': 0, 'readoutState1Fidelity': 0, 'singleQubitGateFidelity': 0, 't1': 0, 't2Echo': 0, 't2Ramsey': 0}, '21': {'readoutState0Fidelity': 0, 'readoutState1Fidelity': 0, 'singleQubitGateFidelity': 0, 't1': 0, 't2Echo': 0, 't2Ramsey': 0}, '22': {'readoutState0Fidelity': 0, 'readoutState1Fidelity': 0, 'singleQubitGateFidelity': 0, 't1': 0, 't2Echo': 0, 't2Ramsey': 0}, '23': {'readoutState0Fidelity': 0, 'readoutState1Fidelity': 0, 'singleQubitGateFidelity': 0, 't1': 0, 't2Echo': 0, 't2Ramsey': 0}, '3': {'readoutState0Fidelity': 0, 'readoutState1Fidelity': 0, 'singleQubitGateFidelity': 0, 't1': 0, 't2Echo': 0, 't2Ramsey': 0}, '4': {'readoutState0Fidelity': 0.976, 'readoutState1Fidelity': 0.861, 'singleQubitGateFidelity': 0.9986328407367754, 't1': 1.0385287381657637e-05, 't2Echo': 1.2448994227482198e-05, 't2Ramsey': 3.4820780872156867e-06}, '5': {'readoutState0Fidelity': 0.957, 'readoutState1Fidelity': 0.764, 'singleQubitGateFidelity': 0.9968195003639814, 't1': 7.2571559435525455e-06, 't2Echo': 3.2915005626689446e-06, 't2Ramsey': 8.842188753619543e-07}, '6': {'readoutState0Fidelity': 0.96, 'readoutState1Fidelity': 0.847, 'singleQubitGateFidelity': 0.9978990125161881, 't1': 9.043168983097688e-06, 't2Echo': 3.473647967375516e-06, 't2Ramsey': 8.866367604005491e-07}, '7': {'readoutState0Fidelity': 0, 'readoutState1Fidelity': 0, 'singleQubitGateFidelity': 0, 't1': 0, 't2Echo': 0, 't2Ramsey': 0}, '8': {'readoutState0Fidelity': 0.982, 'readoutState1Fidelity': 0.901, 'singleQubitGateFidelity': 0.9965954681018494, 't1': 7.59105934773134e-06, 't2Echo': 3.913557574682079e-06, 't2Ramsey': 1.6298263860144835e-06}, '9': {'readoutState0Fidelity': 0.972, 'readoutState1Fidelity': 0.853, 'singleQubitGateFidelity': 0.9955389744260127, 't1': 1.2168355976774058e-05, 't2Echo': 4.311081266567357e-06, 't2Ramsey': 1.7822262822977233e-06}}\n",
      "{'0': {'czGateFidelity': 0.9796714999553546}, '1': {'czGateFidelity': 0.9776143759174871}, '10': {'czGateFidelity': 0}, '11': {'czGateFidelity': 0.9622816478502767}, '12': {'czGateFidelity': 0}, '13': {'czGateFidelity': 0}, '14': {'czGateFidelity': 0.9775020153215083}, '15': {'czGateFidelity': 0.9758706552194334}, '16': {'czGateFidelity': 0.9708896279863461}, '17': {'czGateFidelity': 0.948939398756107}, '18': {'czGateFidelity': 0.9643146701832452}, '19': {'czGateFidelity': 0}, '2': {'czGateFidelity': 0.9661746336047137}, '20': {'czGateFidelity': 0}, '21': {'czGateFidelity': 0.9805307084877747}, '22': {'czGateFidelity': 0}, '23': {'czGateFidelity': 0}, '24': {'czGateFidelity': 0}, '25': {'czGateFidelity': 0}, '26': {'czGateFidelity': 0}, '27': {'czGateFidelity': 0}, '28': {'czGateFidelity': 0}, '29': {'czGateFidelity': 0}, '3': {'czGateFidelity': 0.9536002497122048}, '30': {'czGateFidelity': 0}, '31': {'czGateFidelity': 0}, '32': {'czGateFidelity': 0}, '33': {'czGateFidelity': 0}, '34': {'czGateFidelity': 0}, '4': {'czGateFidelity': 0.9634306218834638}, '5': {'czGateFidelity': 0}, '6': {'czGateFidelity': 0}, '7': {'czGateFidelity': 0.9607635631614275}, '8': {'czGateFidelity': 0.9749923866437409}, '9': {'czGateFidelity': 0.9354044218366531}}\n"
     ]
    },
    {
     "data": {
      "text/plain": [
       "'2024-12-18T13:30:54.649Z'"
      ]
     },
     "execution_count": 4,
     "metadata": {},
     "output_type": "execute_result"
    }
   ],
   "source": [
    "# get benchmark information for qubits and couplers\n",
    "benchmark = ApiAdapter.get_qubits_and_couplers()\n",
    "print(benchmark[\"qubits\"])\n",
    "print(benchmark[\"couplers\"])\n",
    "\n",
    "# get the date of the last benchmark\n",
    "complete_benchmark = ApiAdapter.get_benchmark()\n",
    "complete_benchmark[\"timeStamp\"]"
   ]
  },
  {
   "cell_type": "markdown",
   "metadata": {},
   "source": [
    "Please note that ApiAdapter is a development class, and should typically not be needed unless you have very specific applications"
   ]
  }
 ],
 "metadata": {
  "kernelspec": {
   "display_name": "Python 3",
   "language": "python",
   "name": "python3"
  },
  "language_info": {
   "codemirror_mode": {
    "name": "ipython",
    "version": 3
   },
   "file_extension": ".py",
   "mimetype": "text/x-python",
   "name": "python",
   "nbconvert_exporter": "python",
   "pygments_lexer": "ipython3",
   "version": "3.10.11"
  }
 },
 "nbformat": 4,
 "nbformat_minor": 2
}
