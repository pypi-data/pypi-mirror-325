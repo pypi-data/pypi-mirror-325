{
 "cells": [
  {
   "cell_type": "markdown",
   "metadata": {},
   "source": [
    "## Example 2D stitching workflow\n",
    "\n",
    "This notebook uses the 2D example dataset provided by BigStitcher: https://imagej.net/plugins/bigstitcher/#example-datasets\n",
    "\n",
    "Notes:\n",
    "- install napari-stitcher for visualization functionality"
   ]
  },
  {
   "cell_type": "code",
   "execution_count": null,
   "metadata": {},
   "outputs": [],
   "source": [
    "import os\n",
    "import numpy as np\n",
    "from pathlib import Path\n",
    "from tqdm import tqdm\n",
    "import dask.diagnostics, tempfile\n",
    "\n",
    "from multiview_stitcher import msi_utils, spatial_image_utils\n",
    "\n",
    "%matplotlib notebook\n",
    "\n",
    "# the package napari-stitcher is required for visualization with napari\n",
    "VISUALIZE_USING_NAPARI = False\n",
    "\n",
    "if VISUALIZE_USING_NAPARI:\n",
    "    import napari\n",
    "    from napari_stitcher import viewer_utils"
   ]
  },
  {
   "cell_type": "code",
   "execution_count": null,
   "metadata": {},
   "outputs": [],
   "source": [
    "# Start a dask cluster\n",
    "\n",
    "from distributed import Client, LocalCluster\n",
    "\n",
    "lc = LocalCluster(n_workers=1, threads_per_worker=None)\n",
    "client = Client(lc)\n",
    "client"
   ]
  },
  {
   "cell_type": "markdown",
   "metadata": {},
   "source": [
    "## Download and specify input data"
   ]
  },
  {
   "cell_type": "code",
   "execution_count": null,
   "metadata": {},
   "outputs": [],
   "source": [
    "url = \"https://preibischlab.mdc-berlin.de/BigStitcher/Grid_2d.zip\"\n",
    "\n",
    "base_dir = './%s' %os.path.basename(url)[:-4]\n",
    "os.makedirs(base_dir, exist_ok=True)\n",
    "\n",
    "zip_filepath = os.path.join(base_dir, os.path.basename(url))\n",
    "\n",
    "# download\n",
    "if not os.path.exists(zip_filepath):\n",
    "    from urllib.request import urlretrieve\n",
    "    urlretrieve(url, zip_filepath)\n",
    "\n",
    "# unzip\n",
    "import zipfile\n",
    "with zipfile.ZipFile(os.path.join(base_dir, os.path.basename(url)), 'r') as zip_ref:\n",
    "    zip_ref.extractall(base_dir)"
   ]
  },
  {
   "cell_type": "code",
   "execution_count": null,
   "metadata": {},
   "outputs": [],
   "source": [
    "filenames = [(os.path.join(base_dir, f)) for f in sorted(os.listdir(base_dir))\n",
    "             if f.startswith('MAX') and f.endswith('.tif')]\n",
    "\n",
    "filenames = [Path(fn) for fn in sorted(filenames)]\n",
    "\n",
    "print('Files:')\n",
    "print('\\n'.join([fn.name for fn in filenames]))\n"
   ]
  },
  {
   "cell_type": "markdown",
   "metadata": {},
   "source": [
    "## Convert input data to OME-Zarr"
   ]
  },
  {
   "cell_type": "code",
   "execution_count": null,
   "metadata": {},
   "outputs": [],
   "source": [
    "from multiview_stitcher import io\n",
    "\n",
    "overwrite = True\n",
    "\n",
    "msims = []\n",
    "for filename in tqdm(filenames):\n",
    "    store_path = filename.with_suffix('.zarr')\n",
    "    if not os.path.exists(store_path) or overwrite:\n",
    "        sim = io.read_tiff_into_spatial_xarray(\n",
    "                        filename,\n",
    "                        scale={'y': 1, 'x': 1},\n",
    "                        )\n",
    "        msim = msi_utils.get_msim_from_sim(sim, scale_factors=None) # choose scale factors automatically\n",
    "        msim.to_zarr(store_path)\n",
    "    msim = msi_utils.multiscale_spatial_image_from_zarr(Path(store_path))\n",
    "    msims.append(msim)"
   ]
  },
  {
   "cell_type": "markdown",
   "metadata": {},
   "source": [
    "## Set estimate of initial transformations"
   ]
  },
  {
   "cell_type": "code",
   "execution_count": null,
   "metadata": {},
   "outputs": [],
   "source": [
    "from multiview_stitcher import param_utils\n",
    "\n",
    "overlap = 0.1\n",
    "# use prior knowledge and arrange images on a 2*3 grid\n",
    "for tile_index, msim in enumerate(msims):\n",
    "\n",
    "    x_index = tile_index % 2\n",
    "    y_index = tile_index // 2\n",
    "\n",
    "    tile_extent = spatial_image_utils.get_center_of_sim(msi_utils.get_sim_from_msim(msim)) * 2\n",
    "    y_extent, x_extent = tile_extent\n",
    "    \n",
    "    affine = param_utils.affine_from_translation(\n",
    "        [y_index * (1 - overlap) * y_extent, x_index * (1 - overlap) * x_extent])\n",
    "\n",
    "    msi_utils.set_affine_transform(\n",
    "        msim,\n",
    "        affine[None], # one tp\n",
    "        transform_key='affine_manual',\n",
    "    )\n"
   ]
  },
  {
   "cell_type": "markdown",
   "metadata": {},
   "source": [
    "### Visualize pre-registered views"
   ]
  },
  {
   "cell_type": "code",
   "execution_count": null,
   "metadata": {},
   "outputs": [],
   "source": [
    "if VISUALIZE_USING_NAPARI:\n",
    "\n",
    "    ch_coord = 0 # None if all should be shown\n",
    "\n",
    "    viewer = napari.Viewer(ndisplay=msi_utils.get_ndim(msims[0]))\n",
    "    lds = viewer_utils.create_image_layer_tuples_from_msims(\n",
    "        msims, ch_coord=ch_coord, transform_key='affine_manual', n_colors=2, contrast_limits=[0, 500])\n",
    "    viewer_utils.add_image_layer_tuples_to_viewer(viewer, lds)\n",
    "    viewer.reset_view()"
   ]
  },
  {
   "cell_type": "markdown",
   "metadata": {},
   "source": [
    "### Register views"
   ]
  },
  {
   "cell_type": "code",
   "execution_count": null,
   "metadata": {},
   "outputs": [],
   "source": [
    "# import skimage.registration\n",
    "from multiview_stitcher import registration\n",
    "\n",
    "with dask.diagnostics.ProgressBar():\n",
    "\n",
    "    params = registration.register(\n",
    "        # [msi_utils.get_sim_from_msim(msim) for msim in msims],\n",
    "        msims,\n",
    "        # registration_binning={'z': 2, 'y': 8, 'x': 8},\n",
    "        reg_channel_index=0,\n",
    "        transform_key='affine_manual',\n",
    "    )\n",
    "\n",
    "for msim, param in zip(msims, params):\n",
    "    msi_utils.set_affine_transform(msim, param, transform_key='affine_registered', base_transform_key='affine_manual')"
   ]
  },
  {
   "cell_type": "markdown",
   "metadata": {},
   "source": [
    "### Visualize registration"
   ]
  },
  {
   "cell_type": "code",
   "execution_count": null,
   "metadata": {},
   "outputs": [],
   "source": [
    "if VISUALIZE_USING_NAPARI:\n",
    "    \n",
    "    viewer = napari.Viewer(ndisplay=msi_utils.get_ndim(msims[0]))\n",
    "\n",
    "    ch_coord = 0 # None if all should be shown\n",
    "\n",
    "    lds = viewer_utils.create_image_layer_tuples_from_msims(\n",
    "        msims, ch_coord=ch_coord, transform_key='affine_registered', n_colors=2,\n",
    "        name_prefix='registered view',\n",
    "        contrast_limits=[0, 500],\n",
    "        )\n",
    "    rlayers = viewer_utils.add_image_layer_tuples_to_viewer(viewer, lds, do_link_layers=True)"
   ]
  },
  {
   "cell_type": "markdown",
   "metadata": {},
   "source": [
    "### Fuse views (linear blending)"
   ]
  },
  {
   "cell_type": "code",
   "execution_count": null,
   "metadata": {},
   "outputs": [],
   "source": [
    "from multiview_stitcher import fusion\n",
    "import dask.array as da\n",
    "\n",
    "sims = [msi_utils.get_sim_from_msim(msim) for msim in msims]\n",
    "\n",
    "tmpdir = tempfile.TemporaryDirectory()\n",
    "\n",
    "import importlib\n",
    "fusion = importlib.reload(fusion)\n",
    "\n",
    "fused = fusion.fuse(\n",
    "    sims[:],\n",
    "    transform_key='affine_registered',\n",
    "    output_chunksize=256,\n",
    "    )\n",
    "\n",
    "print('Fusing views...')\n",
    "with dask.diagnostics.ProgressBar():\n",
    "\n",
    "    fused.data = da.to_zarr(\n",
    "        fused.data,\n",
    "        os.path.join(tmpdir.name, 'fused_sim.zarr'),\n",
    "        overwrite=True, return_stored=True, compute=True)\n",
    "\n",
    "print('Creating multiscale output OME-Zarr...')\n",
    "with dask.diagnostics.ProgressBar():\n",
    "\n",
    "    mfused = msi_utils.get_msim_from_sim(fused, scale_factors=None)\n",
    "\n",
    "    fused_path = os.path.join(tmpdir.name, 'fused.zarr')\n",
    "    mfused.to_zarr(fused_path)\n",
    "\n",
    "mfused = msi_utils.multiscale_spatial_image_from_zarr(fused_path)"
   ]
  },
  {
   "cell_type": "markdown",
   "metadata": {},
   "source": [
    "### Visualize fusion in napari"
   ]
  },
  {
   "cell_type": "code",
   "execution_count": null,
   "metadata": {},
   "outputs": [],
   "source": [
    "if VISUALIZE_USING_NAPARI:\n",
    "\n",
    "    viewer = napari.Viewer(ndisplay=msi_utils.get_ndim(msims[0]))\n",
    "\n",
    "    ch_coord = None\n",
    "\n",
    "    lds = viewer_utils.create_image_layer_tuples_from_msims(\n",
    "        [mfused],\n",
    "        ch_coord=ch_coord,\n",
    "        transform_key='affine_registered',\n",
    "        name_prefix='fused',\n",
    "        contrast_limits=[0, 500])\n",
    "\n",
    "    viewer_utils.add_image_layer_tuples_to_viewer(viewer, lds)"
   ]
  },
  {
   "cell_type": "code",
   "execution_count": null,
   "metadata": {},
   "outputs": [],
   "source": [
    "# stream presaved fused image to tif\n",
    "\n",
    "from multiview_stitcher import io\n",
    "\n",
    "with dask.diagnostics.ProgressBar():\n",
    "    io.save_sim_as_tif(\n",
    "        os.path.join(base_dir, os.path.basename(url)[:4]+'_fused.tif'),\n",
    "        msi_utils.get_sim_from_msim(mfused))"
   ]
  }
 ],
 "metadata": {
  "kernelspec": {
   "display_name": "Python 3 (ipykernel)",
   "language": "python",
   "name": "python3"
  },
  "language_info": {
   "codemirror_mode": {
    "name": "ipython",
    "version": 3
   },
   "file_extension": ".py",
   "mimetype": "text/x-python",
   "name": "python",
   "nbconvert_exporter": "python",
   "pygments_lexer": "ipython3",
   "version": "3.10.13"
  }
 },
 "nbformat": 4,
 "nbformat_minor": 4
}
