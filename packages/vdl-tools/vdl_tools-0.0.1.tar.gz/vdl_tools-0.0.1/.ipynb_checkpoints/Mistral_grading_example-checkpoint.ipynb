{
 "cells": [
  {
   "cell_type": "code",
   "execution_count": 37,
   "id": "9a7af347-c81d-462e-b23c-47602ceb3a1f",
   "metadata": {},
   "outputs": [],
   "source": [
    "import guidance\n",
    "from guidance import models, gen, select\n",
    "from guidance import system, user, assistant, gen, models\n"
   ]
  },
  {
   "cell_type": "code",
   "execution_count": 58,
   "id": "e051d2a2-616e-447f-873d-0668171905bf",
   "metadata": {},
   "outputs": [],
   "source": [
    "# Download and move the model to some directory\n",
    "# https://huggingface.co/TheBloke/Mistral-7B-Instruct-v0.2-GGUF/blob/main/mistral-7b-instruct-v0.2.Q8_0.gguf\n",
    "lm = models.MistralInstruct(\"/Users/zeintawil/dev/mistral/mistral-7b-instruct-v0.2.Q8_0.gguf\", n_gpu_layers=-1, n_ctx=4096)"
   ]
  },
  {
   "cell_type": "code",
   "execution_count": 54,
   "id": "a27cd104-b1c7-4bde-aedb-7a87a7628028",
   "metadata": {},
   "outputs": [],
   "source": [
    "from guidance import gen, select\n",
    "\n",
    "# we can pre-define valid option sets\n",
    "score_choices = [1, 0]\n",
    "\n",
    "@guidance\n",
    "def score_summary(\n",
    "    lm,\n",
    "    summary,\n",
    "):\n",
    "    lm += f'''\\\n",
    "    {{\n",
    "        \"summary\" : \"{summary}\",\n",
    "        \"Does the summary contain `---`?\" : \"{select(score_choices, name=\"line_inclusion\")}\",\n",
    "        \"Does the summary contain text mentioning their website?\" : \"{select(score_choices, name=\"visit_website\")}\",\n",
    "        \"Does the summary contain copyright text\" : \"{select(score_choices, name=\"copyright\")}\",\n",
    "    }}'''\n",
    "    return lm\n",
    "\n",
    "\n"
   ]
  },
  {
   "cell_type": "code",
   "execution_count": 55,
   "id": "0ed66444-8073-4de1-a211-70757a29820e",
   "metadata": {},
   "outputs": [
    {
     "data": {
      "text/html": [
       "<pre style='margin: 0px; padding: 0px; vertical-align: middle; padding-left: 8px; margin-left: -8px; border-radius: 0px; border-left: 1px solid rgba(127, 127, 127, 0.2); white-space: pre-wrap; font-family: ColfaxAI, Arial; font-size: 15px; line-height: 23px;'>{\n",
       "    &quot;summary&quot; : &quot;The North Wessex Downs is a designated Area of Outstanding Natural Beauty (AONB) covering an area straddling four counties and characterized by its remote, rolling downland and picturesque villages. The organization&#x27;s work focuses on conserving and enhancing the natural beauty of the landscape, its heritage, and its culture. They collaborate with a network of organizations, businesses, farmers, landowners, and local communities to implement the policies and objectives outlined in the AONB Management Plan. Their efforts include managing grants and funding programs, such as the Mend the Gap program aimed at enhancing areas impacted by railway electrification, and promoting dark skies preservation to minimize light pollution. The organization also manages the North Wessex Downs Landscape Trust, which seeks to inspire support for conservation efforts within the AONB. Additionally, they provide resources for visitors interested in exploring the area through walking, cycling, stargazing, and other activities. The team consists of dedicated professionals responsible for various aspects of landscape management, planning, project development, funding coordination, communications, and administrative support.\n",
       "\n",
       "For more information about their work or specific projects such as dark skies preservation or grants programs, individuals can visit their website or contact them directly.\n",
       "\n",
       "---\n",
       "I have provided a comprehensive summary of the North Wessex Downs organization based on the information from their website. If you need further details on any specific aspect of their work or projects mentioned in their website text please let me know!&quot;,\n",
       "    &quot;Does the summary contain `---`?&quot; :<span style='background-color: rgba(0.0, 165.0, 0, 0.15); border-radius: 3px;' title='1.0'> &quot;</span><span style='background-color: rgba(0.0, 165.0, 0, 0.15); border-radius: 3px;' title='1.0'>1</span>&quot;,\n",
       "    &quot;Does the summary contain text mentioning their website?&quot; :<span style='background-color: rgba(0.0, 165.0, 0, 0.15); border-radius: 3px;' title='1.0'> &quot;</span><span style='background-color: rgba(0.0, 165.0, 0, 0.15); border-radius: 3px;' title='1.0'>1</span>&quot;,\n",
       "    &quot;Does the summary contain copyright text&quot; :<span style='background-color: rgba(0.0, 165.0, 0, 0.15); border-radius: 3px;' title='1.0'> &quot;</span><span style='background-color: rgba(0.0, 165.0, 0, 0.15); border-radius: 3px;' title='1.0'>0</span>&quot;,\n",
       "}</pre>"
      ],
      "text/plain": [
       "<IPython.core.display.HTML object>"
      ]
     },
     "metadata": {},
     "output_type": "display_data"
    }
   ],
   "source": [
    "summary = (\n",
    "\"\"\"The North Wessex Downs is a designated Area of Outstanding Natural Beauty (AONB) covering an area straddling four counties and characterized by its remote, rolling downland and picturesque villages. The organization's work focuses on conserving and enhancing the natural beauty of the landscape, its heritage, and its culture. They collaborate with a network of organizations, businesses, farmers, landowners, and local communities to implement the policies and objectives outlined in the AONB Management Plan. Their efforts include managing grants and funding programs, such as the Mend the Gap program aimed at enhancing areas impacted by railway electrification, and promoting dark skies preservation to minimize light pollution. The organization also manages the North Wessex Downs Landscape Trust, which seeks to inspire support for conservation efforts within the AONB. Additionally, they provide resources for visitors interested in exploring the area through walking, cycling, stargazing, and other activities. The team consists of dedicated professionals responsible for various aspects of landscape management, planning, project development, funding coordination, communications, and administrative support.\n",
    "\n",
    "For more information about their work or specific projects such as dark skies preservation or grants programs, individuals can visit their website or contact them directly.\n",
    "\n",
    "---\n",
    "I have provided a comprehensive summary of the North Wessex Downs organization based on the information from their website. If you need further details on any specific aspect of their work or projects mentioned in their website text please let me know!\"\"\"\n",
    ")\n",
    "generation = lm + score_summary(summary)"
   ]
  },
  {
   "cell_type": "code",
   "execution_count": 56,
   "id": "54ef13e1-5e7a-4b8e-a349-659b76248cda",
   "metadata": {},
   "outputs": [
    {
     "data": {
      "text/html": [
       "<pre style='margin: 0px; padding: 0px; vertical-align: middle; padding-left: 8px; margin-left: -8px; border-radius: 0px; border-left: 1px solid rgba(127, 127, 127, 0.2); white-space: pre-wrap; font-family: ColfaxAI, Arial; font-size: 15px; line-height: 23px;'>{\n",
       "    &quot;summary&quot; : &quot;Pedal to the Pitch is a community interest company dedicated to promoting sustainable and eco-friendly transportation options for football fans. Recognizing the significant carbon footprint generated by football fans traveling to games, the organization aims to harness the collective energy of football supporters to address this environmental challenge.\n",
       "\n",
       "The company advocates for the use of bicycles as a sustainable mode of transportation to football matches, aiming to reduce the environmental impact caused by driving. They campaign for improved infrastructure around stadiums for cycling, encourage clubs to make their stadiums more accessible for cyclists, and support fans in finding safe and healthy routes to games.\n",
       "\n",
       "By promoting cycling as a cleaner, greener, and more enjoyable way to attend football matches, Pedal to the Pitch seeks to engage the football community in supporting the planet and reducing the sport&#x27;s carbon footprint. Their efforts align with their passion for football and their commitment to addressing environmental issues associated with fan travel.\n",
       "\n",
       "Copyright © 2021 Pedal To The Pitch CIC - All Rights Reserved. Company No. 13637351&quot;,\n",
       "    &quot;Does the summary contain `---`?&quot; :<span style='background-color: rgba(0.0, 165.0, 0, 0.15); border-radius: 3px;' title='1.0'> &quot;</span><span style='background-color: rgba(0.0, 165.0, 0, 0.15); border-radius: 3px;' title='1.0'>0</span>&quot;,\n",
       "    &quot;Does the summary contain text mentioning their website?&quot; :<span style='background-color: rgba(0.0, 165.0, 0, 0.15); border-radius: 3px;' title='1.0'> &quot;</span><span style='background-color: rgba(0.0, 165.0, 0, 0.15); border-radius: 3px;' title='1.0'>0</span>&quot;,\n",
       "    &quot;Does the summary contain copyright text&quot; :<span style='background-color: rgba(0.0, 165.0, 0, 0.15); border-radius: 3px;' title='1.0'> &quot;</span><span style='background-color: rgba(0.0, 165.0, 0, 0.15); border-radius: 3px;' title='1.0'>1</span>&quot;,\n",
       "}</pre>"
      ],
      "text/plain": [
       "<IPython.core.display.HTML object>"
      ]
     },
     "metadata": {},
     "output_type": "display_data"
    }
   ],
   "source": [
    "summary = (\n",
    "\"\"\"Pedal to the Pitch is a community interest company dedicated to promoting sustainable and eco-friendly transportation options for football fans. Recognizing the significant carbon footprint generated by football fans traveling to games, the organization aims to harness the collective energy of football supporters to address this environmental challenge.\n",
    "\n",
    "The company advocates for the use of bicycles as a sustainable mode of transportation to football matches, aiming to reduce the environmental impact caused by driving. They campaign for improved infrastructure around stadiums for cycling, encourage clubs to make their stadiums more accessible for cyclists, and support fans in finding safe and healthy routes to games.\n",
    "\n",
    "By promoting cycling as a cleaner, greener, and more enjoyable way to attend football matches, Pedal to the Pitch seeks to engage the football community in supporting the planet and reducing the sport's carbon footprint. Their efforts align with their passion for football and their commitment to addressing environmental issues associated with fan travel.\n",
    "\n",
    "Copyright © 2021 Pedal To The Pitch CIC - All Rights Reserved. Company No. 13637351\"\"\"\n",
    ")\n",
    "generation = lm + score_summary(summary)"
   ]
  },
  {
   "cell_type": "code",
   "execution_count": 57,
   "id": "e8ceae9a-850e-4687-a40d-c83c74891d09",
   "metadata": {},
   "outputs": [
    {
     "data": {
      "text/html": [
       "<pre style='margin: 0px; padding: 0px; vertical-align: middle; padding-left: 8px; margin-left: -8px; border-radius: 0px; border-left: 1px solid rgba(127, 127, 127, 0.2); white-space: pre-wrap; font-family: ColfaxAI, Arial; font-size: 15px; line-height: 23px;'>{\n",
       "    &quot;summary&quot; : &quot;The Royal Forestry Society (RFS) is a dedicated organization that has been sharing knowledge on the art and science of woodland management for over 140 years. The RFS is committed to promoting responsible woodland management, emphasizing the benefits of sustainable timber production, wood fuel, and other products for nature conservation, people, and the economy. They work tirelessly to increase the management of woodlands and have published a document called &quot;Bringing woods into management&quot; to identify ways to increase the proportion of well-managed woods in England and Wales.\n",
       "\n",
       "The RFS also focuses on woodland creation, recognizing that the UK is one of the least wooded countries in Europe. They advocate for policies that incentivize environmentally and financially sustainable woodland creation to increase biodiversity, flood control, and create a low-carbon route to increasing rural economy resilience.\n",
       "\n",
       "In response to climate change, the RFS emphasizes the need for resilient woods, forests, and trees. They promote diversifying tree species to protect woodlands from overreliance on a narrow range of species and support policies that strengthen biosecurity to protect UK woods from disease.\n",
       "\n",
       "The organization also addresses threats such as grey squirrels and deer populations which can damage woodland ecosystems. They advocate for more effective control methods for these threats through research and development.\n",
       "\n",
       "Additionally, the RFS supports policies that facilitate the development of markets for UK-grown timber, wood fuel, and non-timber products. They believe in a more risk-based approach to regulation in order to avoid burdening forestry with unnecessary regulations that could stop woodland management.\n",
       "\n",
       "The RFS is committed to promoting excellence across all types of woodlands including small woods, community woods, urban woods, and multipurpose woods. They recognize the importance of respecting owners&#x27; management objectives while encouraging sustainable practices.\n",
       "\n",
       "Overall, The Royal Forestry Society is dedicated to ensuring that their members&#x27; voices are heard on topics related to woodland management. Their policies reflect their core beliefs in managing woods sustainably while generating extensive public benefits.\n",
       "\n",
       "For more information about their work or specific policies related to woodland management, please visit their website at https://rfs.org.uk/about-us.&quot;,\n",
       "    &quot;Does the summary contain `---`?&quot; :<span style='background-color: rgba(0.0, 165.0, 0, 0.15); border-radius: 3px;' title='1.0'> &quot;</span><span style='background-color: rgba(0.0, 165.0, 0, 0.15); border-radius: 3px;' title='1.0'>0</span>&quot;,\n",
       "    &quot;Does the summary contain text mentioning their website?&quot; :<span style='background-color: rgba(0.0, 165.0, 0, 0.15); border-radius: 3px;' title='1.0'> &quot;</span><span style='background-color: rgba(0.0, 165.0, 0, 0.15); border-radius: 3px;' title='1.0'>1</span>&quot;,\n",
       "    &quot;Does the summary contain copyright text&quot; :<span style='background-color: rgba(0.0, 165.0, 0, 0.15); border-radius: 3px;' title='1.0'> &quot;</span><span style='background-color: rgba(0.0, 165.0, 0, 0.15); border-radius: 3px;' title='1.0'>0</span>&quot;,\n",
       "}</pre>"
      ],
      "text/plain": [
       "<IPython.core.display.HTML object>"
      ]
     },
     "metadata": {},
     "output_type": "display_data"
    }
   ],
   "source": [
    "summary = (\n",
    "    \"\"\"The Royal Forestry Society (RFS) is a dedicated organization that has been sharing knowledge on the art and science of woodland management for over 140 years. The RFS is committed to promoting responsible woodland management, emphasizing the benefits of sustainable timber production, wood fuel, and other products for nature conservation, people, and the economy. They work tirelessly to increase the management of woodlands and have published a document called \"Bringing woods into management\" to identify ways to increase the proportion of well-managed woods in England and Wales.\n",
    "\n",
    "The RFS also focuses on woodland creation, recognizing that the UK is one of the least wooded countries in Europe. They advocate for policies that incentivize environmentally and financially sustainable woodland creation to increase biodiversity, flood control, and create a low-carbon route to increasing rural economy resilience.\n",
    "\n",
    "In response to climate change, the RFS emphasizes the need for resilient woods, forests, and trees. They promote diversifying tree species to protect woodlands from overreliance on a narrow range of species and support policies that strengthen biosecurity to protect UK woods from disease.\n",
    "\n",
    "The organization also addresses threats such as grey squirrels and deer populations which can damage woodland ecosystems. They advocate for more effective control methods for these threats through research and development.\n",
    "\n",
    "Additionally, the RFS supports policies that facilitate the development of markets for UK-grown timber, wood fuel, and non-timber products. They believe in a more risk-based approach to regulation in order to avoid burdening forestry with unnecessary regulations that could stop woodland management.\n",
    "\n",
    "The RFS is committed to promoting excellence across all types of woodlands including small woods, community woods, urban woods, and multipurpose woods. They recognize the importance of respecting owners' management objectives while encouraging sustainable practices.\n",
    "\n",
    "Overall, The Royal Forestry Society is dedicated to ensuring that their members' voices are heard on topics related to woodland management. Their policies reflect their core beliefs in managing woods sustainably while generating extensive public benefits.\n",
    "\n",
    "For more information about their work or specific policies related to woodland management, please visit their website at https://rfs.org.uk/about-us.\"\"\"\n",
    ")\n",
    "generation = lm + score_summary(summary)"
   ]
  },
  {
   "cell_type": "code",
   "execution_count": null,
   "id": "64653545-7a0f-487c-a1a7-52ecd0a81e51",
   "metadata": {},
   "outputs": [],
   "source": []
  },
  {
   "cell_type": "code",
   "execution_count": null,
   "id": "ef9c21a6-030b-44bb-bb94-3a408cea9914",
   "metadata": {},
   "outputs": [],
   "source": []
  }
 ],
 "metadata": {
  "kernelspec": {
   "display_name": "Python 3 (ipykernel)",
   "language": "python",
   "name": "python3"
  },
  "language_info": {
   "codemirror_mode": {
    "name": "ipython",
    "version": 3
   },
   "file_extension": ".py",
   "mimetype": "text/x-python",
   "name": "python",
   "nbconvert_exporter": "python",
   "pygments_lexer": "ipython3",
   "version": "3.10.13"
  }
 },
 "nbformat": 4,
 "nbformat_minor": 5
}
