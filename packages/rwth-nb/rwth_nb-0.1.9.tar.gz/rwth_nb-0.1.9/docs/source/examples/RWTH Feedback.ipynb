{
 "cells": [
  {
   "cell_type": "markdown",
   "metadata": {},
   "source": [
    "# Feedback\n",
    "`rwth_nb.misc.rwth_feedback` adds a functionality to rate a certain course.\n",
    "Usage examples are demonstrated in [Submission](#Submission).\n",
    "\n",
    "Existing submissions retrieved by mail or from _RWTHJupyter_ submission service can be [evaluated](#Evaluation) later."
   ]
  },
  {
   "cell_type": "markdown",
   "metadata": {},
   "source": [
    "## Submission\n",
    "\n",
    "``` RWTHFeedbackMail(feedback_name, questions, feedback_path, lang, mail_to) ``` for usage with mail  \n",
    "``` RWTHFeedbackJupyter(feedback_name, questions, realm) ``` for usage in _RWTHJupyter_ cluster\n",
    "\n",
    "Call method depending on use case:  "
   ]
  },
  {
   "cell_type": "code",
   "execution_count": null,
   "metadata": {},
   "outputs": [],
   "source": [
    "import rwth_nb.misc.feedback as rwth_feedback\n",
    "feedback_name = rwth_feedback.get_notebook_name() # get name of notebook automatically\n",
    "\n",
    "questions = [\n",
    "    {'id': 'likes', 'type': 'free-text-required', 'label': 'Das war gut:'}, \n",
    "    {'id': 'dislikes', 'type': 'free-text-required', 'label': 'Das könnte verbessert werden:'}, \n",
    "    {'id': 'misc', 'type': 'free-text', 'label': 'Was ich sonst noch sagen möchte:'}, \n",
    "    {'id': 'learning', 'type': 'scale', 'label' : 'Ich habe das Gefühl etwas gelernt zu haben.'},\n",
    "    {'id': 'supervision', 'type': 'scale', 'label' : 'Die Betreuung des Versuchs war gut.'},\n",
    "    {'id': 'script', 'type': 'scale', 'label' : 'Die Versuchsunterlagen sind verständlich.'},\n",
    "]"
   ]
  },
  {
   "cell_type": "markdown",
   "metadata": {},
   "source": [
    "E-Mail or offline usage"
   ]
  },
  {
   "cell_type": "code",
   "execution_count": null,
   "metadata": {},
   "outputs": [],
   "source": [
    "rwth_feedback.RWTHFeedbackMail(feedback_name, questions, feedback_path='feedback.json', lang='de', mail_to=\"example@rwth-aachen.de\");"
   ]
  },
  {
   "cell_type": "markdown",
   "metadata": {},
   "source": [
    "_RWTHJupyter_ submmission service"
   ]
  },
  {
   "cell_type": "code",
   "execution_count": null,
   "metadata": {},
   "outputs": [],
   "source": [
    "rwth_feedback.RWTHFeedbackJupyter(feedback_name, questions, lang='de', realm=\"feedback\");"
   ]
  },
  {
   "cell_type": "markdown",
   "metadata": {},
   "source": [
    "## Evaluation"
   ]
  },
  {
   "cell_type": "markdown",
   "metadata": {},
   "source": [
    "### Collection\n",
    "``` RWTHFeedbackCollector() ```\n",
    "* ``` get_all_folder(filepath) ``` - get submissions in form of json files inside a folder\n",
    "* ``` get_all_jupyter(realm) ``` - retrieve and collect submissions from _RWTHJupyter_ submission realm"
   ]
  },
  {
   "cell_type": "code",
   "execution_count": null,
   "metadata": {},
   "outputs": [],
   "source": [
    "from rwth_nb.misc.feedback import RWTHFeedbackCollector\n",
    "\n",
    "\n",
    "# get feedback for all notebooks in a folder\n",
    "collector = RWTHFeedbackCollector()\n",
    "data_v6 = collector.get_all_folder('./Feedbacks/FeedbackV6') \n",
    "#data_v7 = collector.get_all_jupyter('feedback')"
   ]
  },
  {
   "cell_type": "markdown",
   "metadata": {},
   "source": [
    "### Evaluation\n",
    "``` RWTHFeedbackEvaluator() ```\n",
    "* ``` evaluate(data) ``` - build widgets for evaluation of data collections. Note that ```data``` can also be a list of dataframes"
   ]
  },
  {
   "cell_type": "code",
   "execution_count": null,
   "metadata": {},
   "outputs": [],
   "source": [
    "%matplotlib widget\n",
    "\n",
    "from rwth_nb.misc.feedback import RWTHFeedbackEvaluator\n",
    "\n",
    "eva = RWTHFeedbackEvaluator()  \n",
    "eva.evaluate([data_v6, data_v7], lang='de')"
   ]
  }
 ],
 "metadata": {
  "kernelspec": {
   "display_name": "Python 3",
   "language": "python",
   "name": "python3"
  },
  "language_info": {
   "codemirror_mode": {
    "name": "ipython",
    "version": 3
   },
   "file_extension": ".py",
   "mimetype": "text/x-python",
   "name": "python",
   "nbconvert_exporter": "python",
   "pygments_lexer": "ipython3",
   "version": "3.8.5"
  }
 },
 "nbformat": 4,
 "nbformat_minor": 4
}