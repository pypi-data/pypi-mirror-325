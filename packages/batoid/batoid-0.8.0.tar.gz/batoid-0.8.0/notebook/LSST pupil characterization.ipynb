{
 "cells": [
  {
   "cell_type": "code",
   "execution_count": null,
   "metadata": {
    "ExecuteTime": {
     "end_time": "2019-03-23T17:32:11.435988Z",
     "start_time": "2019-03-23T17:32:11.139551Z"
    }
   },
   "outputs": [],
   "source": [
    "import batoid\n",
    "import numpy as np\n",
    "import matplotlib.pyplot as plt\n",
    "\n",
    "from ipywidgets import interact"
   ]
  },
  {
   "cell_type": "code",
   "execution_count": null,
   "metadata": {
    "ExecuteTime": {
     "end_time": "2019-03-23T17:32:11.614551Z",
     "start_time": "2019-03-23T17:32:11.520982Z"
    }
   },
   "outputs": [],
   "source": [
    "telescope = batoid.Optic.fromYaml(\"LSST_r_baffles.yaml\")"
   ]
  },
  {
   "cell_type": "code",
   "execution_count": null,
   "metadata": {
    "ExecuteTime": {
     "end_time": "2019-03-23T17:32:11.746319Z",
     "start_time": "2019-03-23T17:32:11.728086Z"
    }
   },
   "outputs": [],
   "source": [
    "def pupil(thx, thy, nside=512, dx=0):\n",
    "    scope = telescope.withGloballyShiftedOptic(\"M2\",(dx,0,0))\n",
    "    rays = batoid.RayVector.asGrid(\n",
    "        optic=scope, wavelength=620e-9,\n",
    "        theta_x=thx, theta_y=thy,\n",
    "        nx=nside, ny=nside\n",
    "    )\n",
    "    rays2 = rays.copy()\n",
    "    scope.stopSurface.interact(rays2)\n",
    "    scope.trace(rays)\n",
    "    w = ~rays.vignetted\n",
    "    return rays2.x[w], rays2.y[w]"
   ]
  },
  {
   "cell_type": "code",
   "execution_count": null,
   "metadata": {
    "ExecuteTime": {
     "end_time": "2019-03-23T17:32:11.925188Z",
     "start_time": "2019-03-23T17:32:11.907374Z"
    }
   },
   "outputs": [],
   "source": [
    "def drawCircle(ax, cx, cy, r, **kwargs):\n",
    "    t = np.linspace(0, 2*np.pi, 1000)\n",
    "    x = r*np.cos(t)+cx\n",
    "    y = r*np.sin(t)+cy\n",
    "    ax.plot(x, y, **kwargs)"
   ]
  },
  {
   "cell_type": "code",
   "execution_count": null,
   "metadata": {
    "ExecuteTime": {
     "end_time": "2019-03-23T17:32:12.145744Z",
     "start_time": "2019-03-23T17:32:12.126651Z"
    }
   },
   "outputs": [],
   "source": [
    "def drawRay(ax, cx, cy, width, theta, **kwargs):\n",
    "    R = np.array([[np.cos(theta), -np.sin(theta)], [np.sin(theta), np.cos(theta)]])\n",
    "    \n",
    "    dx = np.linspace(0, 4.1, 1000)\n",
    "    dy = np.ones_like(dx)*width/2\n",
    "\n",
    "    bx = np.copy(dx)\n",
    "    by = -dy\n",
    "    \n",
    "    dx, dy = R.dot(np.vstack([dx, dy]))\n",
    "    bx, by = R.dot(np.vstack([bx, by]))\n",
    "    \n",
    "    dx += cx\n",
    "    dy += cy\n",
    "    bx += cx\n",
    "    by += cy\n",
    "    \n",
    "    ax.plot(dx, dy, **kwargs)\n",
    "    ax.plot(bx, by, **kwargs)"
   ]
  },
  {
   "cell_type": "code",
   "execution_count": null,
   "metadata": {
    "ExecuteTime": {
     "end_time": "2019-03-23T17:32:12.370369Z",
     "start_time": "2019-03-23T17:32:12.352752Z"
    }
   },
   "outputs": [],
   "source": [
    "def drawRectangle(ax, cx, cy, width, height, **kwargs):\n",
    "    x = width/2*np.array([-1,-1,1,1,-1])\n",
    "    y = height/2*np.array([-1,1,1,-1,-1])\n",
    "    x += cx\n",
    "    y += cy\n",
    "    ax.plot(x, y, **kwargs)"
   ]
  },
  {
   "cell_type": "code",
   "execution_count": null,
   "metadata": {
    "ExecuteTime": {
     "end_time": "2019-03-23T17:32:12.790991Z",
     "start_time": "2019-03-23T17:32:12.772321Z"
    }
   },
   "outputs": [],
   "source": [
    "from IPython.core.display import display, HTML\n",
    "display(HTML(\"<style>.container { width:100% !important; }</style>\"))"
   ]
  },
  {
   "cell_type": "code",
   "execution_count": null,
   "metadata": {
    "ExecuteTime": {
     "end_time": "2019-03-23T18:03:26.547943Z",
     "start_time": "2019-03-23T18:03:26.521999Z"
    }
   },
   "outputs": [],
   "source": [
    "@interact(thx=(-2.0, 2.0, 0.01), thy=(-2.0, 2.0, 0.01), dx=(-10, 10, 1))\n",
    "def modelPlot(thx=1.67, thy=0.0, dx=0.0):\n",
    "    thx = np.deg2rad(thx)\n",
    "    thy = np.deg2rad(thy)\n",
    "    fig, ax = plt.subplots(1, 1, figsize=(24, 24))\n",
    "    ax.scatter(*pupil(thx,thy,dx=dx*1e-2), s=0.1, c='k')\n",
    "    ax.set_aspect('equal')\n",
    "    # Primary mirror\n",
    "    drawCircle(ax, 0, 0, 4.18, c='r')\n",
    "    drawCircle(ax, 0, 0, 2.55, c='r')\n",
    "    \n",
    "    scales = {\n",
    "        'M2_inner': 2.3698999752679404,\n",
    "        'M2_outer': 4.502809953009087,\n",
    "        'M3_inner': 1.1922312943631603,\n",
    "        'M3_outer': 5.436574702296011,\n",
    "#         'L1_entrance': 7.697441260764198,\n",
    "#         'L1_exit': 8.106852624652701,\n",
    "#         'L2_entrance': 10.748915941599885,\n",
    "#         'L2_exit': 11.5564127895276,\n",
    "#         'Filter_entrance': 28.082220873785978,\n",
    "#         'Filter_exit': 30.91023954045243,\n",
    "#         'L3_entrance': 54.67312185149621,\n",
    "#         'L3_exit': 114.58705556485711\n",
    "    }\n",
    "    speeds = {\n",
    "        'M2_inner': 16.8188788239707,\n",
    "        'M2_outer': 16.8188788239707,\n",
    "        'M3_inner': 53.22000661238318,\n",
    "        'M3_outer': 53.22000661238318,\n",
    "#         'L1_entrance': 131.76650078100135,\n",
    "#         'L1_exit': 137.57031952814913,\n",
    "#         'L2_entrance': 225.6949885074127,\n",
    "#         'L2_exit': 237.01739037674315,\n",
    "#         'Filter_entrance': 802.0137451419788,\n",
    "#         'Filter_exit': 879.8810309773828,\n",
    "#         'L3_entrance': 1597.8959863335774,\n",
    "#         'L3_exit': 3323.60145194633\n",
    "    }\n",
    "    \n",
    "    for k in scales:\n",
    "        drawCircle(ax, -speeds[k]*thx, -speeds[k]*thy, scales[k], c='r')\n",
    "\n",
    "#     ax.set_xlim(-50,50)\n",
    "#     ax.set_ylim(-50,50)\n",
    "    ax.set_xlim(-5,5)\n",
    "    ax.set_ylim(-5,5)\n",
    "\n",
    "    ax.axvline(c='k')\n",
    "    ax.axhline(c='k')\n",
    "    fig.show()"
   ]
  },
  {
   "cell_type": "code",
   "execution_count": null,
   "metadata": {},
   "outputs": [],
   "source": [
    "\n",
    "\n",
    "\n",
    "\n",
    "\n",
    "\n",
    "\n",
    "\n",
    "\n",
    "\n",
    "\n",
    "\n",
    "\n",
    "\n",
    "\n",
    "\n",
    "\n",
    "\n",
    "\n",
    "\n",
    "\n",
    "\n",
    "\n",
    "\n",
    "\n",
    "\n",
    "\n",
    "\n",
    "\n",
    "\n",
    "\n",
    "\n",
    "\n"
   ]
  },
  {
   "cell_type": "code",
   "execution_count": null,
   "metadata": {},
   "outputs": [],
   "source": []
  }
 ],
 "metadata": {
  "kernelspec": {
   "display_name": "Python 3",
   "language": "python",
   "name": "python3"
  },
  "language_info": {
   "codemirror_mode": {
    "name": "ipython",
    "version": 3
   },
   "file_extension": ".py",
   "mimetype": "text/x-python",
   "name": "python",
   "nbconvert_exporter": "python",
   "pygments_lexer": "ipython3",
   "version": "3.8.8"
  }
 },
 "nbformat": 4,
 "nbformat_minor": 4
}
