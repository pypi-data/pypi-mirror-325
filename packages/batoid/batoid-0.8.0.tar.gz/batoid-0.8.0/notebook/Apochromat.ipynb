{
 "cells": [
  {
   "cell_type": "code",
   "execution_count": null,
   "metadata": {
    "ExecuteTime": {
     "end_time": "2019-08-31T17:24:26.101922Z",
     "start_time": "2019-08-31T17:24:25.833810Z"
    }
   },
   "outputs": [],
   "source": [
    "import batoid\n",
    "import numpy as np\n",
    "from IPython.display import display\n",
    "from ipywidgets import interact, interactive_output\n",
    "import ipywidgets as widgets\n",
    "import matplotlib.pyplot as plt\n",
    "%matplotlib inline\n",
    "from mpl_toolkits.mplot3d import Axes3D"
   ]
  },
  {
   "cell_type": "code",
   "execution_count": null,
   "metadata": {
    "ExecuteTime": {
     "end_time": "2019-08-31T17:24:26.116780Z",
     "start_time": "2019-08-31T17:24:26.103208Z"
    }
   },
   "outputs": [],
   "source": [
    "telescope = batoid.Optic.fromYaml('donsoptikz1.yaml')"
   ]
  },
  {
   "cell_type": "code",
   "execution_count": null,
   "metadata": {
    "ExecuteTime": {
     "end_time": "2019-08-31T17:24:26.508237Z",
     "start_time": "2019-08-31T17:24:26.118117Z"
    }
   },
   "outputs": [],
   "source": [
    "fig1 = plt.figure(figsize=(12, 11))\n",
    "ax1 = fig1.add_subplot(111)\n",
    "telescope.draw2d(ax1, c='k')\n",
    "\n",
    "fig2 = plt.figure(figsize=(4, 12))\n",
    "ax2 = fig2.add_subplot(111, projection='3d')\n",
    "telescope.draw3d(ax2, c='k')\n",
    "\n",
    "x = np.array([-0.035, -0.015, 0.015, 0.035])\n",
    "\n",
    "for vx, c in zip([-0.01, 0, 0.01], ['#377eb8', '#ff7f00', '#4daf4a']):\n",
    "    rays = batoid.RayVector(x, 0, 0, vx, 0, -np.sqrt(1-vx**2), wavelength=500e-9)\n",
    "    rays.propagate(-0.1)\n",
    "    tF = telescope.traceFull(rays)\n",
    "    batoid.drawTrace2d(ax1, tF, c=c)\n",
    "    batoid.drawTrace3d(ax2, tF, c=c)\n",
    "ax1.set_aspect('equal')"
   ]
  },
  {
   "cell_type": "code",
   "execution_count": null,
   "metadata": {},
   "outputs": [],
   "source": []
  }
 ],
 "metadata": {
  "kernelspec": {
   "display_name": "Python 3",
   "language": "python",
   "name": "python3"
  },
  "language_info": {
   "codemirror_mode": {
    "name": "ipython",
    "version": 3
   },
   "file_extension": ".py",
   "mimetype": "text/x-python",
   "name": "python",
   "nbconvert_exporter": "python",
   "pygments_lexer": "ipython3",
   "version": "3.7.8-final"
  }
 },
 "nbformat": 4,
 "nbformat_minor": 4
}