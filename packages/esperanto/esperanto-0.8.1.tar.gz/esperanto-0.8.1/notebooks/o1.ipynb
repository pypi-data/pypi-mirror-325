{
 "cells": [
  {
   "cell_type": "code",
   "execution_count": 4,
   "metadata": {},
   "outputs": [
    {
     "name": "stderr",
     "output_type": "stream",
     "text": [
      "/var/folders/cl/346yd2sd3vz399s0m2c_ynvr0000gn/T/ipykernel_94930/2326742163.py:3: DeprecationWarning: create_llm() is deprecated and will be removed in a future version. Use create_language() instead.\n",
      "  model = AIFactory.create_llm(\"openai\", \"o3-mini\", config={\"temperature\": 0, \"top_p\": 1, \"max_tokens\": 3000})\n"
     ]
    },
    {
     "name": "stdout",
     "output_type": "stream",
     "text": [
      "The capital of France is Paris.\n"
     ]
    }
   ],
   "source": [
    "from esperanto import AIFactory\n",
    "\n",
    "model = AIFactory.create_language(\"openai\", \"o3-mini\", config={\"temperature\": 0, \"top_p\": 1, \"max_tokens\": 3000})\n",
    "messages = [\n",
    "    {\"role\": \"user\", \"content\": \"You are a helpful assistant.\"},\n",
    "    {\"role\": \"user\", \"content\": \"What's the capital of France?\"},\n",
    "]\n",
    "response = model.chat_complete(messages)\n",
    "print(response.choices[0].message.content)"
   ]
  }
 ],
 "metadata": {
  "kernelspec": {
   "display_name": ".venv",
   "language": "python",
   "name": "python3"
  },
  "language_info": {
   "codemirror_mode": {
    "name": "ipython",
    "version": 3
   },
   "file_extension": ".py",
   "mimetype": "text/x-python",
   "name": "python",
   "nbconvert_exporter": "python",
   "pygments_lexer": "ipython3",
   "version": "3.13.1"
  }
 },
 "nbformat": 4,
 "nbformat_minor": 2
}
