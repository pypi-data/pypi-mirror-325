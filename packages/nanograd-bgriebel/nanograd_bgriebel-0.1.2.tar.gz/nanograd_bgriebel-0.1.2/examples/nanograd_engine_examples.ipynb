{
 "cells": [
  {
   "cell_type": "markdown",
   "id": "79ff0b60-641d-49bb-88ce-572be10a0f54",
   "metadata": {},
   "source": [
    "# Nanograd Automatic Differentiation"
   ]
  },
  {
   "cell_type": "code",
   "execution_count": 1,
   "id": "76ea30b2-c58f-4eb8-951a-b687311340ea",
   "metadata": {},
   "outputs": [],
   "source": [
    "# Start by importing nanograd\n",
    "import nanograd_bgriebel as ng"
   ]
  },
  {
   "cell_type": "markdown",
   "id": "db5d615d-3351-4f6c-81b0-91206d7e272a",
   "metadata": {},
   "source": [
    "## Values"
   ]
  },
  {
   "cell_type": "markdown",
   "id": "75050c79-fa3a-464d-9028-d4c25166538f",
   "metadata": {},
   "source": [
    "Values are essentially wrapped floats, which keep track of the calculations that they are a part of, and can be used to caclulate derivatives. "
   ]
  },
  {
   "cell_type": "code",
   "execution_count": 2,
   "id": "b5772223-8dba-4fbb-8c82-86059e48ce49",
   "metadata": {},
   "outputs": [],
   "source": [
    "my_value = ng.Value(1.0)"
   ]
  },
  {
   "cell_type": "markdown",
   "id": "2144b6b0-a99c-4c89-af25-a662b5c02e45",
   "metadata": {},
   "source": [
    "Values contain two important properties, grad and data. Data is the current float wrapped by the Value, which can be updated, and grad is the current gradient calculated by backpropagation. "
   ]
  },
  {
   "cell_type": "code",
   "execution_count": 3,
   "id": "615a635c-2c91-420a-b7c4-55ff88d9a79d",
   "metadata": {},
   "outputs": [
    {
     "name": "stdout",
     "output_type": "stream",
     "text": [
      "Data wrapped by my_value: 1.0\n",
      "Current gradient with respect to my_value: 0.0\n"
     ]
    }
   ],
   "source": [
    "print(f\"Data wrapped by my_value: {my_value.data}\")\n",
    "print(f\"Current gradient with respect to my_value: {my_value.grad}\")"
   ]
  },
  {
   "cell_type": "markdown",
   "id": "227d9e79-3ff3-4c90-9ce1-7e1c8470243a",
   "metadata": {},
   "source": [
    "Since the Value has not been used in any operations yet, the gradient has a value of 0. "
   ]
  },
  {
   "cell_type": "markdown",
   "id": "58cb1ab4-9bb1-4f7f-b1a2-af6691a34e4b",
   "metadata": {},
   "source": [
    "## Values, Ops, Gradients Oh My!"
   ]
  },
  {
   "cell_type": "markdown",
   "id": "a99f4143-09cf-439e-8cd5-eeb71e4d2f41",
   "metadata": {},
   "source": [
    "Values can be used in calculations, which can then have their derivatives (with respect to the values) calculated. "
   ]
  },
  {
   "cell_type": "code",
   "execution_count": 7,
   "id": "af23fff3-34a4-4d65-b7e3-40af85d7be6c",
   "metadata": {},
   "outputs": [
    {
     "name": "stdout",
     "output_type": "stream",
     "text": [
      "-2.0\n",
      "24.7041\n",
      "-6.9417\n",
      "340.1429\n"
     ]
    }
   ],
   "source": [
    "a = ng.Value(-4.0)\n",
    "b = ng.Value(2.0)\n",
    "c = a + b\n",
    "d = a * b + b**3\n"
   ]
  }
 ],
 "metadata": {
  "kernelspec": {
   "display_name": "Python 3 (ipykernel)",
   "language": "python",
   "name": "python3"
  },
  "language_info": {
   "codemirror_mode": {
    "name": "ipython",
    "version": 3
   },
   "file_extension": ".py",
   "mimetype": "text/x-python",
   "name": "python",
   "nbconvert_exporter": "python",
   "pygments_lexer": "ipython3",
   "version": "3.10.16"
  }
 },
 "nbformat": 4,
 "nbformat_minor": 5
}
