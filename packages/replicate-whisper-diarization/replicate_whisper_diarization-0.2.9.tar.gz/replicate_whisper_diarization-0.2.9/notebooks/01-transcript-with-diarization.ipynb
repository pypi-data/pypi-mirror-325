{
 "cells": [
  {
   "cell_type": "code",
   "execution_count": 1,
   "metadata": {},
   "outputs": [
    {
     "name": "stdout",
     "output_type": "stream",
     "text": [
      "Defaulting to user installation because normal site-packages is not writeable\n",
      "Requirement already satisfied: python-dotenv in /home/vscode/.local/lib/python3.10/site-packages (1.0.1)\n",
      "Note: you may need to restart the kernel to use updated packages.\n"
     ]
    }
   ],
   "source": [
    "%pip install python-dotenv"
   ]
  },
  {
   "cell_type": "code",
   "execution_count": 2,
   "metadata": {},
   "outputs": [
    {
     "data": {
      "text/plain": [
       "True"
      ]
     },
     "execution_count": 2,
     "metadata": {},
     "output_type": "execute_result"
    }
   ],
   "source": [
    "from dotenv import load_dotenv\n",
    "from replicate_whisper_diarization import run_transcript_with_diarization\n",
    "\n",
    "load_dotenv()"
   ]
  },
  {
   "cell_type": "code",
   "execution_count": 3,
   "metadata": {},
   "outputs": [],
   "source": [
    "URL = \"https://replicate.delivery/pbxt/IZjTvet2ZGiyiYaMEEPrzn0xY1UDNsh0NfcO9qeTlpwCo7ig/lex-levin-4min.mp3\""
   ]
  },
  {
   "cell_type": "code",
   "execution_count": 4,
   "metadata": {},
   "outputs": [],
   "source": [
    "speakers_transcript = run_transcript_with_diarization(\n",
    "    audio_url=URL,\n",
    "    language=\"english\",\n",
    "    num_speakers=2,\n",
    ")"
   ]
  },
  {
   "cell_type": "code",
   "execution_count": 5,
   "metadata": {},
   "outputs": [
    {
     "data": {
      "text/plain": [
       "[{'speaker': 'A',\n",
       "  'start_time': 8,\n",
       "  'end_time': 214760,\n",
       "  'text': \"What are some cool synthetic organisms that you think about, you dream about? When you think about embodied mind, what do you imagine? What do you hope to build? Yeah, on a practical level, what I really hope to do is to gain enough of an understanding of the embodied intelligence of organs and tissues such that we can achieve a radically different regenerative medicine so that we can say, basically, and I think about it as, you know, in terms of like, okay, can you, what's the, what's the, what's the goal kind of end game for this whole thing? To me, the end game is something that you would call an anatomical compiler. So the idea is you would sit down in front of the computer and you would draw the body or the organ that you wanted. Not molecular details, but like, here, this is what I want. I want a six -legged frog with a propeller on top, or I want a heart that looks like this, or I want a leg that looks like this. And what it would do, if we knew what we were doing, is convert that anatomical description into a set of stimuli that would have to be given to cells to convince them to build exactly that thing. Right. I probably won't live to see it, but I think it's achievable. And I think with that, if if we can have that, then that is basically the solution to all of medicine except for infectious disease. So birth defects, right, traumatic injury, cancer, aging, degenerative disease. If we knew how to tell cells what to build, all of those things go away. So those things go away and the positive feedback spiral of economic costs where all of the advances are increasingly more heroic and expensive interventions of a sinking ship when you're like 90 and so on, right? All of that goes away because basically instead of trying to fix you up as you degrade, you progressively regenerate, you know, you apply the regenerative medicine early before things degrade. So I think that that'll have massive economic impact over what we're trying to do now, which is not at all, you know, sustainable. And that's what I hope. I hope that we get, so to me, yes, the xenobots will be doing useful things, cleaning up the environment, cleaning out your joints and all that kind of stuff. But more important than that, I think we can use these synthetic systems to try to understand, to develop a science of detecting and manipulating the goals of collective intelligences of cells, specifically for regenerative medicine. And then sort of beyond that, if we sort of think further beyond that, what I hope is that kind of like what you said, all of this drives a reconsideration of how we formulate ethical norms. Because this old school, so in the olden days, what you could do is, as you, you were confronted with something new, you, so you could, so you could tap on it. Right. And if you heard a metallic clanging sound, you'd said, ah, fine. Right. So you could conclude it was made in a factory. I could take it apart. I can do whatever. Right. If you did that and you got sort of a squishy kind of warm sensation, you'd say, ah, I need to be, you know, more or less nice to it and whatever. That's not going to be feasible. It was never really feasible, but it was good enough because we didn't know any better. That needs to go. And I think that by breaking down those artificial barriers, someday we can try to build a system of ethical norms that does not rely on these completely contingent facts of our earthly history, but on something much, much deeper that really takes agency and the capacity to suffer and all that takes that seriously. \"}]"
      ]
     },
     "execution_count": 5,
     "metadata": {},
     "output_type": "execute_result"
    }
   ],
   "source": [
    "speakers_transcript"
   ]
  },
  {
   "cell_type": "code",
   "execution_count": null,
   "metadata": {},
   "outputs": [],
   "source": []
  }
 ],
 "metadata": {
  "kernelspec": {
   "display_name": "Python 3",
   "language": "python",
   "name": "python3"
  },
  "language_info": {
   "codemirror_mode": {
    "name": "ipython",
    "version": 3
   },
   "file_extension": ".py",
   "mimetype": "text/x-python",
   "name": "python",
   "nbconvert_exporter": "python",
   "pygments_lexer": "ipython3",
   "version": "3.10.12"
  },
  "orig_nbformat": 4
 },
 "nbformat": 4,
 "nbformat_minor": 2
}
