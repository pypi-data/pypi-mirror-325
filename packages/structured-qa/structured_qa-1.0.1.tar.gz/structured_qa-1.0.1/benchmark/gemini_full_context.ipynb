{
  "cells": [
    {
      "cell_type": "markdown",
      "metadata": {
        "id": "oD2lVadPlyhR"
      },
      "source": [
        "# Structured Q&A"
      ]
    },
    {
      "cell_type": "markdown",
      "metadata": {
        "id": "JZeb4ABvlyhS"
      },
      "source": [
        "Source code: https://github.com/mozilla-ai/structured-qa"
      ]
    },
    {
      "cell_type": "markdown",
      "metadata": {
        "id": "77aI1i7vlyhS"
      },
      "source": [
        "Docs: https://mozilla-ai.github.io/structured-qa"
      ]
    },
    {
      "cell_type": "markdown",
      "metadata": {
        "id": "atlPXFshlyhS"
      },
      "source": [
        "## Installing dependencies"
      ]
    },
    {
      "cell_type": "code",
      "execution_count": null,
      "metadata": {
        "colab": {
          "base_uri": "https://localhost:8080/"
        },
        "id": "QrgOGtuGlyhT",
        "outputId": "f1657f11-fbbb-4323-b7e7-6d68bcb2e139"
      },
      "outputs": [],
      "source": [
        "%pip install --quiet structured-qa"
      ]
    },
    {
      "cell_type": "code",
      "execution_count": null,
      "metadata": {
        "colab": {
          "base_uri": "https://localhost:8080/"
        },
        "id": "S22kTrfPlyhU",
        "outputId": "5aad43fa-5177-4bb2-e400-6aa364bfa7f2"
      },
      "outputs": [],
      "source": [
        "!wget https://raw.githubusercontent.com/mozilla-ai/structured-qa/refs/heads/main/benchmark/structured_qa.csv"
      ]
    },
    {
      "cell_type": "markdown",
      "metadata": {
        "id": "qwHWJEsulyhV"
      },
      "source": [
        "# Setup"
      ]
    },
    {
      "cell_type": "code",
      "execution_count": 3,
      "metadata": {
        "id": "iJ812u2llyhV"
      },
      "outputs": [],
      "source": [
        "import os\n",
        "import google.generativeai as genai\n",
        "from google.colab.userdata import get, SecretNotFoundError\n",
        "\n",
        "try:\n",
        "    genai.configure(api_key=get(\"GOOGLE_API_KEY\"))\n",
        "except SecretNotFoundError as e:\n",
        "    raise RuntimeError(\"Please set the GOOGLE_API_KEY secret to your API key\") from e\n",
        "os.environ[\"LOGURU_LEVEL\"] = \"INFO\""
      ]
    },
    {
      "cell_type": "code",
      "execution_count": 4,
      "metadata": {
        "id": "V9vfT0kwOnCI"
      },
      "outputs": [],
      "source": [
        "from loguru import logger"
      ]
    },
    {
      "cell_type": "markdown",
      "metadata": {
        "id": "MKijHC_ClyhX"
      },
      "source": [
        "## Function to Process all questions for a single Document"
      ]
    },
    {
      "cell_type": "code",
      "execution_count": 5,
      "metadata": {
        "id": "oFU-eYMVlyhX"
      },
      "outputs": [],
      "source": [
        "import time\n",
        "\n",
        "\n",
        "def process_document_questions(\n",
        "    document_file,\n",
        "    document_data,\n",
        "    model,\n",
        "):\n",
        "    logger.info(\"Uploading file\")\n",
        "    file = genai.upload_file(document_file, mime_type=\"application/pdf\")\n",
        "    while file.state.name == \"PROCESSING\":\n",
        "        logger.debug(\"Waiting for file to be processed.\")\n",
        "        time.sleep(2)\n",
        "        file = genai.get_file(file.name)\n",
        "\n",
        "    logger.info(\"Predicting\")\n",
        "    answers = {}\n",
        "    sections = {}\n",
        "    for index, row in document_data.iterrows():\n",
        "        if model.n > 0 and model.n % 9 == 0:\n",
        "            logger.info(\"Waiting for 60 seconds\")\n",
        "            time.sleep(60)\n",
        "        question = row[\"question\"]\n",
        "        logger.info(f\"Question: {question}\")\n",
        "        try:\n",
        "            response = model.model.generate_content([file, question])\n",
        "        except Exception:\n",
        "            answers[index] = \"Error\"\n",
        "            sections[index] = None\n",
        "            continue\n",
        "        logger.info(response.text)\n",
        "        answers[index] = response.text\n",
        "        sections[index] = None\n",
        "        model.n += 1\n",
        "    return answers, sections"
      ]
    },
    {
      "cell_type": "markdown",
      "metadata": {
        "id": "VQAof5xtlyhY"
      },
      "source": [
        "## Load Model"
      ]
    },
    {
      "cell_type": "code",
      "execution_count": 6,
      "metadata": {
        "id": "rrASU0BIOnCI"
      },
      "outputs": [],
      "source": [
        "from structured_qa.model_loaders import load_gemini_model"
      ]
    },
    {
      "cell_type": "code",
      "execution_count": 7,
      "metadata": {
        "id": "whtSJwdrlyhZ"
      },
      "outputs": [],
      "source": [
        "SYSTEM_PROMPT = \"\"\"\n",
        "You are a rigorous assistant answering questions.\n",
        "You must only answer based on the current information available which is:\n",
        "\n",
        "```\n",
        "{CURRENT_INFO}\n",
        "```\n",
        "\n",
        "If the current information available not enough to answer the question,\n",
        "you must return \"I need more info\" srting and nothing else:\n",
        "\n",
        "If the current information is enough to answer, you must return one of the following formats:\n",
        "- YES/NO (for boolean questions)\n",
        "- Number (for numeric questions)\n",
        "- Single letter (for multiple-choice questions)\n",
        "\"\"\""
      ]
    },
    {
      "cell_type": "code",
      "execution_count": 8,
      "metadata": {
        "id": "ObsvwlNslyhZ"
      },
      "outputs": [],
      "source": [
        "model = load_gemini_model(\"gemini-2.0-flash-exp\", system_prompt=SYSTEM_PROMPT)\n",
        "model.n = 0"
      ]
    },
    {
      "cell_type": "markdown",
      "metadata": {
        "id": "W97jWzzOlyhZ"
      },
      "source": [
        "# Run Benchmark"
      ]
    },
    {
      "cell_type": "code",
      "execution_count": null,
      "metadata": {
        "colab": {
          "base_uri": "https://localhost:8080/",
          "height": 1000
        },
        "id": "AZBwRnfjlyhZ",
        "outputId": "9ad4c6b4-063a-4ae6-b802-9e7df4d265fd"
      },
      "outputs": [],
      "source": [
        "from pathlib import Path\n",
        "from urllib.request import urlretrieve\n",
        "\n",
        "import pandas as pd\n",
        "\n",
        "\n",
        "logger.info(\"Loading input data\")\n",
        "data = pd.read_csv(\"structured_qa.csv\")\n",
        "data[\"pred_answer\"] = [None] * len(data)\n",
        "data[\"pred_section\"] = [None] * len(data)\n",
        "\n",
        "for document_link, document_data in data.groupby(\"document\"):\n",
        "    logger.info(f\"Downloading document {document_link}\")\n",
        "    downloaded_document = Path(f\"{Path(document_link).name}.pdf\")\n",
        "    if not Path(downloaded_document).exists():\n",
        "        urlretrieve(document_link, downloaded_document)\n",
        "        logger.info(f\"Downloaded {document_link} to {downloaded_document}\")\n",
        "    else:\n",
        "        logger.info(f\"File {downloaded_document} already exists\")\n",
        "\n",
        "    answers, sections = process_document_questions(\n",
        "        downloaded_document, document_data, model\n",
        "    )\n",
        "\n",
        "    for index in document_data.index:\n",
        "        data.loc[index, \"pred_answer\"] = str(answers[index]).upper()\n",
        "        data.loc[index, \"pred_section\"] = sections[index]\n",
        "\n",
        "data.to_csv(\"results.csv\")"
      ]
    },
    {
      "cell_type": "markdown",
      "metadata": {
        "id": "a9eMkW1-lyha"
      },
      "source": [
        "# Results"
      ]
    },
    {
      "cell_type": "code",
      "execution_count": 12,
      "metadata": {
        "colab": {
          "base_uri": "https://localhost:8080/",
          "height": 238
        },
        "id": "EYYJgWf6lyha",
        "outputId": "6dffada6-e5ca-4b30-bf8a-dba361486295"
      },
      "outputs": [
        {
          "data": {
            "application/vnd.google.colaboratory.intrinsic+json": {
              "summary": "{\n  \"name\": \"results\",\n  \"rows\": 6,\n  \"fields\": [\n    {\n      \"column\": \"Unnamed: 0\",\n      \"properties\": {\n        \"dtype\": \"number\",\n        \"std\": 28,\n        \"min\": 26,\n        \"max\": 90,\n        \"num_unique_values\": 6,\n        \"samples\": [\n          26,\n          28,\n          90\n        ],\n        \"semantic_type\": \"\",\n        \"description\": \"\"\n      }\n    },\n    {\n      \"column\": \"document\",\n      \"properties\": {\n        \"dtype\": \"string\",\n        \"num_unique_values\": 4,\n        \"samples\": [\n          \"https://arxiv.org/pdf/2201.11903\",\n          \"https://arxiv.org/pdf/2302.13971\",\n          \"https://authorsalliance.org/wp-content/uploads/Documents/Guides/Authors%20Alliance%20-%20Understanding%20Open%20Access.pdf\"\n        ],\n        \"semantic_type\": \"\",\n        \"description\": \"\"\n      }\n    },\n    {\n      \"column\": \"type\",\n      \"properties\": {\n        \"dtype\": \"category\",\n        \"num_unique_values\": 2,\n        \"samples\": [\n          \"Scientific Report\",\n          \"Techincal Documentation\"\n        ],\n        \"semantic_type\": \"\",\n        \"description\": \"\"\n      }\n    },\n    {\n      \"column\": \"section\",\n      \"properties\": {\n        \"dtype\": \"string\",\n        \"num_unique_values\": 6,\n        \"samples\": [\n          \"CHAPTER 5: WHERE DO YOU WANT TO MAKE YOUR WORK AVAILABLE?\",\n          \"3.1 Experimental Setup\"\n        ],\n        \"semantic_type\": \"\",\n        \"description\": \"\"\n      }\n    },\n    {\n      \"column\": \"question\",\n      \"properties\": {\n        \"dtype\": \"string\",\n        \"num_unique_values\": 6,\n        \"samples\": [\n          \"Are Gold Open Access and Green Open Access mutually exclusive.\",\n          \"How many large language models were evaluated?\"\n        ],\n        \"semantic_type\": \"\",\n        \"description\": \"\"\n      }\n    },\n    {\n      \"column\": \"answer\",\n      \"properties\": {\n        \"dtype\": \"string\",\n        \"num_unique_values\": 4,\n        \"samples\": [\n          \"5\",\n          \"20\"\n        ],\n        \"semantic_type\": \"\",\n        \"description\": \"\"\n      }\n    },\n    {\n      \"column\": \"pred_answer\",\n      \"properties\": {\n        \"dtype\": \"string\",\n        \"num_unique_values\": 5,\n        \"samples\": [\n          \"FIVE\",\n          \"NUMBER\"\n        ],\n        \"semantic_type\": \"\",\n        \"description\": \"\"\n      }\n    },\n    {\n      \"column\": \"pred_section\",\n      \"properties\": {\n        \"dtype\": \"number\",\n        \"std\": null,\n        \"min\": null,\n        \"max\": null,\n        \"num_unique_values\": 0,\n        \"samples\": [],\n        \"semantic_type\": \"\",\n        \"description\": \"\"\n      }\n    }\n  ]\n}",
              "type": "dataframe"
            },
            "text/html": [
              "\n",
              "  <div id=\"df-79d256ee-e86a-49a8-9b0c-ece9ca6952ab\" class=\"colab-df-container\">\n",
              "    <div>\n",
              "<style scoped>\n",
              "    .dataframe tbody tr th:only-of-type {\n",
              "        vertical-align: middle;\n",
              "    }\n",
              "\n",
              "    .dataframe tbody tr th {\n",
              "        vertical-align: top;\n",
              "    }\n",
              "\n",
              "    .dataframe thead th {\n",
              "        text-align: right;\n",
              "    }\n",
              "</style>\n",
              "<table border=\"1\" class=\"dataframe\">\n",
              "  <thead>\n",
              "    <tr style=\"text-align: right;\">\n",
              "      <th></th>\n",
              "      <th>Unnamed: 0</th>\n",
              "      <th>document</th>\n",
              "      <th>type</th>\n",
              "      <th>section</th>\n",
              "      <th>question</th>\n",
              "      <th>answer</th>\n",
              "      <th>pred_answer</th>\n",
              "      <th>pred_section</th>\n",
              "    </tr>\n",
              "  </thead>\n",
              "  <tbody>\n",
              "    <tr>\n",
              "      <th>26</th>\n",
              "      <td>26</td>\n",
              "      <td>https://authorsalliance.org/wp-content/uploads...</td>\n",
              "      <td>Techincal Documentation</td>\n",
              "      <td>CHAPTER 5: WHERE DO YOU WANT TO MAKE YOUR WORK...</td>\n",
              "      <td>Are Gold Open Access and Green Open Access mut...</td>\n",
              "      <td>NO</td>\n",
              "      <td>YES</td>\n",
              "      <td>NaN</td>\n",
              "    </tr>\n",
              "    <tr>\n",
              "      <th>28</th>\n",
              "      <td>28</td>\n",
              "      <td>https://arxiv.org/pdf/2201.11903</td>\n",
              "      <td>Scientific Report</td>\n",
              "      <td>3.1 Experimental Setup</td>\n",
              "      <td>How many large language models were evaluated?</td>\n",
              "      <td>5</td>\n",
              "      <td>FIVE</td>\n",
              "      <td>NaN</td>\n",
              "    </tr>\n",
              "    <tr>\n",
              "      <th>34</th>\n",
              "      <td>34</td>\n",
              "      <td>https://arxiv.org/pdf/2201.11903</td>\n",
              "      <td>Scientific Report</td>\n",
              "      <td>3.2 Results</td>\n",
              "      <td>How many random samples were examined to under...</td>\n",
              "      <td>100</td>\n",
              "      <td>50</td>\n",
              "      <td>NaN</td>\n",
              "    </tr>\n",
              "    <tr>\n",
              "      <th>68</th>\n",
              "      <td>68</td>\n",
              "      <td>https://docs.nvidia.com/cuda/pdf/CUDA_C_Progra...</td>\n",
              "      <td>Techincal Documentation</td>\n",
              "      <td>5.2. Thread Hierarchy</td>\n",
              "      <td>Can you identify a thread with a four-dimensio...</td>\n",
              "      <td>NO</td>\n",
              "      <td>I NEED MORE INFO</td>\n",
              "      <td>NaN</td>\n",
              "    </tr>\n",
              "    <tr>\n",
              "      <th>78</th>\n",
              "      <td>78</td>\n",
              "      <td>https://docs.nvidia.com/cuda/pdf/CUDA_C_Progra...</td>\n",
              "      <td>Techincal Documentation</td>\n",
              "      <td>23.1. What is Lazy Loading?</td>\n",
              "      <td>Can you enable lazy loading by setting the env...</td>\n",
              "      <td>NO</td>\n",
              "      <td>YES</td>\n",
              "      <td>NaN</td>\n",
              "    </tr>\n",
              "    <tr>\n",
              "      <th>90</th>\n",
              "      <td>90</td>\n",
              "      <td>https://arxiv.org/pdf/2302.13971</td>\n",
              "      <td>Scientific Report</td>\n",
              "      <td>2.1 Pre-training Data</td>\n",
              "      <td>How many languages did the Wikipedia data cover?</td>\n",
              "      <td>20</td>\n",
              "      <td>NUMBER</td>\n",
              "      <td>NaN</td>\n",
              "    </tr>\n",
              "  </tbody>\n",
              "</table>\n",
              "</div>\n",
              "    <div class=\"colab-df-buttons\">\n",
              "\n",
              "  <div class=\"colab-df-container\">\n",
              "    <button class=\"colab-df-convert\" onclick=\"convertToInteractive('df-79d256ee-e86a-49a8-9b0c-ece9ca6952ab')\"\n",
              "            title=\"Convert this dataframe to an interactive table.\"\n",
              "            style=\"display:none;\">\n",
              "\n",
              "  <svg xmlns=\"http://www.w3.org/2000/svg\" height=\"24px\" viewBox=\"0 -960 960 960\">\n",
              "    <path d=\"M120-120v-720h720v720H120Zm60-500h600v-160H180v160Zm220 220h160v-160H400v160Zm0 220h160v-160H400v160ZM180-400h160v-160H180v160Zm440 0h160v-160H620v160ZM180-180h160v-160H180v160Zm440 0h160v-160H620v160Z\"/>\n",
              "  </svg>\n",
              "    </button>\n",
              "\n",
              "  <style>\n",
              "    .colab-df-container {\n",
              "      display:flex;\n",
              "      gap: 12px;\n",
              "    }\n",
              "\n",
              "    .colab-df-convert {\n",
              "      background-color: #E8F0FE;\n",
              "      border: none;\n",
              "      border-radius: 50%;\n",
              "      cursor: pointer;\n",
              "      display: none;\n",
              "      fill: #1967D2;\n",
              "      height: 32px;\n",
              "      padding: 0 0 0 0;\n",
              "      width: 32px;\n",
              "    }\n",
              "\n",
              "    .colab-df-convert:hover {\n",
              "      background-color: #E2EBFA;\n",
              "      box-shadow: 0px 1px 2px rgba(60, 64, 67, 0.3), 0px 1px 3px 1px rgba(60, 64, 67, 0.15);\n",
              "      fill: #174EA6;\n",
              "    }\n",
              "\n",
              "    .colab-df-buttons div {\n",
              "      margin-bottom: 4px;\n",
              "    }\n",
              "\n",
              "    [theme=dark] .colab-df-convert {\n",
              "      background-color: #3B4455;\n",
              "      fill: #D2E3FC;\n",
              "    }\n",
              "\n",
              "    [theme=dark] .colab-df-convert:hover {\n",
              "      background-color: #434B5C;\n",
              "      box-shadow: 0px 1px 3px 1px rgba(0, 0, 0, 0.15);\n",
              "      filter: drop-shadow(0px 1px 2px rgba(0, 0, 0, 0.3));\n",
              "      fill: #FFFFFF;\n",
              "    }\n",
              "  </style>\n",
              "\n",
              "    <script>\n",
              "      const buttonEl =\n",
              "        document.querySelector('#df-79d256ee-e86a-49a8-9b0c-ece9ca6952ab button.colab-df-convert');\n",
              "      buttonEl.style.display =\n",
              "        google.colab.kernel.accessAllowed ? 'block' : 'none';\n",
              "\n",
              "      async function convertToInteractive(key) {\n",
              "        const element = document.querySelector('#df-79d256ee-e86a-49a8-9b0c-ece9ca6952ab');\n",
              "        const dataTable =\n",
              "          await google.colab.kernel.invokeFunction('convertToInteractive',\n",
              "                                                    [key], {});\n",
              "        if (!dataTable) return;\n",
              "\n",
              "        const docLinkHtml = 'Like what you see? Visit the ' +\n",
              "          '<a target=\"_blank\" href=https://colab.research.google.com/notebooks/data_table.ipynb>data table notebook</a>'\n",
              "          + ' to learn more about interactive tables.';\n",
              "        element.innerHTML = '';\n",
              "        dataTable['output_type'] = 'display_data';\n",
              "        await google.colab.output.renderOutput(dataTable, element);\n",
              "        const docLink = document.createElement('div');\n",
              "        docLink.innerHTML = docLinkHtml;\n",
              "        element.appendChild(docLink);\n",
              "      }\n",
              "    </script>\n",
              "  </div>\n",
              "\n",
              "\n",
              "<div id=\"df-e565e28a-aac7-4739-89ca-818e0ed17ada\">\n",
              "  <button class=\"colab-df-quickchart\" onclick=\"quickchart('df-e565e28a-aac7-4739-89ca-818e0ed17ada')\"\n",
              "            title=\"Suggest charts\"\n",
              "            style=\"display:none;\">\n",
              "\n",
              "<svg xmlns=\"http://www.w3.org/2000/svg\" height=\"24px\"viewBox=\"0 0 24 24\"\n",
              "     width=\"24px\">\n",
              "    <g>\n",
              "        <path d=\"M19 3H5c-1.1 0-2 .9-2 2v14c0 1.1.9 2 2 2h14c1.1 0 2-.9 2-2V5c0-1.1-.9-2-2-2zM9 17H7v-7h2v7zm4 0h-2V7h2v10zm4 0h-2v-4h2v4z\"/>\n",
              "    </g>\n",
              "</svg>\n",
              "  </button>\n",
              "\n",
              "<style>\n",
              "  .colab-df-quickchart {\n",
              "      --bg-color: #E8F0FE;\n",
              "      --fill-color: #1967D2;\n",
              "      --hover-bg-color: #E2EBFA;\n",
              "      --hover-fill-color: #174EA6;\n",
              "      --disabled-fill-color: #AAA;\n",
              "      --disabled-bg-color: #DDD;\n",
              "  }\n",
              "\n",
              "  [theme=dark] .colab-df-quickchart {\n",
              "      --bg-color: #3B4455;\n",
              "      --fill-color: #D2E3FC;\n",
              "      --hover-bg-color: #434B5C;\n",
              "      --hover-fill-color: #FFFFFF;\n",
              "      --disabled-bg-color: #3B4455;\n",
              "      --disabled-fill-color: #666;\n",
              "  }\n",
              "\n",
              "  .colab-df-quickchart {\n",
              "    background-color: var(--bg-color);\n",
              "    border: none;\n",
              "    border-radius: 50%;\n",
              "    cursor: pointer;\n",
              "    display: none;\n",
              "    fill: var(--fill-color);\n",
              "    height: 32px;\n",
              "    padding: 0;\n",
              "    width: 32px;\n",
              "  }\n",
              "\n",
              "  .colab-df-quickchart:hover {\n",
              "    background-color: var(--hover-bg-color);\n",
              "    box-shadow: 0 1px 2px rgba(60, 64, 67, 0.3), 0 1px 3px 1px rgba(60, 64, 67, 0.15);\n",
              "    fill: var(--button-hover-fill-color);\n",
              "  }\n",
              "\n",
              "  .colab-df-quickchart-complete:disabled,\n",
              "  .colab-df-quickchart-complete:disabled:hover {\n",
              "    background-color: var(--disabled-bg-color);\n",
              "    fill: var(--disabled-fill-color);\n",
              "    box-shadow: none;\n",
              "  }\n",
              "\n",
              "  .colab-df-spinner {\n",
              "    border: 2px solid var(--fill-color);\n",
              "    border-color: transparent;\n",
              "    border-bottom-color: var(--fill-color);\n",
              "    animation:\n",
              "      spin 1s steps(1) infinite;\n",
              "  }\n",
              "\n",
              "  @keyframes spin {\n",
              "    0% {\n",
              "      border-color: transparent;\n",
              "      border-bottom-color: var(--fill-color);\n",
              "      border-left-color: var(--fill-color);\n",
              "    }\n",
              "    20% {\n",
              "      border-color: transparent;\n",
              "      border-left-color: var(--fill-color);\n",
              "      border-top-color: var(--fill-color);\n",
              "    }\n",
              "    30% {\n",
              "      border-color: transparent;\n",
              "      border-left-color: var(--fill-color);\n",
              "      border-top-color: var(--fill-color);\n",
              "      border-right-color: var(--fill-color);\n",
              "    }\n",
              "    40% {\n",
              "      border-color: transparent;\n",
              "      border-right-color: var(--fill-color);\n",
              "      border-top-color: var(--fill-color);\n",
              "    }\n",
              "    60% {\n",
              "      border-color: transparent;\n",
              "      border-right-color: var(--fill-color);\n",
              "    }\n",
              "    80% {\n",
              "      border-color: transparent;\n",
              "      border-right-color: var(--fill-color);\n",
              "      border-bottom-color: var(--fill-color);\n",
              "    }\n",
              "    90% {\n",
              "      border-color: transparent;\n",
              "      border-bottom-color: var(--fill-color);\n",
              "    }\n",
              "  }\n",
              "</style>\n",
              "\n",
              "  <script>\n",
              "    async function quickchart(key) {\n",
              "      const quickchartButtonEl =\n",
              "        document.querySelector('#' + key + ' button');\n",
              "      quickchartButtonEl.disabled = true;  // To prevent multiple clicks.\n",
              "      quickchartButtonEl.classList.add('colab-df-spinner');\n",
              "      try {\n",
              "        const charts = await google.colab.kernel.invokeFunction(\n",
              "            'suggestCharts', [key], {});\n",
              "      } catch (error) {\n",
              "        console.error('Error during call to suggestCharts:', error);\n",
              "      }\n",
              "      quickchartButtonEl.classList.remove('colab-df-spinner');\n",
              "      quickchartButtonEl.classList.add('colab-df-quickchart-complete');\n",
              "    }\n",
              "    (() => {\n",
              "      let quickchartButtonEl =\n",
              "        document.querySelector('#df-e565e28a-aac7-4739-89ca-818e0ed17ada button');\n",
              "      quickchartButtonEl.style.display =\n",
              "        google.colab.kernel.accessAllowed ? 'block' : 'none';\n",
              "    })();\n",
              "  </script>\n",
              "</div>\n",
              "\n",
              "    </div>\n",
              "  </div>\n"
            ],
            "text/plain": [
              "    Unnamed: 0                                           document  \\\n",
              "26          26  https://authorsalliance.org/wp-content/uploads...   \n",
              "28          28                   https://arxiv.org/pdf/2201.11903   \n",
              "34          34                   https://arxiv.org/pdf/2201.11903   \n",
              "68          68  https://docs.nvidia.com/cuda/pdf/CUDA_C_Progra...   \n",
              "78          78  https://docs.nvidia.com/cuda/pdf/CUDA_C_Progra...   \n",
              "90          90                   https://arxiv.org/pdf/2302.13971   \n",
              "\n",
              "                       type  \\\n",
              "26  Techincal Documentation   \n",
              "28        Scientific Report   \n",
              "34        Scientific Report   \n",
              "68  Techincal Documentation   \n",
              "78  Techincal Documentation   \n",
              "90        Scientific Report   \n",
              "\n",
              "                                              section  \\\n",
              "26  CHAPTER 5: WHERE DO YOU WANT TO MAKE YOUR WORK...   \n",
              "28                             3.1 Experimental Setup   \n",
              "34                                        3.2 Results   \n",
              "68                              5.2. Thread Hierarchy   \n",
              "78                        23.1. What is Lazy Loading?   \n",
              "90                              2.1 Pre-training Data   \n",
              "\n",
              "                                             question answer  \\\n",
              "26  Are Gold Open Access and Green Open Access mut...     NO   \n",
              "28     How many large language models were evaluated?      5   \n",
              "34  How many random samples were examined to under...    100   \n",
              "68  Can you identify a thread with a four-dimensio...     NO   \n",
              "78  Can you enable lazy loading by setting the env...     NO   \n",
              "90   How many languages did the Wikipedia data cover?     20   \n",
              "\n",
              "         pred_answer  pred_section  \n",
              "26               YES           NaN  \n",
              "28              FIVE           NaN  \n",
              "34                50           NaN  \n",
              "68  I NEED MORE INFO           NaN  \n",
              "78               YES           NaN  \n",
              "90            NUMBER           NaN  "
            ]
          },
          "execution_count": 12,
          "metadata": {},
          "output_type": "execute_result"
        }
      ],
      "source": [
        "results = pd.read_csv(\"results.csv\")\n",
        "for index, result in results.iterrows():\n",
        "    if result[\"pred_answer\"].startswith(\n",
        "        (f\"-{result['answer']}\", f\"{result['answer']}\")\n",
        "    ):\n",
        "        results.loc[index, \"pred_answer\"] = result[\"answer\"]\n",
        "results.loc[results[\"answer\"] != results[\"pred_answer\"]]"
      ]
    },
    {
      "cell_type": "code",
      "execution_count": 13,
      "metadata": {
        "colab": {
          "base_uri": "https://localhost:8080/"
        },
        "id": "wfz1XQDLlyha",
        "outputId": "b60f3e7f-06d1-446f-bc4b-ff0f6f1b91ac"
      },
      "outputs": [
        {
          "data": {
            "text/plain": [
              "0.941747572815534"
            ]
          },
          "execution_count": 13,
          "metadata": {},
          "output_type": "execute_result"
        }
      ],
      "source": [
        "accuracy = sum(results[\"answer\"] == results[\"pred_answer\"]) / len(results)\n",
        "accuracy"
      ]
    }
  ],
  "metadata": {
    "colab": {
      "provenance": []
    },
    "kernelspec": {
      "display_name": ".venv",
      "language": "python",
      "name": "python3"
    },
    "language_info": {
      "name": "python",
      "version": "3.10.12"
    }
  },
  "nbformat": 4,
  "nbformat_minor": 0
}
