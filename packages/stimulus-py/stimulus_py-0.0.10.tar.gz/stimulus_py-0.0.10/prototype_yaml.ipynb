{
 "cells": [
  {
   "cell_type": "code",
   "execution_count": 159,
   "metadata": {},
   "outputs": [],
   "source": [
    "import yaml\n",
    "import pprint\n",
    "from collections import defaultdict\n",
    "from copy import deepcopy\n",
    "from dataclasses import dataclass\n",
    "\n",
    "YAML_PATH = \"tests/test_data/prot_dna_experiment/test_config.yaml\"\n",
    "\n"
   ]
  },
  {
   "cell_type": "code",
   "execution_count": 160,
   "metadata": {},
   "outputs": [
    {
     "name": "stdout",
     "output_type": "stream",
     "text": [
      "{'global_params': {'seed': 0}, 'columns': [{'column_name': 'hello', 'column_type': 'input', 'data_type': 'str', 'parsing': 'OneHotEncoder'}, {'column_name': 'bonjour', 'column_type': 'input', 'data_type': 'str', 'parsing': 'OneHotEncoder'}], 'transforms': [{'transformation_name': 'A', 'columns': [{'column_name': 'col1', 'transformations': [{'name': 'ReverseComplement', 'params': None}]}]}, {'transformation_name': 'B', 'columns': [{'column_name': 'col1', 'transformations': [{'name': 'UniformTextMasker', 'params': {'probability': [0.1, 0.2, 0.3]}}]}]}, {'transformation_name': 'C', 'columns': [{'column_name': 'col1', 'transformations': [{'name': 'ReverseComplement', 'params': None}, {'name': 'UniformTextMasker', 'params': {'probability': [0.1, 0.2, 0.3, 0.4]}}, {'name': 'GaussianNoise', 'params': {'std': [0.1, 0.2, 0.3, 0.4]}}]}, {'column_name': 'col2', 'transformations': [{'name': 'GaussianNoise', 'params': {'std': [0.1, 0.2, 0.1, 0.2]}}]}]}], 'split': [{'split_method': 'random_split', 'params': {'test_size': 0.2}}]}\n"
     ]
    }
   ],
   "source": [
    "with open(YAML_PATH, \"r\") as f:\n",
    "    data = yaml.safe_load(f)\n",
    "\n",
    "print(data)"
   ]
  },
  {
   "cell_type": "code",
   "execution_count": 161,
   "metadata": {},
   "outputs": [],
   "source": [
    "try_expand = data['transforms'][1]\n",
    "try_expand_harder = data['transforms'][2]\n"
   ]
  },
  {
   "cell_type": "code",
   "execution_count": 162,
   "metadata": {},
   "outputs": [],
   "source": [
    "@dataclass(frozen=True)\n",
    "class TransformKeys:\n",
    "    COLUMN_NAME_KEY: str = \"column_name\"\n",
    "    COLUMN_KEY: str = \"columns\"\n",
    "    NAME_KEY: str = \"name\"\n",
    "    PARAMS_KEY: str = \"params\"\n",
    "    TRANSFORMATIONS_KEY: str = \"transformations\"\n",
    "\n",
    "def get_length_of_params_dict(dict_to_split: dict) -> int:\n",
    "    \"\"\"\n",
    "    This function takes as input a dictionary and returns the length of a params keys in the nested dictionaries (assumes all lengths are equal)\n",
    "    \"\"\"\n",
    "    for column in dict_to_split[TransformKeys.COLUMN_KEY]:\n",
    "        for transformation in column[TransformKeys.TRANSFORMATIONS_KEY]:\n",
    "            if isinstance(transformation[TransformKeys.PARAMS_KEY], dict):\n",
    "                # check for lists within the params dict\n",
    "                for key, value in transformation[TransformKeys.PARAMS_KEY].items():\n",
    "                    if isinstance(value, list):\n",
    "                        # check that the list has more than one element\n",
    "                        if len(value) > 1:\n",
    "                            return len(value)\n",
    "    return 0\n",
    "\n",
    "def get_transform_base_dict(dict_to_split: dict) -> dict:\n",
    "    \"\"\"\n",
    "    This function takes as input a dictionary to expand and returns a dictionary with the params keys reset to empty dictionaries.\n",
    "    \"\"\"\n",
    "    # Create a defaultdict that will return empty string for missing keys\n",
    "    base_dict  = defaultdict(str, deepcopy(dict_to_split))\n",
    "    # Reset all the params keys in the nested dicts\n",
    "    for column in base_dict[TransformKeys.COLUMN_KEY]:\n",
    "        for transformation in column[TransformKeys.TRANSFORMATIONS_KEY]:\n",
    "            # type check that transformation[PARAM_KEY] is a dictionary\n",
    "            if isinstance(transformation[TransformKeys.PARAMS_KEY], dict):\n",
    "                transformation[TransformKeys.PARAMS_KEY] = {}\n",
    "    return dict(base_dict)\n",
    "\n",
    "def split_transform_dict(dict_to_split: dict, base_dict: dict, split_index: int) -> dict: \n",
    "    \"\"\"\n",
    "    This function takes as input a dictionary to split and returns a dictionary with a single param value.\n",
    "    \"\"\"\n",
    "\n",
    "    split_dict = deepcopy(base_dict)\n",
    "\n",
    "    for column_index, column in enumerate(dict_to_split[TransformKeys.COLUMN_KEY]):\n",
    "        for transformation_index, transformation in enumerate(column[TransformKeys.TRANSFORMATIONS_KEY]):\n",
    "            if isinstance(transformation[TransformKeys.PARAMS_KEY], dict):\n",
    "                # create a new empty dictionary that has the same keys as the transformation[PARAMS_KEY] dict \n",
    "                temp_dict = dict.fromkeys(transformation[TransformKeys.PARAMS_KEY].keys())\n",
    "                for key, value in transformation[TransformKeys.PARAMS_KEY].items():\n",
    "                    if isinstance(value, list):\n",
    "                        # check that the list has more than one element\n",
    "                        if len(value) > 1:\n",
    "                            temp_dict[key] = value[split_index]\n",
    "                        else:\n",
    "                            temp_dict[key] = value[0]\n",
    "                    else:\n",
    "                        temp_dict[key] = value\n",
    "                split_dict[TransformKeys.COLUMN_KEY][column_index][TransformKeys.TRANSFORMATIONS_KEY][transformation_index][TransformKeys.PARAMS_KEY] = temp_dict\n",
    "\n",
    "    return split_dict\n",
    "\n",
    "def get_all_transform_dicts(dict_to_split: dict) -> list[dict]:\n",
    "    \"\"\"\n",
    "    This function takes as input a dictionary to split and returns a list of dictionaries, each with a single param value.\n",
    "    \"\"\"\n",
    "    length_of_params_dict = get_length_of_params_dict(dict_to_split)\n",
    "    base_dict = get_transform_base_dict(dict_to_split)\n",
    "    transform_dicts = []\n",
    "    for i in range(length_of_params_dict):\n",
    "        transform_dicts.append(split_transform_dict(dict_to_split, base_dict, i))\n",
    "    return transform_dicts\n",
    "\n"
   ]
  },
  {
   "cell_type": "code",
   "execution_count": 163,
   "metadata": {},
   "outputs": [
    {
     "name": "stdout",
     "output_type": "stream",
     "text": [
      "{'columns': [{'column_name': 'col1',\n",
      "              'transformations': [{'name': 'ReverseComplement', 'params': None},\n",
      "                                  {'name': 'UniformTextMasker',\n",
      "                                   'params': {'probability': 0.2}},\n",
      "                                  {'name': 'GaussianNoise',\n",
      "                                   'params': {'std': 0.2}}]},\n",
      "             {'column_name': 'col2',\n",
      "              'transformations': [{'name': 'GaussianNoise',\n",
      "                                   'params': {'std': 0.2}}]}],\n",
      " 'transformation_name': 'C'}\n"
     ]
    }
   ],
   "source": [
    "\n",
    "#pprint.pprint(get_length_of_params_dict(try_expand))\n",
    "test_dict = split_transform_dict(try_expand_harder, get_transform_base_dict(try_expand_harder), 1)\n",
    "pprint.pprint(test_dict)"
   ]
  },
  {
   "cell_type": "code",
   "execution_count": 164,
   "metadata": {},
   "outputs": [
    {
     "name": "stdout",
     "output_type": "stream",
     "text": [
      "[{'columns': [{'column_name': 'col1',\n",
      "               'transformations': [{'name': 'ReverseComplement',\n",
      "                                    'params': None},\n",
      "                                   {'name': 'UniformTextMasker',\n",
      "                                    'params': {'probability': 0.1}},\n",
      "                                   {'name': 'GaussianNoise',\n",
      "                                    'params': {'std': 0.1}}]},\n",
      "              {'column_name': 'col2',\n",
      "               'transformations': [{'name': 'GaussianNoise',\n",
      "                                    'params': {'std': 0.1}}]}],\n",
      "  'transformation_name': 'C'},\n",
      " {'columns': [{'column_name': 'col1',\n",
      "               'transformations': [{'name': 'ReverseComplement',\n",
      "                                    'params': None},\n",
      "                                   {'name': 'UniformTextMasker',\n",
      "                                    'params': {'probability': 0.2}},\n",
      "                                   {'name': 'GaussianNoise',\n",
      "                                    'params': {'std': 0.2}}]},\n",
      "              {'column_name': 'col2',\n",
      "               'transformations': [{'name': 'GaussianNoise',\n",
      "                                    'params': {'std': 0.2}}]}],\n",
      "  'transformation_name': 'C'},\n",
      " {'columns': [{'column_name': 'col1',\n",
      "               'transformations': [{'name': 'ReverseComplement',\n",
      "                                    'params': None},\n",
      "                                   {'name': 'UniformTextMasker',\n",
      "                                    'params': {'probability': 0.3}},\n",
      "                                   {'name': 'GaussianNoise',\n",
      "                                    'params': {'std': 0.3}}]},\n",
      "              {'column_name': 'col2',\n",
      "               'transformations': [{'name': 'GaussianNoise',\n",
      "                                    'params': {'std': 0.1}}]}],\n",
      "  'transformation_name': 'C'},\n",
      " {'columns': [{'column_name': 'col1',\n",
      "               'transformations': [{'name': 'ReverseComplement',\n",
      "                                    'params': None},\n",
      "                                   {'name': 'UniformTextMasker',\n",
      "                                    'params': {'probability': 0.4}},\n",
      "                                   {'name': 'GaussianNoise',\n",
      "                                    'params': {'std': 0.4}}]},\n",
      "              {'column_name': 'col2',\n",
      "               'transformations': [{'name': 'GaussianNoise',\n",
      "                                    'params': {'std': 0.2}}]}],\n",
      "  'transformation_name': 'C'}]\n"
     ]
    }
   ],
   "source": [
    "pprint.pprint(get_all_transform_dicts(try_expand_harder))\n"
   ]
  },
  {
   "cell_type": "code",
   "execution_count": null,
   "metadata": {},
   "outputs": [],
   "source": []
  }
 ],
 "metadata": {
  "kernelspec": {
   "display_name": "test-stimulus-env",
   "language": "python",
   "name": "python3"
  },
  "language_info": {
   "codemirror_mode": {
    "name": "ipython",
    "version": 3
   },
   "file_extension": ".py",
   "mimetype": "text/x-python",
   "name": "python",
   "nbconvert_exporter": "python",
   "pygments_lexer": "ipython3",
   "version": "3.10.15"
  }
 },
 "nbformat": 4,
 "nbformat_minor": 2
}
